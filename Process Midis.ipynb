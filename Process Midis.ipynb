{
 "cells": [
  {
   "cell_type": "code",
   "execution_count": 1,
   "metadata": {
    "collapsed": true
   },
   "outputs": [],
   "source": [
    "import mido\n",
    "import os\n",
    "import numpy as np\n",
    "from scipy import stats\n",
    "from os import listdir\n",
    "from os.path import isfile, join\n",
    "import matplotlib.pyplot as plt\n",
    "from pylab import rcParams\n",
    "rcParams['figure.figsize'] = (12, 8)\n",
    "import time"
   ]
  },
  {
   "cell_type": "code",
   "execution_count": 5,
   "metadata": {},
   "outputs": [
    {
     "data": {
      "text/plain": [
       "['1943 (1).mid',\n",
       " '1943-lev1 (1).mid',\n",
       " '1943-lev3 (1).mid',\n",
       " '1943-Lev3Win (1).mid',\n",
       " '1943boss.mid',\n",
       " '1943boss1.mid',\n",
       " '1943BossWin.mid',\n",
       " '1943lost (1).mid',\n",
       " '1943sab (1).mid',\n",
       " '1943won.mid',\n",
       " '1999.mid',\n",
       " '3D_Worldrunner_Bonus.mid',\n",
       " '3D_Worldrunner_Boss.mid',\n",
       " '3D_Worldrunner_Main.mid',\n",
       " '43pbos1 (1).mid',\n",
       " '43pbos12 (1).mid',\n",
       " '720.mid',\n",
       " '8eyes-spain1.mid',\n",
       " '8_Eyes.mid',\n",
       " '8_Eyes_-_Enterance.mid',\n",
       " 'A-6_Ice_Fortress_2.mid',\n",
       " 'A3_cave.mid',\n",
       " 'A3_over.mid',\n",
       " 'A3_title.mid',\n",
       " 'abadoxgo.mid',\n",
       " 'abb-bgma.mid',\n",
       " 'ABBBGM-B.mid',\n",
       " 'Action52BitsandPieces.mid',\n",
       " 'Action52Cheetahmen.mid',\n",
       " 'Action52CityofDoom.mid',\n",
       " 'Action52DamBusters.mid',\n",
       " 'Action52FuzzPower.mid',\n",
       " 'ADFV_-_Battle_Theme.mid',\n",
       " 'ads_shop.mid',\n",
       " 'Adventureislandrock.mid',\n",
       " 'AdventuresOfLolo-Stage_Music.mid',\n",
       " 'Adventures_of_Bayou_Billy_BGM_A_Electric_Remix.mid',\n",
       " 'Adventure_Island_-_Level_2_-_Remix.mid',\n",
       " 'Adventure_Island_-_Underworld.mid',\n",
       " 'Adventure_Island_II-Bonus.mid',\n",
       " 'Adventure_Island_II-Caves.mid',\n",
       " 'Adventure_Island_II-Choose_an_Egg.mid',\n",
       " 'Adventure_Island_II-Congratulations!.mid',\n",
       " 'Adventure_Island_II-Credits.mid',\n",
       " 'Adventure_Island_II-Death.mid',\n",
       " 'Adventure_Island_II-Desert.mid',\n",
       " 'Adventure_Island_II-Eggplant.mid',\n",
       " 'Adventure_Island_II-Game_Over.mid',\n",
       " 'Adventure_Island_II-Goal.mid',\n",
       " 'Adventure_Island_II-Ice_Caves.mid',\n",
       " 'Adventure_Island_II-Island_Boss.mid',\n",
       " 'Adventure_Island_II-Map_Screen.mid',\n",
       " 'Adventure_Island_II-Overworld_1.mid',\n",
       " 'Adventure_Island_II-Overworld_2_(Re-upload).mid',\n",
       " 'Adventure_Island_II-Overworld_3.mid',\n",
       " 'Adventure_Island_II-Over_the_Clouds.mid',\n",
       " 'Adventure_Island_II-Skip_This_Island.mid',\n",
       " 'Adventure_Island_II-Snow_Summit_(Version_2).mid',\n",
       " 'Adventure_Island_II-Title_Screen.mid',\n",
       " 'Adventure_Island_II-UnderwaterV2.mid',\n",
       " 'Adventure_Island_II-Underworld_1.mid',\n",
       " 'Adventure_Island_II-Underworld_2.mid',\n",
       " 'Adventure_Island_II-Victory.mid',\n",
       " 'Adventure_Island_Level_1.mid',\n",
       " 'Adventure_Island_Level_2.mid',\n",
       " 'AdvislEggplant.mid',\n",
       " 'advlolo1_theme.mid',\n",
       " 'ADVMAP.mid',\n",
       " 'ADVSTORY.mid',\n",
       " 'ADVTITLE.mid',\n",
       " 'AFintro.mid',\n",
       " 'AFLanding.mid',\n",
       " 'AFLevel_1.mid',\n",
       " 'AFLevel_End.mid',\n",
       " 'AFLevel_Intro.mid',\n",
       " 'AI3-Credits.mid',\n",
       " 'AI3-FinalBoss.mid',\n",
       " 'AI3-Shipwreck.mid',\n",
       " 'AI3-Thundercloud.mid',\n",
       " 'airfortress.mid',\n",
       " 'airwolf_title.mid',\n",
       " 'AiSenshiNicolBossTheme.mid',\n",
       " 'AiSenshiNicolDungeon.mid',\n",
       " 'AiSenshiNicolStages1and4.mid',\n",
       " 'Albatros.mid',\n",
       " 'Alfred_Chicken_Level_1.mid',\n",
       " 'alien3sb.mid',\n",
       " 'alphago.mid',\n",
       " 'alphamis.mid',\n",
       " 'Amagon-Area_Clear.mid',\n",
       " 'Amagon-Boss.mid',\n",
       " 'Amagon-Death.mid',\n",
       " 'Amagon-Ending.mid',\n",
       " 'Amagon-Final_Boss.mid',\n",
       " 'Amagon-Final_Victory.mid',\n",
       " 'Amagon-Start_2.mid',\n",
       " 'Amagon-Super_Boss.mid',\n",
       " 'Amagon-Title_2.mid',\n",
       " 'Amagon-Zone_2_Jungle.mid',\n",
       " 'Amagon-Zone_3_River.mid',\n",
       " 'Amagon-Zone_4_Rain_Forest.mid',\n",
       " 'Amagon-Zone_5_-_Rocky_Mountain.mid',\n",
       " 'amagonwrld1.mid',\n",
       " 'anstyanintro.mid',\n",
       " 'ANTARending_.mid',\n",
       " 'ANTARIntro.mid',\n",
       " 'ANTARLevel_Complete.mid',\n",
       " 'ANTARLevel_Music.mid',\n",
       " 'Anticipation.mid',\n",
       " 'Anticipation10.mid',\n",
       " 'Anticipation11.mid',\n",
       " 'Anticipation12.mid',\n",
       " 'Anticipation2.mid',\n",
       " 'Anticipation3.mid',\n",
       " 'Anticipation4.mid',\n",
       " 'Anticipation5.mid',\n",
       " 'Anticipation6.mid',\n",
       " 'Anticipation7.mid',\n",
       " 'Anticipation8.mid',\n",
       " 'Anticipation9.mid',\n",
       " 'AotKT_-_The_Secret_Stage.mid',\n",
       " 'AotKT_Bomb_Disabled.mid',\n",
       " 'AotKT_TomatoFactory.mid',\n",
       " 'arcadia.mid',\n",
       " 'Arcadia_-_Green_Fields.mid',\n",
       " 'archon_battle.mid',\n",
       " 'archon_title.mid',\n",
       " 'Area-5.mid',\n",
       " 'Area2.mid',\n",
       " 'arkistas-opening.mid',\n",
       " 'armadillo_casino.mid',\n",
       " 'Astyanax-Redwood.mid',\n",
       " 'Astyanax-Remlia.mid',\n",
       " 'Astyanax1.mid',\n",
       " 'Astyanax2.mid',\n",
       " 'Astyanax3.mid',\n",
       " 'astyrem.mid',\n",
       " 'Athena-Boss.mid',\n",
       " 'Athena-Cavern.mid',\n",
       " 'Athena-Forest.mid',\n",
       " 'Athena-Hell.mid',\n",
       " 'Athena-Ice.mid',\n",
       " 'Athena-Labyrinth.mid',\n",
       " 'Athena-Over.mid',\n",
       " 'Athena-Sea.mid',\n",
       " 'Athena-Sky.mid',\n",
       " 'Athena-Start.mid',\n",
       " 'attic.mid',\n",
       " 'Attica_-_Town_of_Elyseus.mid',\n",
       " 'B-wings_Stage.mid',\n",
       " 'B2_Stage_6.mid',\n",
       " 'baddudes-stage2.mid',\n",
       " 'baddudes_train.mid',\n",
       " 'balloon.mid',\n",
       " 'Balloon_Fight-Complete.mid',\n",
       " 'Balloon_Fight_-_Game_Over_GS.mid',\n",
       " 'Balloon_Fight_-_Main_Theme_(Dancing_Balloon!_remix).mid',\n",
       " 'banana.mid',\n",
       " 'basement.mid',\n",
       " 'batman-fabric.mid',\n",
       " 'Batman-_Level_2.mid',\n",
       " 'Batman2_-_GothamInDanger.mid',\n",
       " 'Batman2_-_UrgentXG.mid',\n",
       " 'Batmango.mid',\n",
       " 'BatmanNESlvl3.mid',\n",
       " 'BatmanNESlvl4.mid',\n",
       " 'batmanreturn.mid',\n",
       " 'batmanreturn2.mid',\n",
       " 'Batman_-_Stage1XG.mid',\n",
       " 'battle.mid',\n",
       " 'Battletoads-Pause.mid',\n",
       " 'Battletoads_-_Boss.mid',\n",
       " 'battletoads_level1.mid',\n",
       " 'Battletoads_Pause_Music.mid',\n",
       " 'battletoads_turbo.mid',\n",
       " 'Battletoads_T_Tunnel_P1_SP_new.mid',\n",
       " 'Battle_Of_Olympus_Phrygia_Slow_Remix.mid',\n",
       " 'bb-Boss.mid',\n",
       " 'bb-Ending.mid',\n",
       " 'bbcc.mid',\n",
       " 'Bbccpipe.mid',\n",
       " 'Bbremiv2.mid',\n",
       " 'BBSavrik.mid',\n",
       " 'BBTechno.mid',\n",
       " 'Bbtitle2.mid',\n",
       " 'bbtitler.mid',\n",
       " 'bc5.mid',\n",
       " 'bcc1.mid',\n",
       " 'bccintro.mid',\n",
       " 'Bclvl1mg.mid',\n",
       " 'BD_Credits.mid',\n",
       " 'BEETLEJUICE.mid',\n",
       " 'bio.mid',\n",
       " 'biolev1.mid',\n",
       " 'biomap.mid',\n",
       " 'biomary.mid',\n",
       " 'bionic8.mid',\n",
       " 'BionicCommando-Area01-ArcadeArrangement.mid',\n",
       " 'Bionic_Commando.mid',\n",
       " 'Bionic_Commando_Level_Clear_Theme.mid',\n",
       " 'bioslime.mid',\n",
       " 'birthday_level3.mid',\n",
       " 'BJUICE-LEV1.mid',\n",
       " 'BlackBassIntro.mid',\n",
       " 'BlackBassName.mid',\n",
       " 'BladesofSteelGameFinished.mid',\n",
       " 'Blastar2.mid',\n",
       " 'BlasterMaster.mid',\n",
       " 'Blaster_Master-Stage_6_v2.mid',\n",
       " 'Blaster_Master_Level_3.mid',\n",
       " 'Blaster_Master_Stage_II.mid',\n",
       " 'blob.mid',\n",
       " 'blob_title.mid',\n",
       " 'bm1-st1.mid',\n",
       " 'bmas-st1.mid',\n",
       " 'bmbr2battle.mid',\n",
       " 'Bmbrm2_end.mid',\n",
       " 'bmend.mid',\n",
       " 'BMFIN.mid',\n",
       " 'bmfinal.mid',\n",
       " 'bmintro.mid',\n",
       " 'bmlevel1.mid',\n",
       " 'bmlevel2.mid',\n",
       " 'BmRoJ_Main_Theme-KM.mid',\n",
       " 'Bmstg2.mid',\n",
       " 'bmstg3.mid',\n",
       " 'bmstg3b.mid',\n",
       " 'bmstg4.mid',\n",
       " 'bmstg5.mid',\n",
       " 'bmstg6.mid',\n",
       " 'Bmstg7.mid',\n",
       " 'bmstg8.mid',\n",
       " 'bmstg8b.mid',\n",
       " 'BM_Level1mix.mid',\n",
       " 'bntcm11.mid',\n",
       " 'bntcmcave.mid',\n",
       " 'boh-blueplanet.mid',\n",
       " 'BOH-Cell.mid',\n",
       " 'BOH-comt.mid',\n",
       " 'BOH-Credits.mid',\n",
       " 'boh-redplanet.mid',\n",
       " 'BOH-RescuedCrew.mid',\n",
       " 'bohgreen.mid',\n",
       " 'bohmagna.mid',\n",
       " 'bohmap.mid',\n",
       " 'bohsslct.mid',\n",
       " 'bohtitl1.mid',\n",
       " 'bohyellow.mid',\n",
       " 'bomb2stg1.mid',\n",
       " 'Bomberman2-Powerup.mid',\n",
       " 'BomberMan2_-_Stage3.mid',\n",
       " 'bombermantitle.mid',\n",
       " 'Bomberman_II_-_Level.mid',\n",
       " 'bombr2main.mid',\n",
       " 'bombstg1.mid',\n",
       " 'bombstrt.mid',\n",
       " 'bomb_Clear.mid',\n",
       " 'Bonks_Adventure_1_1.mid',\n",
       " 'BonusGame.mid',\n",
       " 'BoS_Intermission_Mini-Game.mid',\n",
       " 'Boulder_World.mid',\n",
       " 'BTDDLvl2.mid',\n",
       " 'btdslv5surf.mid',\n",
       " 'btmnjstg.mid',\n",
       " 'Btsurf.mid',\n",
       " 'bttf-nes.mid',\n",
       " 'bttf2.mid',\n",
       " 'bttf2go.mid',\n",
       " 'bub-boss.mid',\n",
       " 'bubblebobble.mid',\n",
       " 'BubBob2_-_FinalBoss.mid',\n",
       " 'BubBob2_-_MainBGM.mid',\n",
       " 'BublBobl_RK.mid',\n",
       " 'Bubl_End.mid',\n",
       " 'Bub_Bad.mid',\n",
       " 'Bub_Invincible.mid',\n",
       " 'Bub_Monsters.mid',\n",
       " 'Bub_Secret_Remake.mid',\n",
       " 'bucky-blueplanetGS.mid',\n",
       " 'bucky-blueplanetXG.mid',\n",
       " 'bucky-escape.mid',\n",
       " 'Bucky-GreenPlanet-1.mid',\n",
       " 'bucky-redplanet.mid',\n",
       " \"bump_'n_jump.mid\",\n",
       " 'Burai_Fighter_-_Taxan.mid',\n",
       " 'Burgertime-Main.mid',\n",
       " 'BWings.mid',\n",
       " 'B_world.mid',\n",
       " 'capkid1-01.mid',\n",
       " 'capkid1-02a.mid',\n",
       " 'Castlequest_-_Death.mid',\n",
       " 'Castlequest_-_Groken_Castle.mid',\n",
       " 'Castlequest_-_Title_Screen.mid',\n",
       " 'Castlequest__-_Oxygen_Tanks.mid',\n",
       " 'CGdiskV1.1.mid',\n",
       " 'Clinger_Winger.mid',\n",
       " 'Crete_-_The_Island_Maze.mid',\n",
       " 'cy_bucky_o_hare_green_planet_v_1_0.mid',\n",
       " 'DarkForest.mid',\n",
       " 'Egypt.mid',\n",
       " 'elmst.mid',\n",
       " 'elm_street_metal.mid',\n",
       " 'Enc.mid',\n",
       " \"Ending_Theme_-_Let's_Return.mid\",\n",
       " 'freddy!.mid',\n",
       " 'Game_Over1.mid',\n",
       " 'GREMLIA.mid',\n",
       " 'icecavern.mid',\n",
       " 'Ice_World.mid',\n",
       " 'Illuminator.mid',\n",
       " 'Inside.mid',\n",
       " 'JDC_BTLvl03B.mid',\n",
       " 'Laconia.mid',\n",
       " 'Laconia_-_Where_Land_Ends.mid',\n",
       " 'Laconia_2.mid',\n",
       " 'Level-1.mid',\n",
       " 'Level_8_-_Intruder_Excluder.mid',\n",
       " 'lollipop.mid',\n",
       " 'lollipop2.mid',\n",
       " 'Lolo.mid',\n",
       " 'Lolo1lvl.mid',\n",
       " 'Lolo2clr.mid',\n",
       " 'lolo2ending.mid',\n",
       " 'Lolo2lvl.mid',\n",
       " 'Lolo2pw.mid',\n",
       " 'LOLO3BOS.mid',\n",
       " 'lolo3lev.mid',\n",
       " 'Lolo3lvl.mid',\n",
       " 'LoseLife.mid',\n",
       " 'megalonia.mid',\n",
       " 'MKAUTO.mid',\n",
       " 'mkhaunted.mid',\n",
       " 'MKHHOUSE.mid',\n",
       " 'MKMINE.mid',\n",
       " 'MKPIRATE.mid',\n",
       " 'MKSPACE.mid',\n",
       " 'MKTITLE.mid',\n",
       " 'MKWORLD.mid',\n",
       " 'nes-alien3_level01.mid',\n",
       " 'NES__Bionic_Commando__Final_Boss_-_Albatross_Theme__2.mid',\n",
       " 'Nmoes1.mid',\n",
       " 'nmoes2.mid',\n",
       " 'nmoes3.mid',\n",
       " 'Nonhuman1.mid',\n",
       " 'Ocean_World.mid',\n",
       " 'OLskyhawkbase.mid',\n",
       " 'OLskyhawkdock.mid',\n",
       " 'OLskyhawkmission.mid',\n",
       " 'OLskyhawkname.mid',\n",
       " 'OLskyhawktitle.mid',\n",
       " 'olymp.mid',\n",
       " 'olympus.mid',\n",
       " 'olympus1.mid',\n",
       " 'olymp_2.mid',\n",
       " 'olymp_hero.mid',\n",
       " 'palace2.mid',\n",
       " 'palace3.mid',\n",
       " 'Peloponnesus.mid',\n",
       " 'peloponnes_-_dark_and_beautiful.mid',\n",
       " 'Phithia.mid',\n",
       " 'Phitia_-_The_Golden_Apple.mid',\n",
       " 'Phrygia.mid',\n",
       " 'Phrygia_-_Searching_the_Moon_Ball.mid',\n",
       " 'Phthia.mid',\n",
       " 'Pommy.mid',\n",
       " 'PowerUp.mid',\n",
       " 'Ratrace.mid',\n",
       " 'Relic_World.mid',\n",
       " 'REMLIA.mid',\n",
       " 'Ride_with_Pegasus_&_Enter_your_Name.mid',\n",
       " 'RocketjockA52.mid',\n",
       " 'RoundComplete.mid',\n",
       " 'Sand_World.mid',\n",
       " 'Snake_Pit.mid',\n",
       " 'Stage1.mid',\n",
       " 'Stage2.mid',\n",
       " 'Stage4.mid',\n",
       " 'Stage5.mid',\n",
       " 'Stage6.mid',\n",
       " 'Stage_4.mid',\n",
       " 'Stage_6.mid',\n",
       " 'Stage_7.mid',\n",
       " 'Star_Evil.mid',\n",
       " 'stonestage.mid',\n",
       " 'Story.mid',\n",
       " 'Tartarus_-_Battle_with_Hades.mid',\n",
       " 'The_Map_-_Face_your_destiny.mid',\n",
       " 'The_Revolution.mid',\n",
       " 'The_Underworld_&_Hades_Castle.mid',\n",
       " 'thrusters.mid',\n",
       " 'TitleScreen.mid',\n",
       " 'T_ArumanaNoKiseki_Caverns.mid',\n",
       " 'T_Batman_Stage1-1.mid',\n",
       " 'T_Batman_Stage2-1.mid',\n",
       " 'T_BionicCommando_AlbatrossTheme.mid',\n",
       " 'T_BionicCommando_Area2.mid',\n",
       " 'T_BionicCommando_BossBattle.mid',\n",
       " 'T_BionicCommando_BossDialog.mid',\n",
       " 'T_BionicCommando_Encounter.mid',\n",
       " 'T_BionicCommando_FinalArea.mid',\n",
       " 'T_BionicCommando_Prologue1.mid',\n",
       " 'T_BionicCommando_Prologue3.mid',\n",
       " 'T_CaptainAmerica_CharSelect.mid',\n",
       " 't_ct2.mid',\n",
       " 't_ct3.mid',\n",
       " 't_ct4.mid',\n",
       " 't_ct6.mid',\n",
       " 't_ct7.mid',\n",
       " 't_ctint2.mid',\n",
       " 't_ctmenu.mid',\n",
       " 'T_Ryga10.mid',\n",
       " 'T_Ryga11.mid',\n",
       " 'T_Ryga12.mid',\n",
       " 'T_Ryga13.mid',\n",
       " 'T_Ryga14.mid',\n",
       " 'T_Ryga15.mid',\n",
       " 'T_Rygar1.mid',\n",
       " 'T_Rygar2.mid',\n",
       " 'T_Rygar3.mid',\n",
       " 'T_Rygar4.mid',\n",
       " 'T_Rygar5.mid',\n",
       " 'T_Rygar7.mid',\n",
       " 'T_Rygar8.mid',\n",
       " 'T_Rygar9.mid',\n",
       " 'T_Tsub11.mid',\n",
       " 'T_Tsub14.mid',\n",
       " 'T_Tsub16.mid',\n",
       " 'T_Tsub17.mid',\n",
       " 'T_Tsub18.mid',\n",
       " 'T_Tsub19.mid',\n",
       " 'T_Tsub20.mid',\n",
       " 'T_Tsub21.mid',\n",
       " 'T_Tsub22.mid',\n",
       " 'T_Tsub23.mid',\n",
       " 'T_Tsub24.mid',\n",
       " 'T_Tsub25.mid',\n",
       " 'T_Tsub26.mid',\n",
       " 'T_Tsub27.mid',\n",
       " 'T_Tsub28.mid',\n",
       " 'T_Tsub29.mid',\n",
       " 'T_Tsub30.mid',\n",
       " 'T_Tsuba0.mid',\n",
       " 'T_Tsuba1.mid',\n",
       " 'T_Tsuba2.mid',\n",
       " 'T_Tsuba3.mid',\n",
       " 'T_Tsuba4.mid',\n",
       " 'T_Tsuba5.mid',\n",
       " 'T_Tsuba6.mid',\n",
       " 'T_Tsuba7.mid',\n",
       " 'T_Tsuba9.mid',\n",
       " 'T_Tsubasa2_NihonAllStarTheme.mid',\n",
       " 'Volcano_World.mid',\n",
       " 'wakeup!!.mid',\n",
       " 'wookie.mid',\n",
       " 'XkyFlyDisk.mid',\n",
       " 'Xky_LoloStage.mid',\n",
       " 'zzz.mid']"
      ]
     },
     "execution_count": 5,
     "metadata": {},
     "output_type": "execute_result"
    }
   ],
   "source": [
    "path = 'midis/'\n",
    "midi_file_paths = [f for f in listdir(path) if isfile(join(path, f))]\n",
    "midi_file_paths"
   ]
  },
  {
   "cell_type": "code",
   "execution_count": 7,
   "metadata": {
    "collapsed": true
   },
   "outputs": [],
   "source": [
    "output_path = 'midis_processed/'"
   ]
  },
  {
   "cell_type": "markdown",
   "metadata": {},
   "source": [
    "# Create Midi objects"
   ]
  },
  {
   "cell_type": "code",
   "execution_count": 24,
   "metadata": {},
   "outputs": [
    {
     "name": "stdout",
     "output_type": "stream",
     "text": [
      "0\n",
      "20\n",
      "40\n",
      "60\n",
      "80\n",
      "100\n",
      "120\n",
      "140\n",
      "160\n",
      "180\n",
      "200\n",
      "220\n",
      "240\n",
      "260\n",
      "280\n",
      "300\n",
      "320\n",
      "340\n",
      "360\n",
      "380\n",
      "400\n",
      "420\n",
      "440\n",
      "Took 41.747092723846436s\n"
     ]
    }
   ],
   "source": [
    "start = time.time()\n",
    "\n",
    "i = 0\n",
    "midi_files = []\n",
    "for midi_file_path in midi_files_paths:\n",
    "    mid = mido.MidiFile(path + midi_file_path)\n",
    "    midi_files.append(mid)\n",
    "    \n",
    "    if midi_file_paths.index(midi_file_path)%20 == 0: print(midi_file_paths.index(midi_file_path))\n",
    "    \n",
    "print('Took ' + str(time.time()-start) + 's')"
   ]
  },
  {
   "cell_type": "markdown",
   "metadata": {},
   "source": [
    "# Process midi objects"
   ]
  },
  {
   "cell_type": "code",
   "execution_count": 197,
   "metadata": {},
   "outputs": [
    {
     "data": {
      "text/plain": [
       "'3D_Worldrunner_Boss.mid'"
      ]
     },
     "execution_count": 197,
     "metadata": {},
     "output_type": "execute_result"
    }
   ],
   "source": [
    "i = 12\n",
    "midi_file = midi_files[i]\n",
    "midi_file_name = midi_file_paths[i]\n",
    "midi_file_name"
   ]
  },
  {
   "cell_type": "code",
   "execution_count": 189,
   "metadata": {},
   "outputs": [
    {
     "data": {
      "text/plain": [
       "[<midi track '' 2 messages>,\n",
       " <midi track 'Made By' 525 messages>,\n",
       " <midi track 'Electric' 815 messages>,\n",
       " <midi track 'Concerto' 815 messages>]"
      ]
     },
     "execution_count": 189,
     "metadata": {},
     "output_type": "execute_result"
    }
   ],
   "source": [
    "midi_file.tracks"
   ]
  },
  {
   "cell_type": "code",
   "execution_count": 190,
   "metadata": {},
   "outputs": [
    {
     "data": {
      "text/plain": [
       "[<midi track 'Made By' 525 messages>,\n",
       " <midi track 'Electric' 815 messages>,\n",
       " <midi track 'Concerto' 815 messages>]"
      ]
     },
     "execution_count": 190,
     "metadata": {},
     "output_type": "execute_result"
    }
   ],
   "source": [
    "# Take tracks with greater than 50 messages\n",
    "\n",
    "tracks = [x for x in midi_file.tracks if len(x) > 50]\n",
    "tracks"
   ]
  },
  {
   "cell_type": "code",
   "execution_count": 180,
   "metadata": {},
   "outputs": [
    {
     "data": {
      "text/plain": [
       "array([ 41.72727273,  70.97916667,  43.375     ])"
      ]
     },
     "execution_count": 180,
     "metadata": {},
     "output_type": "execute_result"
    }
   ],
   "source": [
    "# Average note of each track\n",
    "\n",
    "average_notes = np.array([np.mean([x.note for x in track if x.type == 'note_on']) for track in tracks])\n",
    "average_notes"
   ]
  },
  {
   "cell_type": "code",
   "execution_count": 181,
   "metadata": {},
   "outputs": [
    {
     "data": {
      "text/plain": [
       "[<midi track 'Electric' 815 messages>,\n",
       " <midi track 'Concerto' 815 messages>,\n",
       " <midi track 'Made By' 525 messages>]"
      ]
     },
     "execution_count": 181,
     "metadata": {},
     "output_type": "execute_result"
    }
   ],
   "source": [
    "# Sort tracks from highest to lowest\n",
    "\n",
    "tracks.sort(key=lambda track:-np.mean([x.note for x in track if x.type == 'note_on'])) # sort by average note\n",
    "tracks"
   ]
  },
  {
   "cell_type": "code",
   "execution_count": 191,
   "metadata": {},
   "outputs": [
    {
     "data": {
      "text/plain": [
       "[<midi track 'Made By' 525 messages>,\n",
       " <midi track 'Electric' 815 messages>,\n",
       " <midi track 'Concerto' 815 messages>]"
      ]
     },
     "execution_count": 191,
     "metadata": {},
     "output_type": "execute_result"
    }
   ],
   "source": [
    "# Sample 4 tracks\n",
    "if (len(tracks) < 4):\n",
    "    new_tracks = tracks\n",
    "else:\n",
    "    new_tracks = [tracks[0], tracks[len(tracks)//3], tracks[2*len(tracks)//3], tracks[len(tracks)-1]]\n",
    "new_tracks"
   ]
  },
  {
   "cell_type": "markdown",
   "metadata": {},
   "source": [
    "# Create new midi object"
   ]
  },
  {
   "cell_type": "code",
   "execution_count": 205,
   "metadata": {},
   "outputs": [],
   "source": [
    "new_midi_file = mido.MidiFile()"
   ]
  },
  {
   "cell_type": "code",
   "execution_count": 208,
   "metadata": {},
   "outputs": [
    {
     "data": {
      "text/plain": [
       "[<midi track '' 2 messages>,\n",
       " <midi track 'Made By' 525 messages>,\n",
       " <midi track 'Electric' 815 messages>,\n",
       " <midi track 'Concerto' 815 messages>]"
      ]
     },
     "execution_count": 208,
     "metadata": {},
     "output_type": "execute_result"
    }
   ],
   "source": [
    "new_midi_file.ticks_per_beat = midi_file.ticks_per_beat # update tempo\n",
    "new_midi_file.tracks = [midi_file.tracks[0]] + new_tracks # midi_file.track[0] contains (important?) metadata\n",
    "new_midi_file.tracks"
   ]
  },
  {
   "cell_type": "markdown",
   "metadata": {},
   "source": [
    "# Save to file"
   ]
  },
  {
   "cell_type": "code",
   "execution_count": 207,
   "metadata": {
    "collapsed": true
   },
   "outputs": [],
   "source": [
    "new_midi_file.save(output_path + midi_file_name)"
   ]
  },
  {
   "cell_type": "markdown",
   "metadata": {},
   "source": [
    "# Do for all files"
   ]
  },
  {
   "cell_type": "code",
   "execution_count": 211,
   "metadata": {},
   "outputs": [
    {
     "name": "stderr",
     "output_type": "stream",
     "text": [
      "C:\\Users\\johnm\\Anaconda3\\lib\\site-packages\\numpy\\core\\fromnumeric.py:2909: RuntimeWarning: Mean of empty slice.\n",
      "  out=out, **kwargs)\n",
      "C:\\Users\\johnm\\Anaconda3\\lib\\site-packages\\numpy\\core\\_methods.py:80: RuntimeWarning: invalid value encountered in double_scalars\n",
      "  ret = ret.dtype.type(ret / rcount)\n"
     ]
    },
    {
     "name": "stdout",
     "output_type": "stream",
     "text": [
      "Balloon_Fight_-_Main_Theme_(Dancing_Balloon!_remix).mid error\n"
     ]
    }
   ],
   "source": [
    "for i in range(len(midi_files)):\n",
    "    try:\n",
    "        midi_file = midi_files[i]\n",
    "        midi_file_name = midi_file_paths[i]\n",
    "\n",
    "        # Take tracks with greater than 50 messages\n",
    "        tracks = [x for x in midi_file.tracks if len(x) > 50]\n",
    "\n",
    "        # Sort tracks from highest to lowest\n",
    "        tracks.sort(key=lambda track:-np.mean([x.note for x in track if x.type == 'note_on'])) # sort by average note\n",
    "\n",
    "        # Sample 4 tracks\n",
    "        if (len(tracks) < 4):\n",
    "            new_tracks = tracks\n",
    "        else:\n",
    "            new_tracks = [tracks[0], tracks[len(tracks)//3], tracks[2*len(tracks)//3], tracks[len(tracks)-1]]\n",
    "\n",
    "        # Create new midi file\n",
    "        new_midi_file = mido.MidiFile()\n",
    "        new_midi_file.ticks_per_beat = midi_file.ticks_per_beat # update tempo\n",
    "        new_midi_file.tracks = [midi_file.tracks[0]] + new_tracks\n",
    "        new_midi_file.save(output_path + midi_file_name)\n",
    "    except:\n",
    "        print(\"Error:\", midi_file_paths[i])"
   ]
  }
 ],
 "metadata": {
  "kernelspec": {
   "display_name": "Python 3",
   "language": "python",
   "name": "python3"
  },
  "language_info": {
   "codemirror_mode": {
    "name": "ipython",
    "version": 3
   },
   "file_extension": ".py",
   "mimetype": "text/x-python",
   "name": "python",
   "nbconvert_exporter": "python",
   "pygments_lexer": "ipython3",
   "version": "3.6.2"
  }
 },
 "nbformat": 4,
 "nbformat_minor": 2
}
