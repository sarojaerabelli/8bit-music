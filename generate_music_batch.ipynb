{
 "cells": [
  {
   "cell_type": "code",
   "execution_count": 1,
   "metadata": {
    "collapsed": true
   },
   "outputs": [],
   "source": [
    "import mido\n",
    "import os\n",
    "import numpy as np\n",
    "from scipy import stats\n",
    "from os import listdir\n",
    "from os.path import isfile, join\n",
    "import tensorflow as tf\n",
    "from tensorflow.contrib import rnn\n",
    "import time\n",
    "\n",
    "import matplotlib.pyplot as plt\n",
    "from pylab import rcParams\n",
    "rcParams['figure.figsize'] = (12, 8)"
   ]
  },
  {
   "cell_type": "code",
   "execution_count": 2,
   "metadata": {
    "collapsed": true
   },
   "outputs": [],
   "source": [
    "TICKS_PER_BEAT = 480\n",
    "TEMPO = int(mido.bpm2tempo(120))"
   ]
  },
  {
   "cell_type": "code",
   "execution_count": 3,
   "metadata": {
    "collapsed": true
   },
   "outputs": [],
   "source": [
    "%run get_training_data.py"
   ]
  },
  {
   "cell_type": "markdown",
   "metadata": {},
   "source": [
    "### Create training data"
   ]
  },
  {
   "cell_type": "code",
   "execution_count": 4,
   "metadata": {
    "collapsed": true
   },
   "outputs": [],
   "source": [
    "N_VALIDATION_SET = 100"
   ]
  },
  {
   "cell_type": "code",
   "execution_count": 12,
   "metadata": {},
   "outputs": [
    {
     "data": {
      "text/plain": [
       "1120"
      ]
     },
     "execution_count": 12,
     "metadata": {},
     "output_type": "execute_result"
    }
   ],
   "source": [
    "vocab_size = 2*NUM_TRACKS*NUM_MIDI_PITCHES + NUM_TIMESHIFTS\n",
    "vocab_size"
   ]
  },
  {
   "cell_type": "code",
   "execution_count": 11,
   "metadata": {
    "scrolled": true
   },
   "outputs": [
    {
     "name": "stdout",
     "output_type": "stream",
     "text": [
      " > 25/450 files loaded.\n",
      "Training data too short: Adventure_Island_II-Death.mid. len(vector)=0\n",
      "Training data too short: Adventure_Island_II-Eggplant.mid. len(vector)=0\n",
      "Training data too short: Adventure_Island_II-Game_Over.mid. len(vector)=0\n",
      "Training data too short: Adventure_Island_II-Goal.mid. len(vector)=0\n",
      " > 50/450 files loaded.\n",
      "Training data too short: Adventure_Island_II-Victory.mid. len(vector)=0\n",
      " > 75/450 files loaded.\n",
      "Training data too short: alien3sb.mid. len(vector)=0\n",
      "Training data too short: alphago.mid. len(vector)=0\n",
      "Training data too short: Amagon-Death.mid. len(vector)=0\n",
      "Training data too short: Amagon-Start_2.mid. len(vector)=0\n",
      " > 100/450 files loaded.\n",
      "Training data too short: ANTARLevel_Complete.mid. len(vector)=84\n",
      "Training data too short: Anticipation8.mid. len(vector)=0\n",
      "Training data too short: AotKT_Bomb_Disabled.mid. len(vector)=0\n",
      " > 125/450 files loaded.\n",
      "Training data too short: Athena-Over.mid. len(vector)=0\n",
      " > 150/450 files loaded.\n",
      "Training data too short: Balloon_Fight-Complete.mid. len(vector)=0\n",
      "Faulty training data: Balloon_Fight_-_Main_Theme_(Dancing_Balloon!_remix).mid. len(vector)=161\n",
      "Training data too short: Battletoads_Pause_Music.mid. len(vector)=0\n",
      " > 175/450 files loaded.\n",
      " > 200/450 files loaded.\n",
      " > 225/450 files loaded.\n",
      " > 250/450 files loaded.\n",
      "Training data too short: bomb_Clear.mid. len(vector)=0\n",
      "Training data too short: bttf2go.mid. len(vector)=37\n",
      " > 275/450 files loaded.\n",
      "Training data too short: capkid1-01.mid. len(vector)=0\n",
      "Training data too short: Castlequest_-_Death.mid. len(vector)=0\n",
      "Training data too short: Game_Over1.mid. len(vector)=0\n",
      " > 300/450 files loaded.\n",
      "Training data too short: Lolo2clr.mid. len(vector)=0\n",
      "Training data too short: LoseLife.mid. len(vector)=0\n",
      " > 325/450 files loaded.\n",
      " > 350/450 files loaded.\n",
      " > 375/450 files loaded.\n",
      " > 400/450 files loaded.\n",
      "Training data too short: T_Ryga11.mid. len(vector)=0\n",
      "Training data too short: T_Ryga12.mid. len(vector)=0\n",
      " > 425/450 files loaded.\n",
      " > 450/450 files loaded.\n"
     ]
    }
   ],
   "source": [
    "# Set num training examples here. Note: actual number will be less, since some have errors\n",
    "training_data, training_data_labels = get_training_data(0, 450)"
   ]
  },
  {
   "cell_type": "code",
   "execution_count": 13,
   "metadata": {
    "collapsed": true
   },
   "outputs": [],
   "source": [
    "validation_data = training_data[:N_VALIDATION_SET]\n",
    "validation_data_labels = training_data_labels[:N_VALIDATION_SET]\n",
    "training_data = training_data[N_VALIDATION_SET:]\n",
    "training_data_labels = training_data_labels[N_VALIDATION_SET:]"
   ]
  },
  {
   "cell_type": "code",
   "execution_count": 14,
   "metadata": {
    "scrolled": true
   },
   "outputs": [
    {
     "name": "stdout",
     "output_type": "stream",
     "text": [
      "Number of training examples: 325\n"
     ]
    },
    {
     "data": {
      "text/plain": [
       "['Anticipation3.mid',\n",
       " 'Anticipation4.mid',\n",
       " 'Anticipation5.mid',\n",
       " 'Anticipation6.mid',\n",
       " 'Anticipation7.mid',\n",
       " 'Anticipation9.mid',\n",
       " 'AotKT_-_The_Secret_Stage.mid']"
      ]
     },
     "execution_count": 14,
     "metadata": {},
     "output_type": "execute_result"
    }
   ],
   "source": [
    "print(\"Number of training examples:\", len(training_data))\n",
    "training_data_labels[:7]"
   ]
  },
  {
   "cell_type": "code",
   "execution_count": 19,
   "metadata": {},
   "outputs": [
    {
     "data": {
      "text/plain": [
       "(296,)"
      ]
     },
     "execution_count": 19,
     "metadata": {},
     "output_type": "execute_result"
    }
   ],
   "source": [
    "training_data[0].shape"
   ]
  },
  {
   "cell_type": "markdown",
   "metadata": {},
   "source": [
    "#### Transpose data to create more data"
   ]
  },
  {
   "cell_type": "code",
   "execution_count": 24,
   "metadata": {
    "collapsed": true
   },
   "outputs": [],
   "source": [
    "def transpose_midi(training_example, transpose):\n",
    "    notes_transpose = training_example + transpose\n",
    "    outofbounds_mask = (notes_transpose%NUM_MIDI_PITCHES-transpose <= 0) | (notes_transpose%NUM_MIDI_PITCHES-transpose >= 128) # find notes were transposed to different tracks\n",
    "    notes_transpose -= 12*np.sign(transpose) * outofbounds_mask\n",
    "    time_mask = training_example >= 1024\n",
    "    notes_transpose = (1-time_mask)*notes_transpose + time_mask*training_example # so we don't transpose time duration 1-hot vectors\n",
    "    return notes_transpose"
   ]
  },
  {
   "cell_type": "code",
   "execution_count": 25,
   "metadata": {
    "scrolled": true
   },
   "outputs": [
    {
     "name": "stdout",
     "output_type": "stream",
     "text": [
      "> 0/2600 transposed\n",
      "> 50/2600 transposed\n",
      "> 100/2600 transposed\n",
      "> 150/2600 transposed\n",
      "> 200/2600 transposed\n",
      "> 250/2600 transposed\n",
      "> 300/2600 transposed\n",
      "> 350/2600 transposed\n",
      "> 400/2600 transposed\n",
      "> 450/2600 transposed\n",
      "> 500/2600 transposed\n",
      "> 550/2600 transposed\n",
      "> 600/2600 transposed\n",
      "> 650/2600 transposed\n",
      "> 700/2600 transposed\n",
      "> 750/2600 transposed\n",
      "> 800/2600 transposed\n",
      "> 850/2600 transposed\n",
      "> 900/2600 transposed\n",
      "> 950/2600 transposed\n",
      "> 1000/2600 transposed\n",
      "> 1050/2600 transposed\n",
      "> 1100/2600 transposed\n",
      "> 1150/2600 transposed\n",
      "> 1200/2600 transposed\n",
      "> 1250/2600 transposed\n",
      "> 1300/2600 transposed\n",
      "> 1350/2600 transposed\n",
      "> 1400/2600 transposed\n",
      "> 1450/2600 transposed\n",
      "> 1500/2600 transposed\n",
      "> 1550/2600 transposed\n",
      "> 1600/2600 transposed\n",
      "> 1650/2600 transposed\n",
      "> 1700/2600 transposed\n",
      "> 1750/2600 transposed\n",
      "> 1800/2600 transposed\n",
      "> 1850/2600 transposed\n",
      "> 1900/2600 transposed\n",
      "> 1950/2600 transposed\n",
      "> 2000/2600 transposed\n",
      "> 2050/2600 transposed\n",
      "> 2100/2600 transposed\n",
      "> 2150/2600 transposed\n",
      "> 2200/2600 transposed\n",
      "> 2250/2600 transposed\n",
      "> 2300/2600 transposed\n",
      "> 2350/2600 transposed\n",
      "> 2400/2600 transposed\n",
      "> 2450/2600 transposed\n",
      "> 2500/2600 transposed\n",
      "> 2550/2600 transposed\n"
     ]
    }
   ],
   "source": [
    "transposed_training_data = []\n",
    "transpose_keys = [-4, -3, -2, 1, 1, 2, 3, 4]\n",
    "for transpose in transpose_keys: # transpose up and down up to a major third\n",
    "    for data in training_data:\n",
    "        transposed_training_data.append(transpose_midi(data, transpose))\n",
    "training_data = np.array(list(training_data) + transposed_training_data)"
   ]
  },
  {
   "cell_type": "code",
   "execution_count": 27,
   "metadata": {},
   "outputs": [
    {
     "name": "stdout",
     "output_type": "stream",
     "text": [
      "Number of training examples: 2925\n"
     ]
    }
   ],
   "source": [
    "print(\"Number of training examples:\", len(training_data))"
   ]
  },
  {
   "cell_type": "markdown",
   "metadata": {},
   "source": [
    "### Parameters"
   ]
  },
  {
   "cell_type": "code",
   "execution_count": 28,
   "metadata": {
    "collapsed": true
   },
   "outputs": [],
   "source": [
    "'''# Parameters\n",
    "batch_size = 10\n",
    "learning_rate = 0.001\n",
    "training_iters = 50000\n",
    "n_input = 64\n",
    "display_step = 200\n",
    "\n",
    "# number of units in RNN cell\n",
    "n_hidden = 512\n",
    "n_layers = 2\n",
    "'''\n",
    "\n",
    "# Parameters\n",
    "batch_size = 10\n",
    "learning_rate = 0.001\n",
    "training_iters = 50000\n",
    "n_input = 80\n",
    "display_step = 50\n",
    "validation_step = 10 # every <validation_step> steps, we calculate validation error\n",
    "\n",
    "# number of units in RNN cell\n",
    "n_hidden = 200\n",
    "n_layers = 2"
   ]
  },
  {
   "cell_type": "markdown",
   "metadata": {},
   "source": [
    "### Create tensor flow graph"
   ]
  },
  {
   "cell_type": "code",
   "execution_count": 29,
   "metadata": {
    "collapsed": true
   },
   "outputs": [],
   "source": [
    "# tf Graph input\n",
    "x = tf.placeholder(\"float\", [batch_size, n_input, vocab_size])\n",
    "y = tf.placeholder(\"int32\", [batch_size, n_input])\n",
    "\n",
    "# RNN output node weights and biases\n",
    "softmax_w = tf.Variable(tf.random_normal([n_hidden, vocab_size]))\n",
    "softmax_b = tf.Variable(tf.random_normal([vocab_size]))\n",
    "\n",
    "max_grad_norm = 5"
   ]
  },
  {
   "cell_type": "code",
   "execution_count": 30,
   "metadata": {
    "collapsed": true
   },
   "outputs": [],
   "source": [
    "# tf Graph validation input\n",
    "x_validation = tf.placeholder(\"float\", [N_VALIDATION_SET, n_input, vocab_size])\n",
    "y_validation = tf.placeholder(\"int32\", [N_VALIDATION_SET, n_input])"
   ]
  },
  {
   "cell_type": "code",
   "execution_count": 31,
   "metadata": {
    "collapsed": true
   },
   "outputs": [],
   "source": [
    "# tf Graph generative input\n",
    "x_generation = tf.placeholder(\"float\", [1, vocab_size])"
   ]
  },
  {
   "cell_type": "code",
   "execution_count": 32,
   "metadata": {
    "collapsed": true
   },
   "outputs": [],
   "source": [
    "rnn_cell = rnn.MultiRNNCell([rnn.BasicLSTMCell(n_hidden) for _ in range(n_layers)])"
   ]
  },
  {
   "cell_type": "code",
   "execution_count": 33,
   "metadata": {
    "collapsed": true
   },
   "outputs": [],
   "source": [
    "# Training output\n",
    "x_split = tf.unstack(x, n_input, 1)\n",
    "outputs, states = rnn.static_rnn(rnn_cell, x_split, dtype=tf.float32)\n",
    "logits = [tf.nn.xw_plus_b(output, softmax_w, softmax_b) for output in outputs]\n",
    "logits = tf.reshape(tf.split(tf.reshape(logits, [n_input, batch_size, vocab_size]), batch_size, 1), \n",
    "                    [batch_size, n_input, vocab_size])"
   ]
  },
  {
   "cell_type": "code",
   "execution_count": 34,
   "metadata": {
    "collapsed": true
   },
   "outputs": [],
   "source": [
    "# Training loss\n",
    "loss = tf.contrib.seq2seq.sequence_loss(logits, y, weights=tf.ones([batch_size, n_input], dtype=tf.float32), # check this\n",
    "                                        average_across_timesteps=True, average_across_batch=True)\n",
    "cost = tf.reduce_sum(loss)\n",
    "optimizer = tf.train.RMSPropOptimizer(learning_rate=learning_rate).minimize(cost)"
   ]
  },
  {
   "cell_type": "code",
   "execution_count": 35,
   "metadata": {
    "collapsed": true
   },
   "outputs": [],
   "source": [
    "# Validation output\n",
    "x_validation_split = tf.unstack(x_validation, n_input, 1)\n",
    "outputs_validation, states_validation = rnn.static_rnn(rnn_cell, x_validation_split, dtype=tf.float32)\n",
    "logits_validation = [tf.nn.xw_plus_b(output, softmax_w, softmax_b) for output in outputs_validation]\n",
    "logits_validation = tf.reshape(tf.split(tf.reshape(logits_validation, [n_input, N_VALIDATION_SET, vocab_size]), N_VALIDATION_SET, 1), \n",
    "                               [N_VALIDATION_SET, n_input, vocab_size])"
   ]
  },
  {
   "cell_type": "code",
   "execution_count": 36,
   "metadata": {
    "collapsed": true
   },
   "outputs": [],
   "source": [
    "# Training loss\n",
    "loss_validation = tf.contrib.seq2seq.sequence_loss(logits_validation, y_validation, weights=tf.ones([N_VALIDATION_SET, n_input], dtype=tf.float32), # check this\n",
    "                                        average_across_timesteps=True, average_across_batch=True)\n",
    "cost_validation = tf.reduce_sum(loss_validation)"
   ]
  },
  {
   "cell_type": "markdown",
   "metadata": {},
   "source": [
    "### Run tensor flow session"
   ]
  },
  {
   "cell_type": "code",
   "execution_count": 37,
   "metadata": {
    "collapsed": true
   },
   "outputs": [],
   "source": [
    "session = tf.Session()"
   ]
  },
  {
   "cell_type": "code",
   "execution_count": 62,
   "metadata": {},
   "outputs": [],
   "source": [
    "identity = np.eye(vocab_size)\n",
    "def get_midi_xy(data, midi_file_number):\n",
    "    offset = np.random.randint(0, len(data[midi_file_number]) - n_input - 1)\n",
    "    midi_x = data[midi_file_number][offset:offset+n_input]\n",
    "    midi_y = data[midi_file_number][1 + offset:1 + offset+n_input].reshape(1, n_input)\n",
    "    return identity[midi_x.astype(int)], midi_y"
   ]
  },
  {
   "cell_type": "code",
   "execution_count": 58,
   "metadata": {
    "collapsed": true
   },
   "outputs": [],
   "source": [
    "def get_batch(data, num_batches):\n",
    "    \"\"\"Generate random batches of x and y training vectors for RNN.\n",
    "       \n",
    "    Returns:\n",
    "        Two batches of x and y vectors.\n",
    "    \"\"\"\n",
    "    batch_x = []\n",
    "    batch_y = []\n",
    "    batch = np.random.choice(range(len(data)), num_batches, replace=True)\n",
    "    for b in batch:\n",
    "        midi_x, midi_y = get_midi_xy(data, b%len(training_data))\n",
    "        batch_x.append(midi_x)\n",
    "        batch_y.append(midi_y)\n",
    "    batch_y = np.reshape(batch_y, [num_batches, n_input])\n",
    "    return batch_x, batch_y"
   ]
  },
  {
   "cell_type": "code",
   "execution_count": 60,
   "metadata": {
    "collapsed": true
   },
   "outputs": [],
   "source": [
    "def seconds_to_minsecstr(seconds):\n",
    "    minutes = seconds//60\n",
    "    seconds -= 60*minutes\n",
    "    if minutes < 10: minutes = \"0\" + str(minutes)\n",
    "    if seconds < 10: seconds = \"0\" + str(seconds)\n",
    "    return str(minutes) + \":\" + str(seconds)"
   ]
  },
  {
   "cell_type": "code",
   "execution_count": 63,
   "metadata": {
    "scrolled": true
   },
   "outputs": [
    {
     "name": "stdout",
     "output_type": "stream",
     "text": [
      "Iter=50, Average Loss=7.202242, Validation Loss=6.881168, Time Elapsed=00:58\n",
      "Iter=100, Average Loss=6.556994, Validation Loss=6.490196, Time Elapsed=01:59\n",
      "Iter=150, Average Loss=6.428831, Validation Loss=6.288972, Time Elapsed=02:57\n",
      "Iter=200, Average Loss=6.094832, Validation Loss=5.889924, Time Elapsed=03:55\n",
      "Iter=250, Average Loss=5.429443, Validation Loss=5.282123, Time Elapsed=04:54\n",
      "Iter=300, Average Loss=4.966916, Validation Loss=5.083033, Time Elapsed=05:54\n",
      "Iter=350, Average Loss=4.696707, Validation Loss=4.811130, Time Elapsed=06:50\n",
      "Iter=400, Average Loss=4.441907, Validation Loss=4.643602, Time Elapsed=07:48\n",
      "Iter=450, Average Loss=4.279985, Validation Loss=4.265623, Time Elapsed=08:45\n",
      "Iter=500, Average Loss=4.108155, Validation Loss=4.171949, Time Elapsed=09:47\n",
      "Iter=550, Average Loss=4.010220, Validation Loss=4.037776, Time Elapsed=10:46\n",
      "Iter=600, Average Loss=3.888031, Validation Loss=3.953388, Time Elapsed=11:50\n",
      "Iter=650, Average Loss=3.796868, Validation Loss=3.956209, Time Elapsed=12:50\n",
      "Iter=700, Average Loss=3.674017, Validation Loss=3.740509, Time Elapsed=13:54\n",
      "Iter=750, Average Loss=3.584154, Validation Loss=3.774837, Time Elapsed=14:57\n",
      "Iter=800, Average Loss=3.509426, Validation Loss=3.726545, Time Elapsed=16:01\n",
      "Iter=850, Average Loss=3.428709, Validation Loss=3.439449, Time Elapsed=17:04\n",
      "Iter=900, Average Loss=3.406475, Validation Loss=3.605357, Time Elapsed=18:01\n",
      "Iter=950, Average Loss=3.346116, Validation Loss=3.270980, Time Elapsed=19:06\n",
      "Iter=1000, Average Loss=3.208158, Validation Loss=3.412271, Time Elapsed=20:10\n",
      "Iter=1050, Average Loss=3.225954, Validation Loss=3.532128, Time Elapsed=21:13\n",
      "Iter=1100, Average Loss=3.207072, Validation Loss=3.280014, Time Elapsed=22:15\n",
      "Iter=1150, Average Loss=3.124906, Validation Loss=3.388713, Time Elapsed=23:25\n",
      "Iter=1200, Average Loss=3.082920, Validation Loss=3.259457, Time Elapsed=24:33\n",
      "Iter=1250, Average Loss=3.104643, Validation Loss=3.356142, Time Elapsed=25:43\n",
      "Iter=1300, Average Loss=3.028193, Validation Loss=3.124285, Time Elapsed=26:46\n",
      "Iter=1350, Average Loss=2.936462, Validation Loss=3.269562, Time Elapsed=27:49\n",
      "Iter=1400, Average Loss=2.938045, Validation Loss=3.115477, Time Elapsed=28:52\n",
      "Iter=1450, Average Loss=2.931540, Validation Loss=2.913314, Time Elapsed=29:55\n",
      "Iter=1500, Average Loss=2.900928, Validation Loss=3.182893, Time Elapsed=30:57\n",
      "Iter=1550, Average Loss=2.829857, Validation Loss=3.001772, Time Elapsed=32:01\n",
      "Iter=1600, Average Loss=2.884502, Validation Loss=3.078498, Time Elapsed=33:05\n",
      "Iter=1650, Average Loss=2.796774, Validation Loss=2.942727, Time Elapsed=55:01\n",
      "Iter=1700, Average Loss=2.755719, Validation Loss=2.969307, Time Elapsed=55:30\n",
      "Iter=1750, Average Loss=2.786924, Validation Loss=2.953884, Time Elapsed=56:01\n",
      "Iter=1800, Average Loss=2.695715, Validation Loss=2.960947, Time Elapsed=56:31\n",
      "Iter=1850, Average Loss=2.637894, Validation Loss=3.039379, Time Elapsed=57:01\n",
      "Iter=1900, Average Loss=2.612876, Validation Loss=2.814642, Time Elapsed=57:31\n",
      "Iter=1950, Average Loss=2.715084, Validation Loss=2.945447, Time Elapsed=58:00\n",
      "Iter=2000, Average Loss=2.612366, Validation Loss=2.818787, Time Elapsed=58:30\n",
      "Iter=2050, Average Loss=2.610538, Validation Loss=3.043215, Time Elapsed=59:00\n",
      "Iter=2100, Average Loss=2.556935, Validation Loss=2.636199, Time Elapsed=59:30\n",
      "Iter=2150, Average Loss=2.572040, Validation Loss=2.734651, Time Elapsed=60:01\n",
      "Iter=2200, Average Loss=2.550786, Validation Loss=2.823591, Time Elapsed=60:32\n",
      "Iter=2250, Average Loss=2.552655, Validation Loss=3.047278, Time Elapsed=61:03\n",
      "Iter=2300, Average Loss=2.440332, Validation Loss=2.942197, Time Elapsed=61:35\n",
      "Iter=2350, Average Loss=2.497396, Validation Loss=2.750447, Time Elapsed=62:09\n",
      "Iter=2400, Average Loss=2.448543, Validation Loss=2.870779, Time Elapsed=62:43\n",
      "Iter=2450, Average Loss=2.446378, Validation Loss=2.904725, Time Elapsed=63:18\n",
      "Iter=2500, Average Loss=2.466219, Validation Loss=2.556630, Time Elapsed=63:52\n",
      "Iter=2550, Average Loss=2.468562, Validation Loss=2.727743, Time Elapsed=64:27\n",
      "Iter=2600, Average Loss=2.426438, Validation Loss=2.622692, Time Elapsed=84:55\n",
      "Iter=2650, Average Loss=2.363306, Validation Loss=2.713699, Time Elapsed=85:25\n",
      "Iter=2700, Average Loss=2.397585, Validation Loss=2.791390, Time Elapsed=85:55\n",
      "Iter=2750, Average Loss=2.385437, Validation Loss=3.203758, Time Elapsed=86:25\n",
      "Iter=2800, Average Loss=2.421388, Validation Loss=2.845298, Time Elapsed=86:54\n",
      "Iter=2850, Average Loss=2.348977, Validation Loss=2.976730, Time Elapsed=87:24\n",
      "Iter=2900, Average Loss=2.377499, Validation Loss=2.746277, Time Elapsed=87:54\n",
      "Iter=2950, Average Loss=2.350943, Validation Loss=2.686415, Time Elapsed=88:23\n",
      "Iter=3000, Average Loss=2.336943, Validation Loss=2.537129, Time Elapsed=88:55\n",
      "Iter=3050, Average Loss=2.411096, Validation Loss=2.749311, Time Elapsed=89:27\n",
      "Iter=3100, Average Loss=2.406316, Validation Loss=2.604536, Time Elapsed=89:59\n",
      "Iter=3150, Average Loss=2.359942, Validation Loss=2.811769, Time Elapsed=90:30\n",
      "Iter=3200, Average Loss=2.240352, Validation Loss=2.674798, Time Elapsed=91:01\n",
      "Iter=3250, Average Loss=2.343928, Validation Loss=2.587380, Time Elapsed=91:32\n",
      "Iter=3300, Average Loss=2.298279, Validation Loss=2.648463, Time Elapsed=92:04\n",
      "Iter=3350, Average Loss=2.312572, Validation Loss=2.868294, Time Elapsed=92:34\n",
      "Iter=3400, Average Loss=2.247053, Validation Loss=2.711745, Time Elapsed=93:06\n",
      "Iter=3450, Average Loss=2.300259, Validation Loss=2.621411, Time Elapsed=93:38\n",
      "Iter=3500, Average Loss=2.272212, Validation Loss=2.814956, Time Elapsed=94:10\n",
      "Iter=3550, Average Loss=2.283335, Validation Loss=2.579585, Time Elapsed=94:42\n",
      "Iter=3600, Average Loss=2.280578, Validation Loss=2.722352, Time Elapsed=95:15\n",
      "Iter=3650, Average Loss=2.262324, Validation Loss=2.620791, Time Elapsed=95:49\n",
      "Iter=3700, Average Loss=2.287822, Validation Loss=2.710901, Time Elapsed=96:23\n",
      "Iter=3750, Average Loss=2.209468, Validation Loss=2.518887, Time Elapsed=96:58\n",
      "Iter=3800, Average Loss=2.260959, Validation Loss=2.554302, Time Elapsed=108:23\n",
      "Iter=3850, Average Loss=2.221269, Validation Loss=2.656289, Time Elapsed=108:55\n",
      "Iter=3900, Average Loss=2.253389, Validation Loss=2.839797, Time Elapsed=109:24\n",
      "Iter=3950, Average Loss=2.209083, Validation Loss=2.653982, Time Elapsed=109:54\n",
      "Iter=4000, Average Loss=2.222419, Validation Loss=2.563704, Time Elapsed=110:24\n",
      "Iter=4050, Average Loss=2.261264, Validation Loss=2.648437, Time Elapsed=110:55\n",
      "Iter=4100, Average Loss=2.218228, Validation Loss=2.618655, Time Elapsed=111:26\n",
      "Iter=4150, Average Loss=2.210818, Validation Loss=2.456426, Time Elapsed=111:58\n",
      "Iter=4200, Average Loss=2.220260, Validation Loss=2.677207, Time Elapsed=112:30\n",
      "Iter=4250, Average Loss=2.167700, Validation Loss=2.905016, Time Elapsed=113:02\n",
      "Iter=4300, Average Loss=2.202670, Validation Loss=2.554859, Time Elapsed=113:34\n",
      "Iter=4350, Average Loss=2.137555, Validation Loss=2.806331, Time Elapsed=114:07\n",
      "Iter=4400, Average Loss=2.228993, Validation Loss=2.574329, Time Elapsed=114:39\n",
      "Iter=4450, Average Loss=2.198230, Validation Loss=2.587495, Time Elapsed=115:11\n",
      "Iter=4500, Average Loss=2.117924, Validation Loss=2.605224, Time Elapsed=115:43\n",
      "Iter=4550, Average Loss=2.176582, Validation Loss=2.484727, Time Elapsed=116:15\n",
      "Iter=4600, Average Loss=2.200847, Validation Loss=2.599269, Time Elapsed=116:47\n",
      "Iter=4650, Average Loss=2.115730, Validation Loss=2.611414, Time Elapsed=117:19\n",
      "Iter=4700, Average Loss=2.138940, Validation Loss=2.619433, Time Elapsed=117:52\n",
      "Iter=4750, Average Loss=2.099841, Validation Loss=2.549876, Time Elapsed=118:25\n",
      "Iter=4800, Average Loss=2.062926, Validation Loss=2.563505, Time Elapsed=118:58\n",
      "Iter=4850, Average Loss=2.169745, Validation Loss=2.485007, Time Elapsed=119:33\n",
      "Iter=4900, Average Loss=2.164070, Validation Loss=2.585054, Time Elapsed=120:07\n",
      "Iter=4950, Average Loss=2.070977, Validation Loss=2.507496, Time Elapsed=120:44\n",
      "Iter=5000, Average Loss=2.093873, Validation Loss=2.523371, Time Elapsed=121:22\n",
      "Iter=5050, Average Loss=2.118700, Validation Loss=2.598749, Time Elapsed=122:02\n",
      "Iter=5100, Average Loss=2.100108, Validation Loss=2.590533, Time Elapsed=122:42\n",
      "Iter=5150, Average Loss=2.116988, Validation Loss=2.611406, Time Elapsed=123:22\n",
      "Iter=5200, Average Loss=2.138225, Validation Loss=2.529368, Time Elapsed=124:01\n"
     ]
    },
    {
     "name": "stdout",
     "output_type": "stream",
     "text": [
      "Iter=5250, Average Loss=2.057641, Validation Loss=2.583032, Time Elapsed=124:48\n",
      "Iter=5300, Average Loss=2.089834, Validation Loss=2.648591, Time Elapsed=125:27\n",
      "Iter=5350, Average Loss=2.072735, Validation Loss=2.422965, Time Elapsed=126:04\n",
      "Iter=5400, Average Loss=2.055922, Validation Loss=2.401766, Time Elapsed=126:39\n",
      "Iter=5450, Average Loss=2.053401, Validation Loss=2.464834, Time Elapsed=127:11\n",
      "Iter=5500, Average Loss=2.074264, Validation Loss=2.518745, Time Elapsed=127:43\n",
      "Iter=5550, Average Loss=2.086087, Validation Loss=2.802180, Time Elapsed=128:15\n",
      "Iter=5600, Average Loss=2.054876, Validation Loss=2.580641, Time Elapsed=128:48\n",
      "Iter=5650, Average Loss=2.068877, Validation Loss=2.361521, Time Elapsed=129:23\n",
      "Iter=5700, Average Loss=2.034174, Validation Loss=2.613781, Time Elapsed=129:56\n",
      "Iter=5750, Average Loss=2.062592, Validation Loss=2.581139, Time Elapsed=130:29\n",
      "Iter=5800, Average Loss=2.019192, Validation Loss=2.397381, Time Elapsed=131:02\n",
      "Iter=5850, Average Loss=1.977713, Validation Loss=2.412470, Time Elapsed=131:34\n",
      "Iter=5900, Average Loss=2.050758, Validation Loss=2.495127, Time Elapsed=132:08\n",
      "Iter=5950, Average Loss=2.102765, Validation Loss=2.571400, Time Elapsed=132:41\n",
      "Iter=6000, Average Loss=2.075760, Validation Loss=2.773924, Time Elapsed=133:14\n",
      "Iter=6050, Average Loss=2.041942, Validation Loss=2.425001, Time Elapsed=133:47\n",
      "Iter=6100, Average Loss=2.027084, Validation Loss=2.564006, Time Elapsed=134:19\n",
      "Iter=6150, Average Loss=1.995591, Validation Loss=2.583872, Time Elapsed=134:52\n",
      "Iter=6200, Average Loss=2.021653, Validation Loss=2.478752, Time Elapsed=135:25\n",
      "Iter=6250, Average Loss=2.020564, Validation Loss=2.728877, Time Elapsed=135:57\n",
      "Iter=6300, Average Loss=2.000079, Validation Loss=2.539821, Time Elapsed=136:30\n",
      "Iter=6350, Average Loss=1.987761, Validation Loss=2.691884, Time Elapsed=137:03\n",
      "Iter=6400, Average Loss=1.953559, Validation Loss=2.391187, Time Elapsed=137:35\n",
      "Iter=6450, Average Loss=2.012695, Validation Loss=2.597828, Time Elapsed=138:08\n",
      "Iter=6500, Average Loss=1.966848, Validation Loss=2.623471, Time Elapsed=138:40\n",
      "Iter=6550, Average Loss=1.976329, Validation Loss=2.420503, Time Elapsed=139:13\n"
     ]
    },
    {
     "ename": "KeyboardInterrupt",
     "evalue": "",
     "output_type": "error",
     "traceback": [
      "\u001b[1;31m---------------------------------------------------------------------------\u001b[0m",
      "\u001b[1;31mKeyboardInterrupt\u001b[0m                         Traceback (most recent call last)",
      "\u001b[1;32m<ipython-input-63-c20919eece4e>\u001b[0m in \u001b[0;36m<module>\u001b[1;34m()\u001b[0m\n\u001b[0;32m     14\u001b[0m \u001b[1;33m\u001b[0m\u001b[0m\n\u001b[0;32m     15\u001b[0m     \u001b[0mbatch_x\u001b[0m\u001b[1;33m,\u001b[0m \u001b[0mbatch_y\u001b[0m \u001b[1;33m=\u001b[0m \u001b[0mget_batch\u001b[0m\u001b[1;33m(\u001b[0m\u001b[0mtraining_data\u001b[0m\u001b[1;33m,\u001b[0m \u001b[0mbatch_size\u001b[0m\u001b[1;33m)\u001b[0m\u001b[1;33m\u001b[0m\u001b[0m\n\u001b[1;32m---> 16\u001b[1;33m     \u001b[0m_\u001b[0m\u001b[1;33m,\u001b[0m \u001b[0mloss\u001b[0m \u001b[1;33m=\u001b[0m \u001b[0msession\u001b[0m\u001b[1;33m.\u001b[0m\u001b[0mrun\u001b[0m\u001b[1;33m(\u001b[0m\u001b[1;33m[\u001b[0m\u001b[0moptimizer\u001b[0m\u001b[1;33m,\u001b[0m \u001b[0mcost\u001b[0m\u001b[1;33m]\u001b[0m\u001b[1;33m,\u001b[0m \u001b[0mfeed_dict\u001b[0m\u001b[1;33m=\u001b[0m\u001b[1;33m{\u001b[0m\u001b[0mx\u001b[0m\u001b[1;33m:\u001b[0m \u001b[0mbatch_x\u001b[0m\u001b[1;33m,\u001b[0m \u001b[0my\u001b[0m\u001b[1;33m:\u001b[0m \u001b[0mbatch_y\u001b[0m\u001b[1;33m}\u001b[0m\u001b[1;33m)\u001b[0m\u001b[1;33m\u001b[0m\u001b[0m\n\u001b[0m\u001b[0;32m     17\u001b[0m     \u001b[0mloss_total\u001b[0m \u001b[1;33m+=\u001b[0m \u001b[0mloss\u001b[0m\u001b[1;33m\u001b[0m\u001b[0m\n\u001b[0;32m     18\u001b[0m \u001b[1;33m\u001b[0m\u001b[0m\n",
      "\u001b[1;32m~\\Anaconda3\\lib\\site-packages\\tensorflow\\python\\client\\session.py\u001b[0m in \u001b[0;36mrun\u001b[1;34m(self, fetches, feed_dict, options, run_metadata)\u001b[0m\n\u001b[0;32m    887\u001b[0m     \u001b[1;32mtry\u001b[0m\u001b[1;33m:\u001b[0m\u001b[1;33m\u001b[0m\u001b[0m\n\u001b[0;32m    888\u001b[0m       result = self._run(None, fetches, feed_dict, options_ptr,\n\u001b[1;32m--> 889\u001b[1;33m                          run_metadata_ptr)\n\u001b[0m\u001b[0;32m    890\u001b[0m       \u001b[1;32mif\u001b[0m \u001b[0mrun_metadata\u001b[0m\u001b[1;33m:\u001b[0m\u001b[1;33m\u001b[0m\u001b[0m\n\u001b[0;32m    891\u001b[0m         \u001b[0mproto_data\u001b[0m \u001b[1;33m=\u001b[0m \u001b[0mtf_session\u001b[0m\u001b[1;33m.\u001b[0m\u001b[0mTF_GetBuffer\u001b[0m\u001b[1;33m(\u001b[0m\u001b[0mrun_metadata_ptr\u001b[0m\u001b[1;33m)\u001b[0m\u001b[1;33m\u001b[0m\u001b[0m\n",
      "\u001b[1;32m~\\Anaconda3\\lib\\site-packages\\tensorflow\\python\\client\\session.py\u001b[0m in \u001b[0;36m_run\u001b[1;34m(self, handle, fetches, feed_dict, options, run_metadata)\u001b[0m\n\u001b[0;32m   1118\u001b[0m     \u001b[1;32mif\u001b[0m \u001b[0mfinal_fetches\u001b[0m \u001b[1;32mor\u001b[0m \u001b[0mfinal_targets\u001b[0m \u001b[1;32mor\u001b[0m \u001b[1;33m(\u001b[0m\u001b[0mhandle\u001b[0m \u001b[1;32mand\u001b[0m \u001b[0mfeed_dict_tensor\u001b[0m\u001b[1;33m)\u001b[0m\u001b[1;33m:\u001b[0m\u001b[1;33m\u001b[0m\u001b[0m\n\u001b[0;32m   1119\u001b[0m       results = self._do_run(handle, final_targets, final_fetches,\n\u001b[1;32m-> 1120\u001b[1;33m                              feed_dict_tensor, options, run_metadata)\n\u001b[0m\u001b[0;32m   1121\u001b[0m     \u001b[1;32melse\u001b[0m\u001b[1;33m:\u001b[0m\u001b[1;33m\u001b[0m\u001b[0m\n\u001b[0;32m   1122\u001b[0m       \u001b[0mresults\u001b[0m \u001b[1;33m=\u001b[0m \u001b[1;33m[\u001b[0m\u001b[1;33m]\u001b[0m\u001b[1;33m\u001b[0m\u001b[0m\n",
      "\u001b[1;32m~\\Anaconda3\\lib\\site-packages\\tensorflow\\python\\client\\session.py\u001b[0m in \u001b[0;36m_do_run\u001b[1;34m(self, handle, target_list, fetch_list, feed_dict, options, run_metadata)\u001b[0m\n\u001b[0;32m   1315\u001b[0m     \u001b[1;32mif\u001b[0m \u001b[0mhandle\u001b[0m \u001b[1;32mis\u001b[0m \u001b[1;32mNone\u001b[0m\u001b[1;33m:\u001b[0m\u001b[1;33m\u001b[0m\u001b[0m\n\u001b[0;32m   1316\u001b[0m       return self._do_call(_run_fn, self._session, feeds, fetches, targets,\n\u001b[1;32m-> 1317\u001b[1;33m                            options, run_metadata)\n\u001b[0m\u001b[0;32m   1318\u001b[0m     \u001b[1;32melse\u001b[0m\u001b[1;33m:\u001b[0m\u001b[1;33m\u001b[0m\u001b[0m\n\u001b[0;32m   1319\u001b[0m       \u001b[1;32mreturn\u001b[0m \u001b[0mself\u001b[0m\u001b[1;33m.\u001b[0m\u001b[0m_do_call\u001b[0m\u001b[1;33m(\u001b[0m\u001b[0m_prun_fn\u001b[0m\u001b[1;33m,\u001b[0m \u001b[0mself\u001b[0m\u001b[1;33m.\u001b[0m\u001b[0m_session\u001b[0m\u001b[1;33m,\u001b[0m \u001b[0mhandle\u001b[0m\u001b[1;33m,\u001b[0m \u001b[0mfeeds\u001b[0m\u001b[1;33m,\u001b[0m \u001b[0mfetches\u001b[0m\u001b[1;33m)\u001b[0m\u001b[1;33m\u001b[0m\u001b[0m\n",
      "\u001b[1;32m~\\Anaconda3\\lib\\site-packages\\tensorflow\\python\\client\\session.py\u001b[0m in \u001b[0;36m_do_call\u001b[1;34m(self, fn, *args)\u001b[0m\n\u001b[0;32m   1321\u001b[0m   \u001b[1;32mdef\u001b[0m \u001b[0m_do_call\u001b[0m\u001b[1;33m(\u001b[0m\u001b[0mself\u001b[0m\u001b[1;33m,\u001b[0m \u001b[0mfn\u001b[0m\u001b[1;33m,\u001b[0m \u001b[1;33m*\u001b[0m\u001b[0margs\u001b[0m\u001b[1;33m)\u001b[0m\u001b[1;33m:\u001b[0m\u001b[1;33m\u001b[0m\u001b[0m\n\u001b[0;32m   1322\u001b[0m     \u001b[1;32mtry\u001b[0m\u001b[1;33m:\u001b[0m\u001b[1;33m\u001b[0m\u001b[0m\n\u001b[1;32m-> 1323\u001b[1;33m       \u001b[1;32mreturn\u001b[0m \u001b[0mfn\u001b[0m\u001b[1;33m(\u001b[0m\u001b[1;33m*\u001b[0m\u001b[0margs\u001b[0m\u001b[1;33m)\u001b[0m\u001b[1;33m\u001b[0m\u001b[0m\n\u001b[0m\u001b[0;32m   1324\u001b[0m     \u001b[1;32mexcept\u001b[0m \u001b[0merrors\u001b[0m\u001b[1;33m.\u001b[0m\u001b[0mOpError\u001b[0m \u001b[1;32mas\u001b[0m \u001b[0me\u001b[0m\u001b[1;33m:\u001b[0m\u001b[1;33m\u001b[0m\u001b[0m\n\u001b[0;32m   1325\u001b[0m       \u001b[0mmessage\u001b[0m \u001b[1;33m=\u001b[0m \u001b[0mcompat\u001b[0m\u001b[1;33m.\u001b[0m\u001b[0mas_text\u001b[0m\u001b[1;33m(\u001b[0m\u001b[0me\u001b[0m\u001b[1;33m.\u001b[0m\u001b[0mmessage\u001b[0m\u001b[1;33m)\u001b[0m\u001b[1;33m\u001b[0m\u001b[0m\n",
      "\u001b[1;32m~\\Anaconda3\\lib\\site-packages\\tensorflow\\python\\client\\session.py\u001b[0m in \u001b[0;36m_run_fn\u001b[1;34m(session, feed_dict, fetch_list, target_list, options, run_metadata)\u001b[0m\n\u001b[0;32m   1300\u001b[0m           return tf_session.TF_Run(session, options,\n\u001b[0;32m   1301\u001b[0m                                    \u001b[0mfeed_dict\u001b[0m\u001b[1;33m,\u001b[0m \u001b[0mfetch_list\u001b[0m\u001b[1;33m,\u001b[0m \u001b[0mtarget_list\u001b[0m\u001b[1;33m,\u001b[0m\u001b[1;33m\u001b[0m\u001b[0m\n\u001b[1;32m-> 1302\u001b[1;33m                                    status, run_metadata)\n\u001b[0m\u001b[0;32m   1303\u001b[0m \u001b[1;33m\u001b[0m\u001b[0m\n\u001b[0;32m   1304\u001b[0m     \u001b[1;32mdef\u001b[0m \u001b[0m_prun_fn\u001b[0m\u001b[1;33m(\u001b[0m\u001b[0msession\u001b[0m\u001b[1;33m,\u001b[0m \u001b[0mhandle\u001b[0m\u001b[1;33m,\u001b[0m \u001b[0mfeed_dict\u001b[0m\u001b[1;33m,\u001b[0m \u001b[0mfetch_list\u001b[0m\u001b[1;33m)\u001b[0m\u001b[1;33m:\u001b[0m\u001b[1;33m\u001b[0m\u001b[0m\n",
      "\u001b[1;31mKeyboardInterrupt\u001b[0m: "
     ]
    }
   ],
   "source": [
    "training_loss_list = []\n",
    "validation_loss_list = []\n",
    "time_elapsed_list = []\n",
    "\n",
    "init = tf.global_variables_initializer()\n",
    "session.run(init)\n",
    "step = 0\n",
    "loss_total = 0\n",
    "\n",
    "start_time = time.time()\n",
    "\n",
    "while step < training_iters:\n",
    "    start_a = time.time()\n",
    "    \n",
    "    batch_x, batch_y = get_batch(training_data, batch_size)\n",
    "    _, loss = session.run([optimizer, cost], feed_dict={x: batch_x, y: batch_y})\n",
    "    loss_total += loss\n",
    "    \n",
    "    if step % validation_step == 0:\n",
    "        batch_x_validation, batch_y_validation = get_batch(validation_data, N_VALIDATION_SET)\n",
    "        loss_validation = session.run([cost_validation], feed_dict={x_validation: batch_x_validation, y_validation: batch_y_validation})[0]\n",
    "    \n",
    "    training_loss_list.append(loss)\n",
    "    validation_loss_list.append(loss_validation)\n",
    "    time_elapsed = seconds_to_minsecstr(int(time.time()-start_time))\n",
    "    time_elapsed_list.append(time_elapsed)\n",
    "    \n",
    "    if (step+1) % display_step == 0:\n",
    "        display = \"Iter=\" + str(step+1) + \", Average Loss={:.6f}, Validation Loss={:.6f}, Time Elapsed={}\".format(\n",
    "            loss_total/display_step, loss_validation, time_elapsed)\n",
    "        print(display)\n",
    "        loss_total = 0\n",
    "        loss_validation_total = 0\n",
    "    step += 1"
   ]
  },
  {
   "cell_type": "markdown",
   "metadata": {},
   "source": [
    "### Plots"
   ]
  },
  {
   "cell_type": "code",
   "execution_count": 64,
   "metadata": {
    "scrolled": false
   },
   "outputs": [
    {
     "data": {
      "image/png": "[encoded data removed]",
      "text/plain": [
       "<matplotlib.figure.Figure at 0x2c88f8a4eb8>"
      ]
     },
     "metadata": {},
     "output_type": "display_data"
    }
   ],
   "source": [
    "plt.plot(training_loss_list, label='Training loss')\n",
    "plt.plot(validation_loss_list, label='Validation loss')\n",
    "plt.xlabel('Iteration')\n",
    "plt.title('Training/Validation loss over iterations')\n",
    "plt.legend()\n",
    "plt.show()"
   ]
  },
  {
   "cell_type": "markdown",
   "metadata": {},
   "source": [
    "### Create log file"
   ]
  },
  {
   "cell_type": "code",
   "execution_count": 65,
   "metadata": {
    "collapsed": true
   },
   "outputs": [],
   "source": [
    "logfile_directory = 'logs/'"
   ]
  },
  {
   "cell_type": "code",
   "execution_count": 66,
   "metadata": {},
   "outputs": [
    {
     "data": {
      "text/plain": [
       "(2.501142, 6410, 1.9751327, 2.4561841)"
      ]
     },
     "execution_count": 66,
     "metadata": {},
     "output_type": "execute_result"
    }
   ],
   "source": [
    "validation_loss_list = np.array(validation_loss_list)\n",
    "min_valid_loss = np.inf\n",
    "min_valid_loss_iteration = -1\n",
    "for i in range(validation_step*10, len(validation_loss_list)-validation_step*10)[::validation_step]:\n",
    "    valid_loss_mean = np.nanmean(validation_loss_list[i-validation_step*10:i+validation_step*10]) # smoothed validation mean\n",
    "    if valid_loss_mean < min_valid_loss:\n",
    "        min_valid_loss = valid_loss_mean\n",
    "        min_valid_loss_iteration = i\n",
    "        \n",
    "train_loss_mean = np.nanmean(np.array(np.array(training_loss_list)[-50:]))\n",
    "valid_loss_mean = np.nanmean(np.array(np.array(validation_loss_list)[-50:]))\n",
    "train_loss_mean, valid_loss_mean\n",
    "\n",
    "min_valid_loss, min_valid_loss_iteration, train_loss_mean, valid_loss_mean"
   ]
  },
  {
   "cell_type": "code",
   "execution_count": 67,
   "metadata": {},
   "outputs": [
    {
     "data": {
      "text/plain": [
       "'Logfile (Date=2017-11-14 01.22, MinValidLoss=2.50, TrainLoss=1.98, Iterations=6586).txt'"
      ]
     },
     "execution_count": 67,
     "metadata": {},
     "output_type": "execute_result"
    }
   ],
   "source": [
    "date = time.strftime(\"%Y-%m-%d %H.%M\")\n",
    "logfile_name =\"Logfile (Date={}, MinValidLoss={:.2f}, TrainLoss={:.2f}, Iterations={}).txt\". \\\n",
    "    format(date, min_valid_loss, train_loss_mean, len(validation_loss_list))\n",
    "logfile_name"
   ]
  },
  {
   "cell_type": "code",
   "execution_count": 69,
   "metadata": {
    "collapsed": true
   },
   "outputs": [],
   "source": [
    "logfile = open(logfile_directory + logfile_name, \"w\")\n",
    "\n",
    "logfile.write(\"Training loss={:.6f}\\n\".format(train_loss_mean))\n",
    "logfile.write(\"Validation loss={:.6f}\\n\".format(valid_loss_mean))\n",
    "logfile.write(\"Min Validation loss={:.6f}\\n\".format(min_valid_loss))\n",
    "logfile.write(\"Iteration of min validation loss={}\\n\\n\".format(min_valid_loss_iteration))\n",
    "\n",
    "logfile.write(\"Iterations trained={}\\n\".format(len(time_elapsed_list)))\n",
    "logfile.write(\"Duration={}\\n\\n\".format(time_elapsed_list[-1]))\n",
    "\n",
    "logfile.write(\"Number of training examples={}\\n\".format(len(training_data)))\n",
    "logfile.write(\"Number of validation examples={}\\n\\n\".format(len(validation_data)))\n",
    "\n",
    "\n",
    "logfile.write(\"Batch size={}\\n\".format(batch_size))\n",
    "logfile.write(\"Learning rate={:.6f}\\n\".format(learning_rate))\n",
    "logfile.write(\"Number of input (T)={}\\n\\n\".format(n_input))\n",
    "\n",
    "logfile.write(\"Number of hidden layers={}\\n\".format(n_layers))\n",
    "logfile.write(\"Number of hidden units per year={}\\n\\n\".format(n_hidden))\n",
    "\n",
    "for i in range(len(training_loss_list)):\n",
    "    logfile.write(\"Iter={}, Training Loss={:.6f}, Validation Loss={:.6f}, Time Elapsed={}\\n\".format(\n",
    "            (i+1), training_loss_list[i], validation_loss_list[i], time_elapsed_list[i]))\n",
    "    \n",
    "logfile.close()"
   ]
  },
  {
   "cell_type": "markdown",
   "metadata": {},
   "source": [
    "### Generate music from trained model"
   ]
  },
  {
   "cell_type": "code",
   "execution_count": 102,
   "metadata": {
    "collapsed": true
   },
   "outputs": [],
   "source": [
    "N_GENERATED_NOTE_VECTORS = 1000\n",
    "temperature = 1.0"
   ]
  },
  {
   "cell_type": "code",
   "execution_count": 103,
   "metadata": {
    "collapsed": true
   },
   "outputs": [],
   "source": [
    "state_placeholder = tf.placeholder(tf.float32, [n_layers, 2, 1, n_hidden])\n",
    "l = tf.unstack(state_placeholder, 2, 0)\n",
    "rnn_tuple_state = tuple([tf.nn.rnn_cell.LSTMStateTuple(l[i][0], l[i][1]) for i in range(n_layers)])\n",
    "\n",
    "outputs_generation, states_generation = rnn.static_rnn(rnn_cell, [x_generation], \n",
    "                                                       initial_state=rnn_tuple_state, dtype=tf.float32)\n",
    "\n",
    "logits_generation = tf.nn.xw_plus_b(outputs_generation[0], softmax_w, softmax_b)"
   ]
  },
  {
   "cell_type": "code",
   "execution_count": 104,
   "metadata": {},
   "outputs": [],
   "source": [
    "seed_note = np.eye(vocab_size)[training_data[int(len(training_data)*np.random.random())][0]]\n",
    "seed_note = np.reshape(seed_note, [1, vocab_size])"
   ]
  },
  {
   "cell_type": "code",
   "execution_count": 105,
   "metadata": {
    "scrolled": true
   },
   "outputs": [
    {
     "name": "stdout",
     "output_type": "stream",
     "text": [
      "Previous note: [ 65.]\n",
      "Posterior probability: [  1.33105332e-05   1.88762715e-05   2.04952667e-05 ...,   8.30319186e-06\n",
      "   1.85052668e-05   5.04156994e-03]\n"
     ]
    },
    {
     "data": {
      "image/png": "[encoded data removed]",
      "text/plain": [
       "<matplotlib.figure.Figure at 0x2c8907adcf8>"
      ]
     },
     "metadata": {},
     "output_type": "display_data"
    },
    {
     "name": "stdout",
     "output_type": "stream",
     "text": [
      "Previous note: [ 1047.]\n",
      "Posterior probability: [  1.15743504e-07   2.09720767e-07   2.23698095e-07 ...,   4.45926815e-08\n",
      "   2.50643382e-07   8.23231494e-06]\n"
     ]
    },
    {
     "data": {
      "image/png": "[encoded data removed]",
      "text/plain": [
       "<matplotlib.figure.Figure at 0x2c8908002b0>"
      ]
     },
     "metadata": {},
     "output_type": "display_data"
    },
    {
     "name": "stdout",
     "output_type": "stream",
     "text": [
      "Previous note: [ 577.]\n",
      "Posterior probability: [  2.17309389e-06   3.35126992e-06   2.36457049e-06 ...,   1.63012896e-06\n",
      "   2.64272762e-06   7.20634940e-04]\n"
     ]
    },
    {
     "data": {
      "image/png": "[encoded data removed]",
      "text/plain": [
       "<matplotlib.figure.Figure at 0x2c8908de748>"
      ]
     },
     "metadata": {},
     "output_type": "display_data"
    },
    {
     "name": "stdout",
     "output_type": "stream",
     "text": [
      "Previous note: [ 702.]\n",
      "Posterior probability: [  4.36146365e-07   7.98432029e-06   1.19120205e-06 ...,   3.38109800e-07\n",
      "   1.08127983e-06   7.24524085e-04]\n"
     ]
    },
    {
     "data": {
      "image/png": "[encoded data removed]",
      "text/plain": [
       "<matplotlib.figure.Figure at 0x2c890a04780>"
      ]
     },
     "metadata": {},
     "output_type": "display_data"
    }
   ],
   "source": [
    "generated_music = [seed_note]\n",
    "saved_state = np.zeros((n_layers, 2, 1, n_hidden))\n",
    "for i in range(N_GENERATED_NOTE_VECTORS):\n",
    "    onehot_pred, new_state = session.run([logits_generation, states_generation], \n",
    "                                         feed_dict={x_generation: generated_music[-1], state_placeholder: saved_state})\n",
    "    saved_state = new_state\n",
    "    next_note = np.zeros(vocab_size)\n",
    "    #index = np.argmax(onehot_pred, 1) # take max probability\n",
    "    softmax_cdf = np.exp(onehot_pred[0]/temperature)/np.sum(np.exp(onehot_pred[0]/temperature))\n",
    "    \n",
    "    if i < 4:\n",
    "        print(\"Previous note:\", generated_music[-1].dot(range(1120)))\n",
    "        print(\"Posterior probability:\", softmax_cdf)\n",
    "        plt.plot(softmax_cdf)\n",
    "        plt.show()\n",
    "        \n",
    "    index = np.random.choice(range(vocab_size), p=softmax_cdf) # choose probabilistically\n",
    "    \n",
    "    next_note[index] = 1\n",
    "    next_note = np.reshape(next_note, [1, vocab_size])\n",
    "    \n",
    "    generated_music.append(next_note)"
   ]
  },
  {
   "cell_type": "code",
   "execution_count": 106,
   "metadata": {},
   "outputs": [
    {
     "data": {
      "text/plain": [
       "array([   65.,  1047.,   577., ...,  1047.,    81.,   290.])"
      ]
     },
     "execution_count": 106,
     "metadata": {},
     "output_type": "execute_result"
    }
   ],
   "source": [
    "notes = np.array(generated_music).reshape(N_GENERATED_NOTE_VECTORS+1, vocab_size).dot(np.array(range(vocab_size)))\n",
    "notes"
   ]
  },
  {
   "cell_type": "markdown",
   "metadata": {},
   "source": [
    "### Convert generated music to midi"
   ]
  },
  {
   "cell_type": "code",
   "execution_count": 107,
   "metadata": {
    "collapsed": true
   },
   "outputs": [],
   "source": [
    "def get_track_sequences(vector_sequence):\n",
    "    \"\"\"Get note sequences for each track from vector sequence output from RNN.\n",
    "\n",
    "    Args:\n",
    "       vector_sequence: List of one-hot vectors containing 128 * NUM_TRACKS note_on events, 128 * NUM_TRACKS note_off events,\n",
    "        and NUM_TIMESHIFTS timeshift events in intervals of 1/96 of a beat each.\n",
    "       \n",
    "    Returns:\n",
    "        List of track vector sequences.\n",
    "    \"\"\"\n",
    "    track_sequences = [[] for _ in range(NUM_TRACKS)]\n",
    "    start_time = 0\n",
    "    for vector in vector_sequence:\n",
    "        index = vector.index(1)\n",
    "        # vector is a time event.\n",
    "        if index >= NUM_MIDI_PITCHES * 2 * NUM_TRACKS:\n",
    "            num_beats = (index - NUM_MIDI_PITCHES * 2 * NUM_TRACKS + 1) / NUM_TIMESHIFTS\n",
    "            start_time += num_beats\n",
    "        else:\n",
    "            # vector is a note_off event.\n",
    "            if index >= NUM_MIDI_PITCHES * NUM_TRACKS:\n",
    "                note_type = 'note_off'\n",
    "                index -= NUM_MIDI_PITCHES * NUM_TRACKS\n",
    "            # vector is a note_on event.\n",
    "            else:\n",
    "                note_type = 'note_on'\n",
    "            track_num = int(index / NUM_MIDI_PITCHES)\n",
    "            note = index % NUM_MIDI_PITCHES\n",
    "            track_sequences[track_num].append({\"type\": note_type, \"note\": note, \"start_time\": start_time})\n",
    "            time_delay = 0\n",
    "            \n",
    "    return track_sequences\n",
    "    "
   ]
  },
  {
   "cell_type": "code",
   "execution_count": 108,
   "metadata": {
    "collapsed": true
   },
   "outputs": [],
   "source": [
    "def get_midi_from_vector_sequence(track_sequences):\n",
    "    \"\"\"Get midi from track sequences.\n",
    "\n",
    "    Args:\n",
    "       track_sequences: List of vector sequences for each track.\n",
    "       \n",
    "    Returns:\n",
    "        MidiFile object.\n",
    "    \"\"\"\n",
    "    mid = mido.MidiFile()\n",
    "    tracks = [mido.MidiTrack() for _ in range(NUM_TRACKS)]\n",
    "    mid.tracks.extend(tracks)\n",
    "\n",
    "    for i, ts in enumerate(track_sequences):\n",
    "        prev_start_time = 0\n",
    "        for event in ts:\n",
    "            time = event[\"start_time\"] - prev_start_time\n",
    "            prev_start_time = event[\"start_time\"]\n",
    "            # I picked a random number for velocity.\n",
    "            mid.tracks[i].append(mido.Message(event[\"type\"], note=event[\"note\"], velocity=50,\n",
    "                                              time=int(time * TICKS_PER_BEAT)))\n",
    "    \n",
    "    return mid"
   ]
  },
  {
   "cell_type": "code",
   "execution_count": 109,
   "metadata": {
    "collapsed": true
   },
   "outputs": [],
   "source": [
    "track_sequence = get_track_sequences([list(x[0]) for x in generated_music])"
   ]
  },
  {
   "cell_type": "code",
   "execution_count": 110,
   "metadata": {
    "scrolled": true
   },
   "outputs": [
    {
     "data": {
      "text/plain": [
       "[{'note': 62, 'start_time': 0.25, 'type': 'note_off'},\n",
       " {'note': 69, 'start_time': 0.5, 'type': 'note_on'},\n",
       " {'note': 56, 'start_time': 0.5, 'type': 'note_on'},\n",
       " {'note': 42, 'start_time': 11.0, 'type': 'note_on'},\n",
       " {'note': 54, 'start_time': 11.5, 'type': 'note_off'},\n",
       " {'note': 54, 'start_time': 11.5, 'type': 'note_on'},\n",
       " {'note': 56, 'start_time': 11.75, 'type': 'note_off'},\n",
       " {'note': 57, 'start_time': 11.75, 'type': 'note_on'},\n",
       " {'note': 76, 'start_time': 12.0, 'type': 'note_off'},\n",
       " {'note': 82, 'start_time': 12.0, 'type': 'note_on'},\n",
       " {'note': 82, 'start_time': 12.25, 'type': 'note_off'},\n",
       " {'note': 78, 'start_time': 13.0, 'type': 'note_on'},\n",
       " {'note': 78, 'start_time': 13.25, 'type': 'note_off'},\n",
       " {'note': 78, 'start_time': 14.0, 'type': 'note_on'},\n",
       " {'note': 78, 'start_time': 14.25, 'type': 'note_off'},\n",
       " {'note': 63, 'start_time': 19.25, 'type': 'note_on'},\n",
       " {'note': 85, 'start_time': 30.25, 'type': 'note_off'},\n",
       " {'note': 72, 'start_time': 31.0, 'type': 'note_off'},\n",
       " {'note': 73, 'start_time': 31.0, 'type': 'note_on'},\n",
       " {'note': 73, 'start_time': 31.5, 'type': 'note_off'},\n",
       " {'note': 71, 'start_time': 31.5, 'type': 'note_on'},\n",
       " {'note': 51, 'start_time': 32.75, 'type': 'note_on'},\n",
       " {'note': 73, 'start_time': 33.25, 'type': 'note_off'},\n",
       " {'note': 64, 'start_time': 33.25, 'type': 'note_on'},\n",
       " {'note': 65, 'start_time': 33.25, 'type': 'note_off'},\n",
       " {'note': 67, 'start_time': 33.25, 'type': 'note_on'},\n",
       " {'note': 56, 'start_time': 33.25, 'type': 'note_off'},\n",
       " {'note': 64, 'start_time': 33.25, 'type': 'note_off'},\n",
       " {'note': 65, 'start_time': 33.25, 'type': 'note_on'},\n",
       " {'note': 63, 'start_time': 33.25, 'type': 'note_on'},\n",
       " {'note': 63, 'start_time': 33.25, 'type': 'note_off'},\n",
       " {'note': 63, 'start_time': 33.25, 'type': 'note_on'},\n",
       " {'note': 63, 'start_time': 33.25, 'type': 'note_off'},\n",
       " {'note': 63, 'start_time': 33.25, 'type': 'note_on'},\n",
       " {'note': 63, 'start_time': 33.25, 'type': 'note_off'},\n",
       " {'note': 75, 'start_time': 33.25, 'type': 'note_on'},\n",
       " {'note': 63, 'start_time': 33.25, 'type': 'note_off'},\n",
       " {'note': 63, 'start_time': 33.25, 'type': 'note_on'},\n",
       " {'note': 63, 'start_time': 33.25, 'type': 'note_off'},\n",
       " {'note': 63, 'start_time': 33.25, 'type': 'note_on'},\n",
       " {'note': 51, 'start_time': 33.25, 'type': 'note_off'},\n",
       " {'note': 66, 'start_time': 33.25, 'type': 'note_on'},\n",
       " {'note': 63, 'start_time': 33.25, 'type': 'note_off'},\n",
       " {'note': 62, 'start_time': 33.25, 'type': 'note_on'},\n",
       " {'note': 64, 'start_time': 33.25, 'type': 'note_off'},\n",
       " {'note': 58, 'start_time': 33.25, 'type': 'note_on'},\n",
       " {'note': 58, 'start_time': 33.25, 'type': 'note_off'},\n",
       " {'note': 59, 'start_time': 33.25, 'type': 'note_on'},\n",
       " {'note': 58, 'start_time': 33.25, 'type': 'note_on'},\n",
       " {'note': 58, 'start_time': 33.25, 'type': 'note_off'},\n",
       " {'note': 62, 'start_time': 33.25, 'type': 'note_off'},\n",
       " {'note': 62, 'start_time': 33.25, 'type': 'note_on'},\n",
       " {'note': 62, 'start_time': 33.25, 'type': 'note_off'},\n",
       " {'note': 59, 'start_time': 33.25, 'type': 'note_off'},\n",
       " {'note': 60, 'start_time': 33.25, 'type': 'note_on'},\n",
       " {'note': 72, 'start_time': 33.25, 'type': 'note_on'},\n",
       " {'note': 55, 'start_time': 33.25, 'type': 'note_off'},\n",
       " {'note': 72, 'start_time': 33.25, 'type': 'note_off'},\n",
       " {'note': 71, 'start_time': 33.25, 'type': 'note_on'},\n",
       " {'note': 49, 'start_time': 33.25, 'type': 'note_off'},\n",
       " {'note': 48, 'start_time': 33.25, 'type': 'note_on'},\n",
       " {'note': 71, 'start_time': 33.25, 'type': 'note_off'},\n",
       " {'note': 65, 'start_time': 33.25, 'type': 'note_on'},\n",
       " {'note': 65, 'start_time': 33.25, 'type': 'note_off'},\n",
       " {'note': 75, 'start_time': 33.25, 'type': 'note_on'},\n",
       " {'note': 67, 'start_time': 33.25, 'type': 'note_off'},\n",
       " {'note': 72, 'start_time': 33.25, 'type': 'note_on'},\n",
       " {'note': 72, 'start_time': 33.5, 'type': 'note_off'},\n",
       " {'note': 71, 'start_time': 33.5, 'type': 'note_on'},\n",
       " {'note': 71, 'start_time': 33.75, 'type': 'note_off'},\n",
       " {'note': 66, 'start_time': 33.75, 'type': 'note_on'},\n",
       " {'note': 66, 'start_time': 34.0, 'type': 'note_off'},\n",
       " {'note': 71, 'start_time': 34.0, 'type': 'note_on'},\n",
       " {'note': 71, 'start_time': 34.25, 'type': 'note_off'},\n",
       " {'note': 73, 'start_time': 34.25, 'type': 'note_on'},\n",
       " {'note': 73, 'start_time': 34.5, 'type': 'note_off'},\n",
       " {'note': 70, 'start_time': 34.5, 'type': 'note_on'},\n",
       " {'note': 70, 'start_time': 34.75, 'type': 'note_off'},\n",
       " {'note': 76, 'start_time': 34.75, 'type': 'note_on'},\n",
       " {'note': 76, 'start_time': 35.0, 'type': 'note_off'},\n",
       " {'note': 75, 'start_time': 35.0, 'type': 'note_on'},\n",
       " {'note': 75, 'start_time': 35.25, 'type': 'note_off'},\n",
       " {'note': 73, 'start_time': 35.25, 'type': 'note_on'},\n",
       " {'note': 73, 'start_time': 35.5, 'type': 'note_off'},\n",
       " {'note': 68, 'start_time': 35.5, 'type': 'note_on'},\n",
       " {'note': 68, 'start_time': 36.25, 'type': 'note_off'},\n",
       " {'note': 73, 'start_time': 36.25, 'type': 'note_on'},\n",
       " {'note': 73, 'start_time': 36.5, 'type': 'note_off'},\n",
       " {'note': 68, 'start_time': 36.5, 'type': 'note_on'},\n",
       " {'note': 68, 'start_time': 36.75, 'type': 'note_off'},\n",
       " {'note': 75, 'start_time': 36.75, 'type': 'note_on'},\n",
       " {'note': 75, 'start_time': 37.0, 'type': 'note_on'},\n",
       " {'note': 75, 'start_time': 37.0, 'type': 'note_off'},\n",
       " {'note': 73, 'start_time': 37.0, 'type': 'note_on'},\n",
       " {'note': 75, 'start_time': 37.5, 'type': 'note_off'},\n",
       " {'note': 73, 'start_time': 37.75, 'type': 'note_off'},\n",
       " {'note': 70, 'start_time': 37.75, 'type': 'note_on'},\n",
       " {'note': 66, 'start_time': 38.0, 'type': 'note_on'},\n",
       " {'note': 66, 'start_time': 38.25, 'type': 'note_off'},\n",
       " {'note': 70, 'start_time': 38.25, 'type': 'note_off'},\n",
       " {'note': 67, 'start_time': 38.75, 'type': 'note_on'},\n",
       " {'note': 68, 'start_time': 38.75, 'type': 'note_on'},\n",
       " {'note': 67, 'start_time': 38.75, 'type': 'note_off'},\n",
       " {'note': 68, 'start_time': 39.75, 'type': 'note_off'},\n",
       " {'note': 67, 'start_time': 39.75, 'type': 'note_on'},\n",
       " {'note': 67, 'start_time': 40.25, 'type': 'note_off'},\n",
       " {'note': 70, 'start_time': 40.25, 'type': 'note_on'},\n",
       " {'note': 70, 'start_time': 42.25, 'type': 'note_off'},\n",
       " {'note': 72, 'start_time': 42.25, 'type': 'note_on'},\n",
       " {'note': 71, 'start_time': 44.25, 'type': 'note_on'},\n",
       " {'note': 71, 'start_time': 44.5, 'type': 'note_off'},\n",
       " {'note': 66, 'start_time': 44.75, 'type': 'note_off'},\n",
       " {'note': 65, 'start_time': 44.75, 'type': 'note_on'},\n",
       " {'note': 65, 'start_time': 45.5, 'type': 'note_off'},\n",
       " {'note': 66, 'start_time': 45.5, 'type': 'note_on'},\n",
       " {'note': 66, 'start_time': 45.75, 'type': 'note_off'},\n",
       " {'note': 66, 'start_time': 45.75, 'type': 'note_on'},\n",
       " {'note': 65, 'start_time': 46.0, 'type': 'note_off'},\n",
       " {'note': 66, 'start_time': 46.0, 'type': 'note_off'},\n",
       " {'note': 66, 'start_time': 46.0, 'type': 'note_on'},\n",
       " {'note': 66, 'start_time': 46.25, 'type': 'note_on'},\n",
       " {'note': 66, 'start_time': 46.25, 'type': 'note_off'},\n",
       " {'note': 66, 'start_time': 46.5, 'type': 'note_off'},\n",
       " {'note': 66, 'start_time': 46.5, 'type': 'note_on'},\n",
       " {'note': 66, 'start_time': 46.75, 'type': 'note_off'},\n",
       " {'note': 66, 'start_time': 46.75, 'type': 'note_on'},\n",
       " {'note': 66, 'start_time': 46.75, 'type': 'note_off'},\n",
       " {'note': 65, 'start_time': 46.75, 'type': 'note_on'},\n",
       " {'note': 66, 'start_time': 46.75, 'type': 'note_on'},\n",
       " {'note': 66, 'start_time': 47.0, 'type': 'note_off'},\n",
       " {'note': 66, 'start_time': 47.0, 'type': 'note_on'},\n",
       " {'note': 66, 'start_time': 47.25, 'type': 'note_off'},\n",
       " {'note': 65, 'start_time': 47.25, 'type': 'note_on'},\n",
       " {'note': 65, 'start_time': 47.5, 'type': 'note_off'},\n",
       " {'note': 66, 'start_time': 47.5, 'type': 'note_on'},\n",
       " {'note': 66, 'start_time': 47.75, 'type': 'note_off'},\n",
       " {'note': 66, 'start_time': 47.75, 'type': 'note_on'},\n",
       " {'note': 66, 'start_time': 48.0, 'type': 'note_off'},\n",
       " {'note': 58, 'start_time': 48.0, 'type': 'note_on'},\n",
       " {'note': 58, 'start_time': 48.25, 'type': 'note_off'},\n",
       " {'note': 54, 'start_time': 48.25, 'type': 'note_on'},\n",
       " {'note': 54, 'start_time': 48.5, 'type': 'note_off'},\n",
       " {'note': 54, 'start_time': 48.5, 'type': 'note_on'},\n",
       " {'note': 54, 'start_time': 48.75, 'type': 'note_off'},\n",
       " {'note': 54, 'start_time': 48.75, 'type': 'note_on'},\n",
       " {'note': 54, 'start_time': 49.0, 'type': 'note_off'},\n",
       " {'note': 54, 'start_time': 49.0, 'type': 'note_on'},\n",
       " {'note': 54, 'start_time': 49.25, 'type': 'note_off'},\n",
       " {'note': 54, 'start_time': 49.5, 'type': 'note_off'},\n",
       " {'note': 54, 'start_time': 49.5, 'type': 'note_on'},\n",
       " {'note': 49, 'start_time': 50.0, 'type': 'note_off'},\n",
       " {'note': 49, 'start_time': 50.0, 'type': 'note_on'},\n",
       " {'note': 49, 'start_time': 50.5, 'type': 'note_off'},\n",
       " {'note': 47, 'start_time': 50.5, 'type': 'note_on'},\n",
       " {'note': 47, 'start_time': 51.0, 'type': 'note_off'},\n",
       " {'note': 47, 'start_time': 51.0, 'type': 'note_on'},\n",
       " {'note': 47, 'start_time': 51.25, 'type': 'note_off'},\n",
       " {'note': 51, 'start_time': 51.25, 'type': 'note_on'},\n",
       " {'note': 49, 'start_time': 52.5, 'type': 'note_off'},\n",
       " {'note': 51, 'start_time': 52.5, 'type': 'note_on'},\n",
       " {'note': 51, 'start_time': 53.0, 'type': 'note_off'},\n",
       " {'note': 46, 'start_time': 53.0, 'type': 'note_on'},\n",
       " {'note': 46, 'start_time': 53.5, 'type': 'note_off'},\n",
       " {'note': 46, 'start_time': 53.5, 'type': 'note_on'},\n",
       " {'note': 46, 'start_time': 54.0, 'type': 'note_off'},\n",
       " {'note': 46, 'start_time': 54.0, 'type': 'note_on'},\n",
       " {'note': 46, 'start_time': 54.5, 'type': 'note_off'},\n",
       " {'note': 53, 'start_time': 54.5, 'type': 'note_on'},\n",
       " {'note': 53, 'start_time': 55.0, 'type': 'note_off'},\n",
       " {'note': 53, 'start_time': 55.0, 'type': 'note_on'},\n",
       " {'note': 53, 'start_time': 55.5, 'type': 'note_off'},\n",
       " {'note': 54, 'start_time': 55.5, 'type': 'note_on'},\n",
       " {'note': 54, 'start_time': 56.0, 'type': 'note_off'},\n",
       " {'note': 52, 'start_time': 56.0, 'type': 'note_on'},\n",
       " {'note': 52, 'start_time': 56.5, 'type': 'note_off'},\n",
       " {'note': 53, 'start_time': 56.5, 'type': 'note_on'},\n",
       " {'note': 53, 'start_time': 57.0, 'type': 'note_off'},\n",
       " {'note': 53, 'start_time': 57.0, 'type': 'note_on'},\n",
       " {'note': 53, 'start_time': 57.5, 'type': 'note_off'},\n",
       " {'note': 56, 'start_time': 57.5, 'type': 'note_off'},\n",
       " {'note': 56, 'start_time': 57.5, 'type': 'note_on'},\n",
       " {'note': 53, 'start_time': 57.5, 'type': 'note_on'},\n",
       " {'note': 53, 'start_time': 58.0, 'type': 'note_off'},\n",
       " {'note': 52, 'start_time': 58.25, 'type': 'note_on'},\n",
       " {'note': 52, 'start_time': 58.5, 'type': 'note_off'},\n",
       " {'note': 54, 'start_time': 58.5, 'type': 'note_on'},\n",
       " {'note': 66, 'start_time': 65.0, 'type': 'note_off'},\n",
       " {'note': 52, 'start_time': 65.0, 'type': 'note_on'},\n",
       " {'note': 50, 'start_time': 66.25, 'type': 'note_on'},\n",
       " {'note': 50, 'start_time': 66.5, 'type': 'note_off'},\n",
       " {'note': 43, 'start_time': 67.25, 'type': 'note_off'},\n",
       " {'note': 43, 'start_time': 69.5, 'type': 'note_on'},\n",
       " {'note': 53, 'start_time': 71.5, 'type': 'note_on'},\n",
       " {'note': 53, 'start_time': 72.0, 'type': 'note_off'},\n",
       " {'note': 53, 'start_time': 72.5, 'type': 'note_on'},\n",
       " {'note': 53, 'start_time': 73.25, 'type': 'note_off'},\n",
       " {'note': 53, 'start_time': 73.75, 'type': 'note_on'},\n",
       " {'note': 53, 'start_time': 74.5, 'type': 'note_off'},\n",
       " {'note': 53, 'start_time': 74.5, 'type': 'note_on'},\n",
       " {'note': 61, 'start_time': 78.0, 'type': 'note_on'},\n",
       " {'note': 58, 'start_time': 80.25, 'type': 'note_off'}]"
      ]
     },
     "execution_count": 110,
     "metadata": {},
     "output_type": "execute_result"
    }
   ],
   "source": [
    "track_sequence[1]"
   ]
  },
  {
   "cell_type": "code",
   "execution_count": 111,
   "metadata": {},
   "outputs": [
    {
     "data": {
      "text/plain": [
       "<midi file None type 1, 4 tracks, 750 messages>"
      ]
     },
     "execution_count": 111,
     "metadata": {},
     "output_type": "execute_result"
    }
   ],
   "source": [
    "midi = get_midi_from_vector_sequence(track_sequence)\n",
    "midi"
   ]
  },
  {
   "cell_type": "markdown",
   "metadata": {},
   "source": [
    "# Save midi"
   ]
  },
  {
   "cell_type": "code",
   "execution_count": 112,
   "metadata": {
    "collapsed": true
   },
   "outputs": [],
   "source": [
    "generation_output = \"generated_music/\""
   ]
  },
  {
   "cell_type": "code",
   "execution_count": 113,
   "metadata": {},
   "outputs": [
    {
     "data": {
      "text/plain": [
       "'Generated Music (Date=2017-11-14 01.22, Temperature=1.0, Length=1000, MinValidLoss=2.50, TrainLoss=1.98, Iterations=6586).mid'"
      ]
     },
     "execution_count": 113,
     "metadata": {},
     "output_type": "execute_result"
    }
   ],
   "source": [
    "midi_name = \"Generated Music (Date={}, Temperature={}, Length={}, MinValidLoss={:.2f}, TrainLoss={:.2f}, Iterations={}).mid\". \\\n",
    "    format(date, temperature, N_GENERATED_NOTE_VECTORS, min_valid_loss, train_loss_mean, len(validation_loss_list))\n",
    "midi_name"
   ]
  },
  {
   "cell_type": "code",
   "execution_count": 114,
   "metadata": {
    "collapsed": true
   },
   "outputs": [],
   "source": [
    "midi.save(generation_output + midi_name)"
   ]
  }
 ],
 "metadata": {
  "kernelspec": {
   "display_name": "Python 3",
   "language": "python",
   "name": "python3"
  },
  "language_info": {
   "codemirror_mode": {
    "name": "ipython",
    "version": 3
   },
   "file_extension": ".py",
   "mimetype": "text/x-python",
   "name": "python",
   "nbconvert_exporter": "python",
   "pygments_lexer": "ipython3",
   "version": "3.6.2"
  }
 },
 "nbformat": 4,
 "nbformat_minor": 2
}
