{
 "cells": [
  {
   "cell_type": "code",
   "execution_count": 1,
   "metadata": {
    "collapsed": true
   },
   "outputs": [],
   "source": [
    "import mido\n",
    "import os\n",
    "import numpy as np\n",
    "from scipy import stats\n",
    "from os import listdir\n",
    "from os.path import isfile, join\n",
    "import tensorflow as tf\n",
    "from tensorflow.contrib import rnn\n",
    "import time\n",
    "\n",
    "import matplotlib.pyplot as plt\n",
    "from pylab import rcParams\n",
    "rcParams['figure.figsize'] = (12, 8)"
   ]
  },
  {
   "cell_type": "code",
   "execution_count": 2,
   "metadata": {
    "collapsed": true
   },
   "outputs": [],
   "source": [
    "TICKS_PER_BEAT = 480\n",
    "TEMPO = int(mido.bpm2tempo(120))"
   ]
  },
  {
   "cell_type": "code",
   "execution_count": 3,
   "metadata": {
    "collapsed": true
   },
   "outputs": [],
   "source": [
    "%run get_training_data.py"
   ]
  },
  {
   "cell_type": "markdown",
   "metadata": {},
   "source": [
    "### Create training data"
   ]
  },
  {
   "cell_type": "code",
   "execution_count": 4,
   "metadata": {
    "collapsed": true
   },
   "outputs": [],
   "source": [
    "N_VALIDATION_SET = 100"
   ]
  },
  {
   "cell_type": "code",
   "execution_count": 5,
   "metadata": {
    "collapsed": true
   },
   "outputs": [],
   "source": [
    "def get_training_data(start_index, end_index):\n",
    "    \"\"\"Generate training data array for all files in \"midis_processed/\" directory.\n",
    "       \n",
    "    Returns:\n",
    "        Numpy array of training data.\n",
    "    \"\"\"\n",
    "    directory = 'midis_processed_nopercussion/'\n",
    "    training_data = []\n",
    "    training_data_labels = []\n",
    "    for i,filename in enumerate(os.listdir(directory)[start_index:end_index]):\n",
    "        try:\n",
    "            if filename.endswith(\".mid\"):\n",
    "                vector = midi_to_vector(directory + filename)\n",
    "                if len(vector) > 100:\n",
    "                    training_data.append(np.array(vector))\n",
    "                    training_data_labels.append(filename)\n",
    "                else:\n",
    "                    print(\"Training data too short: \" + filename + \". len(vector)=\" + str(len(vector)))\n",
    "        except:\n",
    "            print(\"Faulty training data: \" + filename + \". len(vector)=\" + str(len(vector)))\n",
    "        if (i+1)%25 == 0:\n",
    "            print(\" > {}/{} files loaded.\".format(i+1, len(os.listdir(directory)[start_index:end_index])))\n",
    "               \n",
    "    return np.array(training_data), training_data_labels"
   ]
  },
  {
   "cell_type": "code",
   "execution_count": 6,
   "metadata": {
    "scrolled": true
   },
   "outputs": [
    {
     "name": "stdout",
     "output_type": "stream",
     "text": [
      " > 0/200 files loaded.\n",
      " > 25/200 files loaded.\n",
      "Training data too short: Adventure_Island_II-Death.mid. len(vector)=0\n",
      "Training data too short: Adventure_Island_II-Eggplant.mid. len(vector)=0\n",
      "Training data too short: Adventure_Island_II-Game_Over.mid. len(vector)=0\n",
      "Training data too short: Adventure_Island_II-Goal.mid. len(vector)=0\n",
      " > 50/200 files loaded.\n",
      "Training data too short: Adventure_Island_II-Victory.mid. len(vector)=0\n",
      " > 75/200 files loaded.\n",
      "Training data too short: alien3sb.mid. len(vector)=0\n",
      "Training data too short: alphago.mid. len(vector)=0\n",
      "Training data too short: Amagon-Death.mid. len(vector)=0\n",
      "Training data too short: Amagon-Start_2.mid. len(vector)=0\n",
      " > 100/200 files loaded.\n",
      "Training data too short: Anticipation8.mid. len(vector)=0\n",
      "Training data too short: AotKT_Bomb_Disabled.mid. len(vector)=0\n",
      " > 125/200 files loaded.\n",
      "Training data too short: Athena-Over.mid. len(vector)=0\n",
      "Training data too short: Balloon_Fight-Complete.mid. len(vector)=0\n",
      " > 150/200 files loaded.\n",
      "Faulty training data: Balloon_Fight_-_Main_Theme_(Dancing_Balloon!_remix).mid. len(vector)=161\n",
      "Training data too short: Battletoads_Pause_Music.mid. len(vector)=0\n",
      " > 175/200 files loaded.\n"
     ]
    }
   ],
   "source": [
    "# Set num training examples here. Note: actual number will be less, since some have errors\n",
    "training_data, training_data_labels = get_training_data(0, 200)"
   ]
  },
  {
   "cell_type": "code",
   "execution_count": 7,
   "metadata": {
    "collapsed": true
   },
   "outputs": [],
   "source": [
    "validation_data = training_data[:N_VALIDATION_SET]\n",
    "validation_data_labels = training_data_labels[:N_VALIDATION_SET]\n",
    "training_data = training_data[N_VALIDATION_SET:]\n",
    "training_data_labels = training_data_labels[N_VALIDATION_SET:]"
   ]
  },
  {
   "cell_type": "code",
   "execution_count": 8,
   "metadata": {
    "scrolled": true
   },
   "outputs": [
    {
     "name": "stdout",
     "output_type": "stream",
     "text": [
      "Number of training examples: 85\n"
     ]
    },
    {
     "data": {
      "text/plain": [
       "['Anticipation2.mid',\n",
       " 'Anticipation3.mid',\n",
       " 'Anticipation4.mid',\n",
       " 'Anticipation5.mid',\n",
       " 'Anticipation6.mid',\n",
       " 'Anticipation7.mid',\n",
       " 'Anticipation9.mid',\n",
       " 'AotKT_-_The_Secret_Stage.mid',\n",
       " 'AotKT_TomatoFactory.mid',\n",
       " 'arcadia.mid',\n",
       " 'Arcadia_-_Green_Fields.mid',\n",
       " 'archon_battle.mid',\n",
       " 'archon_title.mid',\n",
       " 'Area-5.mid',\n",
       " 'Area2.mid',\n",
       " 'arkistas-opening.mid',\n",
       " 'armadillo_casino.mid',\n",
       " 'Astyanax-Redwood.mid',\n",
       " 'Astyanax-Remlia.mid',\n",
       " 'Astyanax1.mid',\n",
       " 'Astyanax2.mid',\n",
       " 'Astyanax3.mid',\n",
       " 'astyrem.mid',\n",
       " 'Athena-Boss.mid',\n",
       " 'Athena-Cavern.mid',\n",
       " 'Athena-Forest.mid',\n",
       " 'Athena-Hell.mid',\n",
       " 'Athena-Ice.mid',\n",
       " 'Athena-Labyrinth.mid',\n",
       " 'Athena-Sea.mid',\n",
       " 'Athena-Sky.mid',\n",
       " 'Athena-Start.mid',\n",
       " 'attic.mid',\n",
       " 'Attica_-_Town_of_Elyseus.mid',\n",
       " 'B-wings_Stage.mid',\n",
       " 'B2_Stage_6.mid',\n",
       " 'baddudes-stage2.mid',\n",
       " 'baddudes_train.mid',\n",
       " 'Balloon_Fight_-_Game_Over_GS.mid',\n",
       " 'banana.mid',\n",
       " 'basement.mid',\n",
       " 'batman-fabric.mid',\n",
       " 'Batman-_Level_2.mid',\n",
       " 'Batman2_-_GothamInDanger.mid',\n",
       " 'Batman2_-_UrgentXG.mid',\n",
       " 'Batmango.mid',\n",
       " 'BatmanNESlvl3.mid',\n",
       " 'BatmanNESlvl4.mid',\n",
       " 'batmanreturn.mid',\n",
       " 'batmanreturn2.mid',\n",
       " 'Batman_-_Stage1XG.mid',\n",
       " 'battle.mid',\n",
       " 'Battletoads-Pause.mid',\n",
       " 'Battletoads_-_Boss.mid',\n",
       " 'battletoads_level1.mid',\n",
       " 'battletoads_turbo.mid',\n",
       " 'Battletoads_T_Tunnel_P1_SP_new.mid',\n",
       " 'Battle_Of_Olympus_Phrygia_Slow_Remix.mid',\n",
       " 'bb-Boss.mid',\n",
       " 'bb-Ending.mid',\n",
       " 'bbcc.mid',\n",
       " 'Bbccpipe.mid',\n",
       " 'Bbremiv2.mid',\n",
       " 'BBSavrik.mid',\n",
       " 'BBTechno.mid',\n",
       " 'Bbtitle2.mid',\n",
       " 'bbtitler.mid',\n",
       " 'bc5.mid',\n",
       " 'bcc1.mid',\n",
       " 'bccintro.mid',\n",
       " 'Bclvl1mg.mid',\n",
       " 'BD_Credits.mid',\n",
       " 'BEETLEJUICE.mid',\n",
       " 'bio.mid',\n",
       " 'biolev1.mid',\n",
       " 'biomap.mid',\n",
       " 'biomary.mid',\n",
       " 'bionic8.mid',\n",
       " 'BionicCommando-Area01-ArcadeArrangement.mid',\n",
       " 'Bionic_Commando.mid',\n",
       " 'Bionic_Commando_Level_Clear_Theme.mid',\n",
       " 'bioslime.mid',\n",
       " 'birthday_level3.mid',\n",
       " 'BJUICE-LEV1.mid',\n",
       " 'BlackBassIntro.mid']"
      ]
     },
     "execution_count": 8,
     "metadata": {},
     "output_type": "execute_result"
    }
   ],
   "source": [
    "print(\"Number of training examples:\", len(training_data))\n",
    "training_data_labels"
   ]
  },
  {
   "cell_type": "code",
   "execution_count": 9,
   "metadata": {},
   "outputs": [
    {
     "data": {
      "text/plain": [
       "(3511, 1120)"
      ]
     },
     "execution_count": 9,
     "metadata": {},
     "output_type": "execute_result"
    }
   ],
   "source": [
    "training_data[0].shape"
   ]
  },
  {
   "cell_type": "markdown",
   "metadata": {},
   "source": [
    "### Parameters"
   ]
  },
  {
   "cell_type": "code",
   "execution_count": 38,
   "metadata": {
    "collapsed": true
   },
   "outputs": [],
   "source": [
    "'''# Parameters\n",
    "batch_size = 10\n",
    "learning_rate = 0.001\n",
    "training_iters = 50000\n",
    "n_input = 64\n",
    "display_step = 200\n",
    "\n",
    "# number of units in RNN cell\n",
    "n_hidden = 512\n",
    "n_layers = 2\n",
    "'''\n",
    "\n",
    "# Parameters\n",
    "batch_size = 10\n",
    "learning_rate = 0.001\n",
    "training_iters = 50000\n",
    "n_input = 10\n",
    "display_step = 50\n",
    "validation_step = 10 # how many steps do we calculate validation error\n",
    "\n",
    "# number of units in RNN cell\n",
    "n_hidden = 100\n",
    "n_layers = 2"
   ]
  },
  {
   "cell_type": "markdown",
   "metadata": {},
   "source": [
    "### Create tensor flow graph"
   ]
  },
  {
   "cell_type": "code",
   "execution_count": 11,
   "metadata": {},
   "outputs": [
    {
     "data": {
      "text/plain": [
       "1120"
      ]
     },
     "execution_count": 11,
     "metadata": {},
     "output_type": "execute_result"
    }
   ],
   "source": [
    "vocab_size = training_data[0].shape[1]\n",
    "vocab_size"
   ]
  },
  {
   "cell_type": "code",
   "execution_count": 12,
   "metadata": {},
   "outputs": [],
   "source": [
    "# tf Graph input\n",
    "x = tf.placeholder(\"float\", [batch_size, n_input, vocab_size])\n",
    "y = tf.placeholder(\"int32\", [batch_size, n_input])\n",
    "\n",
    "# RNN output node weights and biases\n",
    "softmax_w = tf.Variable(tf.random_normal([n_hidden, vocab_size]))\n",
    "softmax_b = tf.Variable(tf.random_normal([vocab_size]))\n",
    "\n",
    "max_grad_norm = 5"
   ]
  },
  {
   "cell_type": "code",
   "execution_count": 13,
   "metadata": {},
   "outputs": [],
   "source": [
    "# tf Graph validation input\n",
    "x_validation = tf.placeholder(\"float\", [N_VALIDATION_SET, n_input, vocab_size])\n",
    "y_validation = tf.placeholder(\"int32\", [N_VALIDATION_SET, n_input])"
   ]
  },
  {
   "cell_type": "code",
   "execution_count": 14,
   "metadata": {
    "collapsed": true
   },
   "outputs": [],
   "source": [
    "# tf Graph generative input\n",
    "x_generation = tf.placeholder(\"float\", [1, vocab_size])"
   ]
  },
  {
   "cell_type": "code",
   "execution_count": 15,
   "metadata": {
    "collapsed": true
   },
   "outputs": [],
   "source": [
    "rnn_cell = rnn.MultiRNNCell([rnn.BasicLSTMCell(n_hidden) for _ in range(n_layers)])"
   ]
  },
  {
   "cell_type": "code",
   "execution_count": 16,
   "metadata": {
    "collapsed": true
   },
   "outputs": [],
   "source": [
    "# Training output\n",
    "x_split = tf.unstack(x, n_input, 1)\n",
    "outputs, states = rnn.static_rnn(rnn_cell, x_split, dtype=tf.float32)\n",
    "logits = [tf.nn.xw_plus_b(output, softmax_w, softmax_b) for output in outputs]\n",
    "logits = tf.reshape(tf.split(tf.reshape(logits, [n_input, batch_size, vocab_size]), batch_size, 1), \n",
    "                    [batch_size, n_input, vocab_size])"
   ]
  },
  {
   "cell_type": "code",
   "execution_count": 17,
   "metadata": {},
   "outputs": [],
   "source": [
    "# Training loss\n",
    "loss = tf.contrib.seq2seq.sequence_loss(logits, y, weights=tf.ones([batch_size, n_input], dtype=tf.float32), # check this\n",
    "                                        average_across_timesteps=True, average_across_batch=True)\n",
    "cost = tf.reduce_sum(loss)\n",
    "optimizer = tf.train.RMSPropOptimizer(learning_rate=learning_rate).minimize(cost)"
   ]
  },
  {
   "cell_type": "code",
   "execution_count": 18,
   "metadata": {
    "collapsed": true
   },
   "outputs": [],
   "source": [
    "# Validation output\n",
    "x_validation_split = tf.unstack(x_validation, n_input, 1)\n",
    "outputs_validation, states_validation = rnn.static_rnn(rnn_cell, x_validation_split, dtype=tf.float32)\n",
    "logits_validation = [tf.nn.xw_plus_b(output, softmax_w, softmax_b) for output in outputs_validation]\n",
    "logits_validation = tf.reshape(tf.split(tf.reshape(logits_validation, [n_input, N_VALIDATION_SET, vocab_size]), N_VALIDATION_SET, 1), \n",
    "                               [N_VALIDATION_SET, n_input, vocab_size])"
   ]
  },
  {
   "cell_type": "code",
   "execution_count": 19,
   "metadata": {
    "collapsed": true
   },
   "outputs": [],
   "source": [
    "# Training loss\n",
    "loss_validation = tf.contrib.seq2seq.sequence_loss(logits_validation, y_validation, weights=tf.ones([N_VALIDATION_SET, n_input], dtype=tf.float32), # check this\n",
    "                                        average_across_timesteps=True, average_across_batch=True)\n",
    "cost_validation = tf.reduce_sum(loss_validation)"
   ]
  },
  {
   "cell_type": "markdown",
   "metadata": {},
   "source": [
    "### Run tensor flow session"
   ]
  },
  {
   "cell_type": "code",
   "execution_count": 20,
   "metadata": {
    "collapsed": true
   },
   "outputs": [],
   "source": [
    "session = tf.Session()"
   ]
  },
  {
   "cell_type": "code",
   "execution_count": 29,
   "metadata": {
    "collapsed": true
   },
   "outputs": [],
   "source": [
    "def get_midi_xy(data, midi_file_number):\n",
    "    offset = np.random.randint(0, len(data[midi_file_number]) - n_input - 1)\n",
    "    midi_x = data[midi_file_number][offset:offset+n_input]\n",
    "    midi_y = data[midi_file_number][1 + offset:1 + offset+n_input].dot(range(vocab_size)).reshape(1, n_input)\n",
    "    return midi_x, midi_y"
   ]
  },
  {
   "cell_type": "code",
   "execution_count": 30,
   "metadata": {
    "collapsed": true
   },
   "outputs": [],
   "source": [
    "def get_batch(data, num_batches):\n",
    "    \"\"\"Generate random batches of x and y training vectors for RNN.\n",
    "       \n",
    "    Returns:\n",
    "        Two batches of x and y vectors.\n",
    "    \"\"\"\n",
    "    batch_x = []\n",
    "    batch_y = []\n",
    "    batch = np.random.choice(range(len(data)), num_batches, replace=True)\n",
    "    for b in batch:\n",
    "        midi_x, midi_y = get_midi_xy(data, b%len(training_data))\n",
    "        batch_x.append(midi_x)\n",
    "        batch_y.append(midi_y)\n",
    "    batch_y = np.reshape(batch_y, [num_batches, n_input])\n",
    "    return batch_x, batch_y"
   ]
  },
  {
   "cell_type": "code",
   "execution_count": 23,
   "metadata": {
    "collapsed": true
   },
   "outputs": [],
   "source": [
    "def seconds_to_minsecstr(seconds):\n",
    "    minutes = seconds//60\n",
    "    seconds -= 60*minutes\n",
    "    if minutes < 10: minutes = \"0\" + str(minutes)\n",
    "    if seconds < 10: seconds = \"0\" + str(seconds)\n",
    "    return str(minutes) + \":\" + str(seconds)"
   ]
  },
  {
   "cell_type": "code",
   "execution_count": 39,
   "metadata": {
    "scrolled": true
   },
   "outputs": [
    {
     "name": "stdout",
     "output_type": "stream",
     "text": [
      "Iter=50, Average Loss=7.339799, Average Validation Loss=7.431428, Time Elapsed=00:04\n",
      "Iter=100, Average Loss=7.182741, Average Validation Loss=7.175215, Time Elapsed=00:08\n",
      "Iter=150, Average Loss=6.923418, Average Validation Loss=7.105408, Time Elapsed=00:12\n",
      "Iter=200, Average Loss=6.689327, Average Validation Loss=6.614402, Time Elapsed=00:17\n",
      "Iter=250, Average Loss=6.325190, Average Validation Loss=6.436195, Time Elapsed=34:35\n",
      "Iter=300, Average Loss=6.058367, Average Validation Loss=6.230109, Time Elapsed=34:38\n",
      "Iter=350, Average Loss=5.865798, Average Validation Loss=6.039153, Time Elapsed=34:44\n",
      "Iter=400, Average Loss=5.634243, Average Validation Loss=5.823563, Time Elapsed=34:49\n",
      "Iter=450, Average Loss=5.514282, Average Validation Loss=5.846755, Time Elapsed=34:54\n",
      "Iter=500, Average Loss=5.386183, Average Validation Loss=5.696133, Time Elapsed=34:58\n",
      "Iter=550, Average Loss=5.260074, Average Validation Loss=5.647752, Time Elapsed=35:03\n",
      "Iter=600, Average Loss=5.148770, Average Validation Loss=5.686119, Time Elapsed=53:05\n",
      "Iter=650, Average Loss=5.041931, Average Validation Loss=5.577317, Time Elapsed=53:08\n",
      "Iter=700, Average Loss=5.031794, Average Validation Loss=5.523604, Time Elapsed=53:10\n",
      "Iter=750, Average Loss=4.920317, Average Validation Loss=5.449687, Time Elapsed=53:12\n",
      "Iter=800, Average Loss=4.916230, Average Validation Loss=5.497118, Time Elapsed=53:14\n",
      "Iter=850, Average Loss=4.779232, Average Validation Loss=5.432126, Time Elapsed=53:16\n",
      "Iter=900, Average Loss=4.800799, Average Validation Loss=5.403605, Time Elapsed=53:18\n",
      "Iter=950, Average Loss=4.771076, Average Validation Loss=5.343718, Time Elapsed=53:20\n",
      "Iter=1000, Average Loss=4.684045, Average Validation Loss=5.449004, Time Elapsed=53:23\n",
      "Iter=1050, Average Loss=4.618324, Average Validation Loss=5.289575, Time Elapsed=53:25\n",
      "Iter=1100, Average Loss=4.580491, Average Validation Loss=5.191817, Time Elapsed=53:26\n",
      "Iter=1150, Average Loss=4.519736, Average Validation Loss=5.155967, Time Elapsed=53:28\n",
      "Iter=1200, Average Loss=4.439226, Average Validation Loss=5.414340, Time Elapsed=53:30\n",
      "Iter=1250, Average Loss=4.589771, Average Validation Loss=5.147367, Time Elapsed=53:32\n",
      "Iter=1300, Average Loss=4.360893, Average Validation Loss=5.163625, Time Elapsed=53:34\n",
      "Iter=1350, Average Loss=4.316847, Average Validation Loss=5.132931, Time Elapsed=53:36\n",
      "Iter=1400, Average Loss=4.233605, Average Validation Loss=5.168728, Time Elapsed=53:38\n",
      "Iter=1450, Average Loss=4.291990, Average Validation Loss=5.250317, Time Elapsed=53:39\n",
      "Iter=1500, Average Loss=4.219994, Average Validation Loss=5.184504, Time Elapsed=53:41\n",
      "Iter=1550, Average Loss=4.211978, Average Validation Loss=5.192926, Time Elapsed=53:43\n",
      "Iter=1600, Average Loss=4.129719, Average Validation Loss=4.962455, Time Elapsed=53:45\n",
      "Iter=1650, Average Loss=4.156699, Average Validation Loss=4.941617, Time Elapsed=53:47\n",
      "Iter=1700, Average Loss=4.085663, Average Validation Loss=5.206872, Time Elapsed=53:49\n",
      "Iter=1750, Average Loss=4.040140, Average Validation Loss=4.991497, Time Elapsed=53:50\n",
      "Iter=1800, Average Loss=3.964811, Average Validation Loss=4.998599, Time Elapsed=53:53\n",
      "Iter=1850, Average Loss=4.042535, Average Validation Loss=5.056576, Time Elapsed=53:55\n",
      "Iter=1900, Average Loss=3.924403, Average Validation Loss=5.019223, Time Elapsed=53:57\n",
      "Iter=1950, Average Loss=3.917188, Average Validation Loss=5.025760, Time Elapsed=53:59\n",
      "Iter=2000, Average Loss=3.837892, Average Validation Loss=5.135573, Time Elapsed=54:00\n",
      "Iter=2050, Average Loss=3.833871, Average Validation Loss=5.210115, Time Elapsed=54:02\n",
      "Iter=2100, Average Loss=3.863539, Average Validation Loss=5.111508, Time Elapsed=54:04\n",
      "Iter=2150, Average Loss=3.823359, Average Validation Loss=5.038356, Time Elapsed=54:06\n",
      "Iter=2200, Average Loss=3.801347, Average Validation Loss=5.094091, Time Elapsed=54:08\n",
      "Iter=2250, Average Loss=3.827099, Average Validation Loss=4.736775, Time Elapsed=54:10\n",
      "Iter=2300, Average Loss=3.781071, Average Validation Loss=5.060446, Time Elapsed=54:12\n",
      "Iter=2350, Average Loss=3.763168, Average Validation Loss=4.918989, Time Elapsed=54:13\n",
      "Iter=2400, Average Loss=3.762466, Average Validation Loss=5.086113, Time Elapsed=54:15\n",
      "Iter=2450, Average Loss=3.733166, Average Validation Loss=4.990623, Time Elapsed=54:17\n",
      "Iter=2500, Average Loss=3.677898, Average Validation Loss=5.061800, Time Elapsed=54:19\n",
      "Iter=2550, Average Loss=3.602129, Average Validation Loss=4.885768, Time Elapsed=54:21\n",
      "Iter=2600, Average Loss=3.709788, Average Validation Loss=4.685326, Time Elapsed=54:22\n",
      "Iter=2650, Average Loss=3.564567, Average Validation Loss=4.910217, Time Elapsed=54:24\n",
      "Iter=2700, Average Loss=3.465778, Average Validation Loss=4.793491, Time Elapsed=54:26\n",
      "Iter=2750, Average Loss=3.549481, Average Validation Loss=4.928569, Time Elapsed=54:28\n",
      "Iter=2800, Average Loss=3.538202, Average Validation Loss=4.848916, Time Elapsed=54:30\n",
      "Iter=2850, Average Loss=3.519734, Average Validation Loss=4.818397, Time Elapsed=54:32\n",
      "Iter=2900, Average Loss=3.524215, Average Validation Loss=5.027189, Time Elapsed=54:34\n",
      "Iter=2950, Average Loss=3.435498, Average Validation Loss=4.653594, Time Elapsed=54:36\n",
      "Iter=3000, Average Loss=3.518177, Average Validation Loss=4.839444, Time Elapsed=54:38\n",
      "Iter=3050, Average Loss=3.470909, Average Validation Loss=4.727993, Time Elapsed=54:39\n",
      "Iter=3100, Average Loss=3.414321, Average Validation Loss=4.751182, Time Elapsed=54:41\n",
      "Iter=3150, Average Loss=3.462211, Average Validation Loss=4.708316, Time Elapsed=54:43\n",
      "Iter=3200, Average Loss=3.420178, Average Validation Loss=5.012614, Time Elapsed=54:46\n",
      "Iter=3250, Average Loss=3.365244, Average Validation Loss=5.007673, Time Elapsed=54:48\n",
      "Iter=3300, Average Loss=3.452958, Average Validation Loss=5.014114, Time Elapsed=54:50\n",
      "Iter=3350, Average Loss=3.430183, Average Validation Loss=4.829875, Time Elapsed=54:52\n",
      "Iter=3400, Average Loss=3.302925, Average Validation Loss=4.874410, Time Elapsed=54:54\n",
      "Iter=3450, Average Loss=3.392517, Average Validation Loss=4.739087, Time Elapsed=54:56\n",
      "Iter=3500, Average Loss=3.351117, Average Validation Loss=4.848039, Time Elapsed=54:58\n",
      "Iter=3550, Average Loss=3.200516, Average Validation Loss=4.947842, Time Elapsed=55:00\n",
      "Iter=3600, Average Loss=3.250674, Average Validation Loss=4.761030, Time Elapsed=55:02\n",
      "Iter=3650, Average Loss=3.356910, Average Validation Loss=5.078925, Time Elapsed=55:03\n",
      "Iter=3700, Average Loss=3.160466, Average Validation Loss=4.891540, Time Elapsed=55:05\n",
      "Iter=3750, Average Loss=3.267177, Average Validation Loss=4.747562, Time Elapsed=55:07\n",
      "Iter=3800, Average Loss=3.219571, Average Validation Loss=5.060718, Time Elapsed=55:09\n",
      "Iter=3850, Average Loss=3.159540, Average Validation Loss=4.843007, Time Elapsed=55:12\n",
      "Iter=3900, Average Loss=3.221585, Average Validation Loss=4.880548, Time Elapsed=55:14\n",
      "Iter=3950, Average Loss=3.288875, Average Validation Loss=4.878013, Time Elapsed=55:15\n",
      "Iter=4000, Average Loss=3.151919, Average Validation Loss=4.762256, Time Elapsed=55:17\n",
      "Iter=4050, Average Loss=3.129154, Average Validation Loss=4.829107, Time Elapsed=55:19\n",
      "Iter=4100, Average Loss=3.055881, Average Validation Loss=4.962734, Time Elapsed=55:21\n",
      "Iter=4150, Average Loss=3.273886, Average Validation Loss=4.894679, Time Elapsed=55:23\n",
      "Iter=4200, Average Loss=3.072007, Average Validation Loss=4.847522, Time Elapsed=55:25\n",
      "Iter=4250, Average Loss=3.149980, Average Validation Loss=5.073470, Time Elapsed=55:26\n",
      "Iter=4300, Average Loss=3.133437, Average Validation Loss=4.774690, Time Elapsed=55:28\n",
      "Iter=4350, Average Loss=3.086842, Average Validation Loss=4.981055, Time Elapsed=55:30\n",
      "Iter=4400, Average Loss=3.065386, Average Validation Loss=4.739726, Time Elapsed=55:32\n",
      "Iter=4450, Average Loss=3.083747, Average Validation Loss=4.801908, Time Elapsed=55:34\n",
      "Iter=4500, Average Loss=2.959256, Average Validation Loss=4.677800, Time Elapsed=55:36\n",
      "Iter=4550, Average Loss=3.138431, Average Validation Loss=4.841012, Time Elapsed=55:38\n",
      "Iter=4600, Average Loss=3.103815, Average Validation Loss=4.801741, Time Elapsed=55:39\n",
      "Iter=4650, Average Loss=2.947804, Average Validation Loss=5.011772, Time Elapsed=55:41\n",
      "Iter=4700, Average Loss=3.003238, Average Validation Loss=4.679709, Time Elapsed=55:43\n",
      "Iter=4750, Average Loss=2.997418, Average Validation Loss=4.895444, Time Elapsed=55:45\n"
     ]
    },
    {
     "name": "stdout",
     "output_type": "stream",
     "text": [
      "Iter=4800, Average Loss=2.994748, Average Validation Loss=4.619182, Time Elapsed=55:47\n",
      "Iter=4850, Average Loss=2.984159, Average Validation Loss=4.724911, Time Elapsed=55:49\n",
      "Iter=4900, Average Loss=3.001563, Average Validation Loss=4.850913, Time Elapsed=55:50\n",
      "Iter=4950, Average Loss=2.935101, Average Validation Loss=4.747034, Time Elapsed=55:52\n",
      "Iter=5000, Average Loss=3.053889, Average Validation Loss=5.086279, Time Elapsed=55:54\n",
      "Iter=5050, Average Loss=3.033705, Average Validation Loss=4.844553, Time Elapsed=55:56\n",
      "Iter=5100, Average Loss=2.977254, Average Validation Loss=4.853046, Time Elapsed=55:58\n",
      "Iter=5150, Average Loss=2.980607, Average Validation Loss=4.742471, Time Elapsed=56:00\n",
      "Iter=5200, Average Loss=2.924746, Average Validation Loss=4.699765, Time Elapsed=56:02\n",
      "Iter=5250, Average Loss=2.927111, Average Validation Loss=4.870203, Time Elapsed=56:04\n",
      "Iter=5300, Average Loss=2.922564, Average Validation Loss=4.928240, Time Elapsed=56:05\n",
      "Iter=5350, Average Loss=2.946744, Average Validation Loss=4.698723, Time Elapsed=56:07\n",
      "Iter=5400, Average Loss=3.008520, Average Validation Loss=5.088118, Time Elapsed=56:09\n",
      "Iter=5450, Average Loss=2.876003, Average Validation Loss=4.936891, Time Elapsed=56:11\n",
      "Iter=5500, Average Loss=2.749422, Average Validation Loss=4.499069, Time Elapsed=56:13\n",
      "Iter=5550, Average Loss=2.834763, Average Validation Loss=5.059643, Time Elapsed=56:15\n",
      "Iter=5600, Average Loss=2.895456, Average Validation Loss=5.039583, Time Elapsed=56:16\n",
      "Iter=5650, Average Loss=2.803503, Average Validation Loss=4.852913, Time Elapsed=56:18\n",
      "Iter=5700, Average Loss=2.965054, Average Validation Loss=4.613313, Time Elapsed=56:20\n",
      "Iter=5750, Average Loss=2.809774, Average Validation Loss=4.826397, Time Elapsed=56:22\n",
      "Iter=5800, Average Loss=2.909149, Average Validation Loss=5.005511, Time Elapsed=56:24\n",
      "Iter=5850, Average Loss=2.825002, Average Validation Loss=4.855178, Time Elapsed=56:26\n",
      "Iter=5900, Average Loss=2.885641, Average Validation Loss=4.908726, Time Elapsed=56:28\n",
      "Iter=5950, Average Loss=2.843694, Average Validation Loss=4.878011, Time Elapsed=56:30\n",
      "Iter=6000, Average Loss=2.767138, Average Validation Loss=4.756504, Time Elapsed=56:32\n",
      "Iter=6050, Average Loss=2.863817, Average Validation Loss=4.809708, Time Elapsed=56:34\n",
      "Iter=6100, Average Loss=2.853400, Average Validation Loss=4.803367, Time Elapsed=56:36\n",
      "Iter=6150, Average Loss=2.772156, Average Validation Loss=4.706514, Time Elapsed=56:38\n",
      "Iter=6200, Average Loss=2.770950, Average Validation Loss=4.790636, Time Elapsed=56:40\n",
      "Iter=6250, Average Loss=2.766614, Average Validation Loss=4.723743, Time Elapsed=56:43\n",
      "Iter=6300, Average Loss=2.793523, Average Validation Loss=5.345731, Time Elapsed=56:45\n",
      "Iter=6350, Average Loss=2.750818, Average Validation Loss=4.721361, Time Elapsed=56:47\n",
      "Iter=6400, Average Loss=2.804763, Average Validation Loss=4.845939, Time Elapsed=56:49\n",
      "Iter=6450, Average Loss=2.799853, Average Validation Loss=4.926655, Time Elapsed=56:51\n",
      "Iter=6500, Average Loss=2.887038, Average Validation Loss=4.926835, Time Elapsed=56:53\n",
      "Iter=6550, Average Loss=2.665810, Average Validation Loss=4.843001, Time Elapsed=56:55\n",
      "Iter=6600, Average Loss=2.713552, Average Validation Loss=4.869634, Time Elapsed=56:57\n",
      "Iter=6650, Average Loss=2.802230, Average Validation Loss=4.701106, Time Elapsed=56:59\n",
      "Iter=6700, Average Loss=2.705425, Average Validation Loss=4.617649, Time Elapsed=57:02\n",
      "Iter=6750, Average Loss=2.729359, Average Validation Loss=4.696629, Time Elapsed=57:04\n",
      "Iter=6800, Average Loss=2.720279, Average Validation Loss=4.818355, Time Elapsed=57:06\n",
      "Iter=6850, Average Loss=2.639634, Average Validation Loss=4.747677, Time Elapsed=57:08\n",
      "Iter=6900, Average Loss=2.814286, Average Validation Loss=4.666236, Time Elapsed=57:10\n",
      "Iter=6950, Average Loss=2.738697, Average Validation Loss=4.722968, Time Elapsed=57:12\n",
      "Iter=7000, Average Loss=2.827359, Average Validation Loss=4.901073, Time Elapsed=57:14\n",
      "Iter=7050, Average Loss=2.734616, Average Validation Loss=4.857987, Time Elapsed=57:16\n",
      "Iter=7100, Average Loss=2.673838, Average Validation Loss=5.119571, Time Elapsed=57:18\n",
      "Iter=7150, Average Loss=2.649851, Average Validation Loss=4.743763, Time Elapsed=57:21\n",
      "Iter=7200, Average Loss=2.705342, Average Validation Loss=4.899794, Time Elapsed=57:23\n",
      "Iter=7250, Average Loss=2.636093, Average Validation Loss=5.080653, Time Elapsed=57:25\n",
      "Iter=7300, Average Loss=2.683856, Average Validation Loss=4.761322, Time Elapsed=57:27\n",
      "Iter=7350, Average Loss=2.639872, Average Validation Loss=4.969286, Time Elapsed=57:29\n",
      "Iter=7400, Average Loss=2.727956, Average Validation Loss=4.936986, Time Elapsed=57:31\n",
      "Iter=7450, Average Loss=2.710115, Average Validation Loss=4.843691, Time Elapsed=57:33\n",
      "Iter=7500, Average Loss=2.566829, Average Validation Loss=4.791212, Time Elapsed=57:36\n",
      "Iter=7550, Average Loss=2.646300, Average Validation Loss=4.907225, Time Elapsed=57:38\n",
      "Iter=7600, Average Loss=2.706852, Average Validation Loss=4.439680, Time Elapsed=57:40\n",
      "Iter=7650, Average Loss=2.696481, Average Validation Loss=4.993706, Time Elapsed=57:42\n",
      "Iter=7700, Average Loss=2.633168, Average Validation Loss=4.672628, Time Elapsed=57:44\n",
      "Iter=7750, Average Loss=2.671285, Average Validation Loss=4.723878, Time Elapsed=57:46\n",
      "Iter=7800, Average Loss=2.641719, Average Validation Loss=4.612064, Time Elapsed=57:48\n",
      "Iter=7850, Average Loss=2.643725, Average Validation Loss=4.949730, Time Elapsed=57:50\n",
      "Iter=7900, Average Loss=2.569181, Average Validation Loss=4.783789, Time Elapsed=57:52\n",
      "Iter=7950, Average Loss=2.577611, Average Validation Loss=5.115496, Time Elapsed=57:54\n",
      "Iter=8000, Average Loss=2.683410, Average Validation Loss=4.830120, Time Elapsed=57:57\n",
      "Iter=8050, Average Loss=2.594616, Average Validation Loss=4.980783, Time Elapsed=58:00\n",
      "Iter=8100, Average Loss=2.655007, Average Validation Loss=5.008788, Time Elapsed=58:03\n",
      "Iter=8150, Average Loss=2.617055, Average Validation Loss=5.140028, Time Elapsed=58:05\n",
      "Iter=8200, Average Loss=2.577107, Average Validation Loss=5.045927, Time Elapsed=58:08\n",
      "Iter=8250, Average Loss=2.530935, Average Validation Loss=4.820014, Time Elapsed=58:11\n",
      "Iter=8300, Average Loss=2.525934, Average Validation Loss=4.996696, Time Elapsed=58:13\n",
      "Iter=8350, Average Loss=2.634366, Average Validation Loss=4.805123, Time Elapsed=58:15\n",
      "Iter=8400, Average Loss=2.587533, Average Validation Loss=5.150468, Time Elapsed=58:17\n",
      "Iter=8450, Average Loss=2.625049, Average Validation Loss=4.909234, Time Elapsed=58:19\n",
      "Iter=8500, Average Loss=2.629259, Average Validation Loss=5.020129, Time Elapsed=58:21\n",
      "Iter=8550, Average Loss=2.501229, Average Validation Loss=4.700769, Time Elapsed=58:23\n",
      "Iter=8600, Average Loss=2.615812, Average Validation Loss=4.943189, Time Elapsed=58:26\n",
      "Iter=8650, Average Loss=2.535811, Average Validation Loss=4.670585, Time Elapsed=58:28\n",
      "Iter=8700, Average Loss=2.491604, Average Validation Loss=4.984136, Time Elapsed=58:30\n",
      "Iter=8750, Average Loss=2.542628, Average Validation Loss=4.837777, Time Elapsed=58:32\n",
      "Iter=8800, Average Loss=2.571359, Average Validation Loss=5.046680, Time Elapsed=58:34\n",
      "Iter=8850, Average Loss=2.467499, Average Validation Loss=4.777259, Time Elapsed=58:36\n",
      "Iter=8900, Average Loss=2.542079, Average Validation Loss=4.855135, Time Elapsed=58:38\n",
      "Iter=8950, Average Loss=2.583313, Average Validation Loss=4.782616, Time Elapsed=58:40\n",
      "Iter=9000, Average Loss=2.551154, Average Validation Loss=5.063593, Time Elapsed=58:42\n",
      "Iter=9050, Average Loss=2.552293, Average Validation Loss=4.991253, Time Elapsed=58:44\n",
      "Iter=9100, Average Loss=2.513619, Average Validation Loss=4.689023, Time Elapsed=58:46\n",
      "Iter=9150, Average Loss=2.519852, Average Validation Loss=5.095723, Time Elapsed=58:48\n",
      "Iter=9200, Average Loss=2.512380, Average Validation Loss=5.187062, Time Elapsed=58:50\n",
      "Iter=9250, Average Loss=2.523647, Average Validation Loss=4.769333, Time Elapsed=58:52\n",
      "Iter=9300, Average Loss=2.498073, Average Validation Loss=4.766465, Time Elapsed=58:55\n",
      "Iter=9350, Average Loss=2.530609, Average Validation Loss=4.896749, Time Elapsed=58:57\n",
      "Iter=9400, Average Loss=2.512529, Average Validation Loss=4.938709, Time Elapsed=58:59\n",
      "Iter=9450, Average Loss=2.586525, Average Validation Loss=4.695165, Time Elapsed=59:01\n",
      "Iter=9500, Average Loss=2.419511, Average Validation Loss=5.063949, Time Elapsed=59:03\n"
     ]
    },
    {
     "name": "stdout",
     "output_type": "stream",
     "text": [
      "Iter=9550, Average Loss=2.503242, Average Validation Loss=4.765126, Time Elapsed=59:05\n",
      "Iter=9600, Average Loss=2.555698, Average Validation Loss=4.752828, Time Elapsed=59:07\n",
      "Iter=9650, Average Loss=2.486166, Average Validation Loss=4.943997, Time Elapsed=59:09\n",
      "Iter=9700, Average Loss=2.505886, Average Validation Loss=4.822936, Time Elapsed=59:11\n",
      "Iter=9750, Average Loss=2.547086, Average Validation Loss=5.011316, Time Elapsed=59:13\n",
      "Iter=9800, Average Loss=2.554098, Average Validation Loss=4.725395, Time Elapsed=59:15\n",
      "Iter=9850, Average Loss=2.459341, Average Validation Loss=5.101621, Time Elapsed=59:18\n",
      "Iter=9900, Average Loss=2.534377, Average Validation Loss=4.983873, Time Elapsed=59:20\n",
      "Iter=9950, Average Loss=2.542939, Average Validation Loss=4.732771, Time Elapsed=59:22\n",
      "Iter=10000, Average Loss=2.535497, Average Validation Loss=4.986905, Time Elapsed=59:24\n",
      "Iter=10050, Average Loss=2.507966, Average Validation Loss=5.164427, Time Elapsed=59:26\n",
      "Iter=10100, Average Loss=2.411421, Average Validation Loss=4.918546, Time Elapsed=59:28\n",
      "Iter=10150, Average Loss=2.541732, Average Validation Loss=4.698574, Time Elapsed=59:30\n",
      "Iter=10200, Average Loss=2.543192, Average Validation Loss=4.868082, Time Elapsed=59:32\n",
      "Iter=10250, Average Loss=2.479128, Average Validation Loss=4.919507, Time Elapsed=59:34\n",
      "Iter=10300, Average Loss=2.456566, Average Validation Loss=4.983575, Time Elapsed=59:36\n",
      "Iter=10350, Average Loss=2.459833, Average Validation Loss=4.801142, Time Elapsed=59:38\n",
      "Iter=10400, Average Loss=2.504372, Average Validation Loss=5.006671, Time Elapsed=59:40\n",
      "Iter=10450, Average Loss=2.524295, Average Validation Loss=4.838008, Time Elapsed=59:42\n",
      "Iter=10500, Average Loss=2.488197, Average Validation Loss=5.097988, Time Elapsed=59:45\n",
      "Iter=10550, Average Loss=2.527417, Average Validation Loss=5.071417, Time Elapsed=59:47\n",
      "Iter=10600, Average Loss=2.553404, Average Validation Loss=4.908701, Time Elapsed=59:49\n",
      "Iter=10650, Average Loss=2.416243, Average Validation Loss=5.102751, Time Elapsed=59:51\n",
      "Iter=10700, Average Loss=2.367740, Average Validation Loss=5.059734, Time Elapsed=59:53\n",
      "Iter=10750, Average Loss=2.405422, Average Validation Loss=5.147545, Time Elapsed=59:55\n",
      "Iter=10800, Average Loss=2.332485, Average Validation Loss=5.069066, Time Elapsed=59:57\n",
      "Iter=10850, Average Loss=2.452081, Average Validation Loss=5.009196, Time Elapsed=59:59\n",
      "Iter=10900, Average Loss=2.492987, Average Validation Loss=4.917955, Time Elapsed=60:01\n",
      "Iter=10950, Average Loss=2.487174, Average Validation Loss=4.955002, Time Elapsed=60:04\n",
      "Iter=11000, Average Loss=2.535132, Average Validation Loss=4.847957, Time Elapsed=60:06\n",
      "Iter=11050, Average Loss=2.476427, Average Validation Loss=5.389785, Time Elapsed=60:08\n",
      "Iter=11100, Average Loss=2.349731, Average Validation Loss=4.790948, Time Elapsed=60:10\n",
      "Iter=11150, Average Loss=2.493099, Average Validation Loss=5.170472, Time Elapsed=60:12\n",
      "Iter=11200, Average Loss=2.398517, Average Validation Loss=4.937035, Time Elapsed=60:15\n",
      "Iter=11250, Average Loss=2.529174, Average Validation Loss=5.111046, Time Elapsed=60:17\n",
      "Iter=11300, Average Loss=2.445321, Average Validation Loss=5.026665, Time Elapsed=60:19\n",
      "Iter=11350, Average Loss=2.390495, Average Validation Loss=5.123205, Time Elapsed=60:21\n",
      "Iter=11400, Average Loss=2.507077, Average Validation Loss=4.994761, Time Elapsed=60:23\n",
      "Iter=11450, Average Loss=2.422024, Average Validation Loss=4.987994, Time Elapsed=60:26\n",
      "Iter=11500, Average Loss=2.365916, Average Validation Loss=4.535647, Time Elapsed=60:28\n",
      "Iter=11550, Average Loss=2.406655, Average Validation Loss=4.819766, Time Elapsed=60:30\n",
      "Iter=11600, Average Loss=2.407677, Average Validation Loss=5.056208, Time Elapsed=60:32\n",
      "Iter=11650, Average Loss=2.411010, Average Validation Loss=5.147461, Time Elapsed=60:34\n",
      "Iter=11700, Average Loss=2.375140, Average Validation Loss=5.337644, Time Elapsed=60:36\n",
      "Iter=11750, Average Loss=2.378804, Average Validation Loss=5.094936, Time Elapsed=60:38\n",
      "Iter=11800, Average Loss=2.432904, Average Validation Loss=5.173436, Time Elapsed=60:40\n",
      "Iter=11850, Average Loss=2.478220, Average Validation Loss=5.017035, Time Elapsed=60:42\n",
      "Iter=11900, Average Loss=2.381636, Average Validation Loss=5.268510, Time Elapsed=60:45\n",
      "Iter=11950, Average Loss=2.400699, Average Validation Loss=5.063167, Time Elapsed=60:47\n",
      "Iter=12000, Average Loss=2.298083, Average Validation Loss=5.080272, Time Elapsed=60:49\n",
      "Iter=12050, Average Loss=2.398836, Average Validation Loss=5.112978, Time Elapsed=60:51\n",
      "Iter=12100, Average Loss=2.360007, Average Validation Loss=4.817476, Time Elapsed=60:53\n",
      "Iter=12150, Average Loss=2.284605, Average Validation Loss=5.102487, Time Elapsed=60:55\n",
      "Iter=12200, Average Loss=2.314636, Average Validation Loss=5.013535, Time Elapsed=60:57\n",
      "Iter=12250, Average Loss=2.351397, Average Validation Loss=4.944989, Time Elapsed=60:59\n",
      "Iter=12300, Average Loss=2.378290, Average Validation Loss=4.990770, Time Elapsed=61:01\n",
      "Iter=12350, Average Loss=2.425527, Average Validation Loss=4.920814, Time Elapsed=61:04\n",
      "Iter=12400, Average Loss=2.308083, Average Validation Loss=4.936642, Time Elapsed=61:06\n",
      "Iter=12450, Average Loss=2.391682, Average Validation Loss=4.911941, Time Elapsed=61:08\n",
      "Iter=12500, Average Loss=2.359143, Average Validation Loss=5.289273, Time Elapsed=61:10\n",
      "Iter=12550, Average Loss=2.247104, Average Validation Loss=4.910829, Time Elapsed=61:12\n",
      "Iter=12600, Average Loss=2.398959, Average Validation Loss=4.952268, Time Elapsed=61:14\n",
      "Iter=12650, Average Loss=2.302360, Average Validation Loss=4.856210, Time Elapsed=61:17\n",
      "Iter=12700, Average Loss=2.401953, Average Validation Loss=5.222839, Time Elapsed=61:19\n",
      "Iter=12750, Average Loss=2.334626, Average Validation Loss=4.875679, Time Elapsed=61:21\n",
      "Iter=12800, Average Loss=2.332107, Average Validation Loss=4.743805, Time Elapsed=61:23\n",
      "Iter=12850, Average Loss=2.393801, Average Validation Loss=5.178279, Time Elapsed=61:25\n",
      "Iter=12900, Average Loss=2.386155, Average Validation Loss=5.491838, Time Elapsed=61:27\n",
      "Iter=12950, Average Loss=2.347920, Average Validation Loss=5.427886, Time Elapsed=61:29\n",
      "Iter=13000, Average Loss=2.342218, Average Validation Loss=5.103178, Time Elapsed=61:31\n",
      "Iter=13050, Average Loss=2.304567, Average Validation Loss=5.093975, Time Elapsed=61:34\n",
      "Iter=13100, Average Loss=2.343006, Average Validation Loss=5.178161, Time Elapsed=61:36\n",
      "Iter=13150, Average Loss=2.365945, Average Validation Loss=5.175755, Time Elapsed=61:38\n",
      "Iter=13200, Average Loss=2.348559, Average Validation Loss=5.046544, Time Elapsed=61:40\n",
      "Iter=13250, Average Loss=2.346755, Average Validation Loss=4.903063, Time Elapsed=61:42\n",
      "Iter=13300, Average Loss=2.301943, Average Validation Loss=4.977094, Time Elapsed=61:44\n",
      "Iter=13350, Average Loss=2.397121, Average Validation Loss=4.863683, Time Elapsed=61:46\n",
      "Iter=13400, Average Loss=2.401958, Average Validation Loss=5.272641, Time Elapsed=61:49\n",
      "Iter=13450, Average Loss=2.313233, Average Validation Loss=5.025215, Time Elapsed=61:51\n",
      "Iter=13500, Average Loss=2.289929, Average Validation Loss=4.930451, Time Elapsed=61:53\n",
      "Iter=13550, Average Loss=2.324975, Average Validation Loss=5.331834, Time Elapsed=61:55\n",
      "Iter=13600, Average Loss=2.260921, Average Validation Loss=5.456669, Time Elapsed=61:57\n",
      "Iter=13650, Average Loss=2.292217, Average Validation Loss=5.199612, Time Elapsed=61:59\n",
      "Iter=13700, Average Loss=2.330556, Average Validation Loss=4.886563, Time Elapsed=62:02\n",
      "Iter=13750, Average Loss=2.319014, Average Validation Loss=5.004444, Time Elapsed=62:04\n",
      "Iter=13800, Average Loss=2.289934, Average Validation Loss=4.949348, Time Elapsed=62:06\n",
      "Iter=13850, Average Loss=2.376882, Average Validation Loss=5.096747, Time Elapsed=62:08\n",
      "Iter=13900, Average Loss=2.301109, Average Validation Loss=5.131114, Time Elapsed=62:10\n",
      "Iter=13950, Average Loss=2.249171, Average Validation Loss=4.875398, Time Elapsed=62:12\n",
      "Iter=14000, Average Loss=2.432312, Average Validation Loss=5.114072, Time Elapsed=62:14\n",
      "Iter=14050, Average Loss=2.403710, Average Validation Loss=5.253189, Time Elapsed=62:17\n",
      "Iter=14100, Average Loss=2.241390, Average Validation Loss=4.829617, Time Elapsed=62:19\n",
      "Iter=14150, Average Loss=2.349505, Average Validation Loss=4.907913, Time Elapsed=62:21\n",
      "Iter=14200, Average Loss=2.295149, Average Validation Loss=5.350381, Time Elapsed=62:23\n"
     ]
    },
    {
     "name": "stdout",
     "output_type": "stream",
     "text": [
      "Iter=14250, Average Loss=2.197634, Average Validation Loss=4.877770, Time Elapsed=62:25\n",
      "Iter=14300, Average Loss=2.240343, Average Validation Loss=5.045702, Time Elapsed=62:27\n",
      "Iter=14350, Average Loss=2.401456, Average Validation Loss=5.266387, Time Elapsed=62:30\n",
      "Iter=14400, Average Loss=2.312048, Average Validation Loss=5.360466, Time Elapsed=62:32\n",
      "Iter=14450, Average Loss=2.228380, Average Validation Loss=5.329848, Time Elapsed=62:34\n",
      "Iter=14500, Average Loss=2.270817, Average Validation Loss=5.029374, Time Elapsed=62:36\n",
      "Iter=14550, Average Loss=2.282815, Average Validation Loss=5.172461, Time Elapsed=62:38\n",
      "Iter=14600, Average Loss=2.347180, Average Validation Loss=5.260554, Time Elapsed=62:40\n",
      "Iter=14650, Average Loss=2.258175, Average Validation Loss=4.829147, Time Elapsed=62:43\n",
      "Iter=14700, Average Loss=2.262678, Average Validation Loss=4.919152, Time Elapsed=62:45\n",
      "Iter=14750, Average Loss=2.221939, Average Validation Loss=5.205680, Time Elapsed=62:47\n",
      "Iter=14800, Average Loss=2.316759, Average Validation Loss=5.042373, Time Elapsed=62:49\n",
      "Iter=14850, Average Loss=2.275218, Average Validation Loss=4.943693, Time Elapsed=62:51\n",
      "Iter=14900, Average Loss=2.279804, Average Validation Loss=4.616443, Time Elapsed=62:53\n",
      "Iter=14950, Average Loss=2.284381, Average Validation Loss=5.334182, Time Elapsed=62:56\n",
      "Iter=15000, Average Loss=2.214692, Average Validation Loss=5.315092, Time Elapsed=62:58\n",
      "Iter=15050, Average Loss=2.187538, Average Validation Loss=5.421642, Time Elapsed=63:00\n",
      "Iter=15100, Average Loss=2.192554, Average Validation Loss=5.035480, Time Elapsed=63:02\n",
      "Iter=15150, Average Loss=2.241009, Average Validation Loss=5.199854, Time Elapsed=63:04\n",
      "Iter=15200, Average Loss=2.220896, Average Validation Loss=4.850391, Time Elapsed=63:06\n",
      "Iter=15250, Average Loss=2.291090, Average Validation Loss=5.483840, Time Elapsed=63:09\n",
      "Iter=15300, Average Loss=2.331030, Average Validation Loss=5.194096, Time Elapsed=63:11\n",
      "Iter=15350, Average Loss=2.194769, Average Validation Loss=5.024700, Time Elapsed=63:13\n",
      "Iter=15400, Average Loss=2.281577, Average Validation Loss=5.072842, Time Elapsed=63:15\n",
      "Iter=15450, Average Loss=2.274759, Average Validation Loss=5.146412, Time Elapsed=63:17\n",
      "Iter=15500, Average Loss=2.270907, Average Validation Loss=5.211509, Time Elapsed=63:19\n",
      "Iter=15550, Average Loss=2.380564, Average Validation Loss=5.270598, Time Elapsed=63:21\n",
      "Iter=15600, Average Loss=2.244164, Average Validation Loss=4.934756, Time Elapsed=63:24\n",
      "Iter=15650, Average Loss=2.253493, Average Validation Loss=4.875921, Time Elapsed=63:26\n",
      "Iter=15700, Average Loss=2.181293, Average Validation Loss=5.058350, Time Elapsed=63:28\n",
      "Iter=15750, Average Loss=2.236107, Average Validation Loss=5.133951, Time Elapsed=63:31\n",
      "Iter=15800, Average Loss=2.322920, Average Validation Loss=5.082638, Time Elapsed=63:34\n",
      "Iter=15850, Average Loss=2.174348, Average Validation Loss=5.293588, Time Elapsed=63:36\n",
      "Iter=15900, Average Loss=2.100887, Average Validation Loss=5.009327, Time Elapsed=63:38\n",
      "Iter=15950, Average Loss=2.283303, Average Validation Loss=5.228481, Time Elapsed=63:40\n",
      "Iter=16000, Average Loss=2.297176, Average Validation Loss=5.239861, Time Elapsed=63:42\n",
      "Iter=16050, Average Loss=2.213968, Average Validation Loss=5.117429, Time Elapsed=63:44\n",
      "Iter=16100, Average Loss=2.239701, Average Validation Loss=5.280574, Time Elapsed=63:47\n",
      "Iter=16150, Average Loss=2.173832, Average Validation Loss=5.087977, Time Elapsed=63:49\n",
      "Iter=16200, Average Loss=2.293504, Average Validation Loss=5.097597, Time Elapsed=63:51\n",
      "Iter=16250, Average Loss=2.243415, Average Validation Loss=5.247030, Time Elapsed=63:53\n",
      "Iter=16300, Average Loss=2.260671, Average Validation Loss=4.967219, Time Elapsed=63:55\n",
      "Iter=16350, Average Loss=2.212488, Average Validation Loss=4.805238, Time Elapsed=63:57\n",
      "Iter=16400, Average Loss=2.241748, Average Validation Loss=5.225215, Time Elapsed=64:00\n",
      "Iter=16450, Average Loss=2.289018, Average Validation Loss=4.982798, Time Elapsed=64:02\n",
      "Iter=16500, Average Loss=2.258354, Average Validation Loss=5.169029, Time Elapsed=64:04\n",
      "Iter=16550, Average Loss=2.239605, Average Validation Loss=5.232306, Time Elapsed=64:06\n",
      "Iter=16600, Average Loss=2.254459, Average Validation Loss=5.335857, Time Elapsed=64:09\n",
      "Iter=16650, Average Loss=2.092705, Average Validation Loss=5.221481, Time Elapsed=64:11\n",
      "Iter=16700, Average Loss=2.207866, Average Validation Loss=5.004657, Time Elapsed=64:13\n",
      "Iter=16750, Average Loss=2.229529, Average Validation Loss=5.063939, Time Elapsed=64:15\n",
      "Iter=16800, Average Loss=2.255992, Average Validation Loss=5.365125, Time Elapsed=64:17\n",
      "Iter=16850, Average Loss=2.238536, Average Validation Loss=5.102947, Time Elapsed=64:19\n",
      "Iter=16900, Average Loss=2.263832, Average Validation Loss=4.939054, Time Elapsed=64:21\n",
      "Iter=16950, Average Loss=2.139383, Average Validation Loss=5.337830, Time Elapsed=64:24\n",
      "Iter=17000, Average Loss=2.160493, Average Validation Loss=4.884032, Time Elapsed=64:26\n",
      "Iter=17050, Average Loss=2.205049, Average Validation Loss=4.978589, Time Elapsed=64:28\n",
      "Iter=17100, Average Loss=2.220526, Average Validation Loss=5.103530, Time Elapsed=64:30\n",
      "Iter=17150, Average Loss=2.264433, Average Validation Loss=5.015902, Time Elapsed=64:32\n",
      "Iter=17200, Average Loss=2.129184, Average Validation Loss=4.931866, Time Elapsed=64:34\n",
      "Iter=17250, Average Loss=2.202736, Average Validation Loss=5.099850, Time Elapsed=64:37\n",
      "Iter=17300, Average Loss=2.229227, Average Validation Loss=5.143059, Time Elapsed=64:39\n",
      "Iter=17350, Average Loss=2.177453, Average Validation Loss=5.299411, Time Elapsed=64:41\n",
      "Iter=17400, Average Loss=2.178657, Average Validation Loss=5.022376, Time Elapsed=64:43\n",
      "Iter=17450, Average Loss=2.136409, Average Validation Loss=5.197006, Time Elapsed=64:45\n",
      "Iter=17500, Average Loss=2.139797, Average Validation Loss=5.142884, Time Elapsed=64:48\n",
      "Iter=17550, Average Loss=2.168769, Average Validation Loss=4.906162, Time Elapsed=64:50\n",
      "Iter=17600, Average Loss=2.149206, Average Validation Loss=4.990907, Time Elapsed=64:52\n",
      "Iter=17650, Average Loss=2.194465, Average Validation Loss=5.264625, Time Elapsed=64:54\n",
      "Iter=17700, Average Loss=2.199533, Average Validation Loss=5.395255, Time Elapsed=64:56\n",
      "Iter=17750, Average Loss=2.173750, Average Validation Loss=5.376134, Time Elapsed=64:59\n",
      "Iter=17800, Average Loss=2.221730, Average Validation Loss=5.140532, Time Elapsed=65:01\n",
      "Iter=17850, Average Loss=2.172243, Average Validation Loss=5.256506, Time Elapsed=65:03\n",
      "Iter=17900, Average Loss=2.177347, Average Validation Loss=5.186208, Time Elapsed=65:05\n",
      "Iter=17950, Average Loss=2.214538, Average Validation Loss=5.413529, Time Elapsed=65:08\n",
      "Iter=18000, Average Loss=2.288921, Average Validation Loss=5.364907, Time Elapsed=65:10\n",
      "Iter=18050, Average Loss=2.163289, Average Validation Loss=5.134968, Time Elapsed=65:12\n",
      "Iter=18100, Average Loss=2.137815, Average Validation Loss=5.296143, Time Elapsed=65:14\n",
      "Iter=18150, Average Loss=2.141482, Average Validation Loss=5.248376, Time Elapsed=65:17\n",
      "Iter=18200, Average Loss=2.200329, Average Validation Loss=5.098802, Time Elapsed=65:19\n",
      "Iter=18250, Average Loss=2.196083, Average Validation Loss=5.334917, Time Elapsed=65:21\n",
      "Iter=18300, Average Loss=2.158590, Average Validation Loss=4.940187, Time Elapsed=65:24\n",
      "Iter=18350, Average Loss=2.158890, Average Validation Loss=5.072329, Time Elapsed=65:26\n",
      "Iter=18400, Average Loss=2.177184, Average Validation Loss=5.292851, Time Elapsed=65:28\n",
      "Iter=18450, Average Loss=2.151288, Average Validation Loss=5.172709, Time Elapsed=65:31\n",
      "Iter=18500, Average Loss=2.221559, Average Validation Loss=5.243281, Time Elapsed=65:33\n",
      "Iter=18550, Average Loss=2.124632, Average Validation Loss=5.576684, Time Elapsed=65:35\n",
      "Iter=18600, Average Loss=2.262231, Average Validation Loss=5.069816, Time Elapsed=65:38\n",
      "Iter=18650, Average Loss=2.280950, Average Validation Loss=5.540919, Time Elapsed=65:40\n",
      "Iter=18700, Average Loss=2.222355, Average Validation Loss=5.164407, Time Elapsed=65:42\n",
      "Iter=18750, Average Loss=2.145380, Average Validation Loss=5.380652, Time Elapsed=65:45\n",
      "Iter=18800, Average Loss=2.227734, Average Validation Loss=5.129372, Time Elapsed=65:47\n",
      "Iter=18850, Average Loss=2.207775, Average Validation Loss=5.155390, Time Elapsed=65:50\n",
      "Iter=18900, Average Loss=2.228623, Average Validation Loss=5.168768, Time Elapsed=65:52\n"
     ]
    },
    {
     "name": "stdout",
     "output_type": "stream",
     "text": [
      "Iter=18950, Average Loss=2.041637, Average Validation Loss=5.408569, Time Elapsed=65:54\n",
      "Iter=19000, Average Loss=2.158539, Average Validation Loss=5.284973, Time Elapsed=65:57\n",
      "Iter=19050, Average Loss=2.119004, Average Validation Loss=5.181267, Time Elapsed=65:59\n",
      "Iter=19100, Average Loss=2.131259, Average Validation Loss=5.291698, Time Elapsed=66:02\n",
      "Iter=19150, Average Loss=2.199357, Average Validation Loss=5.160203, Time Elapsed=66:04\n",
      "Iter=19200, Average Loss=2.145683, Average Validation Loss=5.049441, Time Elapsed=66:07\n",
      "Iter=19250, Average Loss=2.074773, Average Validation Loss=5.516810, Time Elapsed=66:09\n",
      "Iter=19300, Average Loss=2.175510, Average Validation Loss=5.020726, Time Elapsed=66:12\n",
      "Iter=19350, Average Loss=2.135713, Average Validation Loss=5.526490, Time Elapsed=66:14\n",
      "Iter=19400, Average Loss=2.182000, Average Validation Loss=5.152720, Time Elapsed=66:16\n",
      "Iter=19450, Average Loss=2.092122, Average Validation Loss=5.002328, Time Elapsed=66:19\n",
      "Iter=19500, Average Loss=2.076309, Average Validation Loss=5.080263, Time Elapsed=66:21\n",
      "Iter=19550, Average Loss=2.158638, Average Validation Loss=5.020346, Time Elapsed=66:24\n",
      "Iter=19600, Average Loss=2.177413, Average Validation Loss=5.196443, Time Elapsed=66:26\n",
      "Iter=19650, Average Loss=2.101003, Average Validation Loss=5.583754, Time Elapsed=66:28\n",
      "Iter=19700, Average Loss=2.126589, Average Validation Loss=5.348342, Time Elapsed=66:31\n",
      "Iter=19750, Average Loss=2.142302, Average Validation Loss=5.305216, Time Elapsed=66:33\n",
      "Iter=19800, Average Loss=2.131647, Average Validation Loss=5.151694, Time Elapsed=66:35\n",
      "Iter=19850, Average Loss=2.062163, Average Validation Loss=4.995770, Time Elapsed=66:38\n",
      "Iter=19900, Average Loss=2.185610, Average Validation Loss=5.486408, Time Elapsed=66:40\n",
      "Iter=19950, Average Loss=2.126809, Average Validation Loss=5.127287, Time Elapsed=66:43\n",
      "Iter=20000, Average Loss=2.087254, Average Validation Loss=5.289497, Time Elapsed=66:45\n",
      "Iter=20050, Average Loss=2.178977, Average Validation Loss=5.391832, Time Elapsed=66:47\n",
      "Iter=20100, Average Loss=2.130979, Average Validation Loss=5.234807, Time Elapsed=66:50\n",
      "Iter=20150, Average Loss=2.175500, Average Validation Loss=5.233029, Time Elapsed=66:52\n",
      "Iter=20200, Average Loss=2.134530, Average Validation Loss=4.928685, Time Elapsed=66:55\n",
      "Iter=20250, Average Loss=2.147500, Average Validation Loss=5.223751, Time Elapsed=66:57\n",
      "Iter=20300, Average Loss=2.171086, Average Validation Loss=5.586140, Time Elapsed=66:59\n",
      "Iter=20350, Average Loss=2.144121, Average Validation Loss=5.311227, Time Elapsed=67:02\n",
      "Iter=20400, Average Loss=2.167054, Average Validation Loss=5.365253, Time Elapsed=67:04\n",
      "Iter=20450, Average Loss=2.041841, Average Validation Loss=4.918717, Time Elapsed=67:06\n",
      "Iter=20500, Average Loss=2.150123, Average Validation Loss=5.046875, Time Elapsed=67:09\n",
      "Iter=20550, Average Loss=2.042966, Average Validation Loss=5.449219, Time Elapsed=67:11\n",
      "Iter=20600, Average Loss=2.142169, Average Validation Loss=5.444991, Time Elapsed=67:14\n",
      "Iter=20650, Average Loss=2.153724, Average Validation Loss=5.263228, Time Elapsed=67:16\n",
      "Iter=20700, Average Loss=2.195369, Average Validation Loss=5.134225, Time Elapsed=67:18\n",
      "Iter=20750, Average Loss=2.143267, Average Validation Loss=5.069437, Time Elapsed=67:21\n",
      "Iter=20800, Average Loss=2.247959, Average Validation Loss=5.248061, Time Elapsed=67:23\n",
      "Iter=20850, Average Loss=2.132441, Average Validation Loss=4.981400, Time Elapsed=67:26\n",
      "Iter=20900, Average Loss=2.066589, Average Validation Loss=5.184458, Time Elapsed=67:28\n",
      "Iter=20950, Average Loss=2.198961, Average Validation Loss=5.349849, Time Elapsed=67:30\n",
      "Iter=21000, Average Loss=2.088699, Average Validation Loss=5.496591, Time Elapsed=67:33\n",
      "Iter=21050, Average Loss=2.084219, Average Validation Loss=5.034142, Time Elapsed=67:35\n",
      "Iter=21100, Average Loss=2.141278, Average Validation Loss=5.444311, Time Elapsed=67:38\n",
      "Iter=21150, Average Loss=2.027695, Average Validation Loss=5.185157, Time Elapsed=67:40\n",
      "Iter=21200, Average Loss=2.056352, Average Validation Loss=5.158056, Time Elapsed=67:42\n",
      "Iter=21250, Average Loss=2.079849, Average Validation Loss=5.280380, Time Elapsed=67:45\n",
      "Iter=21300, Average Loss=2.057338, Average Validation Loss=5.121667, Time Elapsed=67:47\n",
      "Iter=21350, Average Loss=2.149489, Average Validation Loss=5.425001, Time Elapsed=67:50\n",
      "Iter=21400, Average Loss=2.136481, Average Validation Loss=5.248820, Time Elapsed=67:52\n",
      "Iter=21450, Average Loss=2.136055, Average Validation Loss=5.287588, Time Elapsed=67:54\n",
      "Iter=21500, Average Loss=2.109125, Average Validation Loss=4.846993, Time Elapsed=67:57\n",
      "Iter=21550, Average Loss=2.083084, Average Validation Loss=5.207039, Time Elapsed=67:59\n",
      "Iter=21600, Average Loss=2.089707, Average Validation Loss=5.310709, Time Elapsed=68:02\n",
      "Iter=21650, Average Loss=2.222098, Average Validation Loss=5.496052, Time Elapsed=68:04\n",
      "Iter=21700, Average Loss=2.103621, Average Validation Loss=5.527797, Time Elapsed=68:07\n",
      "Iter=21750, Average Loss=2.109958, Average Validation Loss=5.199106, Time Elapsed=68:09\n",
      "Iter=21800, Average Loss=2.110897, Average Validation Loss=5.090180, Time Elapsed=68:12\n",
      "Iter=21850, Average Loss=2.146154, Average Validation Loss=4.976716, Time Elapsed=68:14\n",
      "Iter=21900, Average Loss=2.147287, Average Validation Loss=5.292288, Time Elapsed=68:16\n",
      "Iter=21950, Average Loss=2.111602, Average Validation Loss=5.456154, Time Elapsed=68:19\n",
      "Iter=22000, Average Loss=2.139602, Average Validation Loss=4.951770, Time Elapsed=68:21\n",
      "Iter=22050, Average Loss=2.124000, Average Validation Loss=5.010506, Time Elapsed=68:23\n",
      "Iter=22100, Average Loss=2.048604, Average Validation Loss=5.183450, Time Elapsed=68:26\n",
      "Iter=22150, Average Loss=2.201314, Average Validation Loss=4.980775, Time Elapsed=68:28\n",
      "Iter=22200, Average Loss=2.147943, Average Validation Loss=4.942906, Time Elapsed=68:31\n",
      "Iter=22250, Average Loss=2.044066, Average Validation Loss=5.369559, Time Elapsed=68:33\n",
      "Iter=22300, Average Loss=2.010964, Average Validation Loss=5.526217, Time Elapsed=68:35\n",
      "Iter=22350, Average Loss=1.990586, Average Validation Loss=5.255853, Time Elapsed=68:38\n",
      "Iter=22400, Average Loss=2.144925, Average Validation Loss=5.432490, Time Elapsed=68:40\n",
      "Iter=22450, Average Loss=2.045772, Average Validation Loss=4.972585, Time Elapsed=68:43\n",
      "Iter=22500, Average Loss=2.055697, Average Validation Loss=4.861091, Time Elapsed=68:45\n",
      "Iter=22550, Average Loss=2.192949, Average Validation Loss=5.656605, Time Elapsed=68:47\n",
      "Iter=22600, Average Loss=2.101483, Average Validation Loss=5.473016, Time Elapsed=68:50\n",
      "Iter=22650, Average Loss=2.106431, Average Validation Loss=5.255272, Time Elapsed=68:52\n",
      "Iter=22700, Average Loss=2.056078, Average Validation Loss=4.844415, Time Elapsed=68:55\n",
      "Iter=22750, Average Loss=1.997465, Average Validation Loss=5.151408, Time Elapsed=68:57\n",
      "Iter=22800, Average Loss=2.178782, Average Validation Loss=5.068055, Time Elapsed=68:59\n",
      "Iter=22850, Average Loss=2.080384, Average Validation Loss=5.404101, Time Elapsed=69:02\n",
      "Iter=22900, Average Loss=2.066932, Average Validation Loss=5.349041, Time Elapsed=69:04\n",
      "Iter=22950, Average Loss=2.026961, Average Validation Loss=5.427562, Time Elapsed=69:07\n",
      "Iter=23000, Average Loss=2.143114, Average Validation Loss=5.217615, Time Elapsed=69:10\n",
      "Iter=23050, Average Loss=2.112200, Average Validation Loss=5.213984, Time Elapsed=69:12\n",
      "Iter=23100, Average Loss=2.163030, Average Validation Loss=5.061690, Time Elapsed=69:15\n",
      "Iter=23150, Average Loss=2.134898, Average Validation Loss=5.276052, Time Elapsed=69:17\n",
      "Iter=23200, Average Loss=1.976598, Average Validation Loss=5.066141, Time Elapsed=69:19\n",
      "Iter=23250, Average Loss=1.954577, Average Validation Loss=5.163120, Time Elapsed=69:22\n",
      "Iter=23300, Average Loss=2.061918, Average Validation Loss=5.294899, Time Elapsed=69:24\n",
      "Iter=23350, Average Loss=2.089936, Average Validation Loss=5.306140, Time Elapsed=69:27\n",
      "Iter=23400, Average Loss=2.010265, Average Validation Loss=5.157363, Time Elapsed=69:29\n",
      "Iter=23450, Average Loss=2.125334, Average Validation Loss=5.232559, Time Elapsed=69:31\n",
      "Iter=23500, Average Loss=2.057653, Average Validation Loss=5.253351, Time Elapsed=69:34\n",
      "Iter=23550, Average Loss=2.094962, Average Validation Loss=4.805503, Time Elapsed=69:36\n",
      "Iter=23600, Average Loss=2.109180, Average Validation Loss=5.224788, Time Elapsed=69:39\n"
     ]
    },
    {
     "name": "stdout",
     "output_type": "stream",
     "text": [
      "Iter=23650, Average Loss=2.068181, Average Validation Loss=5.533325, Time Elapsed=69:41\n",
      "Iter=23700, Average Loss=2.072386, Average Validation Loss=5.335962, Time Elapsed=69:43\n",
      "Iter=23750, Average Loss=2.085629, Average Validation Loss=5.527323, Time Elapsed=69:46\n",
      "Iter=23800, Average Loss=2.078725, Average Validation Loss=5.273111, Time Elapsed=69:48\n",
      "Iter=23850, Average Loss=1.996898, Average Validation Loss=5.238833, Time Elapsed=69:51\n",
      "Iter=23900, Average Loss=2.014631, Average Validation Loss=5.355961, Time Elapsed=69:53\n",
      "Iter=23950, Average Loss=1.981171, Average Validation Loss=5.694856, Time Elapsed=69:55\n",
      "Iter=24000, Average Loss=2.063507, Average Validation Loss=5.504552, Time Elapsed=69:58\n",
      "Iter=24050, Average Loss=2.021795, Average Validation Loss=4.980366, Time Elapsed=70:00\n",
      "Iter=24100, Average Loss=2.064930, Average Validation Loss=5.329795, Time Elapsed=70:03\n",
      "Iter=24150, Average Loss=2.037363, Average Validation Loss=5.378425, Time Elapsed=70:05\n",
      "Iter=24200, Average Loss=2.024465, Average Validation Loss=5.271622, Time Elapsed=70:07\n",
      "Iter=24250, Average Loss=2.108361, Average Validation Loss=5.137281, Time Elapsed=70:10\n",
      "Iter=24300, Average Loss=2.057316, Average Validation Loss=5.382780, Time Elapsed=70:12\n",
      "Iter=24350, Average Loss=2.145941, Average Validation Loss=5.353902, Time Elapsed=70:15\n",
      "Iter=24400, Average Loss=1.990036, Average Validation Loss=5.265754, Time Elapsed=70:17\n",
      "Iter=24450, Average Loss=2.060163, Average Validation Loss=5.414107, Time Elapsed=70:19\n",
      "Iter=24500, Average Loss=2.084503, Average Validation Loss=5.656400, Time Elapsed=70:22\n",
      "Iter=24550, Average Loss=2.065968, Average Validation Loss=5.639897, Time Elapsed=70:24\n",
      "Iter=24600, Average Loss=2.071215, Average Validation Loss=5.034292, Time Elapsed=70:27\n",
      "Iter=24650, Average Loss=2.104580, Average Validation Loss=5.327590, Time Elapsed=70:29\n",
      "Iter=24700, Average Loss=2.048972, Average Validation Loss=5.490095, Time Elapsed=70:31\n",
      "Iter=24750, Average Loss=1.991407, Average Validation Loss=5.276651, Time Elapsed=70:34\n",
      "Iter=24800, Average Loss=2.101034, Average Validation Loss=4.978855, Time Elapsed=70:36\n",
      "Iter=24850, Average Loss=2.027752, Average Validation Loss=5.177870, Time Elapsed=70:39\n",
      "Iter=24900, Average Loss=2.050040, Average Validation Loss=5.018663, Time Elapsed=70:41\n",
      "Iter=24950, Average Loss=2.058989, Average Validation Loss=5.094425, Time Elapsed=70:43\n",
      "Iter=25000, Average Loss=2.082722, Average Validation Loss=5.338854, Time Elapsed=70:46\n",
      "Iter=25050, Average Loss=2.082170, Average Validation Loss=5.200812, Time Elapsed=70:48\n",
      "Iter=25100, Average Loss=2.040942, Average Validation Loss=5.456118, Time Elapsed=70:50\n",
      "Iter=25150, Average Loss=2.058002, Average Validation Loss=5.207975, Time Elapsed=70:53\n",
      "Iter=25200, Average Loss=2.041626, Average Validation Loss=5.120561, Time Elapsed=70:55\n",
      "Iter=25250, Average Loss=2.010192, Average Validation Loss=5.223547, Time Elapsed=70:58\n",
      "Iter=25300, Average Loss=1.996937, Average Validation Loss=5.189326, Time Elapsed=71:00\n",
      "Iter=25350, Average Loss=1.964528, Average Validation Loss=5.282281, Time Elapsed=71:02\n",
      "Iter=25400, Average Loss=2.017239, Average Validation Loss=5.174499, Time Elapsed=71:05\n",
      "Iter=25450, Average Loss=2.006253, Average Validation Loss=5.059463, Time Elapsed=71:07\n",
      "Iter=25500, Average Loss=1.947619, Average Validation Loss=5.189074, Time Elapsed=71:10\n",
      "Iter=25550, Average Loss=2.013786, Average Validation Loss=5.231380, Time Elapsed=71:12\n",
      "Iter=25600, Average Loss=1.993139, Average Validation Loss=5.417032, Time Elapsed=71:14\n",
      "Iter=25650, Average Loss=1.982771, Average Validation Loss=4.910164, Time Elapsed=71:17\n",
      "Iter=25700, Average Loss=2.036725, Average Validation Loss=5.578538, Time Elapsed=71:19\n",
      "Iter=25750, Average Loss=2.076042, Average Validation Loss=5.484428, Time Elapsed=71:22\n",
      "Iter=25800, Average Loss=2.075834, Average Validation Loss=5.203665, Time Elapsed=71:24\n",
      "Iter=25850, Average Loss=1.978332, Average Validation Loss=5.052674, Time Elapsed=71:26\n",
      "Iter=25900, Average Loss=2.043503, Average Validation Loss=5.171640, Time Elapsed=71:29\n",
      "Iter=25950, Average Loss=1.995979, Average Validation Loss=4.977822, Time Elapsed=71:31\n",
      "Iter=26000, Average Loss=2.034216, Average Validation Loss=5.544439, Time Elapsed=71:34\n",
      "Iter=26050, Average Loss=2.097552, Average Validation Loss=5.406831, Time Elapsed=71:36\n",
      "Iter=26100, Average Loss=1.959007, Average Validation Loss=5.125827, Time Elapsed=71:38\n",
      "Iter=26150, Average Loss=2.027022, Average Validation Loss=5.304467, Time Elapsed=71:41\n",
      "Iter=26200, Average Loss=2.028605, Average Validation Loss=5.239388, Time Elapsed=71:43\n",
      "Iter=26250, Average Loss=1.984217, Average Validation Loss=5.261936, Time Elapsed=71:45\n",
      "Iter=26300, Average Loss=1.940301, Average Validation Loss=5.411203, Time Elapsed=71:48\n",
      "Iter=26350, Average Loss=2.079448, Average Validation Loss=5.219703, Time Elapsed=71:50\n",
      "Iter=26400, Average Loss=2.069940, Average Validation Loss=5.161131, Time Elapsed=71:53\n",
      "Iter=26450, Average Loss=1.991145, Average Validation Loss=5.180209, Time Elapsed=71:55\n",
      "Iter=26500, Average Loss=2.060468, Average Validation Loss=4.986687, Time Elapsed=71:57\n",
      "Iter=26550, Average Loss=2.005636, Average Validation Loss=5.132751, Time Elapsed=72:00\n",
      "Iter=26600, Average Loss=2.057954, Average Validation Loss=5.209113, Time Elapsed=72:02\n",
      "Iter=26650, Average Loss=2.047311, Average Validation Loss=5.079042, Time Elapsed=72:05\n",
      "Iter=26700, Average Loss=2.016142, Average Validation Loss=5.462791, Time Elapsed=72:07\n",
      "Iter=26750, Average Loss=2.083334, Average Validation Loss=5.159389, Time Elapsed=72:09\n",
      "Iter=26800, Average Loss=2.014148, Average Validation Loss=5.314110, Time Elapsed=72:12\n",
      "Iter=26850, Average Loss=2.006053, Average Validation Loss=5.268795, Time Elapsed=72:14\n",
      "Iter=26900, Average Loss=1.964244, Average Validation Loss=5.380271, Time Elapsed=72:17\n",
      "Iter=26950, Average Loss=2.040387, Average Validation Loss=5.126366, Time Elapsed=72:19\n",
      "Iter=27000, Average Loss=2.021769, Average Validation Loss=5.345174, Time Elapsed=72:21\n",
      "Iter=27050, Average Loss=2.008218, Average Validation Loss=5.162306, Time Elapsed=72:24\n",
      "Iter=27100, Average Loss=1.976224, Average Validation Loss=5.218910, Time Elapsed=72:26\n",
      "Iter=27150, Average Loss=2.036747, Average Validation Loss=5.345832, Time Elapsed=72:28\n",
      "Iter=27200, Average Loss=2.053150, Average Validation Loss=5.260827, Time Elapsed=72:31\n",
      "Iter=27250, Average Loss=1.983168, Average Validation Loss=5.431684, Time Elapsed=72:33\n",
      "Iter=27300, Average Loss=1.961157, Average Validation Loss=5.587755, Time Elapsed=72:36\n",
      "Iter=27350, Average Loss=1.977836, Average Validation Loss=5.334873, Time Elapsed=72:38\n",
      "Iter=27400, Average Loss=2.035909, Average Validation Loss=5.032284, Time Elapsed=72:40\n",
      "Iter=27450, Average Loss=1.933599, Average Validation Loss=5.260162, Time Elapsed=72:43\n",
      "Iter=27500, Average Loss=1.950413, Average Validation Loss=5.298498, Time Elapsed=72:45\n",
      "Iter=27550, Average Loss=2.048755, Average Validation Loss=5.496030, Time Elapsed=72:47\n",
      "Iter=27600, Average Loss=2.031868, Average Validation Loss=5.288224, Time Elapsed=72:50\n",
      "Iter=27650, Average Loss=1.990320, Average Validation Loss=5.540329, Time Elapsed=72:52\n",
      "Iter=27700, Average Loss=1.939850, Average Validation Loss=5.246897, Time Elapsed=72:55\n",
      "Iter=27750, Average Loss=1.980582, Average Validation Loss=5.379219, Time Elapsed=72:57\n",
      "Iter=27800, Average Loss=1.974324, Average Validation Loss=5.216151, Time Elapsed=72:59\n",
      "Iter=27850, Average Loss=2.009711, Average Validation Loss=5.153946, Time Elapsed=73:02\n",
      "Iter=27900, Average Loss=1.960382, Average Validation Loss=5.209817, Time Elapsed=73:04\n",
      "Iter=27950, Average Loss=2.080223, Average Validation Loss=5.194957, Time Elapsed=73:07\n",
      "Iter=28000, Average Loss=2.086923, Average Validation Loss=5.502319, Time Elapsed=73:09\n",
      "Iter=28050, Average Loss=2.011984, Average Validation Loss=5.516156, Time Elapsed=73:11\n",
      "Iter=28100, Average Loss=2.068986, Average Validation Loss=5.400392, Time Elapsed=73:14\n",
      "Iter=28150, Average Loss=1.982603, Average Validation Loss=5.406845, Time Elapsed=73:16\n",
      "Iter=28200, Average Loss=1.978780, Average Validation Loss=5.168967, Time Elapsed=73:19\n",
      "Iter=28250, Average Loss=2.061425, Average Validation Loss=5.459444, Time Elapsed=73:21\n",
      "Iter=28300, Average Loss=2.014482, Average Validation Loss=5.312523, Time Elapsed=73:23\n"
     ]
    },
    {
     "name": "stdout",
     "output_type": "stream",
     "text": [
      "Iter=28350, Average Loss=1.997102, Average Validation Loss=5.269132, Time Elapsed=73:26\n",
      "Iter=28400, Average Loss=2.020577, Average Validation Loss=5.292052, Time Elapsed=73:28\n",
      "Iter=28450, Average Loss=2.073984, Average Validation Loss=5.561784, Time Elapsed=73:31\n",
      "Iter=28500, Average Loss=2.027249, Average Validation Loss=5.398005, Time Elapsed=73:33\n",
      "Iter=28550, Average Loss=1.975657, Average Validation Loss=5.074915, Time Elapsed=73:35\n",
      "Iter=28600, Average Loss=2.082756, Average Validation Loss=5.456726, Time Elapsed=73:38\n",
      "Iter=28650, Average Loss=2.014057, Average Validation Loss=5.257902, Time Elapsed=73:40\n",
      "Iter=28700, Average Loss=1.987550, Average Validation Loss=5.249987, Time Elapsed=73:42\n",
      "Iter=28750, Average Loss=1.949642, Average Validation Loss=4.911871, Time Elapsed=73:45\n",
      "Iter=28800, Average Loss=1.863582, Average Validation Loss=5.406305, Time Elapsed=73:47\n",
      "Iter=28850, Average Loss=2.056598, Average Validation Loss=4.989859, Time Elapsed=73:50\n",
      "Iter=28900, Average Loss=2.000368, Average Validation Loss=5.180262, Time Elapsed=73:52\n",
      "Iter=28950, Average Loss=1.961753, Average Validation Loss=5.363631, Time Elapsed=73:54\n",
      "Iter=29000, Average Loss=2.016097, Average Validation Loss=5.500871, Time Elapsed=73:57\n",
      "Iter=29050, Average Loss=2.092093, Average Validation Loss=5.581445, Time Elapsed=73:59\n",
      "Iter=29100, Average Loss=2.060139, Average Validation Loss=5.272243, Time Elapsed=74:02\n",
      "Iter=29150, Average Loss=1.962965, Average Validation Loss=5.443220, Time Elapsed=74:04\n",
      "Iter=29200, Average Loss=1.953335, Average Validation Loss=5.141216, Time Elapsed=74:06\n",
      "Iter=29250, Average Loss=1.942619, Average Validation Loss=5.425253, Time Elapsed=74:09\n",
      "Iter=29300, Average Loss=2.033240, Average Validation Loss=5.194634, Time Elapsed=74:11\n",
      "Iter=29350, Average Loss=2.069694, Average Validation Loss=5.184801, Time Elapsed=74:13\n",
      "Iter=29400, Average Loss=1.963043, Average Validation Loss=5.153318, Time Elapsed=74:16\n",
      "Iter=29450, Average Loss=2.049596, Average Validation Loss=5.295978, Time Elapsed=74:18\n",
      "Iter=29500, Average Loss=1.913429, Average Validation Loss=5.054283, Time Elapsed=74:21\n",
      "Iter=29550, Average Loss=1.963034, Average Validation Loss=5.520948, Time Elapsed=74:23\n",
      "Iter=29600, Average Loss=2.110480, Average Validation Loss=5.226869, Time Elapsed=74:25\n",
      "Iter=29650, Average Loss=1.989062, Average Validation Loss=5.211246, Time Elapsed=74:28\n",
      "Iter=29700, Average Loss=2.050470, Average Validation Loss=5.565354, Time Elapsed=74:30\n",
      "Iter=29750, Average Loss=2.065770, Average Validation Loss=5.237502, Time Elapsed=74:33\n",
      "Iter=29800, Average Loss=2.061589, Average Validation Loss=5.411545, Time Elapsed=74:35\n",
      "Iter=29850, Average Loss=2.016134, Average Validation Loss=5.279318, Time Elapsed=74:38\n",
      "Iter=29900, Average Loss=1.952395, Average Validation Loss=5.350561, Time Elapsed=74:40\n"
     ]
    },
    {
     "ename": "KeyboardInterrupt",
     "evalue": "",
     "output_type": "error",
     "traceback": [
      "\u001b[1;31m---------------------------------------------------------------------------\u001b[0m",
      "\u001b[1;31mKeyboardInterrupt\u001b[0m                         Traceback (most recent call last)",
      "\u001b[1;32m<ipython-input-39-972c3fbd51e0>\u001b[0m in \u001b[0;36m<module>\u001b[1;34m()\u001b[0m\n\u001b[0;32m     14\u001b[0m \u001b[1;33m\u001b[0m\u001b[0m\n\u001b[0;32m     15\u001b[0m     \u001b[0mbatch_x\u001b[0m\u001b[1;33m,\u001b[0m \u001b[0mbatch_y\u001b[0m \u001b[1;33m=\u001b[0m \u001b[0mget_batch\u001b[0m\u001b[1;33m(\u001b[0m\u001b[0mtraining_data\u001b[0m\u001b[1;33m,\u001b[0m \u001b[0mbatch_size\u001b[0m\u001b[1;33m)\u001b[0m\u001b[1;33m\u001b[0m\u001b[0m\n\u001b[1;32m---> 16\u001b[1;33m     \u001b[0m_\u001b[0m\u001b[1;33m,\u001b[0m \u001b[0mloss\u001b[0m \u001b[1;33m=\u001b[0m \u001b[0msession\u001b[0m\u001b[1;33m.\u001b[0m\u001b[0mrun\u001b[0m\u001b[1;33m(\u001b[0m\u001b[1;33m[\u001b[0m\u001b[0moptimizer\u001b[0m\u001b[1;33m,\u001b[0m \u001b[0mcost\u001b[0m\u001b[1;33m]\u001b[0m\u001b[1;33m,\u001b[0m \u001b[0mfeed_dict\u001b[0m\u001b[1;33m=\u001b[0m\u001b[1;33m{\u001b[0m\u001b[0mx\u001b[0m\u001b[1;33m:\u001b[0m \u001b[0mbatch_x\u001b[0m\u001b[1;33m,\u001b[0m \u001b[0my\u001b[0m\u001b[1;33m:\u001b[0m \u001b[0mbatch_y\u001b[0m\u001b[1;33m}\u001b[0m\u001b[1;33m)\u001b[0m\u001b[1;33m\u001b[0m\u001b[0m\n\u001b[0m\u001b[0;32m     17\u001b[0m     \u001b[0mloss_total\u001b[0m \u001b[1;33m+=\u001b[0m \u001b[0mloss\u001b[0m\u001b[1;33m\u001b[0m\u001b[0m\n\u001b[0;32m     18\u001b[0m \u001b[1;33m\u001b[0m\u001b[0m\n",
      "\u001b[1;32m~\\Anaconda3\\lib\\site-packages\\tensorflow\\python\\client\\session.py\u001b[0m in \u001b[0;36mrun\u001b[1;34m(self, fetches, feed_dict, options, run_metadata)\u001b[0m\n\u001b[0;32m    887\u001b[0m     \u001b[1;32mtry\u001b[0m\u001b[1;33m:\u001b[0m\u001b[1;33m\u001b[0m\u001b[0m\n\u001b[0;32m    888\u001b[0m       result = self._run(None, fetches, feed_dict, options_ptr,\n\u001b[1;32m--> 889\u001b[1;33m                          run_metadata_ptr)\n\u001b[0m\u001b[0;32m    890\u001b[0m       \u001b[1;32mif\u001b[0m \u001b[0mrun_metadata\u001b[0m\u001b[1;33m:\u001b[0m\u001b[1;33m\u001b[0m\u001b[0m\n\u001b[0;32m    891\u001b[0m         \u001b[0mproto_data\u001b[0m \u001b[1;33m=\u001b[0m \u001b[0mtf_session\u001b[0m\u001b[1;33m.\u001b[0m\u001b[0mTF_GetBuffer\u001b[0m\u001b[1;33m(\u001b[0m\u001b[0mrun_metadata_ptr\u001b[0m\u001b[1;33m)\u001b[0m\u001b[1;33m\u001b[0m\u001b[0m\n",
      "\u001b[1;32m~\\Anaconda3\\lib\\site-packages\\tensorflow\\python\\client\\session.py\u001b[0m in \u001b[0;36m_run\u001b[1;34m(self, handle, fetches, feed_dict, options, run_metadata)\u001b[0m\n\u001b[0;32m   1118\u001b[0m     \u001b[1;32mif\u001b[0m \u001b[0mfinal_fetches\u001b[0m \u001b[1;32mor\u001b[0m \u001b[0mfinal_targets\u001b[0m \u001b[1;32mor\u001b[0m \u001b[1;33m(\u001b[0m\u001b[0mhandle\u001b[0m \u001b[1;32mand\u001b[0m \u001b[0mfeed_dict_tensor\u001b[0m\u001b[1;33m)\u001b[0m\u001b[1;33m:\u001b[0m\u001b[1;33m\u001b[0m\u001b[0m\n\u001b[0;32m   1119\u001b[0m       results = self._do_run(handle, final_targets, final_fetches,\n\u001b[1;32m-> 1120\u001b[1;33m                              feed_dict_tensor, options, run_metadata)\n\u001b[0m\u001b[0;32m   1121\u001b[0m     \u001b[1;32melse\u001b[0m\u001b[1;33m:\u001b[0m\u001b[1;33m\u001b[0m\u001b[0m\n\u001b[0;32m   1122\u001b[0m       \u001b[0mresults\u001b[0m \u001b[1;33m=\u001b[0m \u001b[1;33m[\u001b[0m\u001b[1;33m]\u001b[0m\u001b[1;33m\u001b[0m\u001b[0m\n",
      "\u001b[1;32m~\\Anaconda3\\lib\\site-packages\\tensorflow\\python\\client\\session.py\u001b[0m in \u001b[0;36m_do_run\u001b[1;34m(self, handle, target_list, fetch_list, feed_dict, options, run_metadata)\u001b[0m\n\u001b[0;32m   1315\u001b[0m     \u001b[1;32mif\u001b[0m \u001b[0mhandle\u001b[0m \u001b[1;32mis\u001b[0m \u001b[1;32mNone\u001b[0m\u001b[1;33m:\u001b[0m\u001b[1;33m\u001b[0m\u001b[0m\n\u001b[0;32m   1316\u001b[0m       return self._do_call(_run_fn, self._session, feeds, fetches, targets,\n\u001b[1;32m-> 1317\u001b[1;33m                            options, run_metadata)\n\u001b[0m\u001b[0;32m   1318\u001b[0m     \u001b[1;32melse\u001b[0m\u001b[1;33m:\u001b[0m\u001b[1;33m\u001b[0m\u001b[0m\n\u001b[0;32m   1319\u001b[0m       \u001b[1;32mreturn\u001b[0m \u001b[0mself\u001b[0m\u001b[1;33m.\u001b[0m\u001b[0m_do_call\u001b[0m\u001b[1;33m(\u001b[0m\u001b[0m_prun_fn\u001b[0m\u001b[1;33m,\u001b[0m \u001b[0mself\u001b[0m\u001b[1;33m.\u001b[0m\u001b[0m_session\u001b[0m\u001b[1;33m,\u001b[0m \u001b[0mhandle\u001b[0m\u001b[1;33m,\u001b[0m \u001b[0mfeeds\u001b[0m\u001b[1;33m,\u001b[0m \u001b[0mfetches\u001b[0m\u001b[1;33m)\u001b[0m\u001b[1;33m\u001b[0m\u001b[0m\n",
      "\u001b[1;32m~\\Anaconda3\\lib\\site-packages\\tensorflow\\python\\client\\session.py\u001b[0m in \u001b[0;36m_do_call\u001b[1;34m(self, fn, *args)\u001b[0m\n\u001b[0;32m   1321\u001b[0m   \u001b[1;32mdef\u001b[0m \u001b[0m_do_call\u001b[0m\u001b[1;33m(\u001b[0m\u001b[0mself\u001b[0m\u001b[1;33m,\u001b[0m \u001b[0mfn\u001b[0m\u001b[1;33m,\u001b[0m \u001b[1;33m*\u001b[0m\u001b[0margs\u001b[0m\u001b[1;33m)\u001b[0m\u001b[1;33m:\u001b[0m\u001b[1;33m\u001b[0m\u001b[0m\n\u001b[0;32m   1322\u001b[0m     \u001b[1;32mtry\u001b[0m\u001b[1;33m:\u001b[0m\u001b[1;33m\u001b[0m\u001b[0m\n\u001b[1;32m-> 1323\u001b[1;33m       \u001b[1;32mreturn\u001b[0m \u001b[0mfn\u001b[0m\u001b[1;33m(\u001b[0m\u001b[1;33m*\u001b[0m\u001b[0margs\u001b[0m\u001b[1;33m)\u001b[0m\u001b[1;33m\u001b[0m\u001b[0m\n\u001b[0m\u001b[0;32m   1324\u001b[0m     \u001b[1;32mexcept\u001b[0m \u001b[0merrors\u001b[0m\u001b[1;33m.\u001b[0m\u001b[0mOpError\u001b[0m \u001b[1;32mas\u001b[0m \u001b[0me\u001b[0m\u001b[1;33m:\u001b[0m\u001b[1;33m\u001b[0m\u001b[0m\n\u001b[0;32m   1325\u001b[0m       \u001b[0mmessage\u001b[0m \u001b[1;33m=\u001b[0m \u001b[0mcompat\u001b[0m\u001b[1;33m.\u001b[0m\u001b[0mas_text\u001b[0m\u001b[1;33m(\u001b[0m\u001b[0me\u001b[0m\u001b[1;33m.\u001b[0m\u001b[0mmessage\u001b[0m\u001b[1;33m)\u001b[0m\u001b[1;33m\u001b[0m\u001b[0m\n",
      "\u001b[1;32m~\\Anaconda3\\lib\\site-packages\\tensorflow\\python\\client\\session.py\u001b[0m in \u001b[0;36m_run_fn\u001b[1;34m(session, feed_dict, fetch_list, target_list, options, run_metadata)\u001b[0m\n\u001b[0;32m   1300\u001b[0m           return tf_session.TF_Run(session, options,\n\u001b[0;32m   1301\u001b[0m                                    \u001b[0mfeed_dict\u001b[0m\u001b[1;33m,\u001b[0m \u001b[0mfetch_list\u001b[0m\u001b[1;33m,\u001b[0m \u001b[0mtarget_list\u001b[0m\u001b[1;33m,\u001b[0m\u001b[1;33m\u001b[0m\u001b[0m\n\u001b[1;32m-> 1302\u001b[1;33m                                    status, run_metadata)\n\u001b[0m\u001b[0;32m   1303\u001b[0m \u001b[1;33m\u001b[0m\u001b[0m\n\u001b[0;32m   1304\u001b[0m     \u001b[1;32mdef\u001b[0m \u001b[0m_prun_fn\u001b[0m\u001b[1;33m(\u001b[0m\u001b[0msession\u001b[0m\u001b[1;33m,\u001b[0m \u001b[0mhandle\u001b[0m\u001b[1;33m,\u001b[0m \u001b[0mfeed_dict\u001b[0m\u001b[1;33m,\u001b[0m \u001b[0mfetch_list\u001b[0m\u001b[1;33m)\u001b[0m\u001b[1;33m:\u001b[0m\u001b[1;33m\u001b[0m\u001b[0m\n",
      "\u001b[1;31mKeyboardInterrupt\u001b[0m: "
     ]
    }
   ],
   "source": [
    "training_loss_list = []\n",
    "validation_loss_list = []\n",
    "time_elapsed_list = []\n",
    "\n",
    "init = tf.global_variables_initializer()\n",
    "session.run(init)\n",
    "step = 0\n",
    "loss_total = 0\n",
    "\n",
    "start_time = time.time()\n",
    "\n",
    "while step < training_iters:\n",
    "    start_a = time.time()\n",
    "    \n",
    "    batch_x, batch_y = get_batch(training_data, batch_size)\n",
    "    _, loss = session.run([optimizer, cost], feed_dict={x: batch_x, y: batch_y})\n",
    "    loss_total += loss\n",
    "    \n",
    "    if step % validation_step == 0:\n",
    "        batch_x_validation, batch_y_validation = get_batch(validation_data, N_VALIDATION_SET)\n",
    "        loss_validation = session.run([cost_validation], feed_dict={x_validation: batch_x_validation, y_validation: batch_y_validation})[0]\n",
    "    \n",
    "    training_loss_list.append(loss)\n",
    "    validation_loss_list.append(loss_validation)\n",
    "    time_elapsed = seconds_to_minsecstr(int(time.time()-start_time))\n",
    "    time_elapsed_list.append(time_elapsed)\n",
    "    \n",
    "    if (step+1) % display_step == 0:\n",
    "        display = \"Iter=\" + str(step+1) + \", Average Loss={:.6f}, Validation Loss={:.6f}, Time Elapsed={}\".format(\n",
    "            loss_total/display_step, loss_validation, time_elapsed)\n",
    "        print(display)\n",
    "        loss_total = 0\n",
    "        loss_validation_total = 0\n",
    "    step += 1"
   ]
  },
  {
   "cell_type": "markdown",
   "metadata": {},
   "source": [
    "### Plots"
   ]
  },
  {
   "cell_type": "code",
   "execution_count": 42,
   "metadata": {
    "scrolled": false
   },
   "outputs": [
    {
     "data": {
      "image/png": "[encoded data removed]",
      "text/plain": [
       "<matplotlib.figure.Figure at 0x207956d07b8>"
      ]
     },
     "metadata": {},
     "output_type": "display_data"
    }
   ],
   "source": [
    "plt.plot(training_loss_list, label='Training loss')\n",
    "plt.plot(validation_loss_list, label='Validation loss')\n",
    "plt.xlabel('Iteration')\n",
    "plt.title('Training/Validation loss over iterations')\n",
    "plt.legend()\n",
    "plt.show()"
   ]
  },
  {
   "cell_type": "markdown",
   "metadata": {},
   "source": [
    "### Create log file"
   ]
  },
  {
   "cell_type": "code",
   "execution_count": 66,
   "metadata": {
    "collapsed": true
   },
   "outputs": [],
   "source": [
    "logfile_directory = 'logs/'"
   ]
  },
  {
   "cell_type": "code",
   "execution_count": 57,
   "metadata": {},
   "outputs": [
    {
     "data": {
      "text/plain": [
       "(4.6899076, 5150)"
      ]
     },
     "execution_count": 57,
     "metadata": {},
     "output_type": "execute_result"
    }
   ],
   "source": [
    "validation_loss_list = np.array(validation_loss_list)\n",
    "min_valid_loss = np.inf\n",
    "min_valid_loss_iteration = -1\n",
    "for i in range(validation_step*5, len(validation_loss_list)-validation_step*5)[::validation_step]:\n",
    "    valid_loss_mean = np.nanmean(validation_loss_list[i-validation_step*5:i+validation_step*5]) # smoothed validation mean\n",
    "    if valid_loss_mean < min_valid_loss:\n",
    "        min_valid_loss = valid_loss_mean\n",
    "        min_valid_loss_iteration = i\n",
    "min_valid_loss, min_valid_loss_iteration"
   ]
  },
  {
   "cell_type": "code",
   "execution_count": 67,
   "metadata": {},
   "outputs": [
    {
     "data": {
      "text/plain": [
       "(1.920464, 5.2453914)"
      ]
     },
     "execution_count": 67,
     "metadata": {},
     "output_type": "execute_result"
    }
   ],
   "source": [
    "train_loss_mean = np.nanmean(np.array(np.array(training_loss_list)[-50:]))\n",
    "valid_loss_mean = np.nanmean(np.array(np.array(validation_loss_list)[-50:]))\n",
    "train_loss_mean, valid_loss_mean"
   ]
  },
  {
   "cell_type": "code",
   "execution_count": 76,
   "metadata": {},
   "outputs": [
    {
     "data": {
      "text/plain": [
       "'Logfile (Date=2017-11-13 12.52, MinValidLoss=4.69, TrainLoss=1.92, Iterations=0).txt'"
      ]
     },
     "execution_count": 76,
     "metadata": {},
     "output_type": "execute_result"
    }
   ],
   "source": [
    "date = time.strftime(\"%Y-%m-%d %H.%M\")\n",
    "logfile_name =\"Logfile (Date={}, MinValidLoss={:.2f}, TrainLoss={:.2f}, Iterations={}).txt\". \\\n",
    "    format(date, min_valid_loss, train_loss_mean, len(validation_loss_list))\n",
    "logfile_name"
   ]
  },
  {
   "cell_type": "code",
   "execution_count": 81,
   "metadata": {},
   "outputs": [
    {
     "ename": "IndexError",
     "evalue": "list index out of range",
     "output_type": "error",
     "traceback": [
      "\u001b[1;31m---------------------------------------------------------------------------\u001b[0m",
      "\u001b[1;31mIndexError\u001b[0m                                Traceback (most recent call last)",
      "\u001b[1;32m<ipython-input-81-35dc0e1c38c4>\u001b[0m in \u001b[0;36m<module>\u001b[1;34m()\u001b[0m\n\u001b[0;32m      7\u001b[0m \u001b[1;33m\u001b[0m\u001b[0m\n\u001b[0;32m      8\u001b[0m \u001b[0mlogfile\u001b[0m\u001b[1;33m.\u001b[0m\u001b[0mwrite\u001b[0m\u001b[1;33m(\u001b[0m\u001b[1;34m\"Iterations trained={}\\n\"\u001b[0m\u001b[1;33m.\u001b[0m\u001b[0mformat\u001b[0m\u001b[1;33m(\u001b[0m\u001b[0mtrain_loss_mean\u001b[0m\u001b[1;33m)\u001b[0m\u001b[1;33m)\u001b[0m\u001b[1;33m\u001b[0m\u001b[0m\n\u001b[1;32m----> 9\u001b[1;33m \u001b[0mlogfile\u001b[0m\u001b[1;33m.\u001b[0m\u001b[0mwrite\u001b[0m\u001b[1;33m(\u001b[0m\u001b[1;34m\"Duration={}\\n\"\u001b[0m\u001b[1;33m.\u001b[0m\u001b[0mformat\u001b[0m\u001b[1;33m(\u001b[0m\u001b[0mtime_elapsed_list\u001b[0m\u001b[1;33m[\u001b[0m\u001b[1;33m-\u001b[0m\u001b[1;36m1\u001b[0m\u001b[1;33m]\u001b[0m\u001b[1;33m)\u001b[0m\u001b[1;33m)\u001b[0m\u001b[1;33m\u001b[0m\u001b[0m\n\u001b[0m\u001b[0;32m     10\u001b[0m \u001b[1;33m\u001b[0m\u001b[0m\n\u001b[0;32m     11\u001b[0m \u001b[0mlogfile\u001b[0m\u001b[1;33m.\u001b[0m\u001b[0mwrite\u001b[0m\u001b[1;33m(\u001b[0m\u001b[1;34m\"Number of training examples={}\\n\"\u001b[0m\u001b[1;33m.\u001b[0m\u001b[0mformat\u001b[0m\u001b[1;33m(\u001b[0m\u001b[0mlen\u001b[0m\u001b[1;33m(\u001b[0m\u001b[0mtraining_data\u001b[0m\u001b[1;33m)\u001b[0m\u001b[1;33m)\u001b[0m\u001b[1;33m)\u001b[0m\u001b[1;33m\u001b[0m\u001b[0m\n",
      "\u001b[1;31mIndexError\u001b[0m: list index out of range"
     ]
    }
   ],
   "source": [
    "logfile = open(logfile_directory + logfile_name, \"w\")\n",
    "\n",
    "logfile.write(\"Training loss={:.6f}\\n\".format(train_loss_mean))\n",
    "logfile.write(\"Validation loss={:.6f}\\n\".format(valid_loss_mean))\n",
    "logfile.write(\"Min Validation loss={:.6f}\\n\".format(min_valid_loss))\n",
    "logfile.write(\"Iteration of min validation loss={}\\n\\n\".format(min_valid_loss_iteration))\n",
    "\n",
    "logfile.write(\"Iterations trained={}\\n\".format(train_loss_mean))\n",
    "logfile.write(\"Duration={}\\n\".format(time_elapsed_list[-1]))\n",
    "\n",
    "logfile.write(\"Number of training examples={}\\n\".format(len(training_data)))\n",
    "logfile.write(\"Number of validation examples={}\\n\".format(len(validation_data)))\n",
    "\n",
    "\n",
    "logfile.write(\"Batch size={}\\n\".format(batch_size))\n",
    "logfile.write(\"Learning rate={:.6f}\\n\".format(learning_rate))\n",
    "logfile.write(\"Number of input (T)={}\\n\".format(n_input))\n",
    "\n",
    "logfile.write(\"Number of hidden layers={}\\n\".format(n_layers))\n",
    "logfile.write(\"Number of hidden units per year={}\\n\\n\".format(n_hidden))\n",
    "\n",
    "for i in range(len(training_loss_list)):\n",
    "    logfile.write(\"Iter={}, Training Loss={:.6f}, Validation Loss={:.6f}, Time Elapsed={}\".format(\n",
    "            (i+1), training_loss_list[i], validation_loss_list[i], time_elapsed_list[i]))\n",
    "    \n",
    "logfile.close()"
   ]
  },
  {
   "cell_type": "markdown",
   "metadata": {},
   "source": [
    "### Generate music from trained model"
   ]
  },
  {
   "cell_type": "code",
   "execution_count": 83,
   "metadata": {
    "collapsed": true
   },
   "outputs": [],
   "source": [
    "N_GENERATED_NOTE_VECTORS = 1000\n",
    "temperature = 0.7"
   ]
  },
  {
   "cell_type": "code",
   "execution_count": 155,
   "metadata": {},
   "outputs": [
    {
     "data": {
      "text/plain": [
       "[<tf.Tensor 'rnn/rnn/multi_rnn_cell/cell_1/cell_1/basic_lstm_cell/mul_224:0' shape=(1, 512) dtype=float32>]"
      ]
     },
     "execution_count": 155,
     "metadata": {},
     "output_type": "execute_result"
    }
   ],
   "source": [
    "state_placeholder = tf.placeholder(tf.float32, [n_layers, 2, 1, n_hidden])\n",
    "l = tf.unstack(state_placeholder, 2, 0)\n",
    "rnn_tuple_state = tuple([tf.nn.rnn_cell.LSTMStateTuple(l[i][0], l[i][1]) for i in range(n_layers)])\n",
    "\n",
    "outputs_generation, states_generation = rnn.static_rnn(rnn_cell, [x_generation], \n",
    "                                                       initial_state=rnn_tuple_state, dtype=tf.float32)\n",
    "outputs_generation"
   ]
  },
  {
   "cell_type": "code",
   "execution_count": 156,
   "metadata": {},
   "outputs": [
    {
     "data": {
      "text/plain": [
       "<tf.Tensor 'xw_plus_b_73:0' shape=(1, 1120) dtype=float32>"
      ]
     },
     "execution_count": 156,
     "metadata": {},
     "output_type": "execute_result"
    }
   ],
   "source": [
    "logits_generation = tf.nn.xw_plus_b(outputs_generation[0], softmax_w, softmax_b)\n",
    "logits_generation"
   ]
  },
  {
   "cell_type": "code",
   "execution_count": 157,
   "metadata": {
    "collapsed": true
   },
   "outputs": [],
   "source": [
    "#seed_note = np.zeros(vocab_size)\n",
    "#seed_note[0] = 1\n",
    "seed_note = training_data[int(len(training_data)*np.random.random())][0]\n",
    "seed_note = np.reshape(seed_note, [1, vocab_size])"
   ]
  },
  {
   "cell_type": "code",
   "execution_count": 158,
   "metadata": {
    "scrolled": false
   },
   "outputs": [
    {
     "name": "stdout",
     "output_type": "stream",
     "text": [
      "Previous note: [313]\n",
      "Posterior probability: [  7.23502467e-08   1.72353978e-07   7.72530395e-09 ...,   8.46817784e-06\n",
      "   5.43019814e-05   7.32840039e-04]\n"
     ]
    },
    {
     "data": {
      "image/png": "[encoded data removed]",
      "text/plain": [
       "<matplotlib.figure.Figure at 0x24789fd62e8>"
      ]
     },
     "metadata": {},
     "output_type": "display_data"
    },
    {
     "name": "stdout",
     "output_type": "stream",
     "text": [
      "Previous note: [ 429.]\n",
      "Posterior probability: [  4.14506318e-10   4.31688935e-10   3.25453241e-11 ...,   8.10249432e-08\n",
      "   6.95741619e-06   2.04836507e-03]\n"
     ]
    },
    {
     "data": {
      "image/png": "[encoded data removed]",
      "text/plain": [
       "<matplotlib.figure.Figure at 0x2478a71b5c0>"
      ]
     },
     "metadata": {},
     "output_type": "display_data"
    },
    {
     "name": "stdout",
     "output_type": "stream",
     "text": [
      "Previous note: [ 1047.]\n",
      "Posterior probability: [  2.35526008e-11   8.90666119e-09   2.27806610e-11 ...,   3.92503853e-06\n",
      "   1.26686373e-07   4.81057441e-07]\n"
     ]
    },
    {
     "data": {
      "image/png": "[encoded data removed]",
      "text/plain": [
       "<matplotlib.figure.Figure at 0x2478a68bd68>"
      ]
     },
     "metadata": {},
     "output_type": "display_data"
    },
    {
     "name": "stdout",
     "output_type": "stream",
     "text": [
      "Previous note: [ 825.]\n",
      "Posterior probability: [  1.79623501e-13   4.94535080e-10   8.67038386e-12 ...,   1.69650655e-10\n",
      "   7.91607846e-09   1.90037241e-07]\n"
     ]
    },
    {
     "data": {
      "image/png": "[encoded data removed]",
      "text/plain": [
       "<matplotlib.figure.Figure at 0x2478b2360b8>"
      ]
     },
     "metadata": {},
     "output_type": "display_data"
    },
    {
     "name": "stdout",
     "output_type": "stream",
     "text": [
      "Previous note: [ 941.]\n",
      "Posterior probability: [  4.17981399e-10   3.99713187e-08   3.50022095e-10 ...,   2.11384972e-08\n",
      "   1.63319474e-08   1.39225619e-02]\n"
     ]
    },
    {
     "data": {
      "image/png": "[encoded data removed]",
      "text/plain": [
       "<matplotlib.figure.Figure at 0x2478b30c7f0>"
      ]
     },
     "metadata": {},
     "output_type": "display_data"
    }
   ],
   "source": [
    "generated_music = [seed_note]\n",
    "saved_state = np.zeros((n_layers, 2, 1, n_hidden))\n",
    "for i in range(N_GENERATED_NOTE_VECTORS):\n",
    "    onehot_pred, new_state = session.run([logits_generation, states_generation], \n",
    "                                         feed_dict={x_generation: generated_music[-1], state_placeholder: saved_state})\n",
    "    saved_state = new_state\n",
    "    next_note = np.zeros(vocab_size)\n",
    "    #index = np.argmax(onehot_pred, 1) # take max probability\n",
    "    softmax_cdf = np.exp(onehot_pred[0]/temperature)/np.sum(np.exp(onehot_pred[0]/temperature))\n",
    "    \n",
    "    if i < 4:\n",
    "        print(\"Previous note:\", generated_music[-1].dot(range(1120)))\n",
    "        print(\"Posterior probability:\", softmax_cdf)\n",
    "        plt.plot(softmax_cdf)\n",
    "        plt.show()\n",
    "        \n",
    "    index = np.random.choice(range(vocab_size), p=softmax_cdf) # choose probabilistically\n",
    "    \n",
    "    next_note[index] = 1\n",
    "    next_note = np.reshape(next_note, [1, vocab_size])\n",
    "    \n",
    "    generated_music.append(next_note)"
   ]
  },
  {
   "cell_type": "code",
   "execution_count": 159,
   "metadata": {},
   "outputs": [
    {
     "data": {
      "text/plain": [
       "array([  313.,   429.,  1047., ...,   515.,    44.,  1024.])"
      ]
     },
     "execution_count": 159,
     "metadata": {},
     "output_type": "execute_result"
    }
   ],
   "source": [
    "notes = np.array(generated_music).reshape(N_GENERATED_NOTE_VECTORS+1, vocab_size).dot(np.array(range(vocab_size)))\n",
    "notes"
   ]
  },
  {
   "cell_type": "markdown",
   "metadata": {},
   "source": [
    "### Convert generated music to midi"
   ]
  },
  {
   "cell_type": "code",
   "execution_count": 160,
   "metadata": {
    "collapsed": true
   },
   "outputs": [],
   "source": [
    "def get_track_sequences(vector_sequence):\n",
    "    \"\"\"Get note sequences for each track from vector sequence output from RNN.\n",
    "\n",
    "    Args:\n",
    "       vector_sequence: List of one-hot vectors containing 128 * NUM_TRACKS note_on events, 128 * NUM_TRACKS note_off events,\n",
    "        and NUM_TIMESHIFTS timeshift events in intervals of 1/96 of a beat each.\n",
    "       \n",
    "    Returns:\n",
    "        List of track vector sequences.\n",
    "    \"\"\"\n",
    "    track_sequences = [[] for _ in range(NUM_TRACKS)]\n",
    "    start_time = 0\n",
    "    for vector in vector_sequence:\n",
    "        index = vector.index(1)\n",
    "        # vector is a time event.\n",
    "        if index >= NUM_MIDI_PITCHES * 2 * NUM_TRACKS:\n",
    "            num_beats = (index - NUM_MIDI_PITCHES * 2 * NUM_TRACKS + 1) / NUM_TIMESHIFTS\n",
    "            start_time += num_beats\n",
    "        else:\n",
    "            # vector is a note_off event.\n",
    "            if index >= NUM_MIDI_PITCHES * NUM_TRACKS:\n",
    "                note_type = 'note_off'\n",
    "                index -= NUM_MIDI_PITCHES * NUM_TRACKS\n",
    "            # vector is a note_on event.\n",
    "            else:\n",
    "                note_type = 'note_on'\n",
    "            track_num = int(index / NUM_MIDI_PITCHES)\n",
    "            note = index % NUM_MIDI_PITCHES\n",
    "            track_sequences[track_num].append({\"type\": note_type, \"note\": note, \"start_time\": start_time})\n",
    "            time_delay = 0\n",
    "            \n",
    "    return track_sequences\n",
    "    "
   ]
  },
  {
   "cell_type": "code",
   "execution_count": 161,
   "metadata": {
    "collapsed": true
   },
   "outputs": [],
   "source": [
    "def get_midi_from_vector_sequence(track_sequences):\n",
    "    \"\"\"Get midi from track sequences.\n",
    "\n",
    "    Args:\n",
    "       track_sequences: List of vector sequences for each track.\n",
    "       \n",
    "    Returns:\n",
    "        MidiFile object.\n",
    "    \"\"\"\n",
    "    mid = mido.MidiFile()\n",
    "    tracks = [mido.MidiTrack() for _ in range(NUM_TRACKS)]\n",
    "    mid.tracks.extend(tracks)\n",
    "\n",
    "    for i, ts in enumerate(track_sequences):\n",
    "        prev_start_time = 0\n",
    "        for event in ts:\n",
    "            time = event[\"start_time\"] - prev_start_time\n",
    "            prev_start_time = event[\"start_time\"]\n",
    "            # I picked a random number for velocity.\n",
    "            mid.tracks[i].append(mido.Message(event[\"type\"], note=event[\"note\"], velocity=50,\n",
    "                                              time=int(time * TICKS_PER_BEAT)))\n",
    "    \n",
    "    return mid"
   ]
  },
  {
   "cell_type": "code",
   "execution_count": 162,
   "metadata": {},
   "outputs": [],
   "source": [
    "track_sequence = get_track_sequences([list(x[0]) for x in generated_music])"
   ]
  },
  {
   "cell_type": "code",
   "execution_count": 163,
   "metadata": {},
   "outputs": [
    {
     "data": {
      "text/plain": [
       "[{'note': 76, 'start_time': 0.5, 'type': 'note_on'},\n",
       " {'note': 76, 'start_time': 0.625, 'type': 'note_off'},\n",
       " {'note': 76, 'start_time': 1.5, 'type': 'note_on'},\n",
       " {'note': 76, 'start_time': 1.625, 'type': 'note_off'},\n",
       " {'note': 76, 'start_time': 2.75, 'type': 'note_on'},\n",
       " {'note': 76, 'start_time': 2.875, 'type': 'note_off'},\n",
       " {'note': 78, 'start_time': 11.78125, 'type': 'note_on'},\n",
       " {'note': 67, 'start_time': 56.53125000000011, 'type': 'note_off'},\n",
       " {'note': 63, 'start_time': 56.53125000000011, 'type': 'note_on'},\n",
       " {'note': 63, 'start_time': 57.01041666666677, 'type': 'note_off'},\n",
       " {'note': 67, 'start_time': 57.51041666666677, 'type': 'note_on'},\n",
       " {'note': 67, 'start_time': 58.48958333333344, 'type': 'note_off'},\n",
       " {'note': 72, 'start_time': 58.48958333333344, 'type': 'note_off'},\n",
       " {'note': 74, 'start_time': 58.48958333333344, 'type': 'note_on'},\n",
       " {'note': 65, 'start_time': 58.48958333333344, 'type': 'note_on'},\n",
       " {'note': 74, 'start_time': 58.97916666666678, 'type': 'note_off'},\n",
       " {'note': 75, 'start_time': 58.97916666666678, 'type': 'note_on'},\n",
       " {'note': 67, 'start_time': 60.63541666666678, 'type': 'note_on'},\n",
       " {'note': 67, 'start_time': 61.29166666666678, 'type': 'note_off'},\n",
       " {'note': 68, 'start_time': 61.593750000000114, 'type': 'note_off'},\n",
       " {'note': 68, 'start_time': 61.593750000000114, 'type': 'note_on'},\n",
       " {'note': 68, 'start_time': 61.80208333333345, 'type': 'note_off'},\n",
       " {'note': 68, 'start_time': 61.80208333333345, 'type': 'note_on'},\n",
       " {'note': 68, 'start_time': 62.02083333333345, 'type': 'note_off'},\n",
       " {'note': 68, 'start_time': 62.02083333333345, 'type': 'note_on'},\n",
       " {'note': 68, 'start_time': 62.041666666666785, 'type': 'note_off'},\n",
       " {'note': 68, 'start_time': 62.041666666666785, 'type': 'note_on'},\n",
       " {'note': 68, 'start_time': 62.406250000000114, 'type': 'note_off'},\n",
       " {'note': 70, 'start_time': 62.406250000000114, 'type': 'note_on'}]"
      ]
     },
     "execution_count": 163,
     "metadata": {},
     "output_type": "execute_result"
    }
   ],
   "source": [
    "track_sequence[1]"
   ]
  },
  {
   "cell_type": "code",
   "execution_count": 164,
   "metadata": {},
   "outputs": [
    {
     "data": {
      "text/plain": [
       "<midi file None type 1, 4 tracks, 689 messages>"
      ]
     },
     "execution_count": 164,
     "metadata": {},
     "output_type": "execute_result"
    }
   ],
   "source": [
    "midi = get_midi_from_vector_sequence(track_sequence)\n",
    "midi"
   ]
  },
  {
   "cell_type": "markdown",
   "metadata": {},
   "source": [
    "# Save midi"
   ]
  },
  {
   "cell_type": "code",
   "execution_count": 165,
   "metadata": {
    "collapsed": true
   },
   "outputs": [],
   "source": [
    "generation_output = \"generated_music/\""
   ]
  },
  {
   "cell_type": "code",
   "execution_count": null,
   "metadata": {
    "collapsed": true
   },
   "outputs": [],
   "source": [
    "date = time.strftime(\"%Y-%m-%d %H.%M\")\n",
    "logfile_name =\"Logfile (Date={}, MinValidLoss={:.2f}, TrainLoss={:.2f}, Iterations={}).txt\". \\\n",
    "    format(date, min_valid_loss, train_loss_mean, len(validation_loss_list))\n",
    "logfile_name"
   ]
  },
  {
   "cell_type": "code",
   "execution_count": 85,
   "metadata": {},
   "outputs": [
    {
     "data": {
      "text/plain": [
       "'Generated Music (Date=2017-11-13 12.52, Temperature=0.7, Length=1000, MinValidLoss=4.69, TrainLoss=1.92, Iterations=0).mid'"
      ]
     },
     "execution_count": 85,
     "metadata": {},
     "output_type": "execute_result"
    }
   ],
   "source": [
    "midi_name = \"Generated Music (Date={}, Temperature={}, Length={}, MinValidLoss={:.2f}, TrainLoss={:.2f}, Iterations={}).mid\". \\\n",
    "    format(date, temperature, N_GENERATED_NOTE_VECTORS, min_valid_loss, train_loss_mean, len(validation_loss_list))\n",
    "midi_name"
   ]
  },
  {
   "cell_type": "code",
   "execution_count": 167,
   "metadata": {
    "collapsed": true
   },
   "outputs": [],
   "source": [
    "midi.save(generation_output + midi_name)"
   ]
  }
 ],
 "metadata": {
  "kernelspec": {
   "display_name": "Python 3",
   "language": "python",
   "name": "python3"
  },
  "language_info": {
   "codemirror_mode": {
    "name": "ipython",
    "version": 3
   },
   "file_extension": ".py",
   "mimetype": "text/x-python",
   "name": "python",
   "nbconvert_exporter": "python",
   "pygments_lexer": "ipython3",
   "version": "3.6.2"
  }
 },
 "nbformat": 4,
 "nbformat_minor": 2
}
