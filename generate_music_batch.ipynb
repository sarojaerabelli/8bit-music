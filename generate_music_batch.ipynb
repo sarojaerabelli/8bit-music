{
 "cells": [
  {
   "cell_type": "code",
   "execution_count": 5,
   "metadata": {
    "collapsed": true
   },
   "outputs": [],
   "source": [
    "import mido\n",
    "import os\n",
    "import numpy as np\n",
    "from scipy import stats\n",
    "from os import listdir\n",
    "from os.path import isfile, join\n",
    "import tensorflow as tf\n",
    "from tensorflow.contrib import rnn\n",
    "import time\n",
    "\n",
    "import matplotlib.pyplot as plt\n",
    "from pylab import rcParams\n",
    "rcParams['figure.figsize'] = (12, 8)"
   ]
  },
  {
   "cell_type": "code",
   "execution_count": 6,
   "metadata": {
    "collapsed": true
   },
   "outputs": [],
   "source": [
    "TICKS_PER_BEAT = 480\n",
    "TEMPO = int(mido.bpm2tempo(120))"
   ]
  },
  {
   "cell_type": "code",
   "execution_count": 64,
   "metadata": {
    "collapsed": true
   },
   "outputs": [],
   "source": [
    "%run get_training_data.py"
   ]
  },
  {
   "cell_type": "markdown",
   "metadata": {},
   "source": [
    "### Create training data"
   ]
  },
  {
   "cell_type": "code",
   "execution_count": 81,
   "metadata": {
    "collapsed": true
   },
   "outputs": [],
   "source": [
    "def get_training_data(start_index, end_index):\n",
    "    \"\"\"Generate training data array for all files in \"midis_processed/\" directory.\n",
    "       \n",
    "    Returns:\n",
    "        Numpy array of training data.\n",
    "    \"\"\"\n",
    "    training_data = []\n",
    "    training_data_labels = []\n",
    "    for filename in os.listdir('midis_processed/')[start_index:end_index]:\n",
    "        if filename.endswith(\".mid\"):\n",
    "            vector = midi_to_vector('midis_processed/' + filename)\n",
    "            if len(vector) > 100:\n",
    "                training_data.append(np.array(vector))\n",
    "                training_data_labels.append(filename)\n",
    "            else:\n",
    "                print(\"Faulty training data: \" + filename + \". len(vector)=\" + str(len(vector)))\n",
    "    return np.array(training_data), training_data_labels"
   ]
  },
  {
   "cell_type": "code",
   "execution_count": 93,
   "metadata": {
    "scrolled": true
   },
   "outputs": [],
   "source": [
    "# Set num training examples here. Note: actual number will be less, since some have errors\n",
    "training_data, training_data_labels = get_training_data(13, 15)"
   ]
  },
  {
   "cell_type": "code",
   "execution_count": 94,
   "metadata": {},
   "outputs": [
    {
     "name": "stdout",
     "output_type": "stream",
     "text": [
      "Number of training examples: 2\n"
     ]
    },
    {
     "data": {
      "text/plain": [
       "['3D_Worldrunner_Main.mid', '43pbos1 (1).mid']"
      ]
     },
     "execution_count": 94,
     "metadata": {},
     "output_type": "execute_result"
    }
   ],
   "source": [
    "print(\"Number of training examples:\", len(training_data))\n",
    "training_data_labels"
   ]
  },
  {
   "cell_type": "code",
   "execution_count": 12,
   "metadata": {},
   "outputs": [
    {
     "data": {
      "text/plain": [
       "(878, 1120)"
      ]
     },
     "execution_count": 12,
     "metadata": {},
     "output_type": "execute_result"
    }
   ],
   "source": [
    "training_data = np.array([np.array(x) for x in training_data])\n",
    "training_data[0].shape"
   ]
  },
  {
   "cell_type": "markdown",
   "metadata": {},
   "source": [
    "### Parameters"
   ]
  },
  {
   "cell_type": "code",
   "execution_count": 13,
   "metadata": {
    "collapsed": true
   },
   "outputs": [],
   "source": [
    "# Parameters\n",
    "#batch_size = 100\n",
    "#learning_rate = 0.001\n",
    "#training_iters = 10000\n",
    "#n_input = 100\n",
    "#display_step = 10\n",
    "\n",
    "# number of units in RNN cell\n",
    "#n_hidden = 512\n",
    "\n",
    "# Parameters\n",
    "batch_size = 3\n",
    "learning_rate = 0.001\n",
    "training_iters = 10000\n",
    "n_input = 16\n",
    "display_step = 10\n",
    "\n",
    "# number of units in RNN cell\n",
    "n_hidden = 1500"
   ]
  },
  {
   "cell_type": "markdown",
   "metadata": {},
   "source": [
    "### Create log file"
   ]
  },
  {
   "cell_type": "code",
   "execution_count": 14,
   "metadata": {
    "collapsed": true
   },
   "outputs": [],
   "source": [
    "logfile_directory = 'logs/'"
   ]
  },
  {
   "cell_type": "code",
   "execution_count": 73,
   "metadata": {},
   "outputs": [
    {
     "data": {
      "text/plain": [
       "'Logfile (NTraining=1, NHidden=1500, Batch=3, LR=0.001, Date=2017-11-09 21.51).txt'"
      ]
     },
     "execution_count": 73,
     "metadata": {},
     "output_type": "execute_result"
    }
   ],
   "source": [
    "date = time.strftime(\"%Y-%m-%d %H.%M\")\n",
    "logfile_name = \"Logfile (NTraining={}, NHidden={}, Batch={}, LR={}, Date={}).txt\". \\\n",
    "    format(len(training_data), n_hidden, batch_size, learning_rate, date)\n",
    "logfile_name"
   ]
  },
  {
   "cell_type": "markdown",
   "metadata": {},
   "source": [
    "### Create tensor flow graph"
   ]
  },
  {
   "cell_type": "code",
   "execution_count": 16,
   "metadata": {},
   "outputs": [
    {
     "data": {
      "text/plain": [
       "1120"
      ]
     },
     "execution_count": 16,
     "metadata": {},
     "output_type": "execute_result"
    }
   ],
   "source": [
    "vocab_size = len(training_data[0][0])\n",
    "vocab_size"
   ]
  },
  {
   "cell_type": "code",
   "execution_count": 17,
   "metadata": {
    "collapsed": true
   },
   "outputs": [],
   "source": [
    "# tf Graph input\n",
    "x = tf.placeholder(\"float\", [batch_size, n_input, vocab_size])\n",
    "y = tf.placeholder(\"int32\", [batch_size, n_input])\n",
    "\n",
    "# RNN output node weights and biases\n",
    "softmax_w = tf.Variable(tf.random_normal([n_hidden, vocab_size]))\n",
    "softmax_b = tf.Variable(tf.random_normal([vocab_size]))\n",
    "\n",
    "max_grad_norm = 5"
   ]
  },
  {
   "cell_type": "code",
   "execution_count": 18,
   "metadata": {
    "collapsed": true
   },
   "outputs": [],
   "source": [
    "# tf Graph generative input\n",
    "x_generation = tf.placeholder(\"float\", [1, vocab_size])"
   ]
  },
  {
   "cell_type": "code",
   "execution_count": 22,
   "metadata": {
    "collapsed": true
   },
   "outputs": [],
   "source": [
    "rnn_cell = rnn.MultiRNNCell([rnn.BasicLSTMCell(n_hidden), rnn.BasicLSTMCell(n_hidden)])\n",
    "x_split = tf.split(x, n_input, 1)\n",
    "x_split = [tf.reshape(a, [batch_size, vocab_size]) for a in x_split]"
   ]
  },
  {
   "cell_type": "code",
   "execution_count": 23,
   "metadata": {
    "collapsed": true
   },
   "outputs": [],
   "source": [
    "outputs, states = rnn.static_rnn(rnn_cell, x_split, dtype=tf.float32)\n",
    "logits = [tf.nn.xw_plus_b(output, softmax_w, softmax_b) for output in outputs]\n",
    "logits = tf.reshape(logits, [batch_size, n_input, vocab_size])"
   ]
  },
  {
   "cell_type": "code",
   "execution_count": 24,
   "metadata": {
    "collapsed": true
   },
   "outputs": [],
   "source": [
    "loss = tf.contrib.seq2seq.sequence_loss(logits, y, weights=tf.ones([batch_size, n_input], dtype=tf.float32), # check this\n",
    "                                        average_across_timesteps=True, average_across_batch=True)\n",
    "cost = tf.reduce_sum(loss)\n",
    "optimizer = tf.train.RMSPropOptimizer(learning_rate=learning_rate).minimize(cost)"
   ]
  },
  {
   "cell_type": "markdown",
   "metadata": {},
   "source": [
    "## Run tensor flow session"
   ]
  },
  {
   "cell_type": "code",
   "execution_count": 25,
   "metadata": {
    "collapsed": true
   },
   "outputs": [],
   "source": [
    "session = tf.Session()"
   ]
  },
  {
   "cell_type": "code",
   "execution_count": 26,
   "metadata": {
    "collapsed": true
   },
   "outputs": [],
   "source": [
    "def get_midi_xy(midi_file_number):\n",
    "    offset = np.random.randint(0, len(training_data[midi_file_number]) - n_input - 1)\n",
    "    midi_x = training_data[midi_file_number][offset:offset+n_input]\n",
    "    midi_y = training_data[midi_file_number][1 + offset:1 + offset+n_input].dot(range(vocab_size)).reshape(1, n_input)\n",
    "    return midi_x, midi_y"
   ]
  },
  {
   "cell_type": "code",
   "execution_count": 27,
   "metadata": {
    "collapsed": true
   },
   "outputs": [],
   "source": [
    "def get_batch():\n",
    "    \"\"\"Generate random batches of x and y training vectors for RNN.\n",
    "       \n",
    "    Returns:\n",
    "        Two batches of x and y vectors.\n",
    "    \"\"\"\n",
    "    batch_x = []\n",
    "    batch_y = []\n",
    "    batch = np.random.choice(range(len(training_data)), batch_size, replace=True)\n",
    "    for b in batch:\n",
    "        midi_x, midi_y = get_midi_xy(b%len(training_data))\n",
    "        batch_x.append(midi_x)\n",
    "        batch_y.append(midi_y)\n",
    "    batch_y = np.reshape(batch_y, [batch_size, n_input])\n",
    "    return batch_x, batch_y"
   ]
  },
  {
   "cell_type": "code",
   "execution_count": 28,
   "metadata": {
    "collapsed": true
   },
   "outputs": [],
   "source": [
    "def seconds_to_minsecstr(seconds):\n",
    "    minutes = seconds//60\n",
    "    seconds -= 60*minutes\n",
    "    if minutes < 10: minutes = \"0\" + str(minutes)\n",
    "    if seconds < 10: seconds = \"0\" + str(seconds)\n",
    "    return str(minutes) + \":\" + str(seconds)"
   ]
  },
  {
   "cell_type": "code",
   "execution_count": 29,
   "metadata": {
    "scrolled": false
   },
   "outputs": [
    {
     "name": "stdout",
     "output_type": "stream",
     "text": [
      "Iter=10, Average Loss=6.183777, Time Elapsed=00:29\n",
      "Iter=20, Average Loss=4.639475, Time Elapsed=00:58\n",
      "Iter=30, Average Loss=3.907638, Time Elapsed=01:28\n",
      "Iter=40, Average Loss=3.751965, Time Elapsed=01:58\n",
      "Iter=50, Average Loss=3.858792, Time Elapsed=02:28\n",
      "Iter=60, Average Loss=3.651798, Time Elapsed=02:58\n",
      "Iter=70, Average Loss=3.835580, Time Elapsed=03:28\n",
      "Iter=80, Average Loss=3.822509, Time Elapsed=03:58\n",
      "Iter=90, Average Loss=4.236467, Time Elapsed=04:28\n",
      "Iter=100, Average Loss=3.861856, Time Elapsed=04:59\n",
      "Iter=110, Average Loss=4.120642, Time Elapsed=05:30\n",
      "Iter=120, Average Loss=4.125757, Time Elapsed=14:09\n",
      "Iter=130, Average Loss=4.100051, Time Elapsed=14:26\n",
      "Iter=140, Average Loss=3.852049, Time Elapsed=14:43\n",
      "Iter=150, Average Loss=4.180683, Time Elapsed=14:58\n",
      "Iter=160, Average Loss=4.492376, Time Elapsed=15:15\n",
      "Iter=170, Average Loss=3.655320, Time Elapsed=15:35\n",
      "Iter=180, Average Loss=4.234989, Time Elapsed=15:53\n",
      "Iter=190, Average Loss=3.877530, Time Elapsed=16:10\n",
      "Iter=200, Average Loss=3.548681, Time Elapsed=16:28\n",
      "Iter=210, Average Loss=3.560228, Time Elapsed=16:45\n",
      "Iter=220, Average Loss=3.746560, Time Elapsed=17:03\n",
      "Iter=230, Average Loss=3.292216, Time Elapsed=17:22\n",
      "Iter=240, Average Loss=3.543676, Time Elapsed=17:40\n",
      "Iter=250, Average Loss=3.442139, Time Elapsed=18:01\n",
      "Iter=260, Average Loss=2.968128, Time Elapsed=18:21\n",
      "Iter=270, Average Loss=3.252164, Time Elapsed=18:43\n",
      "Iter=280, Average Loss=3.311081, Time Elapsed=19:04\n",
      "Iter=290, Average Loss=3.039553, Time Elapsed=19:23\n",
      "Iter=300, Average Loss=2.920832, Time Elapsed=19:41\n",
      "Iter=310, Average Loss=2.957670, Time Elapsed=20:00\n",
      "Iter=320, Average Loss=3.145633, Time Elapsed=20:18\n",
      "Iter=330, Average Loss=3.057494, Time Elapsed=20:37\n",
      "Iter=340, Average Loss=2.893191, Time Elapsed=20:56\n",
      "Iter=350, Average Loss=3.061320, Time Elapsed=21:15\n",
      "Iter=360, Average Loss=3.052770, Time Elapsed=21:33\n",
      "Iter=370, Average Loss=2.823315, Time Elapsed=21:53\n",
      "Iter=380, Average Loss=2.820925, Time Elapsed=22:14\n",
      "Iter=390, Average Loss=2.861551, Time Elapsed=22:32\n",
      "Iter=400, Average Loss=2.861701, Time Elapsed=22:54\n",
      "Iter=410, Average Loss=2.764123, Time Elapsed=23:16\n",
      "Iter=420, Average Loss=2.943038, Time Elapsed=23:34\n",
      "Iter=430, Average Loss=2.873943, Time Elapsed=23:52\n",
      "Iter=440, Average Loss=2.783805, Time Elapsed=24:11\n",
      "Iter=450, Average Loss=2.928628, Time Elapsed=24:29\n",
      "Iter=460, Average Loss=2.829043, Time Elapsed=24:49\n",
      "Iter=470, Average Loss=2.844847, Time Elapsed=25:08\n",
      "Iter=480, Average Loss=2.696278, Time Elapsed=25:32\n",
      "Iter=490, Average Loss=2.800356, Time Elapsed=25:56\n",
      "Iter=500, Average Loss=2.618500, Time Elapsed=26:18\n",
      "Iter=510, Average Loss=2.627064, Time Elapsed=26:40\n",
      "Iter=520, Average Loss=2.735061, Time Elapsed=27:04\n",
      "Iter=530, Average Loss=2.910220, Time Elapsed=27:31\n",
      "Iter=540, Average Loss=2.726947, Time Elapsed=27:54\n",
      "Iter=550, Average Loss=2.875429, Time Elapsed=28:15\n",
      "Iter=560, Average Loss=2.620147, Time Elapsed=28:35\n",
      "Iter=570, Average Loss=2.736987, Time Elapsed=28:56\n",
      "Iter=580, Average Loss=2.640525, Time Elapsed=29:17\n",
      "Iter=590, Average Loss=2.842261, Time Elapsed=29:38\n",
      "Iter=600, Average Loss=2.803572, Time Elapsed=30:00\n",
      "Iter=610, Average Loss=2.706792, Time Elapsed=30:22\n",
      "Iter=620, Average Loss=2.617071, Time Elapsed=30:43\n",
      "Iter=630, Average Loss=2.719359, Time Elapsed=31:05\n",
      "Iter=640, Average Loss=2.768392, Time Elapsed=31:27\n",
      "Iter=650, Average Loss=2.851233, Time Elapsed=31:50\n",
      "Iter=660, Average Loss=2.672353, Time Elapsed=32:14\n",
      "Iter=670, Average Loss=2.739752, Time Elapsed=32:36\n",
      "Iter=680, Average Loss=2.711616, Time Elapsed=32:58\n",
      "Iter=690, Average Loss=2.769968, Time Elapsed=33:21\n",
      "Iter=700, Average Loss=2.702852, Time Elapsed=33:42\n",
      "Iter=710, Average Loss=2.715351, Time Elapsed=34:04\n",
      "Iter=720, Average Loss=2.737821, Time Elapsed=34:27\n",
      "Iter=730, Average Loss=2.790862, Time Elapsed=34:50\n",
      "Iter=740, Average Loss=2.734104, Time Elapsed=35:12\n",
      "Iter=750, Average Loss=2.875943, Time Elapsed=35:35\n",
      "Iter=760, Average Loss=2.730278, Time Elapsed=35:58\n",
      "Iter=770, Average Loss=2.623487, Time Elapsed=36:22\n",
      "Iter=780, Average Loss=2.832670, Time Elapsed=36:44\n",
      "Iter=790, Average Loss=2.783024, Time Elapsed=37:13\n"
     ]
    },
    {
     "ename": "KeyboardInterrupt",
     "evalue": "",
     "output_type": "error",
     "traceback": [
      "\u001b[1;31m---------------------------------------------------------------------------\u001b[0m",
      "\u001b[1;31mKeyboardInterrupt\u001b[0m                         Traceback (most recent call last)",
      "\u001b[1;32m<ipython-input-29-b123a13aeef5>\u001b[0m in \u001b[0;36m<module>\u001b[1;34m()\u001b[0m\n\u001b[0;32m     14\u001b[0m     \u001b[0mbatch_x\u001b[0m\u001b[1;33m,\u001b[0m \u001b[0mbatch_y\u001b[0m \u001b[1;33m=\u001b[0m \u001b[0mget_batch\u001b[0m\u001b[1;33m(\u001b[0m\u001b[1;33m)\u001b[0m\u001b[1;33m\u001b[0m\u001b[0m\n\u001b[0;32m     15\u001b[0m \u001b[1;33m\u001b[0m\u001b[0m\n\u001b[1;32m---> 16\u001b[1;33m     \u001b[0m_\u001b[0m\u001b[1;33m,\u001b[0m \u001b[0mloss\u001b[0m \u001b[1;33m=\u001b[0m \u001b[0msession\u001b[0m\u001b[1;33m.\u001b[0m\u001b[0mrun\u001b[0m\u001b[1;33m(\u001b[0m\u001b[1;33m[\u001b[0m\u001b[0moptimizer\u001b[0m\u001b[1;33m,\u001b[0m \u001b[0mcost\u001b[0m\u001b[1;33m]\u001b[0m\u001b[1;33m,\u001b[0m \u001b[0mfeed_dict\u001b[0m\u001b[1;33m=\u001b[0m\u001b[1;33m{\u001b[0m\u001b[0mx\u001b[0m\u001b[1;33m:\u001b[0m \u001b[0mbatch_x\u001b[0m\u001b[1;33m,\u001b[0m \u001b[0my\u001b[0m\u001b[1;33m:\u001b[0m \u001b[0mbatch_y\u001b[0m\u001b[1;33m}\u001b[0m\u001b[1;33m)\u001b[0m\u001b[1;33m\u001b[0m\u001b[0m\n\u001b[0m\u001b[0;32m     17\u001b[0m     \u001b[0mloss_total\u001b[0m \u001b[1;33m+=\u001b[0m \u001b[0mloss\u001b[0m\u001b[1;33m\u001b[0m\u001b[0m\n\u001b[0;32m     18\u001b[0m     log = \"Iter=\" + str(step+1) + \", Average Loss={:.6f}, Time Elapsed={}\".format(loss_total/display_step, \n",
      "\u001b[1;32m~\\Anaconda3\\lib\\site-packages\\tensorflow\\python\\client\\session.py\u001b[0m in \u001b[0;36mrun\u001b[1;34m(self, fetches, feed_dict, options, run_metadata)\u001b[0m\n\u001b[0;32m    887\u001b[0m     \u001b[1;32mtry\u001b[0m\u001b[1;33m:\u001b[0m\u001b[1;33m\u001b[0m\u001b[0m\n\u001b[0;32m    888\u001b[0m       result = self._run(None, fetches, feed_dict, options_ptr,\n\u001b[1;32m--> 889\u001b[1;33m                          run_metadata_ptr)\n\u001b[0m\u001b[0;32m    890\u001b[0m       \u001b[1;32mif\u001b[0m \u001b[0mrun_metadata\u001b[0m\u001b[1;33m:\u001b[0m\u001b[1;33m\u001b[0m\u001b[0m\n\u001b[0;32m    891\u001b[0m         \u001b[0mproto_data\u001b[0m \u001b[1;33m=\u001b[0m \u001b[0mtf_session\u001b[0m\u001b[1;33m.\u001b[0m\u001b[0mTF_GetBuffer\u001b[0m\u001b[1;33m(\u001b[0m\u001b[0mrun_metadata_ptr\u001b[0m\u001b[1;33m)\u001b[0m\u001b[1;33m\u001b[0m\u001b[0m\n",
      "\u001b[1;32m~\\Anaconda3\\lib\\site-packages\\tensorflow\\python\\client\\session.py\u001b[0m in \u001b[0;36m_run\u001b[1;34m(self, handle, fetches, feed_dict, options, run_metadata)\u001b[0m\n\u001b[0;32m   1118\u001b[0m     \u001b[1;32mif\u001b[0m \u001b[0mfinal_fetches\u001b[0m \u001b[1;32mor\u001b[0m \u001b[0mfinal_targets\u001b[0m \u001b[1;32mor\u001b[0m \u001b[1;33m(\u001b[0m\u001b[0mhandle\u001b[0m \u001b[1;32mand\u001b[0m \u001b[0mfeed_dict_tensor\u001b[0m\u001b[1;33m)\u001b[0m\u001b[1;33m:\u001b[0m\u001b[1;33m\u001b[0m\u001b[0m\n\u001b[0;32m   1119\u001b[0m       results = self._do_run(handle, final_targets, final_fetches,\n\u001b[1;32m-> 1120\u001b[1;33m                              feed_dict_tensor, options, run_metadata)\n\u001b[0m\u001b[0;32m   1121\u001b[0m     \u001b[1;32melse\u001b[0m\u001b[1;33m:\u001b[0m\u001b[1;33m\u001b[0m\u001b[0m\n\u001b[0;32m   1122\u001b[0m       \u001b[0mresults\u001b[0m \u001b[1;33m=\u001b[0m \u001b[1;33m[\u001b[0m\u001b[1;33m]\u001b[0m\u001b[1;33m\u001b[0m\u001b[0m\n",
      "\u001b[1;32m~\\Anaconda3\\lib\\site-packages\\tensorflow\\python\\client\\session.py\u001b[0m in \u001b[0;36m_do_run\u001b[1;34m(self, handle, target_list, fetch_list, feed_dict, options, run_metadata)\u001b[0m\n\u001b[0;32m   1315\u001b[0m     \u001b[1;32mif\u001b[0m \u001b[0mhandle\u001b[0m \u001b[1;32mis\u001b[0m \u001b[1;32mNone\u001b[0m\u001b[1;33m:\u001b[0m\u001b[1;33m\u001b[0m\u001b[0m\n\u001b[0;32m   1316\u001b[0m       return self._do_call(_run_fn, self._session, feeds, fetches, targets,\n\u001b[1;32m-> 1317\u001b[1;33m                            options, run_metadata)\n\u001b[0m\u001b[0;32m   1318\u001b[0m     \u001b[1;32melse\u001b[0m\u001b[1;33m:\u001b[0m\u001b[1;33m\u001b[0m\u001b[0m\n\u001b[0;32m   1319\u001b[0m       \u001b[1;32mreturn\u001b[0m \u001b[0mself\u001b[0m\u001b[1;33m.\u001b[0m\u001b[0m_do_call\u001b[0m\u001b[1;33m(\u001b[0m\u001b[0m_prun_fn\u001b[0m\u001b[1;33m,\u001b[0m \u001b[0mself\u001b[0m\u001b[1;33m.\u001b[0m\u001b[0m_session\u001b[0m\u001b[1;33m,\u001b[0m \u001b[0mhandle\u001b[0m\u001b[1;33m,\u001b[0m \u001b[0mfeeds\u001b[0m\u001b[1;33m,\u001b[0m \u001b[0mfetches\u001b[0m\u001b[1;33m)\u001b[0m\u001b[1;33m\u001b[0m\u001b[0m\n",
      "\u001b[1;32m~\\Anaconda3\\lib\\site-packages\\tensorflow\\python\\client\\session.py\u001b[0m in \u001b[0;36m_do_call\u001b[1;34m(self, fn, *args)\u001b[0m\n\u001b[0;32m   1321\u001b[0m   \u001b[1;32mdef\u001b[0m \u001b[0m_do_call\u001b[0m\u001b[1;33m(\u001b[0m\u001b[0mself\u001b[0m\u001b[1;33m,\u001b[0m \u001b[0mfn\u001b[0m\u001b[1;33m,\u001b[0m \u001b[1;33m*\u001b[0m\u001b[0margs\u001b[0m\u001b[1;33m)\u001b[0m\u001b[1;33m:\u001b[0m\u001b[1;33m\u001b[0m\u001b[0m\n\u001b[0;32m   1322\u001b[0m     \u001b[1;32mtry\u001b[0m\u001b[1;33m:\u001b[0m\u001b[1;33m\u001b[0m\u001b[0m\n\u001b[1;32m-> 1323\u001b[1;33m       \u001b[1;32mreturn\u001b[0m \u001b[0mfn\u001b[0m\u001b[1;33m(\u001b[0m\u001b[1;33m*\u001b[0m\u001b[0margs\u001b[0m\u001b[1;33m)\u001b[0m\u001b[1;33m\u001b[0m\u001b[0m\n\u001b[0m\u001b[0;32m   1324\u001b[0m     \u001b[1;32mexcept\u001b[0m \u001b[0merrors\u001b[0m\u001b[1;33m.\u001b[0m\u001b[0mOpError\u001b[0m \u001b[1;32mas\u001b[0m \u001b[0me\u001b[0m\u001b[1;33m:\u001b[0m\u001b[1;33m\u001b[0m\u001b[0m\n\u001b[0;32m   1325\u001b[0m       \u001b[0mmessage\u001b[0m \u001b[1;33m=\u001b[0m \u001b[0mcompat\u001b[0m\u001b[1;33m.\u001b[0m\u001b[0mas_text\u001b[0m\u001b[1;33m(\u001b[0m\u001b[0me\u001b[0m\u001b[1;33m.\u001b[0m\u001b[0mmessage\u001b[0m\u001b[1;33m)\u001b[0m\u001b[1;33m\u001b[0m\u001b[0m\n",
      "\u001b[1;32m~\\Anaconda3\\lib\\site-packages\\tensorflow\\python\\client\\session.py\u001b[0m in \u001b[0;36m_run_fn\u001b[1;34m(session, feed_dict, fetch_list, target_list, options, run_metadata)\u001b[0m\n\u001b[0;32m   1300\u001b[0m           return tf_session.TF_Run(session, options,\n\u001b[0;32m   1301\u001b[0m                                    \u001b[0mfeed_dict\u001b[0m\u001b[1;33m,\u001b[0m \u001b[0mfetch_list\u001b[0m\u001b[1;33m,\u001b[0m \u001b[0mtarget_list\u001b[0m\u001b[1;33m,\u001b[0m\u001b[1;33m\u001b[0m\u001b[0m\n\u001b[1;32m-> 1302\u001b[1;33m                                    status, run_metadata)\n\u001b[0m\u001b[0;32m   1303\u001b[0m \u001b[1;33m\u001b[0m\u001b[0m\n\u001b[0;32m   1304\u001b[0m     \u001b[1;32mdef\u001b[0m \u001b[0m_prun_fn\u001b[0m\u001b[1;33m(\u001b[0m\u001b[0msession\u001b[0m\u001b[1;33m,\u001b[0m \u001b[0mhandle\u001b[0m\u001b[1;33m,\u001b[0m \u001b[0mfeed_dict\u001b[0m\u001b[1;33m,\u001b[0m \u001b[0mfetch_list\u001b[0m\u001b[1;33m)\u001b[0m\u001b[1;33m:\u001b[0m\u001b[1;33m\u001b[0m\u001b[0m\n",
      "\u001b[1;31mKeyboardInterrupt\u001b[0m: "
     ]
    }
   ],
   "source": [
    "# Create log file when started training\n",
    "logfile = open(logfile_directory + logfile_name, \"w\")\n",
    "\n",
    "training_loss_list = []\n",
    "\n",
    "init = tf.global_variables_initializer()\n",
    "session.run(init)\n",
    "step = 0\n",
    "loss_total = 0\n",
    "\n",
    "start_time = time.time()\n",
    "\n",
    "while step < training_iters:\n",
    "    batch_x, batch_y = get_batch()\n",
    "\n",
    "    _, loss = session.run([optimizer, cost], feed_dict={x: batch_x, y: batch_y})\n",
    "    loss_total += loss\n",
    "    log = \"Iter=\" + str(step+1) + \", Average Loss={:.6f}, Time Elapsed={}\".format(loss_total/display_step, \n",
    "             seconds_to_minsecstr(int(time.time()-start_time)))\n",
    "    logfile.write(log)\n",
    "    \n",
    "    if (step+1) % display_step == 0:\n",
    "        print(log)\n",
    "        loss_total = 0\n",
    "    training_loss_list.append(loss_total/display_step)\n",
    "    step += 1"
   ]
  },
  {
   "cell_type": "code",
   "execution_count": 30,
   "metadata": {
    "collapsed": true
   },
   "outputs": [],
   "source": [
    "logfile.close()"
   ]
  },
  {
   "cell_type": "markdown",
   "metadata": {},
   "source": [
    "### Plots"
   ]
  },
  {
   "cell_type": "code",
   "execution_count": 32,
   "metadata": {},
   "outputs": [
    {
     "data": {
      "image/png": "[encoded data removed]",
      "text/plain": [
       "<matplotlib.figure.Figure at 0x1173112f710>"
      ]
     },
     "metadata": {},
     "output_type": "display_data"
    }
   ],
   "source": [
    "plt.plot(training_loss_list)\n",
    "plt.xlabel('Iteration')\n",
    "plt.title('Training loss over iterations')\n",
    "plt.show()"
   ]
  },
  {
   "cell_type": "markdown",
   "metadata": {},
   "source": [
    "## Generate music from trained model"
   ]
  },
  {
   "cell_type": "code",
   "execution_count": 43,
   "metadata": {
    "collapsed": true
   },
   "outputs": [],
   "source": [
    "N_GENERATED_NOTE_VECTORS = 1000\n",
    "temperature = 1.0"
   ]
  },
  {
   "cell_type": "code",
   "execution_count": 44,
   "metadata": {},
   "outputs": [
    {
     "data": {
      "text/plain": [
       "[<tf.Tensor 'rnn/rnn/multi_rnn_cell/cell_1/cell_1/basic_lstm_cell/mul_53:0' shape=(1, 1500) dtype=float32>]"
      ]
     },
     "execution_count": 44,
     "metadata": {},
     "output_type": "execute_result"
    }
   ],
   "source": [
    "outputs_generation, states_generation = rnn.static_rnn(rnn_cell, [x_generation], dtype=tf.float32)\n",
    "outputs_generation"
   ]
  },
  {
   "cell_type": "code",
   "execution_count": 45,
   "metadata": {},
   "outputs": [
    {
     "data": {
      "text/plain": [
       "<tf.Tensor 'xw_plus_b_17:0' shape=(1, 1120) dtype=float32>"
      ]
     },
     "execution_count": 45,
     "metadata": {},
     "output_type": "execute_result"
    }
   ],
   "source": [
    "logits_generation = tf.nn.xw_plus_b(outputs_generation[0], softmax_w, softmax_b)\n",
    "logits_generation"
   ]
  },
  {
   "cell_type": "code",
   "execution_count": 46,
   "metadata": {
    "collapsed": true
   },
   "outputs": [],
   "source": [
    "#seed_note = np.zeros(vocab_size)\n",
    "#seed_note[0] = 1\n",
    "seed_note = training_data[int(len(training_data)*np.random.random())][0]\n",
    "seed_note = np.reshape(seed_note, [1, vocab_size])"
   ]
  },
  {
   "cell_type": "code",
   "execution_count": 58,
   "metadata": {
    "collapsed": true
   },
   "outputs": [],
   "source": [
    "generated_music = [seed_note]\n",
    "for i in range(N_GENERATED_NOTE_VECTORS):\n",
    "    onehot_pred = session.run(logits_generation, feed_dict={x_generation: generated_music[-1]})\n",
    "    \n",
    "    next_note = np.zeros(vocab_size)\n",
    "    #index = np.argmax(onehot_pred, 1) # take max probability\n",
    "    softmax_cdf = np.exp(onehot_pred[0]/temperature)/np.sum(np.exp(onehot_pred[0]/temperature))\n",
    "    index = np.random.choice(range(vocab_size), p=softmax_cdf) # choose probabilistically\n",
    "    \n",
    "    next_note[index] = 1\n",
    "    next_note = np.reshape(next_note, [1, vocab_size])\n",
    "    \n",
    "    generated_music.append(next_note)"
   ]
  },
  {
   "cell_type": "code",
   "execution_count": 60,
   "metadata": {},
   "outputs": [
    {
     "data": {
      "text/plain": [
       "array([  212.,  1023.,  1023., ...,  1023.,   212.,  1025.])"
      ]
     },
     "execution_count": 60,
     "metadata": {},
     "output_type": "execute_result"
    }
   ],
   "source": [
    "notes = np.array(generated_music).reshape(N_GENERATED_NOTE_VECTORS+1, vocab_size).dot(np.array(range(vocab_size)))\n",
    "notes"
   ]
  },
  {
   "cell_type": "markdown",
   "metadata": {},
   "source": [
    "### Convert generated music to midi"
   ]
  },
  {
   "cell_type": "code",
   "execution_count": 67,
   "metadata": {
    "collapsed": true
   },
   "outputs": [],
   "source": [
    "def get_track_sequences(vector_sequence):\n",
    "    \"\"\"Get note sequences for each track from vector sequence output from RNN.\n",
    "\n",
    "    Args:\n",
    "       vector_sequence: List of one-hot vectors containing 128 * NUM_TRACKS note_on events, 128 * NUM_TRACKS note_off events,\n",
    "        and NUM_TIMESHIFTS timeshift events in intervals of 1/96 of a beat each.\n",
    "       \n",
    "    Returns:\n",
    "        List of track vector sequences.\n",
    "    \"\"\"\n",
    "    track_sequences = [[] for _ in range(NUM_TRACKS)]\n",
    "    start_time = 0\n",
    "    for vector in vector_sequence:\n",
    "        index = vector.index(1)\n",
    "        # vector is a time event.\n",
    "        if index >= NUM_MIDI_PITCHES * 2 * NUM_TRACKS:\n",
    "            num_beats = (index - NUM_MIDI_PITCHES * 2 * NUM_TRACKS + 1) / NUM_TIMESHIFTS\n",
    "            start_time += num_beats\n",
    "        else:\n",
    "            # vector is a note_off event.\n",
    "            if index >= NUM_MIDI_PITCHES * NUM_TRACKS:\n",
    "                note_type = 'note_off'\n",
    "                index -= NUM_MIDI_PITCHES * NUM_TRACKS\n",
    "            # vector is a note_on event.\n",
    "            else:\n",
    "                note_type = 'note_on'\n",
    "            track_num = int(index / NUM_MIDI_PITCHES)\n",
    "            note = index % NUM_MIDI_PITCHES\n",
    "            track_sequences[track_num].append({\"type\": note_type, \"note\": note, \"start_time\": start_time})\n",
    "            time_delay = 0\n",
    "            \n",
    "    return track_sequences\n",
    "    "
   ]
  },
  {
   "cell_type": "code",
   "execution_count": 68,
   "metadata": {
    "collapsed": true
   },
   "outputs": [],
   "source": [
    "def get_midi_from_vector_sequence(track_sequences):\n",
    "    \"\"\"Get midi from track sequences.\n",
    "\n",
    "    Args:\n",
    "       track_sequences: List of vector sequences for each track.\n",
    "       \n",
    "    Returns:\n",
    "        MidiFile object.\n",
    "    \"\"\"\n",
    "    mid = mido.MidiFile()\n",
    "    tracks = [mido.MidiTrack() for _ in range(NUM_TRACKS)]\n",
    "    mid.tracks.extend(tracks)\n",
    "\n",
    "    for i, ts in enumerate(track_sequences):\n",
    "        prev_start_time = 0\n",
    "        for event in ts:\n",
    "            time = event[\"start_time\"] - prev_start_time\n",
    "            prev_start_time = event[\"start_time\"]\n",
    "            # I picked a random number for velocity.\n",
    "            mid.tracks[i].append(mido.Message(event[\"type\"], note=event[\"note\"], velocity=50,\n",
    "                                              time=int(time * TICKS_PER_BEAT)))\n",
    "    \n",
    "    return mid"
   ]
  },
  {
   "cell_type": "code",
   "execution_count": 69,
   "metadata": {},
   "outputs": [
    {
     "data": {
      "text/plain": [
       "[[{'note': 47, 'start_time': 0, 'type': 'note_on'},\n",
       "  {'note': 45, 'start_time': 0.5104166666666666, 'type': 'note_off'},\n",
       "  {'note': 45, 'start_time': 0.5104166666666666, 'type': 'note_off'},\n",
       "  {'note': 45, 'start_time': 1.2395833333333333, 'type': 'note_off'},\n",
       "  {'note': 46, 'start_time': 1.822916666666667, 'type': 'note_off'},\n",
       "  {'note': 111, 'start_time': 4.708333333333333, 'type': 'note_on'},\n",
       "  {'note': 45, 'start_time': 4.708333333333333, 'type': 'note_off'},\n",
       "  {'note': 14, 'start_time': 4.708333333333333, 'type': 'note_on'},\n",
       "  {'note': 69, 'start_time': 4.708333333333333, 'type': 'note_off'},\n",
       "  {'note': 48, 'start_time': 5.760416666666667, 'type': 'note_off'},\n",
       "  {'note': 48, 'start_time': 6.270833333333334, 'type': 'note_off'},\n",
       "  {'note': 38, 'start_time': 6.718750000000001, 'type': 'note_off'},\n",
       "  {'note': 45, 'start_time': 6.781250000000001, 'type': 'note_off'},\n",
       "  {'note': 45, 'start_time': 6.781250000000001, 'type': 'note_off'},\n",
       "  {'note': 48, 'start_time': 6.781250000000001, 'type': 'note_off'},\n",
       "  {'note': 97, 'start_time': 7.260416666666668, 'type': 'note_off'},\n",
       "  {'note': 45, 'start_time': 7.260416666666668, 'type': 'note_off'},\n",
       "  {'note': 108, 'start_time': 7.260416666666668, 'type': 'note_off'},\n",
       "  {'note': 6, 'start_time': 7.260416666666668, 'type': 'note_off'},\n",
       "  {'note': 103, 'start_time': 7.260416666666668, 'type': 'note_on'},\n",
       "  {'note': 86, 'start_time': 7.260416666666668, 'type': 'note_off'},\n",
       "  {'note': 54, 'start_time': 7.260416666666668, 'type': 'note_off'},\n",
       "  {'note': 45, 'start_time': 7.281250000000002, 'type': 'note_off'},\n",
       "  {'note': 45, 'start_time': 7.802083333333335, 'type': 'note_off'},\n",
       "  {'note': 45, 'start_time': 8.708333333333336, 'type': 'note_off'},\n",
       "  {'note': 97, 'start_time': 8.770833333333334, 'type': 'note_on'},\n",
       "  {'note': 40, 'start_time': 8.770833333333334, 'type': 'note_off'},\n",
       "  {'note': 36, 'start_time': 8.770833333333334, 'type': 'note_on'},\n",
       "  {'note': 45, 'start_time': 8.78125, 'type': 'note_off'},\n",
       "  {'note': 45, 'start_time': 8.78125, 'type': 'note_off'},\n",
       "  {'note': 45, 'start_time': 9.291666666666664, 'type': 'note_off'},\n",
       "  {'note': 48, 'start_time': 9.291666666666664, 'type': 'note_off'},\n",
       "  {'note': 118, 'start_time': 9.291666666666664, 'type': 'note_on'},\n",
       "  {'note': 45, 'start_time': 9.30208333333333, 'type': 'note_off'},\n",
       "  {'note': 48, 'start_time': 9.30208333333333, 'type': 'note_off'},\n",
       "  {'note': 45, 'start_time': 9.354166666666663, 'type': 'note_off'},\n",
       "  {'note': 45, 'start_time': 9.354166666666663, 'type': 'note_off'},\n",
       "  {'note': 48, 'start_time': 9.354166666666663, 'type': 'note_off'},\n",
       "  {'note': 48, 'start_time': 9.364583333333329, 'type': 'note_off'},\n",
       "  {'note': 88, 'start_time': 10.624999999999993, 'type': 'note_on'},\n",
       "  {'note': 45, 'start_time': 10.624999999999993, 'type': 'note_off'},\n",
       "  {'note': 45, 'start_time': 10.624999999999993, 'type': 'note_off'},\n",
       "  {'note': 48, 'start_time': 10.739583333333327, 'type': 'note_off'},\n",
       "  {'note': 45, 'start_time': 11.260416666666659, 'type': 'note_off'},\n",
       "  {'note': 45, 'start_time': 11.760416666666659, 'type': 'note_off'},\n",
       "  {'note': 45, 'start_time': 11.812499999999993, 'type': 'note_off'},\n",
       "  {'note': 45, 'start_time': 12.010416666666659, 'type': 'note_off'},\n",
       "  {'note': 95, 'start_time': 12.010416666666659, 'type': 'note_on'},\n",
       "  {'note': 48, 'start_time': 13.010416666666657, 'type': 'note_off'},\n",
       "  {'note': 82, 'start_time': 14.46874999999999, 'type': 'note_on'},\n",
       "  {'note': 48, 'start_time': 14.49999999999999, 'type': 'note_off'},\n",
       "  {'note': 85, 'start_time': 16.072916666666654, 'type': 'note_off'},\n",
       "  {'note': 45, 'start_time': 16.072916666666654, 'type': 'note_off'},\n",
       "  {'note': 45, 'start_time': 17.166666666666657, 'type': 'note_off'},\n",
       "  {'note': 70, 'start_time': 17.166666666666657, 'type': 'note_off'},\n",
       "  {'note': 45, 'start_time': 17.645833333333325, 'type': 'note_off'},\n",
       "  {'note': 45, 'start_time': 17.645833333333325, 'type': 'note_off'},\n",
       "  {'note': 89, 'start_time': 18.687499999999996, 'type': 'note_off'},\n",
       "  {'note': 12, 'start_time': 19.156249999999996, 'type': 'note_on'},\n",
       "  {'note': 99, 'start_time': 19.72916666666667, 'type': 'note_on'},\n",
       "  {'note': 45, 'start_time': 19.750000000000007, 'type': 'note_off'},\n",
       "  {'note': 45, 'start_time': 19.750000000000007, 'type': 'note_off'},\n",
       "  {'note': 55, 'start_time': 19.875000000000007, 'type': 'note_on'},\n",
       "  {'note': 48, 'start_time': 19.89583333333334, 'type': 'note_off'},\n",
       "  {'note': 45, 'start_time': 19.906250000000007, 'type': 'note_off'},\n",
       "  {'note': 45, 'start_time': 19.937500000000007, 'type': 'note_off'},\n",
       "  {'note': 45, 'start_time': 19.947916666666675, 'type': 'note_off'},\n",
       "  {'note': 4, 'start_time': 19.947916666666675, 'type': 'note_off'},\n",
       "  {'note': 45, 'start_time': 20.93750000000001, 'type': 'note_off'},\n",
       "  {'note': 45, 'start_time': 22.416666666666682, 'type': 'note_off'},\n",
       "  {'note': 26, 'start_time': 22.416666666666682, 'type': 'note_on'},\n",
       "  {'note': 92, 'start_time': 22.947916666666682, 'type': 'note_on'},\n",
       "  {'note': 45, 'start_time': 23.437500000000018, 'type': 'note_off'},\n",
       "  {'note': 70, 'start_time': 23.468750000000018, 'type': 'note_off'},\n",
       "  {'note': 8, 'start_time': 23.979166666666686, 'type': 'note_off'}],\n",
       " [{'note': 84, 'start_time': 0, 'type': 'note_on'},\n",
       "  {'note': 84, 'start_time': 0, 'type': 'note_on'},\n",
       "  {'note': 84, 'start_time': 0, 'type': 'note_off'},\n",
       "  {'note': 84, 'start_time': 0, 'type': 'note_on'},\n",
       "  {'note': 74, 'start_time': 0, 'type': 'note_on'},\n",
       "  {'note': 84, 'start_time': 0, 'type': 'note_off'},\n",
       "  {'note': 84, 'start_time': 0, 'type': 'note_off'},\n",
       "  {'note': 84, 'start_time': 0, 'type': 'note_off'},\n",
       "  {'note': 84, 'start_time': 1.2395833333333333, 'type': 'note_on'},\n",
       "  {'note': 84, 'start_time': 1.2395833333333333, 'type': 'note_on'},\n",
       "  {'note': 84, 'start_time': 1.28125, 'type': 'note_on'},\n",
       "  {'note': 84, 'start_time': 1.28125, 'type': 'note_off'},\n",
       "  {'note': 84, 'start_time': 1.28125, 'type': 'note_off'},\n",
       "  {'note': 84, 'start_time': 1.2916666666666667, 'type': 'note_off'},\n",
       "  {'note': 84, 'start_time': 1.3020833333333335, 'type': 'note_off'},\n",
       "  {'note': 84, 'start_time': 1.3020833333333335, 'type': 'note_off'},\n",
       "  {'note': 84, 'start_time': 1.3020833333333335, 'type': 'note_off'},\n",
       "  {'note': 84, 'start_time': 1.3333333333333335, 'type': 'note_on'},\n",
       "  {'note': 84, 'start_time': 1.7604166666666667, 'type': 'note_on'},\n",
       "  {'note': 84, 'start_time': 1.7604166666666667, 'type': 'note_on'},\n",
       "  {'note': 84, 'start_time': 1.7708333333333335, 'type': 'note_off'},\n",
       "  {'note': 84, 'start_time': 1.7916666666666667, 'type': 'note_off'},\n",
       "  {'note': 84, 'start_time': 1.7916666666666667, 'type': 'note_off'},\n",
       "  {'note': 84, 'start_time': 1.7916666666666667, 'type': 'note_off'},\n",
       "  {'note': 84, 'start_time': 1.7916666666666667, 'type': 'note_off'},\n",
       "  {'note': 84, 'start_time': 1.7916666666666667, 'type': 'note_off'},\n",
       "  {'note': 84, 'start_time': 1.8020833333333335, 'type': 'note_off'},\n",
       "  {'note': 84, 'start_time': 2.3125000000000004, 'type': 'note_on'},\n",
       "  {'note': 84, 'start_time': 2.3125000000000004, 'type': 'note_off'},\n",
       "  {'note': 84, 'start_time': 2.3125000000000004, 'type': 'note_on'},\n",
       "  {'note': 112, 'start_time': 2.322916666666667, 'type': 'note_on'},\n",
       "  {'note': 84, 'start_time': 2.322916666666667, 'type': 'note_on'},\n",
       "  {'note': 84, 'start_time': 2.322916666666667, 'type': 'note_off'},\n",
       "  {'note': 84, 'start_time': 2.322916666666667, 'type': 'note_off'},\n",
       "  {'note': 84, 'start_time': 2.3437500000000004, 'type': 'note_on'},\n",
       "  {'note': 84, 'start_time': 2.354166666666667, 'type': 'note_off'},\n",
       "  {'note': 84, 'start_time': 2.354166666666667, 'type': 'note_on'},\n",
       "  {'note': 84, 'start_time': 2.354166666666667, 'type': 'note_on'},\n",
       "  {'note': 104, 'start_time': 2.354166666666667, 'type': 'note_on'},\n",
       "  {'note': 84, 'start_time': 2.354166666666667, 'type': 'note_off'},\n",
       "  {'note': 84, 'start_time': 2.354166666666667, 'type': 'note_off'},\n",
       "  {'note': 84, 'start_time': 2.3645833333333335, 'type': 'note_off'},\n",
       "  {'note': 84, 'start_time': 2.375, 'type': 'note_off'},\n",
       "  {'note': 84, 'start_time': 2.375, 'type': 'note_off'},\n",
       "  {'note': 84, 'start_time': 3.791666666666667, 'type': 'note_off'},\n",
       "  {'note': 84, 'start_time': 3.791666666666667, 'type': 'note_off'},\n",
       "  {'note': 84, 'start_time': 3.791666666666667, 'type': 'note_off'},\n",
       "  {'note': 84, 'start_time': 3.791666666666667, 'type': 'note_off'},\n",
       "  {'note': 84, 'start_time': 3.791666666666667, 'type': 'note_off'},\n",
       "  {'note': 84, 'start_time': 4.25, 'type': 'note_off'},\n",
       "  {'note': 84, 'start_time': 4.25, 'type': 'note_off'},\n",
       "  {'note': 84, 'start_time': 4.25, 'type': 'note_on'},\n",
       "  {'note': 84, 'start_time': 4.708333333333333, 'type': 'note_off'},\n",
       "  {'note': 84, 'start_time': 4.708333333333333, 'type': 'note_off'},\n",
       "  {'note': 84, 'start_time': 4.708333333333333, 'type': 'note_off'},\n",
       "  {'note': 84, 'start_time': 4.708333333333333, 'type': 'note_off'},\n",
       "  {'note': 84, 'start_time': 4.708333333333333, 'type': 'note_off'},\n",
       "  {'note': 85, 'start_time': 4.708333333333333, 'type': 'note_on'},\n",
       "  {'note': 84, 'start_time': 5.197916666666667, 'type': 'note_on'},\n",
       "  {'note': 42, 'start_time': 5.760416666666667, 'type': 'note_off'},\n",
       "  {'note': 84, 'start_time': 5.760416666666667, 'type': 'note_off'},\n",
       "  {'note': 84, 'start_time': 5.760416666666667, 'type': 'note_off'},\n",
       "  {'note': 84, 'start_time': 5.760416666666667, 'type': 'note_on'},\n",
       "  {'note': 84, 'start_time': 5.760416666666667, 'type': 'note_off'},\n",
       "  {'note': 84, 'start_time': 6.718750000000001, 'type': 'note_off'},\n",
       "  {'note': 84, 'start_time': 6.718750000000001, 'type': 'note_on'},\n",
       "  {'note': 84, 'start_time': 6.718750000000001, 'type': 'note_off'},\n",
       "  {'note': 84, 'start_time': 6.718750000000001, 'type': 'note_off'},\n",
       "  {'note': 122, 'start_time': 6.718750000000001, 'type': 'note_off'},\n",
       "  {'note': 84, 'start_time': 6.718750000000001, 'type': 'note_off'},\n",
       "  {'note': 84, 'start_time': 6.718750000000001, 'type': 'note_off'},\n",
       "  {'note': 84, 'start_time': 6.781250000000001, 'type': 'note_off'},\n",
       "  {'note': 26, 'start_time': 6.781250000000001, 'type': 'note_on'},\n",
       "  {'note': 84, 'start_time': 6.781250000000001, 'type': 'note_on'},\n",
       "  {'note': 84, 'start_time': 6.781250000000001, 'type': 'note_on'},\n",
       "  {'note': 84, 'start_time': 7.260416666666668, 'type': 'note_on'},\n",
       "  {'note': 84, 'start_time': 7.260416666666668, 'type': 'note_off'},\n",
       "  {'note': 84, 'start_time': 7.260416666666668, 'type': 'note_off'},\n",
       "  {'note': 82, 'start_time': 7.260416666666668, 'type': 'note_on'},\n",
       "  {'note': 84, 'start_time': 7.260416666666668, 'type': 'note_off'},\n",
       "  {'note': 81, 'start_time': 7.260416666666668, 'type': 'note_on'},\n",
       "  {'note': 84, 'start_time': 7.260416666666668, 'type': 'note_on'},\n",
       "  {'note': 84, 'start_time': 7.260416666666668, 'type': 'note_off'},\n",
       "  {'note': 84, 'start_time': 7.260416666666668, 'type': 'note_on'},\n",
       "  {'note': 84, 'start_time': 7.260416666666668, 'type': 'note_off'},\n",
       "  {'note': 34, 'start_time': 7.260416666666668, 'type': 'note_off'},\n",
       "  {'note': 84, 'start_time': 7.260416666666668, 'type': 'note_off'},\n",
       "  {'note': 84, 'start_time': 7.260416666666668, 'type': 'note_on'},\n",
       "  {'note': 84, 'start_time': 7.260416666666668, 'type': 'note_off'},\n",
       "  {'note': 84, 'start_time': 7.260416666666668, 'type': 'note_off'},\n",
       "  {'note': 84, 'start_time': 7.260416666666668, 'type': 'note_off'},\n",
       "  {'note': 84, 'start_time': 7.260416666666668, 'type': 'note_on'},\n",
       "  {'note': 84, 'start_time': 7.260416666666668, 'type': 'note_on'},\n",
       "  {'note': 84, 'start_time': 7.260416666666668, 'type': 'note_off'},\n",
       "  {'note': 84, 'start_time': 7.260416666666668, 'type': 'note_off'},\n",
       "  {'note': 84, 'start_time': 7.260416666666668, 'type': 'note_off'},\n",
       "  {'note': 84, 'start_time': 7.281250000000002, 'type': 'note_off'},\n",
       "  {'note': 84, 'start_time': 7.281250000000002, 'type': 'note_off'},\n",
       "  {'note': 84, 'start_time': 7.802083333333335, 'type': 'note_off'},\n",
       "  {'note': 84, 'start_time': 7.802083333333335, 'type': 'note_on'},\n",
       "  {'note': 84, 'start_time': 7.802083333333335, 'type': 'note_off'},\n",
       "  {'note': 84, 'start_time': 7.802083333333335, 'type': 'note_on'},\n",
       "  {'note': 84, 'start_time': 7.812500000000002, 'type': 'note_off'},\n",
       "  {'note': 84, 'start_time': 7.812500000000002, 'type': 'note_on'},\n",
       "  {'note': 59, 'start_time': 7.812500000000002, 'type': 'note_on'},\n",
       "  {'note': 84, 'start_time': 7.822916666666669, 'type': 'note_off'},\n",
       "  {'note': 84, 'start_time': 7.822916666666669, 'type': 'note_on'},\n",
       "  {'note': 84, 'start_time': 7.833333333333336, 'type': 'note_off'},\n",
       "  {'note': 84, 'start_time': 7.843750000000003, 'type': 'note_off'},\n",
       "  {'note': 84, 'start_time': 8.22916666666667, 'type': 'note_off'},\n",
       "  {'note': 84, 'start_time': 8.22916666666667, 'type': 'note_off'},\n",
       "  {'note': 84, 'start_time': 8.22916666666667, 'type': 'note_off'},\n",
       "  {'note': 84, 'start_time': 8.708333333333336, 'type': 'note_off'},\n",
       "  {'note': 84, 'start_time': 8.708333333333336, 'type': 'note_off'},\n",
       "  {'note': 84, 'start_time': 8.708333333333336, 'type': 'note_off'},\n",
       "  {'note': 84, 'start_time': 8.718750000000002, 'type': 'note_off'},\n",
       "  {'note': 84, 'start_time': 8.770833333333334, 'type': 'note_off'},\n",
       "  {'note': 84, 'start_time': 8.770833333333334, 'type': 'note_on'},\n",
       "  {'note': 84, 'start_time': 8.770833333333334, 'type': 'note_off'},\n",
       "  {'note': 84, 'start_time': 8.770833333333334, 'type': 'note_off'},\n",
       "  {'note': 84, 'start_time': 8.770833333333334, 'type': 'note_on'},\n",
       "  {'note': 84, 'start_time': 8.78125, 'type': 'note_on'},\n",
       "  {'note': 84, 'start_time': 8.78125, 'type': 'note_on'},\n",
       "  {'note': 84, 'start_time': 8.78125, 'type': 'note_off'},\n",
       "  {'note': 84, 'start_time': 8.78125, 'type': 'note_off'},\n",
       "  {'note': 84, 'start_time': 8.78125, 'type': 'note_on'},\n",
       "  {'note': 84, 'start_time': 8.791666666666666, 'type': 'note_off'},\n",
       "  {'note': 84, 'start_time': 8.802083333333332, 'type': 'note_off'},\n",
       "  {'note': 84, 'start_time': 9.281249999999998, 'type': 'note_off'},\n",
       "  {'note': 84, 'start_time': 9.291666666666664, 'type': 'note_off'},\n",
       "  {'note': 84, 'start_time': 9.291666666666664, 'type': 'note_off'},\n",
       "  {'note': 84, 'start_time': 9.291666666666664, 'type': 'note_off'},\n",
       "  {'note': 84, 'start_time': 9.291666666666664, 'type': 'note_off'},\n",
       "  {'note': 84, 'start_time': 9.291666666666664, 'type': 'note_off'},\n",
       "  {'note': 84, 'start_time': 9.30208333333333, 'type': 'note_off'},\n",
       "  {'note': 84, 'start_time': 9.30208333333333, 'type': 'note_on'},\n",
       "  {'note': 84, 'start_time': 9.30208333333333, 'type': 'note_off'},\n",
       "  {'note': 84, 'start_time': 9.30208333333333, 'type': 'note_off'},\n",
       "  {'note': 84, 'start_time': 9.30208333333333, 'type': 'note_on'},\n",
       "  {'note': 84, 'start_time': 9.30208333333333, 'type': 'note_off'},\n",
       "  {'note': 84, 'start_time': 9.30208333333333, 'type': 'note_off'},\n",
       "  {'note': 84, 'start_time': 9.30208333333333, 'type': 'note_on'},\n",
       "  {'note': 84, 'start_time': 9.30208333333333, 'type': 'note_off'},\n",
       "  {'note': 84, 'start_time': 9.30208333333333, 'type': 'note_off'},\n",
       "  {'note': 36, 'start_time': 9.30208333333333, 'type': 'note_off'},\n",
       "  {'note': 84, 'start_time': 9.322916666666664, 'type': 'note_on'},\n",
       "  {'note': 84, 'start_time': 9.33333333333333, 'type': 'note_off'},\n",
       "  {'note': 84, 'start_time': 9.354166666666663, 'type': 'note_off'},\n",
       "  {'note': 84, 'start_time': 9.364583333333329, 'type': 'note_off'},\n",
       "  {'note': 84, 'start_time': 10.10416666666666, 'type': 'note_off'},\n",
       "  {'note': 84, 'start_time': 10.10416666666666, 'type': 'note_off'},\n",
       "  {'note': 84, 'start_time': 10.10416666666666, 'type': 'note_on'},\n",
       "  {'note': 84, 'start_time': 10.10416666666666, 'type': 'note_off'},\n",
       "  {'note': 84, 'start_time': 10.124999999999995, 'type': 'note_off'},\n",
       "  {'note': 84, 'start_time': 10.124999999999995, 'type': 'note_off'},\n",
       "  {'note': 34, 'start_time': 10.124999999999995, 'type': 'note_off'},\n",
       "  {'note': 84, 'start_time': 10.124999999999995, 'type': 'note_off'},\n",
       "  {'note': 84, 'start_time': 10.124999999999995, 'type': 'note_off'},\n",
       "  {'note': 84, 'start_time': 10.124999999999995, 'type': 'note_on'},\n",
       "  {'note': 84, 'start_time': 10.124999999999995, 'type': 'note_off'},\n",
       "  {'note': 84, 'start_time': 10.124999999999995, 'type': 'note_on'},\n",
       "  {'note': 84, 'start_time': 10.13541666666666, 'type': 'note_off'},\n",
       "  {'note': 84, 'start_time': 10.624999999999993, 'type': 'note_off'},\n",
       "  {'note': 84, 'start_time': 10.624999999999993, 'type': 'note_off'},\n",
       "  {'note': 84, 'start_time': 10.624999999999993, 'type': 'note_off'},\n",
       "  {'note': 91, 'start_time': 10.624999999999993, 'type': 'note_on'},\n",
       "  {'note': 84, 'start_time': 10.624999999999993, 'type': 'note_off'},\n",
       "  {'note': 84, 'start_time': 10.635416666666659, 'type': 'note_off'},\n",
       "  {'note': 84, 'start_time': 10.635416666666659, 'type': 'note_off'},\n",
       "  {'note': 84, 'start_time': 10.635416666666659, 'type': 'note_off'},\n",
       "  {'note': 84, 'start_time': 10.635416666666659, 'type': 'note_on'},\n",
       "  {'note': 84, 'start_time': 10.656249999999993, 'type': 'note_on'},\n",
       "  {'note': 84, 'start_time': 10.656249999999993, 'type': 'note_on'},\n",
       "  {'note': 84, 'start_time': 10.739583333333327, 'type': 'note_off'},\n",
       "  {'note': 84, 'start_time': 10.739583333333327, 'type': 'note_off'},\n",
       "  {'note': 84, 'start_time': 10.739583333333327, 'type': 'note_off'},\n",
       "  {'note': 84, 'start_time': 10.749999999999993, 'type': 'note_off'},\n",
       "  {'note': 84, 'start_time': 10.770833333333327, 'type': 'note_off'},\n",
       "  {'note': 84, 'start_time': 10.781249999999993, 'type': 'note_off'},\n",
       "  {'note': 84, 'start_time': 11.260416666666659, 'type': 'note_off'},\n",
       "  {'note': 84, 'start_time': 11.260416666666659, 'type': 'note_on'},\n",
       "  {'note': 84, 'start_time': 11.260416666666659, 'type': 'note_off'},\n",
       "  {'note': 84, 'start_time': 11.739583333333325, 'type': 'note_off'},\n",
       "  {'note': 84, 'start_time': 11.739583333333325, 'type': 'note_on'},\n",
       "  {'note': 84, 'start_time': 11.791666666666659, 'type': 'note_on'},\n",
       "  {'note': 84, 'start_time': 11.812499999999993, 'type': 'note_off'},\n",
       "  {'note': 84, 'start_time': 11.812499999999993, 'type': 'note_on'},\n",
       "  {'note': 84, 'start_time': 11.812499999999993, 'type': 'note_off'},\n",
       "  {'note': 84, 'start_time': 11.812499999999993, 'type': 'note_on'},\n",
       "  {'note': 84, 'start_time': 12.010416666666659, 'type': 'note_off'},\n",
       "  {'note': 84, 'start_time': 12.010416666666659, 'type': 'note_on'},\n",
       "  {'note': 84, 'start_time': 12.010416666666659, 'type': 'note_on'},\n",
       "  {'note': 84, 'start_time': 12.010416666666659, 'type': 'note_off'},\n",
       "  {'note': 84, 'start_time': 12.010416666666659, 'type': 'note_off'},\n",
       "  {'note': 84, 'start_time': 12.020833333333325, 'type': 'note_off'},\n",
       "  {'note': 84, 'start_time': 12.020833333333325, 'type': 'note_on'},\n",
       "  {'note': 84, 'start_time': 12.020833333333325, 'type': 'note_off'},\n",
       "  {'note': 84, 'start_time': 12.499999999999991, 'type': 'note_on'},\n",
       "  {'note': 84, 'start_time': 12.499999999999991, 'type': 'note_off'},\n",
       "  {'note': 84, 'start_time': 12.499999999999991, 'type': 'note_off'},\n",
       "  {'note': 84, 'start_time': 12.979166666666657, 'type': 'note_off'},\n",
       "  {'note': 84, 'start_time': 12.999999999999991, 'type': 'note_on'},\n",
       "  {'note': 84, 'start_time': 13.010416666666657, 'type': 'note_off'},\n",
       "  {'note': 84, 'start_time': 13.093749999999991, 'type': 'note_off'},\n",
       "  {'note': 84, 'start_time': 13.093749999999991, 'type': 'note_off'},\n",
       "  {'note': 84, 'start_time': 13.093749999999991, 'type': 'note_off'},\n",
       "  {'note': 84, 'start_time': 13.593749999999991, 'type': 'note_off'},\n",
       "  {'note': 84, 'start_time': 13.593749999999991, 'type': 'note_off'},\n",
       "  {'note': 84, 'start_time': 13.593749999999991, 'type': 'note_on'},\n",
       "  {'note': 84, 'start_time': 13.593749999999991, 'type': 'note_off'},\n",
       "  {'note': 84, 'start_time': 13.604166666666657, 'type': 'note_off'},\n",
       "  {'note': 75, 'start_time': 13.989583333333323, 'type': 'note_on'},\n",
       "  {'note': 84, 'start_time': 13.989583333333323, 'type': 'note_off'},\n",
       "  {'note': 84, 'start_time': 14.46874999999999, 'type': 'note_off'},\n",
       "  {'note': 84, 'start_time': 14.46874999999999, 'type': 'note_off'},\n",
       "  {'note': 84, 'start_time': 14.479166666666655, 'type': 'note_off'},\n",
       "  {'note': 84, 'start_time': 14.49999999999999, 'type': 'note_on'},\n",
       "  {'note': 12, 'start_time': 14.49999999999999, 'type': 'note_off'},\n",
       "  {'note': 84, 'start_time': 14.49999999999999, 'type': 'note_off'},\n",
       "  {'note': 84, 'start_time': 14.49999999999999, 'type': 'note_off'},\n",
       "  {'note': 84, 'start_time': 14.49999999999999, 'type': 'note_on'},\n",
       "  {'note': 84, 'start_time': 14.510416666666655, 'type': 'note_off'},\n",
       "  {'note': 84, 'start_time': 15.541666666666654, 'type': 'note_off'},\n",
       "  {'note': 84, 'start_time': 15.55208333333332, 'type': 'note_off'},\n",
       "  {'note': 84, 'start_time': 15.55208333333332, 'type': 'note_off'},\n",
       "  {'note': 84, 'start_time': 15.55208333333332, 'type': 'note_off'},\n",
       "  {'note': 84, 'start_time': 15.562499999999986, 'type': 'note_off'},\n",
       "  {'note': 84, 'start_time': 15.562499999999986, 'type': 'note_off'},\n",
       "  {'note': 84, 'start_time': 15.562499999999986, 'type': 'note_on'},\n",
       "  {'note': 84, 'start_time': 16.072916666666654, 'type': 'note_off'},\n",
       "  {'note': 84, 'start_time': 16.072916666666654, 'type': 'note_off'},\n",
       "  {'note': 84, 'start_time': 16.072916666666654, 'type': 'note_off'},\n",
       "  {'note': 84, 'start_time': 16.072916666666654, 'type': 'note_off'},\n",
       "  {'note': 84, 'start_time': 16.072916666666654, 'type': 'note_off'},\n",
       "  {'note': 84, 'start_time': 16.08333333333332, 'type': 'note_off'},\n",
       "  {'note': 84, 'start_time': 16.08333333333332, 'type': 'note_on'},\n",
       "  {'note': 84, 'start_time': 16.635416666666657, 'type': 'note_on'},\n",
       "  {'note': 84, 'start_time': 16.635416666666657, 'type': 'note_off'},\n",
       "  {'note': 101, 'start_time': 16.635416666666657, 'type': 'note_off'},\n",
       "  {'note': 84, 'start_time': 16.635416666666657, 'type': 'note_off'},\n",
       "  {'note': 84, 'start_time': 16.635416666666657, 'type': 'note_off'},\n",
       "  {'note': 84, 'start_time': 16.635416666666657, 'type': 'note_off'},\n",
       "  {'note': 125, 'start_time': 16.635416666666657, 'type': 'note_off'},\n",
       "  {'note': 84, 'start_time': 16.635416666666657, 'type': 'note_on'},\n",
       "  {'note': 84, 'start_time': 16.635416666666657, 'type': 'note_off'},\n",
       "  {'note': 84, 'start_time': 16.635416666666657, 'type': 'note_on'},\n",
       "  {'note': 84, 'start_time': 16.635416666666657, 'type': 'note_off'},\n",
       "  {'note': 84, 'start_time': 16.67708333333332, 'type': 'note_off'},\n",
       "  {'note': 84, 'start_time': 16.67708333333332, 'type': 'note_off'},\n",
       "  {'note': 84, 'start_time': 16.67708333333332, 'type': 'note_off'},\n",
       "  {'note': 84, 'start_time': 16.68749999999999, 'type': 'note_off'},\n",
       "  {'note': 84, 'start_time': 16.708333333333325, 'type': 'note_off'},\n",
       "  {'note': 84, 'start_time': 17.166666666666657, 'type': 'note_off'},\n",
       "  {'note': 84, 'start_time': 17.166666666666657, 'type': 'note_off'},\n",
       "  {'note': 69, 'start_time': 17.166666666666657, 'type': 'note_on'},\n",
       "  {'note': 84, 'start_time': 17.166666666666657, 'type': 'note_off'},\n",
       "  {'note': 84, 'start_time': 17.645833333333325, 'type': 'note_on'},\n",
       "  {'note': 84, 'start_time': 17.645833333333325, 'type': 'note_off'},\n",
       "  {'note': 84, 'start_time': 18.156249999999993, 'type': 'note_off'},\n",
       "  {'note': 84, 'start_time': 18.66666666666666, 'type': 'note_off'},\n",
       "  {'note': 84, 'start_time': 18.66666666666666, 'type': 'note_off'},\n",
       "  {'note': 84, 'start_time': 18.66666666666666, 'type': 'note_off'},\n",
       "  {'note': 84, 'start_time': 18.66666666666666, 'type': 'note_off'},\n",
       "  {'note': 84, 'start_time': 18.66666666666666, 'type': 'note_on'},\n",
       "  {'note': 84, 'start_time': 18.687499999999996, 'type': 'note_off'},\n",
       "  {'note': 122, 'start_time': 18.687499999999996, 'type': 'note_off'},\n",
       "  {'note': 84, 'start_time': 18.697916666666664, 'type': 'note_off'},\n",
       "  {'note': 84, 'start_time': 18.697916666666664, 'type': 'note_off'},\n",
       "  {'note': 84, 'start_time': 18.697916666666664, 'type': 'note_on'},\n",
       "  {'note': 84, 'start_time': 18.708333333333332, 'type': 'note_off'},\n",
       "  {'note': 84, 'start_time': 19.156249999999996, 'type': 'note_off'},\n",
       "  {'note': 84, 'start_time': 19.156249999999996, 'type': 'note_off'},\n",
       "  {'note': 84, 'start_time': 19.156249999999996, 'type': 'note_off'},\n",
       "  {'note': 84, 'start_time': 19.645833333333332, 'type': 'note_on'},\n",
       "  {'note': 84, 'start_time': 19.65625, 'type': 'note_off'},\n",
       "  {'note': 84, 'start_time': 19.65625, 'type': 'note_off'},\n",
       "  {'note': 84, 'start_time': 19.65625, 'type': 'note_off'},\n",
       "  {'note': 84, 'start_time': 19.65625, 'type': 'note_off'},\n",
       "  {'note': 84, 'start_time': 19.666666666666668, 'type': 'note_off'},\n",
       "  {'note': 84, 'start_time': 19.687500000000004, 'type': 'note_off'},\n",
       "  {'note': 84, 'start_time': 19.70833333333334, 'type': 'note_off'},\n",
       "  {'note': 84, 'start_time': 19.70833333333334, 'type': 'note_off'},\n",
       "  {'note': 84, 'start_time': 19.70833333333334, 'type': 'note_on'},\n",
       "  {'note': 84, 'start_time': 19.72916666666667, 'type': 'note_on'},\n",
       "  {'note': 84, 'start_time': 19.72916666666667, 'type': 'note_on'},\n",
       "  {'note': 84, 'start_time': 19.72916666666667, 'type': 'note_off'},\n",
       "  {'note': 84, 'start_time': 19.72916666666667, 'type': 'note_on'},\n",
       "  {'note': 84, 'start_time': 19.72916666666667, 'type': 'note_off'},\n",
       "  {'note': 84, 'start_time': 19.750000000000007, 'type': 'note_off'},\n",
       "  {'note': 84, 'start_time': 19.750000000000007, 'type': 'note_off'},\n",
       "  {'note': 84, 'start_time': 19.760416666666675, 'type': 'note_off'},\n",
       "  {'note': 84, 'start_time': 19.843750000000007, 'type': 'note_off'},\n",
       "  {'note': 84, 'start_time': 19.843750000000007, 'type': 'note_off'},\n",
       "  {'note': 84, 'start_time': 19.854166666666675, 'type': 'note_off'},\n",
       "  {'note': 84, 'start_time': 19.854166666666675, 'type': 'note_off'},\n",
       "  {'note': 84, 'start_time': 19.854166666666675, 'type': 'note_on'},\n",
       "  {'note': 84, 'start_time': 19.875000000000007, 'type': 'note_on'},\n",
       "  {'note': 84, 'start_time': 19.89583333333334, 'type': 'note_on'},\n",
       "  {'note': 84, 'start_time': 19.906250000000007, 'type': 'note_on'},\n",
       "  {'note': 125, 'start_time': 19.906250000000007, 'type': 'note_off'},\n",
       "  {'note': 84, 'start_time': 19.916666666666675, 'type': 'note_off'},\n",
       "  {'note': 84, 'start_time': 19.916666666666675, 'type': 'note_on'},\n",
       "  {'note': 84, 'start_time': 19.916666666666675, 'type': 'note_on'},\n",
       "  {'note': 84, 'start_time': 19.937500000000007, 'type': 'note_on'},\n",
       "  {'note': 84, 'start_time': 19.947916666666675, 'type': 'note_off'},\n",
       "  {'note': 84, 'start_time': 19.947916666666675, 'type': 'note_off'},\n",
       "  {'note': 84, 'start_time': 19.947916666666675, 'type': 'note_on'},\n",
       "  {'note': 84, 'start_time': 20.43750000000001, 'type': 'note_off'},\n",
       "  {'note': 84, 'start_time': 20.43750000000001, 'type': 'note_off'},\n",
       "  {'note': 47, 'start_time': 20.458333333333343, 'type': 'note_off'},\n",
       "  {'note': 84, 'start_time': 20.93750000000001, 'type': 'note_off'},\n",
       "  {'note': 84, 'start_time': 20.93750000000001, 'type': 'note_on'},\n",
       "  {'note': 84, 'start_time': 20.93750000000001, 'type': 'note_off'},\n",
       "  {'note': 84, 'start_time': 21.895833333333346, 'type': 'note_on'},\n",
       "  {'note': 84, 'start_time': 21.895833333333346, 'type': 'note_off'},\n",
       "  {'note': 84, 'start_time': 22.375000000000014, 'type': 'note_off'},\n",
       "  {'note': 84, 'start_time': 22.375000000000014, 'type': 'note_on'},\n",
       "  {'note': 84, 'start_time': 22.385416666666682, 'type': 'note_off'},\n",
       "  {'note': 84, 'start_time': 22.385416666666682, 'type': 'note_off'},\n",
       "  {'note': 84, 'start_time': 22.385416666666682, 'type': 'note_off'},\n",
       "  {'note': 84, 'start_time': 22.385416666666682, 'type': 'note_on'},\n",
       "  {'note': 84, 'start_time': 22.39583333333335, 'type': 'note_off'},\n",
       "  {'note': 84, 'start_time': 22.39583333333335, 'type': 'note_off'},\n",
       "  {'note': 84, 'start_time': 22.416666666666682, 'type': 'note_off'},\n",
       "  {'note': 84, 'start_time': 22.416666666666682, 'type': 'note_off'},\n",
       "  {'note': 84, 'start_time': 22.437500000000014, 'type': 'note_on'},\n",
       "  {'note': 84, 'start_time': 22.447916666666682, 'type': 'note_off'},\n",
       "  {'note': 84, 'start_time': 22.447916666666682, 'type': 'note_off'},\n",
       "  {'note': 84, 'start_time': 22.447916666666682, 'type': 'note_off'},\n",
       "  {'note': 1, 'start_time': 22.447916666666682, 'type': 'note_on'},\n",
       "  {'note': 84, 'start_time': 22.447916666666682, 'type': 'note_on'},\n",
       "  {'note': 84, 'start_time': 22.447916666666682, 'type': 'note_off'},\n",
       "  {'note': 84, 'start_time': 22.92708333333335, 'type': 'note_off'},\n",
       "  {'note': 84, 'start_time': 22.92708333333335, 'type': 'note_off'},\n",
       "  {'note': 84, 'start_time': 22.92708333333335, 'type': 'note_off'},\n",
       "  {'note': 84, 'start_time': 22.92708333333335, 'type': 'note_off'},\n",
       "  {'note': 84, 'start_time': 22.92708333333335, 'type': 'note_on'},\n",
       "  {'note': 84, 'start_time': 22.947916666666682, 'type': 'note_on'},\n",
       "  {'note': 84, 'start_time': 22.95833333333335, 'type': 'note_off'},\n",
       "  {'note': 84, 'start_time': 23.437500000000018, 'type': 'note_off'},\n",
       "  {'note': 84, 'start_time': 23.437500000000018, 'type': 'note_off'},\n",
       "  {'note': 84, 'start_time': 23.437500000000018, 'type': 'note_off'},\n",
       "  {'note': 84, 'start_time': 23.447916666666686, 'type': 'note_on'},\n",
       "  {'note': 84, 'start_time': 23.468750000000018, 'type': 'note_on'},\n",
       "  {'note': 84, 'start_time': 23.468750000000018, 'type': 'note_off'},\n",
       "  {'note': 84, 'start_time': 23.468750000000018, 'type': 'note_on'},\n",
       "  {'note': 84, 'start_time': 23.468750000000018, 'type': 'note_off'},\n",
       "  {'note': 26, 'start_time': 23.468750000000018, 'type': 'note_off'},\n",
       "  {'note': 84, 'start_time': 23.979166666666686, 'type': 'note_off'},\n",
       "  {'note': 84, 'start_time': 23.979166666666686, 'type': 'note_off'},\n",
       "  {'note': 84, 'start_time': 24.000000000000018, 'type': 'note_off'},\n",
       "  {'note': 84, 'start_time': 24.000000000000018, 'type': 'note_on'},\n",
       "  {'note': 84, 'start_time': 24.000000000000018, 'type': 'note_off'},\n",
       "  {'note': 84, 'start_time': 24.208333333333353, 'type': 'note_off'},\n",
       "  {'note': 84, 'start_time': 24.208333333333353, 'type': 'note_on'},\n",
       "  {'note': 84, 'start_time': 24.208333333333353, 'type': 'note_off'},\n",
       "  {'note': 84, 'start_time': 24.21875000000002, 'type': 'note_off'},\n",
       "  {'note': 84, 'start_time': 24.239583333333353, 'type': 'note_off'},\n",
       "  {'note': 84, 'start_time': 24.697916666666686, 'type': 'note_off'},\n",
       "  {'note': 84, 'start_time': 24.697916666666686, 'type': 'note_on'},\n",
       "  {'note': 84, 'start_time': 24.697916666666686, 'type': 'note_on'},\n",
       "  {'note': 84, 'start_time': 24.697916666666686, 'type': 'note_off'},\n",
       "  {'note': 84, 'start_time': 24.697916666666686, 'type': 'note_off'},\n",
       "  {'note': 84, 'start_time': 24.697916666666686, 'type': 'note_on'}],\n",
       " [{'note': 72, 'start_time': 0, 'type': 'note_off'},\n",
       "  {'note': 8, 'start_time': 0, 'type': 'note_on'},\n",
       "  {'note': 86, 'start_time': 0, 'type': 'note_off'},\n",
       "  {'note': 60, 'start_time': 0, 'type': 'note_off'},\n",
       "  {'note': 12, 'start_time': 1.2395833333333333, 'type': 'note_on'},\n",
       "  {'note': 64, 'start_time': 1.28125, 'type': 'note_off'},\n",
       "  {'note': 76, 'start_time': 1.2916666666666667, 'type': 'note_on'},\n",
       "  {'note': 47, 'start_time': 1.3020833333333335, 'type': 'note_off'},\n",
       "  {'note': 64, 'start_time': 1.3020833333333335, 'type': 'note_off'},\n",
       "  {'note': 13, 'start_time': 1.7604166666666667, 'type': 'note_off'},\n",
       "  {'note': 71, 'start_time': 6.718750000000001, 'type': 'note_on'},\n",
       "  {'note': 72, 'start_time': 6.781250000000001, 'type': 'note_off'},\n",
       "  {'note': 83, 'start_time': 7.260416666666668, 'type': 'note_on'},\n",
       "  {'note': 103, 'start_time': 7.260416666666668, 'type': 'note_off'},\n",
       "  {'note': 72, 'start_time': 7.281250000000002, 'type': 'note_off'},\n",
       "  {'note': 67, 'start_time': 7.802083333333335, 'type': 'note_on'},\n",
       "  {'note': 72, 'start_time': 8.770833333333334, 'type': 'note_off'},\n",
       "  {'note': 72, 'start_time': 8.770833333333334, 'type': 'note_off'},\n",
       "  {'note': 69, 'start_time': 8.78125, 'type': 'note_off'},\n",
       "  {'note': 63, 'start_time': 9.291666666666664, 'type': 'note_on'},\n",
       "  {'note': 62, 'start_time': 9.291666666666664, 'type': 'note_on'},\n",
       "  {'note': 23, 'start_time': 9.30208333333333, 'type': 'note_off'},\n",
       "  {'note': 69, 'start_time': 9.30208333333333, 'type': 'note_on'},\n",
       "  {'note': 28, 'start_time': 9.30208333333333, 'type': 'note_off'},\n",
       "  {'note': 76, 'start_time': 9.343749999999996, 'type': 'note_on'},\n",
       "  {'note': 104, 'start_time': 9.374999999999995, 'type': 'note_off'},\n",
       "  {'note': 69, 'start_time': 10.656249999999993, 'type': 'note_on'},\n",
       "  {'note': 71, 'start_time': 10.781249999999993, 'type': 'note_off'},\n",
       "  {'note': 71, 'start_time': 11.260416666666659, 'type': 'note_off'},\n",
       "  {'note': 71, 'start_time': 12.010416666666659, 'type': 'note_off'},\n",
       "  {'note': 29, 'start_time': 12.010416666666659, 'type': 'note_off'},\n",
       "  {'note': 120, 'start_time': 12.499999999999991, 'type': 'note_off'},\n",
       "  {'note': 69, 'start_time': 13.989583333333323, 'type': 'note_on'},\n",
       "  {'note': 67, 'start_time': 14.46874999999999, 'type': 'note_on'},\n",
       "  {'note': 69, 'start_time': 14.49999999999999, 'type': 'note_off'},\n",
       "  {'note': 69, 'start_time': 16.072916666666654, 'type': 'note_on'},\n",
       "  {'note': 118, 'start_time': 16.635416666666657, 'type': 'note_off'},\n",
       "  {'note': 67, 'start_time': 17.645833333333325, 'type': 'note_off'},\n",
       "  {'note': 35, 'start_time': 19.65625, 'type': 'note_on'},\n",
       "  {'note': 125, 'start_time': 19.65625, 'type': 'note_off'},\n",
       "  {'note': 77, 'start_time': 19.65625, 'type': 'note_on'},\n",
       "  {'note': 69, 'start_time': 19.72916666666667, 'type': 'note_on'},\n",
       "  {'note': 45, 'start_time': 19.843750000000007, 'type': 'note_off'},\n",
       "  {'note': 92, 'start_time': 19.843750000000007, 'type': 'note_on'},\n",
       "  {'note': 71, 'start_time': 19.843750000000007, 'type': 'note_off'},\n",
       "  {'note': 65, 'start_time': 19.906250000000007, 'type': 'note_off'},\n",
       "  {'note': 71, 'start_time': 19.906250000000007, 'type': 'note_off'},\n",
       "  {'note': 71, 'start_time': 20.93750000000001, 'type': 'note_off'},\n",
       "  {'note': 69, 'start_time': 20.93750000000001, 'type': 'note_off'},\n",
       "  {'note': 5, 'start_time': 23.447916666666686, 'type': 'note_off'},\n",
       "  {'note': 32, 'start_time': 24.197916666666686, 'type': 'note_off'},\n",
       "  {'note': 65, 'start_time': 24.208333333333353, 'type': 'note_off'},\n",
       "  {'note': 15, 'start_time': 24.239583333333353, 'type': 'note_on'}],\n",
       " [{'note': 127, 'start_time': 0, 'type': 'note_off'},\n",
       "  {'note': 127, 'start_time': 0, 'type': 'note_off'},\n",
       "  {'note': 127, 'start_time': 0, 'type': 'note_off'},\n",
       "  {'note': 127, 'start_time': 0, 'type': 'note_off'},\n",
       "  {'note': 127, 'start_time': 0, 'type': 'note_off'},\n",
       "  {'note': 127, 'start_time': 0, 'type': 'note_off'},\n",
       "  {'note': 127, 'start_time': 0, 'type': 'note_off'},\n",
       "  {'note': 127, 'start_time': 0, 'type': 'note_off'},\n",
       "  {'note': 127, 'start_time': 0, 'type': 'note_off'},\n",
       "  {'note': 127, 'start_time': 0, 'type': 'note_off'},\n",
       "  {'note': 127, 'start_time': 0.5104166666666666, 'type': 'note_off'},\n",
       "  {'note': 127, 'start_time': 1.2395833333333333, 'type': 'note_off'},\n",
       "  {'note': 127, 'start_time': 1.2395833333333333, 'type': 'note_off'},\n",
       "  {'note': 67, 'start_time': 1.2395833333333333, 'type': 'note_off'},\n",
       "  {'note': 67, 'start_time': 1.2395833333333333, 'type': 'note_off'},\n",
       "  {'note': 127, 'start_time': 1.2395833333333333, 'type': 'note_off'},\n",
       "  {'note': 127, 'start_time': 1.28125, 'type': 'note_off'},\n",
       "  {'note': 127, 'start_time': 1.28125, 'type': 'note_off'},\n",
       "  {'note': 66, 'start_time': 1.28125, 'type': 'note_off'},\n",
       "  {'note': 127, 'start_time': 1.2916666666666667, 'type': 'note_off'},\n",
       "  {'note': 127, 'start_time': 1.2916666666666667, 'type': 'note_off'},\n",
       "  {'note': 81, 'start_time': 1.3020833333333335, 'type': 'note_off'},\n",
       "  {'note': 127, 'start_time': 1.3020833333333335, 'type': 'note_off'},\n",
       "  {'note': 122, 'start_time': 1.3333333333333335, 'type': 'note_off'},\n",
       "  {'note': 127, 'start_time': 1.3333333333333335, 'type': 'note_off'},\n",
       "  {'note': 127, 'start_time': 1.7604166666666667, 'type': 'note_off'},\n",
       "  {'note': 127, 'start_time': 1.7604166666666667, 'type': 'note_off'},\n",
       "  {'note': 127, 'start_time': 1.7916666666666667, 'type': 'note_off'},\n",
       "  {'note': 127, 'start_time': 1.7916666666666667, 'type': 'note_off'},\n",
       "  {'note': 127, 'start_time': 1.7916666666666667, 'type': 'note_off'},\n",
       "  {'note': 127, 'start_time': 1.7916666666666667, 'type': 'note_off'},\n",
       "  {'note': 33, 'start_time': 1.7916666666666667, 'type': 'note_off'},\n",
       "  {'note': 127, 'start_time': 1.7916666666666667, 'type': 'note_off'},\n",
       "  {'note': 127, 'start_time': 1.7916666666666667, 'type': 'note_off'},\n",
       "  {'note': 127, 'start_time': 1.7916666666666667, 'type': 'note_off'},\n",
       "  {'note': 127, 'start_time': 2.3125000000000004, 'type': 'note_off'},\n",
       "  {'note': 127, 'start_time': 2.3125000000000004, 'type': 'note_off'},\n",
       "  {'note': 127, 'start_time': 2.3125000000000004, 'type': 'note_off'},\n",
       "  {'note': 127, 'start_time': 2.322916666666667, 'type': 'note_off'},\n",
       "  {'note': 127, 'start_time': 2.354166666666667, 'type': 'note_off'},\n",
       "  {'note': 127, 'start_time': 2.354166666666667, 'type': 'note_off'},\n",
       "  {'note': 127, 'start_time': 2.354166666666667, 'type': 'note_off'},\n",
       "  {'note': 127, 'start_time': 2.375, 'type': 'note_off'},\n",
       "  {'note': 127, 'start_time': 3.791666666666667, 'type': 'note_off'},\n",
       "  {'note': 127, 'start_time': 3.791666666666667, 'type': 'note_off'},\n",
       "  {'note': 127, 'start_time': 3.791666666666667, 'type': 'note_off'},\n",
       "  {'note': 127, 'start_time': 3.791666666666667, 'type': 'note_off'},\n",
       "  {'note': 127, 'start_time': 4.25, 'type': 'note_off'},\n",
       "  {'note': 127, 'start_time': 4.25, 'type': 'note_off'},\n",
       "  {'note': 127, 'start_time': 4.28125, 'type': 'note_off'},\n",
       "  {'note': 127, 'start_time': 4.28125, 'type': 'note_off'},\n",
       "  {'note': 127, 'start_time': 4.708333333333333, 'type': 'note_off'},\n",
       "  {'note': 127, 'start_time': 4.708333333333333, 'type': 'note_off'},\n",
       "  {'note': 127, 'start_time': 4.708333333333333, 'type': 'note_off'},\n",
       "  {'note': 127, 'start_time': 5.760416666666667, 'type': 'note_off'},\n",
       "  {'note': 127, 'start_time': 5.760416666666667, 'type': 'note_off'},\n",
       "  {'note': 127, 'start_time': 5.760416666666667, 'type': 'note_off'},\n",
       "  {'note': 127, 'start_time': 6.270833333333334, 'type': 'note_off'},\n",
       "  {'note': 127, 'start_time': 6.270833333333334, 'type': 'note_off'},\n",
       "  {'note': 52, 'start_time': 6.718750000000001, 'type': 'note_on'},\n",
       "  {'note': 127, 'start_time': 6.718750000000001, 'type': 'note_off'},\n",
       "  {'note': 127, 'start_time': 6.718750000000001, 'type': 'note_off'},\n",
       "  {'note': 127, 'start_time': 6.718750000000001, 'type': 'note_off'},\n",
       "  {'note': 60, 'start_time': 6.718750000000001, 'type': 'note_on'},\n",
       "  {'note': 127, 'start_time': 6.718750000000001, 'type': 'note_off'},\n",
       "  {'note': 127, 'start_time': 6.781250000000001, 'type': 'note_off'},\n",
       "  {'note': 127, 'start_time': 6.781250000000001, 'type': 'note_off'},\n",
       "  {'note': 127, 'start_time': 6.781250000000001, 'type': 'note_off'},\n",
       "  {'note': 127, 'start_time': 6.781250000000001, 'type': 'note_off'},\n",
       "  {'note': 127, 'start_time': 7.260416666666668, 'type': 'note_off'},\n",
       "  {'note': 127, 'start_time': 7.260416666666668, 'type': 'note_off'},\n",
       "  {'note': 127, 'start_time': 7.260416666666668, 'type': 'note_off'},\n",
       "  {'note': 60, 'start_time': 7.260416666666668, 'type': 'note_on'},\n",
       "  {'note': 127, 'start_time': 7.260416666666668, 'type': 'note_off'},\n",
       "  {'note': 127, 'start_time': 7.260416666666668, 'type': 'note_off'},\n",
       "  {'note': 127, 'start_time': 7.260416666666668, 'type': 'note_off'},\n",
       "  {'note': 127, 'start_time': 7.260416666666668, 'type': 'note_off'},\n",
       "  {'note': 127, 'start_time': 7.260416666666668, 'type': 'note_off'},\n",
       "  {'note': 127, 'start_time': 7.260416666666668, 'type': 'note_off'},\n",
       "  {'note': 127, 'start_time': 7.260416666666668, 'type': 'note_off'},\n",
       "  {'note': 127, 'start_time': 7.260416666666668, 'type': 'note_off'},\n",
       "  {'note': 127, 'start_time': 7.260416666666668, 'type': 'note_off'},\n",
       "  {'note': 53, 'start_time': 7.260416666666668, 'type': 'note_off'},\n",
       "  {'note': 127, 'start_time': 7.260416666666668, 'type': 'note_off'},\n",
       "  {'note': 46, 'start_time': 7.260416666666668, 'type': 'note_off'},\n",
       "  {'note': 127, 'start_time': 7.260416666666668, 'type': 'note_off'},\n",
       "  {'note': 112, 'start_time': 7.260416666666668, 'type': 'note_on'},\n",
       "  {'note': 127, 'start_time': 7.260416666666668, 'type': 'note_off'},\n",
       "  {'note': 42, 'start_time': 7.260416666666668, 'type': 'note_off'},\n",
       "  {'note': 127, 'start_time': 7.260416666666668, 'type': 'note_off'},\n",
       "  {'note': 127, 'start_time': 7.260416666666668, 'type': 'note_off'},\n",
       "  {'note': 127, 'start_time': 7.260416666666668, 'type': 'note_off'},\n",
       "  {'note': 127, 'start_time': 7.260416666666668, 'type': 'note_off'},\n",
       "  {'note': 127, 'start_time': 7.260416666666668, 'type': 'note_off'},\n",
       "  {'note': 52, 'start_time': 7.260416666666668, 'type': 'note_on'},\n",
       "  {'note': 127, 'start_time': 7.281250000000002, 'type': 'note_off'},\n",
       "  {'note': 60, 'start_time': 7.802083333333335, 'type': 'note_on'},\n",
       "  {'note': 127, 'start_time': 7.802083333333335, 'type': 'note_off'},\n",
       "  {'note': 127, 'start_time': 7.802083333333335, 'type': 'note_off'},\n",
       "  {'note': 127, 'start_time': 7.812500000000002, 'type': 'note_off'},\n",
       "  {'note': 127, 'start_time': 7.843750000000003, 'type': 'note_off'},\n",
       "  {'note': 57, 'start_time': 7.843750000000003, 'type': 'note_on'},\n",
       "  {'note': 127, 'start_time': 8.22916666666667, 'type': 'note_off'},\n",
       "  {'note': 127, 'start_time': 8.22916666666667, 'type': 'note_off'},\n",
       "  {'note': 67, 'start_time': 8.22916666666667, 'type': 'note_off'},\n",
       "  {'note': 67, 'start_time': 8.22916666666667, 'type': 'note_off'},\n",
       "  {'note': 127, 'start_time': 8.22916666666667, 'type': 'note_off'},\n",
       "  {'note': 127, 'start_time': 8.708333333333336, 'type': 'note_off'},\n",
       "  {'note': 127, 'start_time': 8.708333333333336, 'type': 'note_off'},\n",
       "  {'note': 104, 'start_time': 8.708333333333336, 'type': 'note_on'},\n",
       "  {'note': 127, 'start_time': 8.708333333333336, 'type': 'note_off'},\n",
       "  {'note': 127, 'start_time': 8.770833333333334, 'type': 'note_off'},\n",
       "  {'note': 127, 'start_time': 8.770833333333334, 'type': 'note_off'},\n",
       "  {'note': 127, 'start_time': 8.78125, 'type': 'note_off'},\n",
       "  {'note': 127, 'start_time': 8.78125, 'type': 'note_off'},\n",
       "  {'note': 127, 'start_time': 8.78125, 'type': 'note_off'},\n",
       "  {'note': 127, 'start_time': 8.78125, 'type': 'note_off'},\n",
       "  {'note': 127, 'start_time': 9.281249999999998, 'type': 'note_off'},\n",
       "  {'note': 127, 'start_time': 9.281249999999998, 'type': 'note_off'},\n",
       "  {'note': 127, 'start_time': 9.281249999999998, 'type': 'note_off'},\n",
       "  {'note': 127, 'start_time': 9.291666666666664, 'type': 'note_off'},\n",
       "  {'note': 127, 'start_time': 9.291666666666664, 'type': 'note_off'},\n",
       "  {'note': 127, 'start_time': 9.291666666666664, 'type': 'note_off'},\n",
       "  {'note': 127, 'start_time': 9.30208333333333, 'type': 'note_off'},\n",
       "  {'note': 127, 'start_time': 9.30208333333333, 'type': 'note_off'},\n",
       "  {'note': 127, 'start_time': 9.30208333333333, 'type': 'note_off'},\n",
       "  {'note': 127, 'start_time': 9.30208333333333, 'type': 'note_off'},\n",
       "  {'note': 127, 'start_time': 9.30208333333333, 'type': 'note_off'},\n",
       "  {'note': 127, 'start_time': 9.30208333333333, 'type': 'note_off'},\n",
       "  {'note': 127, 'start_time': 9.30208333333333, 'type': 'note_off'},\n",
       "  {'note': 53, 'start_time': 9.30208333333333, 'type': 'note_off'},\n",
       "  {'note': 127, 'start_time': 9.30208333333333, 'type': 'note_off'},\n",
       "  {'note': 127, 'start_time': 9.30208333333333, 'type': 'note_off'},\n",
       "  {'note': 127, 'start_time': 9.30208333333333, 'type': 'note_off'},\n",
       "  {'note': 127, 'start_time': 9.30208333333333, 'type': 'note_off'},\n",
       "  {'note': 127, 'start_time': 9.30208333333333, 'type': 'note_off'},\n",
       "  {'note': 127, 'start_time': 9.33333333333333, 'type': 'note_off'},\n",
       "  {'note': 127, 'start_time': 9.343749999999996, 'type': 'note_off'},\n",
       "  {'note': 24, 'start_time': 9.354166666666663, 'type': 'note_off'},\n",
       "  {'note': 127, 'start_time': 9.354166666666663, 'type': 'note_off'},\n",
       "  {'note': 127, 'start_time': 10.10416666666666, 'type': 'note_off'},\n",
       "  {'note': 127, 'start_time': 10.10416666666666, 'type': 'note_off'},\n",
       "  {'note': 64, 'start_time': 10.10416666666666, 'type': 'note_on'},\n",
       "  {'note': 127, 'start_time': 10.124999999999995, 'type': 'note_off'},\n",
       "  {'note': 28, 'start_time': 10.124999999999995, 'type': 'note_on'},\n",
       "  {'note': 127, 'start_time': 10.124999999999995, 'type': 'note_off'},\n",
       "  {'note': 68, 'start_time': 10.124999999999995, 'type': 'note_on'},\n",
       "  {'note': 127, 'start_time': 10.124999999999995, 'type': 'note_off'},\n",
       "  {'note': 127, 'start_time': 10.124999999999995, 'type': 'note_off'},\n",
       "  {'note': 127, 'start_time': 10.124999999999995, 'type': 'note_off'},\n",
       "  {'note': 60, 'start_time': 10.124999999999995, 'type': 'note_on'},\n",
       "  {'note': 127, 'start_time': 10.124999999999995, 'type': 'note_off'},\n",
       "  {'note': 127, 'start_time': 10.124999999999995, 'type': 'note_off'},\n",
       "  {'note': 69, 'start_time': 10.624999999999993, 'type': 'note_off'},\n",
       "  {'note': 127, 'start_time': 10.624999999999993, 'type': 'note_off'},\n",
       "  {'note': 65, 'start_time': 10.624999999999993, 'type': 'note_off'},\n",
       "  {'note': 127, 'start_time': 10.624999999999993, 'type': 'note_off'},\n",
       "  {'note': 127, 'start_time': 10.624999999999993, 'type': 'note_off'},\n",
       "  {'note': 127, 'start_time': 10.635416666666659, 'type': 'note_off'},\n",
       "  {'note': 127, 'start_time': 10.635416666666659, 'type': 'note_off'},\n",
       "  {'note': 119, 'start_time': 10.635416666666659, 'type': 'note_off'},\n",
       "  {'note': 127, 'start_time': 10.635416666666659, 'type': 'note_off'},\n",
       "  {'note': 127, 'start_time': 10.656249999999993, 'type': 'note_off'},\n",
       "  {'note': 127, 'start_time': 10.656249999999993, 'type': 'note_off'},\n",
       "  {'note': 108, 'start_time': 10.739583333333327, 'type': 'note_on'},\n",
       "  {'note': 127, 'start_time': 10.739583333333327, 'type': 'note_off'},\n",
       "  {'note': 127, 'start_time': 10.739583333333327, 'type': 'note_off'},\n",
       "  {'note': 127, 'start_time': 10.770833333333327, 'type': 'note_off'},\n",
       "  {'note': 67, 'start_time': 10.781249999999993, 'type': 'note_off'},\n",
       "  {'note': 127, 'start_time': 10.781249999999993, 'type': 'note_off'},\n",
       "  {'note': 127, 'start_time': 10.781249999999993, 'type': 'note_off'},\n",
       "  {'note': 127, 'start_time': 11.260416666666659, 'type': 'note_off'},\n",
       "  {'note': 127, 'start_time': 11.260416666666659, 'type': 'note_off'},\n",
       "  {'note': 127, 'start_time': 11.260416666666659, 'type': 'note_off'},\n",
       "  {'note': 53, 'start_time': 11.260416666666659, 'type': 'note_on'},\n",
       "  {'note': 127, 'start_time': 11.260416666666659, 'type': 'note_off'},\n",
       "  {'note': 127, 'start_time': 11.260416666666659, 'type': 'note_off'},\n",
       "  {'note': 127, 'start_time': 11.739583333333325, 'type': 'note_off'},\n",
       "  {'note': 127, 'start_time': 11.739583333333325, 'type': 'note_off'},\n",
       "  {'note': 110, 'start_time': 11.812499999999993, 'type': 'note_on'},\n",
       "  {'note': 127, 'start_time': 11.812499999999993, 'type': 'note_off'},\n",
       "  {'note': 127, 'start_time': 11.812499999999993, 'type': 'note_off'},\n",
       "  {'note': 127, 'start_time': 12.010416666666659, 'type': 'note_off'},\n",
       "  {'note': 127, 'start_time': 12.010416666666659, 'type': 'note_off'},\n",
       "  {'note': 127, 'start_time': 12.010416666666659, 'type': 'note_off'},\n",
       "  {'note': 127, 'start_time': 12.010416666666659, 'type': 'note_off'},\n",
       "  {'note': 127, 'start_time': 12.010416666666659, 'type': 'note_off'},\n",
       "  {'note': 127, 'start_time': 12.010416666666659, 'type': 'note_off'},\n",
       "  {'note': 127, 'start_time': 12.010416666666659, 'type': 'note_off'},\n",
       "  {'note': 127, 'start_time': 12.010416666666659, 'type': 'note_off'},\n",
       "  {'note': 37, 'start_time': 12.010416666666659, 'type': 'note_off'},\n",
       "  {'note': 67, 'start_time': 12.010416666666659, 'type': 'note_off'},\n",
       "  {'note': 127, 'start_time': 12.020833333333325, 'type': 'note_off'},\n",
       "  {'note': 127, 'start_time': 12.499999999999991, 'type': 'note_off'},\n",
       "  {'note': 127, 'start_time': 12.499999999999991, 'type': 'note_off'},\n",
       "  {'note': 60, 'start_time': 12.499999999999991, 'type': 'note_on'},\n",
       "  {'note': 127, 'start_time': 12.979166666666657, 'type': 'note_off'},\n",
       "  {'note': 127, 'start_time': 13.010416666666657, 'type': 'note_off'},\n",
       "  {'note': 127, 'start_time': 13.093749999999991, 'type': 'note_off'},\n",
       "  {'note': 127, 'start_time': 13.093749999999991, 'type': 'note_off'},\n",
       "  {'note': 127, 'start_time': 13.593749999999991, 'type': 'note_off'},\n",
       "  {'note': 127, 'start_time': 13.593749999999991, 'type': 'note_off'},\n",
       "  {'note': 69, 'start_time': 13.593749999999991, 'type': 'note_on'},\n",
       "  {'note': 127, 'start_time': 13.593749999999991, 'type': 'note_off'},\n",
       "  {'note': 127, 'start_time': 13.593749999999991, 'type': 'note_off'},\n",
       "  {'note': 127, 'start_time': 13.989583333333323, 'type': 'note_off'},\n",
       "  {'note': 127, 'start_time': 13.989583333333323, 'type': 'note_off'},\n",
       "  {'note': 64, 'start_time': 13.989583333333323, 'type': 'note_off'},\n",
       "  {'note': 127, 'start_time': 14.46874999999999, 'type': 'note_off'},\n",
       "  {'note': 127, 'start_time': 14.46874999999999, 'type': 'note_off'},\n",
       "  {'note': 127, 'start_time': 14.46874999999999, 'type': 'note_off'},\n",
       "  {'note': 67, 'start_time': 14.49999999999999, 'type': 'note_off'},\n",
       "  {'note': 127, 'start_time': 14.49999999999999, 'type': 'note_off'},\n",
       "  {'note': 127, 'start_time': 14.49999999999999, 'type': 'note_off'},\n",
       "  {'note': 127, 'start_time': 14.49999999999999, 'type': 'note_off'},\n",
       "  {'note': 43, 'start_time': 15.55208333333332, 'type': 'note_off'},\n",
       "  {'note': 127, 'start_time': 15.562499999999986, 'type': 'note_off'},\n",
       "  {'note': 127, 'start_time': 16.072916666666654, 'type': 'note_off'},\n",
       "  {'note': 127, 'start_time': 16.072916666666654, 'type': 'note_off'},\n",
       "  {'note': 127, 'start_time': 16.072916666666654, 'type': 'note_off'},\n",
       "  {'note': 86, 'start_time': 16.072916666666654, 'type': 'note_off'},\n",
       "  {'note': 127, 'start_time': 16.072916666666654, 'type': 'note_off'},\n",
       "  {'note': 127, 'start_time': 16.072916666666654, 'type': 'note_off'},\n",
       "  {'note': 127, 'start_time': 16.072916666666654, 'type': 'note_off'},\n",
       "  {'note': 127, 'start_time': 16.072916666666654, 'type': 'note_off'},\n",
       "  {'note': 127, 'start_time': 16.08333333333332, 'type': 'note_off'},\n",
       "  {'note': 127, 'start_time': 16.614583333333325, 'type': 'note_off'},\n",
       "  {'note': 127, 'start_time': 16.635416666666657, 'type': 'note_off'},\n",
       "  {'note': 64, 'start_time': 16.635416666666657, 'type': 'note_off'},\n",
       "  {'note': 127, 'start_time': 16.635416666666657, 'type': 'note_off'},\n",
       "  {'note': 127, 'start_time': 16.635416666666657, 'type': 'note_off'},\n",
       "  {'note': 127, 'start_time': 16.635416666666657, 'type': 'note_off'},\n",
       "  {'note': 127, 'start_time': 16.635416666666657, 'type': 'note_off'},\n",
       "  {'note': 127, 'start_time': 16.635416666666657, 'type': 'note_off'},\n",
       "  {'note': 127, 'start_time': 16.635416666666657, 'type': 'note_off'},\n",
       "  {'note': 127, 'start_time': 16.68749999999999, 'type': 'note_off'},\n",
       "  {'note': 127, 'start_time': 16.708333333333325, 'type': 'note_off'},\n",
       "  {'note': 127, 'start_time': 17.166666666666657, 'type': 'note_off'},\n",
       "  {'note': 127, 'start_time': 17.166666666666657, 'type': 'note_off'},\n",
       "  {'note': 127, 'start_time': 17.166666666666657, 'type': 'note_off'},\n",
       "  {'note': 8, 'start_time': 17.645833333333325, 'type': 'note_off'},\n",
       "  {'note': 53, 'start_time': 17.645833333333325, 'type': 'note_on'},\n",
       "  {'note': 127, 'start_time': 18.156249999999993, 'type': 'note_off'},\n",
       "  {'note': 127, 'start_time': 18.156249999999993, 'type': 'note_off'},\n",
       "  {'note': 127, 'start_time': 18.66666666666666, 'type': 'note_off'},\n",
       "  {'note': 127, 'start_time': 18.66666666666666, 'type': 'note_off'},\n",
       "  {'note': 67, 'start_time': 18.697916666666664, 'type': 'note_off'},\n",
       "  {'note': 127, 'start_time': 18.697916666666664, 'type': 'note_off'},\n",
       "  {'note': 127, 'start_time': 18.697916666666664, 'type': 'note_off'},\n",
       "  {'note': 127, 'start_time': 18.697916666666664, 'type': 'note_off'},\n",
       "  {'note': 127, 'start_time': 18.708333333333332, 'type': 'note_off'},\n",
       "  {'note': 127, 'start_time': 18.708333333333332, 'type': 'note_off'},\n",
       "  {'note': 127, 'start_time': 18.708333333333332, 'type': 'note_off'},\n",
       "  {'note': 127, 'start_time': 19.156249999999996, 'type': 'note_off'},\n",
       "  {'note': 127, 'start_time': 19.156249999999996, 'type': 'note_off'},\n",
       "  {'note': 127, 'start_time': 19.645833333333332, 'type': 'note_off'},\n",
       "  {'note': 127, 'start_time': 19.65625, 'type': 'note_off'},\n",
       "  {'note': 4, 'start_time': 19.687500000000004, 'type': 'note_off'},\n",
       "  {'note': 127, 'start_time': 19.69791666666667, 'type': 'note_off'},\n",
       "  {'note': 67, 'start_time': 19.70833333333334, 'type': 'note_off'},\n",
       "  {'note': 127, 'start_time': 19.70833333333334, 'type': 'note_off'},\n",
       "  {'note': 127, 'start_time': 19.70833333333334, 'type': 'note_off'},\n",
       "  {'note': 50, 'start_time': 19.70833333333334, 'type': 'note_on'},\n",
       "  {'note': 103, 'start_time': 19.72916666666667, 'type': 'note_off'},\n",
       "  {'note': 127, 'start_time': 19.72916666666667, 'type': 'note_off'},\n",
       "  {'note': 127, 'start_time': 19.72916666666667, 'type': 'note_off'},\n",
       "  {'note': 33, 'start_time': 19.73958333333334, 'type': 'note_off'},\n",
       "  {'note': 127, 'start_time': 19.750000000000007, 'type': 'note_off'},\n",
       "  {'note': 127, 'start_time': 19.843750000000007, 'type': 'note_off'},\n",
       "  {'note': 127, 'start_time': 19.843750000000007, 'type': 'note_off'},\n",
       "  {'note': 127, 'start_time': 19.843750000000007, 'type': 'note_off'},\n",
       "  {'note': 127, 'start_time': 19.854166666666675, 'type': 'note_off'},\n",
       "  {'note': 127, 'start_time': 19.854166666666675, 'type': 'note_off'},\n",
       "  {'note': 127, 'start_time': 19.875000000000007, 'type': 'note_off'},\n",
       "  {'note': 127, 'start_time': 19.875000000000007, 'type': 'note_off'},\n",
       "  {'note': 127, 'start_time': 19.875000000000007, 'type': 'note_off'},\n",
       "  {'note': 127, 'start_time': 19.89583333333334, 'type': 'note_off'},\n",
       "  {'note': 31, 'start_time': 19.89583333333334, 'type': 'note_on'},\n",
       "  {'note': 63, 'start_time': 19.906250000000007, 'type': 'note_off'},\n",
       "  {'note': 127, 'start_time': 19.906250000000007, 'type': 'note_off'},\n",
       "  {'note': 127, 'start_time': 19.916666666666675, 'type': 'note_off'},\n",
       "  {'note': 127, 'start_time': 19.916666666666675, 'type': 'note_off'},\n",
       "  {'note': 127, 'start_time': 19.947916666666675, 'type': 'note_off'},\n",
       "  {'note': 127, 'start_time': 19.947916666666675, 'type': 'note_off'},\n",
       "  {'note': 127, 'start_time': 20.93750000000001, 'type': 'note_off'},\n",
       "  {'note': 127, 'start_time': 20.93750000000001, 'type': 'note_off'},\n",
       "  {'note': 127, 'start_time': 20.93750000000001, 'type': 'note_off'},\n",
       "  {'note': 127, 'start_time': 20.93750000000001, 'type': 'note_off'},\n",
       "  {'note': 127, 'start_time': 21.895833333333346, 'type': 'note_off'},\n",
       "  {'note': 15, 'start_time': 22.375000000000014, 'type': 'note_on'},\n",
       "  {'note': 127, 'start_time': 22.385416666666682, 'type': 'note_off'},\n",
       "  {'note': 127, 'start_time': 22.385416666666682, 'type': 'note_off'},\n",
       "  {'note': 127, 'start_time': 22.385416666666682, 'type': 'note_off'},\n",
       "  {'note': 127, 'start_time': 22.39583333333335, 'type': 'note_off'},\n",
       "  {'note': 127, 'start_time': 22.416666666666682, 'type': 'note_off'},\n",
       "  {'note': 127, 'start_time': 22.437500000000014, 'type': 'note_off'},\n",
       "  {'note': 127, 'start_time': 22.437500000000014, 'type': 'note_off'},\n",
       "  {'note': 127, 'start_time': 22.447916666666682, 'type': 'note_off'},\n",
       "  {'note': 127, 'start_time': 22.447916666666682, 'type': 'note_off'},\n",
       "  {'note': 127, 'start_time': 22.92708333333335, 'type': 'note_off'},\n",
       "  {'note': 127, 'start_time': 22.92708333333335, 'type': 'note_off'},\n",
       "  {'note': 127, 'start_time': 22.92708333333335, 'type': 'note_off'},\n",
       "  {'note': 127, 'start_time': 22.92708333333335, 'type': 'note_off'},\n",
       "  {'note': 127, 'start_time': 22.92708333333335, 'type': 'note_off'},\n",
       "  {'note': 127, 'start_time': 22.92708333333335, 'type': 'note_off'},\n",
       "  {'note': 67, 'start_time': 22.95833333333335, 'type': 'note_off'},\n",
       "  {'note': 127, 'start_time': 22.95833333333335, 'type': 'note_off'},\n",
       "  {'note': 127, 'start_time': 23.437500000000018, 'type': 'note_off'},\n",
       "  {'note': 127, 'start_time': 23.437500000000018, 'type': 'note_off'},\n",
       "  {'note': 127, 'start_time': 23.437500000000018, 'type': 'note_off'},\n",
       "  {'note': 127, 'start_time': 23.437500000000018, 'type': 'note_off'},\n",
       "  {'note': 127, 'start_time': 23.447916666666686, 'type': 'note_off'},\n",
       "  {'note': 127, 'start_time': 23.468750000000018, 'type': 'note_off'},\n",
       "  {'note': 127, 'start_time': 23.468750000000018, 'type': 'note_off'},\n",
       "  {'note': 127, 'start_time': 23.468750000000018, 'type': 'note_off'},\n",
       "  {'note': 56, 'start_time': 23.468750000000018, 'type': 'note_off'},\n",
       "  {'note': 127, 'start_time': 23.468750000000018, 'type': 'note_off'},\n",
       "  {'note': 127, 'start_time': 23.979166666666686, 'type': 'note_off'},\n",
       "  {'note': 127, 'start_time': 24.000000000000018, 'type': 'note_off'},\n",
       "  {'note': 127, 'start_time': 24.000000000000018, 'type': 'note_off'},\n",
       "  {'note': 127, 'start_time': 24.197916666666686, 'type': 'note_off'},\n",
       "  {'note': 10, 'start_time': 24.208333333333353, 'type': 'note_off'},\n",
       "  {'note': 127, 'start_time': 24.208333333333353, 'type': 'note_off'},\n",
       "  {'note': 72, 'start_time': 24.208333333333353, 'type': 'note_off'},\n",
       "  {'note': 47, 'start_time': 24.239583333333353, 'type': 'note_on'},\n",
       "  {'note': 127, 'start_time': 24.239583333333353, 'type': 'note_off'},\n",
       "  {'note': 127, 'start_time': 24.239583333333353, 'type': 'note_off'},\n",
       "  {'note': 127, 'start_time': 24.239583333333353, 'type': 'note_off'},\n",
       "  {'note': 127, 'start_time': 24.697916666666686, 'type': 'note_off'},\n",
       "  {'note': 127, 'start_time': 24.697916666666686, 'type': 'note_off'},\n",
       "  {'note': 127, 'start_time': 24.697916666666686, 'type': 'note_off'},\n",
       "  {'note': 127, 'start_time': 24.697916666666686, 'type': 'note_off'},\n",
       "  {'note': 127, 'start_time': 24.697916666666686, 'type': 'note_off'},\n",
       "  {'note': 67, 'start_time': 24.697916666666686, 'type': 'note_off'},\n",
       "  {'note': 127, 'start_time': 24.697916666666686, 'type': 'note_off'}]]"
      ]
     },
     "execution_count": 69,
     "metadata": {},
     "output_type": "execute_result"
    }
   ],
   "source": [
    "track_sequence = get_track_sequences([list(x[0]) for x in generated_music])\n",
    "track_sequence"
   ]
  },
  {
   "cell_type": "code",
   "execution_count": 70,
   "metadata": {},
   "outputs": [
    {
     "data": {
      "text/plain": [
       "<midi file None type 1, 4 tracks, 827 messages>"
      ]
     },
     "execution_count": 70,
     "metadata": {},
     "output_type": "execute_result"
    }
   ],
   "source": [
    "midi = get_midi_from_vector_sequence(track_sequence)\n",
    "midi"
   ]
  },
  {
   "cell_type": "markdown",
   "metadata": {},
   "source": [
    "# Save midi"
   ]
  },
  {
   "cell_type": "code",
   "execution_count": 71,
   "metadata": {
    "collapsed": true
   },
   "outputs": [],
   "source": [
    "generation_output = \"generated_music/\""
   ]
  },
  {
   "cell_type": "code",
   "execution_count": 76,
   "metadata": {},
   "outputs": [
    {
     "data": {
      "text/plain": [
       "'Generated Music (NTraining=1, NHidden=1500, Batch=3, LR=0.001, Length=1000, Temperature=1.0, Date=2017-11-09 21.51).mid'"
      ]
     },
     "execution_count": 76,
     "metadata": {},
     "output_type": "execute_result"
    }
   ],
   "source": [
    "midi_name = \"Generated Music (NTraining={}, NHidden={}, Batch={}, LR={}, Length={}, Temperature={}, Date={}).mid\". \\\n",
    "    format(len(training_data), n_hidden, batch_size, learning_rate, N_GENERATED_NOTE_VECTORS, temperature, date)\n",
    "midi_name"
   ]
  },
  {
   "cell_type": "code",
   "execution_count": 77,
   "metadata": {},
   "outputs": [],
   "source": [
    "midi.save(generation_output + midi_name)"
   ]
  }
 ],
 "metadata": {
  "kernelspec": {
   "display_name": "Python 3",
   "language": "python",
   "name": "python3"
  },
  "language_info": {
   "codemirror_mode": {
    "name": "ipython",
    "version": 3
   },
   "file_extension": ".py",
   "mimetype": "text/x-python",
   "name": "python",
   "nbconvert_exporter": "python",
   "pygments_lexer": "ipython3",
   "version": "3.6.2"
  }
 },
 "nbformat": 4,
 "nbformat_minor": 2
}
