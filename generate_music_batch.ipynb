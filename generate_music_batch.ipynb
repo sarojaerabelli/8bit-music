{
 "cells": [
  {
   "cell_type": "code",
   "execution_count": 1,
   "metadata": {},
   "outputs": [
    {
     "name": "stderr",
     "output_type": "stream",
     "text": [
      "/Library/Frameworks/Python.framework/Versions/3.6/lib/python3.6/importlib/_bootstrap.py:205: RuntimeWarning: compiletime version 3.5 of module 'tensorflow.python.framework.fast_tensor_util' does not match runtime version 3.6\n",
      "  return f(*args, **kwds)\n"
     ]
    }
   ],
   "source": [
    "import mido\n",
    "import os\n",
    "import numpy as np\n",
    "from scipy import stats\n",
    "from os import listdir\n",
    "from os.path import isfile, join\n",
    "import tensorflow as tf\n",
    "from tensorflow.contrib import rnn\n",
    "import time\n",
    "\n",
    "import matplotlib.pyplot as plt\n",
    "from pylab import rcParams\n",
    "rcParams['figure.figsize'] = (12, 8)"
   ]
  },
  {
   "cell_type": "code",
   "execution_count": 2,
   "metadata": {},
   "outputs": [],
   "source": [
    "TICKS_PER_BEAT = 480\n",
    "TEMPO = int(mido.bpm2tempo(120))"
   ]
  },
  {
   "cell_type": "code",
   "execution_count": 3,
   "metadata": {},
   "outputs": [],
   "source": [
    "%run get_training_data.ipynb"
   ]
  },
  {
   "cell_type": "markdown",
   "metadata": {},
   "source": [
    "### Create training data"
   ]
  },
  {
   "cell_type": "code",
   "execution_count": 4,
   "metadata": {},
   "outputs": [],
   "source": [
    "N_VALIDATION_SET = 100"
   ]
  },
  {
   "cell_type": "code",
   "execution_count": 5,
   "metadata": {},
   "outputs": [
    {
     "data": {
      "text/plain": [
       "772"
      ]
     },
     "execution_count": 5,
     "metadata": {},
     "output_type": "execute_result"
    }
   ],
   "source": [
    "vocab_size = 2*NUM_TRACKS*NUM_MIDI_PITCHES + NUM_TIMESHIFTS\n",
    "vocab_size"
   ]
  },
  {
   "cell_type": "code",
   "execution_count": 6,
   "metadata": {
    "scrolled": true
   },
   "outputs": [],
   "source": [
    "# Set num training examples here. Note: actual number will be less, since some have errors\n",
    "training_data, training_data_labels, beat_number_data = get_training_vectors_from_file('TRAINING_DATA_6000.txt',\n",
    "                                                                                       'beat_number_training_data.txt')"
   ]
  },
  {
   "cell_type": "code",
   "execution_count": 7,
   "metadata": {},
   "outputs": [],
   "source": [
    "validation_data = training_data[:N_VALIDATION_SET]\n",
    "validation_data_labels = training_data_labels[:N_VALIDATION_SET]\n",
    "training_data = training_data[N_VALIDATION_SET:]\n",
    "training_data_labels = training_data_labels[N_VALIDATION_SET:]"
   ]
  },
  {
   "cell_type": "code",
   "execution_count": 8,
   "metadata": {
    "scrolled": true
   },
   "outputs": [
    {
     "name": "stdout",
     "output_type": "stream",
     "text": [
      "Number of training examples: 5644\n"
     ]
    },
    {
     "data": {
      "text/plain": [
       "['bomb2stg1.mid',\n",
       " 'TNTNUNN.mid',\n",
       " 'GQOverworld.mid',\n",
       " 'RR_Music3.mid',\n",
       " 'yc_1p_music_b.mid',\n",
       " 'tmnt2stg1.mid',\n",
       " 'Sm1cave.mid']"
      ]
     },
     "execution_count": 8,
     "metadata": {},
     "output_type": "execute_result"
    }
   ],
   "source": [
    "print(\"Number of training examples:\", len(training_data))\n",
    "training_data_labels[:7]"
   ]
  },
  {
   "cell_type": "code",
   "execution_count": 9,
   "metadata": {},
   "outputs": [
    {
     "data": {
      "text/plain": [
       "(3910,)"
      ]
     },
     "execution_count": 9,
     "metadata": {},
     "output_type": "execute_result"
    }
   ],
   "source": [
    "training_data[0].shape"
   ]
  },
  {
   "cell_type": "markdown",
   "metadata": {},
   "source": [
    "#### Transpose data to create more data"
   ]
  },
  {
   "cell_type": "code",
   "execution_count": 10,
   "metadata": {},
   "outputs": [],
   "source": [
    "def transpose_midi(training_example, transpose):\n",
    "    notes_transpose = training_example + transpose\n",
    "    outofbounds_mask = (notes_transpose%NUM_MIDI_PITCHES-transpose < 0) | (notes_transpose%NUM_MIDI_PITCHES-transpose >= 128) # find notes were transposed to different tracks\n",
    "    notes_transpose -= 12*np.sign(transpose) * outofbounds_mask\n",
    "    time_mask = training_example >= 2*NUM_TRACKS*NUM_MIDI_PITCHES\n",
    "    notes_transpose = (1-time_mask)*notes_transpose + time_mask*training_example # so we don't transpose time duration 1-hot vectors\n",
    "    return notes_transpose"
   ]
  },
  {
   "cell_type": "code",
   "execution_count": 11,
   "metadata": {
    "scrolled": true
   },
   "outputs": [],
   "source": [
    "transposed_training_data = []\n",
    "transpose_keys = [-4, -3, -2, -1, 1, 2, 3, 4]\n",
    "for transpose in transpose_keys: # transpose up and down up to a major third\n",
    "    for data, beat in zip(training_data, beat_number_data):\n",
    "        transposed_training_data.append(transpose_midi(data, transpose))\n",
    "        beat_number_data.append(beat) # Added beat number information.\n",
    "training_data = np.array(list(training_data) + transposed_training_data)"
   ]
  },
  {
   "cell_type": "code",
   "execution_count": 12,
   "metadata": {},
   "outputs": [
    {
     "name": "stdout",
     "output_type": "stream",
     "text": [
      "Number of training examples: 50796\n"
     ]
    }
   ],
   "source": [
    "print(\"Number of training examples:\", len(training_data))"
   ]
  },
  {
   "cell_type": "markdown",
   "metadata": {},
   "source": [
    "### Parameters"
   ]
  },
  {
   "cell_type": "code",
   "execution_count": 13,
   "metadata": {},
   "outputs": [],
   "source": [
    "'''# Parameters\n",
    "batch_size = 10\n",
    "learning_rate = 0.001\n",
    "training_iters = 50000\n",
    "n_input = 64\n",
    "display_step = 200\n",
    "\n",
    "# number of units in RNN cell\n",
    "n_hidden = 512\n",
    "n_layers = 2\n",
    "'''\n",
    "\n",
    "# Parameters\n",
    "batch_size = 10\n",
    "learning_rate = 0.003\n",
    "training_iters = 50000\n",
    "n_input = 80\n",
    "display_step = 100\n",
    "validation_step = 10 # every <validation_step> steps, we calculate validation error\n",
    "\n",
    "# number of units in RNN cell\n",
    "n_hidden = 200\n",
    "n_layers = 2"
   ]
  },
  {
   "cell_type": "markdown",
   "metadata": {},
   "source": [
    "### Create tensor flow graph"
   ]
  },
  {
   "cell_type": "code",
   "execution_count": 14,
   "metadata": {},
   "outputs": [],
   "source": [
    "# tf Graph input\n",
    "x = tf.placeholder(\"float\", [batch_size, n_input, vocab_size])\n",
    "y = tf.placeholder(\"int32\", [batch_size, n_input])\n",
    "\n",
    "# RNN output node weights and biases\n",
    "softmax_w = tf.Variable(tf.random_normal([n_hidden, vocab_size]))\n",
    "softmax_b = tf.Variable(tf.random_normal([vocab_size]))\n",
    "\n",
    "max_grad_norm = 5"
   ]
  },
  {
   "cell_type": "code",
   "execution_count": 15,
   "metadata": {},
   "outputs": [],
   "source": [
    "# tf Graph validation input\n",
    "x_validation = tf.placeholder(\"float\", [N_VALIDATION_SET, n_input, vocab_size])\n",
    "y_validation = tf.placeholder(\"int32\", [N_VALIDATION_SET, n_input])"
   ]
  },
  {
   "cell_type": "code",
   "execution_count": 16,
   "metadata": {},
   "outputs": [],
   "source": [
    "# tf Graph generative input\n",
    "x_generation = tf.placeholder(\"float\", [1, vocab_size])"
   ]
  },
  {
   "cell_type": "code",
   "execution_count": 17,
   "metadata": {},
   "outputs": [],
   "source": [
    "rnn_cell = rnn.MultiRNNCell([rnn.BasicLSTMCell(n_hidden) for _ in range(n_layers)])"
   ]
  },
  {
   "cell_type": "code",
   "execution_count": 18,
   "metadata": {},
   "outputs": [],
   "source": [
    "# Training output\n",
    "x_split = tf.unstack(x, n_input, 1)\n",
    "outputs, states = rnn.static_rnn(rnn_cell, x_split, dtype=tf.float32)\n",
    "logits = [tf.nn.xw_plus_b(output, softmax_w, softmax_b) for output in outputs]\n",
    "logits = tf.reshape(tf.split(tf.reshape(logits, [n_input, batch_size, vocab_size]), batch_size, 1), \n",
    "                    [batch_size, n_input, vocab_size])"
   ]
  },
  {
   "cell_type": "code",
   "execution_count": 19,
   "metadata": {},
   "outputs": [],
   "source": [
    "# Training loss\n",
    "loss = tf.contrib.seq2seq.sequence_loss(logits, y, weights=tf.ones([batch_size, n_input], dtype=tf.float32), # check this\n",
    "                                        average_across_timesteps=True, average_across_batch=True)\n",
    "cost = tf.reduce_sum(loss)\n",
    "optimizer = tf.train.RMSPropOptimizer(learning_rate=learning_rate).minimize(cost)"
   ]
  },
  {
   "cell_type": "code",
   "execution_count": 20,
   "metadata": {},
   "outputs": [],
   "source": [
    "# Validation output\n",
    "x_validation_split = tf.unstack(x_validation, n_input, 1)\n",
    "outputs_validation, states_validation = rnn.static_rnn(rnn_cell, x_validation_split, dtype=tf.float32)\n",
    "logits_validation = [tf.nn.xw_plus_b(output, softmax_w, softmax_b) for output in outputs_validation]\n",
    "logits_validation = tf.reshape(tf.split(tf.reshape(logits_validation, [n_input, N_VALIDATION_SET, vocab_size]), N_VALIDATION_SET, 1), \n",
    "                               [N_VALIDATION_SET, n_input, vocab_size])"
   ]
  },
  {
   "cell_type": "code",
   "execution_count": 21,
   "metadata": {},
   "outputs": [],
   "source": [
    "# Training loss\n",
    "loss_validation = tf.contrib.seq2seq.sequence_loss(logits_validation, y_validation, weights=tf.ones([N_VALIDATION_SET, n_input], dtype=tf.float32), # check this\n",
    "                                        average_across_timesteps=True, average_across_batch=True)\n",
    "cost_validation = tf.reduce_sum(loss_validation)"
   ]
  },
  {
   "cell_type": "markdown",
   "metadata": {},
   "source": [
    "### Run tensor flow session"
   ]
  },
  {
   "cell_type": "code",
   "execution_count": 22,
   "metadata": {},
   "outputs": [],
   "source": [
    "session = tf.Session()"
   ]
  },
  {
   "cell_type": "code",
   "execution_count": 23,
   "metadata": {},
   "outputs": [],
   "source": [
    "identity = np.eye(vocab_size)\n",
    "def get_midi_xy(data, midi_file_number):\n",
    "    offset = np.random.randint(0, len(data[midi_file_number]) - n_input - 1)\n",
    "    midi_x = data[midi_file_number][offset:offset+n_input]\n",
    "    midi_y = data[midi_file_number][1 + offset:1 + offset+n_input].reshape(1, n_input)\n",
    "    try:\n",
    "        identity[midi_x.astype(int)], midi_y\n",
    "    except:\n",
    "        print(midi_x)\n",
    "    return identity[midi_x.astype(int)], midi_y"
   ]
  },
  {
   "cell_type": "code",
   "execution_count": 24,
   "metadata": {},
   "outputs": [],
   "source": [
    "def get_batch(data, num_batches):\n",
    "    \"\"\"Generate random batches of x and y training vectors for RNN.\n",
    "       \n",
    "    Returns:\n",
    "        Two batches of x and y vectors.\n",
    "    \"\"\"\n",
    "    batch_x = []\n",
    "    batch_y = []\n",
    "    batch = np.random.choice(range(len(data)), num_batches, replace=True)\n",
    "    for b in batch:\n",
    "        midi_x, midi_y = get_midi_xy(data, b%len(training_data))\n",
    "        batch_x.append(midi_x)\n",
    "        batch_y.append(midi_y)\n",
    "    batch_y = np.reshape(batch_y, [num_batches, n_input])\n",
    "    return batch_x, batch_y"
   ]
  },
  {
   "cell_type": "code",
   "execution_count": 25,
   "metadata": {},
   "outputs": [],
   "source": [
    "def seconds_to_minsecstr(seconds):\n",
    "    minutes = seconds//60\n",
    "    seconds -= 60*minutes\n",
    "    if minutes < 10: minutes = \"0\" + str(minutes)\n",
    "    if seconds < 10: seconds = \"0\" + str(seconds)\n",
    "    return str(minutes) + \":\" + str(seconds)"
   ]
  },
  {
   "cell_type": "code",
   "execution_count": 26,
   "metadata": {
    "scrolled": true
   },
   "outputs": [
    {
     "name": "stdout",
     "output_type": "stream",
     "text": [
      "Iter=100, Average Loss=6.142386, Validation Loss=6.088140, Time Elapsed=01:37\n",
      "Iter=200, Average Loss=5.483531, Validation Loss=4.795833, Time Elapsed=03:01\n",
      "Iter=300, Average Loss=4.151887, Validation Loss=3.966882, Time Elapsed=04:28\n",
      "Iter=400, Average Loss=3.603168, Validation Loss=3.311407, Time Elapsed=05:54\n",
      "Iter=500, Average Loss=3.221066, Validation Loss=3.100742, Time Elapsed=07:14\n",
      "Iter=600, Average Loss=3.071400, Validation Loss=2.892524, Time Elapsed=08:37\n",
      "Iter=700, Average Loss=2.930962, Validation Loss=2.891329, Time Elapsed=10:11\n",
      "Iter=800, Average Loss=2.779346, Validation Loss=2.692680, Time Elapsed=11:49\n",
      "Iter=900, Average Loss=2.735713, Validation Loss=2.847553, Time Elapsed=13:16\n",
      "Iter=1000, Average Loss=2.640643, Validation Loss=2.665241, Time Elapsed=14:55\n",
      "Iter=1100, Average Loss=2.626139, Validation Loss=2.595272, Time Elapsed=16:15\n",
      "Iter=1200, Average Loss=2.564922, Validation Loss=2.310076, Time Elapsed=17:47\n",
      "Iter=1300, Average Loss=2.517250, Validation Loss=2.456458, Time Elapsed=19:10\n",
      "Iter=1400, Average Loss=2.486855, Validation Loss=2.372204, Time Elapsed=20:35\n",
      "Iter=1500, Average Loss=2.489092, Validation Loss=2.492064, Time Elapsed=22:04\n",
      "Iter=1600, Average Loss=2.431000, Validation Loss=2.438791, Time Elapsed=23:34\n",
      "Iter=1700, Average Loss=2.378766, Validation Loss=2.499514, Time Elapsed=25:12\n",
      "Iter=1800, Average Loss=2.390084, Validation Loss=2.370318, Time Elapsed=26:54\n",
      "Iter=1900, Average Loss=2.346683, Validation Loss=2.452614, Time Elapsed=28:16\n",
      "Iter=2000, Average Loss=2.331407, Validation Loss=2.336203, Time Elapsed=29:36\n",
      "Iter=2100, Average Loss=2.316689, Validation Loss=2.459623, Time Elapsed=30:48\n",
      "Iter=2200, Average Loss=2.291932, Validation Loss=2.297793, Time Elapsed=31:59\n",
      "Iter=2300, Average Loss=2.331501, Validation Loss=2.327816, Time Elapsed=33:09\n",
      "Iter=2400, Average Loss=2.276733, Validation Loss=2.239553, Time Elapsed=34:19\n",
      "Iter=2500, Average Loss=2.264155, Validation Loss=2.230131, Time Elapsed=35:30\n",
      "Iter=2600, Average Loss=2.214059, Validation Loss=2.218858, Time Elapsed=36:40\n",
      "Iter=2700, Average Loss=2.254337, Validation Loss=1.987162, Time Elapsed=37:50\n",
      "Iter=2800, Average Loss=2.221936, Validation Loss=2.273061, Time Elapsed=39:00\n",
      "Iter=2900, Average Loss=2.201360, Validation Loss=2.221008, Time Elapsed=40:10\n",
      "Iter=3000, Average Loss=2.199499, Validation Loss=2.165051, Time Elapsed=41:21\n",
      "Iter=3100, Average Loss=2.216997, Validation Loss=2.162893, Time Elapsed=42:30\n",
      "Iter=3200, Average Loss=2.214469, Validation Loss=2.223025, Time Elapsed=43:40\n",
      "Iter=3300, Average Loss=2.175082, Validation Loss=2.149793, Time Elapsed=44:50\n",
      "Iter=3400, Average Loss=2.160662, Validation Loss=2.166227, Time Elapsed=46:00\n",
      "Iter=3500, Average Loss=2.153742, Validation Loss=2.151826, Time Elapsed=47:11\n",
      "Iter=3600, Average Loss=2.161757, Validation Loss=2.125011, Time Elapsed=48:20\n",
      "Iter=3700, Average Loss=2.183724, Validation Loss=2.200443, Time Elapsed=49:31\n",
      "Iter=3800, Average Loss=2.158279, Validation Loss=1.931121, Time Elapsed=50:42\n",
      "Iter=3900, Average Loss=2.107905, Validation Loss=2.119749, Time Elapsed=51:51\n",
      "Iter=4000, Average Loss=2.125973, Validation Loss=2.115289, Time Elapsed=53:01\n",
      "Iter=4100, Average Loss=2.076366, Validation Loss=2.116018, Time Elapsed=54:13\n",
      "Iter=4200, Average Loss=2.122437, Validation Loss=2.048212, Time Elapsed=55:23\n",
      "Iter=4300, Average Loss=2.054681, Validation Loss=2.176607, Time Elapsed=56:33\n",
      "Iter=4400, Average Loss=2.119684, Validation Loss=1.990833, Time Elapsed=57:43\n",
      "Iter=4500, Average Loss=2.059530, Validation Loss=2.107145, Time Elapsed=58:53\n",
      "Iter=4600, Average Loss=2.067194, Validation Loss=2.030964, Time Elapsed=60:04\n",
      "Iter=4700, Average Loss=2.072983, Validation Loss=2.072922, Time Elapsed=61:14\n",
      "Iter=4800, Average Loss=2.077833, Validation Loss=2.115235, Time Elapsed=62:24\n",
      "Iter=4900, Average Loss=2.048033, Validation Loss=2.104676, Time Elapsed=63:34\n",
      "Iter=5000, Average Loss=2.054896, Validation Loss=2.047071, Time Elapsed=64:45\n",
      "Iter=5100, Average Loss=2.063713, Validation Loss=1.970068, Time Elapsed=65:55\n",
      "Iter=5200, Average Loss=2.069648, Validation Loss=2.006068, Time Elapsed=67:05\n",
      "Iter=5300, Average Loss=2.070415, Validation Loss=2.070331, Time Elapsed=68:16\n",
      "Iter=5400, Average Loss=1.995754, Validation Loss=2.043684, Time Elapsed=69:26\n",
      "Iter=5500, Average Loss=2.036093, Validation Loss=2.052446, Time Elapsed=70:36\n",
      "Iter=5600, Average Loss=2.024877, Validation Loss=2.064184, Time Elapsed=71:47\n",
      "Iter=5700, Average Loss=2.003973, Validation Loss=1.972922, Time Elapsed=72:57\n",
      "Iter=5800, Average Loss=2.000598, Validation Loss=1.926953, Time Elapsed=74:08\n",
      "Iter=5900, Average Loss=2.002834, Validation Loss=2.051056, Time Elapsed=75:20\n",
      "Iter=6000, Average Loss=2.025679, Validation Loss=1.932393, Time Elapsed=76:30\n",
      "Iter=6100, Average Loss=2.008681, Validation Loss=2.036838, Time Elapsed=77:40\n",
      "Iter=6200, Average Loss=1.990063, Validation Loss=1.874534, Time Elapsed=78:51\n",
      "Iter=6300, Average Loss=2.010943, Validation Loss=1.986409, Time Elapsed=80:01\n",
      "Iter=6400, Average Loss=2.028518, Validation Loss=1.987067, Time Elapsed=81:12\n",
      "Iter=6500, Average Loss=2.001478, Validation Loss=1.921045, Time Elapsed=82:22\n",
      "Iter=6600, Average Loss=1.953438, Validation Loss=1.956221, Time Elapsed=83:32\n",
      "Iter=6700, Average Loss=1.967589, Validation Loss=2.149286, Time Elapsed=84:43\n",
      "Iter=6800, Average Loss=1.960881, Validation Loss=1.988858, Time Elapsed=85:53\n",
      "Iter=6900, Average Loss=1.964374, Validation Loss=1.926356, Time Elapsed=87:03\n",
      "Iter=7000, Average Loss=1.978580, Validation Loss=1.978107, Time Elapsed=88:13\n",
      "Iter=7100, Average Loss=1.925759, Validation Loss=1.975396, Time Elapsed=89:24\n",
      "Iter=7200, Average Loss=1.946056, Validation Loss=1.970619, Time Elapsed=90:36\n",
      "Iter=7300, Average Loss=1.952966, Validation Loss=1.919610, Time Elapsed=91:46\n",
      "Iter=7400, Average Loss=1.961291, Validation Loss=1.960860, Time Elapsed=92:56\n",
      "Iter=7500, Average Loss=1.972609, Validation Loss=1.878785, Time Elapsed=94:07\n",
      "Iter=7600, Average Loss=1.984197, Validation Loss=1.942024, Time Elapsed=95:18\n",
      "Iter=7700, Average Loss=1.928053, Validation Loss=1.905573, Time Elapsed=96:28\n",
      "Iter=7800, Average Loss=1.918983, Validation Loss=1.922169, Time Elapsed=97:39\n",
      "Iter=7900, Average Loss=1.953026, Validation Loss=1.963744, Time Elapsed=98:49\n",
      "Iter=8000, Average Loss=1.936448, Validation Loss=2.033460, Time Elapsed=99:59\n",
      "Iter=8100, Average Loss=1.938684, Validation Loss=1.928167, Time Elapsed=101:10\n",
      "Iter=8200, Average Loss=1.919599, Validation Loss=1.858504, Time Elapsed=102:19\n",
      "Iter=8300, Average Loss=1.956000, Validation Loss=1.875193, Time Elapsed=103:30\n",
      "Iter=8400, Average Loss=1.907188, Validation Loss=1.921527, Time Elapsed=104:40\n",
      "Iter=8500, Average Loss=1.944067, Validation Loss=1.931525, Time Elapsed=105:51\n",
      "Iter=8600, Average Loss=1.927218, Validation Loss=1.878620, Time Elapsed=107:01\n",
      "Iter=8700, Average Loss=1.900888, Validation Loss=1.891898, Time Elapsed=108:12\n",
      "Iter=8800, Average Loss=1.940372, Validation Loss=1.965307, Time Elapsed=109:22\n",
      "Iter=8900, Average Loss=1.905619, Validation Loss=1.978085, Time Elapsed=110:33\n",
      "Iter=9000, Average Loss=1.914659, Validation Loss=1.951994, Time Elapsed=111:43\n",
      "Iter=9100, Average Loss=1.870587, Validation Loss=1.827068, Time Elapsed=112:53\n",
      "Iter=9200, Average Loss=1.856275, Validation Loss=1.897482, Time Elapsed=114:04\n",
      "Iter=9300, Average Loss=1.893816, Validation Loss=1.780059, Time Elapsed=115:15\n",
      "Iter=9400, Average Loss=1.899856, Validation Loss=1.928931, Time Elapsed=116:26\n",
      "Iter=9500, Average Loss=1.858579, Validation Loss=1.836429, Time Elapsed=117:36\n",
      "Iter=9600, Average Loss=1.899955, Validation Loss=1.781070, Time Elapsed=118:46\n",
      "Iter=9700, Average Loss=1.882338, Validation Loss=1.874072, Time Elapsed=119:57\n",
      "Iter=9800, Average Loss=1.915165, Validation Loss=1.911811, Time Elapsed=121:08\n",
      "Iter=9900, Average Loss=1.910790, Validation Loss=1.940740, Time Elapsed=122:18\n",
      "Iter=10000, Average Loss=1.861959, Validation Loss=1.885437, Time Elapsed=123:29\n",
      "Iter=10100, Average Loss=1.851636, Validation Loss=1.900548, Time Elapsed=124:40\n",
      "Iter=10200, Average Loss=1.830177, Validation Loss=1.830289, Time Elapsed=125:51\n",
      "Iter=10300, Average Loss=1.856368, Validation Loss=1.795501, Time Elapsed=127:01\n",
      "Iter=10400, Average Loss=1.892463, Validation Loss=1.898799, Time Elapsed=128:11\n"
     ]
    },
    {
     "name": "stdout",
     "output_type": "stream",
     "text": [
      "Iter=10500, Average Loss=1.881672, Validation Loss=1.877285, Time Elapsed=129:21\n",
      "Iter=10600, Average Loss=1.872718, Validation Loss=1.800115, Time Elapsed=130:32\n",
      "Iter=10700, Average Loss=1.914307, Validation Loss=1.896774, Time Elapsed=131:43\n",
      "Iter=10800, Average Loss=1.862610, Validation Loss=1.773723, Time Elapsed=132:53\n",
      "Iter=10900, Average Loss=1.866967, Validation Loss=1.835367, Time Elapsed=134:04\n",
      "Iter=11000, Average Loss=1.848759, Validation Loss=1.795629, Time Elapsed=135:15\n",
      "Iter=11100, Average Loss=1.869385, Validation Loss=1.820158, Time Elapsed=136:25\n",
      "Iter=11200, Average Loss=1.867026, Validation Loss=1.772866, Time Elapsed=137:36\n",
      "Iter=11300, Average Loss=1.878519, Validation Loss=1.793084, Time Elapsed=138:46\n",
      "Iter=11400, Average Loss=1.833780, Validation Loss=1.835060, Time Elapsed=139:58\n",
      "Iter=11500, Average Loss=1.853077, Validation Loss=1.816066, Time Elapsed=141:08\n",
      "Iter=11600, Average Loss=1.846910, Validation Loss=1.757731, Time Elapsed=142:18\n",
      "Iter=11700, Average Loss=1.848632, Validation Loss=1.914138, Time Elapsed=143:29\n",
      "Iter=11800, Average Loss=1.870120, Validation Loss=1.910156, Time Elapsed=144:40\n",
      "Iter=11900, Average Loss=1.872648, Validation Loss=1.845371, Time Elapsed=145:51\n",
      "Iter=12000, Average Loss=1.825171, Validation Loss=1.817494, Time Elapsed=147:01\n",
      "Iter=12100, Average Loss=1.834718, Validation Loss=1.747853, Time Elapsed=148:11\n",
      "Iter=12200, Average Loss=1.842344, Validation Loss=1.791160, Time Elapsed=149:22\n",
      "Iter=12300, Average Loss=1.804234, Validation Loss=1.870560, Time Elapsed=150:32\n",
      "Iter=12400, Average Loss=1.879106, Validation Loss=1.766615, Time Elapsed=151:44\n",
      "Iter=12500, Average Loss=1.831112, Validation Loss=1.806966, Time Elapsed=152:54\n",
      "Iter=12600, Average Loss=1.826707, Validation Loss=1.737883, Time Elapsed=154:05\n",
      "Iter=12700, Average Loss=1.796040, Validation Loss=1.754570, Time Elapsed=155:16\n",
      "Iter=12800, Average Loss=1.838687, Validation Loss=1.841022, Time Elapsed=156:27\n",
      "Iter=12900, Average Loss=1.821636, Validation Loss=1.861437, Time Elapsed=157:38\n",
      "Iter=13000, Average Loss=1.841237, Validation Loss=1.782015, Time Elapsed=158:48\n",
      "Iter=13100, Average Loss=1.798454, Validation Loss=1.769916, Time Elapsed=159:59\n",
      "Iter=13200, Average Loss=1.834875, Validation Loss=1.844350, Time Elapsed=161:09\n",
      "Iter=13300, Average Loss=1.847417, Validation Loss=1.927933, Time Elapsed=162:20\n",
      "Iter=13400, Average Loss=1.837109, Validation Loss=1.678576, Time Elapsed=163:30\n",
      "Iter=13500, Average Loss=1.848099, Validation Loss=1.798438, Time Elapsed=164:41\n",
      "Iter=13600, Average Loss=1.826583, Validation Loss=1.881716, Time Elapsed=165:52\n",
      "Iter=13700, Average Loss=1.810627, Validation Loss=1.745080, Time Elapsed=167:02\n",
      "Iter=13800, Average Loss=1.817687, Validation Loss=1.679275, Time Elapsed=168:13\n",
      "Iter=13900, Average Loss=1.795546, Validation Loss=1.742923, Time Elapsed=169:23\n",
      "Iter=14000, Average Loss=1.846376, Validation Loss=1.934096, Time Elapsed=170:34\n",
      "Iter=14100, Average Loss=1.812944, Validation Loss=1.733600, Time Elapsed=171:44\n",
      "Iter=14200, Average Loss=1.818837, Validation Loss=1.765880, Time Elapsed=172:55\n",
      "Iter=14300, Average Loss=1.783596, Validation Loss=1.805266, Time Elapsed=174:06\n",
      "Iter=14400, Average Loss=1.808477, Validation Loss=1.804311, Time Elapsed=175:17\n",
      "Iter=14500, Average Loss=1.791268, Validation Loss=1.787306, Time Elapsed=176:27\n",
      "Iter=14600, Average Loss=1.789110, Validation Loss=1.834458, Time Elapsed=177:38\n",
      "Iter=14700, Average Loss=1.799125, Validation Loss=1.721833, Time Elapsed=178:48\n",
      "Iter=14800, Average Loss=1.811016, Validation Loss=1.777083, Time Elapsed=179:59\n",
      "Iter=14900, Average Loss=1.798012, Validation Loss=1.880855, Time Elapsed=181:09\n",
      "Iter=15000, Average Loss=1.836015, Validation Loss=1.821547, Time Elapsed=182:19\n",
      "Iter=15100, Average Loss=1.820655, Validation Loss=1.838643, Time Elapsed=183:30\n",
      "Iter=15200, Average Loss=1.781016, Validation Loss=1.730833, Time Elapsed=184:40\n",
      "Iter=15300, Average Loss=1.771055, Validation Loss=1.745147, Time Elapsed=185:52\n",
      "Iter=15400, Average Loss=1.767373, Validation Loss=1.852904, Time Elapsed=187:02\n",
      "Iter=15500, Average Loss=1.785170, Validation Loss=1.765697, Time Elapsed=188:13\n",
      "Iter=15600, Average Loss=1.810895, Validation Loss=1.683750, Time Elapsed=189:24\n",
      "Iter=15700, Average Loss=1.783586, Validation Loss=1.873312, Time Elapsed=190:35\n",
      "Iter=15800, Average Loss=1.753008, Validation Loss=1.742050, Time Elapsed=191:46\n",
      "Iter=15900, Average Loss=1.743861, Validation Loss=1.795919, Time Elapsed=192:56\n",
      "Iter=16000, Average Loss=1.773862, Validation Loss=1.730227, Time Elapsed=194:06\n",
      "Iter=16100, Average Loss=1.783074, Validation Loss=1.720024, Time Elapsed=195:17\n",
      "Iter=16200, Average Loss=1.799501, Validation Loss=1.743259, Time Elapsed=196:27\n",
      "Iter=16300, Average Loss=1.786136, Validation Loss=1.843872, Time Elapsed=197:37\n",
      "Iter=16400, Average Loss=1.793912, Validation Loss=1.835596, Time Elapsed=198:47\n",
      "Iter=16500, Average Loss=1.793074, Validation Loss=1.763830, Time Elapsed=199:57\n",
      "Iter=16600, Average Loss=1.785437, Validation Loss=1.777580, Time Elapsed=201:07\n",
      "Iter=16700, Average Loss=1.776790, Validation Loss=1.850536, Time Elapsed=202:17\n",
      "Iter=16800, Average Loss=1.796217, Validation Loss=1.729814, Time Elapsed=203:28\n",
      "Iter=16900, Average Loss=1.759455, Validation Loss=1.712436, Time Elapsed=204:38\n",
      "Iter=17000, Average Loss=1.792766, Validation Loss=1.689601, Time Elapsed=205:48\n",
      "Iter=17100, Average Loss=1.766366, Validation Loss=1.795038, Time Elapsed=206:59\n",
      "Iter=17200, Average Loss=1.766426, Validation Loss=1.724357, Time Elapsed=208:09\n",
      "Iter=17300, Average Loss=1.763247, Validation Loss=1.771470, Time Elapsed=209:20\n",
      "Iter=17400, Average Loss=1.799068, Validation Loss=1.692946, Time Elapsed=210:30\n",
      "Iter=17500, Average Loss=1.768963, Validation Loss=1.708178, Time Elapsed=211:41\n",
      "Iter=17600, Average Loss=1.774643, Validation Loss=1.767493, Time Elapsed=212:50\n",
      "Iter=17700, Average Loss=1.768839, Validation Loss=1.832408, Time Elapsed=214:02\n",
      "Iter=17800, Average Loss=1.763402, Validation Loss=1.777428, Time Elapsed=215:13\n",
      "Iter=17900, Average Loss=1.757642, Validation Loss=1.805424, Time Elapsed=216:23\n",
      "Iter=18000, Average Loss=1.778662, Validation Loss=1.811218, Time Elapsed=217:35\n",
      "Iter=18100, Average Loss=1.746052, Validation Loss=1.762334, Time Elapsed=218:45\n",
      "Iter=18200, Average Loss=1.807924, Validation Loss=1.812116, Time Elapsed=219:56\n",
      "Iter=18300, Average Loss=1.751388, Validation Loss=1.709605, Time Elapsed=221:06\n",
      "Iter=18400, Average Loss=1.736990, Validation Loss=1.712859, Time Elapsed=222:16\n",
      "Iter=18500, Average Loss=1.737835, Validation Loss=1.787794, Time Elapsed=223:27\n",
      "Iter=18600, Average Loss=1.755453, Validation Loss=1.741435, Time Elapsed=224:37\n",
      "Iter=18700, Average Loss=1.768737, Validation Loss=1.787092, Time Elapsed=225:48\n",
      "Iter=18800, Average Loss=1.762507, Validation Loss=1.742039, Time Elapsed=226:58\n",
      "Iter=18900, Average Loss=1.727656, Validation Loss=1.788288, Time Elapsed=228:09\n",
      "Iter=19000, Average Loss=1.736106, Validation Loss=1.827753, Time Elapsed=229:20\n",
      "Iter=19100, Average Loss=1.776194, Validation Loss=1.750077, Time Elapsed=230:31\n",
      "Iter=19200, Average Loss=1.740783, Validation Loss=1.707929, Time Elapsed=231:41\n",
      "Iter=19300, Average Loss=1.711246, Validation Loss=1.832271, Time Elapsed=232:51\n",
      "Iter=19400, Average Loss=1.747899, Validation Loss=1.779752, Time Elapsed=234:01\n",
      "Iter=19500, Average Loss=1.753921, Validation Loss=1.745203, Time Elapsed=235:13\n",
      "Iter=19600, Average Loss=1.743006, Validation Loss=1.724460, Time Elapsed=236:23\n",
      "Iter=19700, Average Loss=1.759052, Validation Loss=1.840612, Time Elapsed=237:34\n",
      "Iter=19800, Average Loss=1.746530, Validation Loss=1.760131, Time Elapsed=238:44\n",
      "Iter=19900, Average Loss=1.719138, Validation Loss=1.817679, Time Elapsed=239:55\n",
      "Iter=20000, Average Loss=1.738778, Validation Loss=1.719586, Time Elapsed=241:05\n",
      "Iter=20100, Average Loss=1.736151, Validation Loss=1.686628, Time Elapsed=242:16\n",
      "Iter=20200, Average Loss=1.743038, Validation Loss=1.699824, Time Elapsed=243:27\n",
      "Iter=20300, Average Loss=1.757773, Validation Loss=1.778170, Time Elapsed=244:38\n",
      "Iter=20400, Average Loss=1.725687, Validation Loss=1.760289, Time Elapsed=245:49\n",
      "Iter=20500, Average Loss=1.726972, Validation Loss=1.752182, Time Elapsed=246:59\n",
      "Iter=20600, Average Loss=1.748938, Validation Loss=1.847921, Time Elapsed=248:10\n"
     ]
    },
    {
     "name": "stdout",
     "output_type": "stream",
     "text": [
      "Iter=20700, Average Loss=1.727373, Validation Loss=1.678368, Time Elapsed=249:20\n",
      "Iter=20800, Average Loss=1.785182, Validation Loss=1.826479, Time Elapsed=250:31\n",
      "Iter=20900, Average Loss=1.737481, Validation Loss=1.754420, Time Elapsed=251:43\n",
      "Iter=21000, Average Loss=1.722612, Validation Loss=1.790364, Time Elapsed=252:53\n",
      "Iter=21100, Average Loss=1.801802, Validation Loss=1.702106, Time Elapsed=254:04\n",
      "Iter=21200, Average Loss=1.735044, Validation Loss=1.799986, Time Elapsed=255:18\n",
      "Iter=21300, Average Loss=1.739010, Validation Loss=1.701874, Time Elapsed=256:29\n",
      "Iter=21400, Average Loss=1.758162, Validation Loss=1.715262, Time Elapsed=257:39\n",
      "Iter=21500, Average Loss=1.740536, Validation Loss=1.656219, Time Elapsed=258:49\n",
      "Iter=21600, Average Loss=1.740264, Validation Loss=1.829534, Time Elapsed=260:00\n",
      "Iter=21700, Average Loss=1.716138, Validation Loss=1.698937, Time Elapsed=261:10\n",
      "Iter=21800, Average Loss=1.724280, Validation Loss=1.710389, Time Elapsed=262:21\n",
      "Iter=21900, Average Loss=1.777448, Validation Loss=1.746505, Time Elapsed=263:31\n",
      "Iter=22000, Average Loss=1.713117, Validation Loss=1.785458, Time Elapsed=264:41\n",
      "Iter=22100, Average Loss=1.748649, Validation Loss=1.728544, Time Elapsed=265:52\n",
      "Iter=22200, Average Loss=1.724706, Validation Loss=1.686036, Time Elapsed=267:02\n",
      "Iter=22300, Average Loss=1.705774, Validation Loss=1.725082, Time Elapsed=268:13\n",
      "Iter=22400, Average Loss=1.745392, Validation Loss=1.790128, Time Elapsed=269:23\n",
      "Iter=22500, Average Loss=1.732814, Validation Loss=1.755072, Time Elapsed=270:34\n",
      "Iter=22600, Average Loss=1.779763, Validation Loss=1.747904, Time Elapsed=271:45\n",
      "Iter=22700, Average Loss=1.724450, Validation Loss=1.714837, Time Elapsed=272:55\n",
      "Iter=22800, Average Loss=1.724046, Validation Loss=1.685368, Time Elapsed=274:05\n",
      "Iter=22900, Average Loss=1.739973, Validation Loss=1.806696, Time Elapsed=275:15\n",
      "Iter=23000, Average Loss=1.725251, Validation Loss=1.780745, Time Elapsed=276:25\n",
      "Iter=23100, Average Loss=1.714600, Validation Loss=1.680759, Time Elapsed=277:35\n",
      "Iter=23200, Average Loss=1.703613, Validation Loss=1.695155, Time Elapsed=278:45\n",
      "Iter=23300, Average Loss=1.735425, Validation Loss=1.625895, Time Elapsed=279:56\n",
      "Iter=23400, Average Loss=1.728500, Validation Loss=1.802927, Time Elapsed=281:06\n",
      "Iter=23500, Average Loss=1.684278, Validation Loss=1.682817, Time Elapsed=282:16\n",
      "Iter=23600, Average Loss=1.700848, Validation Loss=1.815213, Time Elapsed=283:26\n",
      "Iter=23700, Average Loss=1.769357, Validation Loss=1.708257, Time Elapsed=284:37\n",
      "Iter=23800, Average Loss=1.733002, Validation Loss=1.824222, Time Elapsed=285:48\n",
      "Iter=23900, Average Loss=1.715113, Validation Loss=1.825008, Time Elapsed=286:58\n",
      "Iter=24000, Average Loss=1.736723, Validation Loss=1.684251, Time Elapsed=288:08\n",
      "Iter=24100, Average Loss=1.689577, Validation Loss=1.737554, Time Elapsed=289:18\n",
      "Iter=24200, Average Loss=1.703152, Validation Loss=1.673464, Time Elapsed=290:29\n",
      "Iter=24300, Average Loss=1.727505, Validation Loss=1.637048, Time Elapsed=291:39\n",
      "Iter=24400, Average Loss=1.716536, Validation Loss=1.689387, Time Elapsed=292:49\n",
      "Iter=24500, Average Loss=1.704067, Validation Loss=1.630935, Time Elapsed=293:59\n",
      "Iter=24600, Average Loss=1.716134, Validation Loss=1.755806, Time Elapsed=295:10\n",
      "Iter=24700, Average Loss=1.697213, Validation Loss=1.844006, Time Elapsed=296:20\n",
      "Iter=24800, Average Loss=1.723053, Validation Loss=1.629837, Time Elapsed=297:30\n",
      "Iter=24900, Average Loss=1.685226, Validation Loss=1.711429, Time Elapsed=298:40\n",
      "Iter=25000, Average Loss=1.719760, Validation Loss=1.661412, Time Elapsed=299:51\n",
      "Iter=25100, Average Loss=1.723175, Validation Loss=1.758729, Time Elapsed=301:02\n",
      "Iter=25200, Average Loss=1.692002, Validation Loss=1.680667, Time Elapsed=302:12\n",
      "Iter=25300, Average Loss=1.711942, Validation Loss=1.709436, Time Elapsed=303:22\n",
      "Iter=25400, Average Loss=1.706146, Validation Loss=1.713972, Time Elapsed=304:32\n",
      "Iter=25500, Average Loss=1.692769, Validation Loss=1.739856, Time Elapsed=305:43\n",
      "Iter=25600, Average Loss=1.723604, Validation Loss=1.806585, Time Elapsed=306:52\n",
      "Iter=25700, Average Loss=1.703582, Validation Loss=1.848424, Time Elapsed=308:03\n",
      "Iter=25800, Average Loss=1.673771, Validation Loss=1.674151, Time Elapsed=309:13\n",
      "Iter=25900, Average Loss=1.701125, Validation Loss=1.682593, Time Elapsed=310:24\n",
      "Iter=26000, Average Loss=1.733415, Validation Loss=1.789471, Time Elapsed=311:35\n",
      "Iter=26100, Average Loss=1.673747, Validation Loss=1.689492, Time Elapsed=312:45\n",
      "Iter=26200, Average Loss=1.677621, Validation Loss=1.825988, Time Elapsed=313:55\n",
      "Iter=26300, Average Loss=1.723377, Validation Loss=1.725063, Time Elapsed=315:06\n",
      "Iter=26400, Average Loss=1.709912, Validation Loss=1.700089, Time Elapsed=316:16\n",
      "Iter=26500, Average Loss=1.722325, Validation Loss=1.606123, Time Elapsed=317:27\n",
      "Iter=26600, Average Loss=1.727222, Validation Loss=1.696624, Time Elapsed=318:36\n",
      "Iter=26700, Average Loss=1.757794, Validation Loss=1.826027, Time Elapsed=319:48\n",
      "Iter=26800, Average Loss=1.720644, Validation Loss=1.718870, Time Elapsed=320:58\n",
      "Iter=26900, Average Loss=1.722433, Validation Loss=1.669905, Time Elapsed=322:08\n",
      "Iter=27000, Average Loss=1.719341, Validation Loss=1.597554, Time Elapsed=323:18\n",
      "Iter=27100, Average Loss=1.684822, Validation Loss=1.677666, Time Elapsed=324:28\n",
      "Iter=27200, Average Loss=1.691815, Validation Loss=1.625417, Time Elapsed=325:39\n",
      "Iter=27300, Average Loss=1.704166, Validation Loss=1.679328, Time Elapsed=326:48\n",
      "Iter=27400, Average Loss=1.696476, Validation Loss=1.714697, Time Elapsed=327:59\n",
      "Iter=27500, Average Loss=1.682938, Validation Loss=1.729401, Time Elapsed=329:09\n",
      "Iter=27600, Average Loss=1.701068, Validation Loss=1.594303, Time Elapsed=330:21\n",
      "Iter=27700, Average Loss=1.701160, Validation Loss=1.747310, Time Elapsed=331:31\n",
      "Iter=27800, Average Loss=1.688150, Validation Loss=1.757710, Time Elapsed=332:42\n",
      "Iter=27900, Average Loss=1.703627, Validation Loss=1.689456, Time Elapsed=333:52\n",
      "Iter=28000, Average Loss=1.715228, Validation Loss=1.705386, Time Elapsed=335:03\n",
      "Iter=28100, Average Loss=1.720522, Validation Loss=1.660911, Time Elapsed=336:14\n",
      "Iter=28200, Average Loss=1.721545, Validation Loss=1.657027, Time Elapsed=337:24\n",
      "Iter=28300, Average Loss=1.704786, Validation Loss=1.732074, Time Elapsed=338:35\n",
      "Iter=28400, Average Loss=1.687396, Validation Loss=1.679435, Time Elapsed=339:46\n",
      "Iter=28500, Average Loss=1.723770, Validation Loss=1.685313, Time Elapsed=340:56\n",
      "Iter=28600, Average Loss=1.647177, Validation Loss=1.701364, Time Elapsed=342:06\n",
      "Iter=28700, Average Loss=1.683042, Validation Loss=1.785099, Time Elapsed=343:17\n",
      "Iter=28800, Average Loss=1.698004, Validation Loss=1.644422, Time Elapsed=344:27\n",
      "Iter=28900, Average Loss=1.679547, Validation Loss=1.717063, Time Elapsed=345:38\n",
      "Iter=29000, Average Loss=1.687701, Validation Loss=1.679204, Time Elapsed=346:48\n",
      "Iter=29100, Average Loss=1.697026, Validation Loss=1.686253, Time Elapsed=347:59\n",
      "Iter=29200, Average Loss=1.698840, Validation Loss=1.715122, Time Elapsed=349:10\n",
      "Iter=29300, Average Loss=1.680331, Validation Loss=1.668635, Time Elapsed=350:21\n",
      "Iter=29400, Average Loss=1.661601, Validation Loss=1.675760, Time Elapsed=351:32\n",
      "Iter=29500, Average Loss=1.673299, Validation Loss=1.640197, Time Elapsed=352:42\n",
      "Iter=29600, Average Loss=1.685915, Validation Loss=1.625566, Time Elapsed=353:53\n",
      "Iter=29700, Average Loss=1.655081, Validation Loss=1.619966, Time Elapsed=355:04\n",
      "Iter=29800, Average Loss=1.664957, Validation Loss=1.575293, Time Elapsed=356:14\n",
      "Iter=29900, Average Loss=1.667095, Validation Loss=1.622003, Time Elapsed=357:25\n",
      "Iter=30000, Average Loss=1.673206, Validation Loss=1.726258, Time Elapsed=358:35\n",
      "Iter=30100, Average Loss=1.699232, Validation Loss=1.688094, Time Elapsed=359:46\n",
      "Iter=30200, Average Loss=1.701142, Validation Loss=1.741163, Time Elapsed=360:57\n",
      "Iter=30300, Average Loss=1.695904, Validation Loss=1.601130, Time Elapsed=362:07\n",
      "Iter=30400, Average Loss=1.706996, Validation Loss=1.707482, Time Elapsed=363:18\n",
      "Iter=30500, Average Loss=1.691923, Validation Loss=1.721584, Time Elapsed=364:28\n",
      "Iter=30600, Average Loss=1.678124, Validation Loss=1.726775, Time Elapsed=365:39\n",
      "Iter=30700, Average Loss=1.655437, Validation Loss=1.796120, Time Elapsed=366:49\n",
      "Iter=30800, Average Loss=1.691644, Validation Loss=1.728487, Time Elapsed=368:00\n"
     ]
    },
    {
     "name": "stdout",
     "output_type": "stream",
     "text": [
      "Iter=30900, Average Loss=1.669138, Validation Loss=1.714850, Time Elapsed=369:10\n",
      "Iter=31000, Average Loss=1.688673, Validation Loss=1.682853, Time Elapsed=370:21\n",
      "Iter=31100, Average Loss=1.684295, Validation Loss=1.749337, Time Elapsed=371:32\n",
      "Iter=31200, Average Loss=1.673451, Validation Loss=1.713938, Time Elapsed=372:42\n",
      "Iter=31300, Average Loss=1.686937, Validation Loss=1.661350, Time Elapsed=373:52\n",
      "Iter=31400, Average Loss=1.676552, Validation Loss=1.690817, Time Elapsed=375:03\n",
      "Iter=31500, Average Loss=1.666202, Validation Loss=1.602875, Time Elapsed=376:13\n",
      "Iter=31600, Average Loss=1.691198, Validation Loss=1.655186, Time Elapsed=377:24\n",
      "Iter=31700, Average Loss=1.671904, Validation Loss=1.631426, Time Elapsed=378:34\n",
      "Iter=31800, Average Loss=1.650268, Validation Loss=1.648820, Time Elapsed=379:46\n",
      "Iter=31900, Average Loss=1.673326, Validation Loss=1.636746, Time Elapsed=380:56\n",
      "Iter=32000, Average Loss=1.663419, Validation Loss=1.676064, Time Elapsed=382:06\n",
      "Iter=32100, Average Loss=1.689897, Validation Loss=1.747424, Time Elapsed=383:16\n",
      "Iter=32200, Average Loss=1.662500, Validation Loss=1.731878, Time Elapsed=384:27\n",
      "Iter=32300, Average Loss=1.683278, Validation Loss=1.668835, Time Elapsed=385:38\n",
      "Iter=32400, Average Loss=1.642440, Validation Loss=1.637613, Time Elapsed=386:49\n",
      "Iter=32500, Average Loss=1.641645, Validation Loss=1.731256, Time Elapsed=387:59\n",
      "Iter=32600, Average Loss=1.672732, Validation Loss=1.638505, Time Elapsed=389:09\n",
      "Iter=32700, Average Loss=1.684661, Validation Loss=1.706806, Time Elapsed=390:20\n",
      "Iter=32800, Average Loss=1.656897, Validation Loss=1.686864, Time Elapsed=391:31\n",
      "Iter=32900, Average Loss=1.669417, Validation Loss=1.739419, Time Elapsed=392:41\n",
      "Iter=33000, Average Loss=1.681447, Validation Loss=1.631851, Time Elapsed=393:52\n",
      "Iter=33100, Average Loss=1.683896, Validation Loss=1.715626, Time Elapsed=395:03\n",
      "Iter=33200, Average Loss=1.683519, Validation Loss=1.707524, Time Elapsed=396:15\n",
      "Iter=33300, Average Loss=1.641411, Validation Loss=1.690085, Time Elapsed=397:26\n",
      "Iter=33400, Average Loss=1.674727, Validation Loss=1.631503, Time Elapsed=398:35\n",
      "Iter=33500, Average Loss=1.664443, Validation Loss=1.703742, Time Elapsed=399:46\n",
      "Iter=33600, Average Loss=1.665100, Validation Loss=1.649933, Time Elapsed=400:56\n",
      "Iter=33700, Average Loss=1.672000, Validation Loss=1.643107, Time Elapsed=402:07\n",
      "Iter=33800, Average Loss=1.650711, Validation Loss=1.637626, Time Elapsed=403:17\n",
      "Iter=33900, Average Loss=1.635063, Validation Loss=1.714272, Time Elapsed=404:27\n",
      "Iter=34000, Average Loss=1.653048, Validation Loss=1.664384, Time Elapsed=405:38\n",
      "Iter=34100, Average Loss=1.656062, Validation Loss=1.691601, Time Elapsed=406:48\n",
      "Iter=34200, Average Loss=1.685412, Validation Loss=1.649128, Time Elapsed=407:59\n",
      "Iter=34300, Average Loss=1.686971, Validation Loss=1.605782, Time Elapsed=409:09\n",
      "Iter=34400, Average Loss=1.640856, Validation Loss=1.662034, Time Elapsed=410:20\n",
      "Iter=34500, Average Loss=1.669841, Validation Loss=1.689545, Time Elapsed=411:30\n",
      "Iter=34600, Average Loss=1.640279, Validation Loss=1.659121, Time Elapsed=412:40\n",
      "Iter=34700, Average Loss=1.665260, Validation Loss=1.648180, Time Elapsed=413:50\n",
      "Iter=34800, Average Loss=1.665559, Validation Loss=1.651605, Time Elapsed=415:01\n",
      "Iter=34900, Average Loss=1.690512, Validation Loss=1.721432, Time Elapsed=416:11\n",
      "Iter=35000, Average Loss=1.642161, Validation Loss=1.689535, Time Elapsed=417:22\n",
      "Iter=35100, Average Loss=1.684911, Validation Loss=1.707763, Time Elapsed=418:32\n",
      "Iter=35200, Average Loss=1.658507, Validation Loss=1.700194, Time Elapsed=419:42\n",
      "Iter=35300, Average Loss=1.663653, Validation Loss=1.663464, Time Elapsed=420:53\n",
      "Iter=35400, Average Loss=1.674124, Validation Loss=1.628924, Time Elapsed=422:04\n",
      "Iter=35500, Average Loss=1.653484, Validation Loss=1.641601, Time Elapsed=423:15\n",
      "Iter=35600, Average Loss=1.659785, Validation Loss=1.660568, Time Elapsed=424:25\n",
      "Iter=35700, Average Loss=1.683692, Validation Loss=1.892232, Time Elapsed=425:37\n",
      "Iter=35800, Average Loss=1.682895, Validation Loss=1.692843, Time Elapsed=426:47\n",
      "Iter=35900, Average Loss=1.679551, Validation Loss=1.683871, Time Elapsed=427:57\n",
      "Iter=36000, Average Loss=1.646513, Validation Loss=1.741490, Time Elapsed=429:08\n",
      "Iter=36100, Average Loss=1.656785, Validation Loss=1.664234, Time Elapsed=430:19\n",
      "Iter=36200, Average Loss=1.641894, Validation Loss=1.710912, Time Elapsed=431:30\n",
      "Iter=36300, Average Loss=1.665774, Validation Loss=1.740988, Time Elapsed=432:41\n",
      "Iter=36400, Average Loss=1.625499, Validation Loss=1.721584, Time Elapsed=433:51\n",
      "Iter=36500, Average Loss=1.673986, Validation Loss=1.659910, Time Elapsed=435:02\n",
      "Iter=36600, Average Loss=1.646899, Validation Loss=1.565545, Time Elapsed=436:12\n",
      "Iter=36700, Average Loss=1.679879, Validation Loss=1.742326, Time Elapsed=437:23\n",
      "Iter=36800, Average Loss=1.663701, Validation Loss=1.662991, Time Elapsed=438:35\n",
      "Iter=36900, Average Loss=1.657169, Validation Loss=1.705852, Time Elapsed=439:46\n",
      "Iter=37000, Average Loss=1.648982, Validation Loss=1.621760, Time Elapsed=440:56\n",
      "Iter=37100, Average Loss=1.620604, Validation Loss=1.716735, Time Elapsed=442:07\n",
      "Iter=37200, Average Loss=1.667970, Validation Loss=1.645508, Time Elapsed=443:18\n",
      "Iter=37300, Average Loss=1.657559, Validation Loss=1.740195, Time Elapsed=444:27\n",
      "Iter=37400, Average Loss=1.668562, Validation Loss=1.673687, Time Elapsed=445:39\n",
      "Iter=37500, Average Loss=1.633163, Validation Loss=1.657102, Time Elapsed=446:49\n",
      "Iter=37600, Average Loss=1.666891, Validation Loss=1.670822, Time Elapsed=447:59\n",
      "Iter=37700, Average Loss=1.655225, Validation Loss=1.632965, Time Elapsed=449:10\n",
      "Iter=37800, Average Loss=1.651153, Validation Loss=1.633189, Time Elapsed=450:20\n",
      "Iter=37900, Average Loss=1.633525, Validation Loss=1.636309, Time Elapsed=451:31\n",
      "Iter=38000, Average Loss=1.661919, Validation Loss=1.660454, Time Elapsed=452:41\n",
      "Iter=38100, Average Loss=1.625623, Validation Loss=1.593943, Time Elapsed=453:52\n",
      "Iter=38200, Average Loss=1.631223, Validation Loss=1.642981, Time Elapsed=455:03\n",
      "Iter=38300, Average Loss=1.645869, Validation Loss=1.687461, Time Elapsed=456:14\n",
      "Iter=38400, Average Loss=1.660538, Validation Loss=1.712655, Time Elapsed=457:25\n",
      "Iter=38500, Average Loss=1.678472, Validation Loss=1.705547, Time Elapsed=458:35\n",
      "Iter=38600, Average Loss=1.663301, Validation Loss=1.646863, Time Elapsed=459:46\n",
      "Iter=38700, Average Loss=1.635125, Validation Loss=1.579352, Time Elapsed=460:56\n",
      "Iter=38800, Average Loss=1.664469, Validation Loss=1.682547, Time Elapsed=462:07\n",
      "Iter=38900, Average Loss=1.669763, Validation Loss=1.716653, Time Elapsed=463:17\n",
      "Iter=39000, Average Loss=1.652170, Validation Loss=1.604181, Time Elapsed=464:28\n",
      "Iter=39100, Average Loss=1.656333, Validation Loss=1.691676, Time Elapsed=465:39\n",
      "Iter=39200, Average Loss=1.632074, Validation Loss=1.699844, Time Elapsed=466:49\n",
      "Iter=39300, Average Loss=1.653310, Validation Loss=1.680930, Time Elapsed=467:59\n",
      "Iter=39400, Average Loss=1.670001, Validation Loss=1.596503, Time Elapsed=469:10\n",
      "Iter=39500, Average Loss=1.640841, Validation Loss=1.637729, Time Elapsed=470:21\n",
      "Iter=39600, Average Loss=1.656636, Validation Loss=1.643673, Time Elapsed=471:31\n",
      "Iter=39700, Average Loss=1.641647, Validation Loss=1.680386, Time Elapsed=472:42\n",
      "Iter=39800, Average Loss=1.631567, Validation Loss=1.644519, Time Elapsed=473:52\n",
      "Iter=39900, Average Loss=1.625553, Validation Loss=1.736969, Time Elapsed=475:04\n",
      "Iter=40000, Average Loss=1.680600, Validation Loss=1.667591, Time Elapsed=476:14\n",
      "Iter=40100, Average Loss=1.645639, Validation Loss=1.693093, Time Elapsed=477:25\n",
      "Iter=40200, Average Loss=1.660157, Validation Loss=1.656529, Time Elapsed=478:35\n",
      "Iter=40300, Average Loss=1.671323, Validation Loss=1.724998, Time Elapsed=479:46\n",
      "Iter=40400, Average Loss=1.616104, Validation Loss=1.607871, Time Elapsed=480:57\n",
      "Iter=40500, Average Loss=1.644614, Validation Loss=1.748036, Time Elapsed=482:08\n",
      "Iter=40600, Average Loss=1.633618, Validation Loss=1.658281, Time Elapsed=483:18\n",
      "Iter=40700, Average Loss=1.621619, Validation Loss=1.660261, Time Elapsed=484:29\n",
      "Iter=40800, Average Loss=1.668614, Validation Loss=1.721631, Time Elapsed=485:41\n",
      "Iter=40900, Average Loss=1.655112, Validation Loss=1.658536, Time Elapsed=486:51\n",
      "Iter=41000, Average Loss=1.635219, Validation Loss=1.692753, Time Elapsed=488:02\n"
     ]
    },
    {
     "name": "stdout",
     "output_type": "stream",
     "text": [
      "Iter=41100, Average Loss=1.652407, Validation Loss=1.630671, Time Elapsed=489:12\n",
      "Iter=41200, Average Loss=1.654954, Validation Loss=1.664773, Time Elapsed=490:23\n",
      "Iter=41300, Average Loss=1.638912, Validation Loss=1.676587, Time Elapsed=491:35\n",
      "Iter=41400, Average Loss=1.616731, Validation Loss=1.669129, Time Elapsed=492:45\n",
      "Iter=41500, Average Loss=1.632208, Validation Loss=1.633293, Time Elapsed=493:58\n",
      "Iter=41600, Average Loss=1.641039, Validation Loss=1.659536, Time Elapsed=495:09\n",
      "Iter=41700, Average Loss=1.653960, Validation Loss=1.618343, Time Elapsed=496:19\n",
      "Iter=41800, Average Loss=1.649605, Validation Loss=1.625218, Time Elapsed=497:30\n",
      "Iter=41900, Average Loss=1.669033, Validation Loss=1.670308, Time Elapsed=498:41\n",
      "Iter=42000, Average Loss=1.660721, Validation Loss=1.752330, Time Elapsed=499:52\n",
      "Iter=42100, Average Loss=1.663115, Validation Loss=1.639677, Time Elapsed=501:02\n",
      "Iter=42200, Average Loss=1.646608, Validation Loss=1.674392, Time Elapsed=502:13\n",
      "Iter=42300, Average Loss=1.650127, Validation Loss=1.640043, Time Elapsed=503:24\n",
      "Iter=42400, Average Loss=1.636004, Validation Loss=1.666016, Time Elapsed=504:34\n",
      "Iter=42500, Average Loss=1.638453, Validation Loss=1.675581, Time Elapsed=505:45\n",
      "Iter=42600, Average Loss=1.649420, Validation Loss=1.614111, Time Elapsed=506:55\n",
      "Iter=42700, Average Loss=1.643787, Validation Loss=1.716107, Time Elapsed=508:06\n",
      "Iter=42800, Average Loss=1.610520, Validation Loss=1.653760, Time Elapsed=509:17\n",
      "Iter=42900, Average Loss=1.628172, Validation Loss=1.509779, Time Elapsed=510:27\n",
      "Iter=43000, Average Loss=1.642908, Validation Loss=1.711508, Time Elapsed=511:38\n",
      "Iter=43100, Average Loss=1.629235, Validation Loss=1.635970, Time Elapsed=512:49\n",
      "Iter=43200, Average Loss=1.628558, Validation Loss=1.632217, Time Elapsed=514:00\n",
      "Iter=43300, Average Loss=1.653918, Validation Loss=1.749389, Time Elapsed=515:12\n",
      "Iter=43400, Average Loss=1.639746, Validation Loss=1.721014, Time Elapsed=516:22\n",
      "Iter=43500, Average Loss=1.665006, Validation Loss=1.574867, Time Elapsed=517:33\n",
      "Iter=43600, Average Loss=1.657007, Validation Loss=1.614073, Time Elapsed=518:43\n",
      "Iter=43700, Average Loss=1.635615, Validation Loss=1.717135, Time Elapsed=519:56\n",
      "Iter=43800, Average Loss=1.610509, Validation Loss=1.652697, Time Elapsed=521:07\n",
      "Iter=43900, Average Loss=1.627782, Validation Loss=1.655165, Time Elapsed=522:17\n",
      "Iter=44000, Average Loss=1.639725, Validation Loss=1.600430, Time Elapsed=523:27\n",
      "Iter=44100, Average Loss=1.652417, Validation Loss=1.667687, Time Elapsed=524:38\n",
      "Iter=44200, Average Loss=1.625226, Validation Loss=1.650376, Time Elapsed=525:49\n",
      "Iter=44300, Average Loss=1.661885, Validation Loss=1.652422, Time Elapsed=526:59\n",
      "Iter=44400, Average Loss=1.643383, Validation Loss=1.655716, Time Elapsed=528:09\n",
      "Iter=44500, Average Loss=1.614384, Validation Loss=1.608495, Time Elapsed=529:20\n",
      "Iter=44600, Average Loss=1.633313, Validation Loss=1.587723, Time Elapsed=530:31\n",
      "Iter=44700, Average Loss=1.644386, Validation Loss=1.618981, Time Elapsed=531:41\n",
      "Iter=44800, Average Loss=1.625764, Validation Loss=1.655915, Time Elapsed=532:52\n",
      "Iter=44900, Average Loss=1.612210, Validation Loss=1.635133, Time Elapsed=534:02\n",
      "Iter=45000, Average Loss=1.647308, Validation Loss=1.594842, Time Elapsed=535:14\n",
      "Iter=45100, Average Loss=1.664367, Validation Loss=1.710739, Time Elapsed=536:24\n",
      "Iter=45200, Average Loss=1.647243, Validation Loss=1.711769, Time Elapsed=537:34\n",
      "Iter=45300, Average Loss=1.665072, Validation Loss=1.603461, Time Elapsed=538:45\n",
      "Iter=45400, Average Loss=1.623662, Validation Loss=1.661120, Time Elapsed=539:56\n",
      "Iter=45500, Average Loss=1.616040, Validation Loss=1.691360, Time Elapsed=541:06\n",
      "Iter=45600, Average Loss=1.670185, Validation Loss=1.671179, Time Elapsed=542:17\n",
      "Iter=45700, Average Loss=1.640157, Validation Loss=1.722294, Time Elapsed=543:27\n",
      "Iter=45800, Average Loss=1.629913, Validation Loss=1.670228, Time Elapsed=544:38\n",
      "Iter=45900, Average Loss=1.663172, Validation Loss=1.680909, Time Elapsed=545:49\n",
      "Iter=46000, Average Loss=1.655860, Validation Loss=1.653344, Time Elapsed=546:59\n",
      "Iter=46100, Average Loss=1.617471, Validation Loss=1.664083, Time Elapsed=548:10\n",
      "Iter=46200, Average Loss=1.644505, Validation Loss=1.662104, Time Elapsed=549:20\n",
      "Iter=46300, Average Loss=1.648242, Validation Loss=1.643575, Time Elapsed=550:31\n",
      "Iter=46400, Average Loss=1.640120, Validation Loss=1.635786, Time Elapsed=551:43\n",
      "Iter=46500, Average Loss=1.619256, Validation Loss=1.770085, Time Elapsed=552:53\n",
      "Iter=46600, Average Loss=1.642778, Validation Loss=1.570863, Time Elapsed=554:03\n",
      "Iter=46700, Average Loss=1.635419, Validation Loss=1.605008, Time Elapsed=555:14\n",
      "Iter=46800, Average Loss=1.615158, Validation Loss=1.649946, Time Elapsed=556:24\n",
      "Iter=46900, Average Loss=1.640967, Validation Loss=1.664496, Time Elapsed=557:34\n",
      "Iter=47000, Average Loss=1.662442, Validation Loss=1.638883, Time Elapsed=558:45\n",
      "Iter=47100, Average Loss=1.641883, Validation Loss=1.721120, Time Elapsed=559:56\n",
      "Iter=47200, Average Loss=1.613489, Validation Loss=1.631988, Time Elapsed=561:07\n",
      "Iter=47300, Average Loss=1.603602, Validation Loss=1.759486, Time Elapsed=562:21\n",
      "Iter=47400, Average Loss=1.626658, Validation Loss=1.742616, Time Elapsed=563:32\n",
      "Iter=47500, Average Loss=1.636203, Validation Loss=1.660740, Time Elapsed=564:43\n",
      "Iter=47600, Average Loss=1.644968, Validation Loss=1.663757, Time Elapsed=565:53\n",
      "Iter=47700, Average Loss=1.644373, Validation Loss=1.632521, Time Elapsed=567:03\n",
      "Iter=47800, Average Loss=1.618206, Validation Loss=1.660355, Time Elapsed=568:13\n",
      "Iter=47900, Average Loss=1.639898, Validation Loss=1.664088, Time Elapsed=569:24\n",
      "Iter=48000, Average Loss=1.621269, Validation Loss=1.570281, Time Elapsed=570:35\n",
      "Iter=48100, Average Loss=1.670625, Validation Loss=1.679139, Time Elapsed=571:46\n",
      "Iter=48200, Average Loss=1.602433, Validation Loss=1.647655, Time Elapsed=572:56\n",
      "Iter=48300, Average Loss=1.623620, Validation Loss=1.571494, Time Elapsed=574:07\n",
      "Iter=48400, Average Loss=1.613964, Validation Loss=1.721698, Time Elapsed=575:18\n",
      "Iter=48500, Average Loss=1.636708, Validation Loss=1.593828, Time Elapsed=576:28\n",
      "Iter=48600, Average Loss=1.633112, Validation Loss=1.568666, Time Elapsed=577:39\n",
      "Iter=48700, Average Loss=1.577991, Validation Loss=1.554309, Time Elapsed=578:49\n",
      "Iter=48800, Average Loss=1.651937, Validation Loss=1.739537, Time Elapsed=580:00\n",
      "Iter=48900, Average Loss=1.604548, Validation Loss=1.669967, Time Elapsed=581:10\n",
      "Iter=49000, Average Loss=1.672552, Validation Loss=1.635252, Time Elapsed=582:21\n",
      "Iter=49100, Average Loss=1.661802, Validation Loss=1.667535, Time Elapsed=583:31\n",
      "Iter=49200, Average Loss=1.635406, Validation Loss=1.613364, Time Elapsed=584:42\n",
      "Iter=49300, Average Loss=1.620743, Validation Loss=1.670156, Time Elapsed=585:53\n",
      "Iter=49400, Average Loss=1.637788, Validation Loss=1.495743, Time Elapsed=587:03\n",
      "Iter=49500, Average Loss=1.587134, Validation Loss=1.646067, Time Elapsed=588:14\n",
      "Iter=49600, Average Loss=1.644707, Validation Loss=1.638374, Time Elapsed=589:25\n",
      "Iter=49700, Average Loss=1.627835, Validation Loss=1.650356, Time Elapsed=590:36\n",
      "Iter=49800, Average Loss=1.612264, Validation Loss=1.720919, Time Elapsed=591:47\n",
      "Iter=49900, Average Loss=1.623304, Validation Loss=1.526740, Time Elapsed=592:57\n",
      "Iter=50000, Average Loss=1.611584, Validation Loss=1.622765, Time Elapsed=594:08\n"
     ]
    }
   ],
   "source": [
    "training_loss_list = []\n",
    "validation_loss_list = []\n",
    "time_elapsed_list = []\n",
    "\n",
    "init = tf.global_variables_initializer()\n",
    "session.run(init)\n",
    "step = 0\n",
    "loss_total = 0\n",
    "\n",
    "start_time = time.time()\n",
    "\n",
    "while step < training_iters:\n",
    "    start_a = time.time()\n",
    "    \n",
    "    batch_x, batch_y = get_batch(training_data, batch_size)\n",
    "    _, loss = session.run([optimizer, cost], feed_dict={x: batch_x, y: batch_y})\n",
    "    loss_total += loss\n",
    "    \n",
    "    if step % validation_step == 0:\n",
    "        batch_x_validation, batch_y_validation = get_batch(validation_data, N_VALIDATION_SET)\n",
    "        loss_validation = session.run([cost_validation], feed_dict={x_validation: batch_x_validation, y_validation: batch_y_validation})[0]\n",
    "    \n",
    "    training_loss_list.append(loss)\n",
    "    validation_loss_list.append(loss_validation)\n",
    "    time_elapsed = seconds_to_minsecstr(int(time.time()-start_time))\n",
    "    time_elapsed_list.append(time_elapsed)\n",
    "    \n",
    "    if (step+1) % display_step == 0:\n",
    "        display = \"Iter=\" + str(step+1) + \", Average Loss={:.6f}, Validation Loss={:.6f}, Time Elapsed={}\".format(\n",
    "            loss_total/display_step, loss_validation, time_elapsed)\n",
    "        print(display)\n",
    "        loss_total = 0\n",
    "        loss_validation_total = 0\n",
    "    step += 1"
   ]
  },
  {
   "cell_type": "markdown",
   "metadata": {},
   "source": [
    "### Plots"
   ]
  },
  {
   "cell_type": "code",
   "execution_count": 27,
   "metadata": {
    "scrolled": false
   },
   "outputs": [
    {
     "data": {
      "image/png": "[encoded data removed]",
      "text/plain": [
       "<matplotlib.figure.Figure at 0x16aec9ba8>"
      ]
     },
     "metadata": {},
     "output_type": "display_data"
    }
   ],
   "source": [
    "plt.plot(training_loss_list, label='Training loss')\n",
    "plt.plot(validation_loss_list, label='Validation loss')\n",
    "plt.xlabel('Iteration')\n",
    "plt.title('Training/Validation loss over iterations')\n",
    "plt.legend()\n",
    "plt.show()"
   ]
  },
  {
   "cell_type": "markdown",
   "metadata": {},
   "source": [
    "### Create log file"
   ]
  },
  {
   "cell_type": "code",
   "execution_count": 28,
   "metadata": {},
   "outputs": [],
   "source": [
    "logfile_directory = 'logs/'"
   ]
  },
  {
   "cell_type": "code",
   "execution_count": 29,
   "metadata": {},
   "outputs": [
    {
     "data": {
      "text/plain": [
       "(1.620705, 46680, 1.5883251, 1.6285977)"
      ]
     },
     "execution_count": 29,
     "metadata": {},
     "output_type": "execute_result"
    }
   ],
   "source": [
    "validation_loss_list = np.array(validation_loss_list)\n",
    "min_valid_loss = np.inf\n",
    "min_valid_loss_iteration = -1\n",
    "for i in range(validation_step*10, len(validation_loss_list)-validation_step*10)[::validation_step]:\n",
    "    valid_loss_mean = np.nanmean(validation_loss_list[i-validation_step*10:i+validation_step*10]) # smoothed validation mean\n",
    "    if valid_loss_mean < min_valid_loss:\n",
    "        min_valid_loss = valid_loss_mean\n",
    "        min_valid_loss_iteration = i\n",
    "        \n",
    "train_loss_mean = np.nanmean(np.array(np.array(training_loss_list)[-50:]))\n",
    "valid_loss_mean = np.nanmean(np.array(np.array(validation_loss_list)[-50:]))\n",
    "train_loss_mean, valid_loss_mean\n",
    "\n",
    "min_valid_loss, min_valid_loss_iteration, train_loss_mean, valid_loss_mean"
   ]
  },
  {
   "cell_type": "code",
   "execution_count": 30,
   "metadata": {},
   "outputs": [
    {
     "data": {
      "text/plain": [
       "'Logfile (Date=2017-11-22 13.35, MinValidLoss=1.62, TrainLoss=1.59, Iterations=50000).txt'"
      ]
     },
     "execution_count": 30,
     "metadata": {},
     "output_type": "execute_result"
    }
   ],
   "source": [
    "date = time.strftime(\"%Y-%m-%d %H.%M\")\n",
    "logfile_name =\"Logfile (Date={}, MinValidLoss={:.2f}, TrainLoss={:.2f}, Iterations={}).txt\". \\\n",
    "    format(date, min_valid_loss, train_loss_mean, len(validation_loss_list))\n",
    "logfile_name"
   ]
  },
  {
   "cell_type": "code",
   "execution_count": 31,
   "metadata": {},
   "outputs": [],
   "source": [
    "logfile = open(logfile_directory + logfile_name, \"w\")\n",
    "\n",
    "logfile.write(\"Training loss={:.6f}\\n\".format(train_loss_mean))\n",
    "logfile.write(\"Validation loss={:.6f}\\n\".format(valid_loss_mean))\n",
    "logfile.write(\"Min Validation loss={:.6f}\\n\".format(min_valid_loss))\n",
    "logfile.write(\"Iteration of min validation loss={}\\n\\n\".format(min_valid_loss_iteration))\n",
    "\n",
    "logfile.write(\"Iterations trained={}\\n\".format(len(time_elapsed_list)))\n",
    "logfile.write(\"Duration={}\\n\\n\".format(time_elapsed_list[-1]))\n",
    "\n",
    "logfile.write(\"Number of training examples={}\\n\".format(len(training_data)))\n",
    "logfile.write(\"Number of validation examples={}\\n\\n\".format(len(validation_data)))\n",
    "\n",
    "\n",
    "logfile.write(\"Batch size={}\\n\".format(batch_size))\n",
    "logfile.write(\"Learning rate={:.6f}\\n\".format(learning_rate))\n",
    "logfile.write(\"Number of input (T)={}\\n\\n\".format(n_input))\n",
    "\n",
    "logfile.write(\"Number of hidden layers={}\\n\".format(n_layers))\n",
    "logfile.write(\"Number of hidden units per year={}\\n\\n\".format(n_hidden))\n",
    "\n",
    "for i in range(len(training_loss_list)):\n",
    "    logfile.write(\"Iter={}, Training Loss={:.6f}, Validation Loss={:.6f}, Time Elapsed={}\\n\".format(\n",
    "            (i+1), training_loss_list[i], validation_loss_list[i], time_elapsed_list[i]))\n",
    "    \n",
    "logfile.close()"
   ]
  },
  {
   "cell_type": "markdown",
   "metadata": {},
   "source": [
    "### Generate music from trained model"
   ]
  },
  {
   "cell_type": "code",
   "execution_count": 231,
   "metadata": {},
   "outputs": [],
   "source": [
    "N_GENERATED_NOTE_VECTORS = 1000\n",
    "N_STARTING_NOTES = 10\n",
    "temperature = 0.9"
   ]
  },
  {
   "cell_type": "code",
   "execution_count": 232,
   "metadata": {},
   "outputs": [],
   "source": [
    "state_placeholder = tf.placeholder(tf.float32, [n_layers, 2, 1, n_hidden])\n",
    "l = tf.unstack(state_placeholder, 2, 0)\n",
    "rnn_tuple_state = tuple([tf.nn.rnn_cell.LSTMStateTuple(l[i][0], l[i][1]) for i in range(n_layers)])\n",
    "\n",
    "outputs_generation, states_generation = rnn.static_rnn(rnn_cell, [x_generation], \n",
    "                                                       initial_state=rnn_tuple_state, dtype=tf.float32)\n",
    "\n",
    "logits_generation = tf.nn.xw_plus_b(outputs_generation[0], softmax_w, softmax_b)"
   ]
  },
  {
   "cell_type": "code",
   "execution_count": 233,
   "metadata": {},
   "outputs": [
    {
     "name": "stdout",
     "output_type": "stream",
     "text": [
      "34527\n",
      "mm3sprkm.mid\n"
     ]
    }
   ],
   "source": [
    "seed_notes = []\n",
    "training_data_index = int(len(training_data)*np.random.random())\n",
    "for i in range(N_STARTING_NOTES):\n",
    "    seed_note = np.eye(vocab_size)[training_data[training_data_index][i]]\n",
    "    seed_note = np.reshape(seed_note, [1, vocab_size])\n",
    "    seed_notes.append(seed_note)\n",
    "print(training_data_index)\n",
    "print(training_data_labels[training_data_index%5644])"
   ]
  },
  {
   "cell_type": "code",
   "execution_count": 234,
   "metadata": {
    "scrolled": false
   },
   "outputs": [
    {
     "name": "stdout",
     "output_type": "stream",
     "text": [
      "Previous note: [ 301.]\n",
      "Posterior probability: [  2.10792304e-11   1.78601079e-12   3.42092088e-12   1.88145181e-12]\n"
     ]
    },
    {
     "data": {
      "image/png": "[encoded data removed]",
      "text/plain": [
       "<matplotlib.figure.Figure at 0x16c27fe80>"
      ]
     },
     "metadata": {},
     "output_type": "display_data"
    },
    {
     "name": "stdout",
     "output_type": "stream",
     "text": [
      "Previous note: [ 685.]\n",
      "Posterior probability: [  9.04698122e-11   5.89637783e-11   4.69063052e-11   4.80896017e-11]\n"
     ]
    },
    {
     "data": {
      "image/png": "[encoded data removed]",
      "text/plain": [
       "<matplotlib.figure.Figure at 0x16e501940>"
      ]
     },
     "metadata": {},
     "output_type": "display_data"
    },
    {
     "name": "stdout",
     "output_type": "stream",
     "text": [
      "Previous note: [ 768.]\n",
      "Posterior probability: [  4.16826751e-09   1.73581705e-09   1.24745603e-09   1.52563662e-09]\n"
     ]
    },
    {
     "data": {
      "image/png": "[encoded data removed]",
      "text/plain": [
       "<matplotlib.figure.Figure at 0x16e7969e8>"
      ]
     },
     "metadata": {},
     "output_type": "display_data"
    },
    {
     "name": "stdout",
     "output_type": "stream",
     "text": [
      "Previous note: [ 301.]\n",
      "Posterior probability: [  4.25908571e-12   2.40813511e-12   2.63302075e-12   2.57738947e-12]\n"
     ]
    },
    {
     "data": {
      "image/png": "[encoded data removed]",
      "text/plain": [
       "<matplotlib.figure.Figure at 0x16e876860>"
      ]
     },
     "metadata": {},
     "output_type": "display_data"
    }
   ],
   "source": [
    "generated_music = seed_notes\n",
    "saved_state = np.zeros((n_layers, 2, 1, n_hidden))\n",
    "for i in range(N_GENERATED_NOTE_VECTORS):\n",
    "    onehot_pred, new_state = session.run([logits_generation, states_generation], \n",
    "                                         feed_dict={x_generation: generated_music[-1], state_placeholder: saved_state})\n",
    "    saved_state = new_state\n",
    "    next_note = np.zeros(vocab_size)\n",
    "    #index = np.argmax(onehot_pred, 1) # take max probability\n",
    "    softmax_cdf = np.exp(onehot_pred[0]/temperature)/np.sum(np.exp(onehot_pred[0]/temperature))\n",
    "    \n",
    "    if i < 4:\n",
    "        print(\"Previous note:\", generated_music[-1].dot(range(vocab_size)))\n",
    "        print(\"Posterior probability:\", softmax_cdf[:4])\n",
    "        plt.plot(softmax_cdf)\n",
    "        plt.show()\n",
    "        \n",
    "    index = np.random.choice(range(vocab_size), p=softmax_cdf) # choose probabilistically\n",
    "    \n",
    "    next_note[index] = 1\n",
    "    next_note = np.reshape(next_note, [1, vocab_size])\n",
    "    \n",
    "    generated_music.append(next_note)"
   ]
  },
  {
   "cell_type": "code",
   "execution_count": 235,
   "metadata": {},
   "outputs": [
    {
     "data": {
      "text/plain": [
       "array([ 199.,  301.,  768., ...,  687.,  303.,  768.])"
      ]
     },
     "execution_count": 235,
     "metadata": {},
     "output_type": "execute_result"
    }
   ],
   "source": [
    "notes = np.array(generated_music).reshape(N_GENERATED_NOTE_VECTORS+N_STARTING_NOTES, vocab_size).dot(np.array(range(vocab_size)))\n",
    "notes"
   ]
  },
  {
   "cell_type": "markdown",
   "metadata": {},
   "source": [
    "### Convert generated music to midi"
   ]
  },
  {
   "cell_type": "code",
   "execution_count": 236,
   "metadata": {},
   "outputs": [],
   "source": [
    "def get_track_sequences(vector_sequence):\n",
    "    \"\"\"Get note sequences for each track from vector sequence output from RNN.\n",
    "\n",
    "    Args:\n",
    "       vector_sequence: List of one-hot vectors containing 128 * NUM_TRACKS note_on events, 128 * NUM_TRACKS note_off events,\n",
    "        and NUM_TIMESHIFTS timeshift events in intervals of 1/96 of a beat each.\n",
    "       \n",
    "    Returns:\n",
    "        List of track vector sequences.\n",
    "    \"\"\"\n",
    "    track_sequences = [[] for _ in range(NUM_TRACKS)]\n",
    "    start_time = 0\n",
    "    for vector in vector_sequence:\n",
    "        index = vector.index(1)\n",
    "        # vector is a time event.\n",
    "        if index >= NUM_MIDI_PITCHES * 2 * NUM_TRACKS:\n",
    "            num_beats = (index - NUM_MIDI_PITCHES * 2 * NUM_TRACKS + 1) / NUM_TIMESHIFTS\n",
    "            start_time += num_beats\n",
    "        else:\n",
    "            # vector is a note_off event.\n",
    "            if index >= NUM_MIDI_PITCHES * NUM_TRACKS:\n",
    "                note_type = 'note_off'\n",
    "                index -= NUM_MIDI_PITCHES * NUM_TRACKS\n",
    "            # vector is a note_on event.\n",
    "            else:\n",
    "                note_type = 'note_on'\n",
    "            track_num = int(index / NUM_MIDI_PITCHES)\n",
    "            note = index % NUM_MIDI_PITCHES\n",
    "            track_sequences[track_num].append({\"type\": note_type, \"note\": note, \"start_time\": start_time})\n",
    "            time_delay = 0\n",
    "            \n",
    "    return track_sequences\n",
    "    "
   ]
  },
  {
   "cell_type": "code",
   "execution_count": 237,
   "metadata": {},
   "outputs": [],
   "source": [
    "def get_midi_from_vector_sequence(track_sequences):\n",
    "    \"\"\"Get midi from track sequences.\n",
    "\n",
    "    Args:\n",
    "       track_sequences: List of vector sequences for each track.\n",
    "       \n",
    "    Returns:\n",
    "        MidiFile object.\n",
    "    \"\"\"\n",
    "    mid = mido.MidiFile()\n",
    "    tracks = [mido.MidiTrack() for _ in range(NUM_TRACKS)]\n",
    "    mid.tracks.extend(tracks)\n",
    "\n",
    "    for i, ts in enumerate(track_sequences):\n",
    "        prev_start_time = 0\n",
    "        for event in ts:\n",
    "            time = event[\"start_time\"] - prev_start_time\n",
    "            prev_start_time = event[\"start_time\"]\n",
    "            # I picked a random number for velocity.\n",
    "            mid.tracks[i].append(mido.Message(event[\"type\"], note=event[\"note\"], velocity=50,\n",
    "                                              time=int(time * TICKS_PER_BEAT)))\n",
    "    \n",
    "    return mid"
   ]
  },
  {
   "cell_type": "code",
   "execution_count": 238,
   "metadata": {},
   "outputs": [],
   "source": [
    "track_sequence = get_track_sequences([list(x[0]) for x in generated_music])"
   ]
  },
  {
   "cell_type": "code",
   "execution_count": 239,
   "metadata": {
    "scrolled": true
   },
   "outputs": [
    {
     "data": {
      "text/plain": [
       "[{'note': 71, 'start_time': 0, 'type': 'note_on'},\n",
       " {'note': 71, 'start_time': 0.25, 'type': 'note_off'},\n",
       " {'note': 72, 'start_time': 0.25, 'type': 'note_on'},\n",
       " {'note': 72, 'start_time': 0.5, 'type': 'note_off'},\n",
       " {'note': 71, 'start_time': 0.5, 'type': 'note_on'},\n",
       " {'note': 70, 'start_time': 1.0, 'type': 'note_on'},\n",
       " {'note': 70, 'start_time': 1.0, 'type': 'note_off'},\n",
       " {'note': 75, 'start_time': 1.0, 'type': 'note_on'},\n",
       " {'note': 75, 'start_time': 1.25, 'type': 'note_off'},\n",
       " {'note': 70, 'start_time': 1.25, 'type': 'note_on'},\n",
       " {'note': 70, 'start_time': 1.25, 'type': 'note_off'},\n",
       " {'note': 60, 'start_time': 1.25, 'type': 'note_on'},\n",
       " {'note': 60, 'start_time': 1.5, 'type': 'note_off'},\n",
       " {'note': 73, 'start_time': 1.5, 'type': 'note_on'},\n",
       " {'note': 54, 'start_time': 2.25, 'type': 'note_off'},\n",
       " {'note': 58, 'start_time': 2.25, 'type': 'note_off'},\n",
       " {'note': 61, 'start_time': 2.25, 'type': 'note_on'},\n",
       " {'note': 65, 'start_time': 2.25, 'type': 'note_on'},\n",
       " {'note': 61, 'start_time': 2.25, 'type': 'note_off'},\n",
       " {'note': 58, 'start_time': 2.25, 'type': 'note_on'},\n",
       " {'note': 65, 'start_time': 2.25, 'type': 'note_off'},\n",
       " {'note': 70, 'start_time': 2.25, 'type': 'note_on'},\n",
       " {'note': 70, 'start_time': 2.5, 'type': 'note_off'},\n",
       " {'note': 54, 'start_time': 2.5, 'type': 'note_on'},\n",
       " {'note': 58, 'start_time': 2.5, 'type': 'note_off'},\n",
       " {'note': 66, 'start_time': 2.5, 'type': 'note_on'},\n",
       " {'note': 66, 'start_time': 2.5, 'type': 'note_off'},\n",
       " {'note': 69, 'start_time': 2.5, 'type': 'note_on'},\n",
       " {'note': 65, 'start_time': 2.75, 'type': 'note_on'},\n",
       " {'note': 69, 'start_time': 2.75, 'type': 'note_off'},\n",
       " {'note': 65, 'start_time': 2.75, 'type': 'note_off'},\n",
       " {'note': 54, 'start_time': 2.75, 'type': 'note_on'},\n",
       " {'note': 66, 'start_time': 3.0, 'type': 'note_on'},\n",
       " {'note': 66, 'start_time': 3.0, 'type': 'note_off'},\n",
       " {'note': 69, 'start_time': 3.0, 'type': 'note_on'},\n",
       " {'note': 54, 'start_time': 3.0, 'type': 'note_off'},\n",
       " {'note': 65, 'start_time': 3.0, 'type': 'note_on'},\n",
       " {'note': 65, 'start_time': 3.25, 'type': 'note_off'},\n",
       " {'note': 69, 'start_time': 3.25, 'type': 'note_on'},\n",
       " {'note': 69, 'start_time': 3.25, 'type': 'note_off'},\n",
       " {'note': 65, 'start_time': 3.25, 'type': 'note_on'},\n",
       " {'note': 70, 'start_time': 3.5, 'type': 'note_on'},\n",
       " {'note': 65, 'start_time': 3.5, 'type': 'note_off'},\n",
       " {'note': 65, 'start_time': 3.5, 'type': 'note_on'},\n",
       " {'note': 65, 'start_time': 3.75, 'type': 'note_off'},\n",
       " {'note': 60, 'start_time': 3.75, 'type': 'note_on'},\n",
       " {'note': 60, 'start_time': 3.75, 'type': 'note_off'},\n",
       " {'note': 65, 'start_time': 3.75, 'type': 'note_on'},\n",
       " {'note': 65, 'start_time': 4.0, 'type': 'note_off'},\n",
       " {'note': 65, 'start_time': 4.0, 'type': 'note_on'},\n",
       " {'note': 65, 'start_time': 4.0, 'type': 'note_off'},\n",
       " {'note': 60, 'start_time': 4.25, 'type': 'note_on'},\n",
       " {'note': 60, 'start_time': 4.25, 'type': 'note_off'},\n",
       " {'note': 65, 'start_time': 4.25, 'type': 'note_on'},\n",
       " {'note': 65, 'start_time': 4.25, 'type': 'note_off'},\n",
       " {'note': 65, 'start_time': 4.5, 'type': 'note_on'},\n",
       " {'note': 65, 'start_time': 4.5, 'type': 'note_off'},\n",
       " {'note': 65, 'start_time': 4.5, 'type': 'note_on'},\n",
       " {'note': 65, 'start_time': 4.75, 'type': 'note_off'},\n",
       " {'note': 65, 'start_time': 4.75, 'type': 'note_on'},\n",
       " {'note': 65, 'start_time': 4.75, 'type': 'note_off'},\n",
       " {'note': 59, 'start_time': 5.0, 'type': 'note_on'},\n",
       " {'note': 59, 'start_time': 5.0, 'type': 'note_off'},\n",
       " {'note': 65, 'start_time': 5.0, 'type': 'note_on'},\n",
       " {'note': 65, 'start_time': 5.0, 'type': 'note_off'},\n",
       " {'note': 61, 'start_time': 5.25, 'type': 'note_on'},\n",
       " {'note': 61, 'start_time': 5.25, 'type': 'note_off'},\n",
       " {'note': 65, 'start_time': 5.25, 'type': 'note_on'},\n",
       " {'note': 65, 'start_time': 5.5, 'type': 'note_off'},\n",
       " {'note': 53, 'start_time': 5.5, 'type': 'note_on'},\n",
       " {'note': 53, 'start_time': 5.5, 'type': 'note_off'},\n",
       " {'note': 65, 'start_time': 5.75, 'type': 'note_on'},\n",
       " {'note': 65, 'start_time': 5.75, 'type': 'note_off'},\n",
       " {'note': 65, 'start_time': 6.0, 'type': 'note_on'},\n",
       " {'note': 65, 'start_time': 6.0, 'type': 'note_off'},\n",
       " {'note': 65, 'start_time': 6.25, 'type': 'note_on'},\n",
       " {'note': 65, 'start_time': 6.25, 'type': 'note_off'},\n",
       " {'note': 53, 'start_time': 6.5, 'type': 'note_on'},\n",
       " {'note': 53, 'start_time': 6.5, 'type': 'note_off'},\n",
       " {'note': 59, 'start_time': 6.5, 'type': 'note_on'},\n",
       " {'note': 59, 'start_time': 6.5, 'type': 'note_off'},\n",
       " {'note': 59, 'start_time': 6.75, 'type': 'note_on'},\n",
       " {'note': 59, 'start_time': 6.75, 'type': 'note_off'},\n",
       " {'note': 65, 'start_time': 7.0, 'type': 'note_on'},\n",
       " {'note': 65, 'start_time': 7.0, 'type': 'note_off'},\n",
       " {'note': 65, 'start_time': 7.25, 'type': 'note_on'},\n",
       " {'note': 65, 'start_time': 7.25, 'type': 'note_off'},\n",
       " {'note': 63, 'start_time': 7.5, 'type': 'note_on'},\n",
       " {'note': 63, 'start_time': 7.5, 'type': 'note_off'},\n",
       " {'note': 65, 'start_time': 7.5, 'type': 'note_on'},\n",
       " {'note': 65, 'start_time': 7.75, 'type': 'note_off'},\n",
       " {'note': 59, 'start_time': 8.0, 'type': 'note_on'},\n",
       " {'note': 59, 'start_time': 8.0, 'type': 'note_off'},\n",
       " {'note': 53, 'start_time': 8.0, 'type': 'note_on'},\n",
       " {'note': 53, 'start_time': 8.0, 'type': 'note_off'},\n",
       " {'note': 65, 'start_time': 8.0, 'type': 'note_on'},\n",
       " {'note': 65, 'start_time': 8.25, 'type': 'note_off'},\n",
       " {'note': 59, 'start_time': 8.25, 'type': 'note_on'},\n",
       " {'note': 59, 'start_time': 8.5, 'type': 'note_off'},\n",
       " {'note': 59, 'start_time': 8.5, 'type': 'note_on'},\n",
       " {'note': 59, 'start_time': 8.5, 'type': 'note_off'},\n",
       " {'note': 59, 'start_time': 9.0, 'type': 'note_on'},\n",
       " {'note': 59, 'start_time': 9.0, 'type': 'note_off'},\n",
       " {'note': 59, 'start_time': 9.0, 'type': 'note_on'},\n",
       " {'note': 59, 'start_time': 9.25, 'type': 'note_off'},\n",
       " {'note': 59, 'start_time': 9.25, 'type': 'note_on'},\n",
       " {'note': 59, 'start_time': 9.25, 'type': 'note_off'},\n",
       " {'note': 56, 'start_time': 9.5, 'type': 'note_on'},\n",
       " {'note': 56, 'start_time': 9.5, 'type': 'note_off'},\n",
       " {'note': 59, 'start_time': 9.5, 'type': 'note_on'},\n",
       " {'note': 59, 'start_time': 9.5, 'type': 'note_off'},\n",
       " {'note': 59, 'start_time': 9.75, 'type': 'note_on'},\n",
       " {'note': 59, 'start_time': 9.75, 'type': 'note_off'},\n",
       " {'note': 59, 'start_time': 9.75, 'type': 'note_on'},\n",
       " {'note': 59, 'start_time': 9.75, 'type': 'note_off'},\n",
       " {'note': 68, 'start_time': 10.0, 'type': 'note_on'},\n",
       " {'note': 68, 'start_time': 10.0, 'type': 'note_off'},\n",
       " {'note': 62, 'start_time': 10.25, 'type': 'note_on'},\n",
       " {'note': 62, 'start_time': 10.25, 'type': 'note_off'},\n",
       " {'note': 59, 'start_time': 10.5, 'type': 'note_on'},\n",
       " {'note': 59, 'start_time': 10.5, 'type': 'note_off'},\n",
       " {'note': 59, 'start_time': 10.75, 'type': 'note_on'},\n",
       " {'note': 59, 'start_time': 10.75, 'type': 'note_off'},\n",
       " {'note': 61, 'start_time': 11.0, 'type': 'note_on'},\n",
       " {'note': 61, 'start_time': 11.0, 'type': 'note_off'},\n",
       " {'note': 54, 'start_time': 11.25, 'type': 'note_on'},\n",
       " {'note': 54, 'start_time': 11.25, 'type': 'note_off'},\n",
       " {'note': 62, 'start_time': 11.5, 'type': 'note_on'},\n",
       " {'note': 62, 'start_time': 11.5, 'type': 'note_off'},\n",
       " {'note': 66, 'start_time': 11.75, 'type': 'note_on'},\n",
       " {'note': 66, 'start_time': 11.75, 'type': 'note_off'},\n",
       " {'note': 62, 'start_time': 12.0, 'type': 'note_on'},\n",
       " {'note': 62, 'start_time': 12.0, 'type': 'note_off'},\n",
       " {'note': 62, 'start_time': 12.25, 'type': 'note_on'},\n",
       " {'note': 62, 'start_time': 12.25, 'type': 'note_off'},\n",
       " {'note': 62, 'start_time': 12.5, 'type': 'note_on'},\n",
       " {'note': 62, 'start_time': 12.5, 'type': 'note_off'},\n",
       " {'note': 62, 'start_time': 12.75, 'type': 'note_on'},\n",
       " {'note': 62, 'start_time': 12.75, 'type': 'note_off'},\n",
       " {'note': 62, 'start_time': 13.0, 'type': 'note_on'},\n",
       " {'note': 62, 'start_time': 13.0, 'type': 'note_off'},\n",
       " {'note': 66, 'start_time': 13.25, 'type': 'note_on'},\n",
       " {'note': 66, 'start_time': 13.25, 'type': 'note_off'},\n",
       " {'note': 62, 'start_time': 13.5, 'type': 'note_on'},\n",
       " {'note': 62, 'start_time': 13.5, 'type': 'note_off'},\n",
       " {'note': 62, 'start_time': 13.75, 'type': 'note_on'},\n",
       " {'note': 62, 'start_time': 13.75, 'type': 'note_off'},\n",
       " {'note': 62, 'start_time': 14.0, 'type': 'note_on'},\n",
       " {'note': 62, 'start_time': 14.0, 'type': 'note_off'},\n",
       " {'note': 63, 'start_time': 14.25, 'type': 'note_on'},\n",
       " {'note': 63, 'start_time': 14.25, 'type': 'note_off'},\n",
       " {'note': 62, 'start_time': 14.5, 'type': 'note_on'},\n",
       " {'note': 62, 'start_time': 14.5, 'type': 'note_off'},\n",
       " {'note': 62, 'start_time': 14.75, 'type': 'note_on'},\n",
       " {'note': 62, 'start_time': 14.75, 'type': 'note_off'},\n",
       " {'note': 62, 'start_time': 15.0, 'type': 'note_on'},\n",
       " {'note': 62, 'start_time': 15.0, 'type': 'note_off'},\n",
       " {'note': 62, 'start_time': 15.25, 'type': 'note_on'},\n",
       " {'note': 62, 'start_time': 15.25, 'type': 'note_off'},\n",
       " {'note': 62, 'start_time': 15.5, 'type': 'note_on'},\n",
       " {'note': 62, 'start_time': 15.5, 'type': 'note_off'},\n",
       " {'note': 62, 'start_time': 15.75, 'type': 'note_on'},\n",
       " {'note': 62, 'start_time': 15.75, 'type': 'note_off'},\n",
       " {'note': 62, 'start_time': 16.0, 'type': 'note_on'},\n",
       " {'note': 62, 'start_time': 16.0, 'type': 'note_off'},\n",
       " {'note': 62, 'start_time': 16.25, 'type': 'note_on'},\n",
       " {'note': 62, 'start_time': 16.25, 'type': 'note_off'},\n",
       " {'note': 62, 'start_time': 16.5, 'type': 'note_on'},\n",
       " {'note': 62, 'start_time': 16.5, 'type': 'note_off'},\n",
       " {'note': 62, 'start_time': 16.75, 'type': 'note_on'},\n",
       " {'note': 62, 'start_time': 16.75, 'type': 'note_off'},\n",
       " {'note': 62, 'start_time': 17.0, 'type': 'note_on'},\n",
       " {'note': 62, 'start_time': 17.0, 'type': 'note_off'},\n",
       " {'note': 59, 'start_time': 17.25, 'type': 'note_on'},\n",
       " {'note': 59, 'start_time': 17.25, 'type': 'note_off'},\n",
       " {'note': 62, 'start_time': 17.5, 'type': 'note_on'},\n",
       " {'note': 62, 'start_time': 17.5, 'type': 'note_off'},\n",
       " {'note': 62, 'start_time': 17.75, 'type': 'note_on'},\n",
       " {'note': 62, 'start_time': 17.75, 'type': 'note_off'},\n",
       " {'note': 62, 'start_time': 18.25, 'type': 'note_on'},\n",
       " {'note': 62, 'start_time': 18.25, 'type': 'note_off'},\n",
       " {'note': 62, 'start_time': 18.5, 'type': 'note_on'},\n",
       " {'note': 62, 'start_time': 18.5, 'type': 'note_off'}]"
      ]
     },
     "execution_count": 239,
     "metadata": {},
     "output_type": "execute_result"
    }
   ],
   "source": [
    "track_sequence[1]"
   ]
  },
  {
   "cell_type": "code",
   "execution_count": 240,
   "metadata": {},
   "outputs": [
    {
     "data": {
      "text/plain": [
       "<midi file None type 1, 3 tracks, 917 messages>"
      ]
     },
     "execution_count": 240,
     "metadata": {},
     "output_type": "execute_result"
    }
   ],
   "source": [
    "midi = get_midi_from_vector_sequence(track_sequence)\n",
    "midi"
   ]
  },
  {
   "cell_type": "markdown",
   "metadata": {},
   "source": [
    "# Save midi"
   ]
  },
  {
   "cell_type": "code",
   "execution_count": 241,
   "metadata": {},
   "outputs": [],
   "source": [
    "generation_output = \"generated_music/\""
   ]
  },
  {
   "cell_type": "code",
   "execution_count": 242,
   "metadata": {},
   "outputs": [
    {
     "data": {
      "text/plain": [
       "'Generated Music (Date=2017-11-22 13.35, Temperature=0.9, Length=1000, MinValidLoss=1.62, TrainLoss=1.59, Iterations=50000)'"
      ]
     },
     "execution_count": 242,
     "metadata": {},
     "output_type": "execute_result"
    }
   ],
   "source": [
    "midi_name = \"Generated Music (Date={}, Temperature={}, Length={}, MinValidLoss={:.2f}, TrainLoss={:.2f}, Iterations={})\". \\\n",
    "    format(date, temperature, N_GENERATED_NOTE_VECTORS, min_valid_loss, train_loss_mean, len(validation_loss_list))\n",
    "midi_name"
   ]
  },
  {
   "cell_type": "code",
   "execution_count": 243,
   "metadata": {},
   "outputs": [],
   "source": [
    "midi.save(generation_output + midi_name + training_data_labels[training_data_index%5644])"
   ]
  },
  {
   "cell_type": "code",
   "execution_count": null,
   "metadata": {},
   "outputs": [],
   "source": []
  }
 ],
 "metadata": {
  "kernelspec": {
   "display_name": "Python 3",
   "language": "python",
   "name": "python3"
  },
  "language_info": {
   "codemirror_mode": {
    "name": "ipython",
    "version": 3
   },
   "file_extension": ".py",
   "mimetype": "text/x-python",
   "name": "python",
   "nbconvert_exporter": "python",
   "pygments_lexer": "ipython3",
   "version": "3.6.2"
  }
 },
 "nbformat": 4,
 "nbformat_minor": 2
}
