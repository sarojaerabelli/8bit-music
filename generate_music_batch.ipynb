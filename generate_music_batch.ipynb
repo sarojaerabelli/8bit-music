{
 "cells": [
  {
   "cell_type": "code",
   "execution_count": 1,
   "metadata": {
    "collapsed": true
   },
   "outputs": [],
   "source": [
    "import mido\n",
    "import os\n",
    "import numpy as np\n",
    "from scipy import stats\n",
    "from os import listdir\n",
    "from os.path import isfile, join\n",
    "import tensorflow as tf\n",
    "from tensorflow.contrib import rnn\n",
    "import time\n",
    "\n",
    "import matplotlib.pyplot as plt\n",
    "from pylab import rcParams\n",
    "rcParams['figure.figsize'] = (12, 8)"
   ]
  },
  {
   "cell_type": "code",
   "execution_count": 2,
   "metadata": {
    "collapsed": true
   },
   "outputs": [],
   "source": [
    "TICKS_PER_BEAT = 480\n",
    "TEMPO = int(mido.bpm2tempo(120))"
   ]
  },
  {
   "cell_type": "code",
   "execution_count": 3,
   "metadata": {
    "collapsed": true
   },
   "outputs": [],
   "source": [
    "%run get_training_data.py"
   ]
  },
  {
   "cell_type": "markdown",
   "metadata": {},
   "source": [
    "### Create training data"
   ]
  },
  {
   "cell_type": "code",
   "execution_count": 4,
   "metadata": {
    "collapsed": true
   },
   "outputs": [],
   "source": [
    "N_VALIDATION_SET = 100"
   ]
  },
  {
   "cell_type": "code",
   "execution_count": 5,
   "metadata": {
    "scrolled": true
   },
   "outputs": [
    {
     "name": "stdout",
     "output_type": "stream",
     "text": [
      " > 25/200 files loaded.\n",
      "Training data too short: Adventure_Island_II-Death.mid. len(vector)=0\n",
      "Training data too short: Adventure_Island_II-Eggplant.mid. len(vector)=0\n",
      "Training data too short: Adventure_Island_II-Game_Over.mid. len(vector)=0\n",
      "Training data too short: Adventure_Island_II-Goal.mid. len(vector)=0\n",
      " > 50/200 files loaded.\n",
      "Training data too short: Adventure_Island_II-Victory.mid. len(vector)=0\n",
      " > 75/200 files loaded.\n",
      "Training data too short: alien3sb.mid. len(vector)=0\n",
      "Training data too short: alphago.mid. len(vector)=0\n",
      "Training data too short: Amagon-Death.mid. len(vector)=0\n",
      "Training data too short: Amagon-Start_2.mid. len(vector)=0\n",
      " > 100/200 files loaded.\n",
      "Training data too short: ANTARLevel_Complete.mid. len(vector)=84\n",
      "Training data too short: Anticipation8.mid. len(vector)=0\n",
      "Training data too short: AotKT_Bomb_Disabled.mid. len(vector)=0\n",
      " > 125/200 files loaded.\n",
      "Training data too short: Athena-Over.mid. len(vector)=0\n",
      " > 150/200 files loaded.\n",
      "Training data too short: Balloon_Fight-Complete.mid. len(vector)=0\n",
      "Faulty training data: Balloon_Fight_-_Main_Theme_(Dancing_Balloon!_remix).mid. len(vector)=161\n",
      "Training data too short: Battletoads_Pause_Music.mid. len(vector)=0\n",
      " > 175/200 files loaded.\n",
      " > 200/200 files loaded.\n"
     ]
    }
   ],
   "source": [
    "# Set num training examples here. Note: actual number will be less, since some have errors\n",
    "training_data, training_data_labels = get_training_data(0, 200)"
   ]
  },
  {
   "cell_type": "code",
   "execution_count": 6,
   "metadata": {
    "collapsed": true
   },
   "outputs": [],
   "source": [
    "validation_data = training_data[:N_VALIDATION_SET]\n",
    "validation_data_labels = training_data_labels[:N_VALIDATION_SET]\n",
    "training_data = training_data[N_VALIDATION_SET:]\n",
    "training_data_labels = training_data_labels[N_VALIDATION_SET:]"
   ]
  },
  {
   "cell_type": "code",
   "execution_count": 7,
   "metadata": {
    "scrolled": true
   },
   "outputs": [
    {
     "name": "stdout",
     "output_type": "stream",
     "text": [
      "Number of training examples: 84\n"
     ]
    },
    {
     "data": {
      "text/plain": [
       "['Anticipation3.mid',\n",
       " 'Anticipation4.mid',\n",
       " 'Anticipation5.mid',\n",
       " 'Anticipation6.mid',\n",
       " 'Anticipation7.mid',\n",
       " 'Anticipation9.mid',\n",
       " 'AotKT_-_The_Secret_Stage.mid',\n",
       " 'AotKT_TomatoFactory.mid',\n",
       " 'arcadia.mid',\n",
       " 'Arcadia_-_Green_Fields.mid',\n",
       " 'archon_battle.mid',\n",
       " 'archon_title.mid',\n",
       " 'Area-5.mid',\n",
       " 'Area2.mid',\n",
       " 'arkistas-opening.mid',\n",
       " 'armadillo_casino.mid',\n",
       " 'Astyanax-Redwood.mid',\n",
       " 'Astyanax-Remlia.mid',\n",
       " 'Astyanax1.mid',\n",
       " 'Astyanax2.mid',\n",
       " 'Astyanax3.mid',\n",
       " 'astyrem.mid',\n",
       " 'Athena-Boss.mid',\n",
       " 'Athena-Cavern.mid',\n",
       " 'Athena-Forest.mid',\n",
       " 'Athena-Hell.mid',\n",
       " 'Athena-Ice.mid',\n",
       " 'Athena-Labyrinth.mid',\n",
       " 'Athena-Sea.mid',\n",
       " 'Athena-Sky.mid',\n",
       " 'Athena-Start.mid',\n",
       " 'attic.mid',\n",
       " 'Attica_-_Town_of_Elyseus.mid',\n",
       " 'B-wings_Stage.mid',\n",
       " 'B2_Stage_6.mid',\n",
       " 'baddudes-stage2.mid',\n",
       " 'baddudes_train.mid',\n",
       " 'Balloon_Fight_-_Game_Over_GS.mid',\n",
       " 'banana.mid',\n",
       " 'basement.mid',\n",
       " 'batman-fabric.mid',\n",
       " 'Batman-_Level_2.mid',\n",
       " 'Batman2_-_GothamInDanger.mid',\n",
       " 'Batman2_-_UrgentXG.mid',\n",
       " 'Batmango.mid',\n",
       " 'BatmanNESlvl3.mid',\n",
       " 'BatmanNESlvl4.mid',\n",
       " 'batmanreturn.mid',\n",
       " 'batmanreturn2.mid',\n",
       " 'Batman_-_Stage1XG.mid',\n",
       " 'battle.mid',\n",
       " 'Battletoads-Pause.mid',\n",
       " 'Battletoads_-_Boss.mid',\n",
       " 'battletoads_level1.mid',\n",
       " 'battletoads_turbo.mid',\n",
       " 'Battletoads_T_Tunnel_P1_SP_new.mid',\n",
       " 'Battle_Of_Olympus_Phrygia_Slow_Remix.mid',\n",
       " 'bb-Boss.mid',\n",
       " 'bb-Ending.mid',\n",
       " 'bbcc.mid',\n",
       " 'Bbccpipe.mid',\n",
       " 'Bbremiv2.mid',\n",
       " 'BBSavrik.mid',\n",
       " 'BBTechno.mid',\n",
       " 'Bbtitle2.mid',\n",
       " 'bbtitler.mid',\n",
       " 'bc5.mid',\n",
       " 'bcc1.mid',\n",
       " 'bccintro.mid',\n",
       " 'Bclvl1mg.mid',\n",
       " 'BD_Credits.mid',\n",
       " 'BEETLEJUICE.mid',\n",
       " 'bio.mid',\n",
       " 'biolev1.mid',\n",
       " 'biomap.mid',\n",
       " 'biomary.mid',\n",
       " 'bionic8.mid',\n",
       " 'BionicCommando-Area01-ArcadeArrangement.mid',\n",
       " 'Bionic_Commando.mid',\n",
       " 'Bionic_Commando_Level_Clear_Theme.mid',\n",
       " 'bioslime.mid',\n",
       " 'birthday_level3.mid',\n",
       " 'BJUICE-LEV1.mid',\n",
       " 'BlackBassIntro.mid']"
      ]
     },
     "execution_count": 7,
     "metadata": {},
     "output_type": "execute_result"
    }
   ],
   "source": [
    "print(\"Number of training examples:\", len(training_data))\n",
    "training_data_labels"
   ]
  },
  {
   "cell_type": "code",
   "execution_count": 8,
   "metadata": {},
   "outputs": [
    {
     "data": {
      "text/plain": [
       "(296, 1120)"
      ]
     },
     "execution_count": 8,
     "metadata": {},
     "output_type": "execute_result"
    }
   ],
   "source": [
    "training_data[0].shape"
   ]
  },
  {
   "cell_type": "markdown",
   "metadata": {},
   "source": [
    "### Parameters"
   ]
  },
  {
   "cell_type": "code",
   "execution_count": 9,
   "metadata": {
    "collapsed": true
   },
   "outputs": [],
   "source": [
    "'''# Parameters\n",
    "batch_size = 10\n",
    "learning_rate = 0.001\n",
    "training_iters = 50000\n",
    "n_input = 64\n",
    "display_step = 200\n",
    "\n",
    "# number of units in RNN cell\n",
    "n_hidden = 512\n",
    "n_layers = 2\n",
    "'''\n",
    "\n",
    "# Parameters\n",
    "batch_size = 10\n",
    "learning_rate = 0.001\n",
    "training_iters = 50000\n",
    "n_input = 10\n",
    "display_step = 50\n",
    "validation_step = 10 # how many steps do we calculate validation error\n",
    "\n",
    "# number of units in RNN cell\n",
    "n_hidden = 100\n",
    "n_layers = 2"
   ]
  },
  {
   "cell_type": "markdown",
   "metadata": {},
   "source": [
    "### Create tensor flow graph"
   ]
  },
  {
   "cell_type": "code",
   "execution_count": 10,
   "metadata": {},
   "outputs": [
    {
     "data": {
      "text/plain": [
       "1120"
      ]
     },
     "execution_count": 10,
     "metadata": {},
     "output_type": "execute_result"
    }
   ],
   "source": [
    "vocab_size = training_data[0].shape[1]\n",
    "vocab_size"
   ]
  },
  {
   "cell_type": "code",
   "execution_count": 11,
   "metadata": {},
   "outputs": [],
   "source": [
    "# tf Graph input\n",
    "x = tf.placeholder(\"float\", [batch_size, n_input, vocab_size])\n",
    "y = tf.placeholder(\"int32\", [batch_size, n_input])\n",
    "\n",
    "# RNN output node weights and biases\n",
    "softmax_w = tf.Variable(tf.random_normal([n_hidden, vocab_size]))\n",
    "softmax_b = tf.Variable(tf.random_normal([vocab_size]))\n",
    "\n",
    "max_grad_norm = 5"
   ]
  },
  {
   "cell_type": "code",
   "execution_count": 12,
   "metadata": {},
   "outputs": [],
   "source": [
    "# tf Graph validation input\n",
    "x_validation = tf.placeholder(\"float\", [N_VALIDATION_SET, n_input, vocab_size])\n",
    "y_validation = tf.placeholder(\"int32\", [N_VALIDATION_SET, n_input])"
   ]
  },
  {
   "cell_type": "code",
   "execution_count": 13,
   "metadata": {
    "collapsed": true
   },
   "outputs": [],
   "source": [
    "# tf Graph generative input\n",
    "x_generation = tf.placeholder(\"float\", [1, vocab_size])"
   ]
  },
  {
   "cell_type": "code",
   "execution_count": 14,
   "metadata": {
    "collapsed": true
   },
   "outputs": [],
   "source": [
    "rnn_cell = rnn.MultiRNNCell([rnn.BasicLSTMCell(n_hidden) for _ in range(n_layers)])"
   ]
  },
  {
   "cell_type": "code",
   "execution_count": 15,
   "metadata": {
    "collapsed": true
   },
   "outputs": [],
   "source": [
    "# Training output\n",
    "x_split = tf.unstack(x, n_input, 1)\n",
    "outputs, states = rnn.static_rnn(rnn_cell, x_split, dtype=tf.float32)\n",
    "logits = [tf.nn.xw_plus_b(output, softmax_w, softmax_b) for output in outputs]\n",
    "logits = tf.reshape(tf.split(tf.reshape(logits, [n_input, batch_size, vocab_size]), batch_size, 1), \n",
    "                    [batch_size, n_input, vocab_size])"
   ]
  },
  {
   "cell_type": "code",
   "execution_count": 16,
   "metadata": {},
   "outputs": [],
   "source": [
    "# Training loss\n",
    "loss = tf.contrib.seq2seq.sequence_loss(logits, y, weights=tf.ones([batch_size, n_input], dtype=tf.float32), # check this\n",
    "                                        average_across_timesteps=True, average_across_batch=True)\n",
    "cost = tf.reduce_sum(loss)\n",
    "optimizer = tf.train.RMSPropOptimizer(learning_rate=learning_rate).minimize(cost)"
   ]
  },
  {
   "cell_type": "code",
   "execution_count": 17,
   "metadata": {
    "collapsed": true
   },
   "outputs": [],
   "source": [
    "# Validation output\n",
    "x_validation_split = tf.unstack(x_validation, n_input, 1)\n",
    "outputs_validation, states_validation = rnn.static_rnn(rnn_cell, x_validation_split, dtype=tf.float32)\n",
    "logits_validation = [tf.nn.xw_plus_b(output, softmax_w, softmax_b) for output in outputs_validation]\n",
    "logits_validation = tf.reshape(tf.split(tf.reshape(logits_validation, [n_input, N_VALIDATION_SET, vocab_size]), N_VALIDATION_SET, 1), \n",
    "                               [N_VALIDATION_SET, n_input, vocab_size])"
   ]
  },
  {
   "cell_type": "code",
   "execution_count": 18,
   "metadata": {
    "collapsed": true
   },
   "outputs": [],
   "source": [
    "# Training loss\n",
    "loss_validation = tf.contrib.seq2seq.sequence_loss(logits_validation, y_validation, weights=tf.ones([N_VALIDATION_SET, n_input], dtype=tf.float32), # check this\n",
    "                                        average_across_timesteps=True, average_across_batch=True)\n",
    "cost_validation = tf.reduce_sum(loss_validation)"
   ]
  },
  {
   "cell_type": "markdown",
   "metadata": {},
   "source": [
    "### Run tensor flow session"
   ]
  },
  {
   "cell_type": "code",
   "execution_count": 19,
   "metadata": {
    "collapsed": true
   },
   "outputs": [],
   "source": [
    "session = tf.Session()"
   ]
  },
  {
   "cell_type": "code",
   "execution_count": 20,
   "metadata": {
    "collapsed": true
   },
   "outputs": [],
   "source": [
    "def get_midi_xy(data, midi_file_number):\n",
    "    offset = np.random.randint(0, len(data[midi_file_number]) - n_input - 1)\n",
    "    midi_x = data[midi_file_number][offset:offset+n_input]\n",
    "    midi_y = data[midi_file_number][1 + offset:1 + offset+n_input].dot(range(vocab_size)).reshape(1, n_input)\n",
    "    return midi_x, midi_y"
   ]
  },
  {
   "cell_type": "code",
   "execution_count": 21,
   "metadata": {
    "collapsed": true
   },
   "outputs": [],
   "source": [
    "def get_batch(data, num_batches):\n",
    "    \"\"\"Generate random batches of x and y training vectors for RNN.\n",
    "       \n",
    "    Returns:\n",
    "        Two batches of x and y vectors.\n",
    "    \"\"\"\n",
    "    batch_x = []\n",
    "    batch_y = []\n",
    "    batch = np.random.choice(range(len(data)), num_batches, replace=True)\n",
    "    for b in batch:\n",
    "        midi_x, midi_y = get_midi_xy(data, b%len(training_data))\n",
    "        batch_x.append(midi_x)\n",
    "        batch_y.append(midi_y)\n",
    "    batch_y = np.reshape(batch_y, [num_batches, n_input])\n",
    "    return batch_x, batch_y"
   ]
  },
  {
   "cell_type": "code",
   "execution_count": 22,
   "metadata": {
    "collapsed": true
   },
   "outputs": [],
   "source": [
    "def seconds_to_minsecstr(seconds):\n",
    "    minutes = seconds//60\n",
    "    seconds -= 60*minutes\n",
    "    if minutes < 10: minutes = \"0\" + str(minutes)\n",
    "    if seconds < 10: seconds = \"0\" + str(seconds)\n",
    "    return str(minutes) + \":\" + str(seconds)"
   ]
  },
  {
   "cell_type": "code",
   "execution_count": 23,
   "metadata": {
    "scrolled": false
   },
   "outputs": [
    {
     "name": "stdout",
     "output_type": "stream",
     "text": [
      "Iter=50, Average Loss=7.444888, Validation Loss=7.302609, Time Elapsed=00:05\n",
      "Iter=100, Average Loss=7.005043, Validation Loss=6.851355, Time Elapsed=00:09\n",
      "Iter=150, Average Loss=6.782449, Validation Loss=6.748751, Time Elapsed=00:13\n",
      "Iter=200, Average Loss=6.511688, Validation Loss=6.491290, Time Elapsed=00:18\n",
      "Iter=250, Average Loss=6.187223, Validation Loss=6.168336, Time Elapsed=00:23\n",
      "Iter=300, Average Loss=5.905510, Validation Loss=6.007645, Time Elapsed=00:27\n",
      "Iter=350, Average Loss=5.626562, Validation Loss=5.660314, Time Elapsed=00:31\n",
      "Iter=400, Average Loss=5.402531, Validation Loss=5.573536, Time Elapsed=00:35\n",
      "Iter=450, Average Loss=5.209816, Validation Loss=5.319029, Time Elapsed=00:40\n",
      "Iter=500, Average Loss=5.000819, Validation Loss=5.238747, Time Elapsed=00:45\n",
      "Iter=550, Average Loss=4.822502, Validation Loss=5.380566, Time Elapsed=00:49\n",
      "Iter=600, Average Loss=4.735378, Validation Loss=5.226789, Time Elapsed=00:53\n",
      "Iter=650, Average Loss=4.705468, Validation Loss=5.173569, Time Elapsed=00:56\n",
      "Iter=700, Average Loss=4.612083, Validation Loss=4.951428, Time Elapsed=01:00\n",
      "Iter=750, Average Loss=4.463860, Validation Loss=5.022357, Time Elapsed=01:04\n",
      "Iter=800, Average Loss=4.532579, Validation Loss=5.001390, Time Elapsed=01:08\n",
      "Iter=850, Average Loss=4.379754, Validation Loss=4.904349, Time Elapsed=01:12\n",
      "Iter=900, Average Loss=4.348726, Validation Loss=4.879746, Time Elapsed=01:16\n",
      "Iter=950, Average Loss=4.294149, Validation Loss=5.032077, Time Elapsed=01:20\n",
      "Iter=1000, Average Loss=4.151619, Validation Loss=4.742780, Time Elapsed=01:24\n",
      "Iter=1050, Average Loss=4.219186, Validation Loss=4.760509, Time Elapsed=01:28\n",
      "Iter=1100, Average Loss=4.147792, Validation Loss=4.620523, Time Elapsed=01:32\n",
      "Iter=1150, Average Loss=3.996124, Validation Loss=4.764447, Time Elapsed=01:37\n",
      "Iter=1200, Average Loss=3.977050, Validation Loss=4.809797, Time Elapsed=01:41\n",
      "Iter=1250, Average Loss=3.975078, Validation Loss=4.539985, Time Elapsed=01:45\n",
      "Iter=1300, Average Loss=3.944843, Validation Loss=4.893423, Time Elapsed=01:49\n",
      "Iter=1350, Average Loss=3.908828, Validation Loss=4.640519, Time Elapsed=01:54\n",
      "Iter=1400, Average Loss=3.932772, Validation Loss=4.722154, Time Elapsed=01:58\n",
      "Iter=1450, Average Loss=3.721398, Validation Loss=4.692036, Time Elapsed=02:02\n",
      "Iter=1500, Average Loss=3.717243, Validation Loss=4.672075, Time Elapsed=02:06\n",
      "Iter=1550, Average Loss=3.682075, Validation Loss=4.508669, Time Elapsed=02:10\n",
      "Iter=1600, Average Loss=3.629962, Validation Loss=4.719842, Time Elapsed=02:14\n",
      "Iter=1650, Average Loss=3.646820, Validation Loss=4.606062, Time Elapsed=02:18\n",
      "Iter=1700, Average Loss=3.633175, Validation Loss=4.669066, Time Elapsed=02:22\n",
      "Iter=1750, Average Loss=3.516162, Validation Loss=4.325584, Time Elapsed=02:26\n",
      "Iter=1800, Average Loss=3.573548, Validation Loss=4.545498, Time Elapsed=02:31\n",
      "Iter=1850, Average Loss=3.480312, Validation Loss=4.307352, Time Elapsed=02:35\n",
      "Iter=1900, Average Loss=3.393527, Validation Loss=4.614903, Time Elapsed=02:39\n",
      "Iter=1950, Average Loss=3.396230, Validation Loss=4.625105, Time Elapsed=02:44\n",
      "Iter=2000, Average Loss=3.461109, Validation Loss=4.510695, Time Elapsed=02:48\n",
      "Iter=2050, Average Loss=3.358361, Validation Loss=4.377339, Time Elapsed=02:52\n",
      "Iter=2100, Average Loss=3.321605, Validation Loss=4.636749, Time Elapsed=02:56\n",
      "Iter=2150, Average Loss=3.271708, Validation Loss=4.705191, Time Elapsed=03:00\n",
      "Iter=2200, Average Loss=3.340595, Validation Loss=4.475532, Time Elapsed=03:04\n",
      "Iter=2250, Average Loss=3.296001, Validation Loss=4.484776, Time Elapsed=03:08\n",
      "Iter=2300, Average Loss=3.230497, Validation Loss=4.240358, Time Elapsed=03:13\n",
      "Iter=2350, Average Loss=3.196807, Validation Loss=4.345272, Time Elapsed=03:17\n",
      "Iter=2400, Average Loss=3.189985, Validation Loss=4.658616, Time Elapsed=03:21\n",
      "Iter=2450, Average Loss=3.177865, Validation Loss=4.513748, Time Elapsed=03:25\n",
      "Iter=2500, Average Loss=3.155882, Validation Loss=4.594534, Time Elapsed=03:29\n",
      "Iter=2550, Average Loss=3.123099, Validation Loss=4.427843, Time Elapsed=03:33\n",
      "Iter=2600, Average Loss=3.050371, Validation Loss=4.694520, Time Elapsed=03:38\n",
      "Iter=2650, Average Loss=3.118710, Validation Loss=4.155768, Time Elapsed=03:42\n",
      "Iter=2700, Average Loss=3.109302, Validation Loss=4.368171, Time Elapsed=03:46\n",
      "Iter=2750, Average Loss=3.030572, Validation Loss=4.314510, Time Elapsed=03:50\n",
      "Iter=2800, Average Loss=2.961929, Validation Loss=4.377526, Time Elapsed=03:54\n",
      "Iter=2850, Average Loss=2.969378, Validation Loss=4.412291, Time Elapsed=03:58\n",
      "Iter=2900, Average Loss=2.983765, Validation Loss=4.410578, Time Elapsed=04:02\n",
      "Iter=2950, Average Loss=2.940156, Validation Loss=4.187912, Time Elapsed=04:07\n",
      "Iter=3000, Average Loss=2.944160, Validation Loss=4.517404, Time Elapsed=04:11\n",
      "Iter=3050, Average Loss=2.935202, Validation Loss=4.258013, Time Elapsed=04:15\n",
      "Iter=3100, Average Loss=2.784826, Validation Loss=4.721178, Time Elapsed=04:19\n",
      "Iter=3150, Average Loss=2.862730, Validation Loss=4.101146, Time Elapsed=04:23\n",
      "Iter=3200, Average Loss=2.905242, Validation Loss=4.620728, Time Elapsed=04:27\n",
      "Iter=3250, Average Loss=2.833605, Validation Loss=4.423539, Time Elapsed=04:31\n",
      "Iter=3300, Average Loss=2.815077, Validation Loss=4.458711, Time Elapsed=04:35\n",
      "Iter=3350, Average Loss=2.828786, Validation Loss=4.371014, Time Elapsed=04:39\n",
      "Iter=3400, Average Loss=2.795576, Validation Loss=4.144086, Time Elapsed=04:44\n",
      "Iter=3450, Average Loss=2.794009, Validation Loss=4.264071, Time Elapsed=04:48\n",
      "Iter=3500, Average Loss=2.714440, Validation Loss=4.427716, Time Elapsed=04:52\n",
      "Iter=3550, Average Loss=2.829189, Validation Loss=4.376442, Time Elapsed=04:56\n",
      "Iter=3600, Average Loss=2.755863, Validation Loss=4.437476, Time Elapsed=05:00\n",
      "Iter=3650, Average Loss=2.732848, Validation Loss=4.240473, Time Elapsed=05:04\n",
      "Iter=3700, Average Loss=2.702945, Validation Loss=4.387895, Time Elapsed=05:09\n",
      "Iter=3750, Average Loss=2.650975, Validation Loss=4.460858, Time Elapsed=05:13\n",
      "Iter=3800, Average Loss=2.749288, Validation Loss=4.032752, Time Elapsed=05:17\n",
      "Iter=3850, Average Loss=2.725178, Validation Loss=4.218800, Time Elapsed=05:21\n",
      "Iter=3900, Average Loss=2.725086, Validation Loss=4.408185, Time Elapsed=05:25\n",
      "Iter=3950, Average Loss=2.739846, Validation Loss=4.347702, Time Elapsed=05:29\n",
      "Iter=4000, Average Loss=2.598955, Validation Loss=4.528980, Time Elapsed=05:34\n",
      "Iter=4050, Average Loss=2.720054, Validation Loss=4.425719, Time Elapsed=05:38\n",
      "Iter=4100, Average Loss=2.703613, Validation Loss=4.199300, Time Elapsed=05:42\n",
      "Iter=4150, Average Loss=2.598771, Validation Loss=4.194124, Time Elapsed=05:46\n",
      "Iter=4200, Average Loss=2.686125, Validation Loss=4.398607, Time Elapsed=05:50\n",
      "Iter=4250, Average Loss=2.640961, Validation Loss=4.349415, Time Elapsed=05:54\n",
      "Iter=4300, Average Loss=2.607578, Validation Loss=4.038909, Time Elapsed=05:59\n",
      "Iter=4350, Average Loss=2.620948, Validation Loss=4.209048, Time Elapsed=06:03\n",
      "Iter=4400, Average Loss=2.682802, Validation Loss=4.293998, Time Elapsed=06:07\n",
      "Iter=4450, Average Loss=2.542787, Validation Loss=4.401319, Time Elapsed=06:11\n",
      "Iter=4500, Average Loss=2.582467, Validation Loss=4.427310, Time Elapsed=06:15\n",
      "Iter=4550, Average Loss=2.578109, Validation Loss=4.406823, Time Elapsed=06:18\n",
      "Iter=4600, Average Loss=2.607540, Validation Loss=4.162783, Time Elapsed=06:20\n",
      "Iter=4650, Average Loss=2.588079, Validation Loss=4.278868, Time Elapsed=06:22\n",
      "Iter=4700, Average Loss=2.691013, Validation Loss=4.450196, Time Elapsed=06:25\n",
      "Iter=4750, Average Loss=2.598594, Validation Loss=4.136731, Time Elapsed=06:27\n",
      "Iter=4800, Average Loss=2.539614, Validation Loss=4.525932, Time Elapsed=06:29\n",
      "Iter=4850, Average Loss=2.488972, Validation Loss=4.412833, Time Elapsed=06:32\n",
      "Iter=4900, Average Loss=2.511124, Validation Loss=4.020984, Time Elapsed=06:34\n",
      "Iter=4950, Average Loss=2.559040, Validation Loss=4.421355, Time Elapsed=06:37\n",
      "Iter=5000, Average Loss=2.491837, Validation Loss=4.485013, Time Elapsed=06:40\n",
      "Iter=5050, Average Loss=2.461700, Validation Loss=4.205621, Time Elapsed=06:42\n",
      "Iter=5100, Average Loss=2.492506, Validation Loss=4.315265, Time Elapsed=06:45\n",
      "Iter=5150, Average Loss=2.444759, Validation Loss=4.449245, Time Elapsed=06:47\n",
      "Iter=5200, Average Loss=2.444905, Validation Loss=4.398652, Time Elapsed=06:50\n"
     ]
    },
    {
     "name": "stdout",
     "output_type": "stream",
     "text": [
      "Iter=5250, Average Loss=2.442527, Validation Loss=4.174078, Time Elapsed=06:52\n",
      "Iter=5300, Average Loss=2.444651, Validation Loss=4.252789, Time Elapsed=06:55\n",
      "Iter=5350, Average Loss=2.505243, Validation Loss=4.381227, Time Elapsed=06:57\n",
      "Iter=5400, Average Loss=2.398225, Validation Loss=4.366098, Time Elapsed=07:00\n",
      "Iter=5450, Average Loss=2.449303, Validation Loss=4.341105, Time Elapsed=07:03\n",
      "Iter=5500, Average Loss=2.390129, Validation Loss=4.597869, Time Elapsed=07:06\n",
      "Iter=5550, Average Loss=2.429495, Validation Loss=4.213684, Time Elapsed=07:09\n",
      "Iter=5600, Average Loss=2.496464, Validation Loss=4.471621, Time Elapsed=07:12\n",
      "Iter=5650, Average Loss=2.327066, Validation Loss=4.418992, Time Elapsed=07:14\n",
      "Iter=5700, Average Loss=2.413614, Validation Loss=4.351147, Time Elapsed=07:17\n",
      "Iter=5750, Average Loss=2.491882, Validation Loss=4.565676, Time Elapsed=07:20\n",
      "Iter=5800, Average Loss=2.418284, Validation Loss=4.487813, Time Elapsed=07:23\n",
      "Iter=5850, Average Loss=2.434216, Validation Loss=4.086392, Time Elapsed=07:25\n"
     ]
    },
    {
     "ename": "KeyboardInterrupt",
     "evalue": "",
     "output_type": "error",
     "traceback": [
      "\u001b[1;31m---------------------------------------------------------------------------\u001b[0m",
      "\u001b[1;31mKeyboardInterrupt\u001b[0m                         Traceback (most recent call last)",
      "\u001b[1;32m<ipython-input-23-c20919eece4e>\u001b[0m in \u001b[0;36m<module>\u001b[1;34m()\u001b[0m\n\u001b[0;32m     14\u001b[0m \u001b[1;33m\u001b[0m\u001b[0m\n\u001b[0;32m     15\u001b[0m     \u001b[0mbatch_x\u001b[0m\u001b[1;33m,\u001b[0m \u001b[0mbatch_y\u001b[0m \u001b[1;33m=\u001b[0m \u001b[0mget_batch\u001b[0m\u001b[1;33m(\u001b[0m\u001b[0mtraining_data\u001b[0m\u001b[1;33m,\u001b[0m \u001b[0mbatch_size\u001b[0m\u001b[1;33m)\u001b[0m\u001b[1;33m\u001b[0m\u001b[0m\n\u001b[1;32m---> 16\u001b[1;33m     \u001b[0m_\u001b[0m\u001b[1;33m,\u001b[0m \u001b[0mloss\u001b[0m \u001b[1;33m=\u001b[0m \u001b[0msession\u001b[0m\u001b[1;33m.\u001b[0m\u001b[0mrun\u001b[0m\u001b[1;33m(\u001b[0m\u001b[1;33m[\u001b[0m\u001b[0moptimizer\u001b[0m\u001b[1;33m,\u001b[0m \u001b[0mcost\u001b[0m\u001b[1;33m]\u001b[0m\u001b[1;33m,\u001b[0m \u001b[0mfeed_dict\u001b[0m\u001b[1;33m=\u001b[0m\u001b[1;33m{\u001b[0m\u001b[0mx\u001b[0m\u001b[1;33m:\u001b[0m \u001b[0mbatch_x\u001b[0m\u001b[1;33m,\u001b[0m \u001b[0my\u001b[0m\u001b[1;33m:\u001b[0m \u001b[0mbatch_y\u001b[0m\u001b[1;33m}\u001b[0m\u001b[1;33m)\u001b[0m\u001b[1;33m\u001b[0m\u001b[0m\n\u001b[0m\u001b[0;32m     17\u001b[0m     \u001b[0mloss_total\u001b[0m \u001b[1;33m+=\u001b[0m \u001b[0mloss\u001b[0m\u001b[1;33m\u001b[0m\u001b[0m\n\u001b[0;32m     18\u001b[0m \u001b[1;33m\u001b[0m\u001b[0m\n",
      "\u001b[1;32m~\\Anaconda3\\lib\\site-packages\\tensorflow\\python\\client\\session.py\u001b[0m in \u001b[0;36mrun\u001b[1;34m(self, fetches, feed_dict, options, run_metadata)\u001b[0m\n\u001b[0;32m    887\u001b[0m     \u001b[1;32mtry\u001b[0m\u001b[1;33m:\u001b[0m\u001b[1;33m\u001b[0m\u001b[0m\n\u001b[0;32m    888\u001b[0m       result = self._run(None, fetches, feed_dict, options_ptr,\n\u001b[1;32m--> 889\u001b[1;33m                          run_metadata_ptr)\n\u001b[0m\u001b[0;32m    890\u001b[0m       \u001b[1;32mif\u001b[0m \u001b[0mrun_metadata\u001b[0m\u001b[1;33m:\u001b[0m\u001b[1;33m\u001b[0m\u001b[0m\n\u001b[0;32m    891\u001b[0m         \u001b[0mproto_data\u001b[0m \u001b[1;33m=\u001b[0m \u001b[0mtf_session\u001b[0m\u001b[1;33m.\u001b[0m\u001b[0mTF_GetBuffer\u001b[0m\u001b[1;33m(\u001b[0m\u001b[0mrun_metadata_ptr\u001b[0m\u001b[1;33m)\u001b[0m\u001b[1;33m\u001b[0m\u001b[0m\n",
      "\u001b[1;32m~\\Anaconda3\\lib\\site-packages\\tensorflow\\python\\client\\session.py\u001b[0m in \u001b[0;36m_run\u001b[1;34m(self, handle, fetches, feed_dict, options, run_metadata)\u001b[0m\n\u001b[0;32m   1118\u001b[0m     \u001b[1;32mif\u001b[0m \u001b[0mfinal_fetches\u001b[0m \u001b[1;32mor\u001b[0m \u001b[0mfinal_targets\u001b[0m \u001b[1;32mor\u001b[0m \u001b[1;33m(\u001b[0m\u001b[0mhandle\u001b[0m \u001b[1;32mand\u001b[0m \u001b[0mfeed_dict_tensor\u001b[0m\u001b[1;33m)\u001b[0m\u001b[1;33m:\u001b[0m\u001b[1;33m\u001b[0m\u001b[0m\n\u001b[0;32m   1119\u001b[0m       results = self._do_run(handle, final_targets, final_fetches,\n\u001b[1;32m-> 1120\u001b[1;33m                              feed_dict_tensor, options, run_metadata)\n\u001b[0m\u001b[0;32m   1121\u001b[0m     \u001b[1;32melse\u001b[0m\u001b[1;33m:\u001b[0m\u001b[1;33m\u001b[0m\u001b[0m\n\u001b[0;32m   1122\u001b[0m       \u001b[0mresults\u001b[0m \u001b[1;33m=\u001b[0m \u001b[1;33m[\u001b[0m\u001b[1;33m]\u001b[0m\u001b[1;33m\u001b[0m\u001b[0m\n",
      "\u001b[1;32m~\\Anaconda3\\lib\\site-packages\\tensorflow\\python\\client\\session.py\u001b[0m in \u001b[0;36m_do_run\u001b[1;34m(self, handle, target_list, fetch_list, feed_dict, options, run_metadata)\u001b[0m\n\u001b[0;32m   1315\u001b[0m     \u001b[1;32mif\u001b[0m \u001b[0mhandle\u001b[0m \u001b[1;32mis\u001b[0m \u001b[1;32mNone\u001b[0m\u001b[1;33m:\u001b[0m\u001b[1;33m\u001b[0m\u001b[0m\n\u001b[0;32m   1316\u001b[0m       return self._do_call(_run_fn, self._session, feeds, fetches, targets,\n\u001b[1;32m-> 1317\u001b[1;33m                            options, run_metadata)\n\u001b[0m\u001b[0;32m   1318\u001b[0m     \u001b[1;32melse\u001b[0m\u001b[1;33m:\u001b[0m\u001b[1;33m\u001b[0m\u001b[0m\n\u001b[0;32m   1319\u001b[0m       \u001b[1;32mreturn\u001b[0m \u001b[0mself\u001b[0m\u001b[1;33m.\u001b[0m\u001b[0m_do_call\u001b[0m\u001b[1;33m(\u001b[0m\u001b[0m_prun_fn\u001b[0m\u001b[1;33m,\u001b[0m \u001b[0mself\u001b[0m\u001b[1;33m.\u001b[0m\u001b[0m_session\u001b[0m\u001b[1;33m,\u001b[0m \u001b[0mhandle\u001b[0m\u001b[1;33m,\u001b[0m \u001b[0mfeeds\u001b[0m\u001b[1;33m,\u001b[0m \u001b[0mfetches\u001b[0m\u001b[1;33m)\u001b[0m\u001b[1;33m\u001b[0m\u001b[0m\n",
      "\u001b[1;32m~\\Anaconda3\\lib\\site-packages\\tensorflow\\python\\client\\session.py\u001b[0m in \u001b[0;36m_do_call\u001b[1;34m(self, fn, *args)\u001b[0m\n\u001b[0;32m   1321\u001b[0m   \u001b[1;32mdef\u001b[0m \u001b[0m_do_call\u001b[0m\u001b[1;33m(\u001b[0m\u001b[0mself\u001b[0m\u001b[1;33m,\u001b[0m \u001b[0mfn\u001b[0m\u001b[1;33m,\u001b[0m \u001b[1;33m*\u001b[0m\u001b[0margs\u001b[0m\u001b[1;33m)\u001b[0m\u001b[1;33m:\u001b[0m\u001b[1;33m\u001b[0m\u001b[0m\n\u001b[0;32m   1322\u001b[0m     \u001b[1;32mtry\u001b[0m\u001b[1;33m:\u001b[0m\u001b[1;33m\u001b[0m\u001b[0m\n\u001b[1;32m-> 1323\u001b[1;33m       \u001b[1;32mreturn\u001b[0m \u001b[0mfn\u001b[0m\u001b[1;33m(\u001b[0m\u001b[1;33m*\u001b[0m\u001b[0margs\u001b[0m\u001b[1;33m)\u001b[0m\u001b[1;33m\u001b[0m\u001b[0m\n\u001b[0m\u001b[0;32m   1324\u001b[0m     \u001b[1;32mexcept\u001b[0m \u001b[0merrors\u001b[0m\u001b[1;33m.\u001b[0m\u001b[0mOpError\u001b[0m \u001b[1;32mas\u001b[0m \u001b[0me\u001b[0m\u001b[1;33m:\u001b[0m\u001b[1;33m\u001b[0m\u001b[0m\n\u001b[0;32m   1325\u001b[0m       \u001b[0mmessage\u001b[0m \u001b[1;33m=\u001b[0m \u001b[0mcompat\u001b[0m\u001b[1;33m.\u001b[0m\u001b[0mas_text\u001b[0m\u001b[1;33m(\u001b[0m\u001b[0me\u001b[0m\u001b[1;33m.\u001b[0m\u001b[0mmessage\u001b[0m\u001b[1;33m)\u001b[0m\u001b[1;33m\u001b[0m\u001b[0m\n",
      "\u001b[1;32m~\\Anaconda3\\lib\\site-packages\\tensorflow\\python\\client\\session.py\u001b[0m in \u001b[0;36m_run_fn\u001b[1;34m(session, feed_dict, fetch_list, target_list, options, run_metadata)\u001b[0m\n\u001b[0;32m   1300\u001b[0m           return tf_session.TF_Run(session, options,\n\u001b[0;32m   1301\u001b[0m                                    \u001b[0mfeed_dict\u001b[0m\u001b[1;33m,\u001b[0m \u001b[0mfetch_list\u001b[0m\u001b[1;33m,\u001b[0m \u001b[0mtarget_list\u001b[0m\u001b[1;33m,\u001b[0m\u001b[1;33m\u001b[0m\u001b[0m\n\u001b[1;32m-> 1302\u001b[1;33m                                    status, run_metadata)\n\u001b[0m\u001b[0;32m   1303\u001b[0m \u001b[1;33m\u001b[0m\u001b[0m\n\u001b[0;32m   1304\u001b[0m     \u001b[1;32mdef\u001b[0m \u001b[0m_prun_fn\u001b[0m\u001b[1;33m(\u001b[0m\u001b[0msession\u001b[0m\u001b[1;33m,\u001b[0m \u001b[0mhandle\u001b[0m\u001b[1;33m,\u001b[0m \u001b[0mfeed_dict\u001b[0m\u001b[1;33m,\u001b[0m \u001b[0mfetch_list\u001b[0m\u001b[1;33m)\u001b[0m\u001b[1;33m:\u001b[0m\u001b[1;33m\u001b[0m\u001b[0m\n",
      "\u001b[1;31mKeyboardInterrupt\u001b[0m: "
     ]
    }
   ],
   "source": [
    "training_loss_list = []\n",
    "validation_loss_list = []\n",
    "time_elapsed_list = []\n",
    "\n",
    "init = tf.global_variables_initializer()\n",
    "session.run(init)\n",
    "step = 0\n",
    "loss_total = 0\n",
    "\n",
    "start_time = time.time()\n",
    "\n",
    "while step < training_iters:\n",
    "    start_a = time.time()\n",
    "    \n",
    "    batch_x, batch_y = get_batch(training_data, batch_size)\n",
    "    _, loss = session.run([optimizer, cost], feed_dict={x: batch_x, y: batch_y})\n",
    "    loss_total += loss\n",
    "    \n",
    "    if step % validation_step == 0:\n",
    "        batch_x_validation, batch_y_validation = get_batch(validation_data, N_VALIDATION_SET)\n",
    "        loss_validation = session.run([cost_validation], feed_dict={x_validation: batch_x_validation, y_validation: batch_y_validation})[0]\n",
    "    \n",
    "    training_loss_list.append(loss)\n",
    "    validation_loss_list.append(loss_validation)\n",
    "    time_elapsed = seconds_to_minsecstr(int(time.time()-start_time))\n",
    "    time_elapsed_list.append(time_elapsed)\n",
    "    \n",
    "    if (step+1) % display_step == 0:\n",
    "        display = \"Iter=\" + str(step+1) + \", Average Loss={:.6f}, Validation Loss={:.6f}, Time Elapsed={}\".format(\n",
    "            loss_total/display_step, loss_validation, time_elapsed)\n",
    "        print(display)\n",
    "        loss_total = 0\n",
    "        loss_validation_total = 0\n",
    "    step += 1"
   ]
  },
  {
   "cell_type": "markdown",
   "metadata": {},
   "source": [
    "### Plots"
   ]
  },
  {
   "cell_type": "code",
   "execution_count": 24,
   "metadata": {
    "scrolled": false
   },
   "outputs": [
    {
     "data": {
      "image/png": "[encoded data removed]",
      "text/plain": [
       "<matplotlib.figure.Figure at 0x23ce9861a90>"
      ]
     },
     "metadata": {},
     "output_type": "display_data"
    }
   ],
   "source": [
    "plt.plot(training_loss_list, label='Training loss')\n",
    "plt.plot(validation_loss_list, label='Validation loss')\n",
    "plt.xlabel('Iteration')\n",
    "plt.title('Training/Validation loss over iterations')\n",
    "plt.legend()\n",
    "plt.show()"
   ]
  },
  {
   "cell_type": "markdown",
   "metadata": {},
   "source": [
    "### Create log file"
   ]
  },
  {
   "cell_type": "code",
   "execution_count": 25,
   "metadata": {
    "collapsed": true
   },
   "outputs": [],
   "source": [
    "logfile_directory = 'logs/'"
   ]
  },
  {
   "cell_type": "code",
   "execution_count": 26,
   "metadata": {},
   "outputs": [
    {
     "data": {
      "text/plain": [
       "(4.1682887, 4330)"
      ]
     },
     "execution_count": 26,
     "metadata": {},
     "output_type": "execute_result"
    }
   ],
   "source": [
    "validation_loss_list = np.array(validation_loss_list)\n",
    "min_valid_loss = np.inf\n",
    "min_valid_loss_iteration = -1\n",
    "for i in range(validation_step*5, len(validation_loss_list)-validation_step*5)[::validation_step]:\n",
    "    valid_loss_mean = np.nanmean(validation_loss_list[i-validation_step*5:i+validation_step*5]) # smoothed validation mean\n",
    "    if valid_loss_mean < min_valid_loss:\n",
    "        min_valid_loss = valid_loss_mean\n",
    "        min_valid_loss_iteration = i\n",
    "min_valid_loss, min_valid_loss_iteration"
   ]
  },
  {
   "cell_type": "code",
   "execution_count": 27,
   "metadata": {},
   "outputs": [
    {
     "data": {
      "text/plain": [
       "(2.4285424, 4.2648253)"
      ]
     },
     "execution_count": 27,
     "metadata": {},
     "output_type": "execute_result"
    }
   ],
   "source": [
    "train_loss_mean = np.nanmean(np.array(np.array(training_loss_list)[-50:]))\n",
    "valid_loss_mean = np.nanmean(np.array(np.array(validation_loss_list)[-50:]))\n",
    "train_loss_mean, valid_loss_mean"
   ]
  },
  {
   "cell_type": "code",
   "execution_count": 28,
   "metadata": {},
   "outputs": [
    {
     "data": {
      "text/plain": [
       "'Logfile (Date=2017-11-13 16.02, MinValidLoss=4.17, TrainLoss=2.43, Iterations=5854).txt'"
      ]
     },
     "execution_count": 28,
     "metadata": {},
     "output_type": "execute_result"
    }
   ],
   "source": [
    "date = time.strftime(\"%Y-%m-%d %H.%M\")\n",
    "logfile_name =\"Logfile (Date={}, MinValidLoss={:.2f}, TrainLoss={:.2f}, Iterations={}).txt\". \\\n",
    "    format(date, min_valid_loss, train_loss_mean, len(validation_loss_list))\n",
    "logfile_name"
   ]
  },
  {
   "cell_type": "code",
   "execution_count": 29,
   "metadata": {},
   "outputs": [],
   "source": [
    "logfile = open(logfile_directory + logfile_name, \"w\")\n",
    "\n",
    "logfile.write(\"Training loss={:.6f}\\n\".format(train_loss_mean))\n",
    "logfile.write(\"Validation loss={:.6f}\\n\".format(valid_loss_mean))\n",
    "logfile.write(\"Min Validation loss={:.6f}\\n\".format(min_valid_loss))\n",
    "logfile.write(\"Iteration of min validation loss={}\\n\\n\".format(min_valid_loss_iteration))\n",
    "\n",
    "logfile.write(\"Iterations trained={}\\n\".format(train_loss_mean))\n",
    "logfile.write(\"Duration={}\\n\".format(time_elapsed_list[-1]))\n",
    "\n",
    "logfile.write(\"Number of training examples={}\\n\".format(len(training_data)))\n",
    "logfile.write(\"Number of validation examples={}\\n\".format(len(validation_data)))\n",
    "\n",
    "\n",
    "logfile.write(\"Batch size={}\\n\".format(batch_size))\n",
    "logfile.write(\"Learning rate={:.6f}\\n\".format(learning_rate))\n",
    "logfile.write(\"Number of input (T)={}\\n\".format(n_input))\n",
    "\n",
    "logfile.write(\"Number of hidden layers={}\\n\".format(n_layers))\n",
    "logfile.write(\"Number of hidden units per year={}\\n\\n\".format(n_hidden))\n",
    "\n",
    "for i in range(len(training_loss_list)):\n",
    "    logfile.write(\"Iter={}, Training Loss={:.6f}, Validation Loss={:.6f}, Time Elapsed={}\".format(\n",
    "            (i+1), training_loss_list[i], validation_loss_list[i], time_elapsed_list[i]))\n",
    "    \n",
    "logfile.close()"
   ]
  },
  {
   "cell_type": "markdown",
   "metadata": {},
   "source": [
    "### Generate music from trained model"
   ]
  },
  {
   "cell_type": "code",
   "execution_count": 46,
   "metadata": {
    "collapsed": true
   },
   "outputs": [],
   "source": [
    "N_GENERATED_NOTE_VECTORS = 1000\n",
    "temperature = 1.0"
   ]
  },
  {
   "cell_type": "code",
   "execution_count": 47,
   "metadata": {},
   "outputs": [],
   "source": [
    "state_placeholder = tf.placeholder(tf.float32, [n_layers, 2, 1, n_hidden])\n",
    "l = tf.unstack(state_placeholder, 2, 0)\n",
    "rnn_tuple_state = tuple([tf.nn.rnn_cell.LSTMStateTuple(l[i][0], l[i][1]) for i in range(n_layers)])\n",
    "\n",
    "outputs_generation, states_generation = rnn.static_rnn(rnn_cell, [x_generation], \n",
    "                                                       initial_state=rnn_tuple_state, dtype=tf.float32)\n",
    "\n",
    "logits_generation = tf.nn.xw_plus_b(outputs_generation[0], softmax_w, softmax_b)"
   ]
  },
  {
   "cell_type": "code",
   "execution_count": 48,
   "metadata": {
    "collapsed": true
   },
   "outputs": [],
   "source": [
    "seed_note = training_data[int(len(training_data)*np.random.random())][0]\n",
    "seed_note = np.reshape(seed_note, [1, vocab_size])"
   ]
  },
  {
   "cell_type": "code",
   "execution_count": 49,
   "metadata": {
    "scrolled": true
   },
   "outputs": [
    {
     "name": "stdout",
     "output_type": "stream",
     "text": [
      "Previous note: [ 60.]\n",
      "Posterior probability: [  2.86076852e-06   8.16844749e-06   8.93860215e-06 ...,   1.29034806e-05\n",
      "   4.46390186e-06   1.65280011e-02]\n"
     ]
    },
    {
     "data": {
      "image/png": "[encoded data removed]",
      "text/plain": [
       "<matplotlib.figure.Figure at 0x23ce998df98>"
      ]
     },
     "metadata": {},
     "output_type": "display_data"
    },
    {
     "name": "stdout",
     "output_type": "stream",
     "text": [
      "Previous note: [ 164.]\n",
      "Posterior probability: [  1.93239657e-06   1.85037675e-06   5.31750493e-06 ...,   9.41290864e-07\n",
      "   4.44515172e-06   2.55352389e-02]\n"
     ]
    },
    {
     "data": {
      "image/png": "[encoded data removed]",
      "text/plain": [
       "<matplotlib.figure.Figure at 0x23ce9a51748>"
      ]
     },
     "metadata": {},
     "output_type": "display_data"
    },
    {
     "name": "stdout",
     "output_type": "stream",
     "text": [
      "Previous note: [ 1047.]\n",
      "Posterior probability: [  6.54019686e-07   4.96261123e-07   3.87552791e-06 ...,   2.16520846e-07\n",
      "   3.46168633e-07   5.92920347e-04]\n"
     ]
    },
    {
     "data": {
      "image/png": "[encoded data removed]",
      "text/plain": [
       "<matplotlib.figure.Figure at 0x23ce9dc0c18>"
      ]
     },
     "metadata": {},
     "output_type": "display_data"
    },
    {
     "name": "stdout",
     "output_type": "stream",
     "text": [
      "Previous note: [ 572.]\n",
      "Posterior probability: [  1.92037314e-05   1.46191974e-06   6.65249854e-06 ...,   1.53260703e-06\n",
      "   3.26241616e-06   8.48683179e-04]\n"
     ]
    },
    {
     "data": {
      "image/png": "[encoded data removed]",
      "text/plain": [
       "<matplotlib.figure.Figure at 0x23ce9b95748>"
      ]
     },
     "metadata": {},
     "output_type": "display_data"
    }
   ],
   "source": [
    "generated_music = [seed_note]\n",
    "saved_state = np.zeros((n_layers, 2, 1, n_hidden))\n",
    "for i in range(N_GENERATED_NOTE_VECTORS):\n",
    "    onehot_pred, new_state = session.run([logits_generation, states_generation], \n",
    "                                         feed_dict={x_generation: generated_music[-1], state_placeholder: saved_state})\n",
    "    saved_state = new_state\n",
    "    next_note = np.zeros(vocab_size)\n",
    "    #index = np.argmax(onehot_pred, 1) # take max probability\n",
    "    softmax_cdf = np.exp(onehot_pred[0]/temperature)/np.sum(np.exp(onehot_pred[0]/temperature))\n",
    "    \n",
    "    if i < 4:\n",
    "        print(\"Previous note:\", generated_music[-1].dot(range(1120)))\n",
    "        print(\"Posterior probability:\", softmax_cdf)\n",
    "        plt.plot(softmax_cdf)\n",
    "        plt.show()\n",
    "        \n",
    "    index = np.random.choice(range(vocab_size), p=softmax_cdf) # choose probabilistically\n",
    "    \n",
    "    next_note[index] = 1\n",
    "    next_note = np.reshape(next_note, [1, vocab_size])\n",
    "    \n",
    "    generated_music.append(next_note)"
   ]
  },
  {
   "cell_type": "code",
   "execution_count": 50,
   "metadata": {},
   "outputs": [
    {
     "data": {
      "text/plain": [
       "array([   60.,   164.,  1047., ...,   167.,   724.,   679.])"
      ]
     },
     "execution_count": 50,
     "metadata": {},
     "output_type": "execute_result"
    }
   ],
   "source": [
    "notes = np.array(generated_music).reshape(N_GENERATED_NOTE_VECTORS+1, vocab_size).dot(np.array(range(vocab_size)))\n",
    "notes"
   ]
  },
  {
   "cell_type": "markdown",
   "metadata": {},
   "source": [
    "### Convert generated music to midi"
   ]
  },
  {
   "cell_type": "code",
   "execution_count": 51,
   "metadata": {
    "collapsed": true
   },
   "outputs": [],
   "source": [
    "def get_track_sequences(vector_sequence):\n",
    "    \"\"\"Get note sequences for each track from vector sequence output from RNN.\n",
    "\n",
    "    Args:\n",
    "       vector_sequence: List of one-hot vectors containing 128 * NUM_TRACKS note_on events, 128 * NUM_TRACKS note_off events,\n",
    "        and NUM_TIMESHIFTS timeshift events in intervals of 1/96 of a beat each.\n",
    "       \n",
    "    Returns:\n",
    "        List of track vector sequences.\n",
    "    \"\"\"\n",
    "    track_sequences = [[] for _ in range(NUM_TRACKS)]\n",
    "    start_time = 0\n",
    "    for vector in vector_sequence:\n",
    "        index = vector.index(1)\n",
    "        # vector is a time event.\n",
    "        if index >= NUM_MIDI_PITCHES * 2 * NUM_TRACKS:\n",
    "            num_beats = (index - NUM_MIDI_PITCHES * 2 * NUM_TRACKS + 1) / NUM_TIMESHIFTS\n",
    "            start_time += num_beats\n",
    "        else:\n",
    "            # vector is a note_off event.\n",
    "            if index >= NUM_MIDI_PITCHES * NUM_TRACKS:\n",
    "                note_type = 'note_off'\n",
    "                index -= NUM_MIDI_PITCHES * NUM_TRACKS\n",
    "            # vector is a note_on event.\n",
    "            else:\n",
    "                note_type = 'note_on'\n",
    "            track_num = int(index / NUM_MIDI_PITCHES)\n",
    "            note = index % NUM_MIDI_PITCHES\n",
    "            track_sequences[track_num].append({\"type\": note_type, \"note\": note, \"start_time\": start_time})\n",
    "            time_delay = 0\n",
    "            \n",
    "    return track_sequences\n",
    "    "
   ]
  },
  {
   "cell_type": "code",
   "execution_count": 52,
   "metadata": {
    "collapsed": true
   },
   "outputs": [],
   "source": [
    "def get_midi_from_vector_sequence(track_sequences):\n",
    "    \"\"\"Get midi from track sequences.\n",
    "\n",
    "    Args:\n",
    "       track_sequences: List of vector sequences for each track.\n",
    "       \n",
    "    Returns:\n",
    "        MidiFile object.\n",
    "    \"\"\"\n",
    "    mid = mido.MidiFile()\n",
    "    tracks = [mido.MidiTrack() for _ in range(NUM_TRACKS)]\n",
    "    mid.tracks.extend(tracks)\n",
    "\n",
    "    for i, ts in enumerate(track_sequences):\n",
    "        prev_start_time = 0\n",
    "        for event in ts:\n",
    "            time = event[\"start_time\"] - prev_start_time\n",
    "            prev_start_time = event[\"start_time\"]\n",
    "            # I picked a random number for velocity.\n",
    "            mid.tracks[i].append(mido.Message(event[\"type\"], note=event[\"note\"], velocity=50,\n",
    "                                              time=int(time * TICKS_PER_BEAT)))\n",
    "    \n",
    "    return mid"
   ]
  },
  {
   "cell_type": "code",
   "execution_count": 53,
   "metadata": {},
   "outputs": [],
   "source": [
    "track_sequence = get_track_sequences([list(x[0]) for x in generated_music])"
   ]
  },
  {
   "cell_type": "code",
   "execution_count": 54,
   "metadata": {},
   "outputs": [
    {
     "data": {
      "text/plain": [
       "[{'note': 36, 'start_time': 0, 'type': 'note_on'},\n",
       " {'note': 64, 'start_time': 1.0, 'type': 'note_on'},\n",
       " {'note': 64, 'start_time': 1.25, 'type': 'note_off'},\n",
       " {'note': 45, 'start_time': 1.25, 'type': 'note_off'},\n",
       " {'note': 67, 'start_time': 1.5, 'type': 'note_off'},\n",
       " {'note': 47, 'start_time': 3.5, 'type': 'note_on'},\n",
       " {'note': 65, 'start_time': 4.25, 'type': 'note_off'},\n",
       " {'note': 64, 'start_time': 4.25, 'type': 'note_on'},\n",
       " {'note': 64, 'start_time': 4.75, 'type': 'note_off'},\n",
       " {'note': 33, 'start_time': 4.75, 'type': 'note_on'},\n",
       " {'note': 24, 'start_time': 5.25, 'type': 'note_on'},\n",
       " {'note': 64, 'start_time': 5.75, 'type': 'note_off'},\n",
       " {'note': 64, 'start_time': 5.75, 'type': 'note_on'},\n",
       " {'note': 64, 'start_time': 6.75, 'type': 'note_off'},\n",
       " {'note': 64, 'start_time': 6.75, 'type': 'note_on'},\n",
       " {'note': 64, 'start_time': 7.75, 'type': 'note_off'},\n",
       " {'note': 67, 'start_time': 7.75, 'type': 'note_on'},\n",
       " {'note': 53, 'start_time': 7.75, 'type': 'note_off'},\n",
       " {'note': 61, 'start_time': 8.25, 'type': 'note_on'},\n",
       " {'note': 66, 'start_time': 8.25, 'type': 'note_on'},\n",
       " {'note': 61, 'start_time': 8.5, 'type': 'note_off'},\n",
       " {'note': 61, 'start_time': 8.75, 'type': 'note_on'},\n",
       " {'note': 81, 'start_time': 9.25, 'type': 'note_off'},\n",
       " {'note': 73, 'start_time': 9.25, 'type': 'note_on'},\n",
       " {'note': 77, 'start_time': 9.25, 'type': 'note_off'},\n",
       " {'note': 76, 'start_time': 9.25, 'type': 'note_on'},\n",
       " {'note': 76, 'start_time': 9.75, 'type': 'note_off'},\n",
       " {'note': 67, 'start_time': 11.25, 'type': 'note_off'},\n",
       " {'note': 70, 'start_time': 12.0, 'type': 'note_off'},\n",
       " {'note': 84, 'start_time': 13.0, 'type': 'note_off'},\n",
       " {'note': 48, 'start_time': 13.25, 'type': 'note_off'},\n",
       " {'note': 57, 'start_time': 13.5, 'type': 'note_off'},\n",
       " {'note': 57, 'start_time': 13.5, 'type': 'note_on'},\n",
       " {'note': 53, 'start_time': 13.75, 'type': 'note_off'},\n",
       " {'note': 53, 'start_time': 13.75, 'type': 'note_on'},\n",
       " {'note': 53, 'start_time': 13.75, 'type': 'note_off'},\n",
       " {'note': 53, 'start_time': 13.75, 'type': 'note_on'},\n",
       " {'note': 53, 'start_time': 13.75, 'type': 'note_off'},\n",
       " {'note': 50, 'start_time': 14.25, 'type': 'note_on'},\n",
       " {'note': 55, 'start_time': 14.5, 'type': 'note_on'},\n",
       " {'note': 70, 'start_time': 14.5, 'type': 'note_off'},\n",
       " {'note': 69, 'start_time': 14.5, 'type': 'note_on'},\n",
       " {'note': 55, 'start_time': 15.5, 'type': 'note_on'},\n",
       " {'note': 66, 'start_time': 16.25, 'type': 'note_on'},\n",
       " {'note': 66, 'start_time': 16.5, 'type': 'note_off'},\n",
       " {'note': 73, 'start_time': 16.5, 'type': 'note_on'},\n",
       " {'note': 66, 'start_time': 16.75, 'type': 'note_off'},\n",
       " {'note': 68, 'start_time': 16.75, 'type': 'note_on'},\n",
       " {'note': 73, 'start_time': 16.75, 'type': 'note_off'},\n",
       " {'note': 73, 'start_time': 16.75, 'type': 'note_on'},\n",
       " {'note': 73, 'start_time': 17.75, 'type': 'note_off'},\n",
       " {'note': 66, 'start_time': 17.75, 'type': 'note_on'},\n",
       " {'note': 73, 'start_time': 18.75, 'type': 'note_off'},\n",
       " {'note': 72, 'start_time': 18.75, 'type': 'note_on'},\n",
       " {'note': 72, 'start_time': 19.25, 'type': 'note_off'},\n",
       " {'note': 72, 'start_time': 19.25, 'type': 'note_off'},\n",
       " {'note': 70, 'start_time': 19.25, 'type': 'note_on'},\n",
       " {'note': 57, 'start_time': 20.0, 'type': 'note_off'},\n",
       " {'note': 54, 'start_time': 20.0, 'type': 'note_off'},\n",
       " {'note': 52, 'start_time': 20.0, 'type': 'note_on'},\n",
       " {'note': 61, 'start_time': 20.0, 'type': 'note_on'},\n",
       " {'note': 52, 'start_time': 20.5, 'type': 'note_off'},\n",
       " {'note': 49, 'start_time': 21.25, 'type': 'note_on'},\n",
       " {'note': 49, 'start_time': 21.75, 'type': 'note_off'},\n",
       " {'note': 41, 'start_time': 22.25, 'type': 'note_on'},\n",
       " {'note': 41, 'start_time': 22.75, 'type': 'note_off'},\n",
       " {'note': 41, 'start_time': 22.75, 'type': 'note_on'},\n",
       " {'note': 41, 'start_time': 23.0, 'type': 'note_off'},\n",
       " {'note': 42, 'start_time': 23.0, 'type': 'note_on'},\n",
       " {'note': 41, 'start_time': 23.0, 'type': 'note_off'},\n",
       " {'note': 43, 'start_time': 23.0, 'type': 'note_on'},\n",
       " {'note': 43, 'start_time': 23.0, 'type': 'note_off'},\n",
       " {'note': 41, 'start_time': 23.0, 'type': 'note_off'},\n",
       " {'note': 43, 'start_time': 23.0, 'type': 'note_on'},\n",
       " {'note': 43, 'start_time': 23.0, 'type': 'note_off'},\n",
       " {'note': 43, 'start_time': 23.0, 'type': 'note_on'},\n",
       " {'note': 43, 'start_time': 23.0, 'type': 'note_off'},\n",
       " {'note': 36, 'start_time': 23.0, 'type': 'note_on'},\n",
       " {'note': 68, 'start_time': 23.5, 'type': 'note_off'},\n",
       " {'note': 45, 'start_time': 23.5, 'type': 'note_on'},\n",
       " {'note': 45, 'start_time': 23.5, 'type': 'note_off'},\n",
       " {'note': 36, 'start_time': 24.5, 'type': 'note_on'},\n",
       " {'note': 36, 'start_time': 24.75, 'type': 'note_off'},\n",
       " {'note': 33, 'start_time': 24.75, 'type': 'note_on'},\n",
       " {'note': 43, 'start_time': 25.0, 'type': 'note_on'},\n",
       " {'note': 43, 'start_time': 25.0, 'type': 'note_off'},\n",
       " {'note': 61, 'start_time': 25.0, 'type': 'note_off'},\n",
       " {'note': 53, 'start_time': 25.0, 'type': 'note_off'},\n",
       " {'note': 84, 'start_time': 25.0, 'type': 'note_off'},\n",
       " {'note': 84, 'start_time': 25.75, 'type': 'note_off'},\n",
       " {'note': 72, 'start_time': 26.0, 'type': 'note_off'},\n",
       " {'note': 74, 'start_time': 26.0, 'type': 'note_on'},\n",
       " {'note': 84, 'start_time': 26.0, 'type': 'note_off'},\n",
       " {'note': 85, 'start_time': 26.0, 'type': 'note_on'},\n",
       " {'note': 39, 'start_time': 26.25, 'type': 'note_on'},\n",
       " {'note': 39, 'start_time': 26.25, 'type': 'note_off'},\n",
       " {'note': 84, 'start_time': 26.25, 'type': 'note_off'},\n",
       " {'note': 84, 'start_time': 26.25, 'type': 'note_off'},\n",
       " {'note': 33, 'start_time': 26.25, 'type': 'note_on'},\n",
       " {'note': 84, 'start_time': 26.5, 'type': 'note_off'},\n",
       " {'note': 83, 'start_time': 26.5, 'type': 'note_on'},\n",
       " {'note': 41, 'start_time': 26.5, 'type': 'note_on'},\n",
       " {'note': 59, 'start_time': 27.145833333333332, 'type': 'note_off'},\n",
       " {'note': 105, 'start_time': 27.145833333333332, 'type': 'note_on'},\n",
       " {'note': 41, 'start_time': 27.145833333333332, 'type': 'note_on'},\n",
       " {'note': 36, 'start_time': 27.145833333333332, 'type': 'note_on'},\n",
       " {'note': 76, 'start_time': 28.145833333333332, 'type': 'note_off'},\n",
       " {'note': 60, 'start_time': 28.895833333333332, 'type': 'note_off'},\n",
       " {'note': 58, 'start_time': 28.895833333333332, 'type': 'note_off'},\n",
       " {'note': 60, 'start_time': 28.895833333333332, 'type': 'note_on'},\n",
       " {'note': 60, 'start_time': 28.895833333333332, 'type': 'note_off'},\n",
       " {'note': 69, 'start_time': 28.895833333333332, 'type': 'note_on'},\n",
       " {'note': 60, 'start_time': 28.895833333333332, 'type': 'note_off'},\n",
       " {'note': 60, 'start_time': 28.895833333333332, 'type': 'note_on'},\n",
       " {'note': 60, 'start_time': 28.895833333333332, 'type': 'note_off'},\n",
       " {'note': 47, 'start_time': 28.895833333333332, 'type': 'note_on'},\n",
       " {'note': 60, 'start_time': 28.895833333333332, 'type': 'note_off'},\n",
       " {'note': 53, 'start_time': 29.145833333333332, 'type': 'note_off'},\n",
       " {'note': 47, 'start_time': 29.145833333333332, 'type': 'note_off'},\n",
       " {'note': 49, 'start_time': 29.145833333333332, 'type': 'note_on'},\n",
       " {'note': 68, 'start_time': 29.645833333333332, 'type': 'note_off'},\n",
       " {'note': 69, 'start_time': 29.645833333333332, 'type': 'note_on'},\n",
       " {'note': 69, 'start_time': 29.895833333333332, 'type': 'note_off'},\n",
       " {'note': 70, 'start_time': 29.895833333333332, 'type': 'note_on'},\n",
       " {'note': 67, 'start_time': 29.895833333333332, 'type': 'note_off'},\n",
       " {'note': 70, 'start_time': 29.895833333333332, 'type': 'note_on'},\n",
       " {'note': 70, 'start_time': 30.145833333333332, 'type': 'note_off'},\n",
       " {'note': 67, 'start_time': 30.145833333333332, 'type': 'note_on'},\n",
       " {'note': 67, 'start_time': 30.395833333333332, 'type': 'note_off'},\n",
       " {'note': 55, 'start_time': 30.645833333333332, 'type': 'note_on'},\n",
       " {'note': 84, 'start_time': 31.395833333333332, 'type': 'note_off'},\n",
       " {'note': 36, 'start_time': 31.645833333333332, 'type': 'note_on'},\n",
       " {'note': 36, 'start_time': 31.895833333333332, 'type': 'note_on'},\n",
       " {'note': 36, 'start_time': 31.895833333333332, 'type': 'note_off'},\n",
       " {'note': 36, 'start_time': 31.895833333333332, 'type': 'note_on'},\n",
       " {'note': 36, 'start_time': 32.39583333333333, 'type': 'note_off'},\n",
       " {'note': 43, 'start_time': 32.39583333333333, 'type': 'note_on'},\n",
       " {'note': 43, 'start_time': 35.64583333333333, 'type': 'note_off'},\n",
       " {'note': 67, 'start_time': 36.14583333333333, 'type': 'note_off'},\n",
       " {'note': 70, 'start_time': 36.14583333333333, 'type': 'note_on'},\n",
       " {'note': 67, 'start_time': 36.39583333333333, 'type': 'note_off'},\n",
       " {'note': 67, 'start_time': 36.39583333333333, 'type': 'note_on'},\n",
       " {'note': 67, 'start_time': 36.64583333333333, 'type': 'note_off'},\n",
       " {'note': 69, 'start_time': 36.64583333333333, 'type': 'note_on'},\n",
       " {'note': 65, 'start_time': 37.62499999999999, 'type': 'note_on'},\n",
       " {'note': 65, 'start_time': 37.87499999999999, 'type': 'note_off'},\n",
       " {'note': 70, 'start_time': 38.12499999999999, 'type': 'note_on'},\n",
       " {'note': 70, 'start_time': 38.12499999999999, 'type': 'note_off'},\n",
       " {'note': 70, 'start_time': 38.12499999999999, 'type': 'note_off'},\n",
       " {'note': 58, 'start_time': 38.12499999999999, 'type': 'note_on'},\n",
       " {'note': 70, 'start_time': 38.12499999999999, 'type': 'note_off'},\n",
       " {'note': 74, 'start_time': 38.12499999999999, 'type': 'note_on'},\n",
       " {'note': 49, 'start_time': 38.12499999999999, 'type': 'note_on'},\n",
       " {'note': 49, 'start_time': 38.37499999999999, 'type': 'note_off'},\n",
       " {'note': 78, 'start_time': 39.12499999999999, 'type': 'note_off'},\n",
       " {'note': 52, 'start_time': 39.62499999999999, 'type': 'note_off'},\n",
       " {'note': 54, 'start_time': 40.12499999999999, 'type': 'note_off'},\n",
       " {'note': 52, 'start_time': 40.62499999999999, 'type': 'note_off'},\n",
       " {'note': 52, 'start_time': 40.62499999999999, 'type': 'note_on'},\n",
       " {'note': 64, 'start_time': 41.62499999999999, 'type': 'note_off'},\n",
       " {'note': 52, 'start_time': 41.62499999999999, 'type': 'note_on'},\n",
       " {'note': 52, 'start_time': 42.12499999999999, 'type': 'note_off'},\n",
       " {'note': 54, 'start_time': 42.12499999999999, 'type': 'note_on'},\n",
       " {'note': 54, 'start_time': 42.12499999999999, 'type': 'note_off'},\n",
       " {'note': 58, 'start_time': 42.62499999999999, 'type': 'note_off'},\n",
       " {'note': 78, 'start_time': 42.87499999999999, 'type': 'note_on'},\n",
       " {'note': 68, 'start_time': 42.87499999999999, 'type': 'note_off'},\n",
       " {'note': 68, 'start_time': 42.87499999999999, 'type': 'note_off'},\n",
       " {'note': 74, 'start_time': 42.87499999999999, 'type': 'note_on'},\n",
       " {'note': 64, 'start_time': 43.12499999999999, 'type': 'note_off'},\n",
       " {'note': 86, 'start_time': 43.37499999999999, 'type': 'note_off'},\n",
       " {'note': 77, 'start_time': 43.37499999999999, 'type': 'note_on'},\n",
       " {'note': 82, 'start_time': 43.37499999999999, 'type': 'note_off'},\n",
       " {'note': 77, 'start_time': 43.37499999999999, 'type': 'note_on'},\n",
       " {'note': 77, 'start_time': 43.37499999999999, 'type': 'note_off'},\n",
       " {'note': 98, 'start_time': 44.12499999999999, 'type': 'note_off'},\n",
       " {'note': 18, 'start_time': 44.62499999999999, 'type': 'note_off'},\n",
       " {'note': 41, 'start_time': 44.62499999999999, 'type': 'note_on'},\n",
       " {'note': 73, 'start_time': 44.87499999999999, 'type': 'note_off'},\n",
       " {'note': 65, 'start_time': 45.65624999999999, 'type': 'note_on'},\n",
       " {'note': 73, 'start_time': 45.90624999999999, 'type': 'note_off'},\n",
       " {'note': 70, 'start_time': 48.65624999999999, 'type': 'note_on'},\n",
       " {'note': 65, 'start_time': 49.15624999999999, 'type': 'note_on'},\n",
       " {'note': 65, 'start_time': 54.90624999999999, 'type': 'note_on'},\n",
       " {'note': 53, 'start_time': 54.90624999999999, 'type': 'note_off'},\n",
       " {'note': 53, 'start_time': 55.40624999999999, 'type': 'note_off'},\n",
       " {'note': 83, 'start_time': 55.40624999999999, 'type': 'note_off'},\n",
       " {'note': 42, 'start_time': 55.40624999999999, 'type': 'note_on'},\n",
       " {'note': 42, 'start_time': 55.40624999999999, 'type': 'note_on'},\n",
       " {'note': 60, 'start_time': 55.40624999999999, 'type': 'note_off'},\n",
       " {'note': 84, 'start_time': 55.40624999999999, 'type': 'note_off'},\n",
       " {'note': 43, 'start_time': 56.40624999999999, 'type': 'note_on'},\n",
       " {'note': 77, 'start_time': 56.90624999999999, 'type': 'note_off'},\n",
       " {'note': 83, 'start_time': 57.40624999999999, 'type': 'note_off'},\n",
       " {'note': 84, 'start_time': 57.40624999999999, 'type': 'note_off'},\n",
       " {'note': 84, 'start_time': 57.40624999999999, 'type': 'note_off'},\n",
       " {'note': 43, 'start_time': 57.40624999999999, 'type': 'note_on'},\n",
       " {'note': 84, 'start_time': 57.40624999999999, 'type': 'note_off'},\n",
       " {'note': 77, 'start_time': 57.40624999999999, 'type': 'note_off'},\n",
       " {'note': 77, 'start_time': 57.40624999999999, 'type': 'note_off'},\n",
       " {'note': 84, 'start_time': 57.40624999999999, 'type': 'note_off'},\n",
       " {'note': 81, 'start_time': 57.40624999999999, 'type': 'note_on'},\n",
       " {'note': 83, 'start_time': 57.40624999999999, 'type': 'note_off'},\n",
       " {'note': 88, 'start_time': 57.40624999999999, 'type': 'note_off'},\n",
       " {'note': 42, 'start_time': 57.40624999999999, 'type': 'note_on'},\n",
       " {'note': 38, 'start_time': 57.40624999999999, 'type': 'note_off'},\n",
       " {'note': 88, 'start_time': 57.40624999999999, 'type': 'note_off'},\n",
       " {'note': 42, 'start_time': 57.40624999999999, 'type': 'note_on'},\n",
       " {'note': 42, 'start_time': 57.40624999999999, 'type': 'note_off'},\n",
       " {'note': 43, 'start_time': 57.40624999999999, 'type': 'note_on'},\n",
       " {'note': 88, 'start_time': 57.65624999999999, 'type': 'note_off'},\n",
       " {'note': 39, 'start_time': 57.65624999999999, 'type': 'note_on'},\n",
       " {'note': 39, 'start_time': 57.65624999999999, 'type': 'note_on'},\n",
       " {'note': 84, 'start_time': 57.65624999999999, 'type': 'note_off'},\n",
       " {'note': 39, 'start_time': 57.65624999999999, 'type': 'note_off'}]"
      ]
     },
     "execution_count": 54,
     "metadata": {},
     "output_type": "execute_result"
    }
   ],
   "source": [
    "track_sequence[1]"
   ]
  },
  {
   "cell_type": "code",
   "execution_count": 55,
   "metadata": {},
   "outputs": [
    {
     "data": {
      "text/plain": [
       "<midi file None type 1, 4 tracks, 864 messages>"
      ]
     },
     "execution_count": 55,
     "metadata": {},
     "output_type": "execute_result"
    }
   ],
   "source": [
    "midi = get_midi_from_vector_sequence(track_sequence)\n",
    "midi"
   ]
  },
  {
   "cell_type": "markdown",
   "metadata": {},
   "source": [
    "# Save midi"
   ]
  },
  {
   "cell_type": "code",
   "execution_count": 56,
   "metadata": {
    "collapsed": true
   },
   "outputs": [],
   "source": [
    "generation_output = \"generated_music/\""
   ]
  },
  {
   "cell_type": "code",
   "execution_count": 57,
   "metadata": {},
   "outputs": [
    {
     "data": {
      "text/plain": [
       "'Generated Music (Date=2017-11-13 16.03, Temperature=1.0, Length=1000, MinValidLoss=4.17, TrainLoss=2.43, Iterations=5854).mid'"
      ]
     },
     "execution_count": 57,
     "metadata": {},
     "output_type": "execute_result"
    }
   ],
   "source": [
    "midi_name = \"Generated Music (Date={}, Temperature={}, Length={}, MinValidLoss={:.2f}, TrainLoss={:.2f}, Iterations={}).mid\". \\\n",
    "    format(date, temperature, N_GENERATED_NOTE_VECTORS, min_valid_loss, train_loss_mean, len(validation_loss_list))\n",
    "midi_name"
   ]
  },
  {
   "cell_type": "code",
   "execution_count": 58,
   "metadata": {
    "collapsed": true
   },
   "outputs": [],
   "source": [
    "midi.save(generation_output + midi_name)"
   ]
  }
 ],
 "metadata": {
  "kernelspec": {
   "display_name": "Python 3",
   "language": "python",
   "name": "python3"
  },
  "language_info": {
   "codemirror_mode": {
    "name": "ipython",
    "version": 3
   },
   "file_extension": ".py",
   "mimetype": "text/x-python",
   "name": "python",
   "nbconvert_exporter": "python",
   "pygments_lexer": "ipython3",
   "version": "3.6.2"
  }
 },
 "nbformat": 4,
 "nbformat_minor": 2
}
