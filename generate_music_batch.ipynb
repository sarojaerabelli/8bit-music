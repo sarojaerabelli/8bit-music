{
 "cells": [
  {
   "cell_type": "code",
   "execution_count": 1,
   "metadata": {
    "collapsed": true
   },
   "outputs": [],
   "source": [
    "import mido\n",
    "import os\n",
    "import numpy as np\n",
    "from scipy import stats\n",
    "from os import listdir\n",
    "from os.path import isfile, join\n",
    "import tensorflow as tf\n",
    "from tensorflow.contrib import rnn\n",
    "import time\n",
    "\n",
    "import matplotlib.pyplot as plt\n",
    "from pylab import rcParams\n",
    "rcParams['figure.figsize'] = (12, 8)"
   ]
  },
  {
   "cell_type": "code",
   "execution_count": 2,
   "metadata": {
    "collapsed": true
   },
   "outputs": [],
   "source": [
    "TICKS_PER_BEAT = 480\n",
    "TEMPO = int(mido.bpm2tempo(120))"
   ]
  },
  {
   "cell_type": "code",
   "execution_count": 3,
   "metadata": {
    "collapsed": true
   },
   "outputs": [],
   "source": [
    "%run get_training_data.py"
   ]
  },
  {
   "cell_type": "markdown",
   "metadata": {},
   "source": [
    "### Create training data"
   ]
  },
  {
   "cell_type": "code",
   "execution_count": 4,
   "metadata": {
    "collapsed": true
   },
   "outputs": [],
   "source": [
    "def get_training_data(start_index, end_index):\n",
    "    \"\"\"Generate training data array for all files in \"midis_processed/\" directory.\n",
    "       \n",
    "    Returns:\n",
    "        Numpy array of training data.\n",
    "    \"\"\"\n",
    "    training_data = []\n",
    "    training_data_labels = []\n",
    "    for filename in os.listdir('midis_processed/')[start_index:end_index]:\n",
    "        if filename.endswith(\".mid\"):\n",
    "            vector = midi_to_vector('midis_processed/' + filename)\n",
    "            if len(vector) > 100:\n",
    "                training_data.append(np.array(vector))\n",
    "                training_data_labels.append(filename)\n",
    "            else:\n",
    "                print(\"Faulty training data: \" + filename + \". len(vector)=\" + str(len(vector)))\n",
    "    return np.array(training_data), training_data_labels"
   ]
  },
  {
   "cell_type": "code",
   "execution_count": 5,
   "metadata": {
    "collapsed": true,
    "scrolled": true
   },
   "outputs": [],
   "source": [
    "# Set num training examples here. Note: actual number will be less, since some have errors\n",
    "training_data, training_data_labels = get_training_data(162, 163)"
   ]
  },
  {
   "cell_type": "code",
   "execution_count": 6,
   "metadata": {},
   "outputs": [
    {
     "name": "stdout",
     "output_type": "stream",
     "text": [
      "Number of training examples: 1\n"
     ]
    },
    {
     "data": {
      "text/plain": [
       "['Batmango.mid']"
      ]
     },
     "execution_count": 6,
     "metadata": {},
     "output_type": "execute_result"
    }
   ],
   "source": [
    "print(\"Number of training examples:\", len(training_data))\n",
    "training_data_labels"
   ]
  },
  {
   "cell_type": "code",
   "execution_count": 7,
   "metadata": {},
   "outputs": [
    {
     "data": {
      "text/plain": [
       "(1736, 1120)"
      ]
     },
     "execution_count": 7,
     "metadata": {},
     "output_type": "execute_result"
    }
   ],
   "source": [
    "training_data = np.array([np.array(x) for x in training_data])\n",
    "training_data[0].shape"
   ]
  },
  {
   "cell_type": "code",
   "execution_count": 8,
   "metadata": {
    "collapsed": true
   },
   "outputs": [],
   "source": [
    "tracks = get_note_sequences('midis_processed/Batmango.mid')\n",
    "training_example = np.array([np.array(x) for x in tracks_to_vector_sequence(tracks[:4])])\n",
    "training_data = [training_example]"
   ]
  },
  {
   "cell_type": "markdown",
   "metadata": {},
   "source": [
    "### Parameters"
   ]
  },
  {
   "cell_type": "code",
   "execution_count": 9,
   "metadata": {
    "collapsed": true
   },
   "outputs": [],
   "source": [
    "# Parameters\n",
    "batch_size = 4\n",
    "learning_rate = 0.001\n",
    "training_iters = 10000\n",
    "n_input = 50\n",
    "display_step = 5\n",
    "\n",
    "# number of units in RNN cell\n",
    "n_hidden = 512\n",
    "n_layers = 2"
   ]
  },
  {
   "cell_type": "markdown",
   "metadata": {},
   "source": [
    "### Create log file"
   ]
  },
  {
   "cell_type": "code",
   "execution_count": 10,
   "metadata": {
    "collapsed": true
   },
   "outputs": [],
   "source": [
    "logfile_directory = 'logs/'"
   ]
  },
  {
   "cell_type": "code",
   "execution_count": 11,
   "metadata": {},
   "outputs": [
    {
     "data": {
      "text/plain": [
       "'Logfile (Date=2017-11-12 01.21, NTraining=1, NHidden=512, Batch=4, LR=0.001).txt'"
      ]
     },
     "execution_count": 11,
     "metadata": {},
     "output_type": "execute_result"
    }
   ],
   "source": [
    "date = time.strftime(\"%Y-%m-%d %H.%M\")\n",
    "logfile_name = \"Logfile (Date={}, NTraining={}, NHidden={}, Batch={}, LR={}).txt\". \\\n",
    "    format(date, len(training_data), n_hidden, batch_size, learning_rate)\n",
    "logfile_name"
   ]
  },
  {
   "cell_type": "markdown",
   "metadata": {},
   "source": [
    "### Create tensor flow graph"
   ]
  },
  {
   "cell_type": "code",
   "execution_count": 12,
   "metadata": {},
   "outputs": [
    {
     "data": {
      "text/plain": [
       "1120"
      ]
     },
     "execution_count": 12,
     "metadata": {},
     "output_type": "execute_result"
    }
   ],
   "source": [
    "vocab_size = len(training_data[0][0])\n",
    "vocab_size"
   ]
  },
  {
   "cell_type": "code",
   "execution_count": 13,
   "metadata": {
    "collapsed": true
   },
   "outputs": [],
   "source": [
    "# tf Graph input\n",
    "x = tf.placeholder(\"float\", [batch_size, n_input, vocab_size])\n",
    "y = tf.placeholder(\"int32\", [batch_size, n_input])\n",
    "\n",
    "# RNN output node weights and biases\n",
    "softmax_w = tf.Variable(tf.random_normal([n_hidden, vocab_size]))\n",
    "softmax_b = tf.Variable(tf.random_normal([vocab_size]))\n",
    "\n",
    "max_grad_norm = 5"
   ]
  },
  {
   "cell_type": "code",
   "execution_count": 14,
   "metadata": {
    "collapsed": true
   },
   "outputs": [],
   "source": [
    "# tf Graph generative input\n",
    "x_generation = tf.placeholder(\"float\", [1, vocab_size])"
   ]
  },
  {
   "cell_type": "code",
   "execution_count": 15,
   "metadata": {
    "collapsed": true
   },
   "outputs": [],
   "source": [
    "rnn_cell = rnn.MultiRNNCell([rnn.BasicLSTMCell(n_hidden) for _ in range(n_layers)])\n",
    "x_split = tf.unstack(x, n_input, 1)"
   ]
  },
  {
   "cell_type": "code",
   "execution_count": 16,
   "metadata": {
    "collapsed": true
   },
   "outputs": [],
   "source": [
    "outputs, states = rnn.static_rnn(rnn_cell, x_split, dtype=tf.float32)\n",
    "logits = [tf.nn.xw_plus_b(output, softmax_w, softmax_b) for output in outputs]\n",
    "logits = tf.reshape(tf.split(tf.reshape(logits, [n_input, batch_size, vocab_size]), batch_size, 1), [batch_size, n_input, vocab_size])"
   ]
  },
  {
   "cell_type": "code",
   "execution_count": 17,
   "metadata": {},
   "outputs": [],
   "source": [
    "loss = tf.contrib.seq2seq.sequence_loss(logits, y, weights=tf.ones([batch_size, n_input], dtype=tf.float32), # check this\n",
    "                                        average_across_timesteps=True, average_across_batch=True)\n",
    "cost = tf.reduce_sum(loss)\n",
    "optimizer = tf.train.RMSPropOptimizer(learning_rate=learning_rate).minimize(cost)"
   ]
  },
  {
   "cell_type": "markdown",
   "metadata": {},
   "source": [
    "## Run tensor flow session"
   ]
  },
  {
   "cell_type": "code",
   "execution_count": 18,
   "metadata": {
    "collapsed": true
   },
   "outputs": [],
   "source": [
    "session = tf.Session()"
   ]
  },
  {
   "cell_type": "code",
   "execution_count": 19,
   "metadata": {
    "collapsed": true
   },
   "outputs": [],
   "source": [
    "def get_midi_xy(midi_file_number):\n",
    "    offset = np.random.randint(0, len(training_data[midi_file_number]) - n_input - 1)\n",
    "    midi_x = training_data[midi_file_number][offset:offset+n_input]\n",
    "    midi_y = training_data[midi_file_number][1 + offset:1 + offset+n_input].dot(range(vocab_size)).reshape(1, n_input)\n",
    "    return midi_x, midi_y"
   ]
  },
  {
   "cell_type": "code",
   "execution_count": 20,
   "metadata": {
    "collapsed": true
   },
   "outputs": [],
   "source": [
    "def get_batch():\n",
    "    \"\"\"Generate random batches of x and y training vectors for RNN.\n",
    "       \n",
    "    Returns:\n",
    "        Two batches of x and y vectors.\n",
    "    \"\"\"\n",
    "    batch_x = []\n",
    "    batch_y = []\n",
    "    batch = np.random.choice(range(len(training_data)), batch_size, replace=True)\n",
    "    for b in batch:\n",
    "        midi_x, midi_y = get_midi_xy(b%len(training_data))\n",
    "        batch_x.append(midi_x)\n",
    "        batch_y.append(midi_y)\n",
    "    batch_y = np.reshape(batch_y, [batch_size, n_input])\n",
    "    return batch_x, batch_y"
   ]
  },
  {
   "cell_type": "code",
   "execution_count": 21,
   "metadata": {
    "collapsed": true
   },
   "outputs": [],
   "source": [
    "def seconds_to_minsecstr(seconds):\n",
    "    minutes = seconds//60\n",
    "    seconds -= 60*minutes\n",
    "    if minutes < 10: minutes = \"0\" + str(minutes)\n",
    "    if seconds < 10: seconds = \"0\" + str(seconds)\n",
    "    return str(minutes) + \":\" + str(seconds)"
   ]
  },
  {
   "cell_type": "code",
   "execution_count": 22,
   "metadata": {
    "scrolled": true
   },
   "outputs": [
    {
     "name": "stdout",
     "output_type": "stream",
     "text": [
      "Iter=5, Average Loss=7.590516, Time Elapsed=00:10\n",
      "Iter=10, Average Loss=7.342360, Time Elapsed=00:21\n",
      "Iter=15, Average Loss=7.091177, Time Elapsed=00:33\n",
      "Iter=20, Average Loss=6.740216, Time Elapsed=00:44\n",
      "Iter=25, Average Loss=6.381458, Time Elapsed=00:51\n",
      "Iter=30, Average Loss=6.184270, Time Elapsed=00:59\n",
      "Iter=35, Average Loss=5.895248, Time Elapsed=01:06\n",
      "Iter=40, Average Loss=5.629375, Time Elapsed=01:14\n",
      "Iter=45, Average Loss=5.462911, Time Elapsed=01:21\n",
      "Iter=50, Average Loss=5.150347, Time Elapsed=01:28\n",
      "Iter=55, Average Loss=4.958259, Time Elapsed=01:36\n",
      "Iter=60, Average Loss=4.894413, Time Elapsed=01:43\n",
      "Iter=65, Average Loss=5.548786, Time Elapsed=01:50\n",
      "Iter=70, Average Loss=4.834634, Time Elapsed=01:58\n",
      "Iter=75, Average Loss=4.654604, Time Elapsed=02:07\n",
      "Iter=80, Average Loss=4.874369, Time Elapsed=02:15\n",
      "Iter=85, Average Loss=4.973071, Time Elapsed=02:22\n",
      "Iter=90, Average Loss=4.573005, Time Elapsed=02:29\n",
      "Iter=95, Average Loss=4.464562, Time Elapsed=02:37\n",
      "Iter=100, Average Loss=4.662899, Time Elapsed=02:44\n",
      "Iter=105, Average Loss=4.339841, Time Elapsed=02:51\n",
      "Iter=110, Average Loss=4.493989, Time Elapsed=03:01\n",
      "Iter=115, Average Loss=4.085416, Time Elapsed=03:09\n",
      "Iter=120, Average Loss=4.206210, Time Elapsed=03:16\n",
      "Iter=125, Average Loss=3.833247, Time Elapsed=03:23\n",
      "Iter=130, Average Loss=3.754492, Time Elapsed=03:31\n",
      "Iter=135, Average Loss=3.463531, Time Elapsed=03:39\n",
      "Iter=140, Average Loss=3.242364, Time Elapsed=03:46\n",
      "Iter=145, Average Loss=3.035367, Time Elapsed=03:53\n",
      "Iter=150, Average Loss=2.930747, Time Elapsed=04:00\n",
      "Iter=155, Average Loss=2.693220, Time Elapsed=04:07\n",
      "Iter=160, Average Loss=2.567588, Time Elapsed=04:14\n",
      "Iter=165, Average Loss=2.350034, Time Elapsed=04:22\n",
      "Iter=170, Average Loss=2.024309, Time Elapsed=04:29\n",
      "Iter=175, Average Loss=1.872357, Time Elapsed=04:36\n",
      "Iter=180, Average Loss=2.294784, Time Elapsed=04:44\n",
      "Iter=185, Average Loss=1.630479, Time Elapsed=04:51\n",
      "Iter=190, Average Loss=1.754425, Time Elapsed=04:59\n",
      "Iter=195, Average Loss=1.782514, Time Elapsed=05:06\n",
      "Iter=200, Average Loss=1.353146, Time Elapsed=05:13\n",
      "Iter=205, Average Loss=1.371101, Time Elapsed=05:22\n",
      "Iter=210, Average Loss=1.157585, Time Elapsed=05:31\n",
      "Iter=215, Average Loss=1.173220, Time Elapsed=05:38\n",
      "Iter=220, Average Loss=1.102195, Time Elapsed=05:45\n",
      "Iter=225, Average Loss=1.147319, Time Elapsed=05:51\n",
      "Iter=230, Average Loss=0.914265, Time Elapsed=05:58\n",
      "Iter=235, Average Loss=1.031132, Time Elapsed=06:04\n",
      "Iter=240, Average Loss=0.736206, Time Elapsed=06:10\n",
      "Iter=245, Average Loss=0.686242, Time Elapsed=06:17\n",
      "Iter=250, Average Loss=0.720869, Time Elapsed=06:23\n",
      "Iter=255, Average Loss=0.650254, Time Elapsed=06:30\n",
      "Iter=260, Average Loss=0.595135, Time Elapsed=06:37\n",
      "Iter=265, Average Loss=0.461891, Time Elapsed=06:44\n",
      "Iter=270, Average Loss=0.545409, Time Elapsed=06:51\n",
      "Iter=275, Average Loss=0.444129, Time Elapsed=06:58\n",
      "Iter=280, Average Loss=0.464337, Time Elapsed=07:06\n",
      "Iter=285, Average Loss=0.462098, Time Elapsed=07:14\n",
      "Iter=290, Average Loss=0.344692, Time Elapsed=07:21\n",
      "Iter=295, Average Loss=0.377888, Time Elapsed=07:27\n",
      "Iter=300, Average Loss=0.399950, Time Elapsed=07:34\n",
      "Iter=305, Average Loss=0.337039, Time Elapsed=07:40\n",
      "Iter=310, Average Loss=0.378738, Time Elapsed=07:47\n",
      "Iter=315, Average Loss=0.286234, Time Elapsed=07:55\n",
      "Iter=320, Average Loss=0.307174, Time Elapsed=08:03\n",
      "Iter=325, Average Loss=0.251846, Time Elapsed=08:11\n",
      "Iter=330, Average Loss=0.259379, Time Elapsed=08:19\n",
      "Iter=335, Average Loss=0.451321, Time Elapsed=08:26\n",
      "Iter=340, Average Loss=0.268208, Time Elapsed=08:35\n"
     ]
    },
    {
     "ename": "KeyboardInterrupt",
     "evalue": "",
     "output_type": "error",
     "traceback": [
      "\u001b[1;31m---------------------------------------------------------------------------\u001b[0m",
      "\u001b[1;31mKeyboardInterrupt\u001b[0m                         Traceback (most recent call last)",
      "\u001b[1;32m<ipython-input-22-320a15cb9c0d>\u001b[0m in \u001b[0;36m<module>\u001b[1;34m()\u001b[0m\n\u001b[0;32m     14\u001b[0m     \u001b[0mbatch_x\u001b[0m\u001b[1;33m,\u001b[0m \u001b[0mbatch_y\u001b[0m \u001b[1;33m=\u001b[0m \u001b[0mget_batch\u001b[0m\u001b[1;33m(\u001b[0m\u001b[1;33m)\u001b[0m\u001b[1;33m\u001b[0m\u001b[0m\n\u001b[0;32m     15\u001b[0m \u001b[1;33m\u001b[0m\u001b[0m\n\u001b[1;32m---> 16\u001b[1;33m     \u001b[0m_\u001b[0m\u001b[1;33m,\u001b[0m \u001b[0mloss\u001b[0m \u001b[1;33m=\u001b[0m \u001b[0msession\u001b[0m\u001b[1;33m.\u001b[0m\u001b[0mrun\u001b[0m\u001b[1;33m(\u001b[0m\u001b[1;33m[\u001b[0m\u001b[0moptimizer\u001b[0m\u001b[1;33m,\u001b[0m \u001b[0mcost\u001b[0m\u001b[1;33m]\u001b[0m\u001b[1;33m,\u001b[0m \u001b[0mfeed_dict\u001b[0m\u001b[1;33m=\u001b[0m\u001b[1;33m{\u001b[0m\u001b[0mx\u001b[0m\u001b[1;33m:\u001b[0m \u001b[0mbatch_x\u001b[0m\u001b[1;33m,\u001b[0m \u001b[0my\u001b[0m\u001b[1;33m:\u001b[0m \u001b[0mbatch_y\u001b[0m\u001b[1;33m}\u001b[0m\u001b[1;33m)\u001b[0m\u001b[1;33m\u001b[0m\u001b[0m\n\u001b[0m\u001b[0;32m     17\u001b[0m     \u001b[0mloss_total\u001b[0m \u001b[1;33m+=\u001b[0m \u001b[0mloss\u001b[0m\u001b[1;33m\u001b[0m\u001b[0m\n\u001b[0;32m     18\u001b[0m     log = \"Iter=\" + str(step+1) + \", Average Loss={:.6f}, Time Elapsed={}\".format(loss, \n",
      "\u001b[1;32m~\\Anaconda3\\lib\\site-packages\\tensorflow\\python\\client\\session.py\u001b[0m in \u001b[0;36mrun\u001b[1;34m(self, fetches, feed_dict, options, run_metadata)\u001b[0m\n\u001b[0;32m    887\u001b[0m     \u001b[1;32mtry\u001b[0m\u001b[1;33m:\u001b[0m\u001b[1;33m\u001b[0m\u001b[0m\n\u001b[0;32m    888\u001b[0m       result = self._run(None, fetches, feed_dict, options_ptr,\n\u001b[1;32m--> 889\u001b[1;33m                          run_metadata_ptr)\n\u001b[0m\u001b[0;32m    890\u001b[0m       \u001b[1;32mif\u001b[0m \u001b[0mrun_metadata\u001b[0m\u001b[1;33m:\u001b[0m\u001b[1;33m\u001b[0m\u001b[0m\n\u001b[0;32m    891\u001b[0m         \u001b[0mproto_data\u001b[0m \u001b[1;33m=\u001b[0m \u001b[0mtf_session\u001b[0m\u001b[1;33m.\u001b[0m\u001b[0mTF_GetBuffer\u001b[0m\u001b[1;33m(\u001b[0m\u001b[0mrun_metadata_ptr\u001b[0m\u001b[1;33m)\u001b[0m\u001b[1;33m\u001b[0m\u001b[0m\n",
      "\u001b[1;32m~\\Anaconda3\\lib\\site-packages\\tensorflow\\python\\client\\session.py\u001b[0m in \u001b[0;36m_run\u001b[1;34m(self, handle, fetches, feed_dict, options, run_metadata)\u001b[0m\n\u001b[0;32m   1118\u001b[0m     \u001b[1;32mif\u001b[0m \u001b[0mfinal_fetches\u001b[0m \u001b[1;32mor\u001b[0m \u001b[0mfinal_targets\u001b[0m \u001b[1;32mor\u001b[0m \u001b[1;33m(\u001b[0m\u001b[0mhandle\u001b[0m \u001b[1;32mand\u001b[0m \u001b[0mfeed_dict_tensor\u001b[0m\u001b[1;33m)\u001b[0m\u001b[1;33m:\u001b[0m\u001b[1;33m\u001b[0m\u001b[0m\n\u001b[0;32m   1119\u001b[0m       results = self._do_run(handle, final_targets, final_fetches,\n\u001b[1;32m-> 1120\u001b[1;33m                              feed_dict_tensor, options, run_metadata)\n\u001b[0m\u001b[0;32m   1121\u001b[0m     \u001b[1;32melse\u001b[0m\u001b[1;33m:\u001b[0m\u001b[1;33m\u001b[0m\u001b[0m\n\u001b[0;32m   1122\u001b[0m       \u001b[0mresults\u001b[0m \u001b[1;33m=\u001b[0m \u001b[1;33m[\u001b[0m\u001b[1;33m]\u001b[0m\u001b[1;33m\u001b[0m\u001b[0m\n",
      "\u001b[1;32m~\\Anaconda3\\lib\\site-packages\\tensorflow\\python\\client\\session.py\u001b[0m in \u001b[0;36m_do_run\u001b[1;34m(self, handle, target_list, fetch_list, feed_dict, options, run_metadata)\u001b[0m\n\u001b[0;32m   1315\u001b[0m     \u001b[1;32mif\u001b[0m \u001b[0mhandle\u001b[0m \u001b[1;32mis\u001b[0m \u001b[1;32mNone\u001b[0m\u001b[1;33m:\u001b[0m\u001b[1;33m\u001b[0m\u001b[0m\n\u001b[0;32m   1316\u001b[0m       return self._do_call(_run_fn, self._session, feeds, fetches, targets,\n\u001b[1;32m-> 1317\u001b[1;33m                            options, run_metadata)\n\u001b[0m\u001b[0;32m   1318\u001b[0m     \u001b[1;32melse\u001b[0m\u001b[1;33m:\u001b[0m\u001b[1;33m\u001b[0m\u001b[0m\n\u001b[0;32m   1319\u001b[0m       \u001b[1;32mreturn\u001b[0m \u001b[0mself\u001b[0m\u001b[1;33m.\u001b[0m\u001b[0m_do_call\u001b[0m\u001b[1;33m(\u001b[0m\u001b[0m_prun_fn\u001b[0m\u001b[1;33m,\u001b[0m \u001b[0mself\u001b[0m\u001b[1;33m.\u001b[0m\u001b[0m_session\u001b[0m\u001b[1;33m,\u001b[0m \u001b[0mhandle\u001b[0m\u001b[1;33m,\u001b[0m \u001b[0mfeeds\u001b[0m\u001b[1;33m,\u001b[0m \u001b[0mfetches\u001b[0m\u001b[1;33m)\u001b[0m\u001b[1;33m\u001b[0m\u001b[0m\n",
      "\u001b[1;32m~\\Anaconda3\\lib\\site-packages\\tensorflow\\python\\client\\session.py\u001b[0m in \u001b[0;36m_do_call\u001b[1;34m(self, fn, *args)\u001b[0m\n\u001b[0;32m   1321\u001b[0m   \u001b[1;32mdef\u001b[0m \u001b[0m_do_call\u001b[0m\u001b[1;33m(\u001b[0m\u001b[0mself\u001b[0m\u001b[1;33m,\u001b[0m \u001b[0mfn\u001b[0m\u001b[1;33m,\u001b[0m \u001b[1;33m*\u001b[0m\u001b[0margs\u001b[0m\u001b[1;33m)\u001b[0m\u001b[1;33m:\u001b[0m\u001b[1;33m\u001b[0m\u001b[0m\n\u001b[0;32m   1322\u001b[0m     \u001b[1;32mtry\u001b[0m\u001b[1;33m:\u001b[0m\u001b[1;33m\u001b[0m\u001b[0m\n\u001b[1;32m-> 1323\u001b[1;33m       \u001b[1;32mreturn\u001b[0m \u001b[0mfn\u001b[0m\u001b[1;33m(\u001b[0m\u001b[1;33m*\u001b[0m\u001b[0margs\u001b[0m\u001b[1;33m)\u001b[0m\u001b[1;33m\u001b[0m\u001b[0m\n\u001b[0m\u001b[0;32m   1324\u001b[0m     \u001b[1;32mexcept\u001b[0m \u001b[0merrors\u001b[0m\u001b[1;33m.\u001b[0m\u001b[0mOpError\u001b[0m \u001b[1;32mas\u001b[0m \u001b[0me\u001b[0m\u001b[1;33m:\u001b[0m\u001b[1;33m\u001b[0m\u001b[0m\n\u001b[0;32m   1325\u001b[0m       \u001b[0mmessage\u001b[0m \u001b[1;33m=\u001b[0m \u001b[0mcompat\u001b[0m\u001b[1;33m.\u001b[0m\u001b[0mas_text\u001b[0m\u001b[1;33m(\u001b[0m\u001b[0me\u001b[0m\u001b[1;33m.\u001b[0m\u001b[0mmessage\u001b[0m\u001b[1;33m)\u001b[0m\u001b[1;33m\u001b[0m\u001b[0m\n",
      "\u001b[1;32m~\\Anaconda3\\lib\\site-packages\\tensorflow\\python\\client\\session.py\u001b[0m in \u001b[0;36m_run_fn\u001b[1;34m(session, feed_dict, fetch_list, target_list, options, run_metadata)\u001b[0m\n\u001b[0;32m   1300\u001b[0m           return tf_session.TF_Run(session, options,\n\u001b[0;32m   1301\u001b[0m                                    \u001b[0mfeed_dict\u001b[0m\u001b[1;33m,\u001b[0m \u001b[0mfetch_list\u001b[0m\u001b[1;33m,\u001b[0m \u001b[0mtarget_list\u001b[0m\u001b[1;33m,\u001b[0m\u001b[1;33m\u001b[0m\u001b[0m\n\u001b[1;32m-> 1302\u001b[1;33m                                    status, run_metadata)\n\u001b[0m\u001b[0;32m   1303\u001b[0m \u001b[1;33m\u001b[0m\u001b[0m\n\u001b[0;32m   1304\u001b[0m     \u001b[1;32mdef\u001b[0m \u001b[0m_prun_fn\u001b[0m\u001b[1;33m(\u001b[0m\u001b[0msession\u001b[0m\u001b[1;33m,\u001b[0m \u001b[0mhandle\u001b[0m\u001b[1;33m,\u001b[0m \u001b[0mfeed_dict\u001b[0m\u001b[1;33m,\u001b[0m \u001b[0mfetch_list\u001b[0m\u001b[1;33m)\u001b[0m\u001b[1;33m:\u001b[0m\u001b[1;33m\u001b[0m\u001b[0m\n",
      "\u001b[1;31mKeyboardInterrupt\u001b[0m: "
     ]
    }
   ],
   "source": [
    "# Create log file when starting training\n",
    "logfile = open(logfile_directory + logfile_name, \"w\")\n",
    "\n",
    "training_loss_list = []\n",
    "\n",
    "init = tf.global_variables_initializer()\n",
    "session.run(init)\n",
    "step = 0\n",
    "loss_total = 0\n",
    "\n",
    "start_time = time.time()\n",
    "\n",
    "while step < training_iters:\n",
    "    batch_x, batch_y = get_batch()\n",
    "\n",
    "    _, loss = session.run([optimizer, cost], feed_dict={x: batch_x, y: batch_y})\n",
    "    loss_total += loss\n",
    "    log = \"Iter=\" + str(step+1) + \", Average Loss={:.6f}, Time Elapsed={}\".format(loss, \n",
    "             seconds_to_minsecstr(int(time.time()-start_time)))\n",
    "    logfile.write(log + '\\n')\n",
    "    training_loss_list.append(loss)\n",
    "    \n",
    "    if (step+1) % display_step == 0:\n",
    "        display = \"Iter=\" + str(step+1) + \", Average Loss={:.6f}, Time Elapsed={}\".format(loss_total/display_step, \n",
    "             seconds_to_minsecstr(int(time.time()-start_time)))\n",
    "        print(display)\n",
    "        loss_total = 0\n",
    "    step += 1"
   ]
  },
  {
   "cell_type": "code",
   "execution_count": 23,
   "metadata": {
    "collapsed": true
   },
   "outputs": [],
   "source": [
    "logfile.close()"
   ]
  },
  {
   "cell_type": "markdown",
   "metadata": {},
   "source": [
    "### Plots"
   ]
  },
  {
   "cell_type": "code",
   "execution_count": 24,
   "metadata": {},
   "outputs": [
    {
     "data": {
      "image/png": "[encoded data removed]",
      "text/plain": [
       "<matplotlib.figure.Figure at 0x22debdcc4a8>"
      ]
     },
     "metadata": {},
     "output_type": "display_data"
    }
   ],
   "source": [
    "plt.plot(training_loss_list)\n",
    "plt.xlabel('Iteration')\n",
    "plt.title('Training loss over iterations')\n",
    "plt.show()"
   ]
  },
  {
   "cell_type": "markdown",
   "metadata": {},
   "source": [
    "## Generate music from trained model"
   ]
  },
  {
   "cell_type": "code",
   "execution_count": 194,
   "metadata": {
    "collapsed": true
   },
   "outputs": [],
   "source": [
    "N_GENERATED_NOTE_VECTORS = 1000\n",
    "temperature = 1.5"
   ]
  },
  {
   "cell_type": "code",
   "execution_count": 195,
   "metadata": {},
   "outputs": [
    {
     "data": {
      "text/plain": [
       "[<tf.Tensor 'rnn/rnn/multi_rnn_cell/cell_1/cell_1/basic_lstm_cell/mul_179:0' shape=(1, 512) dtype=float32>]"
      ]
     },
     "execution_count": 195,
     "metadata": {},
     "output_type": "execute_result"
    }
   ],
   "source": [
    "state_placeholder = tf.placeholder(tf.float32, [n_layers, 2, 1, n_hidden])\n",
    "l = tf.unstack(state_placeholder, 2, 0)\n",
    "rnn_tuple_state = tuple([tf.nn.rnn_cell.LSTMStateTuple(l[i][0], l[i][1]) for i in range(n_layers)])\n",
    "\n",
    "outputs_generation, states_generation = rnn.static_rnn(rnn_cell, [x_generation], \n",
    "                                                       initial_state=rnn_tuple_state, dtype=tf.float32)\n",
    "outputs_generation"
   ]
  },
  {
   "cell_type": "code",
   "execution_count": 196,
   "metadata": {},
   "outputs": [
    {
     "data": {
      "text/plain": [
       "<tf.Tensor 'xw_plus_b_59:0' shape=(1, 1120) dtype=float32>"
      ]
     },
     "execution_count": 196,
     "metadata": {},
     "output_type": "execute_result"
    }
   ],
   "source": [
    "logits_generation = tf.nn.xw_plus_b(outputs_generation[0], softmax_w, softmax_b)\n",
    "logits_generation"
   ]
  },
  {
   "cell_type": "code",
   "execution_count": 197,
   "metadata": {
    "collapsed": true
   },
   "outputs": [],
   "source": [
    "#seed_note = np.zeros(vocab_size)\n",
    "#seed_note[0] = 1\n",
    "seed_note = training_data[int(len(training_data)*np.random.random())][0]\n",
    "seed_note = np.reshape(seed_note, [1, vocab_size])"
   ]
  },
  {
   "cell_type": "code",
   "execution_count": 198,
   "metadata": {
    "scrolled": false
   },
   "outputs": [
    {
     "name": "stdout",
     "output_type": "stream",
     "text": [
      "[60]\n",
      "[  8.36889201e-04   8.18213448e-05   1.43867277e-03 ...,   7.64681608e-04\n",
      "   4.77384689e-04   1.49352301e-03]\n"
     ]
    },
    {
     "data": {
      "image/png": "[encoded data removed]",
      "text/plain": [
       "<matplotlib.figure.Figure at 0x22d8aaec6d8>"
      ]
     },
     "metadata": {},
     "output_type": "display_data"
    },
    {
     "name": "stdout",
     "output_type": "stream",
     "text": [
      "[ 326.]\n",
      "[  9.31025192e-04   7.61375195e-05   1.43116608e-03 ...,   5.06909215e-04\n",
      "   4.16621013e-04   4.47476376e-03]\n"
     ]
    },
    {
     "data": {
      "image/png": "[encoded data removed]",
      "text/plain": [
       "<matplotlib.figure.Figure at 0x22d87cd9048>"
      ]
     },
     "metadata": {},
     "output_type": "display_data"
    },
    {
     "name": "stdout",
     "output_type": "stream",
     "text": [
      "[ 243.]\n",
      "[  8.52153054e-04   9.06154019e-05   1.56011560e-03 ...,   2.51752295e-04\n",
      "   4.21976554e-04   1.32154338e-02]\n"
     ]
    },
    {
     "data": {
      "image/png": "[encoded data removed]",
      "text/plain": [
       "<matplotlib.figure.Figure at 0x22d84cd15f8>"
      ]
     },
     "metadata": {},
     "output_type": "display_data"
    },
    {
     "name": "stdout",
     "output_type": "stream",
     "text": [
      "[ 523.]\n",
      "[ 0.00063428  0.00010311  0.0013206  ...,  0.00016366  0.0003975\n",
      "  0.02439439]\n"
     ]
    },
    {
     "data": {
      "image/png": "[encoded data removed]",
      "text/plain": [
       "<matplotlib.figure.Figure at 0x22d825fb128>"
      ]
     },
     "metadata": {},
     "output_type": "display_data"
    },
    {
     "name": "stdout",
     "output_type": "stream",
     "text": [
      "[ 814.]\n",
      "[  1.17982694e-04   3.15372999e-05   1.66083773e-04 ...,   3.48979047e-05\n",
      "   8.80175648e-05   3.21920700e-02]\n"
     ]
    },
    {
     "data": {
      "image/png": "[encoded data removed]",
      "text/plain": [
       "<matplotlib.figure.Figure at 0x22ded309c88>"
      ]
     },
     "metadata": {},
     "output_type": "display_data"
    }
   ],
   "source": [
    "generated_music = [seed_note]\n",
    "saved_state = np.zeros((n_layers, 2, 1, n_hidden))\n",
    "for i in range(N_GENERATED_NOTE_VECTORS):\n",
    "    onehot_pred, new_state = session.run([logits_generation, states_generation], \n",
    "                                         feed_dict={x_generation: generated_music[-1], state_placeholder: saved_state})\n",
    "    saved_state = new_state\n",
    "    next_note = np.zeros(vocab_size)\n",
    "    #index = np.argmax(onehot_pred, 1) # take max probability\n",
    "    softmax_cdf = np.exp(onehot_pred[0]/temperature)/np.sum(np.exp(onehot_pred[0]/temperature))\n",
    "    \n",
    "    if i < 5:\n",
    "        print(\"Previous note:\", generated_music[-1].dot(range(1120)))\n",
    "        print(\"Posterior probability:\", softmax_cdf)\n",
    "        plt.plot(softmax_cdf)\n",
    "        plt.show()\n",
    "        \n",
    "    index = np.random.choice(range(vocab_size), p=softmax_cdf) # choose probabilistically\n",
    "    \n",
    "    next_note[index] = 1\n",
    "    next_note = np.reshape(next_note, [1, vocab_size])\n",
    "    \n",
    "    generated_music.append(next_note)"
   ]
  },
  {
   "cell_type": "code",
   "execution_count": 199,
   "metadata": {},
   "outputs": [
    {
     "data": {
      "text/plain": [
       "array([  60.,  326.,  243., ...,  570.,   60.,  698.])"
      ]
     },
     "execution_count": 199,
     "metadata": {},
     "output_type": "execute_result"
    }
   ],
   "source": [
    "notes = np.array(generated_music).reshape(N_GENERATED_NOTE_VECTORS+1, vocab_size).dot(np.array(range(vocab_size)))\n",
    "notes"
   ]
  },
  {
   "cell_type": "markdown",
   "metadata": {},
   "source": [
    "### Convert generated music to midi"
   ]
  },
  {
   "cell_type": "code",
   "execution_count": 200,
   "metadata": {
    "collapsed": true
   },
   "outputs": [],
   "source": [
    "def get_track_sequences(vector_sequence):\n",
    "    \"\"\"Get note sequences for each track from vector sequence output from RNN.\n",
    "\n",
    "    Args:\n",
    "       vector_sequence: List of one-hot vectors containing 128 * NUM_TRACKS note_on events, 128 * NUM_TRACKS note_off events,\n",
    "        and NUM_TIMESHIFTS timeshift events in intervals of 1/96 of a beat each.\n",
    "       \n",
    "    Returns:\n",
    "        List of track vector sequences.\n",
    "    \"\"\"\n",
    "    track_sequences = [[] for _ in range(NUM_TRACKS)]\n",
    "    start_time = 0\n",
    "    for vector in vector_sequence:\n",
    "        index = vector.index(1)\n",
    "        # vector is a time event.\n",
    "        if index >= NUM_MIDI_PITCHES * 2 * NUM_TRACKS:\n",
    "            num_beats = (index - NUM_MIDI_PITCHES * 2 * NUM_TRACKS + 1) / NUM_TIMESHIFTS\n",
    "            start_time += num_beats\n",
    "        else:\n",
    "            # vector is a note_off event.\n",
    "            if index >= NUM_MIDI_PITCHES * NUM_TRACKS:\n",
    "                note_type = 'note_off'\n",
    "                index -= NUM_MIDI_PITCHES * NUM_TRACKS\n",
    "            # vector is a note_on event.\n",
    "            else:\n",
    "                note_type = 'note_on'\n",
    "            track_num = int(index / NUM_MIDI_PITCHES)\n",
    "            note = index % NUM_MIDI_PITCHES\n",
    "            track_sequences[track_num].append({\"type\": note_type, \"note\": note, \"start_time\": start_time})\n",
    "            time_delay = 0\n",
    "            \n",
    "    return track_sequences\n",
    "    "
   ]
  },
  {
   "cell_type": "code",
   "execution_count": 201,
   "metadata": {
    "collapsed": true
   },
   "outputs": [],
   "source": [
    "def get_midi_from_vector_sequence(track_sequences):\n",
    "    \"\"\"Get midi from track sequences.\n",
    "\n",
    "    Args:\n",
    "       track_sequences: List of vector sequences for each track.\n",
    "       \n",
    "    Returns:\n",
    "        MidiFile object.\n",
    "    \"\"\"\n",
    "    mid = mido.MidiFile()\n",
    "    tracks = [mido.MidiTrack() for _ in range(NUM_TRACKS)]\n",
    "    mid.tracks.extend(tracks)\n",
    "\n",
    "    for i, ts in enumerate(track_sequences):\n",
    "        prev_start_time = 0\n",
    "        for event in ts:\n",
    "            time = event[\"start_time\"] - prev_start_time\n",
    "            prev_start_time = event[\"start_time\"]\n",
    "            # I picked a random number for velocity.\n",
    "            mid.tracks[i].append(mido.Message(event[\"type\"], note=event[\"note\"], velocity=50,\n",
    "                                              time=int(time * TICKS_PER_BEAT)))\n",
    "    \n",
    "    return mid"
   ]
  },
  {
   "cell_type": "code",
   "execution_count": 202,
   "metadata": {},
   "outputs": [],
   "source": [
    "track_sequence = get_track_sequences([list(x[0]) for x in generated_music])"
   ]
  },
  {
   "cell_type": "code",
   "execution_count": 203,
   "metadata": {},
   "outputs": [
    {
     "data": {
      "text/plain": [
       "[{'note': 60, 'start_time': 0, 'type': 'note_on'},\n",
       " {'note': 11, 'start_time': 0, 'type': 'note_off'},\n",
       " {'note': 72, 'start_time': 0.5, 'type': 'note_off'},\n",
       " {'note': 70, 'start_time': 0.5, 'type': 'note_on'},\n",
       " {'note': 70, 'start_time': 1.0, 'type': 'note_off'},\n",
       " {'note': 58, 'start_time': 1.6770833333333333, 'type': 'note_off'},\n",
       " {'note': 60, 'start_time': 1.6770833333333333, 'type': 'note_on'},\n",
       " {'note': 60, 'start_time': 2.177083333333333, 'type': 'note_off'},\n",
       " {'note': 62, 'start_time': 2.177083333333333, 'type': 'note_on'},\n",
       " {'note': 62, 'start_time': 2.677083333333333, 'type': 'note_off'},\n",
       " {'note': 63, 'start_time': 2.677083333333333, 'type': 'note_on'},\n",
       " {'note': 63, 'start_time': 3.177083333333333, 'type': 'note_off'},\n",
       " {'note': 65, 'start_time': 3.177083333333333, 'type': 'note_on'},\n",
       " {'note': 65, 'start_time': 3.677083333333333, 'type': 'note_off'},\n",
       " {'note': 67, 'start_time': 3.677083333333333, 'type': 'note_on'},\n",
       " {'note': 67, 'start_time': 4.177083333333333, 'type': 'note_off'},\n",
       " {'note': 72, 'start_time': 4.677083333333333, 'type': 'note_off'},\n",
       " {'note': 65, 'start_time': 6.177083333333333, 'type': 'note_off'},\n",
       " {'note': 58, 'start_time': 6.177083333333333, 'type': 'note_on'},\n",
       " {'note': 58, 'start_time': 6.177083333333333, 'type': 'note_off'},\n",
       " {'note': 58, 'start_time': 6.177083333333333, 'type': 'note_off'},\n",
       " {'note': 60, 'start_time': 6.177083333333333, 'type': 'note_on'},\n",
       " {'note': 60, 'start_time': 6.677083333333333, 'type': 'note_off'},\n",
       " {'note': 62, 'start_time': 6.677083333333333, 'type': 'note_on'},\n",
       " {'note': 62, 'start_time': 7.177083333333333, 'type': 'note_off'},\n",
       " {'note': 63, 'start_time': 7.177083333333333, 'type': 'note_on'},\n",
       " {'note': 63, 'start_time': 7.677083333333333, 'type': 'note_off'},\n",
       " {'note': 65, 'start_time': 7.677083333333333, 'type': 'note_on'},\n",
       " {'note': 65, 'start_time': 8.177083333333332, 'type': 'note_off'},\n",
       " {'note': 67, 'start_time': 8.177083333333332, 'type': 'note_on'},\n",
       " {'note': 67, 'start_time': 8.677083333333332, 'type': 'note_off'},\n",
       " {'note': 65, 'start_time': 8.677083333333332, 'type': 'note_on'},\n",
       " {'note': 65, 'start_time': 9.177083333333332, 'type': 'note_off'},\n",
       " {'note': 63, 'start_time': 9.177083333333332, 'type': 'note_on'},\n",
       " {'note': 63, 'start_time': 9.677083333333332, 'type': 'note_off'},\n",
       " {'note': 71, 'start_time': 10.177083333333332, 'type': 'note_off'},\n",
       " {'note': 60, 'start_time': 10.177083333333332, 'type': 'note_on'},\n",
       " {'note': 60, 'start_time': 10.677083333333332, 'type': 'note_off'},\n",
       " {'note': 58, 'start_time': 10.677083333333332, 'type': 'note_on'},\n",
       " {'note': 58, 'start_time': 11.677083333333332, 'type': 'note_off'},\n",
       " {'note': 56, 'start_time': 11.677083333333332, 'type': 'note_on'},\n",
       " {'note': 56, 'start_time': 12.177083333333332, 'type': 'note_off'},\n",
       " {'note': 58, 'start_time': 12.177083333333332, 'type': 'note_on'},\n",
       " {'note': 58, 'start_time': 12.677083333333332, 'type': 'note_off'},\n",
       " {'note': 60, 'start_time': 12.677083333333332, 'type': 'note_on'},\n",
       " {'note': 60, 'start_time': 13.177083333333332, 'type': 'note_off'},\n",
       " {'note': 62, 'start_time': 13.177083333333332, 'type': 'note_on'},\n",
       " {'note': 62, 'start_time': 13.677083333333332, 'type': 'note_off'},\n",
       " {'note': 60, 'start_time': 13.677083333333332, 'type': 'note_on'},\n",
       " {'note': 60, 'start_time': 14.177083333333332, 'type': 'note_off'},\n",
       " {'note': 62, 'start_time': 14.177083333333332, 'type': 'note_on'},\n",
       " {'note': 62, 'start_time': 14.677083333333332, 'type': 'note_off'},\n",
       " {'note': 63, 'start_time': 14.677083333333332, 'type': 'note_on'},\n",
       " {'note': 63, 'start_time': 15.177083333333332, 'type': 'note_off'},\n",
       " {'note': 65, 'start_time': 15.177083333333332, 'type': 'note_on'},\n",
       " {'note': 65, 'start_time': 15.677083333333332, 'type': 'note_off'},\n",
       " {'note': 67, 'start_time': 15.677083333333332, 'type': 'note_on'},\n",
       " {'note': 67, 'start_time': 16.177083333333332, 'type': 'note_off'},\n",
       " {'note': 65, 'start_time': 16.177083333333332, 'type': 'note_on'},\n",
       " {'note': 65, 'start_time': 16.677083333333332, 'type': 'note_off'},\n",
       " {'note': 63, 'start_time': 16.677083333333332, 'type': 'note_on'},\n",
       " {'note': 58, 'start_time': 17.677083333333332, 'type': 'note_off'},\n",
       " {'note': 56, 'start_time': 17.677083333333332, 'type': 'note_on'},\n",
       " {'note': 56, 'start_time': 18.177083333333332, 'type': 'note_off'},\n",
       " {'note': 58, 'start_time': 18.177083333333332, 'type': 'note_on'},\n",
       " {'note': 58, 'start_time': 18.677083333333332, 'type': 'note_off'},\n",
       " {'note': 60, 'start_time': 18.677083333333332, 'type': 'note_on'},\n",
       " {'note': 60, 'start_time': 19.177083333333332, 'type': 'note_off'},\n",
       " {'note': 62, 'start_time': 19.177083333333332, 'type': 'note_on'},\n",
       " {'note': 62, 'start_time': 19.677083333333332, 'type': 'note_off'},\n",
       " {'note': 60, 'start_time': 19.677083333333332, 'type': 'note_on'},\n",
       " {'note': 60, 'start_time': 20.177083333333332, 'type': 'note_off'},\n",
       " {'note': 62, 'start_time': 20.677083333333332, 'type': 'note_off'},\n",
       " {'note': 63, 'start_time': 20.677083333333332, 'type': 'note_on'},\n",
       " {'note': 63, 'start_time': 21.177083333333332, 'type': 'note_off'},\n",
       " {'note': 65, 'start_time': 21.177083333333332, 'type': 'note_on'},\n",
       " {'note': 65, 'start_time': 21.177083333333332, 'type': 'note_off'},\n",
       " {'note': 65, 'start_time': 21.177083333333332, 'type': 'note_off'},\n",
       " {'note': 67, 'start_time': 21.677083333333332, 'type': 'note_off'},\n",
       " {'note': 65, 'start_time': 21.677083333333332, 'type': 'note_on'},\n",
       " {'note': 65, 'start_time': 22.177083333333332, 'type': 'note_off'},\n",
       " {'note': 63, 'start_time': 22.177083333333332, 'type': 'note_on'},\n",
       " {'note': 63, 'start_time': 22.677083333333332, 'type': 'note_off'},\n",
       " {'note': 65, 'start_time': 23.177083333333332, 'type': 'note_off'},\n",
       " {'note': 60, 'start_time': 23.177083333333332, 'type': 'note_on'},\n",
       " {'note': 113, 'start_time': 23.677083333333332, 'type': 'note_off'},\n",
       " {'note': 66, 'start_time': 23.677083333333332, 'type': 'note_off'},\n",
       " {'note': 71, 'start_time': 23.677083333333332, 'type': 'note_on'},\n",
       " {'note': 72, 'start_time': 24.177083333333332, 'type': 'note_on'},\n",
       " {'note': 118, 'start_time': 24.177083333333332, 'type': 'note_on'},\n",
       " {'note': 67, 'start_time': 24.677083333333332, 'type': 'note_on'},\n",
       " {'note': 60, 'start_time': 25.177083333333332, 'type': 'note_on'},\n",
       " {'note': 63, 'start_time': 26.177083333333332, 'type': 'note_on'},\n",
       " {'note': 63, 'start_time': 26.677083333333332, 'type': 'note_off'},\n",
       " {'note': 71, 'start_time': 27.177083333333332, 'type': 'note_off'},\n",
       " {'note': 60, 'start_time': 27.177083333333332, 'type': 'note_on'},\n",
       " {'note': 60, 'start_time': 27.677083333333332, 'type': 'note_off'},\n",
       " {'note': 58, 'start_time': 27.677083333333332, 'type': 'note_on'},\n",
       " {'note': 58, 'start_time': 28.677083333333332, 'type': 'note_off'},\n",
       " {'note': 58, 'start_time': 28.677083333333332, 'type': 'note_off'},\n",
       " {'note': 56, 'start_time': 29.177083333333332, 'type': 'note_off'},\n",
       " {'note': 63, 'start_time': 29.177083333333332, 'type': 'note_on'},\n",
       " {'note': 63, 'start_time': 29.677083333333332, 'type': 'note_off'},\n",
       " {'note': 60, 'start_time': 29.677083333333332, 'type': 'note_on'},\n",
       " {'note': 60, 'start_time': 30.177083333333332, 'type': 'note_off'},\n",
       " {'note': 67, 'start_time': 30.177083333333332, 'type': 'note_on'},\n",
       " {'note': 67, 'start_time': 30.677083333333332, 'type': 'note_off'},\n",
       " {'note': 60, 'start_time': 30.677083333333332, 'type': 'note_on'},\n",
       " {'note': 60, 'start_time': 31.177083333333332, 'type': 'note_off'},\n",
       " {'note': 63, 'start_time': 31.177083333333332, 'type': 'note_on'},\n",
       " {'note': 63, 'start_time': 31.677083333333332, 'type': 'note_off'},\n",
       " {'note': 65, 'start_time': 31.677083333333332, 'type': 'note_on'},\n",
       " {'note': 65, 'start_time': 32.17708333333333, 'type': 'note_off'},\n",
       " {'note': 67, 'start_time': 32.17708333333333, 'type': 'note_on'},\n",
       " {'note': 67, 'start_time': 32.67708333333333, 'type': 'note_off'},\n",
       " {'note': 72, 'start_time': 32.67708333333333, 'type': 'note_on'},\n",
       " {'note': 72, 'start_time': 33.17708333333333, 'type': 'note_off'},\n",
       " {'note': 58, 'start_time': 33.67708333333333, 'type': 'note_off'},\n",
       " {'note': 65, 'start_time': 33.67708333333333, 'type': 'note_on'},\n",
       " {'note': 7, 'start_time': 33.67708333333333, 'type': 'note_on'},\n",
       " {'note': 60, 'start_time': 35.17708333333333, 'type': 'note_off'},\n",
       " {'note': 67, 'start_time': 35.17708333333333, 'type': 'note_on'},\n",
       " {'note': 67, 'start_time': 35.67708333333333, 'type': 'note_off'},\n",
       " {'note': 60, 'start_time': 35.67708333333333, 'type': 'note_on'},\n",
       " {'note': 60, 'start_time': 36.17708333333333, 'type': 'note_off'},\n",
       " {'note': 63, 'start_time': 36.17708333333333, 'type': 'note_on'},\n",
       " {'note': 63, 'start_time': 36.67708333333333, 'type': 'note_off'},\n",
       " {'note': 65, 'start_time': 36.67708333333333, 'type': 'note_on'},\n",
       " {'note': 65, 'start_time': 37.17708333333333, 'type': 'note_off'},\n",
       " {'note': 67, 'start_time': 37.17708333333333, 'type': 'note_on'},\n",
       " {'note': 67, 'start_time': 37.67708333333333, 'type': 'note_off'},\n",
       " {'note': 65, 'start_time': 37.67708333333333, 'type': 'note_on'},\n",
       " {'note': 65, 'start_time': 38.17708333333333, 'type': 'note_off'},\n",
       " {'note': 63, 'start_time': 38.17708333333333, 'type': 'note_on'},\n",
       " {'note': 63, 'start_time': 38.67708333333333, 'type': 'note_off'},\n",
       " {'note': 62, 'start_time': 38.67708333333333, 'type': 'note_on'},\n",
       " {'note': 62, 'start_time': 39.17708333333333, 'type': 'note_off'},\n",
       " {'note': 38, 'start_time': 40.17708333333333, 'type': 'note_on'},\n",
       " {'note': 65, 'start_time': 40.17708333333333, 'type': 'note_on'},\n",
       " {'note': 13, 'start_time': 40.17708333333333, 'type': 'note_off'},\n",
       " {'note': 60, 'start_time': 40.67708333333333, 'type': 'note_off'},\n",
       " {'note': 63, 'start_time': 40.67708333333333, 'type': 'note_on'},\n",
       " {'note': 73, 'start_time': 40.67708333333333, 'type': 'note_on'},\n",
       " {'note': 63, 'start_time': 40.67708333333333, 'type': 'note_off'},\n",
       " {'note': 63, 'start_time': 40.67708333333333, 'type': 'note_off'},\n",
       " {'note': 67, 'start_time': 41.17708333333333, 'type': 'note_on'},\n",
       " {'note': 71, 'start_time': 41.17708333333333, 'type': 'note_off'},\n",
       " {'note': 71, 'start_time': 41.17708333333333, 'type': 'note_off'},\n",
       " {'note': 71, 'start_time': 41.17708333333333, 'type': 'note_off'},\n",
       " {'note': 85, 'start_time': 41.67708333333333, 'type': 'note_on'},\n",
       " {'note': 15, 'start_time': 41.67708333333333, 'type': 'note_off'},\n",
       " {'note': 22, 'start_time': 41.67708333333333, 'type': 'note_off'},\n",
       " {'note': 71, 'start_time': 41.67708333333333, 'type': 'note_off'},\n",
       " {'note': 42, 'start_time': 41.67708333333333, 'type': 'note_off'},\n",
       " {'note': 71, 'start_time': 41.67708333333333, 'type': 'note_on'},\n",
       " {'note': 58, 'start_time': 42.17708333333333, 'type': 'note_off'},\n",
       " {'note': 60, 'start_time': 42.17708333333333, 'type': 'note_on'},\n",
       " {'note': 60, 'start_time': 42.67708333333333, 'type': 'note_off'},\n",
       " {'note': 62, 'start_time': 42.67708333333333, 'type': 'note_on'},\n",
       " {'note': 62, 'start_time': 43.17708333333333, 'type': 'note_off'},\n",
       " {'note': 63, 'start_time': 43.17708333333333, 'type': 'note_on'},\n",
       " {'note': 63, 'start_time': 43.67708333333333, 'type': 'note_off'},\n",
       " {'note': 60, 'start_time': 43.67708333333333, 'type': 'note_on'},\n",
       " {'note': 58, 'start_time': 46.17708333333333, 'type': 'note_off'},\n",
       " {'note': 63, 'start_time': 46.67708333333333, 'type': 'note_on'},\n",
       " {'note': 60, 'start_time': 47.729166666666664, 'type': 'note_on'},\n",
       " {'note': 60, 'start_time': 48.229166666666664, 'type': 'note_off'},\n",
       " {'note': 62, 'start_time': 48.229166666666664, 'type': 'note_on'},\n",
       " {'note': 62, 'start_time': 48.729166666666664, 'type': 'note_off'},\n",
       " {'note': 63, 'start_time': 48.729166666666664, 'type': 'note_on'},\n",
       " {'note': 63, 'start_time': 49.229166666666664, 'type': 'note_off'},\n",
       " {'note': 65, 'start_time': 49.229166666666664, 'type': 'note_on'},\n",
       " {'note': 65, 'start_time': 49.729166666666664, 'type': 'note_off'},\n",
       " {'note': 67, 'start_time': 49.729166666666664, 'type': 'note_on'},\n",
       " {'note': 67, 'start_time': 50.229166666666664, 'type': 'note_off'},\n",
       " {'note': 65, 'start_time': 50.229166666666664, 'type': 'note_on'},\n",
       " {'note': 65, 'start_time': 50.729166666666664, 'type': 'note_off'},\n",
       " {'note': 63, 'start_time': 50.729166666666664, 'type': 'note_on'},\n",
       " {'note': 63, 'start_time': 50.729166666666664, 'type': 'note_on'},\n",
       " {'note': 63, 'start_time': 51.229166666666664, 'type': 'note_off'},\n",
       " {'note': 65, 'start_time': 51.229166666666664, 'type': 'note_on'},\n",
       " {'note': 58, 'start_time': 51.729166666666664, 'type': 'note_off'},\n",
       " {'note': 60, 'start_time': 51.729166666666664, 'type': 'note_on'},\n",
       " {'note': 60, 'start_time': 52.229166666666664, 'type': 'note_off'},\n",
       " {'note': 58, 'start_time': 52.229166666666664, 'type': 'note_on'},\n",
       " {'note': 62, 'start_time': 52.729166666666664, 'type': 'note_off'},\n",
       " {'note': 60, 'start_time': 52.729166666666664, 'type': 'note_on'},\n",
       " {'note': 60, 'start_time': 53.229166666666664, 'type': 'note_off'},\n",
       " {'note': 62, 'start_time': 53.229166666666664, 'type': 'note_on'},\n",
       " {'note': 62, 'start_time': 53.729166666666664, 'type': 'note_off'},\n",
       " {'note': 63, 'start_time': 53.729166666666664, 'type': 'note_on'},\n",
       " {'note': 63, 'start_time': 54.229166666666664, 'type': 'note_off'},\n",
       " {'note': 60, 'start_time': 54.229166666666664, 'type': 'note_on'},\n",
       " {'note': 65, 'start_time': 55.729166666666664, 'type': 'note_off'},\n",
       " {'note': 60, 'start_time': 56.729166666666664, 'type': 'note_off'},\n",
       " {'note': 58, 'start_time': 56.729166666666664, 'type': 'note_on'},\n",
       " {'note': 58, 'start_time': 57.229166666666664, 'type': 'note_off'},\n",
       " {'note': 55, 'start_time': 57.229166666666664, 'type': 'note_on'},\n",
       " {'note': 55, 'start_time': 57.729166666666664, 'type': 'note_off'},\n",
       " {'note': 58, 'start_time': 57.729166666666664, 'type': 'note_on'},\n",
       " {'note': 58, 'start_time': 58.229166666666664, 'type': 'note_off'},\n",
       " {'note': 60, 'start_time': 58.229166666666664, 'type': 'note_on'},\n",
       " {'note': 60, 'start_time': 61.229166666666664, 'type': 'note_off'},\n",
       " {'note': 67, 'start_time': 61.229166666666664, 'type': 'note_on'},\n",
       " {'note': 67, 'start_time': 61.729166666666664, 'type': 'note_off'},\n",
       " {'note': 60, 'start_time': 61.729166666666664, 'type': 'note_on'},\n",
       " {'note': 60, 'start_time': 62.229166666666664, 'type': 'note_off'},\n",
       " {'note': 67, 'start_time': 62.229166666666664, 'type': 'note_on'},\n",
       " {'note': 63, 'start_time': 62.229166666666664, 'type': 'note_on'},\n",
       " {'note': 58, 'start_time': 64.22916666666666, 'type': 'note_off'},\n",
       " {'note': 71, 'start_time': 64.72916666666666, 'type': 'note_on'},\n",
       " {'note': 4, 'start_time': 64.72916666666666, 'type': 'note_off'},\n",
       " {'note': 60, 'start_time': 65.22916666666666, 'type': 'note_on'},\n",
       " {'note': 60, 'start_time': 65.72916666666666, 'type': 'note_off'},\n",
       " {'note': 63, 'start_time': 65.72916666666666, 'type': 'note_on'},\n",
       " {'note': 63, 'start_time': 66.22916666666666, 'type': 'note_off'},\n",
       " {'note': 63, 'start_time': 66.22916666666666, 'type': 'note_off'},\n",
       " {'note': 44, 'start_time': 66.72916666666666, 'type': 'note_on'},\n",
       " {'note': 67, 'start_time': 66.72916666666666, 'type': 'note_on'},\n",
       " {'note': 58, 'start_time': 67.22916666666666, 'type': 'note_on'},\n",
       " {'note': 71, 'start_time': 67.22916666666666, 'type': 'note_on'},\n",
       " {'note': 58, 'start_time': 67.72916666666666, 'type': 'note_off'},\n",
       " {'note': 58, 'start_time': 68.22916666666666, 'type': 'note_on'},\n",
       " {'note': 58, 'start_time': 68.72916666666666, 'type': 'note_off'},\n",
       " {'note': 60, 'start_time': 68.72916666666666, 'type': 'note_on'},\n",
       " {'note': 60, 'start_time': 69.22916666666666, 'type': 'note_off'},\n",
       " {'note': 62, 'start_time': 69.22916666666666, 'type': 'note_on'},\n",
       " {'note': 62, 'start_time': 69.72916666666666, 'type': 'note_off'},\n",
       " {'note': 60, 'start_time': 69.72916666666666, 'type': 'note_on'},\n",
       " {'note': 60, 'start_time': 70.22916666666666, 'type': 'note_off'},\n",
       " {'note': 62, 'start_time': 70.22916666666666, 'type': 'note_on'},\n",
       " {'note': 62, 'start_time': 70.72916666666666, 'type': 'note_off'},\n",
       " {'note': 63, 'start_time': 70.72916666666666, 'type': 'note_on'},\n",
       " {'note': 63, 'start_time': 71.22916666666666, 'type': 'note_off'},\n",
       " {'note': 65, 'start_time': 71.22916666666666, 'type': 'note_on'},\n",
       " {'note': 65, 'start_time': 71.72916666666666, 'type': 'note_off'},\n",
       " {'note': 67, 'start_time': 71.72916666666666, 'type': 'note_on'},\n",
       " {'note': 67, 'start_time': 72.22916666666666, 'type': 'note_off'},\n",
       " {'note': 65, 'start_time': 72.22916666666666, 'type': 'note_on'},\n",
       " {'note': 65, 'start_time': 72.72916666666666, 'type': 'note_off'},\n",
       " {'note': 63, 'start_time': 72.72916666666666, 'type': 'note_on'},\n",
       " {'note': 63, 'start_time': 73.22916666666666, 'type': 'note_off'},\n",
       " {'note': 62, 'start_time': 73.22916666666666, 'type': 'note_on'},\n",
       " {'note': 62, 'start_time': 73.72916666666666, 'type': 'note_off'},\n",
       " {'note': 63, 'start_time': 73.72916666666666, 'type': 'note_on'},\n",
       " {'note': 63, 'start_time': 74.22916666666666, 'type': 'note_off'},\n",
       " {'note': 62, 'start_time': 74.72916666666666, 'type': 'note_off'},\n",
       " {'note': 60, 'start_time': 74.72916666666666, 'type': 'note_on'},\n",
       " {'note': 60, 'start_time': 75.22916666666666, 'type': 'note_off'},\n",
       " {'note': 62, 'start_time': 75.22916666666666, 'type': 'note_off'},\n",
       " {'note': 58, 'start_time': 76.22916666666666, 'type': 'note_off'},\n",
       " {'note': 56, 'start_time': 76.22916666666666, 'type': 'note_on'},\n",
       " {'note': 56, 'start_time': 76.22916666666666, 'type': 'note_off'},\n",
       " {'note': 56, 'start_time': 76.22916666666666, 'type': 'note_off'},\n",
       " {'note': 58, 'start_time': 76.22916666666666, 'type': 'note_on'},\n",
       " {'note': 58, 'start_time': 76.72916666666666, 'type': 'note_off'},\n",
       " {'note': 60, 'start_time': 76.72916666666666, 'type': 'note_on'},\n",
       " {'note': 60, 'start_time': 77.22916666666666, 'type': 'note_off'},\n",
       " {'note': 62, 'start_time': 77.22916666666666, 'type': 'note_on'},\n",
       " {'note': 62, 'start_time': 77.72916666666666, 'type': 'note_off'},\n",
       " {'note': 60, 'start_time': 77.72916666666666, 'type': 'note_on'},\n",
       " {'note': 60, 'start_time': 78.22916666666666, 'type': 'note_off'},\n",
       " {'note': 62, 'start_time': 78.22916666666666, 'type': 'note_on'},\n",
       " {'note': 62, 'start_time': 78.72916666666666, 'type': 'note_off'},\n",
       " {'note': 58, 'start_time': 78.72916666666666, 'type': 'note_on'},\n",
       " {'note': 58, 'start_time': 79.72916666666666, 'type': 'note_off'},\n",
       " {'note': 60, 'start_time': 79.72916666666666, 'type': 'note_on'},\n",
       " {'note': 60, 'start_time': 80.22916666666666, 'type': 'note_off'},\n",
       " {'note': 62, 'start_time': 80.22916666666666, 'type': 'note_on'},\n",
       " {'note': 62, 'start_time': 80.72916666666666, 'type': 'note_off'},\n",
       " {'note': 63, 'start_time': 80.72916666666666, 'type': 'note_on'},\n",
       " {'note': 63, 'start_time': 81.22916666666666, 'type': 'note_off'},\n",
       " {'note': 65, 'start_time': 81.22916666666666, 'type': 'note_on'},\n",
       " {'note': 65, 'start_time': 81.72916666666666, 'type': 'note_off'},\n",
       " {'note': 58, 'start_time': 81.72916666666666, 'type': 'note_on'},\n",
       " {'note': 60, 'start_time': 82.72916666666666, 'type': 'note_off'},\n",
       " {'note': 63, 'start_time': 82.72916666666666, 'type': 'note_on'},\n",
       " {'note': 63, 'start_time': 83.22916666666666, 'type': 'note_off'},\n",
       " {'note': 60, 'start_time': 83.22916666666666, 'type': 'note_on'},\n",
       " {'note': 60, 'start_time': 83.22916666666666, 'type': 'note_off'},\n",
       " {'note': 1, 'start_time': 83.65624999999999, 'type': 'note_off'},\n",
       " {'note': 58, 'start_time': 84.65624999999999, 'type': 'note_off'},\n",
       " {'note': 56, 'start_time': 84.65624999999999, 'type': 'note_on'},\n",
       " {'note': 56, 'start_time': 85.15624999999999, 'type': 'note_off'},\n",
       " {'note': 58, 'start_time': 85.15624999999999, 'type': 'note_on'},\n",
       " {'note': 58, 'start_time': 85.65624999999999, 'type': 'note_off'},\n",
       " {'note': 60, 'start_time': 85.65624999999999, 'type': 'note_on'},\n",
       " {'note': 60, 'start_time': 86.28124999999999, 'type': 'note_on'},\n",
       " {'note': 60, 'start_time': 86.78124999999999, 'type': 'note_on'},\n",
       " {'note': 60, 'start_time': 87.28124999999999, 'type': 'note_off'},\n",
       " {'note': 63, 'start_time': 87.28124999999999, 'type': 'note_on'},\n",
       " {'note': 63, 'start_time': 87.78124999999999, 'type': 'note_off'},\n",
       " {'note': 65, 'start_time': 87.78124999999999, 'type': 'note_on'},\n",
       " {'note': 65, 'start_time': 88.28124999999999, 'type': 'note_off'},\n",
       " {'note': 67, 'start_time': 88.28124999999999, 'type': 'note_on'},\n",
       " {'note': 67, 'start_time': 88.78124999999999, 'type': 'note_off'},\n",
       " {'note': 72, 'start_time': 88.78124999999999, 'type': 'note_on'},\n",
       " {'note': 72, 'start_time': 89.28124999999999, 'type': 'note_off'},\n",
       " {'note': 72, 'start_time': 89.28124999999999, 'type': 'note_on'},\n",
       " {'note': 51, 'start_time': 89.28124999999999, 'type': 'note_off'},\n",
       " {'note': 23, 'start_time': 90.78124999999999, 'type': 'note_off'},\n",
       " {'note': 60, 'start_time': 91.28124999999999, 'type': 'note_off'},\n",
       " {'note': 70, 'start_time': 91.28124999999999, 'type': 'note_on'},\n",
       " {'note': 62, 'start_time': 91.78124999999999, 'type': 'note_off'},\n",
       " {'note': 63, 'start_time': 91.78124999999999, 'type': 'note_on'},\n",
       " {'note': 63, 'start_time': 92.28124999999999, 'type': 'note_off'},\n",
       " {'note': 60, 'start_time': 92.28124999999999, 'type': 'note_on'},\n",
       " {'note': 67, 'start_time': 93.78124999999999, 'type': 'note_on'},\n",
       " {'note': 49, 'start_time': 93.78124999999999, 'type': 'note_off'},\n",
       " {'note': 72, 'start_time': 94.28124999999999, 'type': 'note_off'},\n",
       " {'note': 56, 'start_time': 94.28124999999999, 'type': 'note_on'},\n",
       " {'note': 55, 'start_time': 94.78124999999999, 'type': 'note_off'},\n",
       " {'note': 70, 'start_time': 94.78124999999999, 'type': 'note_off'},\n",
       " {'note': 54, 'start_time': 94.78124999999999, 'type': 'note_off'},\n",
       " {'note': 65, 'start_time': 94.78124999999999, 'type': 'note_on'},\n",
       " {'note': 58, 'start_time': 95.28124999999999, 'type': 'note_off'},\n",
       " {'note': 60, 'start_time': 95.28124999999999, 'type': 'note_on'}]"
      ]
     },
     "execution_count": 203,
     "metadata": {},
     "output_type": "execute_result"
    }
   ],
   "source": [
    "track_sequence[0]"
   ]
  },
  {
   "cell_type": "code",
   "execution_count": 204,
   "metadata": {},
   "outputs": [
    {
     "data": {
      "text/plain": [
       "<midi file None type 1, 4 tracks, 816 messages>"
      ]
     },
     "execution_count": 204,
     "metadata": {},
     "output_type": "execute_result"
    }
   ],
   "source": [
    "midi = get_midi_from_vector_sequence(track_sequence)\n",
    "midi"
   ]
  },
  {
   "cell_type": "markdown",
   "metadata": {},
   "source": [
    "# Save midi"
   ]
  },
  {
   "cell_type": "code",
   "execution_count": 205,
   "metadata": {
    "collapsed": true
   },
   "outputs": [],
   "source": [
    "generation_output = \"generated_music/\""
   ]
  },
  {
   "cell_type": "code",
   "execution_count": 206,
   "metadata": {},
   "outputs": [
    {
     "data": {
      "text/plain": [
       "'Generated Music (Date=2017-11-12 01.21, NTraining=1, NHidden=512, Batch=4, LR=0.001, Length=1000, Temperature=1.5).mid'"
      ]
     },
     "execution_count": 206,
     "metadata": {},
     "output_type": "execute_result"
    }
   ],
   "source": [
    "midi_name = \"Generated Music (Date={}, NTraining={}, NHidden={}, Batch={}, LR={}, Length={}, Temperature={}).mid\". \\\n",
    "    format(date, len(training_data), n_hidden, batch_size, learning_rate, N_GENERATED_NOTE_VECTORS, temperature)\n",
    "midi_name"
   ]
  },
  {
   "cell_type": "code",
   "execution_count": 207,
   "metadata": {
    "collapsed": true
   },
   "outputs": [],
   "source": [
    "midi.save(generation_output + midi_name)"
   ]
  }
 ],
 "metadata": {
  "kernelspec": {
   "display_name": "Python 3",
   "language": "python",
   "name": "python3"
  },
  "language_info": {
   "codemirror_mode": {
    "name": "ipython",
    "version": 3
   },
   "file_extension": ".py",
   "mimetype": "text/x-python",
   "name": "python",
   "nbconvert_exporter": "python",
   "pygments_lexer": "ipython3",
   "version": "3.6.2"
  }
 },
 "nbformat": 4,
 "nbformat_minor": 2
}
