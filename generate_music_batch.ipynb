{
 "cells": [
  {
   "cell_type": "code",
   "execution_count": 3,
   "metadata": {
    "collapsed": true
   },
   "outputs": [],
   "source": [
    "import mido\n",
    "import os\n",
    "import numpy as np\n",
    "from scipy import stats\n",
    "from os import listdir\n",
    "from os.path import isfile, join\n",
    "import tensorflow as tf\n",
    "from tensorflow.contrib import rnn\n",
    "import time\n",
    "\n",
    "import matplotlib.pyplot as plt\n",
    "from pylab import rcParams\n",
    "rcParams['figure.figsize'] = (12, 8)"
   ]
  },
  {
   "cell_type": "code",
   "execution_count": 4,
   "metadata": {
    "collapsed": true
   },
   "outputs": [],
   "source": [
    "TICKS_PER_BEAT = 480\n",
    "TEMPO = int(mido.bpm2tempo(120))"
   ]
  },
  {
   "cell_type": "code",
   "execution_count": 5,
   "metadata": {
    "collapsed": true
   },
   "outputs": [],
   "source": [
    "%run get_training_data.py"
   ]
  },
  {
   "cell_type": "markdown",
   "metadata": {},
   "source": [
    "### Create training data"
   ]
  },
  {
   "cell_type": "code",
   "execution_count": 6,
   "metadata": {
    "collapsed": true
   },
   "outputs": [],
   "source": [
    "N_VALIDATION_SET = 100"
   ]
  },
  {
   "cell_type": "code",
   "execution_count": 7,
   "metadata": {},
   "outputs": [
    {
     "data": {
      "text/plain": [
       "772"
      ]
     },
     "execution_count": 7,
     "metadata": {},
     "output_type": "execute_result"
    }
   ],
   "source": [
    "vocab_size = 2*NUM_TRACKS*NUM_MIDI_PITCHES + NUM_TIMESHIFTS\n",
    "vocab_size"
   ]
  },
  {
   "cell_type": "code",
   "execution_count": 154,
   "metadata": {
    "collapsed": true,
    "scrolled": true
   },
   "outputs": [],
   "source": [
    "# Set num training examples here. Note: actual number will be less, since some have errors\n",
    "training_data, training_data_labels = get_training_vectors_from_file('TRAINING_DATA_6000.txt')"
   ]
  },
  {
   "cell_type": "code",
   "execution_count": 155,
   "metadata": {
    "collapsed": true
   },
   "outputs": [],
   "source": [
    "validation_data = training_data[:N_VALIDATION_SET]\n",
    "validation_data_labels = training_data_labels[:N_VALIDATION_SET]\n",
    "training_data = training_data[N_VALIDATION_SET:]\n",
    "training_data_labels = training_data_labels[N_VALIDATION_SET:]"
   ]
  },
  {
   "cell_type": "code",
   "execution_count": 156,
   "metadata": {
    "scrolled": true
   },
   "outputs": [
    {
     "name": "stdout",
     "output_type": "stream",
     "text": [
      "Number of training examples: 5644\n"
     ]
    },
    {
     "data": {
      "text/plain": [
       "['bomb2stg1.mid',\n",
       " 'TNTNUNN.mid',\n",
       " 'GQOverworld.mid',\n",
       " 'RR_Music3.mid',\n",
       " 'yc_1p_music_b.mid',\n",
       " 'tmnt2stg1.mid',\n",
       " 'Sm1cave.mid']"
      ]
     },
     "execution_count": 156,
     "metadata": {},
     "output_type": "execute_result"
    }
   ],
   "source": [
    "print(\"Number of training examples:\", len(training_data))\n",
    "training_data_labels[:7]"
   ]
  },
  {
   "cell_type": "code",
   "execution_count": 157,
   "metadata": {},
   "outputs": [
    {
     "data": {
      "text/plain": [
       "(3910,)"
      ]
     },
     "execution_count": 157,
     "metadata": {},
     "output_type": "execute_result"
    }
   ],
   "source": [
    "training_data[0].shape"
   ]
  },
  {
   "cell_type": "markdown",
   "metadata": {},
   "source": [
    "#### Transpose data to create more data"
   ]
  },
  {
   "cell_type": "code",
   "execution_count": 158,
   "metadata": {
    "collapsed": true
   },
   "outputs": [],
   "source": [
    "def transpose_midi(training_example, transpose):\n",
    "    notes_transpose = training_example + transpose\n",
    "    outofbounds_mask = (notes_transpose%NUM_MIDI_PITCHES-transpose < 0) | (notes_transpose%NUM_MIDI_PITCHES-transpose >= 128) # find notes were transposed to different tracks\n",
    "    notes_transpose -= 12*np.sign(transpose) * outofbounds_mask\n",
    "    time_mask = training_example >= 2*NUM_TRACKS*NUM_MIDI_PITCHES\n",
    "    notes_transpose = (1-time_mask)*notes_transpose + time_mask*training_example # so we don't transpose time duration 1-hot vectors\n",
    "    return notes_transpose"
   ]
  },
  {
   "cell_type": "code",
   "execution_count": 159,
   "metadata": {
    "collapsed": true,
    "scrolled": true
   },
   "outputs": [],
   "source": [
    "transposed_training_data = []\n",
    "transpose_keys = [-4, -3, -2, -1, 1, 2, 3, 4]\n",
    "for transpose in transpose_keys: # transpose up and down up to a major third\n",
    "    for data in training_data:\n",
    "        transposed_training_data.append(transpose_midi(data, transpose))\n",
    "training_data = np.array(list(training_data) + transposed_training_data)"
   ]
  },
  {
   "cell_type": "code",
   "execution_count": 160,
   "metadata": {},
   "outputs": [
    {
     "name": "stdout",
     "output_type": "stream",
     "text": [
      "Number of training examples: 50796\n"
     ]
    }
   ],
   "source": [
    "print(\"Number of training examples:\", len(training_data))"
   ]
  },
  {
   "cell_type": "markdown",
   "metadata": {},
   "source": [
    "### Parameters"
   ]
  },
  {
   "cell_type": "code",
   "execution_count": 15,
   "metadata": {
    "collapsed": true
   },
   "outputs": [],
   "source": [
    "'''# Parameters\n",
    "batch_size = 10\n",
    "learning_rate = 0.001\n",
    "training_iters = 50000\n",
    "n_input = 64\n",
    "display_step = 200\n",
    "\n",
    "# number of units in RNN cell\n",
    "n_hidden = 512\n",
    "n_layers = 2\n",
    "'''\n",
    "\n",
    "# Parameters\n",
    "batch_size = 10\n",
    "learning_rate = 0.003\n",
    "training_iters = 50000\n",
    "n_input = 80\n",
    "display_step = 100\n",
    "validation_step = 10 # every <validation_step> steps, we calculate validation error\n",
    "\n",
    "# number of units in RNN cell\n",
    "n_hidden = 350\n",
    "n_layers = 2"
   ]
  },
  {
   "cell_type": "markdown",
   "metadata": {},
   "source": [
    "### Create tensor flow graph"
   ]
  },
  {
   "cell_type": "code",
   "execution_count": 16,
   "metadata": {
    "collapsed": true
   },
   "outputs": [],
   "source": [
    "# tf Graph input\n",
    "x = tf.placeholder(\"float\", [batch_size, n_input, vocab_size])\n",
    "y = tf.placeholder(\"int32\", [batch_size, n_input])\n",
    "\n",
    "# RNN output node weights and biases\n",
    "softmax_w = tf.Variable(tf.random_normal([n_hidden, vocab_size]))\n",
    "softmax_b = tf.Variable(tf.random_normal([vocab_size]))\n",
    "\n",
    "max_grad_norm = 5"
   ]
  },
  {
   "cell_type": "code",
   "execution_count": 17,
   "metadata": {
    "collapsed": true
   },
   "outputs": [],
   "source": [
    "# tf Graph validation input\n",
    "x_validation = tf.placeholder(\"float\", [N_VALIDATION_SET, n_input, vocab_size])\n",
    "y_validation = tf.placeholder(\"int32\", [N_VALIDATION_SET, n_input])"
   ]
  },
  {
   "cell_type": "code",
   "execution_count": 18,
   "metadata": {
    "collapsed": true
   },
   "outputs": [],
   "source": [
    "# tf Graph generative input\n",
    "x_generation = tf.placeholder(\"float\", [1, vocab_size])"
   ]
  },
  {
   "cell_type": "code",
   "execution_count": 19,
   "metadata": {
    "collapsed": true
   },
   "outputs": [],
   "source": [
    "rnn_cell = rnn.MultiRNNCell([rnn.BasicLSTMCell(n_hidden) for _ in range(n_layers)])"
   ]
  },
  {
   "cell_type": "code",
   "execution_count": 20,
   "metadata": {
    "collapsed": true
   },
   "outputs": [],
   "source": [
    "# Training output\n",
    "x_split = tf.unstack(x, n_input, 1)\n",
    "outputs, states = rnn.static_rnn(rnn_cell, x_split, dtype=tf.float32)\n",
    "logits = [tf.nn.xw_plus_b(output, softmax_w, softmax_b) for output in outputs]\n",
    "logits = tf.reshape(tf.split(tf.reshape(logits, [n_input, batch_size, vocab_size]), batch_size, 1), \n",
    "                    [batch_size, n_input, vocab_size])"
   ]
  },
  {
   "cell_type": "code",
   "execution_count": 21,
   "metadata": {
    "collapsed": true
   },
   "outputs": [],
   "source": [
    "# Training loss\n",
    "loss = tf.contrib.seq2seq.sequence_loss(logits, y, weights=tf.ones([batch_size, n_input], dtype=tf.float32), # check this\n",
    "                                        average_across_timesteps=True, average_across_batch=True)\n",
    "cost = tf.reduce_sum(loss)\n",
    "optimizer = tf.train.RMSPropOptimizer(learning_rate=learning_rate).minimize(cost)"
   ]
  },
  {
   "cell_type": "code",
   "execution_count": 22,
   "metadata": {
    "collapsed": true
   },
   "outputs": [],
   "source": [
    "# Validation output\n",
    "x_validation_split = tf.unstack(x_validation, n_input, 1)\n",
    "outputs_validation, states_validation = rnn.static_rnn(rnn_cell, x_validation_split, dtype=tf.float32)\n",
    "logits_validation = [tf.nn.xw_plus_b(output, softmax_w, softmax_b) for output in outputs_validation]\n",
    "logits_validation = tf.reshape(tf.split(tf.reshape(logits_validation, [n_input, N_VALIDATION_SET, vocab_size]), N_VALIDATION_SET, 1), \n",
    "                               [N_VALIDATION_SET, n_input, vocab_size])"
   ]
  },
  {
   "cell_type": "code",
   "execution_count": 23,
   "metadata": {
    "collapsed": true
   },
   "outputs": [],
   "source": [
    "# Training loss\n",
    "loss_validation = tf.contrib.seq2seq.sequence_loss(logits_validation, y_validation, weights=tf.ones([N_VALIDATION_SET, n_input], dtype=tf.float32), # check this\n",
    "                                        average_across_timesteps=True, average_across_batch=True)\n",
    "cost_validation = tf.reduce_sum(loss_validation)"
   ]
  },
  {
   "cell_type": "markdown",
   "metadata": {},
   "source": [
    "### Run tensor flow session"
   ]
  },
  {
   "cell_type": "code",
   "execution_count": 24,
   "metadata": {
    "collapsed": true
   },
   "outputs": [],
   "source": [
    "session = tf.Session()"
   ]
  },
  {
   "cell_type": "code",
   "execution_count": 25,
   "metadata": {
    "collapsed": true
   },
   "outputs": [],
   "source": [
    "identity = np.eye(vocab_size)\n",
    "def get_midi_xy(data, midi_file_number):\n",
    "    offset = np.random.randint(0, len(data[midi_file_number]) - n_input - 1)\n",
    "    midi_x = data[midi_file_number][offset:offset+n_input]\n",
    "    midi_y = data[midi_file_number][1 + offset:1 + offset+n_input].reshape(1, n_input)\n",
    "    try:\n",
    "        identity[midi_x.astype(int)], midi_y\n",
    "    except:\n",
    "        print(midi_x)\n",
    "    return identity[midi_x.astype(int)], midi_y"
   ]
  },
  {
   "cell_type": "code",
   "execution_count": 26,
   "metadata": {
    "collapsed": true
   },
   "outputs": [],
   "source": [
    "def get_batch(data, num_batches):\n",
    "    \"\"\"Generate random batches of x and y training vectors for RNN.\n",
    "       \n",
    "    Returns:\n",
    "        Two batches of x and y vectors.\n",
    "    \"\"\"\n",
    "    batch_x = []\n",
    "    batch_y = []\n",
    "    batch = np.random.choice(range(len(data)), num_batches, replace=True)\n",
    "    for b in batch:\n",
    "        midi_x, midi_y = get_midi_xy(data, b%len(training_data))\n",
    "        batch_x.append(midi_x)\n",
    "        batch_y.append(midi_y)\n",
    "    batch_y = np.reshape(batch_y, [num_batches, n_input])\n",
    "    return batch_x, batch_y"
   ]
  },
  {
   "cell_type": "code",
   "execution_count": 27,
   "metadata": {
    "collapsed": true
   },
   "outputs": [],
   "source": [
    "def seconds_to_minsecstr(seconds):\n",
    "    minutes = seconds//60\n",
    "    seconds -= 60*minutes\n",
    "    if minutes < 10: minutes = \"0\" + str(minutes)\n",
    "    if seconds < 10: seconds = \"0\" + str(seconds)\n",
    "    return str(minutes) + \":\" + str(seconds)"
   ]
  },
  {
   "cell_type": "code",
   "execution_count": 28,
   "metadata": {
    "scrolled": false
   },
   "outputs": [
    {
     "name": "stdout",
     "output_type": "stream",
     "text": [
      "Iter=350, Average Loss=5.053377, Validation Loss=3.562445, Time Elapsed=06:05\n",
      "Iter=700, Average Loss=3.094753, Validation Loss=2.848822, Time Elapsed=12:18\n",
      "Iter=1050, Average Loss=2.669166, Validation Loss=2.703758, Time Elapsed=18:28\n",
      "Iter=1400, Average Loss=2.497509, Validation Loss=2.325366, Time Elapsed=24:41\n",
      "Iter=1750, Average Loss=2.385136, Validation Loss=2.379514, Time Elapsed=31:01\n",
      "Iter=2100, Average Loss=2.286249, Validation Loss=2.187094, Time Elapsed=37:22\n",
      "Iter=2450, Average Loss=2.228266, Validation Loss=2.116038, Time Elapsed=43:43\n",
      "Iter=2800, Average Loss=2.194785, Validation Loss=2.040742, Time Elapsed=50:06\n",
      "Iter=3150, Average Loss=2.130818, Validation Loss=2.099296, Time Elapsed=56:29\n",
      "Iter=3500, Average Loss=2.089898, Validation Loss=2.031844, Time Elapsed=62:52\n",
      "Iter=3850, Average Loss=2.085113, Validation Loss=2.068993, Time Elapsed=69:17\n",
      "Iter=4200, Average Loss=2.028692, Validation Loss=1.973371, Time Elapsed=75:42\n",
      "Iter=4550, Average Loss=2.029758, Validation Loss=2.008071, Time Elapsed=82:07\n",
      "Iter=4900, Average Loss=1.985729, Validation Loss=2.012920, Time Elapsed=88:32\n",
      "Iter=5250, Average Loss=1.955233, Validation Loss=2.150903, Time Elapsed=94:57\n",
      "Iter=5600, Average Loss=1.936502, Validation Loss=1.986881, Time Elapsed=101:23\n",
      "Iter=5950, Average Loss=1.937863, Validation Loss=1.882381, Time Elapsed=107:51\n",
      "Iter=6300, Average Loss=1.934681, Validation Loss=1.851446, Time Elapsed=114:19\n",
      "Iter=6650, Average Loss=1.890775, Validation Loss=1.804204, Time Elapsed=120:54\n",
      "Iter=7000, Average Loss=1.885891, Validation Loss=1.879023, Time Elapsed=127:36\n",
      "Iter=7350, Average Loss=1.854364, Validation Loss=1.858060, Time Elapsed=134:22\n",
      "Iter=7700, Average Loss=1.860235, Validation Loss=1.952172, Time Elapsed=140:54\n",
      "Iter=8050, Average Loss=1.851350, Validation Loss=1.787158, Time Elapsed=147:25\n",
      "Iter=8400, Average Loss=1.833536, Validation Loss=1.918980, Time Elapsed=153:56\n",
      "Iter=8750, Average Loss=1.806200, Validation Loss=1.842443, Time Elapsed=160:27\n",
      "Iter=9100, Average Loss=1.813002, Validation Loss=1.835980, Time Elapsed=166:58\n",
      "Iter=9450, Average Loss=1.812387, Validation Loss=1.871563, Time Elapsed=173:30\n",
      "Iter=9800, Average Loss=1.814146, Validation Loss=1.802457, Time Elapsed=180:02\n",
      "Iter=10150, Average Loss=1.794805, Validation Loss=1.808769, Time Elapsed=186:35\n",
      "Iter=10500, Average Loss=1.789433, Validation Loss=1.827901, Time Elapsed=193:08\n",
      "Iter=10850, Average Loss=1.783428, Validation Loss=1.810323, Time Elapsed=199:43\n",
      "Iter=11200, Average Loss=1.778965, Validation Loss=1.799342, Time Elapsed=206:17\n",
      "Iter=11550, Average Loss=1.768134, Validation Loss=1.750612, Time Elapsed=212:54\n",
      "Iter=11900, Average Loss=1.757101, Validation Loss=1.802478, Time Elapsed=219:34\n"
     ]
    },
    {
     "ename": "InvalidArgumentError",
     "evalue": "Received a label value of -8 which is outside the valid range of [0, 772).  Label values: -8 376 376 376 376 769 431 54 769 438 59 769 443 61 445 47 769 431 54 769 438 59 769 443 61 445 71 47 769 431 54 769 455 438 66 59 769 443 61 771 769 450 71 768 455 73 768 457 74 768 458 76 460 445 78 45 769 429 52 769 436 59 769 443 61 771 768 462 78 768 462 78 768 462 79 769 463 81 465 445 768 446 57 769 441 57 768 181 768 441 72 768 565 768 456 62 768 176 768 446 57 560 768 179 768 441 57 563 768 180 768 441 72 564 768 181 768 456 62 768 565 768 446 57 769 441 57 768 181 768 441 72 768 565 768 456 62 768 176 768 446 57 560 768 179 768 441 57 563 768 180 768 441 72 564 768 181 768 456 62 691 307 768 566 691 768 479 182 307 768 566 182 691 307 768 90 566 183 691 306 768 567 690 768 183 306 768 474 95 567 183 690 306 768 479 62 567 183 690 306 768 446 67 567 690 768 451 69 183 306 768 453 71 567 183 690 306 768 455 567 183 690 306 768 567 690 768 183 306 768 567 183 690 306 768 567 183 690 306 768 768 579 199 680 287 768 583 768 202 671 299 768 586 768 463 475 90 78 683 286 768 201 768 585 670 298 769 682 285 768 197 768 581 669 297 769 462 474 91 79 681 284 768 204 768 668 296 768 588 768 680 284 769 668 296 768 202 768 463 475 93 81 586 200 680 282 768 584 207 768 591 666 294 769 465 477 95 83 678 283 768 670 298 768 682 305 768 689 310 768 694 298 768 682 298 768 682 298 768 682 298 768 682 298 769 682 286 768 670 298 768 682 305 768 689 298 768 682 297 769 681 285 768 669 297 768 681 304 768 688 309 768 693 297 768 681 297 768 681 309 768 693 309 768 693 297 769 681 285 768 669 297 768 681 304 768 688 297 768 681 188 768 448 65 572 190 306 768 690 769 449 67 574 192 768 451 576 303 768 687 770 57 181 297 768 441 565 681 769 60 184 768 444 60 568 184 301 768 685 769 444 57 568 181 768 441 63 565 185 304 768 447 569 688 769 62 185 768 446 569 301 768 685 770 60 183 292 768 444 567 676 770 296 768 680 770 299 768 683 770 471 80 689 768 464 83 768 467 85 580 192 313 768 469 697 313 768 85 697 768 469 78 768 462 83 768 467 78 768 462 80 313 768 464 76 697 313 768 460 73 697 768 457 768 85 768 469 88 768 472 80 576 194 768 464 87 768 471 80 768 464 83 768 467 85 578 191 312 768 469 696 312 768 85 696 768 469 78 768 462 682 298 769 682 298 769 682 298 769 682 298 769 682 298 769 682 298 769 682 298 769 682 298 769 682 297 769 70 194 681 295 769 679 295 769 679 295 768 578 768 454 66 191 679 295 769 679 295 769 679 295 768 575 768 450 69 193 679 295 769 453 70 577 194 679 295 769 454 69 578 193 679 297 769 681 297 768 577 768 453 768 545 289 768 160 673 768 544 288 768 159 672 768 543 287 768 160 671 768 544 153 288 768 537 153 672 281 768 537 153 665 281 768 537 153 665 281 768 537 153 665 281 768 537 665 281 768 665 770 161 768 545 289 768 160 673 768 544 288 768 159 672 768 543 287 768 160 671 768 61 64 544 153 288 768 537 153 672 281 768 578 199 202 187 190 195 680 287 768 467 768 86 671 294 768 470 678 768 83 287 769 671 294 768 678 768 467 90 287 769 671 294 768 678 768 474 83 287 769 671 294 769 467 93 579 571 583 586 574 199 201 187 189 194 678 286 769 670 293 768 677 768 286 769 670 293 768 677 768 477 90 578 571 583 585 573 186 198 189 194\n\t [[Node: sequence_loss/SparseSoftmaxCrossEntropyWithLogits/SparseSoftmaxCrossEntropyWithLogits = SparseSoftmaxCrossEntropyWithLogits[T=DT_FLOAT, Tlabels=DT_INT32, _device=\"/job:localhost/replica:0/task:0/device:CPU:0\"](sequence_loss/Reshape, sequence_loss/Reshape_1)]]\n\nCaused by op 'sequence_loss/SparseSoftmaxCrossEntropyWithLogits/SparseSoftmaxCrossEntropyWithLogits', defined at:\n  File \"C:\\Users\\johnm\\Anaconda3\\lib\\runpy.py\", line 193, in _run_module_as_main\n    \"__main__\", mod_spec)\n  File \"C:\\Users\\johnm\\Anaconda3\\lib\\runpy.py\", line 85, in _run_code\n    exec(code, run_globals)\n  File \"C:\\Users\\johnm\\Anaconda3\\lib\\site-packages\\ipykernel_launcher.py\", line 16, in <module>\n    app.launch_new_instance()\n  File \"C:\\Users\\johnm\\Anaconda3\\lib\\site-packages\\traitlets\\config\\application.py\", line 658, in launch_instance\n    app.start()\n  File \"C:\\Users\\johnm\\Anaconda3\\lib\\site-packages\\ipykernel\\kernelapp.py\", line 477, in start\n    ioloop.IOLoop.instance().start()\n  File \"C:\\Users\\johnm\\Anaconda3\\lib\\site-packages\\zmq\\eventloop\\ioloop.py\", line 177, in start\n    super(ZMQIOLoop, self).start()\n  File \"C:\\Users\\johnm\\Anaconda3\\lib\\site-packages\\tornado\\ioloop.py\", line 888, in start\n    handler_func(fd_obj, events)\n  File \"C:\\Users\\johnm\\Anaconda3\\lib\\site-packages\\tornado\\stack_context.py\", line 277, in null_wrapper\n    return fn(*args, **kwargs)\n  File \"C:\\Users\\johnm\\Anaconda3\\lib\\site-packages\\zmq\\eventloop\\zmqstream.py\", line 440, in _handle_events\n    self._handle_recv()\n  File \"C:\\Users\\johnm\\Anaconda3\\lib\\site-packages\\zmq\\eventloop\\zmqstream.py\", line 472, in _handle_recv\n    self._run_callback(callback, msg)\n  File \"C:\\Users\\johnm\\Anaconda3\\lib\\site-packages\\zmq\\eventloop\\zmqstream.py\", line 414, in _run_callback\n    callback(*args, **kwargs)\n  File \"C:\\Users\\johnm\\Anaconda3\\lib\\site-packages\\tornado\\stack_context.py\", line 277, in null_wrapper\n    return fn(*args, **kwargs)\n  File \"C:\\Users\\johnm\\Anaconda3\\lib\\site-packages\\ipykernel\\kernelbase.py\", line 283, in dispatcher\n    return self.dispatch_shell(stream, msg)\n  File \"C:\\Users\\johnm\\Anaconda3\\lib\\site-packages\\ipykernel\\kernelbase.py\", line 235, in dispatch_shell\n    handler(stream, idents, msg)\n  File \"C:\\Users\\johnm\\Anaconda3\\lib\\site-packages\\ipykernel\\kernelbase.py\", line 399, in execute_request\n    user_expressions, allow_stdin)\n  File \"C:\\Users\\johnm\\Anaconda3\\lib\\site-packages\\ipykernel\\ipkernel.py\", line 196, in do_execute\n    res = shell.run_cell(code, store_history=store_history, silent=silent)\n  File \"C:\\Users\\johnm\\Anaconda3\\lib\\site-packages\\ipykernel\\zmqshell.py\", line 533, in run_cell\n    return super(ZMQInteractiveShell, self).run_cell(*args, **kwargs)\n  File \"C:\\Users\\johnm\\Anaconda3\\lib\\site-packages\\IPython\\core\\interactiveshell.py\", line 2698, in run_cell\n    interactivity=interactivity, compiler=compiler, result=result)\n  File \"C:\\Users\\johnm\\Anaconda3\\lib\\site-packages\\IPython\\core\\interactiveshell.py\", line 2802, in run_ast_nodes\n    if self.run_code(code, result):\n  File \"C:\\Users\\johnm\\Anaconda3\\lib\\site-packages\\IPython\\core\\interactiveshell.py\", line 2862, in run_code\n    exec(code_obj, self.user_global_ns, self.user_ns)\n  File \"<ipython-input-21-3b4900b20d68>\", line 3, in <module>\n    average_across_timesteps=True, average_across_batch=True)\n  File \"C:\\Users\\johnm\\Anaconda3\\lib\\site-packages\\tensorflow\\contrib\\seq2seq\\python\\ops\\loss.py\", line 92, in sequence_loss\n    labels=targets, logits=logits_flat)\n  File \"C:\\Users\\johnm\\Anaconda3\\lib\\site-packages\\tensorflow\\python\\ops\\nn_ops.py\", line 1879, in sparse_softmax_cross_entropy_with_logits\n    precise_logits, labels, name=name)\n  File \"C:\\Users\\johnm\\Anaconda3\\lib\\site-packages\\tensorflow\\python\\ops\\gen_nn_ops.py\", line 4546, in _sparse_softmax_cross_entropy_with_logits\n    labels=labels, name=name)\n  File \"C:\\Users\\johnm\\Anaconda3\\lib\\site-packages\\tensorflow\\python\\framework\\op_def_library.py\", line 787, in _apply_op_helper\n    op_def=op_def)\n  File \"C:\\Users\\johnm\\Anaconda3\\lib\\site-packages\\tensorflow\\python\\framework\\ops.py\", line 2956, in create_op\n    op_def=op_def)\n  File \"C:\\Users\\johnm\\Anaconda3\\lib\\site-packages\\tensorflow\\python\\framework\\ops.py\", line 1470, in __init__\n    self._traceback = self._graph._extract_stack()  # pylint: disable=protected-access\n\nInvalidArgumentError (see above for traceback): Received a label value of -8 which is outside the valid range of [0, 772).  Label values: -8 376 376 376 376 769 431 54 769 438 59 769 443 61 445 47 769 431 54 769 438 59 769 443 61 445 71 47 769 431 54 769 455 438 66 59 769 443 61 771 769 450 71 768 455 73 768 457 74 768 458 76 460 445 78 45 769 429 52 769 436 59 769 443 61 771 768 462 78 768 462 78 768 462 79 769 463 81 465 445 768 446 57 769 441 57 768 181 768 441 72 768 565 768 456 62 768 176 768 446 57 560 768 179 768 441 57 563 768 180 768 441 72 564 768 181 768 456 62 768 565 768 446 57 769 441 57 768 181 768 441 72 768 565 768 456 62 768 176 768 446 57 560 768 179 768 441 57 563 768 180 768 441 72 564 768 181 768 456 62 691 307 768 566 691 768 479 182 307 768 566 182 691 307 768 90 566 183 691 306 768 567 690 768 183 306 768 474 95 567 183 690 306 768 479 62 567 183 690 306 768 446 67 567 690 768 451 69 183 306 768 453 71 567 183 690 306 768 455 567 183 690 306 768 567 690 768 183 306 768 567 183 690 306 768 567 183 690 306 768 768 579 199 680 287 768 583 768 202 671 299 768 586 768 463 475 90 78 683 286 768 201 768 585 670 298 769 682 285 768 197 768 581 669 297 769 462 474 91 79 681 284 768 204 768 668 296 768 588 768 680 284 769 668 296 768 202 768 463 475 93 81 586 200 680 282 768 584 207 768 591 666 294 769 465 477 95 83 678 283 768 670 298 768 682 305 768 689 310 768 694 298 768 682 298 768 682 298 768 682 298 768 682 298 769 682 286 768 670 298 768 682 305 768 689 298 768 682 297 769 681 285 768 669 297 768 681 304 768 688 309 768 693 297 768 681 297 768 681 309 768 693 309 768 693 297 769 681 285 768 669 297 768 681 304 768 688 297 768 681 188 768 448 65 572 190 306 768 690 769 449 67 574 192 768 451 576 303 768 687 770 57 181 297 768 441 565 681 769 60 184 768 444 60 568 184 301 768 685 769 444 57 568 181 768 441 63 565 185 304 768 447 569 688 769 62 185 768 446 569 301 768 685 770 60 183 292 768 444 567 676 770 296 768 680 770 299 768 683 770 471 80 689 768 464 83 768 467 85 580 192 313 768 469 697 313 768 85 697 768 469 78 768 462 83 768 467 78 768 462 80 313 768 464 76 697 313 768 460 73 697 768 457 768 85 768 469 88 768 472 80 576 194 768 464 87 768 471 80 768 464 83 768 467 85 578 191 312 768 469 696 312 768 85 696 768 469 78 768 462 682 298 769 682 298 769 682 298 769 682 298 769 682 298 769 682 298 769 682 298 769 682 298 769 682 297 769 70 194 681 295 769 679 295 769 679 295 768 578 768 454 66 191 679 295 769 679 295 769 679 295 768 575 768 450 69 193 679 295 769 453 70 577 194 679 295 769 454 69 578 193 679 297 769 681 297 768 577 768 453 768 545 289 768 160 673 768 544 288 768 159 672 768 543 287 768 160 671 768 544 153 288 768 537 153 672 281 768 537 153 665 281 768 537 153 665 281 768 537 153 665 281 768 537 665 281 768 665 770 161 768 545 289 768 160 673 768 544 288 768 159 672 768 543 287 768 160 671 768 61 64 544 153 288 768 537 153 672 281 768 578 199 202 187 190 195 680 287 768 467 768 86 671 294 768 470 678 768 83 287 769 671 294 768 678 768 467 90 287 769 671 294 768 678 768 474 83 287 769 671 294 769 467 93 579 571 583 586 574 199 201 187 189 194 678 286 769 670 293 768 677 768 286 769 670 293 768 677 768 477 90 578 571 583 585 573 186 198 189 194\n\t [[Node: sequence_loss/SparseSoftmaxCrossEntropyWithLogits/SparseSoftmaxCrossEntropyWithLogits = SparseSoftmaxCrossEntropyWithLogits[T=DT_FLOAT, Tlabels=DT_INT32, _device=\"/job:localhost/replica:0/task:0/device:CPU:0\"](sequence_loss/Reshape, sequence_loss/Reshape_1)]]\n",
     "output_type": "error",
     "traceback": [
      "\u001b[1;31m---------------------------------------------------------------------------\u001b[0m",
      "\u001b[1;31mInvalidArgumentError\u001b[0m                      Traceback (most recent call last)",
      "\u001b[1;32m~\\Anaconda3\\lib\\site-packages\\tensorflow\\python\\client\\session.py\u001b[0m in \u001b[0;36m_do_call\u001b[1;34m(self, fn, *args)\u001b[0m\n\u001b[0;32m   1322\u001b[0m     \u001b[1;32mtry\u001b[0m\u001b[1;33m:\u001b[0m\u001b[1;33m\u001b[0m\u001b[0m\n\u001b[1;32m-> 1323\u001b[1;33m       \u001b[1;32mreturn\u001b[0m \u001b[0mfn\u001b[0m\u001b[1;33m(\u001b[0m\u001b[1;33m*\u001b[0m\u001b[0margs\u001b[0m\u001b[1;33m)\u001b[0m\u001b[1;33m\u001b[0m\u001b[0m\n\u001b[0m\u001b[0;32m   1324\u001b[0m     \u001b[1;32mexcept\u001b[0m \u001b[0merrors\u001b[0m\u001b[1;33m.\u001b[0m\u001b[0mOpError\u001b[0m \u001b[1;32mas\u001b[0m \u001b[0me\u001b[0m\u001b[1;33m:\u001b[0m\u001b[1;33m\u001b[0m\u001b[0m\n",
      "\u001b[1;32m~\\Anaconda3\\lib\\site-packages\\tensorflow\\python\\client\\session.py\u001b[0m in \u001b[0;36m_run_fn\u001b[1;34m(session, feed_dict, fetch_list, target_list, options, run_metadata)\u001b[0m\n\u001b[0;32m   1301\u001b[0m                                    \u001b[0mfeed_dict\u001b[0m\u001b[1;33m,\u001b[0m \u001b[0mfetch_list\u001b[0m\u001b[1;33m,\u001b[0m \u001b[0mtarget_list\u001b[0m\u001b[1;33m,\u001b[0m\u001b[1;33m\u001b[0m\u001b[0m\n\u001b[1;32m-> 1302\u001b[1;33m                                    status, run_metadata)\n\u001b[0m\u001b[0;32m   1303\u001b[0m \u001b[1;33m\u001b[0m\u001b[0m\n",
      "\u001b[1;32m~\\Anaconda3\\lib\\site-packages\\tensorflow\\python\\framework\\errors_impl.py\u001b[0m in \u001b[0;36m__exit__\u001b[1;34m(self, type_arg, value_arg, traceback_arg)\u001b[0m\n\u001b[0;32m    472\u001b[0m             \u001b[0mcompat\u001b[0m\u001b[1;33m.\u001b[0m\u001b[0mas_text\u001b[0m\u001b[1;33m(\u001b[0m\u001b[0mc_api\u001b[0m\u001b[1;33m.\u001b[0m\u001b[0mTF_Message\u001b[0m\u001b[1;33m(\u001b[0m\u001b[0mself\u001b[0m\u001b[1;33m.\u001b[0m\u001b[0mstatus\u001b[0m\u001b[1;33m.\u001b[0m\u001b[0mstatus\u001b[0m\u001b[1;33m)\u001b[0m\u001b[1;33m)\u001b[0m\u001b[1;33m,\u001b[0m\u001b[1;33m\u001b[0m\u001b[0m\n\u001b[1;32m--> 473\u001b[1;33m             c_api.TF_GetCode(self.status.status))\n\u001b[0m\u001b[0;32m    474\u001b[0m     \u001b[1;31m# Delete the underlying status object from memory otherwise it stays alive\u001b[0m\u001b[1;33m\u001b[0m\u001b[1;33m\u001b[0m\u001b[0m\n",
      "\u001b[1;31mInvalidArgumentError\u001b[0m: Received a label value of -8 which is outside the valid range of [0, 772).  Label values: -8 376 376 376 376 769 431 54 769 438 59 769 443 61 445 47 769 431 54 769 438 59 769 443 61 445 71 47 769 431 54 769 455 438 66 59 769 443 61 771 769 450 71 768 455 73 768 457 74 768 458 76 460 445 78 45 769 429 52 769 436 59 769 443 61 771 768 462 78 768 462 78 768 462 79 769 463 81 465 445 768 446 57 769 441 57 768 181 768 441 72 768 565 768 456 62 768 176 768 446 57 560 768 179 768 441 57 563 768 180 768 441 72 564 768 181 768 456 62 768 565 768 446 57 769 441 57 768 181 768 441 72 768 565 768 456 62 768 176 768 446 57 560 768 179 768 441 57 563 768 180 768 441 72 564 768 181 768 456 62 691 307 768 566 691 768 479 182 307 768 566 182 691 307 768 90 566 183 691 306 768 567 690 768 183 306 768 474 95 567 183 690 306 768 479 62 567 183 690 306 768 446 67 567 690 768 451 69 183 306 768 453 71 567 183 690 306 768 455 567 183 690 306 768 567 690 768 183 306 768 567 183 690 306 768 567 183 690 306 768 768 579 199 680 287 768 583 768 202 671 299 768 586 768 463 475 90 78 683 286 768 201 768 585 670 298 769 682 285 768 197 768 581 669 297 769 462 474 91 79 681 284 768 204 768 668 296 768 588 768 680 284 769 668 296 768 202 768 463 475 93 81 586 200 680 282 768 584 207 768 591 666 294 769 465 477 95 83 678 283 768 670 298 768 682 305 768 689 310 768 694 298 768 682 298 768 682 298 768 682 298 768 682 298 769 682 286 768 670 298 768 682 305 768 689 298 768 682 297 769 681 285 768 669 297 768 681 304 768 688 309 768 693 297 768 681 297 768 681 309 768 693 309 768 693 297 769 681 285 768 669 297 768 681 304 768 688 297 768 681 188 768 448 65 572 190 306 768 690 769 449 67 574 192 768 451 576 303 768 687 770 57 181 297 768 441 565 681 769 60 184 768 444 60 568 184 301 768 685 769 444 57 568 181 768 441 63 565 185 304 768 447 569 688 769 62 185 768 446 569 301 768 685 770 60 183 292 768 444 567 676 770 296 768 680 770 299 768 683 770 471 80 689 768 464 83 768 467 85 580 192 313 768 469 697 313 768 85 697 768 469 78 768 462 83 768 467 78 768 462 80 313 768 464 76 697 313 768 460 73 697 768 457 768 85 768 469 88 768 472 80 576 194 768 464 87 768 471 80 768 464 83 768 467 85 578 191 312 768 469 696 312 768 85 696 768 469 78 768 462 682 298 769 682 298 769 682 298 769 682 298 769 682 298 769 682 298 769 682 298 769 682 298 769 682 297 769 70 194 681 295 769 679 295 769 679 295 768 578 768 454 66 191 679 295 769 679 295 769 679 295 768 575 768 450 69 193 679 295 769 453 70 577 194 679 295 769 454 69 578 193 679 297 769 681 297 768 577 768 453 768 545 289 768 160 673 768 544 288 768 159 672 768 543 287 768 160 671 768 544 153 288 768 537 153 672 281 768 537 153 665 281 768 537 153 665 281 768 537 153 665 281 768 537 665 281 768 665 770 161 768 545 289 768 160 673 768 544 288 768 159 672 768 543 287 768 160 671 768 61 64 544 153 288 768 537 153 672 281 768 578 199 202 187 190 195 680 287 768 467 768 86 671 294 768 470 678 768 83 287 769 671 294 768 678 768 467 90 287 769 671 294 768 678 768 474 83 287 769 671 294 769 467 93 579 571 583 586 574 199 201 187 189 194 678 286 769 670 293 768 677 768 286 769 670 293 768 677 768 477 90 578 571 583 585 573 186 198 189 194\n\t [[Node: sequence_loss/SparseSoftmaxCrossEntropyWithLogits/SparseSoftmaxCrossEntropyWithLogits = SparseSoftmaxCrossEntropyWithLogits[T=DT_FLOAT, Tlabels=DT_INT32, _device=\"/job:localhost/replica:0/task:0/device:CPU:0\"](sequence_loss/Reshape, sequence_loss/Reshape_1)]]",
      "\nDuring handling of the above exception, another exception occurred:\n",
      "\u001b[1;31mInvalidArgumentError\u001b[0m                      Traceback (most recent call last)",
      "\u001b[1;32m<ipython-input-28-c20919eece4e>\u001b[0m in \u001b[0;36m<module>\u001b[1;34m()\u001b[0m\n\u001b[0;32m     14\u001b[0m \u001b[1;33m\u001b[0m\u001b[0m\n\u001b[0;32m     15\u001b[0m     \u001b[0mbatch_x\u001b[0m\u001b[1;33m,\u001b[0m \u001b[0mbatch_y\u001b[0m \u001b[1;33m=\u001b[0m \u001b[0mget_batch\u001b[0m\u001b[1;33m(\u001b[0m\u001b[0mtraining_data\u001b[0m\u001b[1;33m,\u001b[0m \u001b[0mbatch_size\u001b[0m\u001b[1;33m)\u001b[0m\u001b[1;33m\u001b[0m\u001b[0m\n\u001b[1;32m---> 16\u001b[1;33m     \u001b[0m_\u001b[0m\u001b[1;33m,\u001b[0m \u001b[0mloss\u001b[0m \u001b[1;33m=\u001b[0m \u001b[0msession\u001b[0m\u001b[1;33m.\u001b[0m\u001b[0mrun\u001b[0m\u001b[1;33m(\u001b[0m\u001b[1;33m[\u001b[0m\u001b[0moptimizer\u001b[0m\u001b[1;33m,\u001b[0m \u001b[0mcost\u001b[0m\u001b[1;33m]\u001b[0m\u001b[1;33m,\u001b[0m \u001b[0mfeed_dict\u001b[0m\u001b[1;33m=\u001b[0m\u001b[1;33m{\u001b[0m\u001b[0mx\u001b[0m\u001b[1;33m:\u001b[0m \u001b[0mbatch_x\u001b[0m\u001b[1;33m,\u001b[0m \u001b[0my\u001b[0m\u001b[1;33m:\u001b[0m \u001b[0mbatch_y\u001b[0m\u001b[1;33m}\u001b[0m\u001b[1;33m)\u001b[0m\u001b[1;33m\u001b[0m\u001b[0m\n\u001b[0m\u001b[0;32m     17\u001b[0m     \u001b[0mloss_total\u001b[0m \u001b[1;33m+=\u001b[0m \u001b[0mloss\u001b[0m\u001b[1;33m\u001b[0m\u001b[0m\n\u001b[0;32m     18\u001b[0m \u001b[1;33m\u001b[0m\u001b[0m\n",
      "\u001b[1;32m~\\Anaconda3\\lib\\site-packages\\tensorflow\\python\\client\\session.py\u001b[0m in \u001b[0;36mrun\u001b[1;34m(self, fetches, feed_dict, options, run_metadata)\u001b[0m\n\u001b[0;32m    887\u001b[0m     \u001b[1;32mtry\u001b[0m\u001b[1;33m:\u001b[0m\u001b[1;33m\u001b[0m\u001b[0m\n\u001b[0;32m    888\u001b[0m       result = self._run(None, fetches, feed_dict, options_ptr,\n\u001b[1;32m--> 889\u001b[1;33m                          run_metadata_ptr)\n\u001b[0m\u001b[0;32m    890\u001b[0m       \u001b[1;32mif\u001b[0m \u001b[0mrun_metadata\u001b[0m\u001b[1;33m:\u001b[0m\u001b[1;33m\u001b[0m\u001b[0m\n\u001b[0;32m    891\u001b[0m         \u001b[0mproto_data\u001b[0m \u001b[1;33m=\u001b[0m \u001b[0mtf_session\u001b[0m\u001b[1;33m.\u001b[0m\u001b[0mTF_GetBuffer\u001b[0m\u001b[1;33m(\u001b[0m\u001b[0mrun_metadata_ptr\u001b[0m\u001b[1;33m)\u001b[0m\u001b[1;33m\u001b[0m\u001b[0m\n",
      "\u001b[1;32m~\\Anaconda3\\lib\\site-packages\\tensorflow\\python\\client\\session.py\u001b[0m in \u001b[0;36m_run\u001b[1;34m(self, handle, fetches, feed_dict, options, run_metadata)\u001b[0m\n\u001b[0;32m   1118\u001b[0m     \u001b[1;32mif\u001b[0m \u001b[0mfinal_fetches\u001b[0m \u001b[1;32mor\u001b[0m \u001b[0mfinal_targets\u001b[0m \u001b[1;32mor\u001b[0m \u001b[1;33m(\u001b[0m\u001b[0mhandle\u001b[0m \u001b[1;32mand\u001b[0m \u001b[0mfeed_dict_tensor\u001b[0m\u001b[1;33m)\u001b[0m\u001b[1;33m:\u001b[0m\u001b[1;33m\u001b[0m\u001b[0m\n\u001b[0;32m   1119\u001b[0m       results = self._do_run(handle, final_targets, final_fetches,\n\u001b[1;32m-> 1120\u001b[1;33m                              feed_dict_tensor, options, run_metadata)\n\u001b[0m\u001b[0;32m   1121\u001b[0m     \u001b[1;32melse\u001b[0m\u001b[1;33m:\u001b[0m\u001b[1;33m\u001b[0m\u001b[0m\n\u001b[0;32m   1122\u001b[0m       \u001b[0mresults\u001b[0m \u001b[1;33m=\u001b[0m \u001b[1;33m[\u001b[0m\u001b[1;33m]\u001b[0m\u001b[1;33m\u001b[0m\u001b[0m\n",
      "\u001b[1;32m~\\Anaconda3\\lib\\site-packages\\tensorflow\\python\\client\\session.py\u001b[0m in \u001b[0;36m_do_run\u001b[1;34m(self, handle, target_list, fetch_list, feed_dict, options, run_metadata)\u001b[0m\n\u001b[0;32m   1315\u001b[0m     \u001b[1;32mif\u001b[0m \u001b[0mhandle\u001b[0m \u001b[1;32mis\u001b[0m \u001b[1;32mNone\u001b[0m\u001b[1;33m:\u001b[0m\u001b[1;33m\u001b[0m\u001b[0m\n\u001b[0;32m   1316\u001b[0m       return self._do_call(_run_fn, self._session, feeds, fetches, targets,\n\u001b[1;32m-> 1317\u001b[1;33m                            options, run_metadata)\n\u001b[0m\u001b[0;32m   1318\u001b[0m     \u001b[1;32melse\u001b[0m\u001b[1;33m:\u001b[0m\u001b[1;33m\u001b[0m\u001b[0m\n\u001b[0;32m   1319\u001b[0m       \u001b[1;32mreturn\u001b[0m \u001b[0mself\u001b[0m\u001b[1;33m.\u001b[0m\u001b[0m_do_call\u001b[0m\u001b[1;33m(\u001b[0m\u001b[0m_prun_fn\u001b[0m\u001b[1;33m,\u001b[0m \u001b[0mself\u001b[0m\u001b[1;33m.\u001b[0m\u001b[0m_session\u001b[0m\u001b[1;33m,\u001b[0m \u001b[0mhandle\u001b[0m\u001b[1;33m,\u001b[0m \u001b[0mfeeds\u001b[0m\u001b[1;33m,\u001b[0m \u001b[0mfetches\u001b[0m\u001b[1;33m)\u001b[0m\u001b[1;33m\u001b[0m\u001b[0m\n",
      "\u001b[1;32m~\\Anaconda3\\lib\\site-packages\\tensorflow\\python\\client\\session.py\u001b[0m in \u001b[0;36m_do_call\u001b[1;34m(self, fn, *args)\u001b[0m\n\u001b[0;32m   1334\u001b[0m         \u001b[1;32mexcept\u001b[0m \u001b[0mKeyError\u001b[0m\u001b[1;33m:\u001b[0m\u001b[1;33m\u001b[0m\u001b[0m\n\u001b[0;32m   1335\u001b[0m           \u001b[1;32mpass\u001b[0m\u001b[1;33m\u001b[0m\u001b[0m\n\u001b[1;32m-> 1336\u001b[1;33m       \u001b[1;32mraise\u001b[0m \u001b[0mtype\u001b[0m\u001b[1;33m(\u001b[0m\u001b[0me\u001b[0m\u001b[1;33m)\u001b[0m\u001b[1;33m(\u001b[0m\u001b[0mnode_def\u001b[0m\u001b[1;33m,\u001b[0m \u001b[0mop\u001b[0m\u001b[1;33m,\u001b[0m \u001b[0mmessage\u001b[0m\u001b[1;33m)\u001b[0m\u001b[1;33m\u001b[0m\u001b[0m\n\u001b[0m\u001b[0;32m   1337\u001b[0m \u001b[1;33m\u001b[0m\u001b[0m\n\u001b[0;32m   1338\u001b[0m   \u001b[1;32mdef\u001b[0m \u001b[0m_extend_graph\u001b[0m\u001b[1;33m(\u001b[0m\u001b[0mself\u001b[0m\u001b[1;33m)\u001b[0m\u001b[1;33m:\u001b[0m\u001b[1;33m\u001b[0m\u001b[0m\n",
      "\u001b[1;31mInvalidArgumentError\u001b[0m: Received a label value of -8 which is outside the valid range of [0, 772).  Label values: -8 376 376 376 376 769 431 54 769 438 59 769 443 61 445 47 769 431 54 769 438 59 769 443 61 445 71 47 769 431 54 769 455 438 66 59 769 443 61 771 769 450 71 768 455 73 768 457 74 768 458 76 460 445 78 45 769 429 52 769 436 59 769 443 61 771 768 462 78 768 462 78 768 462 79 769 463 81 465 445 768 446 57 769 441 57 768 181 768 441 72 768 565 768 456 62 768 176 768 446 57 560 768 179 768 441 57 563 768 180 768 441 72 564 768 181 768 456 62 768 565 768 446 57 769 441 57 768 181 768 441 72 768 565 768 456 62 768 176 768 446 57 560 768 179 768 441 57 563 768 180 768 441 72 564 768 181 768 456 62 691 307 768 566 691 768 479 182 307 768 566 182 691 307 768 90 566 183 691 306 768 567 690 768 183 306 768 474 95 567 183 690 306 768 479 62 567 183 690 306 768 446 67 567 690 768 451 69 183 306 768 453 71 567 183 690 306 768 455 567 183 690 306 768 567 690 768 183 306 768 567 183 690 306 768 567 183 690 306 768 768 579 199 680 287 768 583 768 202 671 299 768 586 768 463 475 90 78 683 286 768 201 768 585 670 298 769 682 285 768 197 768 581 669 297 769 462 474 91 79 681 284 768 204 768 668 296 768 588 768 680 284 769 668 296 768 202 768 463 475 93 81 586 200 680 282 768 584 207 768 591 666 294 769 465 477 95 83 678 283 768 670 298 768 682 305 768 689 310 768 694 298 768 682 298 768 682 298 768 682 298 768 682 298 769 682 286 768 670 298 768 682 305 768 689 298 768 682 297 769 681 285 768 669 297 768 681 304 768 688 309 768 693 297 768 681 297 768 681 309 768 693 309 768 693 297 769 681 285 768 669 297 768 681 304 768 688 297 768 681 188 768 448 65 572 190 306 768 690 769 449 67 574 192 768 451 576 303 768 687 770 57 181 297 768 441 565 681 769 60 184 768 444 60 568 184 301 768 685 769 444 57 568 181 768 441 63 565 185 304 768 447 569 688 769 62 185 768 446 569 301 768 685 770 60 183 292 768 444 567 676 770 296 768 680 770 299 768 683 770 471 80 689 768 464 83 768 467 85 580 192 313 768 469 697 313 768 85 697 768 469 78 768 462 83 768 467 78 768 462 80 313 768 464 76 697 313 768 460 73 697 768 457 768 85 768 469 88 768 472 80 576 194 768 464 87 768 471 80 768 464 83 768 467 85 578 191 312 768 469 696 312 768 85 696 768 469 78 768 462 682 298 769 682 298 769 682 298 769 682 298 769 682 298 769 682 298 769 682 298 769 682 298 769 682 297 769 70 194 681 295 769 679 295 769 679 295 768 578 768 454 66 191 679 295 769 679 295 769 679 295 768 575 768 450 69 193 679 295 769 453 70 577 194 679 295 769 454 69 578 193 679 297 769 681 297 768 577 768 453 768 545 289 768 160 673 768 544 288 768 159 672 768 543 287 768 160 671 768 544 153 288 768 537 153 672 281 768 537 153 665 281 768 537 153 665 281 768 537 153 665 281 768 537 665 281 768 665 770 161 768 545 289 768 160 673 768 544 288 768 159 672 768 543 287 768 160 671 768 61 64 544 153 288 768 537 153 672 281 768 578 199 202 187 190 195 680 287 768 467 768 86 671 294 768 470 678 768 83 287 769 671 294 768 678 768 467 90 287 769 671 294 768 678 768 474 83 287 769 671 294 769 467 93 579 571 583 586 574 199 201 187 189 194 678 286 769 670 293 768 677 768 286 769 670 293 768 677 768 477 90 578 571 583 585 573 186 198 189 194\n\t [[Node: sequence_loss/SparseSoftmaxCrossEntropyWithLogits/SparseSoftmaxCrossEntropyWithLogits = SparseSoftmaxCrossEntropyWithLogits[T=DT_FLOAT, Tlabels=DT_INT32, _device=\"/job:localhost/replica:0/task:0/device:CPU:0\"](sequence_loss/Reshape, sequence_loss/Reshape_1)]]\n\nCaused by op 'sequence_loss/SparseSoftmaxCrossEntropyWithLogits/SparseSoftmaxCrossEntropyWithLogits', defined at:\n  File \"C:\\Users\\johnm\\Anaconda3\\lib\\runpy.py\", line 193, in _run_module_as_main\n    \"__main__\", mod_spec)\n  File \"C:\\Users\\johnm\\Anaconda3\\lib\\runpy.py\", line 85, in _run_code\n    exec(code, run_globals)\n  File \"C:\\Users\\johnm\\Anaconda3\\lib\\site-packages\\ipykernel_launcher.py\", line 16, in <module>\n    app.launch_new_instance()\n  File \"C:\\Users\\johnm\\Anaconda3\\lib\\site-packages\\traitlets\\config\\application.py\", line 658, in launch_instance\n    app.start()\n  File \"C:\\Users\\johnm\\Anaconda3\\lib\\site-packages\\ipykernel\\kernelapp.py\", line 477, in start\n    ioloop.IOLoop.instance().start()\n  File \"C:\\Users\\johnm\\Anaconda3\\lib\\site-packages\\zmq\\eventloop\\ioloop.py\", line 177, in start\n    super(ZMQIOLoop, self).start()\n  File \"C:\\Users\\johnm\\Anaconda3\\lib\\site-packages\\tornado\\ioloop.py\", line 888, in start\n    handler_func(fd_obj, events)\n  File \"C:\\Users\\johnm\\Anaconda3\\lib\\site-packages\\tornado\\stack_context.py\", line 277, in null_wrapper\n    return fn(*args, **kwargs)\n  File \"C:\\Users\\johnm\\Anaconda3\\lib\\site-packages\\zmq\\eventloop\\zmqstream.py\", line 440, in _handle_events\n    self._handle_recv()\n  File \"C:\\Users\\johnm\\Anaconda3\\lib\\site-packages\\zmq\\eventloop\\zmqstream.py\", line 472, in _handle_recv\n    self._run_callback(callback, msg)\n  File \"C:\\Users\\johnm\\Anaconda3\\lib\\site-packages\\zmq\\eventloop\\zmqstream.py\", line 414, in _run_callback\n    callback(*args, **kwargs)\n  File \"C:\\Users\\johnm\\Anaconda3\\lib\\site-packages\\tornado\\stack_context.py\", line 277, in null_wrapper\n    return fn(*args, **kwargs)\n  File \"C:\\Users\\johnm\\Anaconda3\\lib\\site-packages\\ipykernel\\kernelbase.py\", line 283, in dispatcher\n    return self.dispatch_shell(stream, msg)\n  File \"C:\\Users\\johnm\\Anaconda3\\lib\\site-packages\\ipykernel\\kernelbase.py\", line 235, in dispatch_shell\n    handler(stream, idents, msg)\n  File \"C:\\Users\\johnm\\Anaconda3\\lib\\site-packages\\ipykernel\\kernelbase.py\", line 399, in execute_request\n    user_expressions, allow_stdin)\n  File \"C:\\Users\\johnm\\Anaconda3\\lib\\site-packages\\ipykernel\\ipkernel.py\", line 196, in do_execute\n    res = shell.run_cell(code, store_history=store_history, silent=silent)\n  File \"C:\\Users\\johnm\\Anaconda3\\lib\\site-packages\\ipykernel\\zmqshell.py\", line 533, in run_cell\n    return super(ZMQInteractiveShell, self).run_cell(*args, **kwargs)\n  File \"C:\\Users\\johnm\\Anaconda3\\lib\\site-packages\\IPython\\core\\interactiveshell.py\", line 2698, in run_cell\n    interactivity=interactivity, compiler=compiler, result=result)\n  File \"C:\\Users\\johnm\\Anaconda3\\lib\\site-packages\\IPython\\core\\interactiveshell.py\", line 2802, in run_ast_nodes\n    if self.run_code(code, result):\n  File \"C:\\Users\\johnm\\Anaconda3\\lib\\site-packages\\IPython\\core\\interactiveshell.py\", line 2862, in run_code\n    exec(code_obj, self.user_global_ns, self.user_ns)\n  File \"<ipython-input-21-3b4900b20d68>\", line 3, in <module>\n    average_across_timesteps=True, average_across_batch=True)\n  File \"C:\\Users\\johnm\\Anaconda3\\lib\\site-packages\\tensorflow\\contrib\\seq2seq\\python\\ops\\loss.py\", line 92, in sequence_loss\n    labels=targets, logits=logits_flat)\n  File \"C:\\Users\\johnm\\Anaconda3\\lib\\site-packages\\tensorflow\\python\\ops\\nn_ops.py\", line 1879, in sparse_softmax_cross_entropy_with_logits\n    precise_logits, labels, name=name)\n  File \"C:\\Users\\johnm\\Anaconda3\\lib\\site-packages\\tensorflow\\python\\ops\\gen_nn_ops.py\", line 4546, in _sparse_softmax_cross_entropy_with_logits\n    labels=labels, name=name)\n  File \"C:\\Users\\johnm\\Anaconda3\\lib\\site-packages\\tensorflow\\python\\framework\\op_def_library.py\", line 787, in _apply_op_helper\n    op_def=op_def)\n  File \"C:\\Users\\johnm\\Anaconda3\\lib\\site-packages\\tensorflow\\python\\framework\\ops.py\", line 2956, in create_op\n    op_def=op_def)\n  File \"C:\\Users\\johnm\\Anaconda3\\lib\\site-packages\\tensorflow\\python\\framework\\ops.py\", line 1470, in __init__\n    self._traceback = self._graph._extract_stack()  # pylint: disable=protected-access\n\nInvalidArgumentError (see above for traceback): Received a label value of -8 which is outside the valid range of [0, 772).  Label values: -8 376 376 376 376 769 431 54 769 438 59 769 443 61 445 47 769 431 54 769 438 59 769 443 61 445 71 47 769 431 54 769 455 438 66 59 769 443 61 771 769 450 71 768 455 73 768 457 74 768 458 76 460 445 78 45 769 429 52 769 436 59 769 443 61 771 768 462 78 768 462 78 768 462 79 769 463 81 465 445 768 446 57 769 441 57 768 181 768 441 72 768 565 768 456 62 768 176 768 446 57 560 768 179 768 441 57 563 768 180 768 441 72 564 768 181 768 456 62 768 565 768 446 57 769 441 57 768 181 768 441 72 768 565 768 456 62 768 176 768 446 57 560 768 179 768 441 57 563 768 180 768 441 72 564 768 181 768 456 62 691 307 768 566 691 768 479 182 307 768 566 182 691 307 768 90 566 183 691 306 768 567 690 768 183 306 768 474 95 567 183 690 306 768 479 62 567 183 690 306 768 446 67 567 690 768 451 69 183 306 768 453 71 567 183 690 306 768 455 567 183 690 306 768 567 690 768 183 306 768 567 183 690 306 768 567 183 690 306 768 768 579 199 680 287 768 583 768 202 671 299 768 586 768 463 475 90 78 683 286 768 201 768 585 670 298 769 682 285 768 197 768 581 669 297 769 462 474 91 79 681 284 768 204 768 668 296 768 588 768 680 284 769 668 296 768 202 768 463 475 93 81 586 200 680 282 768 584 207 768 591 666 294 769 465 477 95 83 678 283 768 670 298 768 682 305 768 689 310 768 694 298 768 682 298 768 682 298 768 682 298 768 682 298 769 682 286 768 670 298 768 682 305 768 689 298 768 682 297 769 681 285 768 669 297 768 681 304 768 688 309 768 693 297 768 681 297 768 681 309 768 693 309 768 693 297 769 681 285 768 669 297 768 681 304 768 688 297 768 681 188 768 448 65 572 190 306 768 690 769 449 67 574 192 768 451 576 303 768 687 770 57 181 297 768 441 565 681 769 60 184 768 444 60 568 184 301 768 685 769 444 57 568 181 768 441 63 565 185 304 768 447 569 688 769 62 185 768 446 569 301 768 685 770 60 183 292 768 444 567 676 770 296 768 680 770 299 768 683 770 471 80 689 768 464 83 768 467 85 580 192 313 768 469 697 313 768 85 697 768 469 78 768 462 83 768 467 78 768 462 80 313 768 464 76 697 313 768 460 73 697 768 457 768 85 768 469 88 768 472 80 576 194 768 464 87 768 471 80 768 464 83 768 467 85 578 191 312 768 469 696 312 768 85 696 768 469 78 768 462 682 298 769 682 298 769 682 298 769 682 298 769 682 298 769 682 298 769 682 298 769 682 298 769 682 297 769 70 194 681 295 769 679 295 769 679 295 768 578 768 454 66 191 679 295 769 679 295 769 679 295 768 575 768 450 69 193 679 295 769 453 70 577 194 679 295 769 454 69 578 193 679 297 769 681 297 768 577 768 453 768 545 289 768 160 673 768 544 288 768 159 672 768 543 287 768 160 671 768 544 153 288 768 537 153 672 281 768 537 153 665 281 768 537 153 665 281 768 537 153 665 281 768 537 665 281 768 665 770 161 768 545 289 768 160 673 768 544 288 768 159 672 768 543 287 768 160 671 768 61 64 544 153 288 768 537 153 672 281 768 578 199 202 187 190 195 680 287 768 467 768 86 671 294 768 470 678 768 83 287 769 671 294 768 678 768 467 90 287 769 671 294 768 678 768 474 83 287 769 671 294 769 467 93 579 571 583 586 574 199 201 187 189 194 678 286 769 670 293 768 677 768 286 769 670 293 768 677 768 477 90 578 571 583 585 573 186 198 189 194\n\t [[Node: sequence_loss/SparseSoftmaxCrossEntropyWithLogits/SparseSoftmaxCrossEntropyWithLogits = SparseSoftmaxCrossEntropyWithLogits[T=DT_FLOAT, Tlabels=DT_INT32, _device=\"/job:localhost/replica:0/task:0/device:CPU:0\"](sequence_loss/Reshape, sequence_loss/Reshape_1)]]\n"
     ]
    }
   ],
   "source": [
    "training_loss_list = []\n",
    "validation_loss_list = []\n",
    "time_elapsed_list = []\n",
    "\n",
    "init = tf.global_variables_initializer()\n",
    "session.run(init)\n",
    "step = 0\n",
    "loss_total = 0\n",
    "\n",
    "start_time = time.time()\n",
    "\n",
    "while step < training_iters:\n",
    "    start_a = time.time()\n",
    "    \n",
    "    batch_x, batch_y = get_batch(training_data, batch_size)\n",
    "    _, loss = session.run([optimizer, cost], feed_dict={x: batch_x, y: batch_y})\n",
    "    loss_total += loss\n",
    "    \n",
    "    if step % validation_step == 0:\n",
    "        batch_x_validation, batch_y_validation = get_batch(validation_data, N_VALIDATION_SET)\n",
    "        loss_validation = session.run([cost_validation], feed_dict={x_validation: batch_x_validation, y_validation: batch_y_validation})[0]\n",
    "    \n",
    "    training_loss_list.append(loss)\n",
    "    validation_loss_list.append(loss_validation)\n",
    "    time_elapsed = seconds_to_minsecstr(int(time.time()-start_time))\n",
    "    time_elapsed_list.append(time_elapsed)\n",
    "    \n",
    "    if (step+1) % display_step == 0:\n",
    "        display = \"Iter=\" + str(step+1) + \", Average Loss={:.6f}, Validation Loss={:.6f}, Time Elapsed={}\".format(\n",
    "            loss_total/display_step, loss_validation, time_elapsed)\n",
    "        print(display)\n",
    "        loss_total = 0\n",
    "        loss_validation_total = 0\n",
    "    step += 1"
   ]
  },
  {
   "cell_type": "markdown",
   "metadata": {},
   "source": [
    "### Plots"
   ]
  },
  {
   "cell_type": "code",
   "execution_count": 40,
   "metadata": {
    "scrolled": false
   },
   "outputs": [
    {
     "data": {
      "image/png": "[encoded data removed]",
      "text/plain": [
       "<matplotlib.figure.Figure at 0x26ffddec630>"
      ]
     },
     "metadata": {},
     "output_type": "display_data"
    }
   ],
   "source": [
    "plt.plot(training_loss_list, label='Training loss')\n",
    "plt.plot(validation_loss_list, label='Validation loss')\n",
    "plt.xlabel('Iteration')\n",
    "plt.title('Training/Validation loss over iterations')\n",
    "plt.legend()\n",
    "plt.show()"
   ]
  },
  {
   "cell_type": "markdown",
   "metadata": {},
   "source": [
    "### Create log file"
   ]
  },
  {
   "cell_type": "code",
   "execution_count": 41,
   "metadata": {
    "collapsed": true
   },
   "outputs": [],
   "source": [
    "logfile_directory = 'logs/'"
   ]
  },
  {
   "cell_type": "code",
   "execution_count": 42,
   "metadata": {},
   "outputs": [
    {
     "data": {
      "text/plain": [
       "(1.7545917, 11330, 1.7943364, 1.7899835)"
      ]
     },
     "execution_count": 42,
     "metadata": {},
     "output_type": "execute_result"
    }
   ],
   "source": [
    "validation_loss_list = np.array(validation_loss_list)\n",
    "min_valid_loss = np.inf\n",
    "min_valid_loss_iteration = -1\n",
    "for i in range(validation_step*10, len(validation_loss_list)-validation_step*10)[::validation_step]:\n",
    "    valid_loss_mean = np.nanmean(validation_loss_list[i-validation_step*10:i+validation_step*10]) # smoothed validation mean\n",
    "    if valid_loss_mean < min_valid_loss:\n",
    "        min_valid_loss = valid_loss_mean\n",
    "        min_valid_loss_iteration = i\n",
    "        \n",
    "train_loss_mean = np.nanmean(np.array(np.array(training_loss_list)[-50:]))\n",
    "valid_loss_mean = np.nanmean(np.array(np.array(validation_loss_list)[-50:]))\n",
    "train_loss_mean, valid_loss_mean\n",
    "\n",
    "min_valid_loss, min_valid_loss_iteration, train_loss_mean, valid_loss_mean"
   ]
  },
  {
   "cell_type": "code",
   "execution_count": 43,
   "metadata": {},
   "outputs": [
    {
     "data": {
      "text/plain": [
       "'Logfile (Date=2017-11-21 12.52, MinValidLoss=1.75, TrainLoss=1.79, Iterations=12094).txt'"
      ]
     },
     "execution_count": 43,
     "metadata": {},
     "output_type": "execute_result"
    }
   ],
   "source": [
    "date = time.strftime(\"%Y-%m-%d %H.%M\")\n",
    "logfile_name =\"Logfile (Date={}, MinValidLoss={:.2f}, TrainLoss={:.2f}, Iterations={}).txt\". \\\n",
    "    format(date, min_valid_loss, train_loss_mean, len(validation_loss_list))\n",
    "logfile_name"
   ]
  },
  {
   "cell_type": "code",
   "execution_count": 44,
   "metadata": {
    "collapsed": true
   },
   "outputs": [],
   "source": [
    "logfile = open(logfile_directory + logfile_name, \"w\")\n",
    "\n",
    "logfile.write(\"Training loss={:.6f}\\n\".format(train_loss_mean))\n",
    "logfile.write(\"Validation loss={:.6f}\\n\".format(valid_loss_mean))\n",
    "logfile.write(\"Min Validation loss={:.6f}\\n\".format(min_valid_loss))\n",
    "logfile.write(\"Iteration of min validation loss={}\\n\\n\".format(min_valid_loss_iteration))\n",
    "\n",
    "logfile.write(\"Iterations trained={}\\n\".format(len(time_elapsed_list)))\n",
    "logfile.write(\"Duration={}\\n\\n\".format(time_elapsed_list[-1]))\n",
    "\n",
    "logfile.write(\"Number of training examples={}\\n\".format(len(training_data)))\n",
    "logfile.write(\"Number of validation examples={}\\n\\n\".format(len(validation_data)))\n",
    "\n",
    "\n",
    "logfile.write(\"Batch size={}\\n\".format(batch_size))\n",
    "logfile.write(\"Learning rate={:.6f}\\n\".format(learning_rate))\n",
    "logfile.write(\"Number of input (T)={}\\n\\n\".format(n_input))\n",
    "\n",
    "logfile.write(\"Number of hidden layers={}\\n\".format(n_layers))\n",
    "logfile.write(\"Number of hidden units per year={}\\n\\n\".format(n_hidden))\n",
    "\n",
    "for i in range(len(training_loss_list)):\n",
    "    logfile.write(\"Iter={}, Training Loss={:.6f}, Validation Loss={:.6f}, Time Elapsed={}\\n\".format(\n",
    "            (i+1), training_loss_list[i], validation_loss_list[i], time_elapsed_list[i]))\n",
    "    \n",
    "logfile.close()"
   ]
  },
  {
   "cell_type": "markdown",
   "metadata": {},
   "source": [
    "### Generate music from trained model"
   ]
  },
  {
   "cell_type": "code",
   "execution_count": 102,
   "metadata": {
    "collapsed": true
   },
   "outputs": [],
   "source": [
    "N_GENERATED_NOTE_VECTORS = 1000\n",
    "N_STARTING_NOTES = 10\n",
    "temperature = 0.8"
   ]
  },
  {
   "cell_type": "code",
   "execution_count": 103,
   "metadata": {
    "collapsed": true
   },
   "outputs": [],
   "source": [
    "state_placeholder = tf.placeholder(tf.float32, [n_layers, 2, 1, n_hidden])\n",
    "l = tf.unstack(state_placeholder, 2, 0)\n",
    "rnn_tuple_state = tuple([tf.nn.rnn_cell.LSTMStateTuple(l[i][0], l[i][1]) for i in range(n_layers)])\n",
    "\n",
    "outputs_generation, states_generation = rnn.static_rnn(rnn_cell, [x_generation], \n",
    "                                                       initial_state=rnn_tuple_state, dtype=tf.float32)\n",
    "\n",
    "logits_generation = tf.nn.xw_plus_b(outputs_generation[0], softmax_w, softmax_b)"
   ]
  },
  {
   "cell_type": "code",
   "execution_count": 104,
   "metadata": {},
   "outputs": [
    {
     "name": "stdout",
     "output_type": "stream",
     "text": [
      "PkmGS-38.mid\n"
     ]
    }
   ],
   "source": [
    "seed_notes = []\n",
    "training_data_index = int(len(training_data)*np.random.random())\n",
    "for i in range(N_STARTING_NOTES):\n",
    "    seed_note = np.eye(vocab_size)[training_data[training_data_index][i]]\n",
    "    seed_note = np.reshape(seed_note, [1, vocab_size])\n",
    "    seed_notes.append(seed_note)\n",
    "print(training_data_labels[training_data_index%5644])"
   ]
  },
  {
   "cell_type": "code",
   "execution_count": 105,
   "metadata": {
    "scrolled": false
   },
   "outputs": [
    {
     "name": "stdout",
     "output_type": "stream",
     "text": [
      "Previous note: [ 562.]\n",
      "Posterior probability: [  1.39318274e-07   8.01447698e-07   2.27163454e-07   1.03209447e-06]\n"
     ]
    },
    {
     "data": {
      "image/png": "[encoded data removed]",
      "text/plain": [
       "<matplotlib.figure.Figure at 0x26fff77d978>"
      ]
     },
     "metadata": {},
     "output_type": "display_data"
    },
    {
     "name": "stdout",
     "output_type": "stream",
     "text": [
      "Previous note: [ 178.]\n",
      "Posterior probability: [  5.11481524e-08   2.25674395e-08   9.86948834e-08   4.13783177e-08]\n"
     ]
    },
    {
     "data": {
      "image/png": "[encoded data removed]",
      "text/plain": [
       "<matplotlib.figure.Figure at 0x26fff6b1550>"
      ]
     },
     "metadata": {},
     "output_type": "display_data"
    },
    {
     "name": "stdout",
     "output_type": "stream",
     "text": [
      "Previous note: [ 769.]\n",
      "Posterior probability: [  1.38254350e-08   7.33160510e-09   4.05647071e-08   4.39423360e-08]\n"
     ]
    },
    {
     "data": {
      "image/png": "[encoded data removed]",
      "text/plain": [
       "<matplotlib.figure.Figure at 0x26fff8fec50>"
      ]
     },
     "metadata": {},
     "output_type": "display_data"
    },
    {
     "name": "stdout",
     "output_type": "stream",
     "text": [
      "Previous note: [ 562.]\n",
      "Posterior probability: [  1.58673856e-08   1.81580759e-08   5.05055731e-08   2.37790175e-07]\n"
     ]
    },
    {
     "data": {
      "image/png": "[encoded data removed]",
      "text/plain": [
       "<matplotlib.figure.Figure at 0x26fffa24438>"
      ]
     },
     "metadata": {},
     "output_type": "display_data"
    }
   ],
   "source": [
    "generated_music = seed_notes\n",
    "saved_state = np.zeros((n_layers, 2, 1, n_hidden))\n",
    "for i in range(N_GENERATED_NOTE_VECTORS):\n",
    "    onehot_pred, new_state = session.run([logits_generation, states_generation], \n",
    "                                         feed_dict={x_generation: generated_music[-1], state_placeholder: saved_state})\n",
    "    saved_state = new_state\n",
    "    next_note = np.zeros(vocab_size)\n",
    "    #index = np.argmax(onehot_pred, 1) # take max probability\n",
    "    softmax_cdf = np.exp(onehot_pred[0]/temperature)/np.sum(np.exp(onehot_pred[0]/temperature))\n",
    "    \n",
    "    if i < 4:\n",
    "        print(\"Previous note:\", generated_music[-1].dot(range(vocab_size)))\n",
    "        print(\"Posterior probability:\", softmax_cdf[:4])\n",
    "        plt.plot(softmax_cdf)\n",
    "        plt.show()\n",
    "        \n",
    "    index = np.random.choice(range(vocab_size), p=softmax_cdf) # choose probabilistically\n",
    "    \n",
    "    next_note[index] = 1\n",
    "    next_note = np.reshape(next_note, [1, vocab_size])\n",
    "    \n",
    "    generated_music.append(next_note)"
   ]
  },
  {
   "cell_type": "code",
   "execution_count": 106,
   "metadata": {},
   "outputs": [
    {
     "data": {
      "text/plain": [
       "array([  55.,  178.,  294., ...,  559.,  175.,  768.])"
      ]
     },
     "execution_count": 106,
     "metadata": {},
     "output_type": "execute_result"
    }
   ],
   "source": [
    "notes = np.array(generated_music).reshape(N_GENERATED_NOTE_VECTORS+N_STARTING_NOTES, vocab_size).dot(np.array(range(vocab_size)))\n",
    "notes"
   ]
  },
  {
   "cell_type": "markdown",
   "metadata": {},
   "source": [
    "### Convert generated music to midi"
   ]
  },
  {
   "cell_type": "code",
   "execution_count": 107,
   "metadata": {
    "collapsed": true
   },
   "outputs": [],
   "source": [
    "def get_track_sequences(vector_sequence):\n",
    "    \"\"\"Get note sequences for each track from vector sequence output from RNN.\n",
    "\n",
    "    Args:\n",
    "       vector_sequence: List of one-hot vectors containing 128 * NUM_TRACKS note_on events, 128 * NUM_TRACKS note_off events,\n",
    "        and NUM_TIMESHIFTS timeshift events in intervals of 1/96 of a beat each.\n",
    "       \n",
    "    Returns:\n",
    "        List of track vector sequences.\n",
    "    \"\"\"\n",
    "    track_sequences = [[] for _ in range(NUM_TRACKS)]\n",
    "    start_time = 0\n",
    "    for vector in vector_sequence:\n",
    "        index = vector.index(1)\n",
    "        # vector is a time event.\n",
    "        if index >= NUM_MIDI_PITCHES * 2 * NUM_TRACKS:\n",
    "            num_beats = (index - NUM_MIDI_PITCHES * 2 * NUM_TRACKS + 1) / NUM_TIMESHIFTS\n",
    "            start_time += num_beats\n",
    "        else:\n",
    "            # vector is a note_off event.\n",
    "            if index >= NUM_MIDI_PITCHES * NUM_TRACKS:\n",
    "                note_type = 'note_off'\n",
    "                index -= NUM_MIDI_PITCHES * NUM_TRACKS\n",
    "            # vector is a note_on event.\n",
    "            else:\n",
    "                note_type = 'note_on'\n",
    "            track_num = int(index / NUM_MIDI_PITCHES)\n",
    "            note = index % NUM_MIDI_PITCHES\n",
    "            track_sequences[track_num].append({\"type\": note_type, \"note\": note, \"start_time\": start_time})\n",
    "            time_delay = 0\n",
    "            \n",
    "    return track_sequences\n",
    "    "
   ]
  },
  {
   "cell_type": "code",
   "execution_count": 108,
   "metadata": {
    "collapsed": true
   },
   "outputs": [],
   "source": [
    "def get_midi_from_vector_sequence(track_sequences):\n",
    "    \"\"\"Get midi from track sequences.\n",
    "\n",
    "    Args:\n",
    "       track_sequences: List of vector sequences for each track.\n",
    "       \n",
    "    Returns:\n",
    "        MidiFile object.\n",
    "    \"\"\"\n",
    "    mid = mido.MidiFile()\n",
    "    tracks = [mido.MidiTrack() for _ in range(NUM_TRACKS)]\n",
    "    mid.tracks.extend(tracks)\n",
    "\n",
    "    for i, ts in enumerate(track_sequences):\n",
    "        prev_start_time = 0\n",
    "        for event in ts:\n",
    "            time = event[\"start_time\"] - prev_start_time\n",
    "            prev_start_time = event[\"start_time\"]\n",
    "            # I picked a random number for velocity.\n",
    "            mid.tracks[i].append(mido.Message(event[\"type\"], note=event[\"note\"], velocity=50,\n",
    "                                              time=int(time * TICKS_PER_BEAT)))\n",
    "    \n",
    "    return mid"
   ]
  },
  {
   "cell_type": "code",
   "execution_count": 109,
   "metadata": {
    "collapsed": true
   },
   "outputs": [],
   "source": [
    "track_sequence = get_track_sequences([list(x[0]) for x in generated_music])"
   ]
  },
  {
   "cell_type": "code",
   "execution_count": 110,
   "metadata": {
    "scrolled": true
   },
   "outputs": [
    {
     "data": {
      "text/plain": [
       "[{'note': 50, 'start_time': 0, 'type': 'note_on'},\n",
       " {'note': 50, 'start_time': 0.5, 'type': 'note_off'},\n",
       " {'note': 50, 'start_time': 0.5, 'type': 'note_on'},\n",
       " {'note': 50, 'start_time': 1.0, 'type': 'note_off'},\n",
       " {'note': 50, 'start_time': 1.0, 'type': 'note_on'},\n",
       " {'note': 50, 'start_time': 1.5, 'type': 'note_off'},\n",
       " {'note': 50, 'start_time': 1.5, 'type': 'note_on'},\n",
       " {'note': 50, 'start_time': 2.0, 'type': 'note_off'},\n",
       " {'note': 50, 'start_time': 2.0, 'type': 'note_on'},\n",
       " {'note': 50, 'start_time': 2.5, 'type': 'note_off'},\n",
       " {'note': 50, 'start_time': 2.5, 'type': 'note_on'},\n",
       " {'note': 50, 'start_time': 3.0, 'type': 'note_off'},\n",
       " {'note': 50, 'start_time': 3.0, 'type': 'note_on'},\n",
       " {'note': 50, 'start_time': 3.5, 'type': 'note_off'},\n",
       " {'note': 50, 'start_time': 3.5, 'type': 'note_on'},\n",
       " {'note': 50, 'start_time': 4.0, 'type': 'note_off'},\n",
       " {'note': 45, 'start_time': 4.0, 'type': 'note_on'},\n",
       " {'note': 45, 'start_time': 4.5, 'type': 'note_off'},\n",
       " {'note': 50, 'start_time': 4.5, 'type': 'note_on'},\n",
       " {'note': 50, 'start_time': 5.0, 'type': 'note_off'},\n",
       " {'note': 48, 'start_time': 5.0, 'type': 'note_on'},\n",
       " {'note': 48, 'start_time': 5.5, 'type': 'note_off'},\n",
       " {'note': 60, 'start_time': 5.5, 'type': 'note_on'},\n",
       " {'note': 60, 'start_time': 6.0, 'type': 'note_off'},\n",
       " {'note': 50, 'start_time': 6.0, 'type': 'note_on'},\n",
       " {'note': 50, 'start_time': 6.5, 'type': 'note_off'},\n",
       " {'note': 43, 'start_time': 6.5, 'type': 'note_on'},\n",
       " {'note': 43, 'start_time': 7.0, 'type': 'note_off'},\n",
       " {'note': 55, 'start_time': 7.0, 'type': 'note_on'},\n",
       " {'note': 55, 'start_time': 7.5, 'type': 'note_off'},\n",
       " {'note': 43, 'start_time': 7.5, 'type': 'note_on'},\n",
       " {'note': 43, 'start_time': 8.0, 'type': 'note_off'},\n",
       " {'note': 47, 'start_time': 8.0, 'type': 'note_on'},\n",
       " {'note': 47, 'start_time': 8.5, 'type': 'note_off'},\n",
       " {'note': 47, 'start_time': 8.5, 'type': 'note_on'},\n",
       " {'note': 47, 'start_time': 9.0, 'type': 'note_off'},\n",
       " {'note': 47, 'start_time': 9.0, 'type': 'note_on'},\n",
       " {'note': 47, 'start_time': 9.5, 'type': 'note_off'},\n",
       " {'note': 47, 'start_time': 9.5, 'type': 'note_on'},\n",
       " {'note': 47, 'start_time': 10.0, 'type': 'note_off'},\n",
       " {'note': 47, 'start_time': 10.0, 'type': 'note_on'},\n",
       " {'note': 47, 'start_time': 10.5, 'type': 'note_off'},\n",
       " {'note': 47, 'start_time': 10.5, 'type': 'note_on'},\n",
       " {'note': 47, 'start_time': 11.0, 'type': 'note_off'},\n",
       " {'note': 47, 'start_time': 11.0, 'type': 'note_on'},\n",
       " {'note': 47, 'start_time': 11.5, 'type': 'note_off'},\n",
       " {'note': 47, 'start_time': 11.5, 'type': 'note_on'},\n",
       " {'note': 47, 'start_time': 12.0, 'type': 'note_off'},\n",
       " {'note': 47, 'start_time': 12.0, 'type': 'note_on'},\n",
       " {'note': 47, 'start_time': 12.5, 'type': 'note_off'},\n",
       " {'note': 47, 'start_time': 12.5, 'type': 'note_on'},\n",
       " {'note': 47, 'start_time': 13.0, 'type': 'note_off'},\n",
       " {'note': 47, 'start_time': 13.0, 'type': 'note_on'},\n",
       " {'note': 47, 'start_time': 13.5, 'type': 'note_off'},\n",
       " {'note': 47, 'start_time': 13.5, 'type': 'note_on'},\n",
       " {'note': 47, 'start_time': 14.0, 'type': 'note_off'},\n",
       " {'note': 47, 'start_time': 14.0, 'type': 'note_on'},\n",
       " {'note': 47, 'start_time': 14.5, 'type': 'note_off'},\n",
       " {'note': 47, 'start_time': 14.5, 'type': 'note_on'},\n",
       " {'note': 47, 'start_time': 15.0, 'type': 'note_off'},\n",
       " {'note': 47, 'start_time': 15.0, 'type': 'note_on'},\n",
       " {'note': 47, 'start_time': 15.5, 'type': 'note_off'},\n",
       " {'note': 47, 'start_time': 15.5, 'type': 'note_on'},\n",
       " {'note': 47, 'start_time': 16.0, 'type': 'note_off'},\n",
       " {'note': 47, 'start_time': 16.0, 'type': 'note_on'},\n",
       " {'note': 47, 'start_time': 16.5, 'type': 'note_off'},\n",
       " {'note': 47, 'start_time': 16.5, 'type': 'note_on'},\n",
       " {'note': 47, 'start_time': 17.0, 'type': 'note_off'},\n",
       " {'note': 47, 'start_time': 17.0, 'type': 'note_on'},\n",
       " {'note': 47, 'start_time': 17.5, 'type': 'note_off'},\n",
       " {'note': 47, 'start_time': 17.5, 'type': 'note_on'},\n",
       " {'note': 47, 'start_time': 18.0, 'type': 'note_off'},\n",
       " {'note': 47, 'start_time': 18.0, 'type': 'note_on'},\n",
       " {'note': 47, 'start_time': 18.5, 'type': 'note_off'},\n",
       " {'note': 47, 'start_time': 18.5, 'type': 'note_on'},\n",
       " {'note': 47, 'start_time': 19.0, 'type': 'note_off'},\n",
       " {'note': 47, 'start_time': 19.0, 'type': 'note_on'},\n",
       " {'note': 47, 'start_time': 19.5, 'type': 'note_off'},\n",
       " {'note': 47, 'start_time': 19.5, 'type': 'note_on'},\n",
       " {'note': 47, 'start_time': 20.0, 'type': 'note_off'},\n",
       " {'note': 47, 'start_time': 20.0, 'type': 'note_on'},\n",
       " {'note': 47, 'start_time': 20.5, 'type': 'note_off'},\n",
       " {'note': 47, 'start_time': 20.5, 'type': 'note_on'},\n",
       " {'note': 47, 'start_time': 21.0, 'type': 'note_off'},\n",
       " {'note': 47, 'start_time': 21.0, 'type': 'note_on'},\n",
       " {'note': 47, 'start_time': 21.5, 'type': 'note_off'},\n",
       " {'note': 47, 'start_time': 21.5, 'type': 'note_on'},\n",
       " {'note': 47, 'start_time': 22.0, 'type': 'note_off'},\n",
       " {'note': 47, 'start_time': 22.0, 'type': 'note_on'},\n",
       " {'note': 47, 'start_time': 22.5, 'type': 'note_off'},\n",
       " {'note': 47, 'start_time': 22.5, 'type': 'note_on'},\n",
       " {'note': 47, 'start_time': 23.0, 'type': 'note_off'},\n",
       " {'note': 47, 'start_time': 23.0, 'type': 'note_on'},\n",
       " {'note': 47, 'start_time': 23.5, 'type': 'note_off'},\n",
       " {'note': 47, 'start_time': 23.5, 'type': 'note_on'},\n",
       " {'note': 47, 'start_time': 24.0, 'type': 'note_off'},\n",
       " {'note': 47, 'start_time': 24.0, 'type': 'note_on'},\n",
       " {'note': 47, 'start_time': 24.5, 'type': 'note_off'},\n",
       " {'note': 47, 'start_time': 24.5, 'type': 'note_on'},\n",
       " {'note': 47, 'start_time': 25.0, 'type': 'note_off'},\n",
       " {'note': 47, 'start_time': 25.0, 'type': 'note_on'},\n",
       " {'note': 47, 'start_time': 25.5, 'type': 'note_off'},\n",
       " {'note': 47, 'start_time': 25.5, 'type': 'note_on'},\n",
       " {'note': 47, 'start_time': 26.0, 'type': 'note_off'},\n",
       " {'note': 47, 'start_time': 26.0, 'type': 'note_on'},\n",
       " {'note': 47, 'start_time': 26.5, 'type': 'note_off'},\n",
       " {'note': 47, 'start_time': 26.5, 'type': 'note_on'},\n",
       " {'note': 47, 'start_time': 27.0, 'type': 'note_off'},\n",
       " {'note': 47, 'start_time': 27.0, 'type': 'note_on'},\n",
       " {'note': 47, 'start_time': 27.5, 'type': 'note_off'},\n",
       " {'note': 47, 'start_time': 27.5, 'type': 'note_on'},\n",
       " {'note': 47, 'start_time': 28.0, 'type': 'note_off'},\n",
       " {'note': 47, 'start_time': 28.0, 'type': 'note_on'},\n",
       " {'note': 47, 'start_time': 28.5, 'type': 'note_off'},\n",
       " {'note': 47, 'start_time': 28.5, 'type': 'note_on'},\n",
       " {'note': 47, 'start_time': 29.0, 'type': 'note_off'},\n",
       " {'note': 47, 'start_time': 29.0, 'type': 'note_on'},\n",
       " {'note': 47, 'start_time': 29.5, 'type': 'note_off'},\n",
       " {'note': 47, 'start_time': 29.5, 'type': 'note_on'},\n",
       " {'note': 47, 'start_time': 30.0, 'type': 'note_off'},\n",
       " {'note': 47, 'start_time': 30.0, 'type': 'note_on'},\n",
       " {'note': 47, 'start_time': 30.5, 'type': 'note_off'},\n",
       " {'note': 47, 'start_time': 30.5, 'type': 'note_on'},\n",
       " {'note': 47, 'start_time': 31.0, 'type': 'note_off'},\n",
       " {'note': 47, 'start_time': 31.0, 'type': 'note_on'},\n",
       " {'note': 47, 'start_time': 31.5, 'type': 'note_off'},\n",
       " {'note': 47, 'start_time': 31.5, 'type': 'note_on'},\n",
       " {'note': 47, 'start_time': 32.0, 'type': 'note_off'},\n",
       " {'note': 47, 'start_time': 32.0, 'type': 'note_on'},\n",
       " {'note': 47, 'start_time': 32.5, 'type': 'note_off'},\n",
       " {'note': 47, 'start_time': 32.5, 'type': 'note_on'},\n",
       " {'note': 47, 'start_time': 33.0, 'type': 'note_off'},\n",
       " {'note': 47, 'start_time': 33.0, 'type': 'note_on'},\n",
       " {'note': 47, 'start_time': 33.5, 'type': 'note_off'},\n",
       " {'note': 47, 'start_time': 33.5, 'type': 'note_on'},\n",
       " {'note': 47, 'start_time': 34.0, 'type': 'note_off'},\n",
       " {'note': 47, 'start_time': 34.0, 'type': 'note_on'},\n",
       " {'note': 47, 'start_time': 34.5, 'type': 'note_off'},\n",
       " {'note': 47, 'start_time': 34.5, 'type': 'note_on'},\n",
       " {'note': 47, 'start_time': 35.0, 'type': 'note_off'},\n",
       " {'note': 47, 'start_time': 35.0, 'type': 'note_on'},\n",
       " {'note': 47, 'start_time': 35.5, 'type': 'note_off'},\n",
       " {'note': 47, 'start_time': 35.5, 'type': 'note_on'},\n",
       " {'note': 47, 'start_time': 36.0, 'type': 'note_off'},\n",
       " {'note': 47, 'start_time': 36.0, 'type': 'note_on'},\n",
       " {'note': 47, 'start_time': 36.5, 'type': 'note_off'},\n",
       " {'note': 47, 'start_time': 36.5, 'type': 'note_on'},\n",
       " {'note': 47, 'start_time': 37.0, 'type': 'note_off'},\n",
       " {'note': 47, 'start_time': 37.0, 'type': 'note_on'},\n",
       " {'note': 47, 'start_time': 37.5, 'type': 'note_off'},\n",
       " {'note': 47, 'start_time': 37.5, 'type': 'note_on'},\n",
       " {'note': 47, 'start_time': 38.0, 'type': 'note_off'},\n",
       " {'note': 47, 'start_time': 38.0, 'type': 'note_on'},\n",
       " {'note': 47, 'start_time': 38.5, 'type': 'note_off'},\n",
       " {'note': 47, 'start_time': 38.5, 'type': 'note_on'},\n",
       " {'note': 47, 'start_time': 39.0, 'type': 'note_off'},\n",
       " {'note': 47, 'start_time': 39.0, 'type': 'note_on'},\n",
       " {'note': 47, 'start_time': 39.5, 'type': 'note_off'},\n",
       " {'note': 47, 'start_time': 39.5, 'type': 'note_on'},\n",
       " {'note': 47, 'start_time': 40.0, 'type': 'note_off'},\n",
       " {'note': 47, 'start_time': 40.0, 'type': 'note_on'},\n",
       " {'note': 47, 'start_time': 40.5, 'type': 'note_off'},\n",
       " {'note': 47, 'start_time': 40.5, 'type': 'note_on'},\n",
       " {'note': 47, 'start_time': 41.0, 'type': 'note_off'},\n",
       " {'note': 47, 'start_time': 41.0, 'type': 'note_on'},\n",
       " {'note': 47, 'start_time': 41.5, 'type': 'note_off'},\n",
       " {'note': 47, 'start_time': 41.5, 'type': 'note_on'},\n",
       " {'note': 47, 'start_time': 42.0, 'type': 'note_off'},\n",
       " {'note': 47, 'start_time': 42.0, 'type': 'note_on'},\n",
       " {'note': 47, 'start_time': 42.5, 'type': 'note_off'},\n",
       " {'note': 47, 'start_time': 42.5, 'type': 'note_on'},\n",
       " {'note': 47, 'start_time': 43.0, 'type': 'note_off'},\n",
       " {'note': 47, 'start_time': 43.0, 'type': 'note_on'},\n",
       " {'note': 47, 'start_time': 43.5, 'type': 'note_off'},\n",
       " {'note': 47, 'start_time': 43.5, 'type': 'note_on'},\n",
       " {'note': 47, 'start_time': 44.0, 'type': 'note_off'},\n",
       " {'note': 47, 'start_time': 44.0, 'type': 'note_on'},\n",
       " {'note': 47, 'start_time': 44.5, 'type': 'note_off'},\n",
       " {'note': 47, 'start_time': 44.5, 'type': 'note_on'},\n",
       " {'note': 47, 'start_time': 45.0, 'type': 'note_off'},\n",
       " {'note': 47, 'start_time': 45.0, 'type': 'note_on'},\n",
       " {'note': 47, 'start_time': 45.5, 'type': 'note_off'},\n",
       " {'note': 47, 'start_time': 45.5, 'type': 'note_on'},\n",
       " {'note': 47, 'start_time': 46.0, 'type': 'note_off'},\n",
       " {'note': 47, 'start_time': 46.0, 'type': 'note_on'},\n",
       " {'note': 47, 'start_time': 46.5, 'type': 'note_off'},\n",
       " {'note': 47, 'start_time': 46.5, 'type': 'note_on'},\n",
       " {'note': 47, 'start_time': 47.0, 'type': 'note_off'},\n",
       " {'note': 47, 'start_time': 47.0, 'type': 'note_on'},\n",
       " {'note': 47, 'start_time': 47.5, 'type': 'note_off'},\n",
       " {'note': 47, 'start_time': 47.5, 'type': 'note_on'},\n",
       " {'note': 47, 'start_time': 48.0, 'type': 'note_off'},\n",
       " {'note': 47, 'start_time': 48.0, 'type': 'note_on'},\n",
       " {'note': 47, 'start_time': 48.5, 'type': 'note_off'},\n",
       " {'note': 47, 'start_time': 48.5, 'type': 'note_on'},\n",
       " {'note': 47, 'start_time': 49.0, 'type': 'note_off'},\n",
       " {'note': 47, 'start_time': 49.0, 'type': 'note_on'},\n",
       " {'note': 47, 'start_time': 49.5, 'type': 'note_off'},\n",
       " {'note': 47, 'start_time': 49.5, 'type': 'note_on'},\n",
       " {'note': 47, 'start_time': 50.0, 'type': 'note_off'},\n",
       " {'note': 47, 'start_time': 50.0, 'type': 'note_on'},\n",
       " {'note': 47, 'start_time': 50.5, 'type': 'note_off'},\n",
       " {'note': 47, 'start_time': 50.5, 'type': 'note_on'},\n",
       " {'note': 47, 'start_time': 51.0, 'type': 'note_off'},\n",
       " {'note': 47, 'start_time': 51.0, 'type': 'note_on'},\n",
       " {'note': 47, 'start_time': 51.5, 'type': 'note_off'},\n",
       " {'note': 47, 'start_time': 51.5, 'type': 'note_on'},\n",
       " {'note': 47, 'start_time': 52.0, 'type': 'note_off'},\n",
       " {'note': 47, 'start_time': 52.0, 'type': 'note_on'},\n",
       " {'note': 47, 'start_time': 52.5, 'type': 'note_off'},\n",
       " {'note': 47, 'start_time': 52.5, 'type': 'note_on'},\n",
       " {'note': 47, 'start_time': 53.0, 'type': 'note_off'},\n",
       " {'note': 47, 'start_time': 53.0, 'type': 'note_on'},\n",
       " {'note': 47, 'start_time': 53.5, 'type': 'note_off'},\n",
       " {'note': 47, 'start_time': 53.5, 'type': 'note_on'},\n",
       " {'note': 47, 'start_time': 54.0, 'type': 'note_off'},\n",
       " {'note': 47, 'start_time': 54.0, 'type': 'note_on'},\n",
       " {'note': 47, 'start_time': 54.5, 'type': 'note_off'},\n",
       " {'note': 47, 'start_time': 54.5, 'type': 'note_on'},\n",
       " {'note': 47, 'start_time': 55.0, 'type': 'note_off'},\n",
       " {'note': 47, 'start_time': 55.0, 'type': 'note_on'},\n",
       " {'note': 47, 'start_time': 55.5, 'type': 'note_off'},\n",
       " {'note': 47, 'start_time': 55.5, 'type': 'note_on'},\n",
       " {'note': 47, 'start_time': 56.0, 'type': 'note_off'},\n",
       " {'note': 47, 'start_time': 56.0, 'type': 'note_on'},\n",
       " {'note': 47, 'start_time': 56.5, 'type': 'note_off'},\n",
       " {'note': 47, 'start_time': 56.5, 'type': 'note_on'},\n",
       " {'note': 47, 'start_time': 57.0, 'type': 'note_off'},\n",
       " {'note': 47, 'start_time': 57.0, 'type': 'note_on'},\n",
       " {'note': 47, 'start_time': 57.5, 'type': 'note_off'},\n",
       " {'note': 47, 'start_time': 57.5, 'type': 'note_on'},\n",
       " {'note': 47, 'start_time': 58.0, 'type': 'note_off'},\n",
       " {'note': 47, 'start_time': 58.0, 'type': 'note_on'},\n",
       " {'note': 47, 'start_time': 58.5, 'type': 'note_off'},\n",
       " {'note': 47, 'start_time': 58.5, 'type': 'note_on'},\n",
       " {'note': 47, 'start_time': 59.0, 'type': 'note_off'},\n",
       " {'note': 47, 'start_time': 59.0, 'type': 'note_on'},\n",
       " {'note': 47, 'start_time': 59.5, 'type': 'note_off'},\n",
       " {'note': 47, 'start_time': 59.5, 'type': 'note_on'},\n",
       " {'note': 47, 'start_time': 60.0, 'type': 'note_off'},\n",
       " {'note': 47, 'start_time': 60.0, 'type': 'note_on'},\n",
       " {'note': 47, 'start_time': 60.5, 'type': 'note_off'},\n",
       " {'note': 47, 'start_time': 60.5, 'type': 'note_on'},\n",
       " {'note': 47, 'start_time': 61.0, 'type': 'note_off'},\n",
       " {'note': 47, 'start_time': 61.0, 'type': 'note_on'},\n",
       " {'note': 47, 'start_time': 61.5, 'type': 'note_off'},\n",
       " {'note': 47, 'start_time': 61.5, 'type': 'note_on'},\n",
       " {'note': 47, 'start_time': 62.0, 'type': 'note_off'},\n",
       " {'note': 47, 'start_time': 62.0, 'type': 'note_on'},\n",
       " {'note': 47, 'start_time': 62.5, 'type': 'note_off'},\n",
       " {'note': 47, 'start_time': 62.5, 'type': 'note_on'},\n",
       " {'note': 47, 'start_time': 63.0, 'type': 'note_off'},\n",
       " {'note': 47, 'start_time': 63.0, 'type': 'note_on'},\n",
       " {'note': 47, 'start_time': 63.5, 'type': 'note_off'},\n",
       " {'note': 47, 'start_time': 63.5, 'type': 'note_on'},\n",
       " {'note': 47, 'start_time': 64.0, 'type': 'note_off'},\n",
       " {'note': 47, 'start_time': 64.0, 'type': 'note_on'},\n",
       " {'note': 47, 'start_time': 64.5, 'type': 'note_off'},\n",
       " {'note': 47, 'start_time': 64.5, 'type': 'note_on'},\n",
       " {'note': 47, 'start_time': 65.0, 'type': 'note_off'},\n",
       " {'note': 47, 'start_time': 65.0, 'type': 'note_on'},\n",
       " {'note': 47, 'start_time': 65.5, 'type': 'note_off'},\n",
       " {'note': 47, 'start_time': 65.5, 'type': 'note_on'},\n",
       " {'note': 47, 'start_time': 66.0, 'type': 'note_off'},\n",
       " {'note': 47, 'start_time': 66.0, 'type': 'note_on'},\n",
       " {'note': 47, 'start_time': 66.5, 'type': 'note_off'},\n",
       " {'note': 47, 'start_time': 66.5, 'type': 'note_on'},\n",
       " {'note': 47, 'start_time': 67.0, 'type': 'note_off'},\n",
       " {'note': 47, 'start_time': 67.0, 'type': 'note_on'},\n",
       " {'note': 47, 'start_time': 67.5, 'type': 'note_off'},\n",
       " {'note': 47, 'start_time': 67.5, 'type': 'note_on'},\n",
       " {'note': 47, 'start_time': 68.0, 'type': 'note_off'},\n",
       " {'note': 47, 'start_time': 68.0, 'type': 'note_on'},\n",
       " {'note': 47, 'start_time': 68.5, 'type': 'note_off'},\n",
       " {'note': 47, 'start_time': 68.5, 'type': 'note_on'},\n",
       " {'note': 47, 'start_time': 69.0, 'type': 'note_off'},\n",
       " {'note': 47, 'start_time': 69.0, 'type': 'note_on'},\n",
       " {'note': 47, 'start_time': 69.5, 'type': 'note_off'},\n",
       " {'note': 47, 'start_time': 69.5, 'type': 'note_on'},\n",
       " {'note': 47, 'start_time': 70.0, 'type': 'note_off'},\n",
       " {'note': 47, 'start_time': 70.0, 'type': 'note_on'},\n",
       " {'note': 47, 'start_time': 70.5, 'type': 'note_off'},\n",
       " {'note': 47, 'start_time': 70.5, 'type': 'note_on'},\n",
       " {'note': 47, 'start_time': 71.0, 'type': 'note_off'},\n",
       " {'note': 47, 'start_time': 71.0, 'type': 'note_on'},\n",
       " {'note': 47, 'start_time': 71.5, 'type': 'note_off'},\n",
       " {'note': 47, 'start_time': 71.5, 'type': 'note_on'},\n",
       " {'note': 47, 'start_time': 72.0, 'type': 'note_off'},\n",
       " {'note': 47, 'start_time': 72.0, 'type': 'note_on'},\n",
       " {'note': 47, 'start_time': 72.5, 'type': 'note_off'},\n",
       " {'note': 47, 'start_time': 72.5, 'type': 'note_on'},\n",
       " {'note': 47, 'start_time': 73.0, 'type': 'note_off'},\n",
       " {'note': 47, 'start_time': 73.0, 'type': 'note_on'},\n",
       " {'note': 47, 'start_time': 73.5, 'type': 'note_off'},\n",
       " {'note': 47, 'start_time': 73.5, 'type': 'note_on'},\n",
       " {'note': 47, 'start_time': 74.0, 'type': 'note_off'},\n",
       " {'note': 47, 'start_time': 74.0, 'type': 'note_on'},\n",
       " {'note': 47, 'start_time': 74.5, 'type': 'note_off'},\n",
       " {'note': 47, 'start_time': 74.5, 'type': 'note_on'},\n",
       " {'note': 47, 'start_time': 75.0, 'type': 'note_off'},\n",
       " {'note': 47, 'start_time': 75.0, 'type': 'note_on'},\n",
       " {'note': 47, 'start_time': 75.5, 'type': 'note_off'},\n",
       " {'note': 47, 'start_time': 75.5, 'type': 'note_on'},\n",
       " {'note': 47, 'start_time': 76.0, 'type': 'note_off'},\n",
       " {'note': 47, 'start_time': 76.0, 'type': 'note_on'},\n",
       " {'note': 47, 'start_time': 76.5, 'type': 'note_off'},\n",
       " {'note': 47, 'start_time': 76.5, 'type': 'note_on'},\n",
       " {'note': 47, 'start_time': 77.0, 'type': 'note_off'},\n",
       " {'note': 47, 'start_time': 77.0, 'type': 'note_on'},\n",
       " {'note': 47, 'start_time': 77.5, 'type': 'note_off'},\n",
       " {'note': 47, 'start_time': 77.5, 'type': 'note_on'},\n",
       " {'note': 47, 'start_time': 78.0, 'type': 'note_off'},\n",
       " {'note': 47, 'start_time': 78.0, 'type': 'note_on'},\n",
       " {'note': 47, 'start_time': 78.5, 'type': 'note_off'},\n",
       " {'note': 47, 'start_time': 78.5, 'type': 'note_on'},\n",
       " {'note': 47, 'start_time': 79.0, 'type': 'note_off'},\n",
       " {'note': 47, 'start_time': 79.0, 'type': 'note_on'},\n",
       " {'note': 47, 'start_time': 79.5, 'type': 'note_off'},\n",
       " {'note': 47, 'start_time': 79.5, 'type': 'note_on'},\n",
       " {'note': 47, 'start_time': 80.0, 'type': 'note_off'},\n",
       " {'note': 47, 'start_time': 80.0, 'type': 'note_on'},\n",
       " {'note': 47, 'start_time': 80.5, 'type': 'note_off'},\n",
       " {'note': 47, 'start_time': 80.5, 'type': 'note_on'},\n",
       " {'note': 47, 'start_time': 81.0, 'type': 'note_off'},\n",
       " {'note': 47, 'start_time': 81.0, 'type': 'note_on'},\n",
       " {'note': 47, 'start_time': 81.5, 'type': 'note_off'},\n",
       " {'note': 47, 'start_time': 81.5, 'type': 'note_on'},\n",
       " {'note': 47, 'start_time': 82.0, 'type': 'note_off'},\n",
       " {'note': 47, 'start_time': 82.0, 'type': 'note_on'},\n",
       " {'note': 47, 'start_time': 82.5, 'type': 'note_off'},\n",
       " {'note': 47, 'start_time': 82.5, 'type': 'note_on'},\n",
       " {'note': 47, 'start_time': 83.0, 'type': 'note_off'},\n",
       " {'note': 47, 'start_time': 83.0, 'type': 'note_on'},\n",
       " {'note': 47, 'start_time': 83.5, 'type': 'note_off'},\n",
       " {'note': 47, 'start_time': 83.5, 'type': 'note_on'},\n",
       " {'note': 47, 'start_time': 84.0, 'type': 'note_off'},\n",
       " {'note': 47, 'start_time': 84.0, 'type': 'note_on'},\n",
       " {'note': 47, 'start_time': 84.5, 'type': 'note_off'},\n",
       " {'note': 47, 'start_time': 84.5, 'type': 'note_on'},\n",
       " {'note': 47, 'start_time': 85.0, 'type': 'note_off'},\n",
       " {'note': 47, 'start_time': 85.0, 'type': 'note_on'},\n",
       " {'note': 47, 'start_time': 85.5, 'type': 'note_off'},\n",
       " {'note': 47, 'start_time': 85.5, 'type': 'note_on'},\n",
       " {'note': 47, 'start_time': 86.0, 'type': 'note_off'},\n",
       " {'note': 47, 'start_time': 86.0, 'type': 'note_on'},\n",
       " {'note': 47, 'start_time': 86.5, 'type': 'note_off'},\n",
       " {'note': 47, 'start_time': 86.5, 'type': 'note_on'},\n",
       " {'note': 47, 'start_time': 87.0, 'type': 'note_off'},\n",
       " {'note': 47, 'start_time': 87.0, 'type': 'note_on'},\n",
       " {'note': 47, 'start_time': 87.5, 'type': 'note_off'},\n",
       " {'note': 47, 'start_time': 87.5, 'type': 'note_on'},\n",
       " {'note': 47, 'start_time': 88.0, 'type': 'note_off'},\n",
       " {'note': 47, 'start_time': 88.0, 'type': 'note_on'},\n",
       " {'note': 47, 'start_time': 88.5, 'type': 'note_off'},\n",
       " {'note': 47, 'start_time': 88.5, 'type': 'note_on'},\n",
       " {'note': 47, 'start_time': 89.0, 'type': 'note_off'},\n",
       " {'note': 47, 'start_time': 89.0, 'type': 'note_on'},\n",
       " {'note': 47, 'start_time': 89.5, 'type': 'note_off'},\n",
       " {'note': 47, 'start_time': 89.5, 'type': 'note_on'},\n",
       " {'note': 47, 'start_time': 90.0, 'type': 'note_off'},\n",
       " {'note': 47, 'start_time': 90.0, 'type': 'note_on'},\n",
       " {'note': 47, 'start_time': 90.5, 'type': 'note_off'},\n",
       " {'note': 47, 'start_time': 90.5, 'type': 'note_on'},\n",
       " {'note': 47, 'start_time': 91.0, 'type': 'note_off'},\n",
       " {'note': 47, 'start_time': 91.0, 'type': 'note_on'},\n",
       " {'note': 47, 'start_time': 91.5, 'type': 'note_off'},\n",
       " {'note': 47, 'start_time': 91.5, 'type': 'note_on'},\n",
       " {'note': 47, 'start_time': 92.0, 'type': 'note_off'},\n",
       " {'note': 47, 'start_time': 92.0, 'type': 'note_on'},\n",
       " {'note': 47, 'start_time': 92.5, 'type': 'note_off'},\n",
       " {'note': 47, 'start_time': 92.5, 'type': 'note_on'},\n",
       " {'note': 47, 'start_time': 93.0, 'type': 'note_off'},\n",
       " {'note': 47, 'start_time': 93.0, 'type': 'note_on'},\n",
       " {'note': 47, 'start_time': 93.5, 'type': 'note_off'},\n",
       " {'note': 47, 'start_time': 93.5, 'type': 'note_on'},\n",
       " {'note': 47, 'start_time': 94.0, 'type': 'note_off'},\n",
       " {'note': 47, 'start_time': 94.0, 'type': 'note_on'},\n",
       " {'note': 47, 'start_time': 94.5, 'type': 'note_off'},\n",
       " {'note': 47, 'start_time': 94.5, 'type': 'note_on'},\n",
       " {'note': 47, 'start_time': 95.0, 'type': 'note_off'},\n",
       " {'note': 47, 'start_time': 95.0, 'type': 'note_on'},\n",
       " {'note': 47, 'start_time': 95.5, 'type': 'note_off'},\n",
       " {'note': 47, 'start_time': 95.5, 'type': 'note_on'},\n",
       " {'note': 47, 'start_time': 96.0, 'type': 'note_off'},\n",
       " {'note': 47, 'start_time': 96.0, 'type': 'note_on'},\n",
       " {'note': 47, 'start_time': 96.5, 'type': 'note_off'},\n",
       " {'note': 47, 'start_time': 96.5, 'type': 'note_on'},\n",
       " {'note': 47, 'start_time': 97.0, 'type': 'note_off'},\n",
       " {'note': 47, 'start_time': 97.0, 'type': 'note_on'},\n",
       " {'note': 47, 'start_time': 97.5, 'type': 'note_off'},\n",
       " {'note': 47, 'start_time': 97.5, 'type': 'note_on'},\n",
       " {'note': 47, 'start_time': 98.0, 'type': 'note_off'},\n",
       " {'note': 47, 'start_time': 98.0, 'type': 'note_on'},\n",
       " {'note': 47, 'start_time': 98.5, 'type': 'note_off'},\n",
       " {'note': 47, 'start_time': 98.5, 'type': 'note_on'},\n",
       " {'note': 47, 'start_time': 99.0, 'type': 'note_off'},\n",
       " {'note': 47, 'start_time': 99.0, 'type': 'note_on'},\n",
       " {'note': 47, 'start_time': 99.5, 'type': 'note_off'},\n",
       " {'note': 47, 'start_time': 99.5, 'type': 'note_on'},\n",
       " {'note': 47, 'start_time': 100.0, 'type': 'note_off'},\n",
       " {'note': 47, 'start_time': 100.0, 'type': 'note_on'},\n",
       " {'note': 47, 'start_time': 100.5, 'type': 'note_off'},\n",
       " {'note': 47, 'start_time': 100.5, 'type': 'note_on'},\n",
       " {'note': 47, 'start_time': 101.0, 'type': 'note_off'},\n",
       " {'note': 47, 'start_time': 101.0, 'type': 'note_on'},\n",
       " {'note': 47, 'start_time': 101.5, 'type': 'note_off'},\n",
       " {'note': 47, 'start_time': 101.5, 'type': 'note_on'},\n",
       " {'note': 47, 'start_time': 102.0, 'type': 'note_off'},\n",
       " {'note': 47, 'start_time': 102.0, 'type': 'note_on'},\n",
       " {'note': 47, 'start_time': 102.5, 'type': 'note_off'},\n",
       " {'note': 47, 'start_time': 102.5, 'type': 'note_on'},\n",
       " {'note': 47, 'start_time': 103.0, 'type': 'note_off'},\n",
       " {'note': 47, 'start_time': 103.0, 'type': 'note_on'},\n",
       " {'note': 47, 'start_time': 103.25, 'type': 'note_off'},\n",
       " {'note': 47, 'start_time': 103.25, 'type': 'note_on'},\n",
       " {'note': 47, 'start_time': 103.5, 'type': 'note_off'},\n",
       " {'note': 47, 'start_time': 103.5, 'type': 'note_on'},\n",
       " {'note': 47, 'start_time': 104.0, 'type': 'note_off'},\n",
       " {'note': 47, 'start_time': 104.0, 'type': 'note_on'},\n",
       " {'note': 47, 'start_time': 104.5, 'type': 'note_off'},\n",
       " {'note': 47, 'start_time': 104.5, 'type': 'note_on'},\n",
       " {'note': 47, 'start_time': 105.0, 'type': 'note_off'},\n",
       " {'note': 47, 'start_time': 105.0, 'type': 'note_on'},\n",
       " {'note': 47, 'start_time': 105.5, 'type': 'note_off'},\n",
       " {'note': 47, 'start_time': 105.5, 'type': 'note_on'},\n",
       " {'note': 47, 'start_time': 106.0, 'type': 'note_off'},\n",
       " {'note': 47, 'start_time': 106.0, 'type': 'note_on'},\n",
       " {'note': 47, 'start_time': 106.5, 'type': 'note_off'},\n",
       " {'note': 47, 'start_time': 106.5, 'type': 'note_on'},\n",
       " {'note': 47, 'start_time': 107.0, 'type': 'note_off'},\n",
       " {'note': 47, 'start_time': 107.0, 'type': 'note_on'},\n",
       " {'note': 47, 'start_time': 107.5, 'type': 'note_off'},\n",
       " {'note': 47, 'start_time': 107.5, 'type': 'note_on'},\n",
       " {'note': 47, 'start_time': 108.0, 'type': 'note_off'},\n",
       " {'note': 47, 'start_time': 108.0, 'type': 'note_on'},\n",
       " {'note': 47, 'start_time': 108.5, 'type': 'note_off'},\n",
       " {'note': 47, 'start_time': 108.5, 'type': 'note_on'},\n",
       " {'note': 47, 'start_time': 109.0, 'type': 'note_off'},\n",
       " {'note': 47, 'start_time': 109.0, 'type': 'note_on'},\n",
       " {'note': 47, 'start_time': 109.5, 'type': 'note_off'},\n",
       " {'note': 47, 'start_time': 109.5, 'type': 'note_on'},\n",
       " {'note': 47, 'start_time': 110.0, 'type': 'note_off'},\n",
       " {'note': 47, 'start_time': 110.0, 'type': 'note_on'},\n",
       " {'note': 47, 'start_time': 110.5, 'type': 'note_off'},\n",
       " {'note': 47, 'start_time': 110.5, 'type': 'note_on'},\n",
       " {'note': 47, 'start_time': 111.0, 'type': 'note_off'},\n",
       " {'note': 47, 'start_time': 111.0, 'type': 'note_on'},\n",
       " {'note': 47, 'start_time': 111.5, 'type': 'note_off'},\n",
       " {'note': 47, 'start_time': 111.5, 'type': 'note_on'},\n",
       " {'note': 47, 'start_time': 112.0, 'type': 'note_off'},\n",
       " {'note': 47, 'start_time': 112.0, 'type': 'note_on'},\n",
       " {'note': 47, 'start_time': 112.5, 'type': 'note_off'},\n",
       " {'note': 47, 'start_time': 112.5, 'type': 'note_on'},\n",
       " {'note': 47, 'start_time': 113.0, 'type': 'note_off'},\n",
       " {'note': 47, 'start_time': 113.0, 'type': 'note_on'},\n",
       " {'note': 47, 'start_time': 113.5, 'type': 'note_off'},\n",
       " {'note': 47, 'start_time': 113.5, 'type': 'note_on'},\n",
       " {'note': 47, 'start_time': 114.0, 'type': 'note_off'},\n",
       " {'note': 47, 'start_time': 114.0, 'type': 'note_on'},\n",
       " {'note': 47, 'start_time': 114.5, 'type': 'note_off'},\n",
       " {'note': 47, 'start_time': 114.5, 'type': 'note_on'},\n",
       " {'note': 47, 'start_time': 115.0, 'type': 'note_off'},\n",
       " {'note': 47, 'start_time': 115.0, 'type': 'note_on'},\n",
       " {'note': 47, 'start_time': 115.5, 'type': 'note_off'},\n",
       " {'note': 47, 'start_time': 115.5, 'type': 'note_on'},\n",
       " {'note': 47, 'start_time': 116.0, 'type': 'note_off'},\n",
       " {'note': 47, 'start_time': 116.0, 'type': 'note_on'},\n",
       " {'note': 47, 'start_time': 116.5, 'type': 'note_off'},\n",
       " {'note': 47, 'start_time': 116.5, 'type': 'note_on'},\n",
       " {'note': 47, 'start_time': 117.0, 'type': 'note_off'},\n",
       " {'note': 47, 'start_time': 117.0, 'type': 'note_on'},\n",
       " {'note': 47, 'start_time': 117.5, 'type': 'note_off'},\n",
       " {'note': 47, 'start_time': 117.5, 'type': 'note_on'},\n",
       " {'note': 47, 'start_time': 118.0, 'type': 'note_off'},\n",
       " {'note': 47, 'start_time': 118.0, 'type': 'note_on'},\n",
       " {'note': 47, 'start_time': 118.25, 'type': 'note_off'},\n",
       " {'note': 47, 'start_time': 118.25, 'type': 'note_on'},\n",
       " {'note': 47, 'start_time': 118.5, 'type': 'note_off'},\n",
       " {'note': 47, 'start_time': 118.5, 'type': 'note_on'},\n",
       " {'note': 47, 'start_time': 118.75, 'type': 'note_off'},\n",
       " {'note': 47, 'start_time': 118.75, 'type': 'note_on'},\n",
       " {'note': 47, 'start_time': 119.0, 'type': 'note_off'},\n",
       " {'note': 47, 'start_time': 119.0, 'type': 'note_on'},\n",
       " {'note': 47, 'start_time': 119.25, 'type': 'note_off'},\n",
       " {'note': 47, 'start_time': 119.25, 'type': 'note_on'},\n",
       " {'note': 47, 'start_time': 119.5, 'type': 'note_off'},\n",
       " {'note': 47, 'start_time': 119.5, 'type': 'note_on'},\n",
       " {'note': 47, 'start_time': 119.5, 'type': 'note_off'},\n",
       " {'note': 47, 'start_time': 119.5, 'type': 'note_on'},\n",
       " {'note': 47, 'start_time': 119.75, 'type': 'note_off'},\n",
       " {'note': 47, 'start_time': 119.75, 'type': 'note_on'},\n",
       " {'note': 47, 'start_time': 120.0, 'type': 'note_off'},\n",
       " {'note': 47, 'start_time': 120.0, 'type': 'note_on'},\n",
       " {'note': 47, 'start_time': 120.0, 'type': 'note_off'},\n",
       " {'note': 47, 'start_time': 120.0, 'type': 'note_on'},\n",
       " {'note': 47, 'start_time': 120.25, 'type': 'note_off'},\n",
       " {'note': 47, 'start_time': 120.25, 'type': 'note_on'},\n",
       " {'note': 47, 'start_time': 120.5, 'type': 'note_off'},\n",
       " {'note': 47, 'start_time': 120.5, 'type': 'note_on'},\n",
       " {'note': 47, 'start_time': 120.75, 'type': 'note_off'},\n",
       " {'note': 47, 'start_time': 120.75, 'type': 'note_on'},\n",
       " {'note': 47, 'start_time': 121.0, 'type': 'note_off'},\n",
       " {'note': 47, 'start_time': 121.0, 'type': 'note_on'},\n",
       " {'note': 47, 'start_time': 121.25, 'type': 'note_off'},\n",
       " {'note': 47, 'start_time': 121.25, 'type': 'note_on'},\n",
       " {'note': 47, 'start_time': 121.5, 'type': 'note_off'},\n",
       " {'note': 47, 'start_time': 121.5, 'type': 'note_on'},\n",
       " {'note': 47, 'start_time': 121.75, 'type': 'note_off'},\n",
       " {'note': 47, 'start_time': 121.75, 'type': 'note_on'},\n",
       " {'note': 47, 'start_time': 122.0, 'type': 'note_off'},\n",
       " {'note': 47, 'start_time': 122.0, 'type': 'note_on'},\n",
       " {'note': 47, 'start_time': 122.25, 'type': 'note_off'},\n",
       " {'note': 47, 'start_time': 122.25, 'type': 'note_on'},\n",
       " {'note': 47, 'start_time': 122.5, 'type': 'note_off'},\n",
       " {'note': 47, 'start_time': 122.5, 'type': 'note_on'},\n",
       " {'note': 47, 'start_time': 122.75, 'type': 'note_off'},\n",
       " {'note': 47, 'start_time': 122.75, 'type': 'note_on'},\n",
       " {'note': 47, 'start_time': 123.0, 'type': 'note_off'},\n",
       " {'note': 47, 'start_time': 123.0, 'type': 'note_on'},\n",
       " {'note': 47, 'start_time': 123.25, 'type': 'note_off'},\n",
       " {'note': 47, 'start_time': 123.25, 'type': 'note_on'},\n",
       " {'note': 47, 'start_time': 123.5, 'type': 'note_off'},\n",
       " {'note': 47, 'start_time': 123.5, 'type': 'note_on'},\n",
       " {'note': 47, 'start_time': 123.75, 'type': 'note_off'},\n",
       " {'note': 47, 'start_time': 123.75, 'type': 'note_on'},\n",
       " {'note': 47, 'start_time': 124.0, 'type': 'note_off'},\n",
       " {'note': 47, 'start_time': 124.0, 'type': 'note_on'},\n",
       " {'note': 47, 'start_time': 124.25, 'type': 'note_off'},\n",
       " {'note': 47, 'start_time': 124.25, 'type': 'note_on'},\n",
       " {'note': 47, 'start_time': 124.5, 'type': 'note_off'},\n",
       " {'note': 47, 'start_time': 124.5, 'type': 'note_on'},\n",
       " {'note': 47, 'start_time': 124.75, 'type': 'note_off'},\n",
       " {'note': 47, 'start_time': 124.75, 'type': 'note_on'},\n",
       " {'note': 47, 'start_time': 125.0, 'type': 'note_off'},\n",
       " {'note': 47, 'start_time': 125.0, 'type': 'note_on'},\n",
       " {'note': 47, 'start_time': 125.25, 'type': 'note_off'},\n",
       " {'note': 47, 'start_time': 125.25, 'type': 'note_on'},\n",
       " {'note': 47, 'start_time': 125.5, 'type': 'note_off'},\n",
       " {'note': 47, 'start_time': 125.5, 'type': 'note_on'},\n",
       " {'note': 47, 'start_time': 125.75, 'type': 'note_off'},\n",
       " {'note': 47, 'start_time': 125.75, 'type': 'note_on'},\n",
       " {'note': 47, 'start_time': 126.0, 'type': 'note_off'},\n",
       " {'note': 47, 'start_time': 126.0, 'type': 'note_on'},\n",
       " {'note': 47, 'start_time': 126.25, 'type': 'note_off'},\n",
       " {'note': 47, 'start_time': 126.25, 'type': 'note_on'},\n",
       " {'note': 47, 'start_time': 126.5, 'type': 'note_off'},\n",
       " {'note': 47, 'start_time': 126.5, 'type': 'note_on'},\n",
       " {'note': 47, 'start_time': 126.75, 'type': 'note_off'},\n",
       " {'note': 47, 'start_time': 126.75, 'type': 'note_on'},\n",
       " {'note': 47, 'start_time': 127.0, 'type': 'note_off'},\n",
       " {'note': 47, 'start_time': 127.0, 'type': 'note_on'},\n",
       " {'note': 47, 'start_time': 127.25, 'type': 'note_off'},\n",
       " {'note': 47, 'start_time': 127.25, 'type': 'note_on'},\n",
       " {'note': 47, 'start_time': 127.5, 'type': 'note_off'},\n",
       " {'note': 47, 'start_time': 127.5, 'type': 'note_on'},\n",
       " {'note': 47, 'start_time': 127.75, 'type': 'note_off'},\n",
       " {'note': 47, 'start_time': 127.75, 'type': 'note_on'},\n",
       " {'note': 47, 'start_time': 128.0, 'type': 'note_off'},\n",
       " {'note': 47, 'start_time': 128.0, 'type': 'note_on'},\n",
       " {'note': 47, 'start_time': 128.25, 'type': 'note_off'},\n",
       " {'note': 47, 'start_time': 128.25, 'type': 'note_on'},\n",
       " {'note': 47, 'start_time': 128.5, 'type': 'note_off'},\n",
       " {'note': 47, 'start_time': 128.5, 'type': 'note_on'},\n",
       " {'note': 47, 'start_time': 128.75, 'type': 'note_off'},\n",
       " {'note': 47, 'start_time': 128.75, 'type': 'note_on'},\n",
       " {'note': 47, 'start_time': 129.0, 'type': 'note_off'},\n",
       " {'note': 47, 'start_time': 129.0, 'type': 'note_on'},\n",
       " {'note': 47, 'start_time': 129.25, 'type': 'note_off'},\n",
       " {'note': 47, 'start_time': 129.25, 'type': 'note_on'},\n",
       " {'note': 47, 'start_time': 129.5, 'type': 'note_off'},\n",
       " {'note': 47, 'start_time': 129.5, 'type': 'note_on'},\n",
       " {'note': 47, 'start_time': 129.75, 'type': 'note_off'},\n",
       " {'note': 47, 'start_time': 129.75, 'type': 'note_on'},\n",
       " {'note': 47, 'start_time': 130.0, 'type': 'note_off'},\n",
       " {'note': 47, 'start_time': 130.0, 'type': 'note_on'},\n",
       " {'note': 47, 'start_time': 130.25, 'type': 'note_off'},\n",
       " {'note': 47, 'start_time': 130.25, 'type': 'note_on'},\n",
       " {'note': 47, 'start_time': 130.5, 'type': 'note_off'},\n",
       " {'note': 47, 'start_time': 130.5, 'type': 'note_on'},\n",
       " {'note': 47, 'start_time': 130.75, 'type': 'note_off'},\n",
       " {'note': 47, 'start_time': 130.75, 'type': 'note_on'},\n",
       " {'note': 47, 'start_time': 131.0, 'type': 'note_off'},\n",
       " {'note': 47, 'start_time': 131.0, 'type': 'note_on'},\n",
       " {'note': 47, 'start_time': 131.25, 'type': 'note_off'},\n",
       " {'note': 47, 'start_time': 131.25, 'type': 'note_on'},\n",
       " {'note': 47, 'start_time': 131.5, 'type': 'note_off'},\n",
       " {'note': 47, 'start_time': 131.5, 'type': 'note_on'},\n",
       " {'note': 47, 'start_time': 131.75, 'type': 'note_off'},\n",
       " {'note': 47, 'start_time': 131.75, 'type': 'note_on'},\n",
       " {'note': 47, 'start_time': 132.0, 'type': 'note_off'},\n",
       " {'note': 47, 'start_time': 132.0, 'type': 'note_on'},\n",
       " {'note': 47, 'start_time': 132.25, 'type': 'note_off'},\n",
       " {'note': 47, 'start_time': 132.25, 'type': 'note_on'},\n",
       " {'note': 47, 'start_time': 132.5, 'type': 'note_off'},\n",
       " {'note': 47, 'start_time': 132.5, 'type': 'note_on'},\n",
       " {'note': 47, 'start_time': 132.75, 'type': 'note_off'},\n",
       " {'note': 47, 'start_time': 132.75, 'type': 'note_on'},\n",
       " {'note': 47, 'start_time': 133.0, 'type': 'note_off'},\n",
       " {'note': 47, 'start_time': 133.0, 'type': 'note_on'},\n",
       " {'note': 47, 'start_time': 133.25, 'type': 'note_off'},\n",
       " {'note': 47, 'start_time': 133.25, 'type': 'note_on'},\n",
       " {'note': 47, 'start_time': 133.5, 'type': 'note_off'},\n",
       " {'note': 47, 'start_time': 133.5, 'type': 'note_on'},\n",
       " {'note': 47, 'start_time': 133.75, 'type': 'note_off'},\n",
       " {'note': 47, 'start_time': 133.75, 'type': 'note_on'},\n",
       " {'note': 47, 'start_time': 134.0, 'type': 'note_off'},\n",
       " {'note': 47, 'start_time': 134.0, 'type': 'note_on'},\n",
       " {'note': 47, 'start_time': 134.25, 'type': 'note_off'},\n",
       " {'note': 47, 'start_time': 134.25, 'type': 'note_on'},\n",
       " {'note': 47, 'start_time': 134.5, 'type': 'note_off'},\n",
       " {'note': 47, 'start_time': 134.5, 'type': 'note_on'},\n",
       " {'note': 47, 'start_time': 134.75, 'type': 'note_off'},\n",
       " {'note': 47, 'start_time': 134.75, 'type': 'note_on'},\n",
       " {'note': 47, 'start_time': 135.0, 'type': 'note_off'},\n",
       " {'note': 47, 'start_time': 135.0, 'type': 'note_on'},\n",
       " {'note': 47, 'start_time': 135.25, 'type': 'note_off'},\n",
       " {'note': 47, 'start_time': 135.25, 'type': 'note_on'},\n",
       " {'note': 47, 'start_time': 135.5, 'type': 'note_off'},\n",
       " {'note': 47, 'start_time': 135.5, 'type': 'note_on'},\n",
       " {'note': 47, 'start_time': 135.75, 'type': 'note_off'},\n",
       " {'note': 47, 'start_time': 135.75, 'type': 'note_on'},\n",
       " {'note': 47, 'start_time': 136.0, 'type': 'note_off'},\n",
       " {'note': 47, 'start_time': 136.0, 'type': 'note_on'},\n",
       " {'note': 47, 'start_time': 136.25, 'type': 'note_off'},\n",
       " {'note': 47, 'start_time': 136.25, 'type': 'note_on'},\n",
       " {'note': 47, 'start_time': 136.5, 'type': 'note_off'},\n",
       " {'note': 47, 'start_time': 136.5, 'type': 'note_on'},\n",
       " {'note': 47, 'start_time': 136.75, 'type': 'note_off'},\n",
       " {'note': 47, 'start_time': 136.75, 'type': 'note_on'},\n",
       " {'note': 47, 'start_time': 137.0, 'type': 'note_off'},\n",
       " {'note': 47, 'start_time': 137.0, 'type': 'note_on'},\n",
       " {'note': 47, 'start_time': 137.25, 'type': 'note_off'},\n",
       " {'note': 47, 'start_time': 137.25, 'type': 'note_on'},\n",
       " {'note': 47, 'start_time': 137.5, 'type': 'note_off'},\n",
       " {'note': 47, 'start_time': 137.5, 'type': 'note_on'},\n",
       " {'note': 47, 'start_time': 137.75, 'type': 'note_off'},\n",
       " {'note': 47, 'start_time': 137.75, 'type': 'note_on'},\n",
       " {'note': 47, 'start_time': 138.0, 'type': 'note_off'},\n",
       " {'note': 47, 'start_time': 138.0, 'type': 'note_on'},\n",
       " {'note': 47, 'start_time': 138.25, 'type': 'note_off'},\n",
       " {'note': 47, 'start_time': 138.25, 'type': 'note_on'},\n",
       " {'note': 47, 'start_time': 138.5, 'type': 'note_off'},\n",
       " {'note': 47, 'start_time': 138.5, 'type': 'note_on'},\n",
       " {'note': 47, 'start_time': 138.75, 'type': 'note_off'},\n",
       " {'note': 47, 'start_time': 138.75, 'type': 'note_on'},\n",
       " {'note': 47, 'start_time': 139.0, 'type': 'note_off'},\n",
       " {'note': 47, 'start_time': 139.0, 'type': 'note_on'},\n",
       " {'note': 47, 'start_time': 139.25, 'type': 'note_off'},\n",
       " {'note': 47, 'start_time': 139.25, 'type': 'note_on'},\n",
       " {'note': 47, 'start_time': 139.5, 'type': 'note_off'},\n",
       " {'note': 47, 'start_time': 139.5, 'type': 'note_on'},\n",
       " {'note': 47, 'start_time': 139.75, 'type': 'note_off'},\n",
       " {'note': 47, 'start_time': 139.75, 'type': 'note_on'},\n",
       " {'note': 47, 'start_time': 140.0, 'type': 'note_off'},\n",
       " {'note': 47, 'start_time': 140.0, 'type': 'note_on'},\n",
       " {'note': 47, 'start_time': 140.25, 'type': 'note_off'},\n",
       " {'note': 47, 'start_time': 140.25, 'type': 'note_on'},\n",
       " {'note': 47, 'start_time': 140.5, 'type': 'note_off'},\n",
       " {'note': 47, 'start_time': 140.5, 'type': 'note_on'},\n",
       " {'note': 47, 'start_time': 140.75, 'type': 'note_off'},\n",
       " {'note': 47, 'start_time': 140.75, 'type': 'note_on'},\n",
       " {'note': 47, 'start_time': 141.0, 'type': 'note_off'},\n",
       " {'note': 47, 'start_time': 141.0, 'type': 'note_on'},\n",
       " {'note': 47, 'start_time': 141.25, 'type': 'note_off'},\n",
       " {'note': 47, 'start_time': 141.25, 'type': 'note_on'},\n",
       " {'note': 47, 'start_time': 141.5, 'type': 'note_off'},\n",
       " {'note': 47, 'start_time': 141.5, 'type': 'note_on'},\n",
       " {'note': 47, 'start_time': 141.75, 'type': 'note_off'},\n",
       " {'note': 47, 'start_time': 141.75, 'type': 'note_on'}]"
      ]
     },
     "execution_count": 110,
     "metadata": {},
     "output_type": "execute_result"
    }
   ],
   "source": [
    "track_sequence[1]"
   ]
  },
  {
   "cell_type": "code",
   "execution_count": 111,
   "metadata": {},
   "outputs": [
    {
     "data": {
      "text/plain": [
       "<midi file None type 1, 3 tracks, 676 messages>"
      ]
     },
     "execution_count": 111,
     "metadata": {},
     "output_type": "execute_result"
    }
   ],
   "source": [
    "midi = get_midi_from_vector_sequence(track_sequence)\n",
    "midi"
   ]
  },
  {
   "cell_type": "markdown",
   "metadata": {},
   "source": [
    "# Save midi"
   ]
  },
  {
   "cell_type": "code",
   "execution_count": 112,
   "metadata": {
    "collapsed": true
   },
   "outputs": [],
   "source": [
    "generation_output = \"generated_music/\""
   ]
  },
  {
   "cell_type": "code",
   "execution_count": 113,
   "metadata": {},
   "outputs": [
    {
     "data": {
      "text/plain": [
       "'Generated Music (Date=2017-11-21 12.52, Temperature=0.8, Length=1000, MinValidLoss=1.75, TrainLoss=1.79, Iterations=12094).mid'"
      ]
     },
     "execution_count": 113,
     "metadata": {},
     "output_type": "execute_result"
    }
   ],
   "source": [
    "midi_name = \"Generated Music (Date={}, Temperature={}, Length={}, MinValidLoss={:.2f}, TrainLoss={:.2f}, Iterations={}).mid\". \\\n",
    "    format(date, temperature, N_GENERATED_NOTE_VECTORS, min_valid_loss, train_loss_mean, len(validation_loss_list))\n",
    "midi_name"
   ]
  },
  {
   "cell_type": "code",
   "execution_count": 114,
   "metadata": {
    "collapsed": true
   },
   "outputs": [],
   "source": [
    "midi.save(generation_output + midi_name)"
   ]
  }
 ],
 "metadata": {
  "kernelspec": {
   "display_name": "Python 3",
   "language": "python",
   "name": "python3"
  },
  "language_info": {
   "codemirror_mode": {
    "name": "ipython",
    "version": 3
   },
   "file_extension": ".py",
   "mimetype": "text/x-python",
   "name": "python",
   "nbconvert_exporter": "python",
   "pygments_lexer": "ipython3",
   "version": "3.6.2"
  }
 },
 "nbformat": 4,
 "nbformat_minor": 2
}
