{
 "cells": [
  {
   "cell_type": "code",
   "execution_count": 1,
   "metadata": {
    "collapsed": true
   },
   "outputs": [],
   "source": [
    "import mido\n",
    "import os\n",
    "import numpy as np\n",
    "from scipy import stats\n",
    "from os import listdir\n",
    "from os.path import isfile, join\n",
    "import tensorflow as tf\n",
    "from tensorflow.contrib import rnn\n",
    "import time\n",
    "\n",
    "import matplotlib.pyplot as plt\n",
    "from pylab import rcParams\n",
    "rcParams['figure.figsize'] = (12, 8)"
   ]
  },
  {
   "cell_type": "code",
   "execution_count": 2,
   "metadata": {
    "collapsed": true
   },
   "outputs": [],
   "source": [
    "TICKS_PER_BEAT = 480\n",
    "TEMPO = int(mido.bpm2tempo(120))"
   ]
  },
  {
   "cell_type": "code",
   "execution_count": 3,
   "metadata": {
    "collapsed": true
   },
   "outputs": [],
   "source": [
    "%run get_training_data.py"
   ]
  },
  {
   "cell_type": "markdown",
   "metadata": {},
   "source": [
    "### Create training data"
   ]
  },
  {
   "cell_type": "code",
   "execution_count": 4,
   "metadata": {
    "collapsed": true
   },
   "outputs": [],
   "source": [
    "def get_training_data(start_index, end_index):\n",
    "    \"\"\"Generate training data array for all files in \"midis_processed/\" directory.\n",
    "       \n",
    "    Returns:\n",
    "        Numpy array of training data.\n",
    "    \"\"\"\n",
    "    directory = 'midis_processed_nopercussion/'\n",
    "    training_data = []\n",
    "    training_data_labels = []\n",
    "    for i,filename in enumerate(os.listdir(directory)[start_index:end_index]):\n",
    "        try:\n",
    "            if filename.endswith(\".mid\"):\n",
    "                vector = midi_to_vector(directory + filename)\n",
    "                if len(vector) > 100:\n",
    "                    training_data.append(np.array(vector))\n",
    "                    training_data_labels.append(filename)\n",
    "                else:\n",
    "                    print(\"Training data too short: \" + filename + \". len(vector)=\" + str(len(vector)))\n",
    "        except:\n",
    "            print(\"Faulty training data: \" + filename + \". len(vector)=\" + str(len(vector)))\n",
    "        if i%25 == 0:\n",
    "            print(\" > {}/{} files loaded.\".format(i, len(os.listdir(directory)[start_index:end_index])))\n",
    "               \n",
    "    return np.array(training_data), training_data_labels"
   ]
  },
  {
   "cell_type": "code",
   "execution_count": 5,
   "metadata": {
    "scrolled": true
   },
   "outputs": [
    {
     "name": "stdout",
     "output_type": "stream",
     "text": [
      " > 0/450 files loaded.\n",
      " > 25/450 files loaded.\n",
      "Training data too short: Adventure_Island_II-Death.mid. len(vector)=0\n",
      "Training data too short: Adventure_Island_II-Eggplant.mid. len(vector)=0\n",
      "Training data too short: Adventure_Island_II-Game_Over.mid. len(vector)=0\n",
      "Training data too short: Adventure_Island_II-Goal.mid. len(vector)=0\n",
      " > 50/450 files loaded.\n",
      "Training data too short: Adventure_Island_II-Victory.mid. len(vector)=0\n",
      " > 75/450 files loaded.\n",
      "Training data too short: alien3sb.mid. len(vector)=0\n",
      "Training data too short: alphago.mid. len(vector)=0\n",
      "Training data too short: Amagon-Death.mid. len(vector)=0\n",
      "Training data too short: Amagon-Start_2.mid. len(vector)=0\n",
      " > 100/450 files loaded.\n",
      "Training data too short: Anticipation8.mid. len(vector)=0\n",
      "Training data too short: AotKT_Bomb_Disabled.mid. len(vector)=0\n",
      " > 125/450 files loaded.\n",
      "Training data too short: Athena-Over.mid. len(vector)=0\n",
      "Training data too short: Balloon_Fight-Complete.mid. len(vector)=0\n",
      " > 150/450 files loaded.\n",
      "Faulty training data: Balloon_Fight_-_Main_Theme_(Dancing_Balloon!_remix).mid. len(vector)=161\n",
      "Training data too short: Battletoads_Pause_Music.mid. len(vector)=0\n",
      " > 175/450 files loaded.\n",
      " > 200/450 files loaded.\n",
      " > 225/450 files loaded.\n",
      " > 250/450 files loaded.\n",
      "Training data too short: bomb_Clear.mid. len(vector)=0\n",
      "Training data too short: bttf2go.mid. len(vector)=37\n",
      " > 275/450 files loaded.\n",
      "Training data too short: capkid1-01.mid. len(vector)=0\n",
      "Training data too short: Castlequest_-_Death.mid. len(vector)=0\n",
      "Training data too short: Game_Over1.mid. len(vector)=0\n",
      " > 300/450 files loaded.\n",
      "Training data too short: Lolo2clr.mid. len(vector)=0\n",
      "Training data too short: LoseLife.mid. len(vector)=0\n",
      " > 325/450 files loaded.\n",
      " > 350/450 files loaded.\n",
      " > 375/450 files loaded.\n",
      " > 400/450 files loaded.\n",
      "Training data too short: T_Ryga11.mid. len(vector)=0\n",
      "Training data too short: T_Ryga12.mid. len(vector)=0\n",
      " > 425/450 files loaded.\n"
     ]
    }
   ],
   "source": [
    "# Set num training examples here. Note: actual number will be less, since some have errors\n",
    "training_data, training_data_labels = get_training_data(0, 450)"
   ]
  },
  {
   "cell_type": "code",
   "execution_count": 6,
   "metadata": {},
   "outputs": [
    {
     "name": "stdout",
     "output_type": "stream",
     "text": [
      "Number of training examples: 426\n"
     ]
    },
    {
     "data": {
      "text/plain": [
       "['1943 (1).mid',\n",
       " '1943-lev1 (1).mid',\n",
       " '1943-lev3 (1).mid',\n",
       " '1943-Lev3Win (1).mid',\n",
       " '1943boss.mid',\n",
       " '1943boss1.mid',\n",
       " '1943BossWin.mid',\n",
       " '1943lost (1).mid',\n",
       " '1943sab (1).mid',\n",
       " '1943won.mid',\n",
       " '1999.mid',\n",
       " '3D_Worldrunner_Bonus.mid',\n",
       " '3D_Worldrunner_Boss.mid',\n",
       " '3D_Worldrunner_Main.mid',\n",
       " '43pbos1 (1).mid',\n",
       " '43pbos12 (1).mid',\n",
       " '720.mid',\n",
       " '8eyes-spain1.mid',\n",
       " '8_Eyes.mid',\n",
       " '8_Eyes_-_Enterance.mid',\n",
       " 'A-6_Ice_Fortress_2.mid',\n",
       " 'A3_cave.mid',\n",
       " 'A3_over.mid',\n",
       " 'A3_title.mid',\n",
       " 'abadoxgo.mid',\n",
       " 'abb-bgma.mid',\n",
       " 'ABBBGM-B.mid',\n",
       " 'Action52BitsandPieces.mid',\n",
       " 'Action52Cheetahmen.mid',\n",
       " 'Action52CityofDoom.mid',\n",
       " 'Action52DamBusters.mid',\n",
       " 'Action52FuzzPower.mid',\n",
       " 'ADFV_-_Battle_Theme.mid',\n",
       " 'ads_shop.mid',\n",
       " 'Adventureislandrock.mid',\n",
       " 'AdventuresOfLolo-Stage_Music.mid',\n",
       " 'Adventures_of_Bayou_Billy_BGM_A_Electric_Remix.mid',\n",
       " 'Adventure_Island_-_Level_2_-_Remix.mid',\n",
       " 'Adventure_Island_-_Underworld.mid',\n",
       " 'Adventure_Island_II-Bonus.mid',\n",
       " 'Adventure_Island_II-Caves.mid',\n",
       " 'Adventure_Island_II-Choose_an_Egg.mid',\n",
       " 'Adventure_Island_II-Congratulations!.mid',\n",
       " 'Adventure_Island_II-Credits.mid',\n",
       " 'Adventure_Island_II-Desert.mid',\n",
       " 'Adventure_Island_II-Ice_Caves.mid',\n",
       " 'Adventure_Island_II-Island_Boss.mid',\n",
       " 'Adventure_Island_II-Map_Screen.mid',\n",
       " 'Adventure_Island_II-Overworld_1.mid',\n",
       " 'Adventure_Island_II-Overworld_2_(Re-upload).mid',\n",
       " 'Adventure_Island_II-Overworld_3.mid',\n",
       " 'Adventure_Island_II-Over_the_Clouds.mid',\n",
       " 'Adventure_Island_II-Skip_This_Island.mid',\n",
       " 'Adventure_Island_II-Snow_Summit_(Version_2).mid',\n",
       " 'Adventure_Island_II-Title_Screen.mid',\n",
       " 'Adventure_Island_II-UnderwaterV2.mid',\n",
       " 'Adventure_Island_II-Underworld_1.mid',\n",
       " 'Adventure_Island_II-Underworld_2.mid',\n",
       " 'Adventure_Island_Level_1.mid',\n",
       " 'Adventure_Island_Level_2.mid',\n",
       " 'AdvislEggplant.mid',\n",
       " 'advlolo1_theme.mid',\n",
       " 'AFintro.mid',\n",
       " 'AFLanding.mid',\n",
       " 'AFLevel_1.mid',\n",
       " 'AFLevel_End.mid',\n",
       " 'AFLevel_Intro.mid',\n",
       " 'AI3-Credits.mid',\n",
       " 'AI3-FinalBoss.mid',\n",
       " 'AI3-Shipwreck.mid',\n",
       " 'AI3-Thundercloud.mid',\n",
       " 'airfortress.mid',\n",
       " 'airwolf_title.mid',\n",
       " 'AiSenshiNicolBossTheme.mid',\n",
       " 'AiSenshiNicolDungeon.mid',\n",
       " 'AiSenshiNicolStages1and4.mid',\n",
       " 'Albatros.mid',\n",
       " 'Alfred_Chicken_Level_1.mid',\n",
       " 'alphamis.mid',\n",
       " 'Amagon-Area_Clear.mid',\n",
       " 'Amagon-Boss.mid',\n",
       " 'Amagon-Ending.mid',\n",
       " 'Amagon-Final_Boss.mid',\n",
       " 'Amagon-Final_Victory.mid',\n",
       " 'Amagon-Super_Boss.mid',\n",
       " 'Amagon-Title_2.mid',\n",
       " 'Amagon-Zone_2_Jungle.mid',\n",
       " 'Amagon-Zone_3_River.mid',\n",
       " 'Amagon-Zone_4_Rain_Forest.mid',\n",
       " 'Amagon-Zone_5_-_Rocky_Mountain.mid',\n",
       " 'amagonwrld1.mid',\n",
       " 'anstyanintro.mid',\n",
       " 'ANTARending_.mid',\n",
       " 'ANTARIntro.mid',\n",
       " 'ANTARLevel_Complete.mid',\n",
       " 'ANTARLevel_Music.mid',\n",
       " 'Anticipation.mid',\n",
       " 'Anticipation10.mid',\n",
       " 'Anticipation11.mid',\n",
       " 'Anticipation12.mid',\n",
       " 'Anticipation2.mid',\n",
       " 'Anticipation3.mid',\n",
       " 'Anticipation4.mid',\n",
       " 'Anticipation5.mid',\n",
       " 'Anticipation6.mid',\n",
       " 'Anticipation7.mid',\n",
       " 'Anticipation9.mid',\n",
       " 'AotKT_-_The_Secret_Stage.mid',\n",
       " 'AotKT_TomatoFactory.mid',\n",
       " 'arcadia.mid',\n",
       " 'Arcadia_-_Green_Fields.mid',\n",
       " 'archon_battle.mid',\n",
       " 'archon_title.mid',\n",
       " 'Area-5.mid',\n",
       " 'Area2.mid',\n",
       " 'arkistas-opening.mid',\n",
       " 'armadillo_casino.mid',\n",
       " 'Astyanax-Redwood.mid',\n",
       " 'Astyanax-Remlia.mid',\n",
       " 'Astyanax1.mid',\n",
       " 'Astyanax2.mid',\n",
       " 'Astyanax3.mid',\n",
       " 'astyrem.mid',\n",
       " 'Athena-Boss.mid',\n",
       " 'Athena-Cavern.mid',\n",
       " 'Athena-Forest.mid',\n",
       " 'Athena-Hell.mid',\n",
       " 'Athena-Ice.mid',\n",
       " 'Athena-Labyrinth.mid',\n",
       " 'Athena-Sea.mid',\n",
       " 'Athena-Sky.mid',\n",
       " 'Athena-Start.mid',\n",
       " 'attic.mid',\n",
       " 'Attica_-_Town_of_Elyseus.mid',\n",
       " 'B-wings_Stage.mid',\n",
       " 'B2_Stage_6.mid',\n",
       " 'baddudes-stage2.mid',\n",
       " 'baddudes_train.mid',\n",
       " 'Balloon_Fight_-_Game_Over_GS.mid',\n",
       " 'banana.mid',\n",
       " 'basement.mid',\n",
       " 'batman-fabric.mid',\n",
       " 'Batman-_Level_2.mid',\n",
       " 'Batman2_-_GothamInDanger.mid',\n",
       " 'Batman2_-_UrgentXG.mid',\n",
       " 'Batmango.mid',\n",
       " 'BatmanNESlvl3.mid',\n",
       " 'BatmanNESlvl4.mid',\n",
       " 'batmanreturn.mid',\n",
       " 'batmanreturn2.mid',\n",
       " 'Batman_-_Stage1XG.mid',\n",
       " 'battle.mid',\n",
       " 'Battletoads-Pause.mid',\n",
       " 'Battletoads_-_Boss.mid',\n",
       " 'battletoads_level1.mid',\n",
       " 'battletoads_turbo.mid',\n",
       " 'Battletoads_T_Tunnel_P1_SP_new.mid',\n",
       " 'Battle_Of_Olympus_Phrygia_Slow_Remix.mid',\n",
       " 'bb-Boss.mid',\n",
       " 'bb-Ending.mid',\n",
       " 'bbcc.mid',\n",
       " 'Bbccpipe.mid',\n",
       " 'Bbremiv2.mid',\n",
       " 'BBSavrik.mid',\n",
       " 'BBTechno.mid',\n",
       " 'Bbtitle2.mid',\n",
       " 'bbtitler.mid',\n",
       " 'bc5.mid',\n",
       " 'bcc1.mid',\n",
       " 'bccintro.mid',\n",
       " 'Bclvl1mg.mid',\n",
       " 'BD_Credits.mid',\n",
       " 'BEETLEJUICE.mid',\n",
       " 'bio.mid',\n",
       " 'biolev1.mid',\n",
       " 'biomap.mid',\n",
       " 'biomary.mid',\n",
       " 'bionic8.mid',\n",
       " 'BionicCommando-Area01-ArcadeArrangement.mid',\n",
       " 'Bionic_Commando.mid',\n",
       " 'Bionic_Commando_Level_Clear_Theme.mid',\n",
       " 'bioslime.mid',\n",
       " 'birthday_level3.mid',\n",
       " 'BJUICE-LEV1.mid',\n",
       " 'BlackBassIntro.mid',\n",
       " 'BlackBassName.mid',\n",
       " 'BladesofSteelGameFinished.mid',\n",
       " 'Blastar2.mid',\n",
       " 'BlasterMaster.mid',\n",
       " 'Blaster_Master-Stage_6_v2.mid',\n",
       " 'Blaster_Master_Level_3.mid',\n",
       " 'Blaster_Master_Stage_II.mid',\n",
       " 'blob.mid',\n",
       " 'blob_title.mid',\n",
       " 'bm1-st1.mid',\n",
       " 'bmas-st1.mid',\n",
       " 'bmbr2battle.mid',\n",
       " 'Bmbrm2_end.mid',\n",
       " 'bmend.mid',\n",
       " 'BMFIN.mid',\n",
       " 'bmfinal.mid',\n",
       " 'bmintro.mid',\n",
       " 'bmlevel2.mid',\n",
       " 'BmRoJ_Main_Theme-KM.mid',\n",
       " 'Bmstg2.mid',\n",
       " 'bmstg3.mid',\n",
       " 'bmstg3b.mid',\n",
       " 'bmstg4.mid',\n",
       " 'bmstg5.mid',\n",
       " 'bmstg6.mid',\n",
       " 'Bmstg7.mid',\n",
       " 'bmstg8.mid',\n",
       " 'bmstg8b.mid',\n",
       " 'BM_Level1mix.mid',\n",
       " 'bntcm11.mid',\n",
       " 'bntcmcave.mid',\n",
       " 'boh-blueplanet.mid',\n",
       " 'BOH-Cell.mid',\n",
       " 'BOH-comt.mid',\n",
       " 'BOH-Credits.mid',\n",
       " 'boh-redplanet.mid',\n",
       " 'BOH-RescuedCrew.mid',\n",
       " 'bohgreen.mid',\n",
       " 'bohmagna.mid',\n",
       " 'bohmap.mid',\n",
       " 'bohsslct.mid',\n",
       " 'bohtitl1.mid',\n",
       " 'bohyellow.mid',\n",
       " 'bomb2stg1.mid',\n",
       " 'Bomberman2-Powerup.mid',\n",
       " 'BomberMan2_-_Stage3.mid',\n",
       " 'bombermantitle.mid',\n",
       " 'Bomberman_II_-_Level.mid',\n",
       " 'bombr2main.mid',\n",
       " 'bombstg1.mid',\n",
       " 'bombstrt.mid',\n",
       " 'Bonks_Adventure_1_1.mid',\n",
       " 'BonusGame.mid',\n",
       " 'BoS_Intermission_Mini-Game.mid',\n",
       " 'Boulder_World.mid',\n",
       " 'BTDDLvl2.mid',\n",
       " 'btdslv5surf.mid',\n",
       " 'btmnjstg.mid',\n",
       " 'Btsurf.mid',\n",
       " 'bttf-nes.mid',\n",
       " 'bttf2.mid',\n",
       " 'bub-boss.mid',\n",
       " 'bubblebobble.mid',\n",
       " 'BubBob2_-_FinalBoss.mid',\n",
       " 'BubBob2_-_MainBGM.mid',\n",
       " 'BublBobl_RK.mid',\n",
       " 'Bubl_End.mid',\n",
       " 'Bub_Bad.mid',\n",
       " 'Bub_Invincible.mid',\n",
       " 'Bub_Monsters.mid',\n",
       " 'Bub_Secret_Remake.mid',\n",
       " 'bucky-blueplanetGS.mid',\n",
       " 'bucky-blueplanetXG.mid',\n",
       " 'bucky-escape.mid',\n",
       " 'Bucky-GreenPlanet-1.mid',\n",
       " 'bucky-redplanet.mid',\n",
       " \"bump_'n_jump.mid\",\n",
       " 'Burai_Fighter_-_Taxan.mid',\n",
       " 'Burgertime-Main.mid',\n",
       " 'BWings.mid',\n",
       " 'capkid1-02a.mid',\n",
       " 'Castlequest_-_Groken_Castle.mid',\n",
       " 'Castlequest_-_Title_Screen.mid',\n",
       " 'Castlequest__-_Oxygen_Tanks.mid',\n",
       " 'CGdiskV1.1.mid',\n",
       " 'Clinger_Winger.mid',\n",
       " 'Crete_-_The_Island_Maze.mid',\n",
       " 'cy_bucky_o_hare_green_planet_v_1_0.mid',\n",
       " 'DarkForest.mid',\n",
       " 'Egypt.mid',\n",
       " 'elmst.mid',\n",
       " 'elm_street_metal.mid',\n",
       " 'Enc.mid',\n",
       " \"Ending_Theme_-_Let's_Return.mid\",\n",
       " 'freddy!.mid',\n",
       " 'GREMLIA.mid',\n",
       " 'icecavern.mid',\n",
       " 'Ice_World.mid',\n",
       " 'Illuminator.mid',\n",
       " 'Inside.mid',\n",
       " 'JDC_BTLvl03B.mid',\n",
       " 'Laconia.mid',\n",
       " 'Laconia_-_Where_Land_Ends.mid',\n",
       " 'Laconia_2.mid',\n",
       " 'Level-1.mid',\n",
       " 'Level_8_-_Intruder_Excluder.mid',\n",
       " 'lollipop.mid',\n",
       " 'lollipop2.mid',\n",
       " 'Lolo.mid',\n",
       " 'Lolo1lvl.mid',\n",
       " 'Lolo2lvl.mid',\n",
       " 'Lolo2pw.mid',\n",
       " 'LOLO3BOS.mid',\n",
       " 'lolo3lev.mid',\n",
       " 'Lolo3lvl.mid',\n",
       " 'megalonia.mid',\n",
       " 'MKAUTO.mid',\n",
       " 'mkhaunted.mid',\n",
       " 'MKHHOUSE.mid',\n",
       " 'MKMINE.mid',\n",
       " 'MKPIRATE.mid',\n",
       " 'MKSPACE.mid',\n",
       " 'MKTITLE.mid',\n",
       " 'MKWORLD.mid',\n",
       " 'nes-alien3_level01.mid',\n",
       " 'NES__Bionic_Commando__Final_Boss_-_Albatross_Theme__2.mid',\n",
       " 'Nmoes1.mid',\n",
       " 'nmoes2.mid',\n",
       " 'nmoes3.mid',\n",
       " 'Nonhuman1.mid',\n",
       " 'Ocean_World.mid',\n",
       " 'OLskyhawkbase.mid',\n",
       " 'OLskyhawkdock.mid',\n",
       " 'OLskyhawkmission.mid',\n",
       " 'OLskyhawkname.mid',\n",
       " 'OLskyhawktitle.mid',\n",
       " 'olymp.mid',\n",
       " 'olympus.mid',\n",
       " 'olympus1.mid',\n",
       " 'olymp_2.mid',\n",
       " 'olymp_hero.mid',\n",
       " 'palace2.mid',\n",
       " 'palace3.mid',\n",
       " 'Peloponnesus.mid',\n",
       " 'peloponnes_-_dark_and_beautiful.mid',\n",
       " 'Phithia.mid',\n",
       " 'Phitia_-_The_Golden_Apple.mid',\n",
       " 'Phrygia.mid',\n",
       " 'Phrygia_-_Searching_the_Moon_Ball.mid',\n",
       " 'Phthia.mid',\n",
       " 'Pommy.mid',\n",
       " 'PowerUp.mid',\n",
       " 'Ratrace.mid',\n",
       " 'Relic_World.mid',\n",
       " 'REMLIA.mid',\n",
       " 'Ride_with_Pegasus_&_Enter_your_Name.mid',\n",
       " 'RocketjockA52.mid',\n",
       " 'RoundComplete.mid',\n",
       " 'Sand_World.mid',\n",
       " 'Snake_Pit.mid',\n",
       " 'Stage1.mid',\n",
       " 'Stage2.mid',\n",
       " 'Stage4.mid',\n",
       " 'Stage5.mid',\n",
       " 'Stage6.mid',\n",
       " 'Stage_4.mid',\n",
       " 'Stage_6.mid',\n",
       " 'Stage_7.mid',\n",
       " 'Star_Evil.mid',\n",
       " 'stonestage.mid',\n",
       " 'Story.mid',\n",
       " 'Tartarus_-_Battle_with_Hades.mid',\n",
       " 'The_Map_-_Face_your_destiny.mid',\n",
       " 'The_Revolution.mid',\n",
       " 'The_Underworld_&_Hades_Castle.mid',\n",
       " 'thrusters.mid',\n",
       " 'TitleScreen.mid',\n",
       " 'T_ArumanaNoKiseki_Caverns.mid',\n",
       " 'T_Batman_Stage1-1.mid',\n",
       " 'T_Batman_Stage2-1.mid',\n",
       " 'T_BionicCommando_AlbatrossTheme.mid',\n",
       " 'T_BionicCommando_Area2.mid',\n",
       " 'T_BionicCommando_BossBattle.mid',\n",
       " 'T_BionicCommando_BossDialog.mid',\n",
       " 'T_BionicCommando_Encounter.mid',\n",
       " 'T_BionicCommando_FinalArea.mid',\n",
       " 'T_BionicCommando_Prologue1.mid',\n",
       " 'T_BionicCommando_Prologue3.mid',\n",
       " 'T_CaptainAmerica_CharSelect.mid',\n",
       " 't_ct2.mid',\n",
       " 't_ct3.mid',\n",
       " 't_ct4.mid',\n",
       " 't_ct6.mid',\n",
       " 't_ct7.mid',\n",
       " 't_ctint2.mid',\n",
       " 't_ctmenu.mid',\n",
       " 'T_Ryga10.mid',\n",
       " 'T_Ryga13.mid',\n",
       " 'T_Ryga14.mid',\n",
       " 'T_Ryga15.mid',\n",
       " 'T_Rygar1.mid',\n",
       " 'T_Rygar2.mid',\n",
       " 'T_Rygar3.mid',\n",
       " 'T_Rygar4.mid',\n",
       " 'T_Rygar5.mid',\n",
       " 'T_Rygar7.mid',\n",
       " 'T_Rygar8.mid',\n",
       " 'T_Rygar9.mid',\n",
       " 'T_Tsub11.mid',\n",
       " 'T_Tsub14.mid',\n",
       " 'T_Tsub16.mid',\n",
       " 'T_Tsub17.mid',\n",
       " 'T_Tsub18.mid',\n",
       " 'T_Tsub19.mid',\n",
       " 'T_Tsub20.mid',\n",
       " 'T_Tsub21.mid',\n",
       " 'T_Tsub22.mid',\n",
       " 'T_Tsub23.mid',\n",
       " 'T_Tsub24.mid',\n",
       " 'T_Tsub25.mid',\n",
       " 'T_Tsub26.mid',\n",
       " 'T_Tsub27.mid',\n",
       " 'T_Tsub28.mid',\n",
       " 'T_Tsub29.mid',\n",
       " 'T_Tsub30.mid',\n",
       " 'T_Tsuba0.mid',\n",
       " 'T_Tsuba1.mid',\n",
       " 'T_Tsuba2.mid',\n",
       " 'T_Tsuba3.mid',\n",
       " 'T_Tsuba4.mid',\n",
       " 'T_Tsuba5.mid',\n",
       " 'T_Tsuba6.mid',\n",
       " 'T_Tsuba7.mid',\n",
       " 'T_Tsuba9.mid',\n",
       " 'T_Tsubasa2_NihonAllStarTheme.mid',\n",
       " 'Volcano_World.mid',\n",
       " 'wakeup!!.mid',\n",
       " 'wookie.mid',\n",
       " 'XkyFlyDisk.mid',\n",
       " 'Xky_LoloStage.mid',\n",
       " 'zzz.mid']"
      ]
     },
     "execution_count": 6,
     "metadata": {},
     "output_type": "execute_result"
    }
   ],
   "source": [
    "print(\"Number of training examples:\", len(training_data))\n",
    "training_data_labels"
   ]
  },
  {
   "cell_type": "code",
   "execution_count": 7,
   "metadata": {},
   "outputs": [
    {
     "data": {
      "text/plain": [
       "(878, 1120)"
      ]
     },
     "execution_count": 7,
     "metadata": {},
     "output_type": "execute_result"
    }
   ],
   "source": [
    "training_data = np.array([np.array(x) for x in training_data])\n",
    "training_data[0].shape"
   ]
  },
  {
   "cell_type": "markdown",
   "metadata": {},
   "source": [
    "### Parameters"
   ]
  },
  {
   "cell_type": "code",
   "execution_count": 8,
   "metadata": {
    "collapsed": true
   },
   "outputs": [],
   "source": [
    "# Parameters\n",
    "batch_size = 10\n",
    "learning_rate = 0.001\n",
    "training_iters = 50000\n",
    "n_input = 64\n",
    "display_step = 200\n",
    "\n",
    "# number of units in RNN cell\n",
    "n_hidden = 512\n",
    "n_layers = 2"
   ]
  },
  {
   "cell_type": "markdown",
   "metadata": {},
   "source": [
    "### Create log file"
   ]
  },
  {
   "cell_type": "code",
   "execution_count": 9,
   "metadata": {
    "collapsed": true
   },
   "outputs": [],
   "source": [
    "logfile_directory = 'logs/'"
   ]
  },
  {
   "cell_type": "code",
   "execution_count": 10,
   "metadata": {},
   "outputs": [
    {
     "data": {
      "text/plain": [
       "'Logfile (Date=2017-11-12 03.38, NTraining=426, NHidden=512, Batch=10, LR=0.001).txt'"
      ]
     },
     "execution_count": 10,
     "metadata": {},
     "output_type": "execute_result"
    }
   ],
   "source": [
    "date = time.strftime(\"%Y-%m-%d %H.%M\")\n",
    "logfile_name = \"Logfile (Date={}, NTraining={}, NHidden={}, Batch={}, LR={}).txt\". \\\n",
    "    format(date, len(training_data), n_hidden, batch_size, learning_rate)\n",
    "logfile_name"
   ]
  },
  {
   "cell_type": "markdown",
   "metadata": {},
   "source": [
    "### Create tensor flow graph"
   ]
  },
  {
   "cell_type": "code",
   "execution_count": 11,
   "metadata": {},
   "outputs": [
    {
     "data": {
      "text/plain": [
       "1120"
      ]
     },
     "execution_count": 11,
     "metadata": {},
     "output_type": "execute_result"
    }
   ],
   "source": [
    "vocab_size = len(training_data[0][0])\n",
    "vocab_size"
   ]
  },
  {
   "cell_type": "code",
   "execution_count": 12,
   "metadata": {
    "collapsed": true
   },
   "outputs": [],
   "source": [
    "# tf Graph input\n",
    "x = tf.placeholder(\"float\", [batch_size, n_input, vocab_size])\n",
    "y = tf.placeholder(\"int32\", [batch_size, n_input])\n",
    "\n",
    "# RNN output node weights and biases\n",
    "softmax_w = tf.Variable(tf.random_normal([n_hidden, vocab_size]))\n",
    "softmax_b = tf.Variable(tf.random_normal([vocab_size]))\n",
    "\n",
    "max_grad_norm = 5"
   ]
  },
  {
   "cell_type": "code",
   "execution_count": 13,
   "metadata": {
    "collapsed": true
   },
   "outputs": [],
   "source": [
    "# tf Graph generative input\n",
    "x_generation = tf.placeholder(\"float\", [1, vocab_size])"
   ]
  },
  {
   "cell_type": "code",
   "execution_count": 14,
   "metadata": {
    "collapsed": true
   },
   "outputs": [],
   "source": [
    "rnn_cell = rnn.MultiRNNCell([rnn.BasicLSTMCell(n_hidden) for _ in range(n_layers)])\n",
    "x_split = tf.unstack(x, n_input, 1)"
   ]
  },
  {
   "cell_type": "code",
   "execution_count": 15,
   "metadata": {
    "collapsed": true
   },
   "outputs": [],
   "source": [
    "outputs, states = rnn.static_rnn(rnn_cell, x_split, dtype=tf.float32)\n",
    "logits = [tf.nn.xw_plus_b(output, softmax_w, softmax_b) for output in outputs]\n",
    "logits = tf.reshape(tf.split(tf.reshape(logits, [n_input, batch_size, vocab_size]), batch_size, 1), [batch_size, n_input, vocab_size])"
   ]
  },
  {
   "cell_type": "code",
   "execution_count": 16,
   "metadata": {},
   "outputs": [],
   "source": [
    "loss = tf.contrib.seq2seq.sequence_loss(logits, y, weights=tf.ones([batch_size, n_input], dtype=tf.float32), # check this\n",
    "                                        average_across_timesteps=True, average_across_batch=True)\n",
    "cost = tf.reduce_sum(loss)\n",
    "optimizer = tf.train.RMSPropOptimizer(learning_rate=learning_rate).minimize(cost)"
   ]
  },
  {
   "cell_type": "markdown",
   "metadata": {},
   "source": [
    "## Run tensor flow session"
   ]
  },
  {
   "cell_type": "code",
   "execution_count": 17,
   "metadata": {
    "collapsed": true
   },
   "outputs": [],
   "source": [
    "session = tf.Session()"
   ]
  },
  {
   "cell_type": "code",
   "execution_count": 18,
   "metadata": {
    "collapsed": true
   },
   "outputs": [],
   "source": [
    "def get_midi_xy(midi_file_number):\n",
    "    offset = np.random.randint(0, len(training_data[midi_file_number]) - n_input - 1)\n",
    "    midi_x = training_data[midi_file_number][offset:offset+n_input]\n",
    "    midi_y = training_data[midi_file_number][1 + offset:1 + offset+n_input].dot(range(vocab_size)).reshape(1, n_input)\n",
    "    return midi_x, midi_y"
   ]
  },
  {
   "cell_type": "code",
   "execution_count": 19,
   "metadata": {
    "collapsed": true
   },
   "outputs": [],
   "source": [
    "def get_batch():\n",
    "    \"\"\"Generate random batches of x and y training vectors for RNN.\n",
    "       \n",
    "    Returns:\n",
    "        Two batches of x and y vectors.\n",
    "    \"\"\"\n",
    "    batch_x = []\n",
    "    batch_y = []\n",
    "    batch = np.random.choice(range(len(training_data)), batch_size, replace=True)\n",
    "    for b in batch:\n",
    "        midi_x, midi_y = get_midi_xy(b%len(training_data))\n",
    "        batch_x.append(midi_x)\n",
    "        batch_y.append(midi_y)\n",
    "    batch_y = np.reshape(batch_y, [batch_size, n_input])\n",
    "    return batch_x, batch_y"
   ]
  },
  {
   "cell_type": "code",
   "execution_count": 20,
   "metadata": {
    "collapsed": true
   },
   "outputs": [],
   "source": [
    "def seconds_to_minsecstr(seconds):\n",
    "    minutes = seconds//60\n",
    "    seconds -= 60*minutes\n",
    "    if minutes < 10: minutes = \"0\" + str(minutes)\n",
    "    if seconds < 10: seconds = \"0\" + str(seconds)\n",
    "    return str(minutes) + \":\" + str(seconds)"
   ]
  },
  {
   "cell_type": "code",
   "execution_count": 21,
   "metadata": {
    "scrolled": true
   },
   "outputs": [
    {
     "name": "stdout",
     "output_type": "stream",
     "text": [
      "Iter=200, Average Loss=6.599645, Time Elapsed=05:18\n",
      "Iter=400, Average Loss=4.841078, Time Elapsed=10:39\n",
      "Iter=600, Average Loss=4.087124, Time Elapsed=16:00\n",
      "Iter=800, Average Loss=3.616410, Time Elapsed=21:21\n",
      "Iter=1000, Average Loss=3.257403, Time Elapsed=26:41\n",
      "Iter=1200, Average Loss=3.023936, Time Elapsed=31:59\n",
      "Iter=1400, Average Loss=2.793418, Time Elapsed=37:17\n",
      "Iter=1600, Average Loss=2.656072, Time Elapsed=42:34\n",
      "Iter=1800, Average Loss=2.547111, Time Elapsed=47:51\n",
      "Iter=2000, Average Loss=2.444486, Time Elapsed=53:09\n",
      "Iter=2200, Average Loss=2.340032, Time Elapsed=58:26\n",
      "Iter=2400, Average Loss=2.257567, Time Elapsed=63:42\n",
      "Iter=2600, Average Loss=2.164601, Time Elapsed=69:00\n",
      "Iter=2800, Average Loss=2.092797, Time Elapsed=74:17\n",
      "Iter=3000, Average Loss=2.023165, Time Elapsed=79:34\n",
      "Iter=3200, Average Loss=1.969444, Time Elapsed=84:53\n",
      "Iter=3400, Average Loss=1.964449, Time Elapsed=90:13\n",
      "Iter=3600, Average Loss=1.866210, Time Elapsed=95:32\n",
      "Iter=3800, Average Loss=1.803179, Time Elapsed=100:51\n",
      "Iter=4000, Average Loss=1.765633, Time Elapsed=106:09\n",
      "Iter=4200, Average Loss=1.765029, Time Elapsed=111:28\n",
      "Iter=4400, Average Loss=1.676409, Time Elapsed=116:46\n",
      "Iter=4600, Average Loss=1.637707, Time Elapsed=122:05\n",
      "Iter=4800, Average Loss=1.601362, Time Elapsed=127:25\n",
      "Iter=5000, Average Loss=1.558493, Time Elapsed=132:45\n",
      "Iter=5200, Average Loss=1.555684, Time Elapsed=138:06\n",
      "Iter=5400, Average Loss=1.482486, Time Elapsed=143:28\n",
      "Iter=5600, Average Loss=1.466954, Time Elapsed=148:49\n",
      "Iter=5800, Average Loss=1.416151, Time Elapsed=154:10\n",
      "Iter=6000, Average Loss=1.447183, Time Elapsed=159:31\n",
      "Iter=6200, Average Loss=1.401115, Time Elapsed=165:17\n",
      "Iter=6400, Average Loss=1.355993, Time Elapsed=171:05\n",
      "Iter=6600, Average Loss=1.334679, Time Elapsed=176:50\n",
      "Iter=6800, Average Loss=1.299642, Time Elapsed=182:34\n",
      "Iter=7000, Average Loss=1.268316, Time Elapsed=188:18\n",
      "Iter=7200, Average Loss=1.242781, Time Elapsed=194:02\n",
      "Iter=7400, Average Loss=1.226295, Time Elapsed=199:51\n",
      "Iter=7600, Average Loss=1.228969, Time Elapsed=205:38\n",
      "Iter=7800, Average Loss=1.174207, Time Elapsed=211:25\n",
      "Iter=8000, Average Loss=1.185872, Time Elapsed=217:13\n",
      "Iter=8200, Average Loss=1.160535, Time Elapsed=223:01\n",
      "Iter=8400, Average Loss=1.115627, Time Elapsed=228:48\n",
      "Iter=8600, Average Loss=1.118257, Time Elapsed=234:36\n",
      "Iter=8800, Average Loss=1.131708, Time Elapsed=240:23\n",
      "Iter=9000, Average Loss=1.102100, Time Elapsed=246:10\n",
      "Iter=9200, Average Loss=1.044006, Time Elapsed=251:58\n",
      "Iter=9400, Average Loss=1.086428, Time Elapsed=257:52\n",
      "Iter=9600, Average Loss=1.025457, Time Elapsed=263:49\n",
      "Iter=9800, Average Loss=1.038537, Time Elapsed=269:45\n",
      "Iter=10000, Average Loss=1.032814, Time Elapsed=275:41\n",
      "Iter=10200, Average Loss=1.017514, Time Elapsed=281:37\n",
      "Iter=10400, Average Loss=0.982998, Time Elapsed=287:33\n",
      "Iter=10600, Average Loss=0.996778, Time Elapsed=293:28\n",
      "Iter=10800, Average Loss=0.981141, Time Elapsed=299:23\n",
      "Iter=11000, Average Loss=0.966565, Time Elapsed=305:18\n",
      "Iter=11200, Average Loss=0.959288, Time Elapsed=311:14\n",
      "Iter=11400, Average Loss=0.936579, Time Elapsed=317:11\n",
      "Iter=11600, Average Loss=0.933243, Time Elapsed=323:12\n",
      "Iter=11800, Average Loss=0.924837, Time Elapsed=329:12\n",
      "Iter=12000, Average Loss=0.906157, Time Elapsed=335:10\n",
      "Iter=12200, Average Loss=0.882970, Time Elapsed=341:08\n",
      "Iter=12400, Average Loss=0.888342, Time Elapsed=347:05\n",
      "Iter=12600, Average Loss=0.849471, Time Elapsed=353:02\n",
      "Iter=12800, Average Loss=0.869951, Time Elapsed=358:58\n",
      "Iter=13000, Average Loss=0.855394, Time Elapsed=364:54\n",
      "Iter=13200, Average Loss=0.836417, Time Elapsed=370:54\n",
      "Iter=13400, Average Loss=0.837520, Time Elapsed=376:55\n"
     ]
    },
    {
     "ename": "KeyboardInterrupt",
     "evalue": "",
     "output_type": "error",
     "traceback": [
      "\u001b[1;31m---------------------------------------------------------------------------\u001b[0m",
      "\u001b[1;31mKeyboardInterrupt\u001b[0m                         Traceback (most recent call last)",
      "\u001b[1;32m<ipython-input-21-320a15cb9c0d>\u001b[0m in \u001b[0;36m<module>\u001b[1;34m()\u001b[0m\n\u001b[0;32m     14\u001b[0m     \u001b[0mbatch_x\u001b[0m\u001b[1;33m,\u001b[0m \u001b[0mbatch_y\u001b[0m \u001b[1;33m=\u001b[0m \u001b[0mget_batch\u001b[0m\u001b[1;33m(\u001b[0m\u001b[1;33m)\u001b[0m\u001b[1;33m\u001b[0m\u001b[0m\n\u001b[0;32m     15\u001b[0m \u001b[1;33m\u001b[0m\u001b[0m\n\u001b[1;32m---> 16\u001b[1;33m     \u001b[0m_\u001b[0m\u001b[1;33m,\u001b[0m \u001b[0mloss\u001b[0m \u001b[1;33m=\u001b[0m \u001b[0msession\u001b[0m\u001b[1;33m.\u001b[0m\u001b[0mrun\u001b[0m\u001b[1;33m(\u001b[0m\u001b[1;33m[\u001b[0m\u001b[0moptimizer\u001b[0m\u001b[1;33m,\u001b[0m \u001b[0mcost\u001b[0m\u001b[1;33m]\u001b[0m\u001b[1;33m,\u001b[0m \u001b[0mfeed_dict\u001b[0m\u001b[1;33m=\u001b[0m\u001b[1;33m{\u001b[0m\u001b[0mx\u001b[0m\u001b[1;33m:\u001b[0m \u001b[0mbatch_x\u001b[0m\u001b[1;33m,\u001b[0m \u001b[0my\u001b[0m\u001b[1;33m:\u001b[0m \u001b[0mbatch_y\u001b[0m\u001b[1;33m}\u001b[0m\u001b[1;33m)\u001b[0m\u001b[1;33m\u001b[0m\u001b[0m\n\u001b[0m\u001b[0;32m     17\u001b[0m     \u001b[0mloss_total\u001b[0m \u001b[1;33m+=\u001b[0m \u001b[0mloss\u001b[0m\u001b[1;33m\u001b[0m\u001b[0m\n\u001b[0;32m     18\u001b[0m     log = \"Iter=\" + str(step+1) + \", Average Loss={:.6f}, Time Elapsed={}\".format(loss, \n",
      "\u001b[1;32m~\\Anaconda3\\lib\\site-packages\\tensorflow\\python\\client\\session.py\u001b[0m in \u001b[0;36mrun\u001b[1;34m(self, fetches, feed_dict, options, run_metadata)\u001b[0m\n\u001b[0;32m    887\u001b[0m     \u001b[1;32mtry\u001b[0m\u001b[1;33m:\u001b[0m\u001b[1;33m\u001b[0m\u001b[0m\n\u001b[0;32m    888\u001b[0m       result = self._run(None, fetches, feed_dict, options_ptr,\n\u001b[1;32m--> 889\u001b[1;33m                          run_metadata_ptr)\n\u001b[0m\u001b[0;32m    890\u001b[0m       \u001b[1;32mif\u001b[0m \u001b[0mrun_metadata\u001b[0m\u001b[1;33m:\u001b[0m\u001b[1;33m\u001b[0m\u001b[0m\n\u001b[0;32m    891\u001b[0m         \u001b[0mproto_data\u001b[0m \u001b[1;33m=\u001b[0m \u001b[0mtf_session\u001b[0m\u001b[1;33m.\u001b[0m\u001b[0mTF_GetBuffer\u001b[0m\u001b[1;33m(\u001b[0m\u001b[0mrun_metadata_ptr\u001b[0m\u001b[1;33m)\u001b[0m\u001b[1;33m\u001b[0m\u001b[0m\n",
      "\u001b[1;32m~\\Anaconda3\\lib\\site-packages\\tensorflow\\python\\client\\session.py\u001b[0m in \u001b[0;36m_run\u001b[1;34m(self, handle, fetches, feed_dict, options, run_metadata)\u001b[0m\n\u001b[0;32m   1118\u001b[0m     \u001b[1;32mif\u001b[0m \u001b[0mfinal_fetches\u001b[0m \u001b[1;32mor\u001b[0m \u001b[0mfinal_targets\u001b[0m \u001b[1;32mor\u001b[0m \u001b[1;33m(\u001b[0m\u001b[0mhandle\u001b[0m \u001b[1;32mand\u001b[0m \u001b[0mfeed_dict_tensor\u001b[0m\u001b[1;33m)\u001b[0m\u001b[1;33m:\u001b[0m\u001b[1;33m\u001b[0m\u001b[0m\n\u001b[0;32m   1119\u001b[0m       results = self._do_run(handle, final_targets, final_fetches,\n\u001b[1;32m-> 1120\u001b[1;33m                              feed_dict_tensor, options, run_metadata)\n\u001b[0m\u001b[0;32m   1121\u001b[0m     \u001b[1;32melse\u001b[0m\u001b[1;33m:\u001b[0m\u001b[1;33m\u001b[0m\u001b[0m\n\u001b[0;32m   1122\u001b[0m       \u001b[0mresults\u001b[0m \u001b[1;33m=\u001b[0m \u001b[1;33m[\u001b[0m\u001b[1;33m]\u001b[0m\u001b[1;33m\u001b[0m\u001b[0m\n",
      "\u001b[1;32m~\\Anaconda3\\lib\\site-packages\\tensorflow\\python\\client\\session.py\u001b[0m in \u001b[0;36m_do_run\u001b[1;34m(self, handle, target_list, fetch_list, feed_dict, options, run_metadata)\u001b[0m\n\u001b[0;32m   1315\u001b[0m     \u001b[1;32mif\u001b[0m \u001b[0mhandle\u001b[0m \u001b[1;32mis\u001b[0m \u001b[1;32mNone\u001b[0m\u001b[1;33m:\u001b[0m\u001b[1;33m\u001b[0m\u001b[0m\n\u001b[0;32m   1316\u001b[0m       return self._do_call(_run_fn, self._session, feeds, fetches, targets,\n\u001b[1;32m-> 1317\u001b[1;33m                            options, run_metadata)\n\u001b[0m\u001b[0;32m   1318\u001b[0m     \u001b[1;32melse\u001b[0m\u001b[1;33m:\u001b[0m\u001b[1;33m\u001b[0m\u001b[0m\n\u001b[0;32m   1319\u001b[0m       \u001b[1;32mreturn\u001b[0m \u001b[0mself\u001b[0m\u001b[1;33m.\u001b[0m\u001b[0m_do_call\u001b[0m\u001b[1;33m(\u001b[0m\u001b[0m_prun_fn\u001b[0m\u001b[1;33m,\u001b[0m \u001b[0mself\u001b[0m\u001b[1;33m.\u001b[0m\u001b[0m_session\u001b[0m\u001b[1;33m,\u001b[0m \u001b[0mhandle\u001b[0m\u001b[1;33m,\u001b[0m \u001b[0mfeeds\u001b[0m\u001b[1;33m,\u001b[0m \u001b[0mfetches\u001b[0m\u001b[1;33m)\u001b[0m\u001b[1;33m\u001b[0m\u001b[0m\n",
      "\u001b[1;32m~\\Anaconda3\\lib\\site-packages\\tensorflow\\python\\client\\session.py\u001b[0m in \u001b[0;36m_do_call\u001b[1;34m(self, fn, *args)\u001b[0m\n\u001b[0;32m   1321\u001b[0m   \u001b[1;32mdef\u001b[0m \u001b[0m_do_call\u001b[0m\u001b[1;33m(\u001b[0m\u001b[0mself\u001b[0m\u001b[1;33m,\u001b[0m \u001b[0mfn\u001b[0m\u001b[1;33m,\u001b[0m \u001b[1;33m*\u001b[0m\u001b[0margs\u001b[0m\u001b[1;33m)\u001b[0m\u001b[1;33m:\u001b[0m\u001b[1;33m\u001b[0m\u001b[0m\n\u001b[0;32m   1322\u001b[0m     \u001b[1;32mtry\u001b[0m\u001b[1;33m:\u001b[0m\u001b[1;33m\u001b[0m\u001b[0m\n\u001b[1;32m-> 1323\u001b[1;33m       \u001b[1;32mreturn\u001b[0m \u001b[0mfn\u001b[0m\u001b[1;33m(\u001b[0m\u001b[1;33m*\u001b[0m\u001b[0margs\u001b[0m\u001b[1;33m)\u001b[0m\u001b[1;33m\u001b[0m\u001b[0m\n\u001b[0m\u001b[0;32m   1324\u001b[0m     \u001b[1;32mexcept\u001b[0m \u001b[0merrors\u001b[0m\u001b[1;33m.\u001b[0m\u001b[0mOpError\u001b[0m \u001b[1;32mas\u001b[0m \u001b[0me\u001b[0m\u001b[1;33m:\u001b[0m\u001b[1;33m\u001b[0m\u001b[0m\n\u001b[0;32m   1325\u001b[0m       \u001b[0mmessage\u001b[0m \u001b[1;33m=\u001b[0m \u001b[0mcompat\u001b[0m\u001b[1;33m.\u001b[0m\u001b[0mas_text\u001b[0m\u001b[1;33m(\u001b[0m\u001b[0me\u001b[0m\u001b[1;33m.\u001b[0m\u001b[0mmessage\u001b[0m\u001b[1;33m)\u001b[0m\u001b[1;33m\u001b[0m\u001b[0m\n",
      "\u001b[1;32m~\\Anaconda3\\lib\\site-packages\\tensorflow\\python\\client\\session.py\u001b[0m in \u001b[0;36m_run_fn\u001b[1;34m(session, feed_dict, fetch_list, target_list, options, run_metadata)\u001b[0m\n\u001b[0;32m   1300\u001b[0m           return tf_session.TF_Run(session, options,\n\u001b[0;32m   1301\u001b[0m                                    \u001b[0mfeed_dict\u001b[0m\u001b[1;33m,\u001b[0m \u001b[0mfetch_list\u001b[0m\u001b[1;33m,\u001b[0m \u001b[0mtarget_list\u001b[0m\u001b[1;33m,\u001b[0m\u001b[1;33m\u001b[0m\u001b[0m\n\u001b[1;32m-> 1302\u001b[1;33m                                    status, run_metadata)\n\u001b[0m\u001b[0;32m   1303\u001b[0m \u001b[1;33m\u001b[0m\u001b[0m\n\u001b[0;32m   1304\u001b[0m     \u001b[1;32mdef\u001b[0m \u001b[0m_prun_fn\u001b[0m\u001b[1;33m(\u001b[0m\u001b[0msession\u001b[0m\u001b[1;33m,\u001b[0m \u001b[0mhandle\u001b[0m\u001b[1;33m,\u001b[0m \u001b[0mfeed_dict\u001b[0m\u001b[1;33m,\u001b[0m \u001b[0mfetch_list\u001b[0m\u001b[1;33m)\u001b[0m\u001b[1;33m:\u001b[0m\u001b[1;33m\u001b[0m\u001b[0m\n",
      "\u001b[1;31mKeyboardInterrupt\u001b[0m: "
     ]
    }
   ],
   "source": [
    "# Create log file when starting training\n",
    "logfile = open(logfile_directory + logfile_name, \"w\")\n",
    "\n",
    "training_loss_list = []\n",
    "\n",
    "init = tf.global_variables_initializer()\n",
    "session.run(init)\n",
    "step = 0\n",
    "loss_total = 0\n",
    "\n",
    "start_time = time.time()\n",
    "\n",
    "while step < training_iters:\n",
    "    batch_x, batch_y = get_batch()\n",
    "\n",
    "    _, loss = session.run([optimizer, cost], feed_dict={x: batch_x, y: batch_y})\n",
    "    loss_total += loss\n",
    "    log = \"Iter=\" + str(step+1) + \", Average Loss={:.6f}, Time Elapsed={}\".format(loss, \n",
    "             seconds_to_minsecstr(int(time.time()-start_time)))\n",
    "    logfile.write(log + '\\n')\n",
    "    training_loss_list.append(loss)\n",
    "    \n",
    "    if (step+1) % display_step == 0:\n",
    "        display = \"Iter=\" + str(step+1) + \", Average Loss={:.6f}, Time Elapsed={}\".format(loss_total/display_step, \n",
    "             seconds_to_minsecstr(int(time.time()-start_time)))\n",
    "        print(display)\n",
    "        loss_total = 0\n",
    "    step += 1"
   ]
  },
  {
   "cell_type": "code",
   "execution_count": 22,
   "metadata": {
    "collapsed": true
   },
   "outputs": [],
   "source": [
    "logfile.close()"
   ]
  },
  {
   "cell_type": "markdown",
   "metadata": {},
   "source": [
    "### Plots"
   ]
  },
  {
   "cell_type": "code",
   "execution_count": 23,
   "metadata": {
    "scrolled": true
   },
   "outputs": [
    {
     "data": {
      "image/png": "[encoded data removed]",
      "text/plain": [
       "<matplotlib.figure.Figure at 0x24788ce7f60>"
      ]
     },
     "metadata": {},
     "output_type": "display_data"
    }
   ],
   "source": [
    "plt.plot(training_loss_list)\n",
    "plt.xlabel('Iteration')\n",
    "plt.title('Training loss over iterations')\n",
    "plt.show()"
   ]
  },
  {
   "cell_type": "markdown",
   "metadata": {},
   "source": [
    "## Generate music from trained model"
   ]
  },
  {
   "cell_type": "code",
   "execution_count": 80,
   "metadata": {
    "collapsed": true
   },
   "outputs": [],
   "source": [
    "N_GENERATED_NOTE_VECTORS = 1000\n",
    "temperature = 0.9"
   ]
  },
  {
   "cell_type": "code",
   "execution_count": 81,
   "metadata": {},
   "outputs": [
    {
     "data": {
      "text/plain": [
       "[<tf.Tensor 'rnn/rnn/multi_rnn_cell/cell_1/cell_1/basic_lstm_cell/mul_206:0' shape=(1, 512) dtype=float32>]"
      ]
     },
     "execution_count": 81,
     "metadata": {},
     "output_type": "execute_result"
    }
   ],
   "source": [
    "state_placeholder = tf.placeholder(tf.float32, [n_layers, 2, 1, n_hidden])\n",
    "l = tf.unstack(state_placeholder, 2, 0)\n",
    "rnn_tuple_state = tuple([tf.nn.rnn_cell.LSTMStateTuple(l[i][0], l[i][1]) for i in range(n_layers)])\n",
    "\n",
    "outputs_generation, states_generation = rnn.static_rnn(rnn_cell, [x_generation], \n",
    "                                                       initial_state=rnn_tuple_state, dtype=tf.float32)\n",
    "outputs_generation"
   ]
  },
  {
   "cell_type": "code",
   "execution_count": 82,
   "metadata": {},
   "outputs": [
    {
     "data": {
      "text/plain": [
       "<tf.Tensor 'xw_plus_b_68:0' shape=(1, 1120) dtype=float32>"
      ]
     },
     "execution_count": 82,
     "metadata": {},
     "output_type": "execute_result"
    }
   ],
   "source": [
    "logits_generation = tf.nn.xw_plus_b(outputs_generation[0], softmax_w, softmax_b)\n",
    "logits_generation"
   ]
  },
  {
   "cell_type": "code",
   "execution_count": 83,
   "metadata": {
    "collapsed": true
   },
   "outputs": [],
   "source": [
    "#seed_note = np.zeros(vocab_size)\n",
    "#seed_note[0] = 1\n",
    "seed_note = training_data[int(len(training_data)*np.random.random())][0]\n",
    "seed_note = np.reshape(seed_note, [1, vocab_size])"
   ]
  },
  {
   "cell_type": "code",
   "execution_count": 84,
   "metadata": {
    "scrolled": false
   },
   "outputs": [
    {
     "name": "stdout",
     "output_type": "stream",
     "text": [
      "Previous note: [55]\n",
      "Posterior probability: [  1.41509136e-05   2.42479928e-05   1.13654437e-06 ...,   1.07152169e-04\n",
      "   1.99783335e-05   6.91402843e-03]\n"
     ]
    },
    {
     "data": {
      "image/png": "[encoded data removed]",
      "text/plain": [
       "<matplotlib.figure.Figure at 0x2478ab47cf8>"
      ]
     },
     "metadata": {},
     "output_type": "display_data"
    },
    {
     "name": "stdout",
     "output_type": "stream",
     "text": [
      "Previous note: [ 1026.]\n",
      "Posterior probability: [  3.47362743e-08   1.59059709e-05   2.84606863e-08 ...,   1.02428066e-05\n",
      "   5.23913911e-07   1.27373296e-05]\n"
     ]
    },
    {
     "data": {
      "image/png": "[encoded data removed]",
      "text/plain": [
       "<matplotlib.figure.Figure at 0x2478aac2cc0>"
      ]
     },
     "metadata": {},
     "output_type": "display_data"
    },
    {
     "name": "stdout",
     "output_type": "stream",
     "text": [
      "Previous note: [ 567.]\n",
      "Posterior probability: [  3.56933100e-07   4.82322685e-06   1.61306986e-07 ...,   1.05496138e-05\n",
      "   8.91959587e-07   2.67245225e-04]\n"
     ]
    },
    {
     "data": {
      "image/png": "[encoded data removed]",
      "text/plain": [
       "<matplotlib.figure.Figure at 0x2478ac3b780>"
      ]
     },
     "metadata": {},
     "output_type": "display_data"
    },
    {
     "name": "stdout",
     "output_type": "stream",
     "text": [
      "Previous note: [ 1043.]\n",
      "Posterior probability: [  2.42930196e-06   4.90066959e-05   2.43934807e-07 ...,   1.14360273e-06\n",
      "   1.47120289e-07   5.52653717e-07]\n"
     ]
    },
    {
     "data": {
      "image/png": "[encoded data removed]",
      "text/plain": [
       "<matplotlib.figure.Figure at 0x2478adb16a0>"
      ]
     },
     "metadata": {},
     "output_type": "display_data"
    },
    {
     "name": "stdout",
     "output_type": "stream",
     "text": [
      "Previous note: [ 930.]\n",
      "Posterior probability: [  1.29886484e-08   2.21258531e-08   6.65309561e-12 ...,   1.25219231e-07\n",
      "   1.63987384e-08   1.62341639e-05]\n"
     ]
    },
    {
     "data": {
      "image/png": "[encoded data removed]",
      "text/plain": [
       "<matplotlib.figure.Figure at 0x2478aedc470>"
      ]
     },
     "metadata": {},
     "output_type": "display_data"
    }
   ],
   "source": [
    "generated_music = [seed_note]\n",
    "saved_state = np.zeros((n_layers, 2, 1, n_hidden))\n",
    "for i in range(N_GENERATED_NOTE_VECTORS):\n",
    "    onehot_pred, new_state = session.run([logits_generation, states_generation], \n",
    "                                         feed_dict={x_generation: generated_music[-1], state_placeholder: saved_state})\n",
    "    saved_state = new_state\n",
    "    next_note = np.zeros(vocab_size)\n",
    "    #index = np.argmax(onehot_pred, 1) # take max probability\n",
    "    softmax_cdf = np.exp(onehot_pred[0]/temperature)/np.sum(np.exp(onehot_pred[0]/temperature))\n",
    "    \n",
    "    if i < 5:\n",
    "        print(\"Previous note:\", generated_music[-1].dot(range(1120)))\n",
    "        print(\"Posterior probability:\", softmax_cdf)\n",
    "        plt.plot(softmax_cdf)\n",
    "        plt.show()\n",
    "        \n",
    "    index = np.random.choice(range(vocab_size), p=softmax_cdf) # choose probabilistically\n",
    "    \n",
    "    next_note[index] = 1\n",
    "    next_note = np.reshape(next_note, [1, vocab_size])\n",
    "    \n",
    "    generated_music.append(next_note)"
   ]
  },
  {
   "cell_type": "code",
   "execution_count": 85,
   "metadata": {},
   "outputs": [
    {
     "data": {
      "text/plain": [
       "array([   55.,  1026.,   567., ...,   830.,   325.,  1047.])"
      ]
     },
     "execution_count": 85,
     "metadata": {},
     "output_type": "execute_result"
    }
   ],
   "source": [
    "notes = np.array(generated_music).reshape(N_GENERATED_NOTE_VECTORS+1, vocab_size).dot(np.array(range(vocab_size)))\n",
    "notes"
   ]
  },
  {
   "cell_type": "markdown",
   "metadata": {},
   "source": [
    "### Convert generated music to midi"
   ]
  },
  {
   "cell_type": "code",
   "execution_count": 86,
   "metadata": {
    "collapsed": true
   },
   "outputs": [],
   "source": [
    "def get_track_sequences(vector_sequence):\n",
    "    \"\"\"Get note sequences for each track from vector sequence output from RNN.\n",
    "\n",
    "    Args:\n",
    "       vector_sequence: List of one-hot vectors containing 128 * NUM_TRACKS note_on events, 128 * NUM_TRACKS note_off events,\n",
    "        and NUM_TIMESHIFTS timeshift events in intervals of 1/96 of a beat each.\n",
    "       \n",
    "    Returns:\n",
    "        List of track vector sequences.\n",
    "    \"\"\"\n",
    "    track_sequences = [[] for _ in range(NUM_TRACKS)]\n",
    "    start_time = 0\n",
    "    for vector in vector_sequence:\n",
    "        index = vector.index(1)\n",
    "        # vector is a time event.\n",
    "        if index >= NUM_MIDI_PITCHES * 2 * NUM_TRACKS:\n",
    "            num_beats = (index - NUM_MIDI_PITCHES * 2 * NUM_TRACKS + 1) / NUM_TIMESHIFTS\n",
    "            start_time += num_beats\n",
    "        else:\n",
    "            # vector is a note_off event.\n",
    "            if index >= NUM_MIDI_PITCHES * NUM_TRACKS:\n",
    "                note_type = 'note_off'\n",
    "                index -= NUM_MIDI_PITCHES * NUM_TRACKS\n",
    "            # vector is a note_on event.\n",
    "            else:\n",
    "                note_type = 'note_on'\n",
    "            track_num = int(index / NUM_MIDI_PITCHES)\n",
    "            note = index % NUM_MIDI_PITCHES\n",
    "            track_sequences[track_num].append({\"type\": note_type, \"note\": note, \"start_time\": start_time})\n",
    "            time_delay = 0\n",
    "            \n",
    "    return track_sequences\n",
    "    "
   ]
  },
  {
   "cell_type": "code",
   "execution_count": 87,
   "metadata": {
    "collapsed": true
   },
   "outputs": [],
   "source": [
    "def get_midi_from_vector_sequence(track_sequences):\n",
    "    \"\"\"Get midi from track sequences.\n",
    "\n",
    "    Args:\n",
    "       track_sequences: List of vector sequences for each track.\n",
    "       \n",
    "    Returns:\n",
    "        MidiFile object.\n",
    "    \"\"\"\n",
    "    mid = mido.MidiFile()\n",
    "    tracks = [mido.MidiTrack() for _ in range(NUM_TRACKS)]\n",
    "    mid.tracks.extend(tracks)\n",
    "\n",
    "    for i, ts in enumerate(track_sequences):\n",
    "        prev_start_time = 0\n",
    "        for event in ts:\n",
    "            time = event[\"start_time\"] - prev_start_time\n",
    "            prev_start_time = event[\"start_time\"]\n",
    "            # I picked a random number for velocity.\n",
    "            mid.tracks[i].append(mido.Message(event[\"type\"], note=event[\"note\"], velocity=50,\n",
    "                                              time=int(time * TICKS_PER_BEAT)))\n",
    "    \n",
    "    return mid"
   ]
  },
  {
   "cell_type": "code",
   "execution_count": 88,
   "metadata": {},
   "outputs": [],
   "source": [
    "track_sequence = get_track_sequences([list(x[0]) for x in generated_music])"
   ]
  },
  {
   "cell_type": "code",
   "execution_count": 89,
   "metadata": {},
   "outputs": [
    {
     "data": {
      "text/plain": [
       "[{'note': 76, 'start_time': 0.23958333333333334, 'type': 'note_on'},\n",
       " {'note': 52, 'start_time': 1.3541666666666663, 'type': 'note_off'},\n",
       " {'note': 60, 'start_time': 1.9062499999999993, 'type': 'note_off'},\n",
       " {'note': 67, 'start_time': 1.9583333333333328, 'type': 'note_on'},\n",
       " {'note': 67, 'start_time': 1.9583333333333328, 'type': 'note_off'},\n",
       " {'note': 66, 'start_time': 1.9583333333333328, 'type': 'note_on'},\n",
       " {'note': 66, 'start_time': 1.9583333333333328, 'type': 'note_off'},\n",
       " {'note': 64, 'start_time': 1.9583333333333328, 'type': 'note_on'},\n",
       " {'note': 68, 'start_time': 1.9687499999999996, 'type': 'note_on'},\n",
       " {'note': 68, 'start_time': 1.9687499999999996, 'type': 'note_off'},\n",
       " {'note': 69, 'start_time': 1.9687499999999996, 'type': 'note_on'},\n",
       " {'note': 69, 'start_time': 1.9687499999999996, 'type': 'note_off'},\n",
       " {'note': 66, 'start_time': 1.9687499999999996, 'type': 'note_on'},\n",
       " {'note': 66, 'start_time': 1.9687499999999996, 'type': 'note_off'},\n",
       " {'note': 66, 'start_time': 1.9687499999999996, 'type': 'note_on'},\n",
       " {'note': 66, 'start_time': 1.9791666666666663, 'type': 'note_off'},\n",
       " {'note': 61, 'start_time': 1.9791666666666663, 'type': 'note_on'},\n",
       " {'note': 61, 'start_time': 1.9999999999999998, 'type': 'note_off'},\n",
       " {'note': 66, 'start_time': 2.6041666666666665, 'type': 'note_on'},\n",
       " {'note': 66, 'start_time': 2.6041666666666665, 'type': 'note_off'},\n",
       " {'note': 66, 'start_time': 2.6354166666666665, 'type': 'note_off'},\n",
       " {'note': 59, 'start_time': 4.354166666666666, 'type': 'note_off'},\n",
       " {'note': 61, 'start_time': 4.354166666666666, 'type': 'note_on'},\n",
       " {'note': 59, 'start_time': 4.854166666666666, 'type': 'note_on'},\n",
       " {'note': 67, 'start_time': 6.114583333333333, 'type': 'note_on'},\n",
       " {'note': 67, 'start_time': 6.364583333333333, 'type': 'note_off'},\n",
       " {'note': 67, 'start_time': 6.364583333333333, 'type': 'note_on'},\n",
       " {'note': 67, 'start_time': 6.614583333333333, 'type': 'note_off'},\n",
       " {'note': 67, 'start_time': 6.864583333333333, 'type': 'note_on'},\n",
       " {'note': 67, 'start_time': 7.364583333333333, 'type': 'note_off'},\n",
       " {'note': 67, 'start_time': 31.364583333333332, 'type': 'note_on'},\n",
       " {'note': 67, 'start_time': 31.864583333333332, 'type': 'note_off'},\n",
       " {'note': 67, 'start_time': 31.864583333333332, 'type': 'note_on'},\n",
       " {'note': 67, 'start_time': 32.11458333333333, 'type': 'note_off'},\n",
       " {'note': 74, 'start_time': 32.36458333333333, 'type': 'note_on'},\n",
       " {'note': 74, 'start_time': 32.86458333333333, 'type': 'note_off'},\n",
       " {'note': 76, 'start_time': 32.86458333333333, 'type': 'note_on'},\n",
       " {'note': 67, 'start_time': 33.11458333333333, 'type': 'note_off'},\n",
       " {'note': 62, 'start_time': 33.11458333333333, 'type': 'note_on'},\n",
       " {'note': 62, 'start_time': 33.36458333333333, 'type': 'note_off'},\n",
       " {'note': 69, 'start_time': 33.36458333333333, 'type': 'note_on'},\n",
       " {'note': 69, 'start_time': 33.61458333333333, 'type': 'note_off'},\n",
       " {'note': 69, 'start_time': 33.61458333333333, 'type': 'note_on'},\n",
       " {'note': 69, 'start_time': 33.86458333333333, 'type': 'note_off'},\n",
       " {'note': 69, 'start_time': 33.86458333333333, 'type': 'note_on'},\n",
       " {'note': 69, 'start_time': 34.11458333333333, 'type': 'note_off'},\n",
       " {'note': 69, 'start_time': 34.11458333333333, 'type': 'note_on'},\n",
       " {'note': 69, 'start_time': 34.36458333333333, 'type': 'note_off'},\n",
       " {'note': 71, 'start_time': 34.36458333333333, 'type': 'note_on'},\n",
       " {'note': 71, 'start_time': 34.61458333333333, 'type': 'note_off'},\n",
       " {'note': 64, 'start_time': 34.61458333333333, 'type': 'note_on'},\n",
       " {'note': 76, 'start_time': 34.86458333333333, 'type': 'note_off'},\n",
       " {'note': 69, 'start_time': 34.86458333333333, 'type': 'note_on'},\n",
       " {'note': 69, 'start_time': 35.11458333333333, 'type': 'note_off'},\n",
       " {'note': 70, 'start_time': 35.11458333333333, 'type': 'note_on'},\n",
       " {'note': 70, 'start_time': 35.36458333333333, 'type': 'note_off'},\n",
       " {'note': 69, 'start_time': 35.36458333333333, 'type': 'note_on'},\n",
       " {'note': 66, 'start_time': 35.61458333333333, 'type': 'note_off'},\n",
       " {'note': 67, 'start_time': 35.61458333333333, 'type': 'note_on'},\n",
       " {'note': 67, 'start_time': 35.86458333333333, 'type': 'note_off'},\n",
       " {'note': 67, 'start_time': 35.86458333333333, 'type': 'note_on'},\n",
       " {'note': 67, 'start_time': 36.11458333333333, 'type': 'note_off'},\n",
       " {'note': 69, 'start_time': 36.11458333333333, 'type': 'note_on'},\n",
       " {'note': 69, 'start_time': 36.36458333333333, 'type': 'note_off'},\n",
       " {'note': 69, 'start_time': 36.86458333333333, 'type': 'note_on'},\n",
       " {'note': 69, 'start_time': 37.11458333333333, 'type': 'note_off'},\n",
       " {'note': 69, 'start_time': 37.62499999999999, 'type': 'note_on'},\n",
       " {'note': 69, 'start_time': 37.87499999999999, 'type': 'note_off'},\n",
       " {'note': 66, 'start_time': 38.37499999999999, 'type': 'note_on'},\n",
       " {'note': 66, 'start_time': 38.62499999999999, 'type': 'note_off'},\n",
       " {'note': 64, 'start_time': 38.62499999999999, 'type': 'note_on'},\n",
       " {'note': 64, 'start_time': 39.10416666666666, 'type': 'note_off'},\n",
       " {'note': 62, 'start_time': 39.10416666666666, 'type': 'note_on'},\n",
       " {'note': 62, 'start_time': 39.35416666666666, 'type': 'note_off'},\n",
       " {'note': 60, 'start_time': 39.35416666666666, 'type': 'note_on'},\n",
       " {'note': 60, 'start_time': 39.60416666666666, 'type': 'note_off'},\n",
       " {'note': 62, 'start_time': 39.60416666666666, 'type': 'note_on'},\n",
       " {'note': 62, 'start_time': 39.81249999999999, 'type': 'note_off'},\n",
       " {'note': 64, 'start_time': 39.84374999999999, 'type': 'note_on'},\n",
       " {'note': 60, 'start_time': 40.09374999999999, 'type': 'note_off'},\n",
       " {'note': 62, 'start_time': 40.09374999999999, 'type': 'note_on'},\n",
       " {'note': 62, 'start_time': 40.34374999999999, 'type': 'note_off'},\n",
       " {'note': 65, 'start_time': 40.34374999999999, 'type': 'note_on'},\n",
       " {'note': 65, 'start_time': 40.59374999999999, 'type': 'note_off'},\n",
       " {'note': 67, 'start_time': 40.59374999999999, 'type': 'note_on'},\n",
       " {'note': 67, 'start_time': 40.84374999999999, 'type': 'note_off'},\n",
       " {'note': 67, 'start_time': 41.09374999999999, 'type': 'note_on'},\n",
       " {'note': 67, 'start_time': 41.34374999999999, 'type': 'note_off'},\n",
       " {'note': 67, 'start_time': 41.34374999999999, 'type': 'note_on'},\n",
       " {'note': 67, 'start_time': 41.59374999999999, 'type': 'note_off'},\n",
       " {'note': 69, 'start_time': 41.60416666666666, 'type': 'note_on'},\n",
       " {'note': 67, 'start_time': 41.67708333333332, 'type': 'note_off'},\n",
       " {'note': 67, 'start_time': 41.76041666666666, 'type': 'note_on'},\n",
       " {'note': 74, 'start_time': 41.83333333333332, 'type': 'note_on'},\n",
       " {'note': 67, 'start_time': 41.906249999999986, 'type': 'note_off'},\n",
       " {'note': 74, 'start_time': 42.145833333333314, 'type': 'note_off'},\n",
       " {'note': 77, 'start_time': 42.145833333333314, 'type': 'note_on'},\n",
       " {'note': 77, 'start_time': 42.56249999999997, 'type': 'note_off'},\n",
       " {'note': 76, 'start_time': 42.56249999999997, 'type': 'note_on'},\n",
       " {'note': 76, 'start_time': 42.7083333333333, 'type': 'note_off'},\n",
       " {'note': 74, 'start_time': 44.124999999999964, 'type': 'note_off'},\n",
       " {'note': 69, 'start_time': 44.374999999999964, 'type': 'note_off'},\n",
       " {'note': 77, 'start_time': 44.374999999999964, 'type': 'note_on'},\n",
       " {'note': 77, 'start_time': 44.374999999999964, 'type': 'note_on'},\n",
       " {'note': 77, 'start_time': 44.624999999999964, 'type': 'note_off'},\n",
       " {'note': 77, 'start_time': 44.624999999999964, 'type': 'note_off'},\n",
       " {'note': 76, 'start_time': 44.624999999999964, 'type': 'note_on'},\n",
       " {'note': 76, 'start_time': 44.874999999999964, 'type': 'note_off'},\n",
       " {'note': 62, 'start_time': 45.374999999999964, 'type': 'note_on'},\n",
       " {'note': 60, 'start_time': 46.09374999999997, 'type': 'note_off'}]"
      ]
     },
     "execution_count": 89,
     "metadata": {},
     "output_type": "execute_result"
    }
   ],
   "source": [
    "track_sequence[1]"
   ]
  },
  {
   "cell_type": "code",
   "execution_count": 91,
   "metadata": {},
   "outputs": [
    {
     "data": {
      "text/plain": [
       "<midi file None type 1, 4 tracks, 747 messages>"
      ]
     },
     "execution_count": 91,
     "metadata": {},
     "output_type": "execute_result"
    }
   ],
   "source": [
    "midi = get_midi_from_vector_sequence(track_sequence)\n",
    "midi"
   ]
  },
  {
   "cell_type": "markdown",
   "metadata": {},
   "source": [
    "# Save midi"
   ]
  },
  {
   "cell_type": "code",
   "execution_count": 92,
   "metadata": {
    "collapsed": true
   },
   "outputs": [],
   "source": [
    "generation_output = \"generated_music/\""
   ]
  },
  {
   "cell_type": "code",
   "execution_count": 93,
   "metadata": {},
   "outputs": [
    {
     "data": {
      "text/plain": [
       "'Generated Music (Date=2017-11-12 03.38, NTraining=426, NHidden=512, Batch=10, LR=0.001, Length=1000, Temperature=0.9).mid'"
      ]
     },
     "execution_count": 93,
     "metadata": {},
     "output_type": "execute_result"
    }
   ],
   "source": [
    "midi_name = \"Generated Music (Date={}, NTraining={}, NHidden={}, Batch={}, LR={}, Length={}, Temperature={}).mid\". \\\n",
    "    format(date, len(training_data), n_hidden, batch_size, learning_rate, N_GENERATED_NOTE_VECTORS, temperature)\n",
    "midi_name"
   ]
  },
  {
   "cell_type": "code",
   "execution_count": 94,
   "metadata": {
    "collapsed": true
   },
   "outputs": [],
   "source": [
    "midi.save(generation_output + midi_name)"
   ]
  }
 ],
 "metadata": {
  "kernelspec": {
   "display_name": "Python 3",
   "language": "python",
   "name": "python3"
  },
  "language_info": {
   "codemirror_mode": {
    "name": "ipython",
    "version": 3
   },
   "file_extension": ".py",
   "mimetype": "text/x-python",
   "name": "python",
   "nbconvert_exporter": "python",
   "pygments_lexer": "ipython3",
   "version": "3.6.2"
  }
 },
 "nbformat": 4,
 "nbformat_minor": 2
}
