{
 "cells": [
  {
   "cell_type": "code",
   "execution_count": 1,
   "metadata": {
    "collapsed": true
   },
   "outputs": [],
   "source": [
    "import mido\n",
    "import os\n",
    "import numpy as np\n",
    "from scipy import stats\n",
    "from os import listdir\n",
    "from os.path import isfile, join\n",
    "import tensorflow as tf\n",
    "from tensorflow.contrib import rnn\n",
    "import time\n",
    "\n",
    "import matplotlib.pyplot as plt\n",
    "from pylab import rcParams\n",
    "rcParams['figure.figsize'] = (12, 8)"
   ]
  },
  {
   "cell_type": "code",
   "execution_count": 2,
   "metadata": {
    "collapsed": true
   },
   "outputs": [],
   "source": [
    "TICKS_PER_BEAT = 480\n",
    "TEMPO = int(mido.bpm2tempo(120))"
   ]
  },
  {
   "cell_type": "code",
   "execution_count": 3,
   "metadata": {
    "collapsed": true
   },
   "outputs": [],
   "source": [
    "%run get_training_data.py"
   ]
  },
  {
   "cell_type": "markdown",
   "metadata": {},
   "source": [
    "### Create training data"
   ]
  },
  {
   "cell_type": "code",
   "execution_count": 4,
   "metadata": {
    "collapsed": true
   },
   "outputs": [],
   "source": [
    "def get_training_data(num):\n",
    "    \"\"\"Generate training data array for all files in \"midis_processed/\" directory.\n",
    "       \n",
    "    Returns:\n",
    "        Numpy array of training data.\n",
    "    \"\"\"\n",
    "    training_data = []\n",
    "    for filename in os.listdir('midis_processed/')[:num]:\n",
    "        if filename.endswith(\".mid\"):\n",
    "            vector = midi_to_vector('midis_processed/' + filename)\n",
    "            if len(vector) > 50:\n",
    "                training_data.append(vector)\n",
    "            else:\n",
    "                print(\"Faulty training data: \" + filename + \". len(vector)=\" + str(len(vector)))\n",
    "    return np.array(training_data)"
   ]
  },
  {
   "cell_type": "code",
   "execution_count": 5,
   "metadata": {
    "scrolled": true
   },
   "outputs": [
    {
     "name": "stdout",
     "output_type": "stream",
     "text": [
      "Faulty training data: Adventure_Island_II-Eggplant.mid. len(vector)=0\n",
      "Faulty training data: Adventure_Island_II-Game_Over.mid. len(vector)=0\n",
      "Faulty training data: Adventure_Island_II-Victory.mid. len(vector)=0\n",
      "Faulty training data: Alfred_Chicken_Level_1.mid. len(vector)=0\n",
      "Faulty training data: alien3sb.mid. len(vector)=0\n",
      "Faulty training data: alphago.mid. len(vector)=0\n",
      "Faulty training data: Amagon-Death.mid. len(vector)=0\n",
      "Faulty training data: Amagon-Start_2.mid. len(vector)=0\n"
     ]
    }
   ],
   "source": [
    "training_data = get_training_data(100)"
   ]
  },
  {
   "cell_type": "code",
   "execution_count": null,
   "metadata": {
    "collapsed": true
   },
   "outputs": [],
   "source": [
    "training_data = np.array([np.array(x) for x in training_data])\n",
    "training_data"
   ]
  },
  {
   "cell_type": "markdown",
   "metadata": {},
   "source": [
    "### Parameters"
   ]
  },
  {
   "cell_type": "code",
   "execution_count": 7,
   "metadata": {},
   "outputs": [
    {
     "data": {
      "text/plain": [
       "1124"
      ]
     },
     "execution_count": 7,
     "metadata": {},
     "output_type": "execute_result"
    }
   ],
   "source": [
    "vocab_size = len(training_data[0][0])\n",
    "vocab_size"
   ]
  },
  {
   "cell_type": "code",
   "execution_count": 8,
   "metadata": {
    "collapsed": true
   },
   "outputs": [],
   "source": [
    "# Parameters\n",
    "learning_rate = 0.001\n",
    "training_iters = 5000\n",
    "display_step = 10\n",
    "n_input = 50\n",
    "\n",
    "# number of units in RNN cell\n",
    "n_hidden = 512\n",
    "\n",
    "# tf Graph input\n",
    "x = tf.placeholder(\"float\", [n_input, vocab_size])\n",
    "y = tf.placeholder(\"int32\", [1, n_input])\n",
    "\n",
    "# RNN output node weights and biases\n",
    "softmax_w = tf.Variable(tf.random_normal([n_hidden, vocab_size]))\n",
    "softmax_b = tf.Variable(tf.random_normal([vocab_size]))\n",
    "\n",
    "max_grad_norm = 5"
   ]
  },
  {
   "cell_type": "code",
   "execution_count": 9,
   "metadata": {
    "collapsed": true
   },
   "outputs": [],
   "source": [
    "# tf Graph generative input\n",
    "x_generation = tf.placeholder(\"float\", [1, vocab_size])"
   ]
  },
  {
   "cell_type": "markdown",
   "metadata": {},
   "source": [
    "## Create tensor flow graph"
   ]
  },
  {
   "cell_type": "code",
   "execution_count": 10,
   "metadata": {
    "collapsed": true
   },
   "outputs": [],
   "source": [
    "rnn_cell = rnn.MultiRNNCell([rnn.BasicLSTMCell(n_hidden),rnn.BasicLSTMCell(n_hidden)])"
   ]
  },
  {
   "cell_type": "code",
   "execution_count": 11,
   "metadata": {},
   "outputs": [
    {
     "data": {
      "text/plain": [
       "[<tf.Tensor 'split:0' shape=(1, 1124) dtype=float32>,\n",
       " <tf.Tensor 'split:1' shape=(1, 1124) dtype=float32>,\n",
       " <tf.Tensor 'split:2' shape=(1, 1124) dtype=float32>,\n",
       " <tf.Tensor 'split:3' shape=(1, 1124) dtype=float32>,\n",
       " <tf.Tensor 'split:4' shape=(1, 1124) dtype=float32>,\n",
       " <tf.Tensor 'split:5' shape=(1, 1124) dtype=float32>,\n",
       " <tf.Tensor 'split:6' shape=(1, 1124) dtype=float32>,\n",
       " <tf.Tensor 'split:7' shape=(1, 1124) dtype=float32>,\n",
       " <tf.Tensor 'split:8' shape=(1, 1124) dtype=float32>,\n",
       " <tf.Tensor 'split:9' shape=(1, 1124) dtype=float32>,\n",
       " <tf.Tensor 'split:10' shape=(1, 1124) dtype=float32>,\n",
       " <tf.Tensor 'split:11' shape=(1, 1124) dtype=float32>,\n",
       " <tf.Tensor 'split:12' shape=(1, 1124) dtype=float32>,\n",
       " <tf.Tensor 'split:13' shape=(1, 1124) dtype=float32>,\n",
       " <tf.Tensor 'split:14' shape=(1, 1124) dtype=float32>,\n",
       " <tf.Tensor 'split:15' shape=(1, 1124) dtype=float32>,\n",
       " <tf.Tensor 'split:16' shape=(1, 1124) dtype=float32>,\n",
       " <tf.Tensor 'split:17' shape=(1, 1124) dtype=float32>,\n",
       " <tf.Tensor 'split:18' shape=(1, 1124) dtype=float32>,\n",
       " <tf.Tensor 'split:19' shape=(1, 1124) dtype=float32>,\n",
       " <tf.Tensor 'split:20' shape=(1, 1124) dtype=float32>,\n",
       " <tf.Tensor 'split:21' shape=(1, 1124) dtype=float32>,\n",
       " <tf.Tensor 'split:22' shape=(1, 1124) dtype=float32>,\n",
       " <tf.Tensor 'split:23' shape=(1, 1124) dtype=float32>,\n",
       " <tf.Tensor 'split:24' shape=(1, 1124) dtype=float32>,\n",
       " <tf.Tensor 'split:25' shape=(1, 1124) dtype=float32>,\n",
       " <tf.Tensor 'split:26' shape=(1, 1124) dtype=float32>,\n",
       " <tf.Tensor 'split:27' shape=(1, 1124) dtype=float32>,\n",
       " <tf.Tensor 'split:28' shape=(1, 1124) dtype=float32>,\n",
       " <tf.Tensor 'split:29' shape=(1, 1124) dtype=float32>,\n",
       " <tf.Tensor 'split:30' shape=(1, 1124) dtype=float32>,\n",
       " <tf.Tensor 'split:31' shape=(1, 1124) dtype=float32>,\n",
       " <tf.Tensor 'split:32' shape=(1, 1124) dtype=float32>,\n",
       " <tf.Tensor 'split:33' shape=(1, 1124) dtype=float32>,\n",
       " <tf.Tensor 'split:34' shape=(1, 1124) dtype=float32>,\n",
       " <tf.Tensor 'split:35' shape=(1, 1124) dtype=float32>,\n",
       " <tf.Tensor 'split:36' shape=(1, 1124) dtype=float32>,\n",
       " <tf.Tensor 'split:37' shape=(1, 1124) dtype=float32>,\n",
       " <tf.Tensor 'split:38' shape=(1, 1124) dtype=float32>,\n",
       " <tf.Tensor 'split:39' shape=(1, 1124) dtype=float32>,\n",
       " <tf.Tensor 'split:40' shape=(1, 1124) dtype=float32>,\n",
       " <tf.Tensor 'split:41' shape=(1, 1124) dtype=float32>,\n",
       " <tf.Tensor 'split:42' shape=(1, 1124) dtype=float32>,\n",
       " <tf.Tensor 'split:43' shape=(1, 1124) dtype=float32>,\n",
       " <tf.Tensor 'split:44' shape=(1, 1124) dtype=float32>,\n",
       " <tf.Tensor 'split:45' shape=(1, 1124) dtype=float32>,\n",
       " <tf.Tensor 'split:46' shape=(1, 1124) dtype=float32>,\n",
       " <tf.Tensor 'split:47' shape=(1, 1124) dtype=float32>,\n",
       " <tf.Tensor 'split:48' shape=(1, 1124) dtype=float32>,\n",
       " <tf.Tensor 'split:49' shape=(1, 1124) dtype=float32>]"
      ]
     },
     "execution_count": 11,
     "metadata": {},
     "output_type": "execute_result"
    }
   ],
   "source": [
    "x_split = tf.split(x, n_input, 0)\n",
    "x_split"
   ]
  },
  {
   "cell_type": "code",
   "execution_count": 12,
   "metadata": {},
   "outputs": [
    {
     "data": {
      "text/plain": [
       "[<tf.Tensor 'rnn/rnn/multi_rnn_cell/cell_1/cell_1/basic_lstm_cell/mul_2:0' shape=(1, 512) dtype=float32>,\n",
       " <tf.Tensor 'rnn/rnn/multi_rnn_cell/cell_1/cell_1/basic_lstm_cell/mul_5:0' shape=(1, 512) dtype=float32>,\n",
       " <tf.Tensor 'rnn/rnn/multi_rnn_cell/cell_1/cell_1/basic_lstm_cell/mul_8:0' shape=(1, 512) dtype=float32>,\n",
       " <tf.Tensor 'rnn/rnn/multi_rnn_cell/cell_1/cell_1/basic_lstm_cell/mul_11:0' shape=(1, 512) dtype=float32>,\n",
       " <tf.Tensor 'rnn/rnn/multi_rnn_cell/cell_1/cell_1/basic_lstm_cell/mul_14:0' shape=(1, 512) dtype=float32>,\n",
       " <tf.Tensor 'rnn/rnn/multi_rnn_cell/cell_1/cell_1/basic_lstm_cell/mul_17:0' shape=(1, 512) dtype=float32>,\n",
       " <tf.Tensor 'rnn/rnn/multi_rnn_cell/cell_1/cell_1/basic_lstm_cell/mul_20:0' shape=(1, 512) dtype=float32>,\n",
       " <tf.Tensor 'rnn/rnn/multi_rnn_cell/cell_1/cell_1/basic_lstm_cell/mul_23:0' shape=(1, 512) dtype=float32>,\n",
       " <tf.Tensor 'rnn/rnn/multi_rnn_cell/cell_1/cell_1/basic_lstm_cell/mul_26:0' shape=(1, 512) dtype=float32>,\n",
       " <tf.Tensor 'rnn/rnn/multi_rnn_cell/cell_1/cell_1/basic_lstm_cell/mul_29:0' shape=(1, 512) dtype=float32>,\n",
       " <tf.Tensor 'rnn/rnn/multi_rnn_cell/cell_1/cell_1/basic_lstm_cell/mul_32:0' shape=(1, 512) dtype=float32>,\n",
       " <tf.Tensor 'rnn/rnn/multi_rnn_cell/cell_1/cell_1/basic_lstm_cell/mul_35:0' shape=(1, 512) dtype=float32>,\n",
       " <tf.Tensor 'rnn/rnn/multi_rnn_cell/cell_1/cell_1/basic_lstm_cell/mul_38:0' shape=(1, 512) dtype=float32>,\n",
       " <tf.Tensor 'rnn/rnn/multi_rnn_cell/cell_1/cell_1/basic_lstm_cell/mul_41:0' shape=(1, 512) dtype=float32>,\n",
       " <tf.Tensor 'rnn/rnn/multi_rnn_cell/cell_1/cell_1/basic_lstm_cell/mul_44:0' shape=(1, 512) dtype=float32>,\n",
       " <tf.Tensor 'rnn/rnn/multi_rnn_cell/cell_1/cell_1/basic_lstm_cell/mul_47:0' shape=(1, 512) dtype=float32>,\n",
       " <tf.Tensor 'rnn/rnn/multi_rnn_cell/cell_1/cell_1/basic_lstm_cell/mul_50:0' shape=(1, 512) dtype=float32>,\n",
       " <tf.Tensor 'rnn/rnn/multi_rnn_cell/cell_1/cell_1/basic_lstm_cell/mul_53:0' shape=(1, 512) dtype=float32>,\n",
       " <tf.Tensor 'rnn/rnn/multi_rnn_cell/cell_1/cell_1/basic_lstm_cell/mul_56:0' shape=(1, 512) dtype=float32>,\n",
       " <tf.Tensor 'rnn/rnn/multi_rnn_cell/cell_1/cell_1/basic_lstm_cell/mul_59:0' shape=(1, 512) dtype=float32>,\n",
       " <tf.Tensor 'rnn/rnn/multi_rnn_cell/cell_1/cell_1/basic_lstm_cell/mul_62:0' shape=(1, 512) dtype=float32>,\n",
       " <tf.Tensor 'rnn/rnn/multi_rnn_cell/cell_1/cell_1/basic_lstm_cell/mul_65:0' shape=(1, 512) dtype=float32>,\n",
       " <tf.Tensor 'rnn/rnn/multi_rnn_cell/cell_1/cell_1/basic_lstm_cell/mul_68:0' shape=(1, 512) dtype=float32>,\n",
       " <tf.Tensor 'rnn/rnn/multi_rnn_cell/cell_1/cell_1/basic_lstm_cell/mul_71:0' shape=(1, 512) dtype=float32>,\n",
       " <tf.Tensor 'rnn/rnn/multi_rnn_cell/cell_1/cell_1/basic_lstm_cell/mul_74:0' shape=(1, 512) dtype=float32>,\n",
       " <tf.Tensor 'rnn/rnn/multi_rnn_cell/cell_1/cell_1/basic_lstm_cell/mul_77:0' shape=(1, 512) dtype=float32>,\n",
       " <tf.Tensor 'rnn/rnn/multi_rnn_cell/cell_1/cell_1/basic_lstm_cell/mul_80:0' shape=(1, 512) dtype=float32>,\n",
       " <tf.Tensor 'rnn/rnn/multi_rnn_cell/cell_1/cell_1/basic_lstm_cell/mul_83:0' shape=(1, 512) dtype=float32>,\n",
       " <tf.Tensor 'rnn/rnn/multi_rnn_cell/cell_1/cell_1/basic_lstm_cell/mul_86:0' shape=(1, 512) dtype=float32>,\n",
       " <tf.Tensor 'rnn/rnn/multi_rnn_cell/cell_1/cell_1/basic_lstm_cell/mul_89:0' shape=(1, 512) dtype=float32>,\n",
       " <tf.Tensor 'rnn/rnn/multi_rnn_cell/cell_1/cell_1/basic_lstm_cell/mul_92:0' shape=(1, 512) dtype=float32>,\n",
       " <tf.Tensor 'rnn/rnn/multi_rnn_cell/cell_1/cell_1/basic_lstm_cell/mul_95:0' shape=(1, 512) dtype=float32>,\n",
       " <tf.Tensor 'rnn/rnn/multi_rnn_cell/cell_1/cell_1/basic_lstm_cell/mul_98:0' shape=(1, 512) dtype=float32>,\n",
       " <tf.Tensor 'rnn/rnn/multi_rnn_cell/cell_1/cell_1/basic_lstm_cell/mul_101:0' shape=(1, 512) dtype=float32>,\n",
       " <tf.Tensor 'rnn/rnn/multi_rnn_cell/cell_1/cell_1/basic_lstm_cell/mul_104:0' shape=(1, 512) dtype=float32>,\n",
       " <tf.Tensor 'rnn/rnn/multi_rnn_cell/cell_1/cell_1/basic_lstm_cell/mul_107:0' shape=(1, 512) dtype=float32>,\n",
       " <tf.Tensor 'rnn/rnn/multi_rnn_cell/cell_1/cell_1/basic_lstm_cell/mul_110:0' shape=(1, 512) dtype=float32>,\n",
       " <tf.Tensor 'rnn/rnn/multi_rnn_cell/cell_1/cell_1/basic_lstm_cell/mul_113:0' shape=(1, 512) dtype=float32>,\n",
       " <tf.Tensor 'rnn/rnn/multi_rnn_cell/cell_1/cell_1/basic_lstm_cell/mul_116:0' shape=(1, 512) dtype=float32>,\n",
       " <tf.Tensor 'rnn/rnn/multi_rnn_cell/cell_1/cell_1/basic_lstm_cell/mul_119:0' shape=(1, 512) dtype=float32>,\n",
       " <tf.Tensor 'rnn/rnn/multi_rnn_cell/cell_1/cell_1/basic_lstm_cell/mul_122:0' shape=(1, 512) dtype=float32>,\n",
       " <tf.Tensor 'rnn/rnn/multi_rnn_cell/cell_1/cell_1/basic_lstm_cell/mul_125:0' shape=(1, 512) dtype=float32>,\n",
       " <tf.Tensor 'rnn/rnn/multi_rnn_cell/cell_1/cell_1/basic_lstm_cell/mul_128:0' shape=(1, 512) dtype=float32>,\n",
       " <tf.Tensor 'rnn/rnn/multi_rnn_cell/cell_1/cell_1/basic_lstm_cell/mul_131:0' shape=(1, 512) dtype=float32>,\n",
       " <tf.Tensor 'rnn/rnn/multi_rnn_cell/cell_1/cell_1/basic_lstm_cell/mul_134:0' shape=(1, 512) dtype=float32>,\n",
       " <tf.Tensor 'rnn/rnn/multi_rnn_cell/cell_1/cell_1/basic_lstm_cell/mul_137:0' shape=(1, 512) dtype=float32>,\n",
       " <tf.Tensor 'rnn/rnn/multi_rnn_cell/cell_1/cell_1/basic_lstm_cell/mul_140:0' shape=(1, 512) dtype=float32>,\n",
       " <tf.Tensor 'rnn/rnn/multi_rnn_cell/cell_1/cell_1/basic_lstm_cell/mul_143:0' shape=(1, 512) dtype=float32>,\n",
       " <tf.Tensor 'rnn/rnn/multi_rnn_cell/cell_1/cell_1/basic_lstm_cell/mul_146:0' shape=(1, 512) dtype=float32>,\n",
       " <tf.Tensor 'rnn/rnn/multi_rnn_cell/cell_1/cell_1/basic_lstm_cell/mul_149:0' shape=(1, 512) dtype=float32>]"
      ]
     },
     "execution_count": 12,
     "metadata": {},
     "output_type": "execute_result"
    }
   ],
   "source": [
    "outputs, states = rnn.static_rnn(rnn_cell, x_split, dtype=tf.float32)\n",
    "outputs"
   ]
  },
  {
   "cell_type": "code",
   "execution_count": 13,
   "metadata": {
    "collapsed": true
   },
   "outputs": [],
   "source": [
    "logits = [tf.nn.xw_plus_b(output, softmax_w, softmax_b) for output in outputs]"
   ]
  },
  {
   "cell_type": "code",
   "execution_count": 14,
   "metadata": {},
   "outputs": [
    {
     "data": {
      "text/plain": [
       "<tf.Tensor 'Reshape:0' shape=(1, 50, 1124) dtype=float32>"
      ]
     },
     "execution_count": 14,
     "metadata": {},
     "output_type": "execute_result"
    }
   ],
   "source": [
    "logits = tf.reshape(logits, [1, n_input, vocab_size])\n",
    "logits"
   ]
  },
  {
   "cell_type": "code",
   "execution_count": 15,
   "metadata": {},
   "outputs": [
    {
     "data": {
      "text/plain": [
       "<tf.Tensor 'sequence_loss/truediv:0' shape=(50,) dtype=float32>"
      ]
     },
     "execution_count": 15,
     "metadata": {},
     "output_type": "execute_result"
    }
   ],
   "source": [
    "loss = tf.contrib.seq2seq.sequence_loss(logits, y, weights=tf.ones([1, n_input], dtype=tf.float32), # check this\n",
    "                                        average_across_timesteps=False, average_across_batch=True)\n",
    "loss"
   ]
  },
  {
   "cell_type": "code",
   "execution_count": 16,
   "metadata": {},
   "outputs": [
    {
     "data": {
      "text/plain": [
       "<tf.Tensor 'Sum:0' shape=() dtype=float32>"
      ]
     },
     "execution_count": 16,
     "metadata": {},
     "output_type": "execute_result"
    }
   ],
   "source": [
    "cost = tf.reduce_sum(loss)\n",
    "cost"
   ]
  },
  {
   "cell_type": "code",
   "execution_count": 17,
   "metadata": {},
   "outputs": [
    {
     "data": {
      "text/plain": [
       "<tf.Operation 'RMSProp' type=NoOp>"
      ]
     },
     "execution_count": 17,
     "metadata": {},
     "output_type": "execute_result"
    }
   ],
   "source": [
    "optimizer = tf.train.RMSPropOptimizer(learning_rate=learning_rate).minimize(cost)\n",
    "optimizer"
   ]
  },
  {
   "cell_type": "code",
   "execution_count": 18,
   "metadata": {},
   "outputs": [
    {
     "data": {
      "text/plain": [
       "[<tf.Variable 'Variable:0' shape=(512, 1124) dtype=float32_ref>,\n",
       " <tf.Variable 'Variable_1:0' shape=(1124,) dtype=float32_ref>,\n",
       " <tf.Variable 'rnn/multi_rnn_cell/cell_0/basic_lstm_cell/kernel:0' shape=(1636, 2048) dtype=float32_ref>,\n",
       " <tf.Variable 'rnn/multi_rnn_cell/cell_0/basic_lstm_cell/bias:0' shape=(2048,) dtype=float32_ref>,\n",
       " <tf.Variable 'rnn/multi_rnn_cell/cell_1/basic_lstm_cell/kernel:0' shape=(1024, 2048) dtype=float32_ref>,\n",
       " <tf.Variable 'rnn/multi_rnn_cell/cell_1/basic_lstm_cell/bias:0' shape=(2048,) dtype=float32_ref>]"
      ]
     },
     "execution_count": 18,
     "metadata": {},
     "output_type": "execute_result"
    }
   ],
   "source": [
    "tvars = tf.trainable_variables()\n",
    "tvars"
   ]
  },
  {
   "cell_type": "markdown",
   "metadata": {},
   "source": [
    "## Run tensor flow session"
   ]
  },
  {
   "cell_type": "code",
   "execution_count": 19,
   "metadata": {
    "collapsed": true
   },
   "outputs": [],
   "source": [
    "session = tf.Session()"
   ]
  },
  {
   "cell_type": "code",
   "execution_count": 20,
   "metadata": {
    "collapsed": true
   },
   "outputs": [],
   "source": [
    "def get_midi_xy(midi_file_number):\n",
    "    offset = np.random.randint(0, len(training_data[midi_file_number]) - n_input - 1)\n",
    "    midi_x = training_data[midi_file_number][offset:offset+n_input]\n",
    "    midi_y = training_data[midi_file_number][1 + offset:1 + offset+n_input].dot(range(vocab_size)).reshape(1, n_input)\n",
    "    return midi_x, midi_y"
   ]
  },
  {
   "cell_type": "code",
   "execution_count": 21,
   "metadata": {
    "collapsed": true
   },
   "outputs": [],
   "source": [
    "def seconds_to_hoursminsecstr(seconds):\n",
    "    hours = seconds//3600\n",
    "    seconds -= 3600*hours\n",
    "    minutes = seconds//60\n",
    "    seconds -= 60*minutes\n",
    "    if hours < 10: hours = \"0\" + str(hours)\n",
    "    if minutes < 10: minutes = \"0\" + str(minutes)\n",
    "    if seconds < 10: seconds = \"0\" + str(seconds)\n",
    "        \n",
    "    return str(hours) + \":\" + str(minutes) + \".\" + str(seconds)"
   ]
  },
  {
   "cell_type": "code",
   "execution_count": 22,
   "metadata": {
    "scrolled": true
   },
   "outputs": [
    {
     "name": "stdout",
     "output_type": "stream",
     "text": [
      "Iter=10, Average Loss=351.220113, Time Elapsed=00:00.13\n",
      "Iter=20, Average Loss=345.714005, Time Elapsed=00:00.28\n",
      "Iter=30, Average Loss=378.550507, Time Elapsed=00:00.42\n",
      "Iter=40, Average Loss=337.493622, Time Elapsed=00:00.55\n",
      "Iter=50, Average Loss=379.733463, Time Elapsed=00:01.07\n",
      "Iter=60, Average Loss=320.364847, Time Elapsed=00:01.21\n",
      "Iter=70, Average Loss=357.275253, Time Elapsed=00:01.35\n",
      "Iter=80, Average Loss=350.950595, Time Elapsed=00:01.49\n",
      "Iter=90, Average Loss=337.162985, Time Elapsed=00:02.05\n",
      "Iter=100, Average Loss=292.205197, Time Elapsed=00:02.20\n",
      "Iter=110, Average Loss=311.932263, Time Elapsed=00:02.36\n",
      "Iter=120, Average Loss=309.456189, Time Elapsed=00:02.52\n",
      "Iter=130, Average Loss=283.006604, Time Elapsed=00:03.10\n",
      "Iter=140, Average Loss=303.543643, Time Elapsed=00:03.25\n",
      "Iter=150, Average Loss=269.062836, Time Elapsed=00:03.42\n",
      "Iter=160, Average Loss=302.218753, Time Elapsed=00:03.58\n",
      "Iter=170, Average Loss=297.125015, Time Elapsed=00:04.13\n",
      "Iter=180, Average Loss=308.622328, Time Elapsed=00:04.28\n",
      "Iter=190, Average Loss=298.425754, Time Elapsed=00:04.44\n",
      "Iter=200, Average Loss=258.425203, Time Elapsed=00:05.01\n",
      "Iter=210, Average Loss=296.500708, Time Elapsed=00:05.20\n",
      "Iter=220, Average Loss=276.127608, Time Elapsed=00:05.39\n",
      "Iter=230, Average Loss=273.473286, Time Elapsed=00:05.53\n",
      "Iter=240, Average Loss=250.724281, Time Elapsed=00:06.11\n",
      "Iter=250, Average Loss=276.382133, Time Elapsed=00:06.26\n",
      "Iter=260, Average Loss=299.301393, Time Elapsed=00:06.42\n",
      "Iter=270, Average Loss=281.682877, Time Elapsed=00:06.56\n",
      "Iter=280, Average Loss=277.682224, Time Elapsed=00:07.09\n",
      "Iter=290, Average Loss=226.834369, Time Elapsed=00:07.24\n",
      "Iter=300, Average Loss=284.524734, Time Elapsed=00:07.40\n",
      "Iter=310, Average Loss=280.088193, Time Elapsed=00:07.56\n",
      "Iter=320, Average Loss=255.314287, Time Elapsed=00:08.09\n",
      "Iter=330, Average Loss=238.168088, Time Elapsed=00:08.22\n",
      "Iter=340, Average Loss=248.498212, Time Elapsed=00:08.35\n",
      "Iter=350, Average Loss=290.234114, Time Elapsed=00:08.50\n",
      "Iter=360, Average Loss=255.916647, Time Elapsed=00:09.04\n",
      "Iter=370, Average Loss=259.785416, Time Elapsed=00:09.17\n",
      "Iter=380, Average Loss=219.592366, Time Elapsed=00:09.30\n",
      "Iter=390, Average Loss=258.495415, Time Elapsed=00:09.47\n",
      "Iter=400, Average Loss=256.047742, Time Elapsed=00:10.02\n",
      "Iter=410, Average Loss=240.523795, Time Elapsed=00:10.16\n",
      "Iter=420, Average Loss=230.656662, Time Elapsed=00:10.28\n",
      "Iter=430, Average Loss=231.841637, Time Elapsed=00:10.44\n",
      "Iter=440, Average Loss=283.429442, Time Elapsed=00:10.58\n",
      "Iter=450, Average Loss=240.143546, Time Elapsed=00:11.12\n",
      "Iter=460, Average Loss=251.090607, Time Elapsed=00:11.25\n",
      "Iter=470, Average Loss=212.265247, Time Elapsed=00:11.39\n",
      "Iter=480, Average Loss=264.862666, Time Elapsed=00:11.54\n",
      "Iter=490, Average Loss=250.971747, Time Elapsed=00:12.10\n",
      "Iter=500, Average Loss=229.507445, Time Elapsed=00:12.24\n",
      "Iter=510, Average Loss=234.230978, Time Elapsed=00:12.37\n",
      "Iter=520, Average Loss=230.642351, Time Elapsed=00:12.51\n",
      "Iter=530, Average Loss=264.501517, Time Elapsed=00:13.05\n",
      "Iter=540, Average Loss=232.319543, Time Elapsed=00:13.18\n",
      "Iter=550, Average Loss=255.675351, Time Elapsed=00:13.32\n",
      "Iter=560, Average Loss=217.485973, Time Elapsed=00:13.46\n",
      "Iter=570, Average Loss=246.427928, Time Elapsed=00:14.01\n",
      "Iter=580, Average Loss=256.087155, Time Elapsed=00:14.16\n",
      "Iter=590, Average Loss=214.961102, Time Elapsed=00:14.32\n",
      "Iter=600, Average Loss=219.080659, Time Elapsed=00:14.44\n",
      "Iter=610, Average Loss=220.018948, Time Elapsed=00:14.58\n",
      "Iter=620, Average Loss=241.869867, Time Elapsed=00:15.12\n",
      "Iter=630, Average Loss=235.958710, Time Elapsed=00:15.29\n",
      "Iter=640, Average Loss=233.757492, Time Elapsed=00:15.45\n"
     ]
    },
    {
     "ename": "KeyboardInterrupt",
     "evalue": "",
     "output_type": "error",
     "traceback": [
      "\u001b[1;31m---------------------------------------------------------------------------\u001b[0m",
      "\u001b[1;31mKeyboardInterrupt\u001b[0m                         Traceback (most recent call last)",
      "\u001b[1;32m<ipython-input-22-f7140231fb16>\u001b[0m in \u001b[0;36m<module>\u001b[1;34m()\u001b[0m\n\u001b[0;32m     12\u001b[0m         \u001b[0mmidi_x\u001b[0m\u001b[1;33m,\u001b[0m \u001b[0mmidi_y\u001b[0m \u001b[1;33m=\u001b[0m \u001b[0mget_midi_xy\u001b[0m\u001b[1;33m(\u001b[0m\u001b[0mi\u001b[0m\u001b[1;33m)\u001b[0m\u001b[1;33m\u001b[0m\u001b[0m\n\u001b[0;32m     13\u001b[0m \u001b[1;33m\u001b[0m\u001b[0m\n\u001b[1;32m---> 14\u001b[1;33m         \u001b[0m_\u001b[0m\u001b[1;33m,\u001b[0m \u001b[0mloss\u001b[0m \u001b[1;33m=\u001b[0m \u001b[0msession\u001b[0m\u001b[1;33m.\u001b[0m\u001b[0mrun\u001b[0m\u001b[1;33m(\u001b[0m\u001b[1;33m[\u001b[0m\u001b[0moptimizer\u001b[0m\u001b[1;33m,\u001b[0m \u001b[0mcost\u001b[0m\u001b[1;33m]\u001b[0m\u001b[1;33m,\u001b[0m \u001b[0mfeed_dict\u001b[0m\u001b[1;33m=\u001b[0m\u001b[1;33m{\u001b[0m\u001b[0mx\u001b[0m\u001b[1;33m:\u001b[0m \u001b[0mmidi_x\u001b[0m\u001b[1;33m,\u001b[0m \u001b[0my\u001b[0m\u001b[1;33m:\u001b[0m \u001b[0mmidi_y\u001b[0m\u001b[1;33m}\u001b[0m\u001b[1;33m)\u001b[0m\u001b[1;33m\u001b[0m\u001b[0m\n\u001b[0m\u001b[0;32m     15\u001b[0m         \u001b[0mloss_total\u001b[0m \u001b[1;33m+=\u001b[0m \u001b[0mloss\u001b[0m\u001b[1;33m\u001b[0m\u001b[0m\n\u001b[0;32m     16\u001b[0m         \u001b[1;32mif\u001b[0m \u001b[1;33m(\u001b[0m\u001b[0mstep\u001b[0m\u001b[1;33m+\u001b[0m\u001b[1;36m1\u001b[0m\u001b[1;33m)\u001b[0m \u001b[1;33m%\u001b[0m \u001b[0mdisplay_step\u001b[0m \u001b[1;33m==\u001b[0m \u001b[1;36m0\u001b[0m\u001b[1;33m:\u001b[0m\u001b[1;33m\u001b[0m\u001b[0m\n",
      "\u001b[1;32m~\\Anaconda3\\lib\\site-packages\\tensorflow\\python\\client\\session.py\u001b[0m in \u001b[0;36mrun\u001b[1;34m(self, fetches, feed_dict, options, run_metadata)\u001b[0m\n\u001b[0;32m    887\u001b[0m     \u001b[1;32mtry\u001b[0m\u001b[1;33m:\u001b[0m\u001b[1;33m\u001b[0m\u001b[0m\n\u001b[0;32m    888\u001b[0m       result = self._run(None, fetches, feed_dict, options_ptr,\n\u001b[1;32m--> 889\u001b[1;33m                          run_metadata_ptr)\n\u001b[0m\u001b[0;32m    890\u001b[0m       \u001b[1;32mif\u001b[0m \u001b[0mrun_metadata\u001b[0m\u001b[1;33m:\u001b[0m\u001b[1;33m\u001b[0m\u001b[0m\n\u001b[0;32m    891\u001b[0m         \u001b[0mproto_data\u001b[0m \u001b[1;33m=\u001b[0m \u001b[0mtf_session\u001b[0m\u001b[1;33m.\u001b[0m\u001b[0mTF_GetBuffer\u001b[0m\u001b[1;33m(\u001b[0m\u001b[0mrun_metadata_ptr\u001b[0m\u001b[1;33m)\u001b[0m\u001b[1;33m\u001b[0m\u001b[0m\n",
      "\u001b[1;32m~\\Anaconda3\\lib\\site-packages\\tensorflow\\python\\client\\session.py\u001b[0m in \u001b[0;36m_run\u001b[1;34m(self, handle, fetches, feed_dict, options, run_metadata)\u001b[0m\n\u001b[0;32m   1118\u001b[0m     \u001b[1;32mif\u001b[0m \u001b[0mfinal_fetches\u001b[0m \u001b[1;32mor\u001b[0m \u001b[0mfinal_targets\u001b[0m \u001b[1;32mor\u001b[0m \u001b[1;33m(\u001b[0m\u001b[0mhandle\u001b[0m \u001b[1;32mand\u001b[0m \u001b[0mfeed_dict_tensor\u001b[0m\u001b[1;33m)\u001b[0m\u001b[1;33m:\u001b[0m\u001b[1;33m\u001b[0m\u001b[0m\n\u001b[0;32m   1119\u001b[0m       results = self._do_run(handle, final_targets, final_fetches,\n\u001b[1;32m-> 1120\u001b[1;33m                              feed_dict_tensor, options, run_metadata)\n\u001b[0m\u001b[0;32m   1121\u001b[0m     \u001b[1;32melse\u001b[0m\u001b[1;33m:\u001b[0m\u001b[1;33m\u001b[0m\u001b[0m\n\u001b[0;32m   1122\u001b[0m       \u001b[0mresults\u001b[0m \u001b[1;33m=\u001b[0m \u001b[1;33m[\u001b[0m\u001b[1;33m]\u001b[0m\u001b[1;33m\u001b[0m\u001b[0m\n",
      "\u001b[1;32m~\\Anaconda3\\lib\\site-packages\\tensorflow\\python\\client\\session.py\u001b[0m in \u001b[0;36m_do_run\u001b[1;34m(self, handle, target_list, fetch_list, feed_dict, options, run_metadata)\u001b[0m\n\u001b[0;32m   1315\u001b[0m     \u001b[1;32mif\u001b[0m \u001b[0mhandle\u001b[0m \u001b[1;32mis\u001b[0m \u001b[1;32mNone\u001b[0m\u001b[1;33m:\u001b[0m\u001b[1;33m\u001b[0m\u001b[0m\n\u001b[0;32m   1316\u001b[0m       return self._do_call(_run_fn, self._session, feeds, fetches, targets,\n\u001b[1;32m-> 1317\u001b[1;33m                            options, run_metadata)\n\u001b[0m\u001b[0;32m   1318\u001b[0m     \u001b[1;32melse\u001b[0m\u001b[1;33m:\u001b[0m\u001b[1;33m\u001b[0m\u001b[0m\n\u001b[0;32m   1319\u001b[0m       \u001b[1;32mreturn\u001b[0m \u001b[0mself\u001b[0m\u001b[1;33m.\u001b[0m\u001b[0m_do_call\u001b[0m\u001b[1;33m(\u001b[0m\u001b[0m_prun_fn\u001b[0m\u001b[1;33m,\u001b[0m \u001b[0mself\u001b[0m\u001b[1;33m.\u001b[0m\u001b[0m_session\u001b[0m\u001b[1;33m,\u001b[0m \u001b[0mhandle\u001b[0m\u001b[1;33m,\u001b[0m \u001b[0mfeeds\u001b[0m\u001b[1;33m,\u001b[0m \u001b[0mfetches\u001b[0m\u001b[1;33m)\u001b[0m\u001b[1;33m\u001b[0m\u001b[0m\n",
      "\u001b[1;32m~\\Anaconda3\\lib\\site-packages\\tensorflow\\python\\client\\session.py\u001b[0m in \u001b[0;36m_do_call\u001b[1;34m(self, fn, *args)\u001b[0m\n\u001b[0;32m   1321\u001b[0m   \u001b[1;32mdef\u001b[0m \u001b[0m_do_call\u001b[0m\u001b[1;33m(\u001b[0m\u001b[0mself\u001b[0m\u001b[1;33m,\u001b[0m \u001b[0mfn\u001b[0m\u001b[1;33m,\u001b[0m \u001b[1;33m*\u001b[0m\u001b[0margs\u001b[0m\u001b[1;33m)\u001b[0m\u001b[1;33m:\u001b[0m\u001b[1;33m\u001b[0m\u001b[0m\n\u001b[0;32m   1322\u001b[0m     \u001b[1;32mtry\u001b[0m\u001b[1;33m:\u001b[0m\u001b[1;33m\u001b[0m\u001b[0m\n\u001b[1;32m-> 1323\u001b[1;33m       \u001b[1;32mreturn\u001b[0m \u001b[0mfn\u001b[0m\u001b[1;33m(\u001b[0m\u001b[1;33m*\u001b[0m\u001b[0margs\u001b[0m\u001b[1;33m)\u001b[0m\u001b[1;33m\u001b[0m\u001b[0m\n\u001b[0m\u001b[0;32m   1324\u001b[0m     \u001b[1;32mexcept\u001b[0m \u001b[0merrors\u001b[0m\u001b[1;33m.\u001b[0m\u001b[0mOpError\u001b[0m \u001b[1;32mas\u001b[0m \u001b[0me\u001b[0m\u001b[1;33m:\u001b[0m\u001b[1;33m\u001b[0m\u001b[0m\n\u001b[0;32m   1325\u001b[0m       \u001b[0mmessage\u001b[0m \u001b[1;33m=\u001b[0m \u001b[0mcompat\u001b[0m\u001b[1;33m.\u001b[0m\u001b[0mas_text\u001b[0m\u001b[1;33m(\u001b[0m\u001b[0me\u001b[0m\u001b[1;33m.\u001b[0m\u001b[0mmessage\u001b[0m\u001b[1;33m)\u001b[0m\u001b[1;33m\u001b[0m\u001b[0m\n",
      "\u001b[1;32m~\\Anaconda3\\lib\\site-packages\\tensorflow\\python\\client\\session.py\u001b[0m in \u001b[0;36m_run_fn\u001b[1;34m(session, feed_dict, fetch_list, target_list, options, run_metadata)\u001b[0m\n\u001b[0;32m   1300\u001b[0m           return tf_session.TF_Run(session, options,\n\u001b[0;32m   1301\u001b[0m                                    \u001b[0mfeed_dict\u001b[0m\u001b[1;33m,\u001b[0m \u001b[0mfetch_list\u001b[0m\u001b[1;33m,\u001b[0m \u001b[0mtarget_list\u001b[0m\u001b[1;33m,\u001b[0m\u001b[1;33m\u001b[0m\u001b[0m\n\u001b[1;32m-> 1302\u001b[1;33m                                    status, run_metadata)\n\u001b[0m\u001b[0;32m   1303\u001b[0m \u001b[1;33m\u001b[0m\u001b[0m\n\u001b[0;32m   1304\u001b[0m     \u001b[1;32mdef\u001b[0m \u001b[0m_prun_fn\u001b[0m\u001b[1;33m(\u001b[0m\u001b[0msession\u001b[0m\u001b[1;33m,\u001b[0m \u001b[0mhandle\u001b[0m\u001b[1;33m,\u001b[0m \u001b[0mfeed_dict\u001b[0m\u001b[1;33m,\u001b[0m \u001b[0mfetch_list\u001b[0m\u001b[1;33m)\u001b[0m\u001b[1;33m:\u001b[0m\u001b[1;33m\u001b[0m\u001b[0m\n",
      "\u001b[1;31mKeyboardInterrupt\u001b[0m: "
     ]
    }
   ],
   "source": [
    "training_loss_list = []\n",
    "\n",
    "init = tf.global_variables_initializer()\n",
    "session.run(init)\n",
    "step = 0\n",
    "loss_total = 0\n",
    "\n",
    "start_time = time.time()\n",
    "\n",
    "while step < training_iters:\n",
    "    for i in range(len(training_data)):\n",
    "        midi_x, midi_y = get_midi_xy(i)\n",
    "\n",
    "        _, loss = session.run([optimizer, cost], feed_dict={x: midi_x, y: midi_y})\n",
    "        loss_total += loss\n",
    "        if (step+1) % display_step == 0:\n",
    "            print(\"Iter=\" + str(step+1) + \", Average Loss={:.6f}, Time Elapsed={}\".format(loss_total/display_step, \n",
    "                 seconds_to_hoursminsecstr(int(time.time()-start_time))))\n",
    "            loss_total = 0\n",
    "        training_loss_list.append(loss_total/display_step)\n",
    "        step += 1"
   ]
  },
  {
   "cell_type": "markdown",
   "metadata": {},
   "source": [
    "## Generate music from trained model"
   ]
  },
  {
   "cell_type": "code",
   "execution_count": 23,
   "metadata": {
    "collapsed": true
   },
   "outputs": [],
   "source": [
    "N_GENERATED_NOTE_VECTORS = 1000"
   ]
  },
  {
   "cell_type": "code",
   "execution_count": 24,
   "metadata": {},
   "outputs": [
    {
     "data": {
      "text/plain": [
       "[<tf.Tensor 'rnn/rnn/multi_rnn_cell/cell_1/cell_1/basic_lstm_cell/mul_152:0' shape=(1, 512) dtype=float32>]"
      ]
     },
     "execution_count": 24,
     "metadata": {},
     "output_type": "execute_result"
    }
   ],
   "source": [
    "outputs_generation, states_generation = rnn.static_rnn(rnn_cell, [x_generation], dtype=tf.float32)\n",
    "outputs_generation"
   ]
  },
  {
   "cell_type": "code",
   "execution_count": 25,
   "metadata": {},
   "outputs": [
    {
     "data": {
      "text/plain": [
       "<tf.Tensor 'xw_plus_b_50:0' shape=(1, 1124) dtype=float32>"
      ]
     },
     "execution_count": 25,
     "metadata": {},
     "output_type": "execute_result"
    }
   ],
   "source": [
    "logits_generation = tf.nn.xw_plus_b(outputs_generation[0], softmax_w, softmax_b)\n",
    "logits_generation"
   ]
  },
  {
   "cell_type": "code",
   "execution_count": 26,
   "metadata": {
    "collapsed": true
   },
   "outputs": [],
   "source": [
    "seed_note = np.zeros(vocab_size)\n",
    "seed_note[0] = 1\n",
    "seed_note = np.reshape(seed_note, [1, vocab_size])\n",
    "\n",
    "generated_music = [seed_note]\n",
    "for i in range(N_GENERATED_NOTE_VECTORS):\n",
    "    onehot_pred = session.run(logits_generation, feed_dict={x_generation: generated_music[-1]})\n",
    "\n",
    "    next_note = np.zeros(vocab_size)\n",
    "    next_note[np.argmax(onehot_pred, 1)] = 1\n",
    "    next_note = np.reshape(next_note,  [1, vocab_size])\n",
    "    \n",
    "    generated_music.append(next_note)"
   ]
  },
  {
   "cell_type": "markdown",
   "metadata": {},
   "source": [
    "# Convert generated music to midi"
   ]
  },
  {
   "cell_type": "code",
   "execution_count": 27,
   "metadata": {
    "collapsed": true
   },
   "outputs": [],
   "source": [
    "def get_track_sequences(vector_sequence):\n",
    "    \"\"\"Get note sequences for each track from vector sequence output from RNN.\n",
    "\n",
    "    Args:\n",
    "       vector_sequence: List of one-hot vectors containing 128 * NUM_TRACKS note_on events, 128 * NUM_TRACKS note_off events,\n",
    "        and NUM_TIMESHIFTS timeshift events in intervals of 10 ms each.\n",
    "       \n",
    "    Returns:\n",
    "        List of track vector sequences.\n",
    "    \"\"\"\n",
    "    track_sequences = [[] for _ in range(NUM_TRACKS)]\n",
    "    start_time = 0\n",
    "    for vector in vector_sequence:\n",
    "        index = vector.index(1)\n",
    "        # vector is a time event.\n",
    "        if index >= NUM_MIDI_PITCHES * 2 * NUM_TRACKS:\n",
    "            time = (index - NUM_MIDI_PITCHES * 2 * NUM_TRACKS + 1) * TIMESHIFT_LENGTH\n",
    "            start_time += time\n",
    "        else:\n",
    "            # vector is a note_off event.\n",
    "            if index >= NUM_MIDI_PITCHES * NUM_TRACKS:\n",
    "                note_type = 'note_off'\n",
    "                index -= NUM_MIDI_PITCHES * NUM_TRACKS\n",
    "            # vector is a note_on event.\n",
    "            else:\n",
    "                note_type = 'note_on'\n",
    "            track_num = int(index / NUM_MIDI_PITCHES)\n",
    "            note = index % NUM_MIDI_PITCHES\n",
    "            track_sequences[track_num].append({\"type\": note_type, \"note\": note, \"start_time\": start_time})\n",
    "            time_delay = 0\n",
    "            \n",
    "    return track_sequences\n",
    "    "
   ]
  },
  {
   "cell_type": "code",
   "execution_count": 28,
   "metadata": {
    "collapsed": true
   },
   "outputs": [],
   "source": [
    "def get_midi_from_vector_sequence(track_sequences):\n",
    "    \"\"\"Get midi from track sequences.\n",
    "\n",
    "    Args:\n",
    "       track_sequences: List of vector sequences for each track.\n",
    "       \n",
    "    Returns:\n",
    "        MidiFile object.\n",
    "    \"\"\"\n",
    "    mid = mido.MidiFile()\n",
    "    tracks = [mido.MidiTrack() for _ in range(NUM_TRACKS)]\n",
    "    mid.tracks.extend(tracks)\n",
    "\n",
    "    for i, ts in enumerate(track_sequences):\n",
    "        prev_start_time = 0\n",
    "        for event in ts:\n",
    "            time = event[\"start_time\"] - prev_start_time\n",
    "            prev_start_time = event[\"start_time\"]\n",
    "            # I picked a random number for velocity.\n",
    "            mid.tracks[i].append(mido.Message(event[\"type\"], note=event[\"note\"], velocity=50,\n",
    "                                              time=int(mido.second2tick(time, TICKS_PER_BEAT, TEMPO))))\n",
    "    \n",
    "    return mid"
   ]
  },
  {
   "cell_type": "code",
   "execution_count": 29,
   "metadata": {
    "scrolled": true
   },
   "outputs": [
    {
     "data": {
      "text/plain": [
       "[[{'note': 0, 'start_time': 0, 'type': 'note_on'},\n",
       "  {'note': 44, 'start_time': 0.01, 'type': 'note_off'},\n",
       "  {'note': 44, 'start_time': 0.02, 'type': 'note_off'},\n",
       "  {'note': 44, 'start_time': 0.03, 'type': 'note_off'},\n",
       "  {'note': 44, 'start_time': 0.04, 'type': 'note_off'},\n",
       "  {'note': 44, 'start_time': 0.05, 'type': 'note_off'},\n",
       "  {'note': 44, 'start_time': 0.060000000000000005, 'type': 'note_off'},\n",
       "  {'note': 44, 'start_time': 0.07, 'type': 'note_off'},\n",
       "  {'note': 44, 'start_time': 0.08, 'type': 'note_off'},\n",
       "  {'note': 44, 'start_time': 0.09, 'type': 'note_off'},\n",
       "  {'note': 44, 'start_time': 0.09999999999999999, 'type': 'note_off'},\n",
       "  {'note': 44, 'start_time': 0.10999999999999999, 'type': 'note_off'},\n",
       "  {'note': 44, 'start_time': 0.11999999999999998, 'type': 'note_off'},\n",
       "  {'note': 44, 'start_time': 0.12999999999999998, 'type': 'note_off'},\n",
       "  {'note': 44, 'start_time': 0.13999999999999999, 'type': 'note_off'},\n",
       "  {'note': 44, 'start_time': 0.15, 'type': 'note_off'},\n",
       "  {'note': 44, 'start_time': 0.16, 'type': 'note_off'},\n",
       "  {'note': 44, 'start_time': 0.17, 'type': 'note_off'},\n",
       "  {'note': 44, 'start_time': 0.18000000000000002, 'type': 'note_off'},\n",
       "  {'note': 44, 'start_time': 0.19000000000000003, 'type': 'note_off'},\n",
       "  {'note': 44, 'start_time': 0.20000000000000004, 'type': 'note_off'},\n",
       "  {'note': 44, 'start_time': 0.21000000000000005, 'type': 'note_off'},\n",
       "  {'note': 44, 'start_time': 0.22000000000000006, 'type': 'note_off'},\n",
       "  {'note': 44, 'start_time': 0.23000000000000007, 'type': 'note_off'},\n",
       "  {'note': 44, 'start_time': 0.24000000000000007, 'type': 'note_off'},\n",
       "  {'note': 44, 'start_time': 0.25000000000000006, 'type': 'note_off'},\n",
       "  {'note': 44, 'start_time': 0.26000000000000006, 'type': 'note_off'},\n",
       "  {'note': 44, 'start_time': 0.2700000000000001, 'type': 'note_off'},\n",
       "  {'note': 44, 'start_time': 0.2800000000000001, 'type': 'note_off'},\n",
       "  {'note': 44, 'start_time': 0.2900000000000001, 'type': 'note_off'},\n",
       "  {'note': 44, 'start_time': 0.3000000000000001, 'type': 'note_off'},\n",
       "  {'note': 44, 'start_time': 0.3100000000000001, 'type': 'note_off'},\n",
       "  {'note': 44, 'start_time': 0.3200000000000001, 'type': 'note_off'},\n",
       "  {'note': 44, 'start_time': 0.3300000000000001, 'type': 'note_off'},\n",
       "  {'note': 44, 'start_time': 0.34000000000000014, 'type': 'note_off'},\n",
       "  {'note': 44, 'start_time': 0.35000000000000014, 'type': 'note_off'},\n",
       "  {'note': 44, 'start_time': 0.36000000000000015, 'type': 'note_off'},\n",
       "  {'note': 44, 'start_time': 0.37000000000000016, 'type': 'note_off'},\n",
       "  {'note': 44, 'start_time': 0.38000000000000017, 'type': 'note_off'},\n",
       "  {'note': 44, 'start_time': 0.3900000000000002, 'type': 'note_off'},\n",
       "  {'note': 44, 'start_time': 0.4000000000000002, 'type': 'note_off'},\n",
       "  {'note': 44, 'start_time': 0.4100000000000002, 'type': 'note_off'},\n",
       "  {'note': 44, 'start_time': 0.4200000000000002, 'type': 'note_off'},\n",
       "  {'note': 44, 'start_time': 0.4300000000000002, 'type': 'note_off'},\n",
       "  {'note': 44, 'start_time': 0.4400000000000002, 'type': 'note_off'},\n",
       "  {'note': 44, 'start_time': 0.45000000000000023, 'type': 'note_off'},\n",
       "  {'note': 44, 'start_time': 0.46000000000000024, 'type': 'note_off'},\n",
       "  {'note': 44, 'start_time': 0.47000000000000025, 'type': 'note_off'},\n",
       "  {'note': 44, 'start_time': 0.48000000000000026, 'type': 'note_off'},\n",
       "  {'note': 44, 'start_time': 0.49000000000000027, 'type': 'note_off'},\n",
       "  {'note': 44, 'start_time': 0.5000000000000002, 'type': 'note_off'},\n",
       "  {'note': 44, 'start_time': 0.5100000000000002, 'type': 'note_off'},\n",
       "  {'note': 44, 'start_time': 0.5200000000000002, 'type': 'note_off'},\n",
       "  {'note': 44, 'start_time': 0.5300000000000002, 'type': 'note_off'},\n",
       "  {'note': 44, 'start_time': 0.5400000000000003, 'type': 'note_off'},\n",
       "  {'note': 44, 'start_time': 0.5500000000000003, 'type': 'note_off'},\n",
       "  {'note': 44, 'start_time': 0.5600000000000003, 'type': 'note_off'},\n",
       "  {'note': 44, 'start_time': 0.5700000000000003, 'type': 'note_off'},\n",
       "  {'note': 44, 'start_time': 0.5800000000000003, 'type': 'note_off'},\n",
       "  {'note': 44, 'start_time': 0.5900000000000003, 'type': 'note_off'},\n",
       "  {'note': 44, 'start_time': 0.6000000000000003, 'type': 'note_off'},\n",
       "  {'note': 44, 'start_time': 0.6100000000000003, 'type': 'note_off'},\n",
       "  {'note': 44, 'start_time': 0.6200000000000003, 'type': 'note_off'},\n",
       "  {'note': 44, 'start_time': 0.6300000000000003, 'type': 'note_off'},\n",
       "  {'note': 44, 'start_time': 0.6400000000000003, 'type': 'note_off'},\n",
       "  {'note': 44, 'start_time': 0.6500000000000004, 'type': 'note_off'},\n",
       "  {'note': 44, 'start_time': 0.6600000000000004, 'type': 'note_off'},\n",
       "  {'note': 44, 'start_time': 0.6700000000000004, 'type': 'note_off'},\n",
       "  {'note': 44, 'start_time': 0.6800000000000004, 'type': 'note_off'},\n",
       "  {'note': 44, 'start_time': 0.6900000000000004, 'type': 'note_off'},\n",
       "  {'note': 44, 'start_time': 0.7000000000000004, 'type': 'note_off'},\n",
       "  {'note': 44, 'start_time': 0.7100000000000004, 'type': 'note_off'},\n",
       "  {'note': 44, 'start_time': 0.7200000000000004, 'type': 'note_off'},\n",
       "  {'note': 44, 'start_time': 0.7300000000000004, 'type': 'note_off'},\n",
       "  {'note': 44, 'start_time': 0.7400000000000004, 'type': 'note_off'},\n",
       "  {'note': 44, 'start_time': 0.7500000000000004, 'type': 'note_off'},\n",
       "  {'note': 44, 'start_time': 0.7600000000000005, 'type': 'note_off'},\n",
       "  {'note': 44, 'start_time': 0.7700000000000005, 'type': 'note_off'},\n",
       "  {'note': 44, 'start_time': 0.7800000000000005, 'type': 'note_off'},\n",
       "  {'note': 44, 'start_time': 0.7900000000000005, 'type': 'note_off'},\n",
       "  {'note': 44, 'start_time': 0.8000000000000005, 'type': 'note_off'},\n",
       "  {'note': 44, 'start_time': 0.8100000000000005, 'type': 'note_off'},\n",
       "  {'note': 44, 'start_time': 0.8200000000000005, 'type': 'note_off'},\n",
       "  {'note': 44, 'start_time': 0.8300000000000005, 'type': 'note_off'},\n",
       "  {'note': 44, 'start_time': 0.8400000000000005, 'type': 'note_off'},\n",
       "  {'note': 44, 'start_time': 0.8500000000000005, 'type': 'note_off'},\n",
       "  {'note': 44, 'start_time': 0.8600000000000005, 'type': 'note_off'},\n",
       "  {'note': 44, 'start_time': 0.8700000000000006, 'type': 'note_off'},\n",
       "  {'note': 44, 'start_time': 0.8800000000000006, 'type': 'note_off'},\n",
       "  {'note': 44, 'start_time': 0.8900000000000006, 'type': 'note_off'},\n",
       "  {'note': 44, 'start_time': 0.9000000000000006, 'type': 'note_off'},\n",
       "  {'note': 44, 'start_time': 0.9100000000000006, 'type': 'note_off'},\n",
       "  {'note': 44, 'start_time': 0.9200000000000006, 'type': 'note_off'},\n",
       "  {'note': 44, 'start_time': 0.9300000000000006, 'type': 'note_off'},\n",
       "  {'note': 44, 'start_time': 0.9400000000000006, 'type': 'note_off'},\n",
       "  {'note': 44, 'start_time': 0.9500000000000006, 'type': 'note_off'},\n",
       "  {'note': 44, 'start_time': 0.9600000000000006, 'type': 'note_off'},\n",
       "  {'note': 44, 'start_time': 0.9700000000000006, 'type': 'note_off'},\n",
       "  {'note': 44, 'start_time': 0.9800000000000006, 'type': 'note_off'},\n",
       "  {'note': 44, 'start_time': 0.9900000000000007, 'type': 'note_off'},\n",
       "  {'note': 44, 'start_time': 1.0000000000000007, 'type': 'note_off'},\n",
       "  {'note': 44, 'start_time': 1.0100000000000007, 'type': 'note_off'},\n",
       "  {'note': 44, 'start_time': 1.0200000000000007, 'type': 'note_off'},\n",
       "  {'note': 44, 'start_time': 1.0300000000000007, 'type': 'note_off'},\n",
       "  {'note': 44, 'start_time': 1.0400000000000007, 'type': 'note_off'},\n",
       "  {'note': 44, 'start_time': 1.0500000000000007, 'type': 'note_off'},\n",
       "  {'note': 44, 'start_time': 1.0600000000000007, 'type': 'note_off'},\n",
       "  {'note': 44, 'start_time': 1.0700000000000007, 'type': 'note_off'},\n",
       "  {'note': 44, 'start_time': 1.0800000000000007, 'type': 'note_off'},\n",
       "  {'note': 44, 'start_time': 1.0900000000000007, 'type': 'note_off'},\n",
       "  {'note': 44, 'start_time': 1.1000000000000008, 'type': 'note_off'},\n",
       "  {'note': 44, 'start_time': 1.1100000000000008, 'type': 'note_off'},\n",
       "  {'note': 44, 'start_time': 1.1200000000000008, 'type': 'note_off'},\n",
       "  {'note': 44, 'start_time': 1.1300000000000008, 'type': 'note_off'},\n",
       "  {'note': 44, 'start_time': 1.1400000000000008, 'type': 'note_off'},\n",
       "  {'note': 44, 'start_time': 1.1500000000000008, 'type': 'note_off'},\n",
       "  {'note': 44, 'start_time': 1.1600000000000008, 'type': 'note_off'},\n",
       "  {'note': 44, 'start_time': 1.1700000000000008, 'type': 'note_off'},\n",
       "  {'note': 44, 'start_time': 1.1800000000000008, 'type': 'note_off'},\n",
       "  {'note': 44, 'start_time': 1.1900000000000008, 'type': 'note_off'},\n",
       "  {'note': 44, 'start_time': 1.2000000000000008, 'type': 'note_off'},\n",
       "  {'note': 44, 'start_time': 1.2100000000000009, 'type': 'note_off'},\n",
       "  {'note': 44, 'start_time': 1.2200000000000009, 'type': 'note_off'},\n",
       "  {'note': 44, 'start_time': 1.2300000000000009, 'type': 'note_off'},\n",
       "  {'note': 44, 'start_time': 1.2400000000000009, 'type': 'note_off'},\n",
       "  {'note': 44, 'start_time': 1.2500000000000009, 'type': 'note_off'},\n",
       "  {'note': 44, 'start_time': 1.260000000000001, 'type': 'note_off'},\n",
       "  {'note': 44, 'start_time': 1.270000000000001, 'type': 'note_off'},\n",
       "  {'note': 44, 'start_time': 1.280000000000001, 'type': 'note_off'},\n",
       "  {'note': 44, 'start_time': 1.290000000000001, 'type': 'note_off'},\n",
       "  {'note': 44, 'start_time': 1.300000000000001, 'type': 'note_off'},\n",
       "  {'note': 44, 'start_time': 1.310000000000001, 'type': 'note_off'},\n",
       "  {'note': 44, 'start_time': 1.320000000000001, 'type': 'note_off'},\n",
       "  {'note': 44, 'start_time': 1.330000000000001, 'type': 'note_off'},\n",
       "  {'note': 44, 'start_time': 1.340000000000001, 'type': 'note_off'},\n",
       "  {'note': 44, 'start_time': 1.350000000000001, 'type': 'note_off'},\n",
       "  {'note': 44, 'start_time': 1.360000000000001, 'type': 'note_off'},\n",
       "  {'note': 44, 'start_time': 1.370000000000001, 'type': 'note_off'},\n",
       "  {'note': 44, 'start_time': 1.380000000000001, 'type': 'note_off'},\n",
       "  {'note': 44, 'start_time': 1.390000000000001, 'type': 'note_off'},\n",
       "  {'note': 44, 'start_time': 1.400000000000001, 'type': 'note_off'},\n",
       "  {'note': 44, 'start_time': 1.410000000000001, 'type': 'note_off'},\n",
       "  {'note': 44, 'start_time': 1.420000000000001, 'type': 'note_off'},\n",
       "  {'note': 44, 'start_time': 1.430000000000001, 'type': 'note_off'},\n",
       "  {'note': 44, 'start_time': 1.440000000000001, 'type': 'note_off'},\n",
       "  {'note': 44, 'start_time': 1.450000000000001, 'type': 'note_off'},\n",
       "  {'note': 44, 'start_time': 1.460000000000001, 'type': 'note_off'},\n",
       "  {'note': 44, 'start_time': 1.470000000000001, 'type': 'note_off'},\n",
       "  {'note': 44, 'start_time': 1.480000000000001, 'type': 'note_off'},\n",
       "  {'note': 44, 'start_time': 1.490000000000001, 'type': 'note_off'},\n",
       "  {'note': 44, 'start_time': 1.500000000000001, 'type': 'note_off'},\n",
       "  {'note': 44, 'start_time': 1.5100000000000011, 'type': 'note_off'},\n",
       "  {'note': 44, 'start_time': 1.5200000000000011, 'type': 'note_off'},\n",
       "  {'note': 44, 'start_time': 1.5300000000000011, 'type': 'note_off'},\n",
       "  {'note': 44, 'start_time': 1.5400000000000011, 'type': 'note_off'},\n",
       "  {'note': 44, 'start_time': 1.5500000000000012, 'type': 'note_off'},\n",
       "  {'note': 44, 'start_time': 1.5600000000000012, 'type': 'note_off'},\n",
       "  {'note': 44, 'start_time': 1.5700000000000012, 'type': 'note_off'},\n",
       "  {'note': 44, 'start_time': 1.5800000000000012, 'type': 'note_off'},\n",
       "  {'note': 44, 'start_time': 1.5900000000000012, 'type': 'note_off'},\n",
       "  {'note': 44, 'start_time': 1.6000000000000012, 'type': 'note_off'},\n",
       "  {'note': 44, 'start_time': 1.6100000000000012, 'type': 'note_off'},\n",
       "  {'note': 44, 'start_time': 1.6200000000000012, 'type': 'note_off'},\n",
       "  {'note': 44, 'start_time': 1.6300000000000012, 'type': 'note_off'},\n",
       "  {'note': 44, 'start_time': 1.6400000000000012, 'type': 'note_off'},\n",
       "  {'note': 44, 'start_time': 1.6500000000000012, 'type': 'note_off'},\n",
       "  {'note': 44, 'start_time': 1.6600000000000013, 'type': 'note_off'},\n",
       "  {'note': 44, 'start_time': 1.6700000000000013, 'type': 'note_off'},\n",
       "  {'note': 44, 'start_time': 1.6800000000000013, 'type': 'note_off'},\n",
       "  {'note': 44, 'start_time': 1.6900000000000013, 'type': 'note_off'},\n",
       "  {'note': 44, 'start_time': 1.7000000000000013, 'type': 'note_off'},\n",
       "  {'note': 44, 'start_time': 1.7100000000000013, 'type': 'note_off'},\n",
       "  {'note': 44, 'start_time': 1.7200000000000013, 'type': 'note_off'},\n",
       "  {'note': 44, 'start_time': 1.7300000000000013, 'type': 'note_off'},\n",
       "  {'note': 44, 'start_time': 1.7400000000000013, 'type': 'note_off'},\n",
       "  {'note': 44, 'start_time': 1.7500000000000013, 'type': 'note_off'},\n",
       "  {'note': 44, 'start_time': 1.7600000000000013, 'type': 'note_off'},\n",
       "  {'note': 44, 'start_time': 1.7700000000000014, 'type': 'note_off'},\n",
       "  {'note': 44, 'start_time': 1.7800000000000014, 'type': 'note_off'},\n",
       "  {'note': 44, 'start_time': 1.7900000000000014, 'type': 'note_off'},\n",
       "  {'note': 44, 'start_time': 1.8000000000000014, 'type': 'note_off'},\n",
       "  {'note': 44, 'start_time': 1.8100000000000014, 'type': 'note_off'},\n",
       "  {'note': 44, 'start_time': 1.8200000000000014, 'type': 'note_off'},\n",
       "  {'note': 44, 'start_time': 1.8300000000000014, 'type': 'note_off'},\n",
       "  {'note': 44, 'start_time': 1.8400000000000014, 'type': 'note_off'},\n",
       "  {'note': 44, 'start_time': 1.8500000000000014, 'type': 'note_off'},\n",
       "  {'note': 44, 'start_time': 1.8600000000000014, 'type': 'note_off'},\n",
       "  {'note': 44, 'start_time': 1.8700000000000014, 'type': 'note_off'},\n",
       "  {'note': 44, 'start_time': 1.8800000000000014, 'type': 'note_off'},\n",
       "  {'note': 44, 'start_time': 1.8900000000000015, 'type': 'note_off'},\n",
       "  {'note': 44, 'start_time': 1.9000000000000015, 'type': 'note_off'},\n",
       "  {'note': 44, 'start_time': 1.9100000000000015, 'type': 'note_off'},\n",
       "  {'note': 44, 'start_time': 1.9200000000000015, 'type': 'note_off'},\n",
       "  {'note': 44, 'start_time': 1.9300000000000015, 'type': 'note_off'},\n",
       "  {'note': 44, 'start_time': 1.9400000000000015, 'type': 'note_off'},\n",
       "  {'note': 44, 'start_time': 1.9500000000000015, 'type': 'note_off'},\n",
       "  {'note': 44, 'start_time': 1.9600000000000015, 'type': 'note_off'},\n",
       "  {'note': 44, 'start_time': 1.9700000000000015, 'type': 'note_off'},\n",
       "  {'note': 44, 'start_time': 1.9800000000000015, 'type': 'note_off'},\n",
       "  {'note': 44, 'start_time': 1.9900000000000015, 'type': 'note_off'},\n",
       "  {'note': 44, 'start_time': 2.0000000000000013, 'type': 'note_off'},\n",
       "  {'note': 44, 'start_time': 2.010000000000001, 'type': 'note_off'},\n",
       "  {'note': 44, 'start_time': 2.020000000000001, 'type': 'note_off'},\n",
       "  {'note': 44, 'start_time': 2.0300000000000007, 'type': 'note_off'},\n",
       "  {'note': 44, 'start_time': 2.0400000000000005, 'type': 'note_off'},\n",
       "  {'note': 44, 'start_time': 2.0500000000000003, 'type': 'note_off'},\n",
       "  {'note': 44, 'start_time': 2.06, 'type': 'note_off'},\n",
       "  {'note': 44, 'start_time': 2.07, 'type': 'note_off'},\n",
       "  {'note': 44, 'start_time': 2.0799999999999996, 'type': 'note_off'},\n",
       "  {'note': 44, 'start_time': 2.0899999999999994, 'type': 'note_off'},\n",
       "  {'note': 44, 'start_time': 2.099999999999999, 'type': 'note_off'},\n",
       "  {'note': 44, 'start_time': 2.109999999999999, 'type': 'note_off'},\n",
       "  {'note': 44, 'start_time': 2.1199999999999988, 'type': 'note_off'},\n",
       "  {'note': 44, 'start_time': 2.1299999999999986, 'type': 'note_off'},\n",
       "  {'note': 44, 'start_time': 2.1399999999999983, 'type': 'note_off'},\n",
       "  {'note': 44, 'start_time': 2.149999999999998, 'type': 'note_off'},\n",
       "  {'note': 44, 'start_time': 2.159999999999998, 'type': 'note_off'},\n",
       "  {'note': 44, 'start_time': 2.1699999999999977, 'type': 'note_off'},\n",
       "  {'note': 44, 'start_time': 2.1799999999999975, 'type': 'note_off'},\n",
       "  {'note': 44, 'start_time': 2.1899999999999973, 'type': 'note_off'},\n",
       "  {'note': 44, 'start_time': 2.199999999999997, 'type': 'note_off'},\n",
       "  {'note': 44, 'start_time': 2.209999999999997, 'type': 'note_off'},\n",
       "  {'note': 44, 'start_time': 2.2199999999999966, 'type': 'note_off'},\n",
       "  {'note': 44, 'start_time': 2.2299999999999964, 'type': 'note_off'},\n",
       "  {'note': 44, 'start_time': 2.239999999999996, 'type': 'note_off'},\n",
       "  {'note': 44, 'start_time': 2.249999999999996, 'type': 'note_off'},\n",
       "  {'note': 44, 'start_time': 2.259999999999996, 'type': 'note_off'},\n",
       "  {'note': 44, 'start_time': 2.2699999999999956, 'type': 'note_off'},\n",
       "  {'note': 44, 'start_time': 2.2799999999999954, 'type': 'note_off'},\n",
       "  {'note': 44, 'start_time': 2.289999999999995, 'type': 'note_off'},\n",
       "  {'note': 44, 'start_time': 2.299999999999995, 'type': 'note_off'},\n",
       "  {'note': 44, 'start_time': 2.3099999999999947, 'type': 'note_off'},\n",
       "  {'note': 44, 'start_time': 2.3199999999999945, 'type': 'note_off'},\n",
       "  {'note': 44, 'start_time': 2.3299999999999943, 'type': 'note_off'},\n",
       "  {'note': 44, 'start_time': 2.339999999999994, 'type': 'note_off'},\n",
       "  {'note': 44, 'start_time': 2.349999999999994, 'type': 'note_off'},\n",
       "  {'note': 44, 'start_time': 2.3599999999999937, 'type': 'note_off'},\n",
       "  {'note': 44, 'start_time': 2.3699999999999934, 'type': 'note_off'},\n",
       "  {'note': 44, 'start_time': 2.3799999999999932, 'type': 'note_off'},\n",
       "  {'note': 44, 'start_time': 2.389999999999993, 'type': 'note_off'},\n",
       "  {'note': 44, 'start_time': 2.399999999999993, 'type': 'note_off'},\n",
       "  {'note': 44, 'start_time': 2.4099999999999926, 'type': 'note_off'},\n",
       "  {'note': 44, 'start_time': 2.4199999999999924, 'type': 'note_off'},\n",
       "  {'note': 44, 'start_time': 2.429999999999992, 'type': 'note_off'},\n",
       "  {'note': 44, 'start_time': 2.439999999999992, 'type': 'note_off'},\n",
       "  {'note': 44, 'start_time': 2.4499999999999917, 'type': 'note_off'},\n",
       "  {'note': 44, 'start_time': 2.4599999999999915, 'type': 'note_off'},\n",
       "  {'note': 44, 'start_time': 2.4699999999999913, 'type': 'note_off'},\n",
       "  {'note': 44, 'start_time': 2.479999999999991, 'type': 'note_off'},\n",
       "  {'note': 44, 'start_time': 2.489999999999991, 'type': 'note_off'},\n",
       "  {'note': 44, 'start_time': 2.4999999999999907, 'type': 'note_off'},\n",
       "  {'note': 44, 'start_time': 2.5099999999999905, 'type': 'note_off'},\n",
       "  {'note': 44, 'start_time': 2.5199999999999902, 'type': 'note_off'},\n",
       "  {'note': 44, 'start_time': 2.52999999999999, 'type': 'note_off'},\n",
       "  {'note': 44, 'start_time': 2.53999999999999, 'type': 'note_off'},\n",
       "  {'note': 44, 'start_time': 2.5499999999999896, 'type': 'note_off'},\n",
       "  {'note': 44, 'start_time': 2.5599999999999894, 'type': 'note_off'},\n",
       "  {'note': 44, 'start_time': 2.569999999999989, 'type': 'note_off'},\n",
       "  {'note': 44, 'start_time': 2.579999999999989, 'type': 'note_off'},\n",
       "  {'note': 44, 'start_time': 2.5899999999999888, 'type': 'note_off'},\n",
       "  {'note': 44, 'start_time': 2.5999999999999885, 'type': 'note_off'},\n",
       "  {'note': 44, 'start_time': 2.6099999999999883, 'type': 'note_off'},\n",
       "  {'note': 44, 'start_time': 2.619999999999988, 'type': 'note_off'},\n",
       "  {'note': 44, 'start_time': 2.629999999999988, 'type': 'note_off'},\n",
       "  {'note': 44, 'start_time': 2.6399999999999877, 'type': 'note_off'},\n",
       "  {'note': 44, 'start_time': 2.6499999999999875, 'type': 'note_off'},\n",
       "  {'note': 44, 'start_time': 2.6599999999999873, 'type': 'note_off'},\n",
       "  {'note': 44, 'start_time': 2.669999999999987, 'type': 'note_off'},\n",
       "  {'note': 44, 'start_time': 2.679999999999987, 'type': 'note_off'},\n",
       "  {'note': 44, 'start_time': 2.6899999999999866, 'type': 'note_off'},\n",
       "  {'note': 44, 'start_time': 2.6999999999999864, 'type': 'note_off'},\n",
       "  {'note': 44, 'start_time': 2.709999999999986, 'type': 'note_off'},\n",
       "  {'note': 44, 'start_time': 2.719999999999986, 'type': 'note_off'},\n",
       "  {'note': 44, 'start_time': 2.7299999999999858, 'type': 'note_off'},\n",
       "  {'note': 44, 'start_time': 2.7399999999999856, 'type': 'note_off'},\n",
       "  {'note': 44, 'start_time': 2.7499999999999853, 'type': 'note_off'},\n",
       "  {'note': 44, 'start_time': 2.759999999999985, 'type': 'note_off'},\n",
       "  {'note': 44, 'start_time': 2.769999999999985, 'type': 'note_off'},\n",
       "  {'note': 44, 'start_time': 2.7799999999999847, 'type': 'note_off'},\n",
       "  {'note': 44, 'start_time': 2.7899999999999845, 'type': 'note_off'},\n",
       "  {'note': 44, 'start_time': 2.7999999999999843, 'type': 'note_off'},\n",
       "  {'note': 44, 'start_time': 2.809999999999984, 'type': 'note_off'},\n",
       "  {'note': 44, 'start_time': 2.819999999999984, 'type': 'note_off'},\n",
       "  {'note': 44, 'start_time': 2.8299999999999836, 'type': 'note_off'},\n",
       "  {'note': 44, 'start_time': 2.8399999999999834, 'type': 'note_off'},\n",
       "  {'note': 44, 'start_time': 2.849999999999983, 'type': 'note_off'},\n",
       "  {'note': 44, 'start_time': 2.859999999999983, 'type': 'note_off'},\n",
       "  {'note': 44, 'start_time': 2.869999999999983, 'type': 'note_off'},\n",
       "  {'note': 44, 'start_time': 2.8799999999999826, 'type': 'note_off'},\n",
       "  {'note': 44, 'start_time': 2.8899999999999824, 'type': 'note_off'},\n",
       "  {'note': 44, 'start_time': 2.899999999999982, 'type': 'note_off'},\n",
       "  {'note': 44, 'start_time': 2.909999999999982, 'type': 'note_off'},\n",
       "  {'note': 44, 'start_time': 2.9199999999999817, 'type': 'note_off'},\n",
       "  {'note': 44, 'start_time': 2.9299999999999815, 'type': 'note_off'},\n",
       "  {'note': 44, 'start_time': 2.9399999999999813, 'type': 'note_off'},\n",
       "  {'note': 44, 'start_time': 2.949999999999981, 'type': 'note_off'},\n",
       "  {'note': 44, 'start_time': 2.959999999999981, 'type': 'note_off'},\n",
       "  {'note': 44, 'start_time': 2.9699999999999807, 'type': 'note_off'},\n",
       "  {'note': 44, 'start_time': 2.9799999999999804, 'type': 'note_off'},\n",
       "  {'note': 44, 'start_time': 2.9899999999999802, 'type': 'note_off'},\n",
       "  {'note': 44, 'start_time': 2.99999999999998, 'type': 'note_off'},\n",
       "  {'note': 44, 'start_time': 3.00999999999998, 'type': 'note_off'},\n",
       "  {'note': 44, 'start_time': 3.0199999999999796, 'type': 'note_off'},\n",
       "  {'note': 44, 'start_time': 3.0299999999999794, 'type': 'note_off'},\n",
       "  {'note': 44, 'start_time': 3.039999999999979, 'type': 'note_off'},\n",
       "  {'note': 44, 'start_time': 3.049999999999979, 'type': 'note_off'},\n",
       "  {'note': 44, 'start_time': 3.0599999999999787, 'type': 'note_off'},\n",
       "  {'note': 44, 'start_time': 3.0699999999999785, 'type': 'note_off'},\n",
       "  {'note': 44, 'start_time': 3.0799999999999783, 'type': 'note_off'},\n",
       "  {'note': 44, 'start_time': 3.089999999999978, 'type': 'note_off'},\n",
       "  {'note': 44, 'start_time': 3.099999999999978, 'type': 'note_off'},\n",
       "  {'note': 44, 'start_time': 3.1099999999999777, 'type': 'note_off'},\n",
       "  {'note': 44, 'start_time': 3.1199999999999775, 'type': 'note_off'},\n",
       "  {'note': 44, 'start_time': 3.1299999999999772, 'type': 'note_off'},\n",
       "  {'note': 44, 'start_time': 3.139999999999977, 'type': 'note_off'},\n",
       "  {'note': 44, 'start_time': 3.149999999999977, 'type': 'note_off'},\n",
       "  {'note': 44, 'start_time': 3.1599999999999766, 'type': 'note_off'},\n",
       "  {'note': 44, 'start_time': 3.1699999999999764, 'type': 'note_off'},\n",
       "  {'note': 44, 'start_time': 3.179999999999976, 'type': 'note_off'},\n",
       "  {'note': 44, 'start_time': 3.189999999999976, 'type': 'note_off'},\n",
       "  {'note': 44, 'start_time': 3.1999999999999758, 'type': 'note_off'},\n",
       "  {'note': 44, 'start_time': 3.2099999999999755, 'type': 'note_off'},\n",
       "  {'note': 44, 'start_time': 3.2199999999999753, 'type': 'note_off'},\n",
       "  {'note': 44, 'start_time': 3.229999999999975, 'type': 'note_off'},\n",
       "  {'note': 44, 'start_time': 3.239999999999975, 'type': 'note_off'},\n",
       "  {'note': 44, 'start_time': 3.2499999999999747, 'type': 'note_off'},\n",
       "  {'note': 44, 'start_time': 3.2599999999999745, 'type': 'note_off'},\n",
       "  {'note': 44, 'start_time': 3.2699999999999743, 'type': 'note_off'},\n",
       "  {'note': 44, 'start_time': 3.279999999999974, 'type': 'note_off'},\n",
       "  {'note': 44, 'start_time': 3.289999999999974, 'type': 'note_off'},\n",
       "  {'note': 44, 'start_time': 3.2999999999999736, 'type': 'note_off'},\n",
       "  {'note': 44, 'start_time': 3.3099999999999734, 'type': 'note_off'},\n",
       "  {'note': 44, 'start_time': 3.319999999999973, 'type': 'note_off'},\n",
       "  {'note': 44, 'start_time': 3.329999999999973, 'type': 'note_off'},\n",
       "  {'note': 44, 'start_time': 3.3399999999999728, 'type': 'note_off'},\n",
       "  {'note': 44, 'start_time': 3.3499999999999726, 'type': 'note_off'},\n",
       "  {'note': 44, 'start_time': 3.3599999999999723, 'type': 'note_off'},\n",
       "  {'note': 44, 'start_time': 3.369999999999972, 'type': 'note_off'},\n",
       "  {'note': 44, 'start_time': 3.379999999999972, 'type': 'note_off'},\n",
       "  {'note': 44, 'start_time': 3.3899999999999717, 'type': 'note_off'},\n",
       "  {'note': 44, 'start_time': 3.3999999999999715, 'type': 'note_off'},\n",
       "  {'note': 44, 'start_time': 3.4099999999999713, 'type': 'note_off'},\n",
       "  {'note': 44, 'start_time': 3.419999999999971, 'type': 'note_off'},\n",
       "  {'note': 44, 'start_time': 3.429999999999971, 'type': 'note_off'},\n",
       "  {'note': 44, 'start_time': 3.4399999999999706, 'type': 'note_off'},\n",
       "  {'note': 44, 'start_time': 3.4499999999999704, 'type': 'note_off'},\n",
       "  {'note': 44, 'start_time': 3.45999999999997, 'type': 'note_off'},\n",
       "  {'note': 44, 'start_time': 3.46999999999997, 'type': 'note_off'},\n",
       "  {'note': 44, 'start_time': 3.47999999999997, 'type': 'note_off'},\n",
       "  {'note': 44, 'start_time': 3.4899999999999696, 'type': 'note_off'},\n",
       "  {'note': 44, 'start_time': 3.4999999999999694, 'type': 'note_off'},\n",
       "  {'note': 44, 'start_time': 3.509999999999969, 'type': 'note_off'},\n",
       "  {'note': 44, 'start_time': 3.519999999999969, 'type': 'note_off'},\n",
       "  {'note': 44, 'start_time': 3.5299999999999687, 'type': 'note_off'},\n",
       "  {'note': 44, 'start_time': 3.5399999999999685, 'type': 'note_off'},\n",
       "  {'note': 44, 'start_time': 3.5499999999999683, 'type': 'note_off'},\n",
       "  {'note': 44, 'start_time': 3.559999999999968, 'type': 'note_off'},\n",
       "  {'note': 44, 'start_time': 3.569999999999968, 'type': 'note_off'},\n",
       "  {'note': 44, 'start_time': 3.5799999999999677, 'type': 'note_off'},\n",
       "  {'note': 44, 'start_time': 3.5899999999999674, 'type': 'note_off'},\n",
       "  {'note': 44, 'start_time': 3.5999999999999672, 'type': 'note_off'},\n",
       "  {'note': 44, 'start_time': 3.609999999999967, 'type': 'note_off'},\n",
       "  {'note': 44, 'start_time': 3.619999999999967, 'type': 'note_off'},\n",
       "  {'note': 44, 'start_time': 3.6299999999999666, 'type': 'note_off'},\n",
       "  {'note': 44, 'start_time': 3.6399999999999664, 'type': 'note_off'},\n",
       "  {'note': 44, 'start_time': 3.649999999999966, 'type': 'note_off'},\n",
       "  {'note': 44, 'start_time': 3.659999999999966, 'type': 'note_off'},\n",
       "  {'note': 44, 'start_time': 3.6699999999999657, 'type': 'note_off'},\n",
       "  {'note': 44, 'start_time': 3.6799999999999655, 'type': 'note_off'},\n",
       "  {'note': 44, 'start_time': 3.6899999999999653, 'type': 'note_off'},\n",
       "  {'note': 44, 'start_time': 3.699999999999965, 'type': 'note_off'},\n",
       "  {'note': 44, 'start_time': 3.709999999999965, 'type': 'note_off'},\n",
       "  {'note': 44, 'start_time': 3.7199999999999647, 'type': 'note_off'},\n",
       "  {'note': 44, 'start_time': 3.7299999999999645, 'type': 'note_off'},\n",
       "  {'note': 44, 'start_time': 3.7399999999999642, 'type': 'note_off'},\n",
       "  {'note': 44, 'start_time': 3.749999999999964, 'type': 'note_off'},\n",
       "  {'note': 44, 'start_time': 3.759999999999964, 'type': 'note_off'},\n",
       "  {'note': 44, 'start_time': 3.7699999999999636, 'type': 'note_off'},\n",
       "  {'note': 44, 'start_time': 3.7799999999999634, 'type': 'note_off'},\n",
       "  {'note': 44, 'start_time': 3.789999999999963, 'type': 'note_off'},\n",
       "  {'note': 44, 'start_time': 3.799999999999963, 'type': 'note_off'},\n",
       "  {'note': 44, 'start_time': 3.8099999999999627, 'type': 'note_off'},\n",
       "  {'note': 44, 'start_time': 3.8199999999999625, 'type': 'note_off'},\n",
       "  {'note': 44, 'start_time': 3.8299999999999623, 'type': 'note_off'},\n",
       "  {'note': 44, 'start_time': 3.839999999999962, 'type': 'note_off'},\n",
       "  {'note': 44, 'start_time': 3.849999999999962, 'type': 'note_off'},\n",
       "  {'note': 44, 'start_time': 3.8599999999999617, 'type': 'note_off'},\n",
       "  {'note': 44, 'start_time': 3.8699999999999615, 'type': 'note_off'},\n",
       "  {'note': 44, 'start_time': 3.8799999999999613, 'type': 'note_off'},\n",
       "  {'note': 44, 'start_time': 3.889999999999961, 'type': 'note_off'},\n",
       "  {'note': 44, 'start_time': 3.899999999999961, 'type': 'note_off'},\n",
       "  {'note': 44, 'start_time': 3.9099999999999606, 'type': 'note_off'},\n",
       "  {'note': 44, 'start_time': 3.9199999999999604, 'type': 'note_off'},\n",
       "  {'note': 44, 'start_time': 3.92999999999996, 'type': 'note_off'},\n",
       "  {'note': 44, 'start_time': 3.93999999999996, 'type': 'note_off'},\n",
       "  {'note': 44, 'start_time': 3.9499999999999598, 'type': 'note_off'},\n",
       "  {'note': 44, 'start_time': 3.9599999999999596, 'type': 'note_off'},\n",
       "  {'note': 44, 'start_time': 3.9699999999999593, 'type': 'note_off'},\n",
       "  {'note': 44, 'start_time': 3.979999999999959, 'type': 'note_off'},\n",
       "  {'note': 44, 'start_time': 3.989999999999959, 'type': 'note_off'},\n",
       "  {'note': 44, 'start_time': 3.9999999999999587, 'type': 'note_off'},\n",
       "  {'note': 44, 'start_time': 4.009999999999959, 'type': 'note_off'},\n",
       "  {'note': 44, 'start_time': 4.019999999999959, 'type': 'note_off'},\n",
       "  {'note': 44, 'start_time': 4.0299999999999585, 'type': 'note_off'},\n",
       "  {'note': 44, 'start_time': 4.039999999999958, 'type': 'note_off'},\n",
       "  {'note': 44, 'start_time': 4.049999999999958, 'type': 'note_off'},\n",
       "  {'note': 44, 'start_time': 4.059999999999958, 'type': 'note_off'},\n",
       "  {'note': 44, 'start_time': 4.069999999999958, 'type': 'note_off'},\n",
       "  {'note': 44, 'start_time': 4.079999999999957, 'type': 'note_off'},\n",
       "  {'note': 44, 'start_time': 4.089999999999957, 'type': 'note_off'},\n",
       "  {'note': 44, 'start_time': 4.099999999999957, 'type': 'note_off'},\n",
       "  {'note': 44, 'start_time': 4.109999999999957, 'type': 'note_off'},\n",
       "  {'note': 44, 'start_time': 4.119999999999957, 'type': 'note_off'},\n",
       "  {'note': 44, 'start_time': 4.129999999999956, 'type': 'note_off'},\n",
       "  {'note': 44, 'start_time': 4.139999999999956, 'type': 'note_off'},\n",
       "  {'note': 44, 'start_time': 4.149999999999956, 'type': 'note_off'},\n",
       "  {'note': 44, 'start_time': 4.159999999999956, 'type': 'note_off'},\n",
       "  {'note': 44, 'start_time': 4.1699999999999555, 'type': 'note_off'},\n",
       "  {'note': 44, 'start_time': 4.179999999999955, 'type': 'note_off'},\n",
       "  {'note': 44, 'start_time': 4.189999999999955, 'type': 'note_off'},\n",
       "  {'note': 44, 'start_time': 4.199999999999955, 'type': 'note_off'},\n",
       "  {'note': 44, 'start_time': 4.209999999999955, 'type': 'note_off'},\n",
       "  {'note': 44, 'start_time': 4.2199999999999545, 'type': 'note_off'},\n",
       "  {'note': 44, 'start_time': 4.229999999999954, 'type': 'note_off'},\n",
       "  {'note': 44, 'start_time': 4.239999999999954, 'type': 'note_off'},\n",
       "  {'note': 44, 'start_time': 4.249999999999954, 'type': 'note_off'},\n",
       "  {'note': 44, 'start_time': 4.259999999999954, 'type': 'note_off'},\n",
       "  {'note': 44, 'start_time': 4.269999999999953, 'type': 'note_off'},\n",
       "  {'note': 44, 'start_time': 4.279999999999953, 'type': 'note_off'},\n",
       "  {'note': 44, 'start_time': 4.289999999999953, 'type': 'note_off'},\n",
       "  {'note': 44, 'start_time': 4.299999999999953, 'type': 'note_off'},\n",
       "  {'note': 44, 'start_time': 4.3099999999999525, 'type': 'note_off'},\n",
       "  {'note': 44, 'start_time': 4.319999999999952, 'type': 'note_off'},\n",
       "  {'note': 44, 'start_time': 4.329999999999952, 'type': 'note_off'},\n",
       "  {'note': 44, 'start_time': 4.339999999999952, 'type': 'note_off'},\n",
       "  {'note': 44, 'start_time': 4.349999999999952, 'type': 'note_off'},\n",
       "  {'note': 44, 'start_time': 4.3599999999999515, 'type': 'note_off'},\n",
       "  {'note': 44, 'start_time': 4.369999999999951, 'type': 'note_off'},\n",
       "  {'note': 44, 'start_time': 4.379999999999951, 'type': 'note_off'},\n",
       "  {'note': 44, 'start_time': 4.389999999999951, 'type': 'note_off'},\n",
       "  {'note': 44, 'start_time': 4.399999999999951, 'type': 'note_off'},\n",
       "  {'note': 44, 'start_time': 4.40999999999995, 'type': 'note_off'},\n",
       "  {'note': 44, 'start_time': 4.41999999999995, 'type': 'note_off'},\n",
       "  {'note': 44, 'start_time': 4.42999999999995, 'type': 'note_off'},\n",
       "  {'note': 44, 'start_time': 4.43999999999995, 'type': 'note_off'},\n",
       "  {'note': 44, 'start_time': 4.4499999999999496, 'type': 'note_off'},\n",
       "  {'note': 44, 'start_time': 4.459999999999949, 'type': 'note_off'},\n",
       "  {'note': 44, 'start_time': 4.469999999999949, 'type': 'note_off'},\n",
       "  {'note': 44, 'start_time': 4.479999999999949, 'type': 'note_off'},\n",
       "  {'note': 44, 'start_time': 4.489999999999949, 'type': 'note_off'},\n",
       "  {'note': 44, 'start_time': 4.4999999999999485, 'type': 'note_off'},\n",
       "  {'note': 44, 'start_time': 4.509999999999948, 'type': 'note_off'},\n",
       "  {'note': 44, 'start_time': 4.519999999999948, 'type': 'note_off'},\n",
       "  {'note': 44, 'start_time': 4.529999999999948, 'type': 'note_off'},\n",
       "  {'note': 44, 'start_time': 4.539999999999948, 'type': 'note_off'},\n",
       "  {'note': 44, 'start_time': 4.549999999999947, 'type': 'note_off'},\n",
       "  {'note': 44, 'start_time': 4.559999999999947, 'type': 'note_off'},\n",
       "  {'note': 44, 'start_time': 4.569999999999947, 'type': 'note_off'},\n",
       "  {'note': 44, 'start_time': 4.579999999999947, 'type': 'note_off'},\n",
       "  {'note': 44, 'start_time': 4.589999999999947, 'type': 'note_off'},\n",
       "  {'note': 44, 'start_time': 4.599999999999946, 'type': 'note_off'},\n",
       "  {'note': 44, 'start_time': 4.609999999999946, 'type': 'note_off'},\n",
       "  {'note': 44, 'start_time': 4.619999999999946, 'type': 'note_off'},\n",
       "  {'note': 44, 'start_time': 4.629999999999946, 'type': 'note_off'},\n",
       "  {'note': 44, 'start_time': 4.6399999999999455, 'type': 'note_off'},\n",
       "  {'note': 44, 'start_time': 4.649999999999945, 'type': 'note_off'},\n",
       "  {'note': 44, 'start_time': 4.659999999999945, 'type': 'note_off'},\n",
       "  {'note': 44, 'start_time': 4.669999999999945, 'type': 'note_off'},\n",
       "  {'note': 44, 'start_time': 4.679999999999945, 'type': 'note_off'},\n",
       "  {'note': 44, 'start_time': 4.689999999999944, 'type': 'note_off'},\n",
       "  {'note': 44, 'start_time': 4.699999999999944, 'type': 'note_off'},\n",
       "  {'note': 44, 'start_time': 4.709999999999944, 'type': 'note_off'},\n",
       "  {'note': 44, 'start_time': 4.719999999999944, 'type': 'note_off'},\n",
       "  {'note': 44, 'start_time': 4.729999999999944, 'type': 'note_off'},\n",
       "  {'note': 44, 'start_time': 4.739999999999943, 'type': 'note_off'},\n",
       "  {'note': 44, 'start_time': 4.749999999999943, 'type': 'note_off'},\n",
       "  {'note': 44, 'start_time': 4.759999999999943, 'type': 'note_off'},\n",
       "  {'note': 44, 'start_time': 4.769999999999943, 'type': 'note_off'},\n",
       "  {'note': 44, 'start_time': 4.7799999999999425, 'type': 'note_off'},\n",
       "  {'note': 44, 'start_time': 4.789999999999942, 'type': 'note_off'},\n",
       "  {'note': 44, 'start_time': 4.799999999999942, 'type': 'note_off'},\n",
       "  {'note': 44, 'start_time': 4.809999999999942, 'type': 'note_off'},\n",
       "  {'note': 44, 'start_time': 4.819999999999942, 'type': 'note_off'},\n",
       "  {'note': 44, 'start_time': 4.8299999999999415, 'type': 'note_off'},\n",
       "  {'note': 44, 'start_time': 4.839999999999941, 'type': 'note_off'},\n",
       "  {'note': 44, 'start_time': 4.849999999999941, 'type': 'note_off'},\n",
       "  {'note': 44, 'start_time': 4.859999999999941, 'type': 'note_off'},\n",
       "  {'note': 44, 'start_time': 4.869999999999941, 'type': 'note_off'},\n",
       "  {'note': 44, 'start_time': 4.87999999999994, 'type': 'note_off'},\n",
       "  {'note': 44, 'start_time': 4.88999999999994, 'type': 'note_off'},\n",
       "  {'note': 44, 'start_time': 4.89999999999994, 'type': 'note_off'},\n",
       "  {'note': 44, 'start_time': 4.90999999999994, 'type': 'note_off'},\n",
       "  {'note': 44, 'start_time': 4.9199999999999395, 'type': 'note_off'},\n",
       "  {'note': 44, 'start_time': 4.929999999999939, 'type': 'note_off'},\n",
       "  {'note': 44, 'start_time': 4.939999999999939, 'type': 'note_off'},\n",
       "  {'note': 44, 'start_time': 4.949999999999939, 'type': 'note_off'},\n",
       "  {'note': 44, 'start_time': 4.959999999999939, 'type': 'note_off'},\n",
       "  {'note': 44, 'start_time': 4.9699999999999385, 'type': 'note_off'},\n",
       "  {'note': 44, 'start_time': 4.979999999999938, 'type': 'note_off'},\n",
       "  {'note': 44, 'start_time': 4.989999999999938, 'type': 'note_off'},\n",
       "  {'note': 44, 'start_time': 4.999999999999938, 'type': 'note_off'}],\n",
       " [],\n",
       " [],\n",
       " []]"
      ]
     },
     "execution_count": 29,
     "metadata": {},
     "output_type": "execute_result"
    }
   ],
   "source": [
    "track_sequence = get_track_sequences([list(x[0]) for x in generated_music])\n",
    "track_sequence"
   ]
  },
  {
   "cell_type": "code",
   "execution_count": 30,
   "metadata": {},
   "outputs": [
    {
     "data": {
      "text/plain": [
       "<midi file None type 1, 4 tracks, 501 messages>"
      ]
     },
     "execution_count": 30,
     "metadata": {},
     "output_type": "execute_result"
    }
   ],
   "source": [
    "midi = get_midi_from_vector_sequence(track_sequence)\n",
    "midi"
   ]
  },
  {
   "cell_type": "markdown",
   "metadata": {},
   "source": [
    "# Save midi"
   ]
  },
  {
   "cell_type": "code",
   "execution_count": 31,
   "metadata": {
    "collapsed": true
   },
   "outputs": [],
   "source": [
    "midi.save('generated_music.mid')"
   ]
  }
 ],
 "metadata": {
  "kernelspec": {
   "display_name": "Python 3",
   "language": "python",
   "name": "python3"
  },
  "language_info": {
   "codemirror_mode": {
    "name": "ipython",
    "version": 3
   },
   "file_extension": ".py",
   "mimetype": "text/x-python",
   "name": "python",
   "nbconvert_exporter": "python",
   "pygments_lexer": "ipython3",
   "version": "3.6.2"
  }
 },
 "nbformat": 4,
 "nbformat_minor": 2
}
