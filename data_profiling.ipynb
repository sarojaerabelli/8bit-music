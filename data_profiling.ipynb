{
 "cells": [
  {
   "cell_type": "code",
   "execution_count": 1,
   "metadata": {
    "collapsed": true
   },
   "outputs": [],
   "source": [
    "import mido\n",
    "import os\n",
    "import numpy as np\n",
    "from scipy import stats\n",
    "from os import listdir\n",
    "from os.path import isfile, join\n",
    "import tensorflow as tf\n",
    "from tensorflow.contrib import rnn\n",
    "import time\n",
    "\n",
    "import matplotlib.pyplot as plt\n",
    "from pylab import rcParams\n",
    "rcParams['figure.figsize'] = (12, 8)"
   ]
  },
  {
   "cell_type": "code",
   "execution_count": 2,
   "metadata": {
    "collapsed": true
   },
   "outputs": [],
   "source": [
    "TICKS_PER_BEAT = 480\n",
    "TEMPO = int(mido.bpm2tempo(120))"
   ]
  },
  {
   "cell_type": "code",
   "execution_count": 3,
   "metadata": {
    "collapsed": true
   },
   "outputs": [],
   "source": [
    "%run get_training_data.py"
   ]
  },
  {
   "cell_type": "markdown",
   "metadata": {},
   "source": [
    "### Create training data"
   ]
  },
  {
   "cell_type": "code",
   "execution_count": 4,
   "metadata": {
    "collapsed": true,
    "scrolled": true
   },
   "outputs": [],
   "source": [
    "# Set num training examples here. Note: actual number will be less, since some have errors\n",
    "training_data, training_data_labels = get_training_vectors_from_file('TRAINING_DATA_6000.txt')"
   ]
  },
  {
   "cell_type": "code",
   "execution_count": 5,
   "metadata": {
    "scrolled": true
   },
   "outputs": [
    {
     "name": "stdout",
     "output_type": "stream",
     "text": [
      "Number of training examples: 5744\n"
     ]
    },
    {
     "data": {
      "text/plain": [
       "['FridayThe13th_-_MapDark.mid',\n",
       " 'gymleader2.mid',\n",
       " 'Zelda_IV_-_Tail_Cave.mid',\n",
       " 'cv1-4.mid',\n",
       " 'MM3-Snake_Man.mid',\n",
       " 'smlboss.mid',\n",
       " 'molemania_snow.mid',\n",
       " 'dw4batl.mid',\n",
       " 'mm1wily2.mid',\n",
       " 'dd-intermission.mid',\n",
       " '1999.mid',\n",
       " 'FiremanByCryogen.mid',\n",
       " 'Heavy_Barrel_-_Boss_BGM.mid',\n",
       " 'Train.mid',\n",
       " 'Wizards_and_Warriors_II_Ironsword_-_Wind_Elemental.mid',\n",
       " 'DK-07-Iceberg.mid',\n",
       " 'supercend.mid',\n",
       " 'DW4TALN.mid',\n",
       " 'shatter2_v10.mid',\n",
       " 'Spark_Man.mid']"
      ]
     },
     "execution_count": 5,
     "metadata": {},
     "output_type": "execute_result"
    }
   ],
   "source": [
    "print(\"Number of training examples:\", len(training_data))\n",
    "training_data_labels[:20]"
   ]
  },
  {
   "cell_type": "markdown",
   "metadata": {},
   "source": [
    "### Data Profiling"
   ]
  },
  {
   "cell_type": "code",
   "execution_count": 6,
   "metadata": {
    "collapsed": true
   },
   "outputs": [],
   "source": [
    "vocab_size = 722"
   ]
  },
  {
   "cell_type": "code",
   "execution_count": 19,
   "metadata": {
    "collapsed": true
   },
   "outputs": [],
   "source": [
    "notes = np.array([])\n",
    "for data in training_data[:1000]:\n",
    "    notes = np.append(notes, data)"
   ]
  },
  {
   "cell_type": "code",
   "execution_count": 20,
   "metadata": {},
   "outputs": [
    {
     "data": {
      "image/png": "[encoded data removed]",
      "text/plain": [
       "<matplotlib.figure.Figure at 0x1bad515a240>"
      ]
     },
     "metadata": {},
     "output_type": "display_data"
    }
   ],
   "source": [
    "plt.hist(notes, bins=300)\n",
    "plt.show()"
   ]
  },
  {
   "cell_type": "code",
   "execution_count": 25,
   "metadata": {},
   "outputs": [
    {
     "data": {
      "image/png": "[encoded data removed]",
      "text/plain": [
       "<matplotlib.figure.Figure at 0x1bad9104c88>"
      ]
     },
     "metadata": {},
     "output_type": "display_data"
    }
   ],
   "source": [
    "plt.hist([x for x in notes if x<128], bins=300)\n",
    "plt.show()"
   ]
  },
  {
   "cell_type": "code",
   "execution_count": 26,
   "metadata": {},
   "outputs": [
    {
     "data": {
      "text/plain": [
       "5.0273174381855492"
      ]
     },
     "execution_count": 26,
     "metadata": {},
     "output_type": "execute_result"
    }
   ],
   "source": [
    "count = {}\n",
    "for note in notes:\n",
    "    if note not in count:\n",
    "        count[note] = 0\n",
    "    count[note] += 1\n",
    "    \n",
    "pdf = np.array(list(count.values())) / len(notes)\n",
    "entropy = -np.sum([p*np.log(p) for p in pdf])\n",
    "entropy"
   ]
  },
  {
   "cell_type": "code",
   "execution_count": 27,
   "metadata": {},
   "outputs": [
    {
     "data": {
      "text/plain": [
       "0.85106195938435625"
      ]
     },
     "execution_count": 27,
     "metadata": {},
     "output_type": "execute_result"
    }
   ],
   "source": [
    "count = {}\n",
    "for note in [x for x in notes if x < 128]:\n",
    "    if note not in count:\n",
    "        count[note] = 0\n",
    "    count[note] += 1\n",
    "    \n",
    "pdf = np.array(list(count.values())) / len(notes)\n",
    "entropy = -np.sum([p*np.log(p) for p in pdf])\n",
    "entropy"
   ]
  },
  {
   "cell_type": "markdown",
   "metadata": {},
   "source": [
    "### Single song"
   ]
  },
  {
   "cell_type": "code",
   "execution_count": 16,
   "metadata": {},
   "outputs": [
    {
     "data": {
      "text/plain": [
       "'FridayThe13th_-_MapDark.mid'"
      ]
     },
     "execution_count": 16,
     "metadata": {},
     "output_type": "execute_result"
    }
   ],
   "source": [
    "index = 0\n",
    "data = training_data[index]\n",
    "training_data_labels[index]"
   ]
  },
  {
   "cell_type": "code",
   "execution_count": 17,
   "metadata": {},
   "outputs": [
    {
     "data": {
      "text/plain": [
       "(1613,)"
      ]
     },
     "execution_count": 17,
     "metadata": {},
     "output_type": "execute_result"
    }
   ],
   "source": [
    "data.shape"
   ]
  },
  {
   "cell_type": "code",
   "execution_count": 18,
   "metadata": {},
   "outputs": [
    {
     "data": {
      "image/png": "[encoded data removed]",
      "text/plain": [
       "<matplotlib.figure.Figure at 0x1fe274ae080>"
      ]
     },
     "metadata": {},
     "output_type": "display_data"
    }
   ],
   "source": [
    "N = 35\n",
    "plt.scatter(range(N), data[:N])\n",
    "plt.show()"
   ]
  },
  {
   "cell_type": "code",
   "execution_count": 85,
   "metadata": {},
   "outputs": [
    {
     "data": {
      "image/png": "[encoded data removed]",
      "text/plain": [
       "<matplotlib.figure.Figure at 0x1d70120f9b0>"
      ]
     },
     "metadata": {},
     "output_type": "display_data"
    }
   ],
   "source": [
    "plt.hist(labels, bins=1000)\n",
    "plt.show()"
   ]
  },
  {
   "cell_type": "code",
   "execution_count": 86,
   "metadata": {
    "collapsed": true
   },
   "outputs": [],
   "source": [
    "# Calculate entropy\n",
    "pdf = np.array([np.sum(labels==i) for i in set(labels)]) / len(labels)"
   ]
  },
  {
   "cell_type": "code",
   "execution_count": 87,
   "metadata": {},
   "outputs": [
    {
     "data": {
      "text/plain": [
       "2.9029592019544155"
      ]
     },
     "execution_count": 87,
     "metadata": {},
     "output_type": "execute_result"
    }
   ],
   "source": [
    "entropy = -np.sum([p*np.log(p) for p in pdf])\n",
    "entropy"
   ]
  },
  {
   "cell_type": "markdown",
   "metadata": {},
   "source": [
    "### Recover original file"
   ]
  },
  {
   "cell_type": "code",
   "execution_count": 69,
   "metadata": {
    "collapsed": true
   },
   "outputs": [],
   "source": [
    "def get_track_sequences(vector_sequence):\n",
    "    \"\"\"Get note sequences for each track from vector sequence output from RNN.\n",
    "\n",
    "    Args:\n",
    "       vector_sequence: List of one-hot vectors containing 128 * NUM_TRACKS note_on events, 128 * NUM_TRACKS note_off events,\n",
    "        and NUM_TIMESHIFTS timeshift events in intervals of 1/96 of a beat each.\n",
    "       \n",
    "    Returns:\n",
    "        List of track vector sequences.\n",
    "    \"\"\"\n",
    "    track_sequences = [[] for _ in range(NUM_TRACKS)]\n",
    "    start_time = 0\n",
    "    for vector in vector_sequence:\n",
    "        index = vector.index(1)\n",
    "        # vector is a time event.\n",
    "        if index >= NUM_MIDI_PITCHES * 2 * NUM_TRACKS:\n",
    "            num_beats = (index - NUM_MIDI_PITCHES * 2 * NUM_TRACKS + 1) / NUM_TIMESHIFTS\n",
    "            start_time += num_beats\n",
    "        else:\n",
    "            # vector is a note_off event.\n",
    "            if index >= NUM_MIDI_PITCHES * NUM_TRACKS:\n",
    "                note_type = 'note_off'\n",
    "                index -= NUM_MIDI_PITCHES * NUM_TRACKS\n",
    "            # vector is a note_on event.\n",
    "            else:\n",
    "                note_type = 'note_on'\n",
    "            track_num = int(index / NUM_MIDI_PITCHES)\n",
    "            note = index % NUM_MIDI_PITCHES\n",
    "            track_sequences[track_num].append({\"type\": note_type, \"note\": note, \"start_time\": start_time})\n",
    "            time_delay = 0\n",
    "            \n",
    "    return track_sequences"
   ]
  },
  {
   "cell_type": "code",
   "execution_count": 70,
   "metadata": {
    "collapsed": true
   },
   "outputs": [],
   "source": [
    "def get_midi_from_vector_sequence(track_sequences):\n",
    "    \"\"\"Get midi from track sequences.\n",
    "\n",
    "    Args:\n",
    "       track_sequences: List of vector sequences for each track.\n",
    "       \n",
    "    Returns:\n",
    "        MidiFile object.\n",
    "    \"\"\"\n",
    "    mid = mido.MidiFile()\n",
    "    tracks = [mido.MidiTrack() for _ in range(NUM_TRACKS)]\n",
    "    mid.tracks.extend(tracks)\n",
    "\n",
    "    for i, ts in enumerate(track_sequences):\n",
    "        prev_start_time = 0\n",
    "        for event in ts:\n",
    "            time = event[\"start_time\"] - prev_start_time\n",
    "            prev_start_time = event[\"start_time\"]\n",
    "            # I picked a random number for velocity.\n",
    "            mid.tracks[i].append(mido.Message(event[\"type\"], note=event[\"note\"], velocity=50,\n",
    "                                              time=int(time * TICKS_PER_BEAT)))\n",
    "    \n",
    "    return mid"
   ]
  },
  {
   "cell_type": "code",
   "execution_count": 71,
   "metadata": {
    "scrolled": true
   },
   "outputs": [
    {
     "data": {
      "text/plain": [
       "[{'note': 60, 'start_time': 0, 'type': 'note_on'},\n",
       " {'note': 60, 'start_time': 3.0, 'type': 'note_off'},\n",
       " {'note': 67, 'start_time': 3.0, 'type': 'note_on'},\n",
       " {'note': 67, 'start_time': 3.5, 'type': 'note_off'},\n",
       " {'note': 60, 'start_time': 3.5, 'type': 'note_on'},\n",
       " {'note': 60, 'start_time': 6.5, 'type': 'note_off'},\n",
       " {'note': 58, 'start_time': 6.5, 'type': 'note_on'},\n",
       " {'note': 58, 'start_time': 7.0, 'type': 'note_off'},\n",
       " {'note': 55, 'start_time': 7.0, 'type': 'note_on'},\n",
       " {'note': 55, 'start_time': 7.5, 'type': 'note_off'},\n",
       " {'note': 58, 'start_time': 7.5, 'type': 'note_on'},\n",
       " {'note': 58, 'start_time': 8.0, 'type': 'note_off'},\n",
       " {'note': 60, 'start_time': 8.0, 'type': 'note_on'},\n",
       " {'note': 60, 'start_time': 11.0, 'type': 'note_off'},\n",
       " {'note': 62, 'start_time': 11.0, 'type': 'note_on'},\n",
       " {'note': 62, 'start_time': 11.5, 'type': 'note_off'},\n",
       " {'note': 63, 'start_time': 11.5, 'type': 'note_on'},\n",
       " {'note': 63, 'start_time': 12.0, 'type': 'note_off'},\n",
       " {'note': 60, 'start_time': 12.0, 'type': 'note_on'},\n",
       " {'note': 60, 'start_time': 14.5, 'type': 'note_off'},\n",
       " {'note': 58, 'start_time': 14.5, 'type': 'note_on'},\n",
       " {'note': 58, 'start_time': 15.0, 'type': 'note_off'},\n",
       " {'note': 55, 'start_time': 15.0, 'type': 'note_on'},\n",
       " {'note': 55, 'start_time': 15.5, 'type': 'note_off'},\n",
       " {'note': 58, 'start_time': 15.5, 'type': 'note_on'},\n",
       " {'note': 58, 'start_time': 16.0, 'type': 'note_off'},\n",
       " {'note': 60, 'start_time': 16.0, 'type': 'note_on'},\n",
       " {'note': 60, 'start_time': 19.0, 'type': 'note_off'},\n",
       " {'note': 67, 'start_time': 19.0, 'type': 'note_on'},\n",
       " {'note': 67, 'start_time': 19.5, 'type': 'note_off'},\n",
       " {'note': 60, 'start_time': 19.5, 'type': 'note_on'},\n",
       " {'note': 60, 'start_time': 20.0, 'type': 'note_off'},\n",
       " {'note': 72, 'start_time': 20.0, 'type': 'note_on'},\n",
       " {'note': 72, 'start_time': 22.5, 'type': 'note_off'},\n",
       " {'note': 70, 'start_time': 22.5, 'type': 'note_on'},\n",
       " {'note': 70, 'start_time': 23.0, 'type': 'note_off'},\n",
       " {'note': 67, 'start_time': 23.0, 'type': 'note_on'},\n",
       " {'note': 67, 'start_time': 23.5, 'type': 'note_off'},\n",
       " {'note': 65, 'start_time': 23.5, 'type': 'note_on'},\n",
       " {'note': 65, 'start_time': 24.0, 'type': 'note_off'},\n",
       " {'note': 67, 'start_time': 24.0, 'type': 'note_on'},\n",
       " {'note': 67, 'start_time': 28.0, 'type': 'note_off'},\n",
       " {'note': 65, 'start_time': 28.0, 'type': 'note_on'},\n",
       " {'note': 65, 'start_time': 28.5, 'type': 'note_off'},\n",
       " {'note': 67, 'start_time': 28.5, 'type': 'note_on'},\n",
       " {'note': 67, 'start_time': 29.0, 'type': 'note_off'},\n",
       " {'note': 65, 'start_time': 29.0, 'type': 'note_on'},\n",
       " {'note': 65, 'start_time': 29.5, 'type': 'note_off'},\n",
       " {'note': 63, 'start_time': 29.5, 'type': 'note_on'},\n",
       " {'note': 63, 'start_time': 30.0, 'type': 'note_off'},\n",
       " {'note': 65, 'start_time': 30.0, 'type': 'note_on'},\n",
       " {'note': 65, 'start_time': 30.5, 'type': 'note_off'},\n",
       " {'note': 63, 'start_time': 30.5, 'type': 'note_on'},\n",
       " {'note': 63, 'start_time': 31.0, 'type': 'note_off'},\n",
       " {'note': 62, 'start_time': 31.0, 'type': 'note_on'},\n",
       " {'note': 62, 'start_time': 31.5, 'type': 'note_off'},\n",
       " {'note': 59, 'start_time': 31.5, 'type': 'note_on'},\n",
       " {'note': 59, 'start_time': 32.0, 'type': 'note_off'},\n",
       " {'note': 60, 'start_time': 32.5, 'type': 'note_on'},\n",
       " {'note': 60, 'start_time': 33.0, 'type': 'note_off'},\n",
       " {'note': 63, 'start_time': 33.0, 'type': 'note_on'},\n",
       " {'note': 63, 'start_time': 33.5, 'type': 'note_off'},\n",
       " {'note': 65, 'start_time': 33.5, 'type': 'note_on'},\n",
       " {'note': 65, 'start_time': 34.0, 'type': 'note_off'},\n",
       " {'note': 67, 'start_time': 34.0, 'type': 'note_on'},\n",
       " {'note': 67, 'start_time': 34.5, 'type': 'note_off'},\n",
       " {'note': 72, 'start_time': 34.5, 'type': 'note_on'},\n",
       " {'note': 72, 'start_time': 35.0, 'type': 'note_off'},\n",
       " {'note': 67, 'start_time': 35.0, 'type': 'note_on'},\n",
       " {'note': 67, 'start_time': 35.5, 'type': 'note_off'},\n",
       " {'note': 65, 'start_time': 35.5, 'type': 'note_on'},\n",
       " {'note': 65, 'start_time': 36.5, 'type': 'note_off'},\n",
       " {'note': 58, 'start_time': 36.5, 'type': 'note_on'},\n",
       " {'note': 58, 'start_time': 37.0, 'type': 'note_off'},\n",
       " {'note': 60, 'start_time': 37.0, 'type': 'note_on'},\n",
       " {'note': 60, 'start_time': 37.5, 'type': 'note_off'},\n",
       " {'note': 62, 'start_time': 37.5, 'type': 'note_on'},\n",
       " {'note': 62, 'start_time': 38.0, 'type': 'note_off'},\n",
       " {'note': 63, 'start_time': 38.0, 'type': 'note_on'},\n",
       " {'note': 63, 'start_time': 38.5, 'type': 'note_off'},\n",
       " {'note': 62, 'start_time': 38.5, 'type': 'note_on'},\n",
       " {'note': 62, 'start_time': 39.0, 'type': 'note_off'},\n",
       " {'note': 60, 'start_time': 39.0, 'type': 'note_on'},\n",
       " {'note': 60, 'start_time': 39.5, 'type': 'note_off'},\n",
       " {'note': 58, 'start_time': 39.5, 'type': 'note_on'},\n",
       " {'note': 58, 'start_time': 40.5, 'type': 'note_off'},\n",
       " {'note': 56, 'start_time': 40.5, 'type': 'note_on'},\n",
       " {'note': 56, 'start_time': 41.0, 'type': 'note_off'},\n",
       " {'note': 58, 'start_time': 41.0, 'type': 'note_on'},\n",
       " {'note': 58, 'start_time': 41.5, 'type': 'note_off'},\n",
       " {'note': 60, 'start_time': 41.5, 'type': 'note_on'},\n",
       " {'note': 60, 'start_time': 42.0, 'type': 'note_off'},\n",
       " {'note': 62, 'start_time': 42.0, 'type': 'note_on'},\n",
       " {'note': 62, 'start_time': 42.5, 'type': 'note_off'},\n",
       " {'note': 60, 'start_time': 42.5, 'type': 'note_on'},\n",
       " {'note': 60, 'start_time': 43.0, 'type': 'note_off'},\n",
       " {'note': 62, 'start_time': 43.0, 'type': 'note_on'},\n",
       " {'note': 62, 'start_time': 43.5, 'type': 'note_off'},\n",
       " {'note': 63, 'start_time': 43.5, 'type': 'note_on'},\n",
       " {'note': 63, 'start_time': 44.0, 'type': 'note_off'},\n",
       " {'note': 65, 'start_time': 44.0, 'type': 'note_on'},\n",
       " {'note': 65, 'start_time': 44.5, 'type': 'note_off'},\n",
       " {'note': 67, 'start_time': 44.5, 'type': 'note_on'},\n",
       " {'note': 67, 'start_time': 45.0, 'type': 'note_off'},\n",
       " {'note': 65, 'start_time': 45.0, 'type': 'note_on'},\n",
       " {'note': 65, 'start_time': 45.5, 'type': 'note_off'},\n",
       " {'note': 63, 'start_time': 45.5, 'type': 'note_on'},\n",
       " {'note': 63, 'start_time': 46.0, 'type': 'note_off'},\n",
       " {'note': 62, 'start_time': 46.0, 'type': 'note_on'},\n",
       " {'note': 62, 'start_time': 46.5, 'type': 'note_off'},\n",
       " {'note': 60, 'start_time': 46.5, 'type': 'note_on'},\n",
       " {'note': 60, 'start_time': 47.0, 'type': 'note_off'},\n",
       " {'note': 62, 'start_time': 47.0, 'type': 'note_on'},\n",
       " {'note': 62, 'start_time': 47.5, 'type': 'note_off'},\n",
       " {'note': 58, 'start_time': 47.5, 'type': 'note_on'},\n",
       " {'note': 58, 'start_time': 48.5, 'type': 'note_off'},\n",
       " {'note': 60, 'start_time': 48.5, 'type': 'note_on'},\n",
       " {'note': 60, 'start_time': 49.0, 'type': 'note_off'},\n",
       " {'note': 63, 'start_time': 49.0, 'type': 'note_on'},\n",
       " {'note': 63, 'start_time': 49.5, 'type': 'note_off'},\n",
       " {'note': 65, 'start_time': 49.5, 'type': 'note_on'},\n",
       " {'note': 65, 'start_time': 50.0, 'type': 'note_off'},\n",
       " {'note': 67, 'start_time': 50.0, 'type': 'note_on'},\n",
       " {'note': 67, 'start_time': 50.5, 'type': 'note_off'},\n",
       " {'note': 72, 'start_time': 50.5, 'type': 'note_on'},\n",
       " {'note': 72, 'start_time': 51.0, 'type': 'note_off'},\n",
       " {'note': 67, 'start_time': 51.0, 'type': 'note_on'},\n",
       " {'note': 67, 'start_time': 51.5, 'type': 'note_off'},\n",
       " {'note': 65, 'start_time': 51.5, 'type': 'note_on'},\n",
       " {'note': 65, 'start_time': 52.5, 'type': 'note_off'},\n",
       " {'note': 58, 'start_time': 52.5, 'type': 'note_on'},\n",
       " {'note': 58, 'start_time': 53.0, 'type': 'note_off'},\n",
       " {'note': 60, 'start_time': 53.0, 'type': 'note_on'},\n",
       " {'note': 60, 'start_time': 53.5, 'type': 'note_off'},\n",
       " {'note': 62, 'start_time': 53.5, 'type': 'note_on'},\n",
       " {'note': 62, 'start_time': 54.0, 'type': 'note_off'},\n",
       " {'note': 63, 'start_time': 54.0, 'type': 'note_on'},\n",
       " {'note': 63, 'start_time': 54.5, 'type': 'note_off'},\n",
       " {'note': 62, 'start_time': 54.5, 'type': 'note_on'},\n",
       " {'note': 62, 'start_time': 55.0, 'type': 'note_off'},\n",
       " {'note': 60, 'start_time': 55.0, 'type': 'note_on'},\n",
       " {'note': 60, 'start_time': 55.5, 'type': 'note_off'},\n",
       " {'note': 58, 'start_time': 55.5, 'type': 'note_on'},\n",
       " {'note': 58, 'start_time': 56.5, 'type': 'note_off'},\n",
       " {'note': 56, 'start_time': 56.5, 'type': 'note_on'},\n",
       " {'note': 56, 'start_time': 57.0, 'type': 'note_off'},\n",
       " {'note': 58, 'start_time': 57.0, 'type': 'note_on'},\n",
       " {'note': 58, 'start_time': 57.5, 'type': 'note_off'},\n",
       " {'note': 60, 'start_time': 57.5, 'type': 'note_on'},\n",
       " {'note': 60, 'start_time': 58.0, 'type': 'note_off'},\n",
       " {'note': 62, 'start_time': 58.0, 'type': 'note_on'},\n",
       " {'note': 62, 'start_time': 58.5, 'type': 'note_off'},\n",
       " {'note': 60, 'start_time': 58.5, 'type': 'note_on'},\n",
       " {'note': 60, 'start_time': 59.0, 'type': 'note_off'},\n",
       " {'note': 62, 'start_time': 59.0, 'type': 'note_on'},\n",
       " {'note': 62, 'start_time': 59.5, 'type': 'note_off'},\n",
       " {'note': 63, 'start_time': 59.5, 'type': 'note_on'},\n",
       " {'note': 63, 'start_time': 60.0, 'type': 'note_off'},\n",
       " {'note': 65, 'start_time': 60.0, 'type': 'note_on'},\n",
       " {'note': 65, 'start_time': 60.5, 'type': 'note_off'},\n",
       " {'note': 67, 'start_time': 60.5, 'type': 'note_on'},\n",
       " {'note': 67, 'start_time': 61.0, 'type': 'note_off'},\n",
       " {'note': 65, 'start_time': 61.0, 'type': 'note_on'},\n",
       " {'note': 65, 'start_time': 61.5, 'type': 'note_off'},\n",
       " {'note': 67, 'start_time': 61.5, 'type': 'note_on'},\n",
       " {'note': 67, 'start_time': 62.0, 'type': 'note_off'},\n",
       " {'note': 70, 'start_time': 62.0, 'type': 'note_on'},\n",
       " {'note': 70, 'start_time': 62.5, 'type': 'note_off'},\n",
       " {'note': 67, 'start_time': 62.5, 'type': 'note_on'},\n",
       " {'note': 67, 'start_time': 63.0, 'type': 'note_off'},\n",
       " {'note': 71, 'start_time': 63.0, 'type': 'note_on'},\n",
       " {'note': 71, 'start_time': 64.0, 'type': 'note_off'},\n",
       " {'note': 60, 'start_time': 64.0, 'type': 'note_on'},\n",
       " {'note': 60, 'start_time': 67.0, 'type': 'note_off'},\n",
       " {'note': 67, 'start_time': 67.0, 'type': 'note_on'},\n",
       " {'note': 67, 'start_time': 67.5, 'type': 'note_off'},\n",
       " {'note': 60, 'start_time': 67.5, 'type': 'note_on'},\n",
       " {'note': 60, 'start_time': 70.5, 'type': 'note_off'},\n",
       " {'note': 58, 'start_time': 70.5, 'type': 'note_on'},\n",
       " {'note': 58, 'start_time': 71.0, 'type': 'note_off'},\n",
       " {'note': 55, 'start_time': 71.0, 'type': 'note_on'},\n",
       " {'note': 55, 'start_time': 71.5, 'type': 'note_off'},\n",
       " {'note': 58, 'start_time': 71.5, 'type': 'note_on'},\n",
       " {'note': 58, 'start_time': 72.0, 'type': 'note_off'},\n",
       " {'note': 60, 'start_time': 72.0, 'type': 'note_on'},\n",
       " {'note': 60, 'start_time': 75.0, 'type': 'note_off'},\n",
       " {'note': 62, 'start_time': 75.0, 'type': 'note_on'},\n",
       " {'note': 62, 'start_time': 75.5, 'type': 'note_off'},\n",
       " {'note': 63, 'start_time': 75.5, 'type': 'note_on'},\n",
       " {'note': 63, 'start_time': 76.0, 'type': 'note_off'},\n",
       " {'note': 60, 'start_time': 76.0, 'type': 'note_on'},\n",
       " {'note': 60, 'start_time': 78.5, 'type': 'note_off'},\n",
       " {'note': 58, 'start_time': 78.5, 'type': 'note_on'},\n",
       " {'note': 58, 'start_time': 79.0, 'type': 'note_off'},\n",
       " {'note': 55, 'start_time': 79.0, 'type': 'note_on'},\n",
       " {'note': 55, 'start_time': 79.5, 'type': 'note_off'},\n",
       " {'note': 58, 'start_time': 79.5, 'type': 'note_on'},\n",
       " {'note': 58, 'start_time': 80.0, 'type': 'note_off'},\n",
       " {'note': 60, 'start_time': 80.0, 'type': 'note_on'},\n",
       " {'note': 60, 'start_time': 83.0, 'type': 'note_off'},\n",
       " {'note': 67, 'start_time': 83.0, 'type': 'note_on'},\n",
       " {'note': 67, 'start_time': 83.5, 'type': 'note_off'},\n",
       " {'note': 60, 'start_time': 83.5, 'type': 'note_on'},\n",
       " {'note': 60, 'start_time': 84.0, 'type': 'note_off'},\n",
       " {'note': 72, 'start_time': 84.0, 'type': 'note_on'},\n",
       " {'note': 72, 'start_time': 86.5, 'type': 'note_off'},\n",
       " {'note': 70, 'start_time': 86.5, 'type': 'note_on'},\n",
       " {'note': 70, 'start_time': 87.0, 'type': 'note_off'},\n",
       " {'note': 67, 'start_time': 87.0, 'type': 'note_on'},\n",
       " {'note': 67, 'start_time': 87.5, 'type': 'note_off'},\n",
       " {'note': 65, 'start_time': 87.5, 'type': 'note_on'},\n",
       " {'note': 65, 'start_time': 88.0, 'type': 'note_off'},\n",
       " {'note': 67, 'start_time': 88.0, 'type': 'note_on'},\n",
       " {'note': 67, 'start_time': 92.0, 'type': 'note_off'},\n",
       " {'note': 65, 'start_time': 92.0, 'type': 'note_on'},\n",
       " {'note': 65, 'start_time': 92.5, 'type': 'note_off'},\n",
       " {'note': 67, 'start_time': 92.5, 'type': 'note_on'},\n",
       " {'note': 67, 'start_time': 93.0, 'type': 'note_off'},\n",
       " {'note': 65, 'start_time': 93.0, 'type': 'note_on'},\n",
       " {'note': 65, 'start_time': 93.5, 'type': 'note_off'},\n",
       " {'note': 63, 'start_time': 93.5, 'type': 'note_on'},\n",
       " {'note': 63, 'start_time': 94.0, 'type': 'note_off'},\n",
       " {'note': 65, 'start_time': 94.0, 'type': 'note_on'},\n",
       " {'note': 65, 'start_time': 94.5, 'type': 'note_off'},\n",
       " {'note': 63, 'start_time': 94.5, 'type': 'note_on'},\n",
       " {'note': 63, 'start_time': 95.0, 'type': 'note_off'},\n",
       " {'note': 62, 'start_time': 95.0, 'type': 'note_on'},\n",
       " {'note': 62, 'start_time': 95.5, 'type': 'note_off'},\n",
       " {'note': 59, 'start_time': 95.5, 'type': 'note_on'},\n",
       " {'note': 59, 'start_time': 96.0, 'type': 'note_off'},\n",
       " {'note': 60, 'start_time': 96.5, 'type': 'note_on'},\n",
       " {'note': 60, 'start_time': 97.0, 'type': 'note_off'},\n",
       " {'note': 63, 'start_time': 97.0, 'type': 'note_on'},\n",
       " {'note': 63, 'start_time': 97.5, 'type': 'note_off'},\n",
       " {'note': 65, 'start_time': 97.5, 'type': 'note_on'},\n",
       " {'note': 65, 'start_time': 98.0, 'type': 'note_off'},\n",
       " {'note': 67, 'start_time': 98.0, 'type': 'note_on'},\n",
       " {'note': 67, 'start_time': 98.5, 'type': 'note_off'},\n",
       " {'note': 72, 'start_time': 98.5, 'type': 'note_on'},\n",
       " {'note': 72, 'start_time': 99.0, 'type': 'note_off'},\n",
       " {'note': 67, 'start_time': 99.0, 'type': 'note_on'},\n",
       " {'note': 67, 'start_time': 99.5, 'type': 'note_off'},\n",
       " {'note': 65, 'start_time': 99.5, 'type': 'note_on'},\n",
       " {'note': 65, 'start_time': 100.5, 'type': 'note_off'},\n",
       " {'note': 58, 'start_time': 100.5, 'type': 'note_on'},\n",
       " {'note': 58, 'start_time': 101.0, 'type': 'note_off'},\n",
       " {'note': 60, 'start_time': 101.0, 'type': 'note_on'},\n",
       " {'note': 60, 'start_time': 101.5, 'type': 'note_off'},\n",
       " {'note': 62, 'start_time': 101.5, 'type': 'note_on'},\n",
       " {'note': 62, 'start_time': 102.0, 'type': 'note_off'},\n",
       " {'note': 63, 'start_time': 102.0, 'type': 'note_on'},\n",
       " {'note': 63, 'start_time': 102.5, 'type': 'note_off'},\n",
       " {'note': 62, 'start_time': 102.5, 'type': 'note_on'},\n",
       " {'note': 62, 'start_time': 103.0, 'type': 'note_off'},\n",
       " {'note': 60, 'start_time': 103.0, 'type': 'note_on'},\n",
       " {'note': 60, 'start_time': 103.5, 'type': 'note_off'},\n",
       " {'note': 58, 'start_time': 103.5, 'type': 'note_on'},\n",
       " {'note': 58, 'start_time': 104.5, 'type': 'note_off'},\n",
       " {'note': 56, 'start_time': 104.5, 'type': 'note_on'},\n",
       " {'note': 56, 'start_time': 105.0, 'type': 'note_off'},\n",
       " {'note': 58, 'start_time': 105.0, 'type': 'note_on'},\n",
       " {'note': 58, 'start_time': 105.5, 'type': 'note_off'},\n",
       " {'note': 60, 'start_time': 105.5, 'type': 'note_on'},\n",
       " {'note': 60, 'start_time': 106.0, 'type': 'note_off'},\n",
       " {'note': 62, 'start_time': 106.0, 'type': 'note_on'},\n",
       " {'note': 62, 'start_time': 106.5, 'type': 'note_off'},\n",
       " {'note': 60, 'start_time': 106.5, 'type': 'note_on'},\n",
       " {'note': 60, 'start_time': 107.0, 'type': 'note_off'},\n",
       " {'note': 62, 'start_time': 107.0, 'type': 'note_on'},\n",
       " {'note': 62, 'start_time': 107.5, 'type': 'note_off'},\n",
       " {'note': 63, 'start_time': 107.5, 'type': 'note_on'},\n",
       " {'note': 63, 'start_time': 108.0, 'type': 'note_off'},\n",
       " {'note': 65, 'start_time': 108.0, 'type': 'note_on'},\n",
       " {'note': 65, 'start_time': 108.5, 'type': 'note_off'},\n",
       " {'note': 67, 'start_time': 108.5, 'type': 'note_on'},\n",
       " {'note': 67, 'start_time': 109.0, 'type': 'note_off'},\n",
       " {'note': 65, 'start_time': 109.0, 'type': 'note_on'},\n",
       " {'note': 65, 'start_time': 109.5, 'type': 'note_off'},\n",
       " {'note': 63, 'start_time': 109.5, 'type': 'note_on'},\n",
       " {'note': 63, 'start_time': 110.0, 'type': 'note_off'},\n",
       " {'note': 62, 'start_time': 110.0, 'type': 'note_on'},\n",
       " {'note': 62, 'start_time': 110.5, 'type': 'note_off'},\n",
       " {'note': 60, 'start_time': 110.5, 'type': 'note_on'},\n",
       " {'note': 60, 'start_time': 111.0, 'type': 'note_off'},\n",
       " {'note': 62, 'start_time': 111.0, 'type': 'note_on'},\n",
       " {'note': 62, 'start_time': 111.5, 'type': 'note_off'},\n",
       " {'note': 58, 'start_time': 111.5, 'type': 'note_on'},\n",
       " {'note': 58, 'start_time': 112.5, 'type': 'note_off'},\n",
       " {'note': 60, 'start_time': 112.5, 'type': 'note_on'},\n",
       " {'note': 60, 'start_time': 113.0, 'type': 'note_off'},\n",
       " {'note': 63, 'start_time': 113.0, 'type': 'note_on'},\n",
       " {'note': 63, 'start_time': 113.5, 'type': 'note_off'},\n",
       " {'note': 65, 'start_time': 113.5, 'type': 'note_on'},\n",
       " {'note': 65, 'start_time': 114.0, 'type': 'note_off'},\n",
       " {'note': 67, 'start_time': 114.0, 'type': 'note_on'},\n",
       " {'note': 67, 'start_time': 114.5, 'type': 'note_off'},\n",
       " {'note': 72, 'start_time': 114.5, 'type': 'note_on'},\n",
       " {'note': 72, 'start_time': 115.0, 'type': 'note_off'},\n",
       " {'note': 67, 'start_time': 115.0, 'type': 'note_on'},\n",
       " {'note': 67, 'start_time': 115.5, 'type': 'note_off'},\n",
       " {'note': 65, 'start_time': 115.5, 'type': 'note_on'},\n",
       " {'note': 65, 'start_time': 116.5, 'type': 'note_off'},\n",
       " {'note': 58, 'start_time': 116.5, 'type': 'note_on'},\n",
       " {'note': 58, 'start_time': 117.0, 'type': 'note_off'},\n",
       " {'note': 60, 'start_time': 117.0, 'type': 'note_on'},\n",
       " {'note': 60, 'start_time': 117.5, 'type': 'note_off'},\n",
       " {'note': 62, 'start_time': 117.5, 'type': 'note_on'},\n",
       " {'note': 62, 'start_time': 118.0, 'type': 'note_off'},\n",
       " {'note': 63, 'start_time': 118.0, 'type': 'note_on'},\n",
       " {'note': 63, 'start_time': 118.5, 'type': 'note_off'},\n",
       " {'note': 62, 'start_time': 118.5, 'type': 'note_on'},\n",
       " {'note': 62, 'start_time': 119.0, 'type': 'note_off'},\n",
       " {'note': 60, 'start_time': 119.0, 'type': 'note_on'},\n",
       " {'note': 60, 'start_time': 119.5, 'type': 'note_off'},\n",
       " {'note': 58, 'start_time': 119.5, 'type': 'note_on'},\n",
       " {'note': 58, 'start_time': 120.5, 'type': 'note_off'},\n",
       " {'note': 56, 'start_time': 120.5, 'type': 'note_on'},\n",
       " {'note': 56, 'start_time': 121.0, 'type': 'note_off'},\n",
       " {'note': 58, 'start_time': 121.0, 'type': 'note_on'},\n",
       " {'note': 58, 'start_time': 121.5, 'type': 'note_off'},\n",
       " {'note': 60, 'start_time': 121.5, 'type': 'note_on'},\n",
       " {'note': 60, 'start_time': 122.0, 'type': 'note_off'},\n",
       " {'note': 62, 'start_time': 122.0, 'type': 'note_on'},\n",
       " {'note': 62, 'start_time': 122.5, 'type': 'note_off'},\n",
       " {'note': 60, 'start_time': 122.5, 'type': 'note_on'},\n",
       " {'note': 60, 'start_time': 123.0, 'type': 'note_off'},\n",
       " {'note': 62, 'start_time': 123.0, 'type': 'note_on'},\n",
       " {'note': 62, 'start_time': 123.5, 'type': 'note_off'},\n",
       " {'note': 63, 'start_time': 123.5, 'type': 'note_on'},\n",
       " {'note': 63, 'start_time': 124.0, 'type': 'note_off'},\n",
       " {'note': 65, 'start_time': 124.0, 'type': 'note_on'},\n",
       " {'note': 65, 'start_time': 124.5, 'type': 'note_off'},\n",
       " {'note': 67, 'start_time': 124.5, 'type': 'note_on'},\n",
       " {'note': 67, 'start_time': 125.0, 'type': 'note_off'},\n",
       " {'note': 65, 'start_time': 125.0, 'type': 'note_on'},\n",
       " {'note': 65, 'start_time': 125.5, 'type': 'note_off'},\n",
       " {'note': 67, 'start_time': 125.5, 'type': 'note_on'},\n",
       " {'note': 67, 'start_time': 126.0, 'type': 'note_off'},\n",
       " {'note': 70, 'start_time': 126.0, 'type': 'note_on'},\n",
       " {'note': 70, 'start_time': 126.5, 'type': 'note_off'},\n",
       " {'note': 67, 'start_time': 126.5, 'type': 'note_on'},\n",
       " {'note': 67, 'start_time': 127.0, 'type': 'note_off'},\n",
       " {'note': 71, 'start_time': 127.0, 'type': 'note_on'},\n",
       " {'note': 71, 'start_time': 128.0, 'type': 'note_off'}]"
      ]
     },
     "execution_count": 71,
     "metadata": {},
     "output_type": "execute_result"
    }
   ],
   "source": [
    "track_sequence = get_track_sequences([list(x) for x in data])\n",
    "track_sequence[1]"
   ]
  },
  {
   "cell_type": "code",
   "execution_count": 72,
   "metadata": {},
   "outputs": [
    {
     "data": {
      "text/plain": [
       "<midi file None type 1, 4 tracks, 868 messages>"
      ]
     },
     "execution_count": 72,
     "metadata": {},
     "output_type": "execute_result"
    }
   ],
   "source": [
    "midi = get_midi_from_vector_sequence(track_sequence)\n",
    "midi"
   ]
  },
  {
   "cell_type": "code",
   "execution_count": 73,
   "metadata": {
    "collapsed": true
   },
   "outputs": [],
   "source": [
    "midi.save(\"Batmango-test.mid\")"
   ]
  }
 ],
 "metadata": {
  "kernelspec": {
   "display_name": "Python 3",
   "language": "python",
   "name": "python3"
  },
  "language_info": {
   "codemirror_mode": {
    "name": "ipython",
    "version": 3
   },
   "file_extension": ".py",
   "mimetype": "text/x-python",
   "name": "python",
   "nbconvert_exporter": "python",
   "pygments_lexer": "ipython3",
   "version": "3.6.2"
  }
 },
 "nbformat": 4,
 "nbformat_minor": 2
}
