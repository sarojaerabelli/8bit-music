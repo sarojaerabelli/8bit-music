{
 "cells": [
  {
   "cell_type": "code",
   "execution_count": 1,
   "metadata": {
    "collapsed": true
   },
   "outputs": [],
   "source": [
    "import mido\n",
    "import os\n",
    "import numpy as np\n",
    "from scipy import stats\n",
    "from os import listdir\n",
    "from os.path import isfile, join\n",
    "import tensorflow as tf\n",
    "from tensorflow.contrib import rnn\n",
    "import time\n",
    "\n",
    "import matplotlib.pyplot as plt\n",
    "from pylab import rcParams\n",
    "rcParams['figure.figsize'] = (12, 8)"
   ]
  },
  {
   "cell_type": "code",
   "execution_count": 2,
   "metadata": {
    "collapsed": true
   },
   "outputs": [],
   "source": [
    "TICKS_PER_BEAT = 480\n",
    "TEMPO = int(mido.bpm2tempo(120))"
   ]
  },
  {
   "cell_type": "code",
   "execution_count": 64,
   "metadata": {
    "collapsed": true
   },
   "outputs": [],
   "source": [
    "%run get_training_data.py"
   ]
  },
  {
   "cell_type": "markdown",
   "metadata": {},
   "source": [
    "### Create training data"
   ]
  },
  {
   "cell_type": "code",
   "execution_count": 65,
   "metadata": {
    "collapsed": true
   },
   "outputs": [],
   "source": [
    "def get_training_data(start_index, end_index):\n",
    "    \"\"\"Generate training data array for all files in \"midis_processed/\" directory.\n",
    "       \n",
    "    Returns:\n",
    "        Numpy array of training data.\n",
    "    \"\"\"\n",
    "    training_data = []\n",
    "    training_data_labels = []\n",
    "    for filename in os.listdir('midis_processed/')[start_index:end_index]:\n",
    "        if filename.endswith(\".mid\"):\n",
    "            vector = midi_to_vector('midis_processed/' + filename)\n",
    "            if len(vector) > 100:\n",
    "                training_data.append(np.array(vector))\n",
    "                training_data_labels.append(filename)\n",
    "            else:\n",
    "                print(\"Faulty training data: \" + filename + \". len(vector)=\" + str(len(vector)))\n",
    "    return np.array(training_data), training_data_labels"
   ]
  },
  {
   "cell_type": "code",
   "execution_count": 66,
   "metadata": {},
   "outputs": [],
   "source": [
    "# Set num training examples here. Note: actual number will be less, since some have errors\n",
    "training_data, training_data_labels = get_training_data(13, 14)"
   ]
  },
  {
   "cell_type": "code",
   "execution_count": 67,
   "metadata": {},
   "outputs": [
    {
     "name": "stdout",
     "output_type": "stream",
     "text": [
      "Number of training examples: 1\n"
     ]
    },
    {
     "data": {
      "text/plain": [
       "['3D_Worldrunner_Main.mid']"
      ]
     },
     "execution_count": 67,
     "metadata": {},
     "output_type": "execute_result"
    }
   ],
   "source": [
    "print(\"Number of training examples:\", len(training_data))\n",
    "training_data_labels"
   ]
  },
  {
   "cell_type": "markdown",
   "metadata": {},
   "source": [
    "### Data Profiling"
   ]
  },
  {
   "cell_type": "code",
   "execution_count": 69,
   "metadata": {},
   "outputs": [
    {
     "data": {
      "text/plain": [
       "'3D_Worldrunner_Main.mid'"
      ]
     },
     "execution_count": 69,
     "metadata": {},
     "output_type": "execute_result"
    }
   ],
   "source": [
    "index = 0\n",
    "data = training_data[index]\n",
    "training_data_labels[index]"
   ]
  },
  {
   "cell_type": "code",
   "execution_count": 70,
   "metadata": {},
   "outputs": [
    {
     "data": {
      "text/plain": [
       "(5572, 1120)"
      ]
     },
     "execution_count": 70,
     "metadata": {},
     "output_type": "execute_result"
    }
   ],
   "source": [
    "data.shape"
   ]
  },
  {
   "cell_type": "code",
   "execution_count": 71,
   "metadata": {
    "collapsed": true
   },
   "outputs": [],
   "source": [
    "vocab_size = data.shape[1]"
   ]
  },
  {
   "cell_type": "code",
   "execution_count": 72,
   "metadata": {},
   "outputs": [
    {
     "data": {
      "text/plain": [
       "array([ 207,  427, 1070,  719,  939, 1024,  206,  429, 1069,  718])"
      ]
     },
     "execution_count": 72,
     "metadata": {},
     "output_type": "execute_result"
    }
   ],
   "source": [
    "labels = data.dot(range(vocab_size))\n",
    "labels[:10]"
   ]
  },
  {
   "cell_type": "code",
   "execution_count": 73,
   "metadata": {},
   "outputs": [
    {
     "data": {
      "image/png": "[encoded data removed]",
      "text/plain": [
       "<matplotlib.figure.Figure at 0x2a43f16c080>"
      ]
     },
     "metadata": {},
     "output_type": "display_data"
    }
   ],
   "source": [
    "plt.hist(labels, bins=100)\n",
    "plt.show()"
   ]
  },
  {
   "cell_type": "code",
   "execution_count": 74,
   "metadata": {},
   "outputs": [
    {
     "data": {
      "image/png": "[encoded data removed]",
      "text/plain": [
       "<matplotlib.figure.Figure at 0x2a43f4e84e0>"
      ]
     },
     "metadata": {},
     "output_type": "display_data"
    },
    {
     "data": {
      "text/plain": [
       "array([ 207,  427, 1070,  719,  939, 1024,  206,  429, 1069,  718,  941,\n",
       "       1023,  204,  431, 1070,  716,  943, 1024,  202,  432, 1069,  714,\n",
       "        944, 1024,  200,  434, 1070,  712,  946, 1023,  199,  436, 1070,\n",
       "        711,  948, 1023,  197,  438, 1070,  709,  950, 1023,  195,  439,\n",
       "       1070,  707,  951, 1023,  204,  432, 1069,  716,  944, 1072,  206,\n",
       "        434, 1045,  718, 1024,  204, 1045,  716,  946, 1024,  202, 1045,\n",
       "        714, 1024,  206, 1045,  718, 1024,  207,  427, 1069,  719,  939,\n",
       "       1119, 1072,  202,  422,  561,  554,  548, 1046,  934, 1073, 1066,\n",
       "       1060, 1047,  714, 1023,  209,  429,  554,  552, 1046,  941, 1066,\n",
       "       1064, 1023,  556, 1046,  721, 1068, 1023,  209,  429,  554,  548,\n",
       "       1046,  941, 1066, 1060, 1047,  721, 1023,  211,  429,  554,  552,\n",
       "       1046,  941, 1066, 1064, 1023,  556, 1046,  723, 1068, 1023,  212,\n",
       "        422,  554,  548, 1046,  934, 1066, 1060, 1047,  429,  554,  552,\n",
       "       1046,  941, 1066, 1064, 1023,  556, 1046,  724, 1068, 1023,  211,\n",
       "        429,  554,  548, 1046,  941, 1066, 1060, 1047,  723, 1023,  209,\n",
       "        429,  554,  552, 1046,  941, 1066, 1064, 1023,  556, 1046,  721,\n",
       "       1068, 1023,  207,  427,  554,  548, 1046,  939, 1066, 1060, 1047,\n",
       "        431,  554,  552, 1046,  943, 1066, 1064, 1023,  556, 1046,  719,\n",
       "       1068, 1023])"
      ]
     },
     "execution_count": 74,
     "metadata": {},
     "output_type": "execute_result"
    }
   ],
   "source": [
    "N = 200\n",
    "plt.scatter(range(N), labels[:N])\n",
    "plt.show()\n",
    "labels[:N]"
   ]
  }
 ],
 "metadata": {
  "kernelspec": {
   "display_name": "Python 3",
   "language": "python",
   "name": "python3"
  },
  "language_info": {
   "codemirror_mode": {
    "name": "ipython",
    "version": 3
   },
   "file_extension": ".py",
   "mimetype": "text/x-python",
   "name": "python",
   "nbconvert_exporter": "python",
   "pygments_lexer": "ipython3",
   "version": "3.6.2"
  }
 },
 "nbformat": 4,
 "nbformat_minor": 2
}
