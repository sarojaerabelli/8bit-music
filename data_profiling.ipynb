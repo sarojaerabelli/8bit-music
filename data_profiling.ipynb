{
 "cells": [
  {
   "cell_type": "code",
   "execution_count": 1,
   "metadata": {
    "collapsed": true
   },
   "outputs": [],
   "source": [
    "import mido\n",
    "import os\n",
    "import numpy as np\n",
    "from scipy import stats\n",
    "from os import listdir\n",
    "from os.path import isfile, join\n",
    "import tensorflow as tf\n",
    "from tensorflow.contrib import rnn\n",
    "import time\n",
    "\n",
    "import matplotlib.pyplot as plt\n",
    "from pylab import rcParams\n",
    "rcParams['figure.figsize'] = (12, 8)"
   ]
  },
  {
   "cell_type": "code",
   "execution_count": 2,
   "metadata": {
    "collapsed": true
   },
   "outputs": [],
   "source": [
    "TICKS_PER_BEAT = 480\n",
    "TEMPO = int(mido.bpm2tempo(120))"
   ]
  },
  {
   "cell_type": "code",
   "execution_count": 3,
   "metadata": {
    "collapsed": true
   },
   "outputs": [],
   "source": [
    "%run get_training_data.py"
   ]
  },
  {
   "cell_type": "markdown",
   "metadata": {},
   "source": [
    "### Create training data"
   ]
  },
  {
   "cell_type": "code",
   "execution_count": 4,
   "metadata": {
    "collapsed": true
   },
   "outputs": [],
   "source": [
    "def get_training_data(start_index, end_index):\n",
    "    \"\"\"Generate training data array for all files in \"midis_processed/\" directory.\n",
    "       \n",
    "    Returns:\n",
    "        Numpy array of training data.\n",
    "    \"\"\"\n",
    "    training_data = []\n",
    "    training_data_labels = []\n",
    "    for filename in os.listdir('midis_processed/')[start_index:end_index]:\n",
    "        if filename.endswith(\".mid\"):\n",
    "            vector = midi_to_vector('midis_processed/' + filename)\n",
    "            if len(vector) > 100:\n",
    "                training_data.append(np.array(vector))\n",
    "                training_data_labels.append(filename)\n",
    "            else:\n",
    "                print(\"Faulty training data: \" + filename + \". len(vector)=\" + str(len(vector)))\n",
    "    return np.array(training_data), training_data_labels"
   ]
  },
  {
   "cell_type": "code",
   "execution_count": 5,
   "metadata": {
    "collapsed": true
   },
   "outputs": [],
   "source": [
    "# Set num training examples here. Note: actual number will be less, since some have errors\n",
    "training_data, training_data_labels = get_training_data(13, 30)"
   ]
  },
  {
   "cell_type": "code",
   "execution_count": 6,
   "metadata": {},
   "outputs": [
    {
     "name": "stdout",
     "output_type": "stream",
     "text": [
      "Number of training examples: 17\n"
     ]
    },
    {
     "data": {
      "text/plain": [
       "['3D_Worldrunner_Main.mid',\n",
       " '43pbos1 (1).mid',\n",
       " '43pbos12 (1).mid',\n",
       " '720.mid',\n",
       " '8eyes-spain1.mid',\n",
       " '8_Eyes.mid',\n",
       " '8_Eyes_-_Enterance.mid',\n",
       " 'A-6_Ice_Fortress_2.mid',\n",
       " 'A3_cave.mid',\n",
       " 'A3_over.mid',\n",
       " 'A3_title.mid',\n",
       " 'abadoxgo.mid',\n",
       " 'abb-bgma.mid',\n",
       " 'ABBBGM-B.mid',\n",
       " 'Action52BitsandPieces.mid',\n",
       " 'Action52Cheetahmen.mid',\n",
       " 'Action52CityofDoom.mid']"
      ]
     },
     "execution_count": 6,
     "metadata": {},
     "output_type": "execute_result"
    }
   ],
   "source": [
    "print(\"Number of training examples:\", len(training_data))\n",
    "training_data_labels"
   ]
  },
  {
   "cell_type": "markdown",
   "metadata": {},
   "source": [
    "### Data Profiling"
   ]
  },
  {
   "cell_type": "code",
   "execution_count": 38,
   "metadata": {},
   "outputs": [
    {
     "data": {
      "text/plain": [
       "'abadoxgo.mid'"
      ]
     },
     "execution_count": 38,
     "metadata": {},
     "output_type": "execute_result"
    }
   ],
   "source": [
    "index = 11\n",
    "data = training_data[index]\n",
    "training_data_labels[index]"
   ]
  },
  {
   "cell_type": "code",
   "execution_count": 39,
   "metadata": {},
   "outputs": [
    {
     "data": {
      "text/plain": [
       "(159, 1120)"
      ]
     },
     "execution_count": 39,
     "metadata": {},
     "output_type": "execute_result"
    }
   ],
   "source": [
    "data.shape"
   ]
  },
  {
   "cell_type": "code",
   "execution_count": 40,
   "metadata": {
    "collapsed": true
   },
   "outputs": [],
   "source": [
    "vocab_size = data.shape[1]"
   ]
  },
  {
   "cell_type": "code",
   "execution_count": 41,
   "metadata": {},
   "outputs": [
    {
     "data": {
      "text/plain": [
       "array([1071,   91,  219,  347, 1071,  603,   94,  731,  222,  859,  350,\n",
       "       1071,  606,   99,  734,  227,  862,  355, 1071,  611,  101,  739,\n",
       "        229,  867,  357, 1071,  613,   99,  741,  227,  869,  355, 1071,\n",
       "        611,  739,  867, 1071,   87,  215,  343, 1071,  599,   91,  727,\n",
       "        219,  855,  347, 1071,  603,   96,  731,  224,  859,  352, 1071,\n",
       "        608,   98,  736,  226,  864,  354, 1071,  610,   96,  738,  224,\n",
       "        866,  352, 1071,  608,  736,  864, 1071,   85,  213,  341, 1071,\n",
       "        597,   89,  725,  217,  853,  345, 1071,  601,   94,  729,  222,\n",
       "        857,  350, 1071,  606,   96,  734,  224,  862,  352, 1071,  608,\n",
       "         94])"
      ]
     },
     "execution_count": 41,
     "metadata": {},
     "output_type": "execute_result"
    }
   ],
   "source": [
    "labels = data.dot(range(vocab_size))\n",
    "labels[:100]"
   ]
  },
  {
   "cell_type": "code",
   "execution_count": 43,
   "metadata": {},
   "outputs": [
    {
     "data": {
      "image/png": "[encoded data removed]",
      "text/plain": [
       "<matplotlib.figure.Figure at 0x160cc0f36a0>"
      ]
     },
     "metadata": {},
     "output_type": "display_data"
    }
   ],
   "source": [
    "N = 100\n",
    "plt.scatter(range(N), labels[:N])\n",
    "plt.show()"
   ]
  },
  {
   "cell_type": "code",
   "execution_count": 44,
   "metadata": {},
   "outputs": [
    {
     "data": {
      "image/png": "[encoded data removed]",
      "text/plain": [
       "<matplotlib.figure.Figure at 0x160cc3e37b8>"
      ]
     },
     "metadata": {},
     "output_type": "display_data"
    }
   ],
   "source": [
    "plt.hist(labels, bins=100)\n",
    "plt.yscale('log')\n",
    "plt.show()"
   ]
  },
  {
   "cell_type": "markdown",
   "metadata": {},
   "source": [
    "### Recover original file"
   ]
  },
  {
   "cell_type": "code",
   "execution_count": 45,
   "metadata": {
    "collapsed": true
   },
   "outputs": [],
   "source": [
    "def get_track_sequences(vector_sequence):\n",
    "    \"\"\"Get note sequences for each track from vector sequence output from RNN.\n",
    "\n",
    "    Args:\n",
    "       vector_sequence: List of one-hot vectors containing 128 * NUM_TRACKS note_on events, 128 * NUM_TRACKS note_off events,\n",
    "        and NUM_TIMESHIFTS timeshift events in intervals of 1/96 of a beat each.\n",
    "       \n",
    "    Returns:\n",
    "        List of track vector sequences.\n",
    "    \"\"\"\n",
    "    track_sequences = [[] for _ in range(NUM_TRACKS)]\n",
    "    start_time = 0\n",
    "    for vector in vector_sequence:\n",
    "        index = vector.index(1)\n",
    "        # vector is a time event.\n",
    "        if index >= NUM_MIDI_PITCHES * 2 * NUM_TRACKS:\n",
    "            num_beats = (index - NUM_MIDI_PITCHES * 2 * NUM_TRACKS + 1) / NUM_TIMESHIFTS\n",
    "            start_time += num_beats\n",
    "        else:\n",
    "            # vector is a note_off event.\n",
    "            if index >= NUM_MIDI_PITCHES * NUM_TRACKS:\n",
    "                note_type = 'note_off'\n",
    "                index -= NUM_MIDI_PITCHES * NUM_TRACKS\n",
    "            # vector is a note_on event.\n",
    "            else:\n",
    "                note_type = 'note_on'\n",
    "            track_num = int(index / NUM_MIDI_PITCHES)\n",
    "            note = index % NUM_MIDI_PITCHES\n",
    "            track_sequences[track_num].append({\"type\": note_type, \"note\": note, \"start_time\": start_time})\n",
    "            time_delay = 0\n",
    "            \n",
    "    return track_sequences"
   ]
  },
  {
   "cell_type": "code",
   "execution_count": 46,
   "metadata": {
    "collapsed": true
   },
   "outputs": [],
   "source": [
    "def get_midi_from_vector_sequence(track_sequences):\n",
    "    \"\"\"Get midi from track sequences.\n",
    "\n",
    "    Args:\n",
    "       track_sequences: List of vector sequences for each track.\n",
    "       \n",
    "    Returns:\n",
    "        MidiFile object.\n",
    "    \"\"\"\n",
    "    mid = mido.MidiFile()\n",
    "    tracks = [mido.MidiTrack() for _ in range(NUM_TRACKS)]\n",
    "    mid.tracks.extend(tracks)\n",
    "\n",
    "    for i, ts in enumerate(track_sequences):\n",
    "        prev_start_time = 0\n",
    "        for event in ts:\n",
    "            time = event[\"start_time\"] - prev_start_time\n",
    "            prev_start_time = event[\"start_time\"]\n",
    "            # I picked a random number for velocity.\n",
    "            mid.tracks[i].append(mido.Message(event[\"type\"], note=event[\"note\"], velocity=50,\n",
    "                                              time=int(time * TICKS_PER_BEAT)))\n",
    "    \n",
    "    return mid"
   ]
  },
  {
   "cell_type": "code",
   "execution_count": 47,
   "metadata": {
    "scrolled": true
   },
   "outputs": [
    {
     "data": {
      "text/plain": [
       "[{'note': 91, 'start_time': 0.5, 'type': 'note_on'},\n",
       " {'note': 91, 'start_time': 1.0, 'type': 'note_off'},\n",
       " {'note': 94, 'start_time': 1.0, 'type': 'note_on'},\n",
       " {'note': 94, 'start_time': 1.5, 'type': 'note_off'},\n",
       " {'note': 99, 'start_time': 1.5, 'type': 'note_on'},\n",
       " {'note': 99, 'start_time': 2.0, 'type': 'note_off'},\n",
       " {'note': 101, 'start_time': 2.0, 'type': 'note_on'},\n",
       " {'note': 101, 'start_time': 2.5, 'type': 'note_off'},\n",
       " {'note': 99, 'start_time': 2.5, 'type': 'note_on'},\n",
       " {'note': 99, 'start_time': 3.0, 'type': 'note_off'},\n",
       " {'note': 87, 'start_time': 3.5, 'type': 'note_on'},\n",
       " {'note': 87, 'start_time': 4.0, 'type': 'note_off'},\n",
       " {'note': 91, 'start_time': 4.0, 'type': 'note_on'},\n",
       " {'note': 91, 'start_time': 4.5, 'type': 'note_off'},\n",
       " {'note': 96, 'start_time': 4.5, 'type': 'note_on'},\n",
       " {'note': 96, 'start_time': 5.0, 'type': 'note_off'},\n",
       " {'note': 98, 'start_time': 5.0, 'type': 'note_on'},\n",
       " {'note': 98, 'start_time': 5.5, 'type': 'note_off'},\n",
       " {'note': 96, 'start_time': 5.5, 'type': 'note_on'},\n",
       " {'note': 96, 'start_time': 6.0, 'type': 'note_off'},\n",
       " {'note': 85, 'start_time': 6.5, 'type': 'note_on'},\n",
       " {'note': 85, 'start_time': 7.0, 'type': 'note_off'},\n",
       " {'note': 89, 'start_time': 7.0, 'type': 'note_on'},\n",
       " {'note': 89, 'start_time': 7.5, 'type': 'note_off'},\n",
       " {'note': 94, 'start_time': 7.5, 'type': 'note_on'},\n",
       " {'note': 94, 'start_time': 8.0, 'type': 'note_off'},\n",
       " {'note': 96, 'start_time': 8.0, 'type': 'note_on'},\n",
       " {'note': 96, 'start_time': 8.5, 'type': 'note_off'},\n",
       " {'note': 94, 'start_time': 8.5, 'type': 'note_on'},\n",
       " {'note': 94, 'start_time': 9.0, 'type': 'note_off'},\n",
       " {'note': 92, 'start_time': 9.0, 'type': 'note_on'},\n",
       " {'note': 92, 'start_time': 9.5, 'type': 'note_off'},\n",
       " {'note': 91, 'start_time': 9.5, 'type': 'note_on'},\n",
       " {'note': 91, 'start_time': 10.0, 'type': 'note_off'},\n",
       " {'note': 94, 'start_time': 10.0, 'type': 'note_on'},\n",
       " {'note': 94, 'start_time': 10.5, 'type': 'note_off'},\n",
       " {'note': 97, 'start_time': 10.5, 'type': 'note_on'},\n",
       " {'note': 97, 'start_time': 11.0, 'type': 'note_off'},\n",
       " {'note': 101, 'start_time': 11.0, 'type': 'note_on'},\n",
       " {'note': 101, 'start_time': 11.5, 'type': 'note_off'},\n",
       " {'note': 104, 'start_time': 11.5, 'type': 'note_on'},\n",
       " {'note': 104, 'start_time': 12.0, 'type': 'note_off'},\n",
       " {'note': 106, 'start_time': 12.0, 'type': 'note_on'},\n",
       " {'note': 106, 'start_time': 15.0, 'type': 'note_off'}]"
      ]
     },
     "execution_count": 47,
     "metadata": {},
     "output_type": "execute_result"
    }
   ],
   "source": [
    "track_sequence = get_track_sequences([list(x) for x in data])\n",
    "track_sequence[1]"
   ]
  },
  {
   "cell_type": "code",
   "execution_count": 48,
   "metadata": {},
   "outputs": [
    {
     "data": {
      "text/plain": [
       "<midi file None type 1, 4 tracks, 132 messages>"
      ]
     },
     "execution_count": 48,
     "metadata": {},
     "output_type": "execute_result"
    }
   ],
   "source": [
    "midi = get_midi_from_vector_sequence(track_sequence)\n",
    "midi"
   ]
  },
  {
   "cell_type": "code",
   "execution_count": 51,
   "metadata": {
    "collapsed": true
   },
   "outputs": [],
   "source": [
    "midi.save(\"test.mid\")"
   ]
  }
 ],
 "metadata": {
  "kernelspec": {
   "display_name": "Python 3",
   "language": "python",
   "name": "python3"
  },
  "language_info": {
   "codemirror_mode": {
    "name": "ipython",
    "version": 3
   },
   "file_extension": ".py",
   "mimetype": "text/x-python",
   "name": "python",
   "nbconvert_exporter": "python",
   "pygments_lexer": "ipython3",
   "version": "3.6.2"
  }
 },
 "nbformat": 4,
 "nbformat_minor": 2
}
